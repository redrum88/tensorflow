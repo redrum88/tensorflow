{
  "nbformat": 4,
  "nbformat_minor": 0,
  "metadata": {
    "colab": {
      "provenance": [],
      "authorship_tag": "ABX9TyNF7xInPX5vgBilJzKcaJoy",
      "include_colab_link": true
    },
    "kernelspec": {
      "name": "python3",
      "display_name": "Python 3"
    },
    "language_info": {
      "name": "python"
    },
    "accelerator": "GPU",
    "gpuClass": "standard"
  },
  "cells": [
    {
      "cell_type": "markdown",
      "metadata": {
        "id": "view-in-github",
        "colab_type": "text"
      },
      "source": [
        "<a href=\"https://colab.research.google.com/github/redrum88/tensorflow/blob/main/10_time_series_forecasting_with_tensorflow_video.ipynb\" target=\"_parent\"><img src=\"https://colab.research.google.com/assets/colab-badge.svg\" alt=\"Open In Colab\"/></a>"
      ]
    },
    {
      "cell_type": "markdown",
      "source": [
        "# Time series forecasting fundamentals with TensorFlow + Milestone Project 3: BitPredict 💰📈\n",
        "\n",
        "Let's write some TensorFlow code to predict the price of Bitcoin based on the historical price of Bitcoin.\n",
        "\n",
        "⚠️ **Note:** This is not financial advice.\n",
        "\n",
        "Links:\n",
        "* All resources: https://github.com/mrdbourke/tensorflow-deep-learning\n",
        "* Book version of actual code/text: https://dev.mrdbourke.com/tensorflow-deep-learning/10_time_series_forecasting_in_tensorflow/"
      ],
      "metadata": {
        "id": "ey-gL1ik3vdM"
      }
    },
    {
      "cell_type": "markdown",
      "source": [
        "## Get data"
      ],
      "metadata": {
        "id": "Vh9-NGJ1Loia"
      }
    },
    {
      "cell_type": "code",
      "source": [
        "!wget https://raw.githubusercontent.com/mrdbourke/tensorflow-deep-learning/main/extras/BTC_USD_2013-10-01_2021-05-18-CoinDesk.csv"
      ],
      "metadata": {
        "colab": {
          "base_uri": "https://localhost:8080/"
        },
        "id": "RVf7ux70MIyk",
        "outputId": "65ba109c-aeec-43eb-cfc9-d1d053f315eb"
      },
      "execution_count": 1,
      "outputs": [
        {
          "output_type": "stream",
          "name": "stdout",
          "text": [
            "--2023-03-07 18:10:55--  https://raw.githubusercontent.com/mrdbourke/tensorflow-deep-learning/main/extras/BTC_USD_2013-10-01_2021-05-18-CoinDesk.csv\n",
            "Resolving raw.githubusercontent.com (raw.githubusercontent.com)... 185.199.109.133, 185.199.110.133, 185.199.108.133, ...\n",
            "Connecting to raw.githubusercontent.com (raw.githubusercontent.com)|185.199.109.133|:443... connected.\n",
            "HTTP request sent, awaiting response... 200 OK\n",
            "Length: 178509 (174K) [text/plain]\n",
            "Saving to: ‘BTC_USD_2013-10-01_2021-05-18-CoinDesk.csv’\n",
            "\n",
            "BTC_USD_2013-10-01_ 100%[===================>] 174.33K  --.-KB/s    in 0.01s   \n",
            "\n",
            "2023-03-07 18:10:56 (13.5 MB/s) - ‘BTC_USD_2013-10-01_2021-05-18-CoinDesk.csv’ saved [178509/178509]\n",
            "\n"
          ]
        }
      ]
    },
    {
      "cell_type": "markdown",
      "source": [
        "## Importing time series with pandas"
      ],
      "metadata": {
        "id": "Ku7JJi7vQehf"
      }
    },
    {
      "cell_type": "code",
      "source": [
        "# Import with pandas\n",
        "import pandas as pd\n",
        "# Let's read in our Bitcoin data and parse the dates\n",
        "df = pd.read_csv(\"/content/BTC_USD_2013-10-01_2021-05-18-CoinDesk.csv\",\n",
        "                 parse_dates=[\"Date\"],\n",
        "                 index_col=[\"Date\"])\n",
        "df.head()"
      ],
      "metadata": {
        "colab": {
          "base_uri": "https://localhost:8080/",
          "height": 238
        },
        "id": "gmH5iJVzQi5i",
        "outputId": "ef29b90c-cbbf-406f-e7e5-a766347900f2"
      },
      "execution_count": 2,
      "outputs": [
        {
          "output_type": "execute_result",
          "data": {
            "text/plain": [
              "           Currency  Closing Price (USD)  24h Open (USD)  24h High (USD)  \\\n",
              "Date                                                                       \n",
              "2013-10-01      BTC            123.65499       124.30466       124.75166   \n",
              "2013-10-02      BTC            125.45500       123.65499       125.75850   \n",
              "2013-10-03      BTC            108.58483       125.45500       125.66566   \n",
              "2013-10-04      BTC            118.67466       108.58483       118.67500   \n",
              "2013-10-05      BTC            121.33866       118.67466       121.93633   \n",
              "\n",
              "            24h Low (USD)  \n",
              "Date                       \n",
              "2013-10-01      122.56349  \n",
              "2013-10-02      123.63383  \n",
              "2013-10-03       83.32833  \n",
              "2013-10-04      107.05816  \n",
              "2013-10-05      118.00566  "
            ],
            "text/html": [
              "\n",
              "  <div id=\"df-b61a7c28-3681-4ad5-9c32-f4aa6429a0dd\">\n",
              "    <div class=\"colab-df-container\">\n",
              "      <div>\n",
              "<style scoped>\n",
              "    .dataframe tbody tr th:only-of-type {\n",
              "        vertical-align: middle;\n",
              "    }\n",
              "\n",
              "    .dataframe tbody tr th {\n",
              "        vertical-align: top;\n",
              "    }\n",
              "\n",
              "    .dataframe thead th {\n",
              "        text-align: right;\n",
              "    }\n",
              "</style>\n",
              "<table border=\"1\" class=\"dataframe\">\n",
              "  <thead>\n",
              "    <tr style=\"text-align: right;\">\n",
              "      <th></th>\n",
              "      <th>Currency</th>\n",
              "      <th>Closing Price (USD)</th>\n",
              "      <th>24h Open (USD)</th>\n",
              "      <th>24h High (USD)</th>\n",
              "      <th>24h Low (USD)</th>\n",
              "    </tr>\n",
              "    <tr>\n",
              "      <th>Date</th>\n",
              "      <th></th>\n",
              "      <th></th>\n",
              "      <th></th>\n",
              "      <th></th>\n",
              "      <th></th>\n",
              "    </tr>\n",
              "  </thead>\n",
              "  <tbody>\n",
              "    <tr>\n",
              "      <th>2013-10-01</th>\n",
              "      <td>BTC</td>\n",
              "      <td>123.65499</td>\n",
              "      <td>124.30466</td>\n",
              "      <td>124.75166</td>\n",
              "      <td>122.56349</td>\n",
              "    </tr>\n",
              "    <tr>\n",
              "      <th>2013-10-02</th>\n",
              "      <td>BTC</td>\n",
              "      <td>125.45500</td>\n",
              "      <td>123.65499</td>\n",
              "      <td>125.75850</td>\n",
              "      <td>123.63383</td>\n",
              "    </tr>\n",
              "    <tr>\n",
              "      <th>2013-10-03</th>\n",
              "      <td>BTC</td>\n",
              "      <td>108.58483</td>\n",
              "      <td>125.45500</td>\n",
              "      <td>125.66566</td>\n",
              "      <td>83.32833</td>\n",
              "    </tr>\n",
              "    <tr>\n",
              "      <th>2013-10-04</th>\n",
              "      <td>BTC</td>\n",
              "      <td>118.67466</td>\n",
              "      <td>108.58483</td>\n",
              "      <td>118.67500</td>\n",
              "      <td>107.05816</td>\n",
              "    </tr>\n",
              "    <tr>\n",
              "      <th>2013-10-05</th>\n",
              "      <td>BTC</td>\n",
              "      <td>121.33866</td>\n",
              "      <td>118.67466</td>\n",
              "      <td>121.93633</td>\n",
              "      <td>118.00566</td>\n",
              "    </tr>\n",
              "  </tbody>\n",
              "</table>\n",
              "</div>\n",
              "      <button class=\"colab-df-convert\" onclick=\"convertToInteractive('df-b61a7c28-3681-4ad5-9c32-f4aa6429a0dd')\"\n",
              "              title=\"Convert this dataframe to an interactive table.\"\n",
              "              style=\"display:none;\">\n",
              "        \n",
              "  <svg xmlns=\"http://www.w3.org/2000/svg\" height=\"24px\"viewBox=\"0 0 24 24\"\n",
              "       width=\"24px\">\n",
              "    <path d=\"M0 0h24v24H0V0z\" fill=\"none\"/>\n",
              "    <path d=\"M18.56 5.44l.94 2.06.94-2.06 2.06-.94-2.06-.94-.94-2.06-.94 2.06-2.06.94zm-11 1L8.5 8.5l.94-2.06 2.06-.94-2.06-.94L8.5 2.5l-.94 2.06-2.06.94zm10 10l.94 2.06.94-2.06 2.06-.94-2.06-.94-.94-2.06-.94 2.06-2.06.94z\"/><path d=\"M17.41 7.96l-1.37-1.37c-.4-.4-.92-.59-1.43-.59-.52 0-1.04.2-1.43.59L10.3 9.45l-7.72 7.72c-.78.78-.78 2.05 0 2.83L4 21.41c.39.39.9.59 1.41.59.51 0 1.02-.2 1.41-.59l7.78-7.78 2.81-2.81c.8-.78.8-2.07 0-2.86zM5.41 20L4 18.59l7.72-7.72 1.47 1.35L5.41 20z\"/>\n",
              "  </svg>\n",
              "      </button>\n",
              "      \n",
              "  <style>\n",
              "    .colab-df-container {\n",
              "      display:flex;\n",
              "      flex-wrap:wrap;\n",
              "      gap: 12px;\n",
              "    }\n",
              "\n",
              "    .colab-df-convert {\n",
              "      background-color: #E8F0FE;\n",
              "      border: none;\n",
              "      border-radius: 50%;\n",
              "      cursor: pointer;\n",
              "      display: none;\n",
              "      fill: #1967D2;\n",
              "      height: 32px;\n",
              "      padding: 0 0 0 0;\n",
              "      width: 32px;\n",
              "    }\n",
              "\n",
              "    .colab-df-convert:hover {\n",
              "      background-color: #E2EBFA;\n",
              "      box-shadow: 0px 1px 2px rgba(60, 64, 67, 0.3), 0px 1px 3px 1px rgba(60, 64, 67, 0.15);\n",
              "      fill: #174EA6;\n",
              "    }\n",
              "\n",
              "    [theme=dark] .colab-df-convert {\n",
              "      background-color: #3B4455;\n",
              "      fill: #D2E3FC;\n",
              "    }\n",
              "\n",
              "    [theme=dark] .colab-df-convert:hover {\n",
              "      background-color: #434B5C;\n",
              "      box-shadow: 0px 1px 3px 1px rgba(0, 0, 0, 0.15);\n",
              "      filter: drop-shadow(0px 1px 2px rgba(0, 0, 0, 0.3));\n",
              "      fill: #FFFFFF;\n",
              "    }\n",
              "  </style>\n",
              "\n",
              "      <script>\n",
              "        const buttonEl =\n",
              "          document.querySelector('#df-b61a7c28-3681-4ad5-9c32-f4aa6429a0dd button.colab-df-convert');\n",
              "        buttonEl.style.display =\n",
              "          google.colab.kernel.accessAllowed ? 'block' : 'none';\n",
              "\n",
              "        async function convertToInteractive(key) {\n",
              "          const element = document.querySelector('#df-b61a7c28-3681-4ad5-9c32-f4aa6429a0dd');\n",
              "          const dataTable =\n",
              "            await google.colab.kernel.invokeFunction('convertToInteractive',\n",
              "                                                     [key], {});\n",
              "          if (!dataTable) return;\n",
              "\n",
              "          const docLinkHtml = 'Like what you see? Visit the ' +\n",
              "            '<a target=\"_blank\" href=https://colab.research.google.com/notebooks/data_table.ipynb>data table notebook</a>'\n",
              "            + ' to learn more about interactive tables.';\n",
              "          element.innerHTML = '';\n",
              "          dataTable['output_type'] = 'display_data';\n",
              "          await google.colab.output.renderOutput(dataTable, element);\n",
              "          const docLink = document.createElement('div');\n",
              "          docLink.innerHTML = docLinkHtml;\n",
              "          element.appendChild(docLink);\n",
              "        }\n",
              "      </script>\n",
              "    </div>\n",
              "  </div>\n",
              "  "
            ]
          },
          "metadata": {},
          "execution_count": 2
        }
      ]
    },
    {
      "cell_type": "code",
      "source": [
        "df.info()"
      ],
      "metadata": {
        "colab": {
          "base_uri": "https://localhost:8080/"
        },
        "id": "-YECFPH0RXuw",
        "outputId": "696efaee-bd07-4c4b-df33-87e55bb8ecd4"
      },
      "execution_count": 3,
      "outputs": [
        {
          "output_type": "stream",
          "name": "stdout",
          "text": [
            "<class 'pandas.core.frame.DataFrame'>\n",
            "DatetimeIndex: 2787 entries, 2013-10-01 to 2021-05-18\n",
            "Data columns (total 5 columns):\n",
            " #   Column               Non-Null Count  Dtype  \n",
            "---  ------               --------------  -----  \n",
            " 0   Currency             2787 non-null   object \n",
            " 1   Closing Price (USD)  2787 non-null   float64\n",
            " 2   24h Open (USD)       2787 non-null   float64\n",
            " 3   24h High (USD)       2787 non-null   float64\n",
            " 4   24h Low (USD)        2787 non-null   float64\n",
            "dtypes: float64(4), object(1)\n",
            "memory usage: 130.6+ KB\n"
          ]
        }
      ]
    },
    {
      "cell_type": "markdown",
      "source": [
        "We've collected the historical price of Bitcoin for the past 8 years but there's 2787 samples.\n",
        "\n",
        "Typically deep learning models usually like lots and lots and lots of samples.\n",
        "\n",
        "A smaller number of samples is something you'll often run into  with time series data problems. \n",
        "\n",
        "> 🔑 **Note:** The **seasonality** of time series dataset is referred as the number of samples per year. So for our Bitcoin data, it has a seasonality of daily or value of 365 because we collect one sample per day meaning we'll get 365 samples per year.\n",
        "\n"
      ],
      "metadata": {
        "id": "S-BegIE8RdkB"
      }
    },
    {
      "cell_type": "code",
      "source": [
        "# Only want closing price for each day\n",
        "bitcoin_prices = pd.DataFrame(df[\"Closing Price (USD)\"]).rename(columns={\"Closing Price (USD)\": \"Price\"})\n",
        "bitcoin_prices.head()"
      ],
      "metadata": {
        "colab": {
          "base_uri": "https://localhost:8080/",
          "height": 238
        },
        "id": "DQSLlynVWCjR",
        "outputId": "d6eecf72-4a9c-40d2-a3e0-b2080c873d60"
      },
      "execution_count": 4,
      "outputs": [
        {
          "output_type": "execute_result",
          "data": {
            "text/plain": [
              "                Price\n",
              "Date                 \n",
              "2013-10-01  123.65499\n",
              "2013-10-02  125.45500\n",
              "2013-10-03  108.58483\n",
              "2013-10-04  118.67466\n",
              "2013-10-05  121.33866"
            ],
            "text/html": [
              "\n",
              "  <div id=\"df-2187f68f-c6b8-4e7d-a7f2-639b9e3978e5\">\n",
              "    <div class=\"colab-df-container\">\n",
              "      <div>\n",
              "<style scoped>\n",
              "    .dataframe tbody tr th:only-of-type {\n",
              "        vertical-align: middle;\n",
              "    }\n",
              "\n",
              "    .dataframe tbody tr th {\n",
              "        vertical-align: top;\n",
              "    }\n",
              "\n",
              "    .dataframe thead th {\n",
              "        text-align: right;\n",
              "    }\n",
              "</style>\n",
              "<table border=\"1\" class=\"dataframe\">\n",
              "  <thead>\n",
              "    <tr style=\"text-align: right;\">\n",
              "      <th></th>\n",
              "      <th>Price</th>\n",
              "    </tr>\n",
              "    <tr>\n",
              "      <th>Date</th>\n",
              "      <th></th>\n",
              "    </tr>\n",
              "  </thead>\n",
              "  <tbody>\n",
              "    <tr>\n",
              "      <th>2013-10-01</th>\n",
              "      <td>123.65499</td>\n",
              "    </tr>\n",
              "    <tr>\n",
              "      <th>2013-10-02</th>\n",
              "      <td>125.45500</td>\n",
              "    </tr>\n",
              "    <tr>\n",
              "      <th>2013-10-03</th>\n",
              "      <td>108.58483</td>\n",
              "    </tr>\n",
              "    <tr>\n",
              "      <th>2013-10-04</th>\n",
              "      <td>118.67466</td>\n",
              "    </tr>\n",
              "    <tr>\n",
              "      <th>2013-10-05</th>\n",
              "      <td>121.33866</td>\n",
              "    </tr>\n",
              "  </tbody>\n",
              "</table>\n",
              "</div>\n",
              "      <button class=\"colab-df-convert\" onclick=\"convertToInteractive('df-2187f68f-c6b8-4e7d-a7f2-639b9e3978e5')\"\n",
              "              title=\"Convert this dataframe to an interactive table.\"\n",
              "              style=\"display:none;\">\n",
              "        \n",
              "  <svg xmlns=\"http://www.w3.org/2000/svg\" height=\"24px\"viewBox=\"0 0 24 24\"\n",
              "       width=\"24px\">\n",
              "    <path d=\"M0 0h24v24H0V0z\" fill=\"none\"/>\n",
              "    <path d=\"M18.56 5.44l.94 2.06.94-2.06 2.06-.94-2.06-.94-.94-2.06-.94 2.06-2.06.94zm-11 1L8.5 8.5l.94-2.06 2.06-.94-2.06-.94L8.5 2.5l-.94 2.06-2.06.94zm10 10l.94 2.06.94-2.06 2.06-.94-2.06-.94-.94-2.06-.94 2.06-2.06.94z\"/><path d=\"M17.41 7.96l-1.37-1.37c-.4-.4-.92-.59-1.43-.59-.52 0-1.04.2-1.43.59L10.3 9.45l-7.72 7.72c-.78.78-.78 2.05 0 2.83L4 21.41c.39.39.9.59 1.41.59.51 0 1.02-.2 1.41-.59l7.78-7.78 2.81-2.81c.8-.78.8-2.07 0-2.86zM5.41 20L4 18.59l7.72-7.72 1.47 1.35L5.41 20z\"/>\n",
              "  </svg>\n",
              "      </button>\n",
              "      \n",
              "  <style>\n",
              "    .colab-df-container {\n",
              "      display:flex;\n",
              "      flex-wrap:wrap;\n",
              "      gap: 12px;\n",
              "    }\n",
              "\n",
              "    .colab-df-convert {\n",
              "      background-color: #E8F0FE;\n",
              "      border: none;\n",
              "      border-radius: 50%;\n",
              "      cursor: pointer;\n",
              "      display: none;\n",
              "      fill: #1967D2;\n",
              "      height: 32px;\n",
              "      padding: 0 0 0 0;\n",
              "      width: 32px;\n",
              "    }\n",
              "\n",
              "    .colab-df-convert:hover {\n",
              "      background-color: #E2EBFA;\n",
              "      box-shadow: 0px 1px 2px rgba(60, 64, 67, 0.3), 0px 1px 3px 1px rgba(60, 64, 67, 0.15);\n",
              "      fill: #174EA6;\n",
              "    }\n",
              "\n",
              "    [theme=dark] .colab-df-convert {\n",
              "      background-color: #3B4455;\n",
              "      fill: #D2E3FC;\n",
              "    }\n",
              "\n",
              "    [theme=dark] .colab-df-convert:hover {\n",
              "      background-color: #434B5C;\n",
              "      box-shadow: 0px 1px 3px 1px rgba(0, 0, 0, 0.15);\n",
              "      filter: drop-shadow(0px 1px 2px rgba(0, 0, 0, 0.3));\n",
              "      fill: #FFFFFF;\n",
              "    }\n",
              "  </style>\n",
              "\n",
              "      <script>\n",
              "        const buttonEl =\n",
              "          document.querySelector('#df-2187f68f-c6b8-4e7d-a7f2-639b9e3978e5 button.colab-df-convert');\n",
              "        buttonEl.style.display =\n",
              "          google.colab.kernel.accessAllowed ? 'block' : 'none';\n",
              "\n",
              "        async function convertToInteractive(key) {\n",
              "          const element = document.querySelector('#df-2187f68f-c6b8-4e7d-a7f2-639b9e3978e5');\n",
              "          const dataTable =\n",
              "            await google.colab.kernel.invokeFunction('convertToInteractive',\n",
              "                                                     [key], {});\n",
              "          if (!dataTable) return;\n",
              "\n",
              "          const docLinkHtml = 'Like what you see? Visit the ' +\n",
              "            '<a target=\"_blank\" href=https://colab.research.google.com/notebooks/data_table.ipynb>data table notebook</a>'\n",
              "            + ' to learn more about interactive tables.';\n",
              "          element.innerHTML = '';\n",
              "          dataTable['output_type'] = 'display_data';\n",
              "          await google.colab.output.renderOutput(dataTable, element);\n",
              "          const docLink = document.createElement('div');\n",
              "          docLink.innerHTML = docLinkHtml;\n",
              "          element.appendChild(docLink);\n",
              "        }\n",
              "      </script>\n",
              "    </div>\n",
              "  </div>\n",
              "  "
            ]
          },
          "metadata": {},
          "execution_count": 4
        }
      ]
    },
    {
      "cell_type": "code",
      "source": [
        "import matplotlib.pyplot as plt\n",
        "bitcoin_prices.plot(figsize=(10, 7))\n",
        "plt.ylabel(\"BTC Price\")\n",
        "plt.title(\"Price of Bitcoin from 1 Oct 2013 to 18 May 2021\", fontsize=16)\n",
        "plt.legend(fontsize=14);"
      ],
      "metadata": {
        "colab": {
          "base_uri": "https://localhost:8080/",
          "height": 460
        },
        "id": "PaEdsJDZYYi-",
        "outputId": "5325c1d5-d8e8-4b1a-a8ff-52d33a6b90cb"
      },
      "execution_count": 5,
      "outputs": [
        {
          "output_type": "display_data",
          "data": {
            "text/plain": [
              "<Figure size 720x504 with 1 Axes>"
            ],
            "image/png": "[encoded data removed]"
          },
          "metadata": {
            "needs_background": "light"
          }
        }
      ]
    },
    {
      "cell_type": "markdown",
      "source": [
        "## Importing time series data with Python's CSV module"
      ],
      "metadata": {
        "id": "P27gftsAYpTr"
      }
    },
    {
      "cell_type": "code",
      "source": [
        "# Importing and formatting historical Bitcoin data with Python\n",
        "import csv\n",
        "from datetime import datetime\n",
        "timesteps = []\n",
        "btc_price = []\n",
        "with open(\"/content/BTC_USD_2013-10-01_2021-05-18-CoinDesk.csv\", \"r\") as f:\n",
        "  csv_reader = csv.reader(f, delimiter=\",\")\n",
        "  next(csv_reader) # skip first line (this gets rid of the column titles)\n",
        "  for line in csv_reader:\n",
        "    timesteps.append(datetime.strptime(line[1], \"%Y-%m-%d\")) # get the dates as dates (not strings)\n",
        "    btc_price.append(float(line[2])) # get the closing price as float\n",
        "\n",
        "# View first 10 of each\n",
        "timesteps[:10], btc_price[:10]"
      ],
      "metadata": {
        "colab": {
          "base_uri": "https://localhost:8080/"
        },
        "id": "fcN6upkkZivz",
        "outputId": "60f7a5d3-4c55-4197-d01c-a32049645eec"
      },
      "execution_count": 6,
      "outputs": [
        {
          "output_type": "execute_result",
          "data": {
            "text/plain": [
              "([datetime.datetime(2013, 10, 1, 0, 0),\n",
              "  datetime.datetime(2013, 10, 2, 0, 0),\n",
              "  datetime.datetime(2013, 10, 3, 0, 0),\n",
              "  datetime.datetime(2013, 10, 4, 0, 0),\n",
              "  datetime.datetime(2013, 10, 5, 0, 0),\n",
              "  datetime.datetime(2013, 10, 6, 0, 0),\n",
              "  datetime.datetime(2013, 10, 7, 0, 0),\n",
              "  datetime.datetime(2013, 10, 8, 0, 0),\n",
              "  datetime.datetime(2013, 10, 9, 0, 0),\n",
              "  datetime.datetime(2013, 10, 10, 0, 0)],\n",
              " [123.65499,\n",
              "  125.455,\n",
              "  108.58483,\n",
              "  118.67466,\n",
              "  121.33866,\n",
              "  120.65533,\n",
              "  121.795,\n",
              "  123.033,\n",
              "  124.049,\n",
              "  125.96116])"
            ]
          },
          "metadata": {},
          "execution_count": 6
        }
      ]
    },
    {
      "cell_type": "code",
      "source": [
        "# Plot from CSV\n",
        "import matplotlib.pyplot as plt\n",
        "import numpy as np\n",
        "plt.figure(figsize=(10, 7))\n",
        "plt.plot(timesteps,\n",
        "         btc_price)\n",
        "plt.ylabel(\"BTC Price\")\n",
        "plt.title(\"Price of Bitcoin from 1 Oct 2013 to 18  May 2021\", fontsize=16)\n",
        "plt.xlabel(\"Date\");\n"
      ],
      "metadata": {
        "colab": {
          "base_uri": "https://localhost:8080/",
          "height": 460
        },
        "id": "oB6we76VVjzP",
        "outputId": "a99a3e67-0493-4ab5-959a-b85e53b403c1"
      },
      "execution_count": 7,
      "outputs": [
        {
          "output_type": "display_data",
          "data": {
            "text/plain": [
              "<Figure size 720x504 with 1 Axes>"
            ],
            "image/png": "[encoded data removed]"
          },
          "metadata": {
            "needs_background": "light"
          }
        }
      ]
    },
    {
      "cell_type": "markdown",
      "source": [
        "## Format data part 1: Create train and test sets of our time series data"
      ],
      "metadata": {
        "id": "Sp-LSHJeZ8sb"
      }
    },
    {
      "cell_type": "markdown",
      "source": [
        "### Creating train and test sets with time series data (the wrong way)"
      ],
      "metadata": {
        "id": "ab3StFjojfDF"
      }
    },
    {
      "cell_type": "code",
      "source": [
        "# Get bitcoin data array\n",
        "timesteps = bitcoin_prices.index.to_numpy()\n",
        "prices = bitcoin_prices[\"Price\"].to_numpy()\n",
        "\n",
        "timesteps[:10], prices[:10]"
      ],
      "metadata": {
        "colab": {
          "base_uri": "https://localhost:8080/"
        },
        "id": "7EHIwEO53v2X",
        "outputId": "3e48b129-d30a-4e8d-e69b-b51db4abc0fc"
      },
      "execution_count": 8,
      "outputs": [
        {
          "output_type": "execute_result",
          "data": {
            "text/plain": [
              "(array(['2013-10-01T00:00:00.000000000', '2013-10-02T00:00:00.000000000',\n",
              "        '2013-10-03T00:00:00.000000000', '2013-10-04T00:00:00.000000000',\n",
              "        '2013-10-05T00:00:00.000000000', '2013-10-06T00:00:00.000000000',\n",
              "        '2013-10-07T00:00:00.000000000', '2013-10-08T00:00:00.000000000',\n",
              "        '2013-10-09T00:00:00.000000000', '2013-10-10T00:00:00.000000000'],\n",
              "       dtype='datetime64[ns]'),\n",
              " array([123.65499, 125.455  , 108.58483, 118.67466, 121.33866, 120.65533,\n",
              "        121.795  , 123.033  , 124.049  , 125.96116]))"
            ]
          },
          "metadata": {},
          "execution_count": 8
        }
      ]
    },
    {
      "cell_type": "code",
      "source": [
        "# Wrong way to make train/test sets for timeseries data\n",
        "from sklearn.model_selection import train_test_split\n",
        "X_train, X_test, y_train, y_test = train_test_split(timesteps,\n",
        "                                                    prices,\n",
        "                                                    test_size=0.2,\n",
        "                                                    random_state=42)\n",
        "\n",
        "X_train.shape, X_test.shape, y_train.shape, y_test.shape"
      ],
      "metadata": {
        "colab": {
          "base_uri": "https://localhost:8080/"
        },
        "id": "3evwJFp44OSM",
        "outputId": "8a4062eb-193b-4cfa-81ba-c40aae9453dd"
      },
      "execution_count": 9,
      "outputs": [
        {
          "output_type": "execute_result",
          "data": {
            "text/plain": [
              "((2229,), (558,), (2229,), (558,))"
            ]
          },
          "metadata": {},
          "execution_count": 9
        }
      ]
    },
    {
      "cell_type": "code",
      "source": [
        "# Let's plot wrong train and test splits\n",
        "plt.figure(figsize=(10, 7))\n",
        "plt.scatter(X_train, y_train, s=5, label=\"Train data\")\n",
        "plt.scatter(X_test, y_test, s=5, label=\"Test data\")\n",
        "plt.xlabel(\"Date\")\n",
        "plt.ylabel(\"BTC Price\")\n",
        "plt.legend(fontsize=14)\n",
        "plt.show();"
      ],
      "metadata": {
        "colab": {
          "base_uri": "https://localhost:8080/",
          "height": 442
        },
        "id": "aUWYnN-p5Io7",
        "outputId": "963f067a-0ea9-4eac-dc78-67b909aa0e38"
      },
      "execution_count": 10,
      "outputs": [
        {
          "output_type": "display_data",
          "data": {
            "text/plain": [
              "<Figure size 720x504 with 1 Axes>"
            ],
            "image/png": "[encoded data removed]"
          },
          "metadata": {
            "needs_background": "light"
          }
        }
      ]
    },
    {
      "cell_type": "markdown",
      "source": [
        "### Create train & test sets for time series (the right way)\n"
      ],
      "metadata": {
        "id": "Bk9_ivJJ9yss"
      }
    },
    {
      "cell_type": "code",
      "source": [
        "# Create train and test splits the right way for time series data\n",
        "split_size = int(0.8 * len(prices)) # 80% train, 20% test\n",
        "\n",
        "# Create train data splits (everything before the split)\n",
        "X_train, y_train = timesteps[:split_size], prices[:split_size]\n",
        "\n",
        "# Create test data splits\n",
        "X_test, y_test = timesteps[split_size:], prices[split_size:]\n",
        "\n",
        "len(X_train), len(X_test), len(y_train), len(y_test)"
      ],
      "metadata": {
        "colab": {
          "base_uri": "https://localhost:8080/"
        },
        "id": "8NPn1MQ7Dakn",
        "outputId": "94bed386-2e17-4dd2-a45e-3524b7fa3dba"
      },
      "execution_count": 11,
      "outputs": [
        {
          "output_type": "execute_result",
          "data": {
            "text/plain": [
              "(2229, 558, 2229, 558)"
            ]
          },
          "metadata": {},
          "execution_count": 11
        }
      ]
    },
    {
      "cell_type": "code",
      "source": [
        "# Plot correctly made splits\n",
        "plt.figure(figsize=(10, 7))\n",
        "plt.scatter(X_train, y_train, s=5, label=\"Train data\")\n",
        "plt.scatter(X_test, y_test, s=5, label=\"Test data\")\n",
        "plt.xlabel(\"Date\")\n",
        "plt.ylabel(\"BTC Price\")\n",
        "plt.legend(fontsize=14)\n",
        "plt.show();"
      ],
      "metadata": {
        "colab": {
          "base_uri": "https://localhost:8080/",
          "height": 442
        },
        "id": "XOYDUY6kEz_Z",
        "outputId": "4655bcc4-076f-4d90-f885-3aef64872ab0"
      },
      "execution_count": 12,
      "outputs": [
        {
          "output_type": "display_data",
          "data": {
            "text/plain": [
              "<Figure size 720x504 with 1 Axes>"
            ],
            "image/png": "[encoded data removed]"
          },
          "metadata": {
            "needs_background": "light"
          }
        }
      ]
    },
    {
      "cell_type": "markdown",
      "source": [
        "## Create a plotting function\n",
        "\n",
        "Typing plotting code is tedious, let's functionize it."
      ],
      "metadata": {
        "id": "rLNYDI53FILe"
      }
    },
    {
      "cell_type": "code",
      "source": [
        "# Create a function to plot time series data\n",
        "def plot_time_series(timesteps, values, format=\".\", start=0, end=None, label=None):\n",
        "  \"\"\"\n",
        "  Plots timesteps (a series of points in time) against values (a series of values across timesteps).\n",
        "\n",
        "  Parameters\n",
        "  ----------\n",
        "  timesteps : array of timestep values\n",
        "  values : array of values across time\n",
        "  format : style of plot, default \".\"\n",
        "  start : where to start the plot (setting a value will index from start of timesteps & values)\n",
        "  end : where to end the plot (similar to start but for the end)\n",
        "  label : label to show on plot about values, default None\n",
        "  \"\"\"\n",
        "  # Plot the series\n",
        "  plt.plot(timesteps[start:end], values[start:end], format, label=label)\n",
        "  plt.xlabel(\"Time\")\n",
        "  plt.ylabel(\"BTC Price\")\n",
        "  if label:\n",
        "    plt.legend(fontsize=14) # make label bigger\n",
        "  plt.grid(True)"
      ],
      "metadata": {
        "id": "CQvE85GEMtSW"
      },
      "execution_count": 13,
      "outputs": []
    },
    {
      "cell_type": "code",
      "source": [
        "# Test out plotting function\n",
        "plt.figure(figsize=(10, 7))\n",
        "plot_time_series(timesteps=X_train, values=y_train, label=\"Train data\")\n",
        "plot_time_series(timesteps=X_test, values=y_test, label=\"Test Data\")"
      ],
      "metadata": {
        "colab": {
          "base_uri": "https://localhost:8080/",
          "height": 442
        },
        "id": "Wid1KY0uQ4tB",
        "outputId": "9c093b28-0a32-41a1-b2bd-b5c14cb6146b"
      },
      "execution_count": 14,
      "outputs": [
        {
          "output_type": "display_data",
          "data": {
            "text/plain": [
              "<Figure size 720x504 with 1 Axes>"
            ],
            "image/png": "[encoded data removed]"
          },
          "metadata": {
            "needs_background": "light"
          }
        }
      ]
    },
    {
      "cell_type": "markdown",
      "source": [
        "## Modelling Experiments\n",
        "\n",
        "We've got some Bitcoin historical data, to model it, let's run a series of modelling experiments and see which model performs best.\n",
        "\n",
        "Terms to be familiar with:\n",
        "* **Horizon** = number of timesteps into the future we're going to predict\n",
        "* **Window size** = number of timesteps we're going to use to predict horizon\n",
        "\n",
        "Modelling experiments we're running:\n",
        "* 0 Naive model (baseline)\n",
        "* 1 Dense model, horizon = 1, window = 7\n",
        "* 2 Same as 1, horizon = 1, window = 30\n",
        "* 3 Same as 1, horizon = 7, window = 30\n",
        "* 4 Conv1D\n",
        "* 5 LSTM\n",
        "* 6 Same as 1 (but with multivariate data)\n",
        "* 7 N-BEATs Algorithm\n",
        "* 8 Ensemble (multiple models optimized on different loss functions)\n",
        "* 9 Future prediction model (model to predict future values)\n",
        "* 10 Same as 1 (but with turkey 🦃 data introduced)\n"
      ],
      "metadata": {
        "id": "0Pike4moRWir"
      }
    },
    {
      "cell_type": "markdown",
      "source": [
        "## Model 0: Naive forecast (baseline)\n",
        "\n",
        "The formula looks like this:\n",
        "\n",
        "$$\\hat{y}_{t} = y_{t-1}$$\n",
        "\n",
        "In English:\n",
        "\n",
        "> The prediction at timestep t (y-hat) is equal to the value at timestep t-1 (previous timestep) - this is for a horizon of 1."
      ],
      "metadata": {
        "id": "X--1zYs-cDra"
      }
    },
    {
      "cell_type": "code",
      "source": [
        "# Create a naive forecast\n",
        "naive_forecast = y_test[:-1]\n",
        "\n",
        "naive_forecast[:10], naive_forecast[-10:]"
      ],
      "metadata": {
        "colab": {
          "base_uri": "https://localhost:8080/"
        },
        "id": "6QNIh1tnqHdO",
        "outputId": "90c04cda-8614-446a-f9d5-7b47539db58f"
      },
      "execution_count": 15,
      "outputs": [
        {
          "output_type": "execute_result",
          "data": {
            "text/plain": [
              "(array([9226.48582088, 8794.35864452, 8798.04205463, 9081.18687849,\n",
              "        8711.53433917, 8760.89271814, 8749.52059102, 8656.97092235,\n",
              "        8500.64355816, 8469.2608989 ]),\n",
              " array([57107.12067189, 58788.20967893, 58102.19142623, 55715.54665129,\n",
              "        56573.5554719 , 52147.82118698, 49764.1320816 , 50032.69313676,\n",
              "        47885.62525472, 45604.61575361]))"
            ]
          },
          "metadata": {},
          "execution_count": 15
        }
      ]
    },
    {
      "cell_type": "code",
      "source": [
        "# Plot naive forecast\n",
        "plt.figure(figsize=(10, 7))\n",
        "# plot_time_series(timesteps=X_train, values=y_train, label=\"Train data\")\n",
        "plot_time_series(timesteps=X_test, values=y_test, start=350, format=\"-\", label=\"Test data\")\n",
        "plot_time_series(timesteps=X_test[1:], values=naive_forecast, start=350, format=\"-\", label=\"Naive forecast\")"
      ],
      "metadata": {
        "colab": {
          "base_uri": "https://localhost:8080/",
          "height": 442
        },
        "id": "Cthk6Ppaw3oE",
        "outputId": "2c6f4024-d0f7-4d3f-af1d-04e3c1e85fcd"
      },
      "execution_count": 16,
      "outputs": [
        {
          "output_type": "display_data",
          "data": {
            "text/plain": [
              "<Figure size 720x504 with 1 Axes>"
            ],
            "image/png": "[encoded data removed]"
          },
          "metadata": {
            "needs_background": "light"
          }
        }
      ]
    },
    {
      "cell_type": "markdown",
      "source": [
        "> ⚒️ **Exercise:** Spend 10 minutes reading the simple forecasts chapter of Forecasting: Principles in Practice. An have a search to find out why the naive forecast is hard to beat, does the term augoregressive come up?"
      ],
      "metadata": {
        "id": "GGJXM4vnx6sS"
      }
    },
    {
      "cell_type": "markdown",
      "source": [
        "from IPython.core.magic import error\n",
        "## Evaluating a time series model\n",
        "\n",
        "Let's take into some evaluation metrics for time series forecasting.\n",
        "\n",
        "What are we doing?\n",
        "\n",
        "We're predicting a number, so that mean we have a form of a regression problem.\n",
        "\n",
        "Because we're working on a regression problem, we'll need some regression-like metrics.\n",
        "\n",
        "A few common regression metrics (which can also be used for time series forecasting):\n",
        "* MAE - mean absolute error\n",
        "* MSE - mean squared error\n",
        "* RSME - root mean suare error\n",
        "* MAPE/sMAPE - (symmetric) mean absolute percentage error\n",
        "+ MASE - mean absolute scaled error\n",
        "\n",
        "For all of the above metrics, **lower is better**, for example, an MAE of 0 that is better than a MAE of 100.\n",
        "\n",
        "The main thing we're evaluating here is: how do our model's forecasts (y_pred) compare against the actual values (y_true or ground truth values)?"
      ],
      "metadata": {
        "id": "euDEMTJkzsSV"
      }
    },
    {
      "cell_type": "code",
      "source": [
        "import tensorflow as tf"
      ],
      "metadata": {
        "id": "r1Bmbj0GdZsv"
      },
      "execution_count": 17,
      "outputs": []
    },
    {
      "cell_type": "code",
      "source": [
        "# MASE implementation\n",
        "def mean_absolute_scaled_error(y_true, y_pred):\n",
        "  \"\"\"\n",
        "  Calculates the mean absolute scaled error (MASE) between true and predicted values.\n",
        "\n",
        "  The MASE measures the relative performance of a forecasting model compared to a naive (naïve2) forecast.\n",
        "  The MASE is a scaling factor that scales the mean absolute error (MAE) of the forecast to account for the scale\n",
        "  of the data and the forecast horizon. A MASE of 1 indicates that the forecasting model performs as well as a\n",
        "  naive forecast, while a MASE < 1 indicates that the model outperforms the naive forecast.\n",
        "\n",
        "  Parameters:\n",
        "      y_true (tf.Tensor): True values of the target variable.\n",
        "      y_pred (tf.Tensor): Predicted values of the target variable.\n",
        "\n",
        "  Returns:\n",
        "      A scalar value representing the MASE between y_true and y_pred.\n",
        "  \"\"\"\n",
        "  mae = tf.reduce_mean(tf.abs(y_true-y_pred))\n",
        "\n",
        "  # Find MAE of naive forecast (no seasonality)\n",
        "  mae_naive_no_season = tf.reduce_mean(tf.abs(y_true[1:] - y_true[:-1])) # our seasonality is 1 day, hence the shift of 1\n",
        "\n",
        "  return mae / mae_naive_no_season"
      ],
      "metadata": {
        "id": "GiK7WLsmdcJs"
      },
      "execution_count": 18,
      "outputs": []
    },
    {
      "cell_type": "code",
      "source": [
        "mean_absolute_scaled_error(y_true=y_test[1:], y_pred=naive_forecast).numpy()"
      ],
      "metadata": {
        "colab": {
          "base_uri": "https://localhost:8080/"
        },
        "id": "-84ZtuQHeTHM",
        "outputId": "56e10c1f-1e22-40f9-c2e6-10079483c3f4"
      },
      "execution_count": 19,
      "outputs": [
        {
          "output_type": "execute_result",
          "data": {
            "text/plain": [
              "0.9995699939182624"
            ]
          },
          "metadata": {},
          "execution_count": 19
        }
      ]
    },
    {
      "cell_type": "code",
      "source": [
        "# Create a function to evaluate model forecasts with various metrics\n",
        "def evaluate_preds(y_true, y_pred):\n",
        "  \"\"\"\n",
        "  Evaluates model predictions with various metrics.\n",
        "\n",
        "  Parameters:\n",
        "      y_true (tf.Tensor): True values of the target variable.\n",
        "      y_pred (tf.Tensor): Predicted values of the target variable.\n",
        "\n",
        "  Returns:\n",
        "      A dictionary of evaluation metrics, including:\n",
        "          - 'mae': mean absolute error\n",
        "          - 'mse': mean squared error\n",
        "          - 'rmse': root mean squared error\n",
        "          - 'mape': mean absolute percentage error\n",
        "          - 'mase': mean absolute scaled error\n",
        "  \"\"\"\n",
        "  # Make sure float32 datatype\n",
        "  y_true = tf.cast(y_true, dtype=tf.float32)\n",
        "  y_pred = tf.cast(y_pred, dtype=tf.float32)\n",
        "\n",
        "  # Calculate various evaluation metrics\n",
        "  mae = tf.keras.metrics.mean_absolute_error(y_true, y_pred)\n",
        "  mse = tf.keras.metrics.mean_squared_error(y_true, y_pred)\n",
        "  rmse = tf.sqrt(mse)\n",
        "  mape = tf.keras.metrics.mean_absolute_percentage_error(y_true, y_pred)\n",
        "  mase = mean_absolute_scaled_error(y_true, y_pred)\n",
        "\n",
        "  return {\"mae\": mae.numpy(),\n",
        "          \"mse\": mse.numpy(),\n",
        "          \"rmse\": rmse.numpy(),\n",
        "          \"mape\": mape.numpy(),\n",
        "          \"mase\": mase.numpy()}"
      ],
      "metadata": {
        "id": "VxmbSWoUeT6Y"
      },
      "execution_count": 20,
      "outputs": []
    },
    {
      "cell_type": "code",
      "source": [
        "naive_results = evaluate_preds(y_true=y_test[1:],\n",
        "                               y_pred=naive_forecast)\n",
        "naive_results"
      ],
      "metadata": {
        "colab": {
          "base_uri": "https://localhost:8080/"
        },
        "id": "DlsSuldHfOB7",
        "outputId": "2f4e91d0-bac4-424d-f35d-fe39359ecb56"
      },
      "execution_count": 21,
      "outputs": [
        {
          "output_type": "execute_result",
          "data": {
            "text/plain": [
              "{'mae': 567.9802,\n",
              " 'mse': 1147547.0,\n",
              " 'rmse': 1071.2362,\n",
              " 'mape': 2.516525,\n",
              " 'mase': 0.99957}"
            ]
          },
          "metadata": {},
          "execution_count": 21
        }
      ]
    },
    {
      "cell_type": "code",
      "source": [
        "naive_forecast[-10:]"
      ],
      "metadata": {
        "colab": {
          "base_uri": "https://localhost:8080/"
        },
        "id": "qaZfP409fU-v",
        "outputId": "35ebfd35-2ebf-4e42-b3fc-61fa3fb7b796"
      },
      "execution_count": 22,
      "outputs": [
        {
          "output_type": "execute_result",
          "data": {
            "text/plain": [
              "array([57107.12067189, 58788.20967893, 58102.19142623, 55715.54665129,\n",
              "       56573.5554719 , 52147.82118698, 49764.1320816 , 50032.69313676,\n",
              "       47885.62525472, 45604.61575361])"
            ]
          },
          "metadata": {},
          "execution_count": 22
        }
      ]
    },
    {
      "cell_type": "code",
      "source": [
        "tf.reduce_mean(y_test)"
      ],
      "metadata": {
        "colab": {
          "base_uri": "https://localhost:8080/"
        },
        "id": "P2pX3P_qnODM",
        "outputId": "f95af02f-df44-4bb2-ee06-20415ee2777e"
      },
      "execution_count": 23,
      "outputs": [
        {
          "output_type": "execute_result",
          "data": {
            "text/plain": [
              "<tf.Tensor: shape=(), dtype=float64, numpy=20056.632963737222>"
            ]
          },
          "metadata": {},
          "execution_count": 23
        }
      ]
    },
    {
      "cell_type": "code",
      "source": [
        "tf.reduce_min(y_test), tf.reduce_max(y_test)"
      ],
      "metadata": {
        "colab": {
          "base_uri": "https://localhost:8080/"
        },
        "id": "sxSWxBzGnT3j",
        "outputId": "a69ee461-8d1f-4a27-e84e-95b229452927"
      },
      "execution_count": 24,
      "outputs": [
        {
          "output_type": "execute_result",
          "data": {
            "text/plain": [
              "(<tf.Tensor: shape=(), dtype=float64, numpy=4944.7023359837>,\n",
              " <tf.Tensor: shape=(), dtype=float64, numpy=63346.7890351052>)"
            ]
          },
          "metadata": {},
          "execution_count": 24
        }
      ]
    },
    {
      "cell_type": "markdown",
      "source": [
        "## Other models you can use for baselines and for actual forecasts\n",
        "\n",
        "In this notebook, we're focused on TensorFlow and deep learning models.\n",
        "\n",
        "However there are plenty of other styles of time series forecasting models you may want to experiment with: https://dev.mrdbourke.com/tensorflow-deep-learning/10_time_series_forecasting_in_tensorflow/#other-kinds-of-time-series-forecasting-models-which-can-be-used-for-baselines-and-actual-forecasts"
      ],
      "metadata": {
        "id": "pB2ExF5gnbY6"
      }
    },
    {
      "cell_type": "markdown",
      "source": [
        "## Format Data Part 2: Windowing our dataset\n",
        "\n",
        "Why do we window?\n",
        "\n",
        "We window our time series dataset to turn our data into a supervised learning problem.\n",
        "\n",
        "```\n",
        "Windowing for one week\n",
        "[0, 1, 2, 3, 4, 5, 6] -> [7]\n",
        "[1, 2, 3, 4, 5, 6, 7] -> [8]\n",
        "[2, 3, 4, 5, 6, 7, 8] -> [9]\n",
        "```"
      ],
      "metadata": {
        "id": "TBVu32eZpJu4"
      }
    },
    {
      "cell_type": "code",
      "source": [
        "len(y_train)"
      ],
      "metadata": {
        "colab": {
          "base_uri": "https://localhost:8080/"
        },
        "id": "p-cAZ0qzxlwu",
        "outputId": "62d8b8be-84f9-4602-80f1-12aa6dde00ec"
      },
      "execution_count": 25,
      "outputs": [
        {
          "output_type": "execute_result",
          "data": {
            "text/plain": [
              "2229"
            ]
          },
          "metadata": {},
          "execution_count": 25
        }
      ]
    },
    {
      "cell_type": "code",
      "source": [
        "# What we want to do with our Bitcoin data\n",
        "print(f\"We want to use: {btc_price[:7]} to predict this: {btc_price[7]}\")"
      ],
      "metadata": {
        "colab": {
          "base_uri": "https://localhost:8080/"
        },
        "id": "VFZIARSVxnQ0",
        "outputId": "9990f873-a787-41e6-b531-3cb9221fe1c1"
      },
      "execution_count": 26,
      "outputs": [
        {
          "output_type": "stream",
          "name": "stdout",
          "text": [
            "We want to use: [123.65499, 125.455, 108.58483, 118.67466, 121.33866, 120.65533, 121.795] to predict this: 123.033\n"
          ]
        }
      ]
    },
    {
      "cell_type": "code",
      "source": [
        "# Let's setup global variables for window and horizon size\n",
        "HORIZON = 1 # predict next 1 day\n",
        "WINDOW_SIZE = 7 # use past week of Bitcoin data to make the prediction\n"
      ],
      "metadata": {
        "id": "CRa4q4GOxv1a"
      },
      "execution_count": 27,
      "outputs": []
    },
    {
      "cell_type": "code",
      "source": [
        "# Create function to label windowed data\n",
        "def get_labelled_windows(x, horizon=HORIZON):\n",
        "  \"\"\"\n",
        "    Given a data matrix 'x', return a pair of matrices containing labelled and windowed segments of the data.\n",
        "\n",
        "    Parameters:\n",
        "        - x (ndarray): A 2-dimensional matrix of shape (T, D), where T is the number of timesteps and\n",
        "          D is the number of dimensions.\n",
        "        - horizon (int): The number of timesteps to include in the window.\n",
        "        \n",
        "    Returns:\n",
        "        - A tuple containing two 2-dimensional matrices of shape (T - horizon, horizon) and (T - horizon, 1),\n",
        "          respectively. The first matrix contains the windowed segments of the input data, and the second matrix\n",
        "          contains the labels that correspond to each window.\n",
        "  \"\"\"\n",
        "  return x[:, :-horizon], x[:, -horizon:]"
      ],
      "metadata": {
        "id": "Jqw3R-9xypF8"
      },
      "execution_count": 28,
      "outputs": []
    },
    {
      "cell_type": "code",
      "source": [
        "# Test out the window labelling function\n",
        "test_window, test_label = get_labelled_windows(tf.expand_dims(tf.range(8)+1, axis=0))\n",
        "print(f\"Window: {tf.squeeze(test_window).numpy()} -> Label: {tf.squeeze(test_label).numpy()}\")"
      ],
      "metadata": {
        "colab": {
          "base_uri": "https://localhost:8080/"
        },
        "id": "J0CR2LYw0Lwr",
        "outputId": "07439498-4fb1-4812-9b22-be2c1111e1b7"
      },
      "execution_count": 29,
      "outputs": [
        {
          "output_type": "stream",
          "name": "stdout",
          "text": [
            "Window: [1 2 3 4 5 6 7] -> Label: 8\n"
          ]
        }
      ]
    },
    {
      "cell_type": "markdown",
      "source": [
        "We've got a way to label our windowed data.\n",
        "\n",
        "However, this only works on a small scale.\n",
        "\n",
        "We need a way to do the above across our entire time series.\n",
        "\n",
        "We could do this with Python for loops, however, for large time series, that'd be quite slow.\n",
        "\n",
        "To speed things up, we'll leverage NumPy's array indexing.\n",
        "\n",
        "Our function will:\n",
        "1. Create a window step of specific window size (e.g. [0, 1, 2, 3, 5, 6])\n",
        "2. Use NumPy indexing to create a 2D array of multiple window steps, for example:\n",
        "```\n",
        "[[0, 1, 2, 3, 5, 6],\n",
        "[1, 2, 3, 5, 6, 7],\n",
        "[2, 3, 5, 6, 7, 8]]\n",
        "```\n",
        "3. Uses the 2D array of multiple window steps (from 2.) to index on a target series (e.g. the historical price of Bitcoin)\n",
        "4. Uses our `get_labelled_windows()` function we created above to turn the window steps into windows with a specified horizon."
      ],
      "metadata": {
        "id": "so_KmcbB0wAX"
      }
    },
    {
      "cell_type": "code",
      "source": [
        "import numpy as np\n",
        "# Create function to view NumPy arrays as windows\n",
        "def make_windows(x, window_size=WINDOW_SIZE, horizon=HORIZON):\n",
        "  \"\"\"\n",
        "  Creates windowed data from a target time series.\n",
        "\n",
        "  Parameters:\n",
        "      - x (ndarray): A 1-dimensional array containing the target time series.\n",
        "      - window_size (int): The size of the window to use to create the data (default: WINDOW_SIZE).\n",
        "      - horizon (int): The number of timesteps into the future to predict (default: HORIZON).\n",
        "\n",
        "  Returns:\n",
        "      - A tuple containing two 2-dimensional arrays of shape (N, window_size) and (N, horizon),\n",
        "        respectively. The first array contains the windowed segments of the input data, and the\n",
        "        second array contains the labels that correspond to each window.\n",
        "\n",
        "  Example usage:\n",
        "  ```python\n",
        "  # Load some example data\n",
        "  target_series = np.loadtxt('target_series.txt')\n",
        "\n",
        "  # Create windowed data with a window size of 30 and a horizon of 1\n",
        "  X, y = make_windows(target_series, window_size=30, horizon=1)\n",
        "  ```\n",
        "  \"\"\"\n",
        "  # 1. Create a window of specific window_size (add the horizon on the end for labelling later)\n",
        "  window_step = np.expand_dims(np.arange(window_size+horizon), axis=0)\n",
        "\n",
        "  # 2. Create a 2D array of multiple window steps (minus 1 to account for 0 indexing)\n",
        "  window_indexes = window_step + np.expand_dims(np.arange(len(x)-(window_size+horizon-1)), axis=0).T # create 2D array of windows of size window_size\n",
        "\n",
        "  # 3. Index on the target array (a time series) with 2D araay of multiple window steps\n",
        "  windowed_array = x[window_indexes]\n",
        "  \n",
        "  # 4. Get the labelled windows\n",
        "  windows, labels = get_labelled_windows(windowed_array, horizon=horizon)\n",
        "  return windows, labels"
      ],
      "metadata": {
        "id": "2F062Gh-97-C"
      },
      "execution_count": 30,
      "outputs": []
    },
    {
      "cell_type": "code",
      "source": [
        "full_windows, full_labels = make_windows(prices)\n",
        "len(full_windows), len(full_labels)"
      ],
      "metadata": {
        "colab": {
          "base_uri": "https://localhost:8080/"
        },
        "id": "WxOeeyTYBspY",
        "outputId": "d68860b4-e8cd-4a22-d98b-c73604b99aee"
      },
      "execution_count": 31,
      "outputs": [
        {
          "output_type": "execute_result",
          "data": {
            "text/plain": [
              "(2780, 2780)"
            ]
          },
          "metadata": {},
          "execution_count": 31
        }
      ]
    },
    {
      "cell_type": "code",
      "source": [
        "# View the first 3 windows/labels\n",
        "for i in range(3):\n",
        "  print(f\"Window: {full_windows[i]} -> Label: {full_labels[i]}\")"
      ],
      "metadata": {
        "colab": {
          "base_uri": "https://localhost:8080/"
        },
        "id": "92QJWYirGVG0",
        "outputId": "a23ecf44-5a05-4d0c-94d2-3c19999148eb"
      },
      "execution_count": 32,
      "outputs": [
        {
          "output_type": "stream",
          "name": "stdout",
          "text": [
            "Window: [123.65499 125.455   108.58483 118.67466 121.33866 120.65533 121.795  ] -> Label: [123.033]\n",
            "Window: [125.455   108.58483 118.67466 121.33866 120.65533 121.795   123.033  ] -> Label: [124.049]\n",
            "Window: [108.58483 118.67466 121.33866 120.65533 121.795   123.033   124.049  ] -> Label: [125.96116]\n"
          ]
        }
      ]
    },
    {
      "cell_type": "code",
      "source": [
        "# View the last 3 windows/labels\n",
        "for i in range(3):\n",
        "  print(f\"Window: {full_windows[i-3]} -> Label: {full_labels[i-3]}\")"
      ],
      "metadata": {
        "colab": {
          "base_uri": "https://localhost:8080/"
        },
        "id": "9v8bNbqtJhvI",
        "outputId": "6dc3037d-30c9-4f78-b1cb-c25af7bb9d7c"
      },
      "execution_count": 33,
      "outputs": [
        {
          "output_type": "stream",
          "name": "stdout",
          "text": [
            "Window: [58788.20967893 58102.19142623 55715.54665129 56573.5554719\n",
            " 52147.82118698 49764.1320816  50032.69313676] -> Label: [47885.62525472]\n",
            "Window: [58102.19142623 55715.54665129 56573.5554719  52147.82118698\n",
            " 49764.1320816  50032.69313676 47885.62525472] -> Label: [45604.61575361]\n",
            "Window: [55715.54665129 56573.5554719  52147.82118698 49764.1320816\n",
            " 50032.69313676 47885.62525472 45604.61575361] -> Label: [43144.47129086]\n"
          ]
        }
      ]
    },
    {
      "cell_type": "markdown",
      "source": [
        "> 🔑 **Note:** There's a function which does similar to the above in tf.keras.preprocessing, an extension could be to try and replicate what we've done using the premade function: https://www.tensorflow.org/api_docs/python/tf/keras/utils/timeseries_dataset_from_array"
      ],
      "metadata": {
        "id": "JxWTSIQKKED4"
      }
    },
    {
      "cell_type": "markdown",
      "source": [
        "## Turning windows into training and test sets"
      ],
      "metadata": {
        "id": "VyvWz1CBLOpG"
      }
    },
    {
      "cell_type": "code",
      "source": [
        "# Make the train/test splits\n",
        "def make_train_test_splits(windows, labels, test_split=0.2):\n",
        "  \"\"\"\n",
        "  Splits matching pairs of windows and labels into train and test splits.\n",
        "\n",
        "  Parameters:\n",
        "       - windows (ndarray): A 2-dimensional matrix of shape (N, W), where N is the number of windows\n",
        "        and W is the window size.\n",
        "      - labels (ndarray): A 2-dimensional matrix of shape (N, H), where N is the number of windows\n",
        "        and H is the horizon (i.e. the number of timesteps to predict into the future).\n",
        "      - test_split (float): The proportion of data to allocate for the test split. Defaults to 0.2.\n",
        "\n",
        "  Returns:\n",
        "      - A tuple containing four 2-dimensional matrices: (train_windows, test_windows, train_labels, test_labels).\n",
        "        The training windows and labels are the first two elements of the tuple and represent the training split of\n",
        "        the input data, while the test windows and labels are the last two elements of the tuple and represent the\n",
        "        test split of the input data.\n",
        "  \"\"\"\n",
        "  split_size = int(len(windows) * (1-test_split)) # this will default to 80% train/20% test\n",
        "  train_windows = windows[:split_size]\n",
        "  train_labels = labels[:split_size]\n",
        "  test_windows = windows[split_size:]\n",
        "  test_labels = labels[split_size:]\n",
        "  return train_windows, test_windows, train_labels, test_labels"
      ],
      "metadata": {
        "id": "xhRQTlarLpOs"
      },
      "execution_count": 34,
      "outputs": []
    },
    {
      "cell_type": "code",
      "source": [
        "# Create train and test windows\n",
        "train_windows, test_windows, train_labels, test_labels = make_train_test_splits(full_windows, full_labels)\n",
        "len(train_windows), len(test_windows), len(train_labels), len(test_labels)"
      ],
      "metadata": {
        "colab": {
          "base_uri": "https://localhost:8080/"
        },
        "id": "UgTBvM9XNacj",
        "outputId": "9037d0b0-8d7e-4feb-fbb5-529d6581a082"
      },
      "execution_count": 35,
      "outputs": [
        {
          "output_type": "execute_result",
          "data": {
            "text/plain": [
              "(2224, 556, 2224, 556)"
            ]
          },
          "metadata": {},
          "execution_count": 35
        }
      ]
    },
    {
      "cell_type": "code",
      "source": [
        "train_windows[:5], train_labels[:5]"
      ],
      "metadata": {
        "colab": {
          "base_uri": "https://localhost:8080/"
        },
        "id": "qXq__4NYOXeJ",
        "outputId": "12f757cc-dc40-4e91-f464-bffc20200f98"
      },
      "execution_count": 36,
      "outputs": [
        {
          "output_type": "execute_result",
          "data": {
            "text/plain": [
              "(array([[123.65499, 125.455  , 108.58483, 118.67466, 121.33866, 120.65533,\n",
              "         121.795  ],\n",
              "        [125.455  , 108.58483, 118.67466, 121.33866, 120.65533, 121.795  ,\n",
              "         123.033  ],\n",
              "        [108.58483, 118.67466, 121.33866, 120.65533, 121.795  , 123.033  ,\n",
              "         124.049  ],\n",
              "        [118.67466, 121.33866, 120.65533, 121.795  , 123.033  , 124.049  ,\n",
              "         125.96116],\n",
              "        [121.33866, 120.65533, 121.795  , 123.033  , 124.049  , 125.96116,\n",
              "         125.27966]]), array([[123.033  ],\n",
              "        [124.049  ],\n",
              "        [125.96116],\n",
              "        [125.27966],\n",
              "        [125.9275 ]]))"
            ]
          },
          "metadata": {},
          "execution_count": 36
        }
      ]
    },
    {
      "cell_type": "code",
      "source": [
        "test_windows[:5], test_labels[:5]"
      ],
      "metadata": {
        "colab": {
          "base_uri": "https://localhost:8080/"
        },
        "id": "1DAPlz4XOnG9",
        "outputId": "c7690bc5-8ecb-4251-ad68-7999b62dbc48"
      },
      "execution_count": 37,
      "outputs": [
        {
          "output_type": "execute_result",
          "data": {
            "text/plain": [
              "(array([[9290.89660239, 9202.41545055, 9369.62808116, 9326.59962378,\n",
              "         9335.75240233, 9226.48582088, 8794.35864452],\n",
              "        [9202.41545055, 9369.62808116, 9326.59962378, 9335.75240233,\n",
              "         9226.48582088, 8794.35864452, 8798.04205463],\n",
              "        [9369.62808116, 9326.59962378, 9335.75240233, 9226.48582088,\n",
              "         8794.35864452, 8798.04205463, 9081.18687849],\n",
              "        [9326.59962378, 9335.75240233, 9226.48582088, 8794.35864452,\n",
              "         8798.04205463, 9081.18687849, 8711.53433917],\n",
              "        [9335.75240233, 9226.48582088, 8794.35864452, 8798.04205463,\n",
              "         9081.18687849, 8711.53433917, 8760.89271814]]),\n",
              " array([[8798.04205463],\n",
              "        [9081.18687849],\n",
              "        [8711.53433917],\n",
              "        [8760.89271814],\n",
              "        [8749.52059102]]))"
            ]
          },
          "metadata": {},
          "execution_count": 37
        }
      ]
    },
    {
      "cell_type": "code",
      "source": [
        "# Check to see if same (accounting for horizon and window size)\n",
        "np.array_equal(np.squeeze(train_labels[:-HORIZON-1]), y_train[WINDOW_SIZE:])"
      ],
      "metadata": {
        "colab": {
          "base_uri": "https://localhost:8080/"
        },
        "id": "UO_tDzYUO-14",
        "outputId": "dfc81bef-2e40-490e-b18e-0995a17795c1"
      },
      "execution_count": 38,
      "outputs": [
        {
          "output_type": "execute_result",
          "data": {
            "text/plain": [
              "True"
            ]
          },
          "metadata": {},
          "execution_count": 38
        }
      ]
    },
    {
      "cell_type": "markdown",
      "source": [
        "## Make a modelling checkpoint callback\n",
        "\n",
        "Because our model's performance will fluctuate from experiment to experiment, we're going to write a model checkpoint so we can compare apples to apples.\n",
        "\n",
        "More specifically, we want to compare each of our model's best performances against the other model's best performances.\n",
        "\n",
        "For example if our model performs the best on epoch 55 (but we're training for 100 epochs), we want to load and evaluate the model saved on epoch 55.\n",
        "\n",
        "We can create a modelling checkpoint callback using the following: https://www.tensorflow.org/api_docs/python/tf/keras/callbacks/ModelCheckpoint"
      ],
      "metadata": {
        "id": "BU5MSqBhPeLw"
      }
    },
    {
      "cell_type": "code",
      "source": [
        "import os\n",
        "\n",
        "# Create a function to implement a modelCheckpoint callback with a specific filename\n",
        "def create_model_checkpoint(model_name, save_path=\"model_experiments\"):\n",
        "  \"\"\"\n",
        "  Creates a Keras callback to save the best version of a trained model during training.\n",
        "\n",
        "  Args:\n",
        "      model_name (str): A string with the name of the model. This will be used as the prefix of the checkpoint file.\n",
        "      save_path (str): A string with the directory path where the checkpoint file will be saved. Defaults to \"model_experiments\".\n",
        "\n",
        "  Returns:\n",
        "      A Keras `ModelCheckpoint` callback instance with the specified settings.\n",
        "  \"\"\"\n",
        "  return tf.keras.callbacks.ModelCheckpoint(filepath=os.path.join(save_path, model_name),\n",
        "                                            verbose=0, # only output a limited amount of text\n",
        "                                            save_best_only=True)\n"
      ],
      "metadata": {
        "id": "zRm63C4eZCOL"
      },
      "execution_count": 39,
      "outputs": []
    },
    {
      "cell_type": "markdown",
      "source": [
        "## Model 1: Dense model (window = 7, horizon = 1)\n",
        "\n",
        "Our first deep model is going to be a simple dense model:\n",
        "* A single dense layer with 128 hidden units and ReLU\n",
        "* An output layer with linear activation (no activation)\n",
        "* Adam optimizer and MAE loss function\n",
        "* Batch size of 128 (previously we've used 32)\n",
        "* 100 epochs\n",
        "\n",
        "Why these values?\n",
        "\n",
        "I picked them out of experimentation.\n",
        "\n",
        "* *Hyperparameters* = values a machine learning practitioner can adjust themselves\n",
        "* **Parameters** = values a model learns on its own\n"
      ],
      "metadata": {
        "id": "vGjMFmb5cp3M"
      }
    },
    {
      "cell_type": "code",
      "source": [
        "import tensorflow as tf\n",
        "from tensorflow.keras import layers\n",
        "\n",
        "# Set random seed\n",
        "tf.random.set_seed(42)\n",
        "\n",
        "# 1. Construct model\n",
        "model_1 = tf.keras.Sequential([\n",
        "    layers.Dense(128, activation=\"relu\"),\n",
        "    layers.Dense(HORIZON, activation=\"linear\")\n",
        "], name=\"model_1_dense\")\n",
        "\n",
        "# 2. Compile the model\n",
        "model_1.compile(loss=\"mae\",\n",
        "                optimizer=tf.keras.optimizers.Adam(),\n",
        "                metrics=[\"mae\", \"mse\"])\n",
        "\n",
        "# 3. Fit the model\n",
        "model_1_history = model_1.fit(train_windows, train_labels,\n",
        "                              epochs=100,\n",
        "                              verbose=1,\n",
        "                              batch_size=128,\n",
        "                              validation_data=(test_windows, test_labels),\n",
        "                              callbacks=[create_model_checkpoint(model_name=model_1.name)])"
      ],
      "metadata": {
        "colab": {
          "base_uri": "https://localhost:8080/"
        },
        "id": "c3kB4enwhnQ4",
        "outputId": "4d277671-6602-49b6-f488-4709d877fb63"
      },
      "execution_count": 40,
      "outputs": [
        {
          "output_type": "stream",
          "name": "stdout",
          "text": [
            "Epoch 1/100\n",
            " 1/18 [>.............................] - ETA: 1:44 - loss: 2118.7527 - mae: 2118.7527 - mse: 9361085.0000"
          ]
        },
        {
          "output_type": "stream",
          "name": "stderr",
          "text": [
            "WARNING:absl:Found untraced functions such as _update_step_xla while saving (showing 1 of 1). These functions will not be directly callable after loading.\n"
          ]
        },
        {
          "output_type": "stream",
          "name": "stdout",
          "text": [
            "\b\b\b\b\b\b\b\b\b\b\b\b\b\b\b\b\b\b\b\b\b\b\b\b\b\b\b\b\b\b\b\b\b\b\b\b\b\b\b\b\b\b\b\b\b\b\b\b\b\b\b\b\b\b\b\b\b\b\b\b\b\b\b\b\b\b\b\b\b\b\b\b\b\b\b\b\b\b\b\b\b\b\b\b\b\b\b\b\b\b\b\b\b\b\b\b\b\b\b\b\b\b\b\b\b\r18/18 [==============================] - 7s 46ms/step - loss: 773.2059 - mae: 773.2059 - mse: 2293626.2500 - val_loss: 2171.8333 - val_mae: 2171.8333 - val_mse: 12092179.0000\n",
            "Epoch 2/100\n",
            " 1/18 [>.............................] - ETA: 0s - loss: 339.9844 - mae: 339.9844 - mse: 595374.5000"
          ]
        },
        {
          "output_type": "stream",
          "name": "stderr",
          "text": [
            "WARNING:absl:Found untraced functions such as _update_step_xla while saving (showing 1 of 1). These functions will not be directly callable after loading.\n"
          ]
        },
        {
          "output_type": "stream",
          "name": "stdout",
          "text": [
            "\b\b\b\b\b\b\b\b\b\b\b\b\b\b\b\b\b\b\b\b\b\b\b\b\b\b\b\b\b\b\b\b\b\b\b\b\b\b\b\b\b\b\b\b\b\b\b\b\b\b\b\b\b\b\b\b\b\b\b\b\b\b\b\b\b\b\b\b\b\b\b\b\b\b\b\b\b\b\b\b\b\b\b\b\b\b\b\b\b\b\b\b\b\b\b\b\b\b\b\b\r18/18 [==============================] - 0s 28ms/step - loss: 246.5126 - mae: 246.5126 - mse: 290093.9375 - val_loss: 1102.8845 - val_mae: 1102.8845 - val_mse: 4025640.0000\n",
            "Epoch 3/100\n",
            " 1/18 [>.............................] - ETA: 0s - loss: 145.5341 - mae: 145.5341 - mse: 79157.0234"
          ]
        },
        {
          "output_type": "stream",
          "name": "stderr",
          "text": [
            "WARNING:absl:Found untraced functions such as _update_step_xla while saving (showing 1 of 1). These functions will not be directly callable after loading.\n"
          ]
        },
        {
          "output_type": "stream",
          "name": "stdout",
          "text": [
            "\b\b\b\b\b\b\b\b\b\b\b\b\b\b\b\b\b\b\b\b\b\b\b\b\b\b\b\b\b\b\b\b\b\b\b\b\b\b\b\b\b\b\b\b\b\b\b\b\b\b\b\b\b\b\b\b\b\b\b\b\b\b\b\b\b\b\b\b\b\b\b\b\b\b\b\b\b\b\b\b\b\b\b\b\b\b\b\b\b\b\b\b\b\b\b\b\b\b\b\r18/18 [==============================] - 0s 28ms/step - loss: 194.0481 - mae: 194.0481 - mse: 186867.0000 - val_loss: 1022.3840 - val_mae: 1022.3840 - val_mse: 3462245.7500\n",
            "Epoch 4/100\n",
            " 1/18 [>.............................] - ETA: 0s - loss: 236.7855 - mae: 236.7855 - mse: 293819.3125"
          ]
        },
        {
          "output_type": "stream",
          "name": "stderr",
          "text": [
            "WARNING:absl:Found untraced functions such as _update_step_xla while saving (showing 1 of 1). These functions will not be directly callable after loading.\n"
          ]
        },
        {
          "output_type": "stream",
          "name": "stdout",
          "text": [
            "\b\b\b\b\b\b\b\b\b\b\b\b\b\b\b\b\b\b\b\b\b\b\b\b\b\b\b\b\b\b\b\b\b\b\b\b\b\b\b\b\b\b\b\b\b\b\b\b\b\b\b\b\b\b\b\b\b\b\b\b\b\b\b\b\b\b\b\b\b\b\b\b\b\b\b\b\b\b\b\b\b\b\b\b\b\b\b\b\b\b\b\b\b\b\b\b\b\b\b\b\r18/18 [==============================] - 0s 29ms/step - loss: 184.1312 - mae: 184.1312 - mse: 178563.6094 - val_loss: 987.9667 - val_mae: 987.9667 - val_mse: 3253950.5000\n",
            "Epoch 5/100\n",
            "18/18 [==============================] - 0s 5ms/step - loss: 179.0740 - mae: 179.0740 - mse: 171029.8594 - val_loss: 1010.1803 - val_mae: 1010.1803 - val_mse: 3198103.0000\n",
            "Epoch 6/100\n",
            " 1/18 [>.............................] - ETA: 0s - loss: 131.3586 - mae: 131.3586 - mse: 64215.9062"
          ]
        },
        {
          "output_type": "stream",
          "name": "stderr",
          "text": [
            "WARNING:absl:Found untraced functions such as _update_step_xla while saving (showing 1 of 1). These functions will not be directly callable after loading.\n"
          ]
        },
        {
          "output_type": "stream",
          "name": "stdout",
          "text": [
            "\b\b\b\b\b\b\b\b\b\b\b\b\b\b\b\b\b\b\b\b\b\b\b\b\b\b\b\b\b\b\b\b\b\b\b\b\b\b\b\b\b\b\b\b\b\b\b\b\b\b\b\b\b\b\b\b\b\b\b\b\b\b\b\b\b\b\b\b\b\b\b\b\b\b\b\b\b\b\b\b\b\b\b\b\b\b\b\b\b\b\b\b\b\b\b\b\b\b\b\r18/18 [==============================] - 0s 28ms/step - loss: 171.9874 - mae: 171.9874 - mse: 157206.5312 - val_loss: 951.2772 - val_mae: 951.2772 - val_mse: 3052141.0000\n",
            "Epoch 7/100\n",
            " 1/18 [>.............................] - ETA: 0s - loss: 207.3940 - mae: 207.3940 - mse: 296156.5938"
          ]
        },
        {
          "output_type": "stream",
          "name": "stderr",
          "text": [
            "WARNING:absl:Found untraced functions such as _update_step_xla while saving (showing 1 of 1). These functions will not be directly callable after loading.\n"
          ]
        },
        {
          "output_type": "stream",
          "name": "stdout",
          "text": [
            "\b\b\b\b\b\b\b\b\b\b\b\b\b\b\b\b\b\b\b\b\b\b\b\b\b\b\b\b\b\b\b\b\b\b\b\b\b\b\b\b\b\b\b\b\b\b\b\b\b\b\b\b\b\b\b\b\b\b\b\b\b\b\b\b\b\b\b\b\b\b\b\b\b\b\b\b\b\b\b\b\b\b\b\b\b\b\b\b\b\b\b\b\b\b\b\b\b\b\b\b\r18/18 [==============================] - 0s 28ms/step - loss: 165.2812 - mae: 165.2812 - mse: 147431.4062 - val_loss: 928.6701 - val_mae: 928.6701 - val_mse: 2799135.2500\n",
            "Epoch 8/100\n",
            "17/18 [===========================>..] - ETA: 0s - loss: 159.3907 - mae: 159.3907 - mse: 139614.6875"
          ]
        },
        {
          "output_type": "stream",
          "name": "stderr",
          "text": [
            "WARNING:absl:Found untraced functions such as _update_step_xla while saving (showing 1 of 1). These functions will not be directly callable after loading.\n"
          ]
        },
        {
          "output_type": "stream",
          "name": "stdout",
          "text": [
            "\b\b\b\b\b\b\b\b\b\b\b\b\b\b\b\b\b\b\b\b\b\b\b\b\b\b\b\b\b\b\b\b\b\b\b\b\b\b\b\b\b\b\b\b\b\b\b\b\b\b\b\b\b\b\b\b\b\b\b\b\b\b\b\b\b\b\b\b\b\b\b\b\b\b\b\b\b\b\b\b\b\b\b\b\b\b\b\b\b\b\b\b\b\b\b\b\b\b\b\b\r18/18 [==============================] - 0s 29ms/step - loss: 159.6422 - mae: 159.6422 - mse: 138532.2656 - val_loss: 874.9318 - val_mae: 874.9318 - val_mse: 2560448.0000\n",
            "Epoch 9/100\n",
            " 1/18 [>.............................] - ETA: 0s - loss: 132.8242 - mae: 132.8242 - mse: 78791.7812"
          ]
        },
        {
          "output_type": "stream",
          "name": "stderr",
          "text": [
            "WARNING:absl:Found untraced functions such as _update_step_xla while saving (showing 1 of 1). These functions will not be directly callable after loading.\n"
          ]
        },
        {
          "output_type": "stream",
          "name": "stdout",
          "text": [
            "\b\b\b\b\b\b\b\b\b\b\b\b\b\b\b\b\b\b\b\b\b\b\b\b\b\b\b\b\b\b\b\b\b\b\b\b\b\b\b\b\b\b\b\b\b\b\b\b\b\b\b\b\b\b\b\b\b\b\b\b\b\b\b\b\b\b\b\b\b\b\b\b\b\b\b\b\b\b\b\b\b\b\b\b\b\b\b\b\b\b\b\b\b\b\b\b\b\b\b\r18/18 [==============================] - 0s 28ms/step - loss: 155.0317 - mae: 155.0317 - mse: 132434.6875 - val_loss: 863.8953 - val_mae: 863.8953 - val_mse: 2431854.5000\n",
            "Epoch 10/100\n",
            " 1/18 [>.............................] - ETA: 0s - loss: 161.5556 - mae: 161.5556 - mse: 178835.6875"
          ]
        },
        {
          "output_type": "stream",
          "name": "stderr",
          "text": [
            "WARNING:absl:Found untraced functions such as _update_step_xla while saving (showing 1 of 1). These functions will not be directly callable after loading.\n"
          ]
        },
        {
          "output_type": "stream",
          "name": "stdout",
          "text": [
            "\b\b\b\b\b\b\b\b\b\b\b\b\b\b\b\b\b\b\b\b\b\b\b\b\b\b\b\b\b\b\b\b\b\b\b\b\b\b\b\b\b\b\b\b\b\b\b\b\b\b\b\b\b\b\b\b\b\b\b\b\b\b\b\b\b\b\b\b\b\b\b\b\b\b\b\b\b\b\b\b\b\b\b\b\b\b\b\b\b\b\b\b\b\b\b\b\b\b\b\b\r18/18 [==============================] - 0s 28ms/step - loss: 150.3229 - mae: 150.3229 - mse: 126263.6719 - val_loss: 826.7307 - val_mae: 826.7307 - val_mse: 2257684.7500\n",
            "Epoch 11/100\n",
            "16/18 [=========================>....] - ETA: 0s - loss: 142.7499 - mae: 142.7499 - mse: 114843.6484"
          ]
        },
        {
          "output_type": "stream",
          "name": "stderr",
          "text": [
            "WARNING:absl:Found untraced functions such as _update_step_xla while saving (showing 1 of 1). These functions will not be directly callable after loading.\n"
          ]
        },
        {
          "output_type": "stream",
          "name": "stdout",
          "text": [
            "\b\b\b\b\b\b\b\b\b\b\b\b\b\b\b\b\b\b\b\b\b\b\b\b\b\b\b\b\b\b\b\b\b\b\b\b\b\b\b\b\b\b\b\b\b\b\b\b\b\b\b\b\b\b\b\b\b\b\b\b\b\b\b\b\b\b\b\b\b\b\b\b\b\b\b\b\b\b\b\b\b\b\b\b\b\b\b\b\b\b\b\b\b\b\b\b\b\b\b\b\r18/18 [==============================] - 1s 29ms/step - loss: 144.0589 - mae: 144.0589 - mse: 115449.1094 - val_loss: 808.1310 - val_mae: 808.1310 - val_mse: 2136942.2500\n",
            "Epoch 12/100\n",
            "18/18 [==============================] - 0s 5ms/step - loss: 141.2314 - mae: 141.2314 - mse: 111460.7266 - val_loss: 821.9568 - val_mae: 821.9568 - val_mse: 2108997.0000\n",
            "Epoch 13/100\n",
            "18/18 [==============================] - 0s 5ms/step - loss: 139.2160 - mae: 139.2160 - mse: 108399.6953 - val_loss: 834.3863 - val_mae: 834.3863 - val_mse: 2099056.7500\n",
            "Epoch 14/100\n",
            "18/18 [==============================] - ETA: 0s - loss: 136.7598 - mae: 136.7598 - mse: 103988.3438"
          ]
        },
        {
          "output_type": "stream",
          "name": "stderr",
          "text": [
            "WARNING:absl:Found untraced functions such as _update_step_xla while saving (showing 1 of 1). These functions will not be directly callable after loading.\n"
          ]
        },
        {
          "output_type": "stream",
          "name": "stdout",
          "text": [
            "\b\b\b\b\b\b\b\b\b\b\b\b\b\b\b\b\b\b\b\b\b\b\b\b\b\b\b\b\b\b\b\b\b\b\b\b\b\b\b\b\b\b\b\b\b\b\b\b\b\b\b\b\b\b\b\b\b\b\b\b\b\b\b\b\b\b\b\b\b\b\b\b\b\b\b\b\b\b\b\b\b\b\b\b\b\b\b\b\b\b\b\b\b\b\b\b\b\b\b\b\r18/18 [==============================] - 1s 29ms/step - loss: 136.7598 - mae: 136.7598 - mse: 103988.3438 - val_loss: 805.7483 - val_mae: 805.7483 - val_mse: 1985123.0000\n",
            "Epoch 15/100\n",
            " 1/18 [>.............................] - ETA: 0s - loss: 134.1364 - mae: 134.1364 - mse: 66979.7188"
          ]
        },
        {
          "output_type": "stream",
          "name": "stderr",
          "text": [
            "WARNING:absl:Found untraced functions such as _update_step_xla while saving (showing 1 of 1). These functions will not be directly callable after loading.\n"
          ]
        },
        {
          "output_type": "stream",
          "name": "stdout",
          "text": [
            "\b\b\b\b\b\b\b\b\b\b\b\b\b\b\b\b\b\b\b\b\b\b\b\b\b\b\b\b\b\b\b\b\b\b\b\b\b\b\b\b\b\b\b\b\b\b\b\b\b\b\b\b\b\b\b\b\b\b\b\b\b\b\b\b\b\b\b\b\b\b\b\b\b\b\b\b\b\b\b\b\b\b\b\b\b\b\b\b\b\b\b\b\b\b\b\b\b\b\b\r18/18 [==============================] - 1s 41ms/step - loss: 134.2693 - mae: 134.2693 - mse: 100573.7891 - val_loss: 743.1657 - val_mae: 743.1657 - val_mse: 1786755.2500\n",
            "Epoch 16/100\n",
            "18/18 [==============================] - 0s 5ms/step - loss: 129.4372 - mae: 129.4372 - mse: 94967.0234 - val_loss: 758.5327 - val_mae: 758.5327 - val_mse: 1796762.8750\n",
            "Epoch 17/100\n",
            "18/18 [==============================] - 0s 5ms/step - loss: 127.9302 - mae: 127.9302 - mse: 93105.0469 - val_loss: 750.2147 - val_mae: 750.2147 - val_mse: 1750855.8750\n",
            "Epoch 18/100\n",
            " 1/18 [>.............................] - ETA: 0s - loss: 139.7020 - mae: 139.7020 - mse: 101369.2656"
          ]
        },
        {
          "output_type": "stream",
          "name": "stderr",
          "text": [
            "WARNING:absl:Found untraced functions such as _update_step_xla while saving (showing 1 of 1). These functions will not be directly callable after loading.\n"
          ]
        },
        {
          "output_type": "stream",
          "name": "stdout",
          "text": [
            "\b\b\b\b\b\b\b\b\b\b\b\b\b\b\b\b\b\b\b\b\b\b\b\b\b\b\b\b\b\b\b\b\b\b\b\b\b\b\b\b\b\b\b\b\b\b\b\b\b\b\b\b\b\b\b\b\b\b\b\b\b\b\b\b\b\b\b\b\b\b\b\b\b\b\b\b\b\b\b\b\b\b\b\b\b\b\b\b\b\b\b\b\b\b\b\b\b\b\b\b\r18/18 [==============================] - 0s 28ms/step - loss: 126.2300 - mae: 126.2300 - mse: 92299.5703 - val_loss: 714.8506 - val_mae: 714.8506 - val_mse: 1634484.1250\n",
            "Epoch 19/100\n",
            "18/18 [==============================] - 0s 6ms/step - loss: 122.7586 - mae: 122.7586 - mse: 87893.2578 - val_loss: 727.7632 - val_mae: 727.7632 - val_mse: 1651913.3750\n",
            "Epoch 20/100\n",
            "18/18 [==============================] - 0s 5ms/step - loss: 121.7156 - mae: 121.7156 - mse: 85719.9375 - val_loss: 723.2875 - val_mae: 723.2875 - val_mse: 1751081.6250\n",
            "Epoch 21/100\n",
            "16/18 [=========================>....] - ETA: 0s - loss: 127.5910 - mae: 127.5910 - mse: 91892.2578 "
          ]
        },
        {
          "output_type": "stream",
          "name": "stderr",
          "text": [
            "WARNING:absl:Found untraced functions such as _update_step_xla while saving (showing 1 of 1). These functions will not be directly callable after loading.\n"
          ]
        },
        {
          "output_type": "stream",
          "name": "stdout",
          "text": [
            "\b\b\b\b\b\b\b\b\b\b\b\b\b\b\b\b\b\b\b\b\b\b\b\b\b\b\b\b\b\b\b\b\b\b\b\b\b\b\b\b\b\b\b\b\b\b\b\b\b\b\b\b\b\b\b\b\b\b\b\b\b\b\b\b\b\b\b\b\b\b\b\b\b\b\b\b\b\b\b\b\b\b\b\b\b\b\b\b\b\b\b\b\b\b\b\b\b\b\b\r18/18 [==============================] - 0s 28ms/step - loss: 127.8778 - mae: 127.8778 - mse: 93588.6484 - val_loss: 682.8291 - val_mae: 682.8291 - val_mse: 1507854.2500\n",
            "Epoch 22/100\n",
            "17/18 [===========================>..] - ETA: 0s - loss: 119.6049 - mae: 119.6049 - mse: 84610.8906 "
          ]
        },
        {
          "output_type": "stream",
          "name": "stderr",
          "text": [
            "WARNING:absl:Found untraced functions such as _update_step_xla while saving (showing 1 of 1). These functions will not be directly callable after loading.\n"
          ]
        },
        {
          "output_type": "stream",
          "name": "stdout",
          "text": [
            "\b\b\b\b\b\b\b\b\b\b\b\b\b\b\b\b\b\b\b\b\b\b\b\b\b\b\b\b\b\b\b\b\b\b\b\b\b\b\b\b\b\b\b\b\b\b\b\b\b\b\b\b\b\b\b\b\b\b\b\b\b\b\b\b\b\b\b\b\b\b\b\b\b\b\b\b\b\b\b\b\b\b\b\b\b\b\b\b\b\b\b\b\b\b\b\b\b\b\b\r18/18 [==============================] - 1s 29ms/step - loss: 119.1510 - mae: 119.1510 - mse: 84089.6172 - val_loss: 671.6611 - val_mae: 671.6611 - val_mse: 1471005.8750\n",
            "Epoch 23/100\n",
            "18/18 [==============================] - 0s 5ms/step - loss: 120.5795 - mae: 120.5795 - mse: 83878.5391 - val_loss: 672.7620 - val_mae: 672.7620 - val_mse: 1467297.3750\n",
            "Epoch 24/100\n",
            " 1/18 [>.............................] - ETA: 0s - loss: 126.9181 - mae: 126.9181 - mse: 75839.8203"
          ]
        },
        {
          "output_type": "stream",
          "name": "stderr",
          "text": [
            "WARNING:absl:Found untraced functions such as _update_step_xla while saving (showing 1 of 1). These functions will not be directly callable after loading.\n"
          ]
        },
        {
          "output_type": "stream",
          "name": "stdout",
          "text": [
            "\b\b\b\b\b\b\b\b\b\b\b\b\b\b\b\b\b\b\b\b\b\b\b\b\b\b\b\b\b\b\b\b\b\b\b\b\b\b\b\b\b\b\b\b\b\b\b\b\b\b\b\b\b\b\b\b\b\b\b\b\b\b\b\b\b\b\b\b\b\b\b\b\b\b\b\b\b\b\b\b\b\b\b\b\b\b\b\b\b\b\b\b\b\b\b\b\b\b\b\r18/18 [==============================] - 0s 27ms/step - loss: 118.3766 - mae: 118.3766 - mse: 82130.6016 - val_loss: 640.9272 - val_mae: 640.9272 - val_mse: 1405582.6250\n",
            "Epoch 25/100\n",
            "17/18 [===========================>..] - ETA: 0s - loss: 118.1783 - mae: 118.1783 - mse: 81628.8359"
          ]
        },
        {
          "output_type": "stream",
          "name": "stderr",
          "text": [
            "WARNING:absl:Found untraced functions such as _update_step_xla while saving (showing 1 of 1). These functions will not be directly callable after loading.\n"
          ]
        },
        {
          "output_type": "stream",
          "name": "stdout",
          "text": [
            "\b\b\b\b\b\b\b\b\b\b\b\b\b\b\b\b\b\b\b\b\b\b\b\b\b\b\b\b\b\b\b\b\b\b\b\b\b\b\b\b\b\b\b\b\b\b\b\b\b\b\b\b\b\b\b\b\b\b\b\b\b\b\b\b\b\b\b\b\b\b\b\b\b\b\b\b\b\b\b\b\b\b\b\b\b\b\b\b\b\b\b\b\b\b\b\b\b\b\b\r18/18 [==============================] - 0s 29ms/step - loss: 117.7007 - mae: 117.7007 - mse: 80844.2812 - val_loss: 635.9830 - val_mae: 635.9830 - val_mse: 1391171.3750\n",
            "Epoch 26/100\n",
            "17/18 [===========================>..] - ETA: 0s - loss: 117.7515 - mae: 117.7515 - mse: 77221.5469"
          ]
        },
        {
          "output_type": "stream",
          "name": "stderr",
          "text": [
            "WARNING:absl:Found untraced functions such as _update_step_xla while saving (showing 1 of 1). These functions will not be directly callable after loading.\n"
          ]
        },
        {
          "output_type": "stream",
          "name": "stdout",
          "text": [
            "\b\b\b\b\b\b\b\b\b\b\b\b\b\b\b\b\b\b\b\b\b\b\b\b\b\b\b\b\b\b\b\b\b\b\b\b\b\b\b\b\b\b\b\b\b\b\b\b\b\b\b\b\b\b\b\b\b\b\b\b\b\b\b\b\b\b\b\b\b\b\b\b\b\b\b\b\b\b\b\b\b\b\b\b\b\b\b\b\b\b\b\b\b\b\b\b\b\b\b\r18/18 [==============================] - 1s 39ms/step - loss: 118.1960 - mae: 118.1960 - mse: 80341.9844 - val_loss: 633.6140 - val_mae: 633.6140 - val_mse: 1387214.7500\n",
            "Epoch 27/100\n",
            "14/18 [======================>.......] - ETA: 0s - loss: 118.3720 - mae: 118.3720 - mse: 81500.4375 "
          ]
        },
        {
          "output_type": "stream",
          "name": "stderr",
          "text": [
            "WARNING:absl:Found untraced functions such as _update_step_xla while saving (showing 1 of 1). These functions will not be directly callable after loading.\n"
          ]
        },
        {
          "output_type": "stream",
          "name": "stdout",
          "text": [
            "\b\b\b\b\b\b\b\b\b\b\b\b\b\b\b\b\b\b\b\b\b\b\b\b\b\b\b\b\b\b\b\b\b\b\b\b\b\b\b\b\b\b\b\b\b\b\b\b\b\b\b\b\b\b\b\b\b\b\b\b\b\b\b\b\b\b\b\b\b\b\b\b\b\b\b\b\b\b\b\b\b\b\b\b\b\b\b\b\b\b\b\b\b\b\b\b\b\b\b\r18/18 [==============================] - 1s 41ms/step - loss: 117.0021 - mae: 117.0021 - mse: 80092.7656 - val_loss: 628.8839 - val_mae: 628.8839 - val_mse: 1347892.8750\n",
            "Epoch 28/100\n",
            "16/18 [=========================>....] - ETA: 0s - loss: 112.8097 - mae: 112.8097 - mse: 78883.1641"
          ]
        },
        {
          "output_type": "stream",
          "name": "stderr",
          "text": [
            "WARNING:absl:Found untraced functions such as _update_step_xla while saving (showing 1 of 1). These functions will not be directly callable after loading.\n"
          ]
        },
        {
          "output_type": "stream",
          "name": "stdout",
          "text": [
            "\b\b\b\b\b\b\b\b\b\b\b\b\b\b\b\b\b\b\b\b\b\b\b\b\b\b\b\b\b\b\b\b\b\b\b\b\b\b\b\b\b\b\b\b\b\b\b\b\b\b\b\b\b\b\b\b\b\b\b\b\b\b\b\b\b\b\b\b\b\b\b\b\b\b\b\b\b\b\b\b\b\b\b\b\b\b\b\b\b\b\b\b\b\b\b\b\b\b\b\r18/18 [==============================] - 1s 41ms/step - loss: 113.6640 - mae: 113.6640 - mse: 77956.3047 - val_loss: 622.2879 - val_mae: 622.2879 - val_mse: 1331012.0000\n",
            "Epoch 29/100\n",
            "15/18 [========================>.....] - ETA: 0s - loss: 115.6659 - mae: 115.6659 - mse: 78280.8047"
          ]
        },
        {
          "output_type": "stream",
          "name": "stderr",
          "text": [
            "WARNING:absl:Found untraced functions such as _update_step_xla while saving (showing 1 of 1). These functions will not be directly callable after loading.\n"
          ]
        },
        {
          "output_type": "stream",
          "name": "stdout",
          "text": [
            "\b\b\b\b\b\b\b\b\b\b\b\b\b\b\b\b\b\b\b\b\b\b\b\b\b\b\b\b\b\b\b\b\b\b\b\b\b\b\b\b\b\b\b\b\b\b\b\b\b\b\b\b\b\b\b\b\b\b\b\b\b\b\b\b\b\b\b\b\b\b\b\b\b\b\b\b\b\b\b\b\b\b\b\b\b\b\b\b\b\b\b\b\b\b\b\b\b\b\b\r18/18 [==============================] - 1s 32ms/step - loss: 114.9841 - mae: 114.9841 - mse: 78213.5625 - val_loss: 618.0520 - val_mae: 618.0520 - val_mse: 1316361.5000\n",
            "Epoch 30/100\n",
            "18/18 [==============================] - 0s 5ms/step - loss: 119.0378 - mae: 119.0378 - mse: 80267.5234 - val_loss: 638.0344 - val_mae: 638.0344 - val_mse: 1354980.5000\n",
            "Epoch 31/100\n",
            "18/18 [==============================] - 0s 5ms/step - loss: 113.9189 - mae: 113.9189 - mse: 75059.4297 - val_loss: 649.9708 - val_mae: 649.9708 - val_mse: 1378938.0000\n",
            "Epoch 32/100\n",
            "18/18 [==============================] - 0s 6ms/step - loss: 114.4569 - mae: 114.4569 - mse: 78498.3281 - val_loss: 641.3540 - val_mae: 641.3540 - val_mse: 1355560.5000\n",
            "Epoch 33/100\n",
            "18/18 [==============================] - 0s 5ms/step - loss: 113.0691 - mae: 113.0691 - mse: 74687.0547 - val_loss: 665.1609 - val_mae: 665.1609 - val_mse: 1408670.1250\n",
            "Epoch 34/100\n",
            "16/18 [=========================>....] - ETA: 0s - loss: 112.5145 - mae: 112.5145 - mse: 79304.4219 "
          ]
        },
        {
          "output_type": "stream",
          "name": "stderr",
          "text": [
            "WARNING:absl:Found untraced functions such as _update_step_xla while saving (showing 1 of 1). These functions will not be directly callable after loading.\n"
          ]
        },
        {
          "output_type": "stream",
          "name": "stdout",
          "text": [
            "\b\b\b\b\b\b\b\b\b\b\b\b\b\b\b\b\b\b\b\b\b\b\b\b\b\b\b\b\b\b\b\b\b\b\b\b\b\b\b\b\b\b\b\b\b\b\b\b\b\b\b\b\b\b\b\b\b\b\b\b\b\b\b\b\b\b\b\b\b\b\b\b\b\b\b\b\b\b\b\b\b\b\b\b\b\b\b\b\b\b\b\b\b\b\b\b\b\b\b\r18/18 [==============================] - 0s 29ms/step - loss: 112.5431 - mae: 112.5431 - mse: 77168.8047 - val_loss: 603.6063 - val_mae: 603.6063 - val_mse: 1270660.1250\n",
            "Epoch 35/100\n",
            "18/18 [==============================] - 0s 6ms/step - loss: 110.7074 - mae: 110.7074 - mse: 74807.0547 - val_loss: 606.5927 - val_mae: 606.5927 - val_mse: 1270212.5000\n",
            "Epoch 36/100\n",
            "18/18 [==============================] - 0s 5ms/step - loss: 115.0994 - mae: 115.0994 - mse: 76246.1953 - val_loss: 605.1116 - val_mae: 605.1116 - val_mse: 1264781.7500\n",
            "Epoch 37/100\n",
            "18/18 [==============================] - 0s 5ms/step - loss: 112.5793 - mae: 112.5793 - mse: 76441.8906 - val_loss: 608.5388 - val_mae: 608.5388 - val_mse: 1299988.0000\n",
            "Epoch 38/100\n",
            " 1/18 [>.............................] - ETA: 0s - loss: 109.9309 - mae: 109.9309 - mse: 71905.2969"
          ]
        },
        {
          "output_type": "stream",
          "name": "stderr",
          "text": [
            "WARNING:absl:Found untraced functions such as _update_step_xla while saving (showing 1 of 1). These functions will not be directly callable after loading.\n"
          ]
        },
        {
          "output_type": "stream",
          "name": "stdout",
          "text": [
            "\b\b\b\b\b\b\b\b\b\b\b\b\b\b\b\b\b\b\b\b\b\b\b\b\b\b\b\b\b\b\b\b\b\b\b\b\b\b\b\b\b\b\b\b\b\b\b\b\b\b\b\b\b\b\b\b\b\b\b\b\b\b\b\b\b\b\b\b\b\b\b\b\b\b\b\b\b\b\b\b\b\b\b\b\b\b\b\b\b\b\b\b\b\b\b\b\b\b\b\r18/18 [==============================] - 0s 28ms/step - loss: 110.2524 - mae: 110.2524 - mse: 74172.0391 - val_loss: 595.5685 - val_mae: 595.5685 - val_mse: 1243577.1250\n",
            "Epoch 39/100\n",
            " 1/18 [>.............................] - ETA: 0s - loss: 129.8785 - mae: 129.8785 - mse: 96526.7500"
          ]
        },
        {
          "output_type": "stream",
          "name": "stderr",
          "text": [
            "WARNING:absl:Found untraced functions such as _update_step_xla while saving (showing 1 of 1). These functions will not be directly callable after loading.\n"
          ]
        },
        {
          "output_type": "stream",
          "name": "stdout",
          "text": [
            "\b\b\b\b\b\b\b\b\b\b\b\b\b\b\b\b\b\b\b\b\b\b\b\b\b\b\b\b\b\b\b\b\b\b\b\b\b\b\b\b\b\b\b\b\b\b\b\b\b\b\b\b\b\b\b\b\b\b\b\b\b\b\b\b\b\b\b\b\b\b\b\b\b\b\b\b\b\b\b\b\b\b\b\b\b\b\b\b\b\b\b\b\b\b\b\b\b\b\b\r18/18 [==============================] - 0s 28ms/step - loss: 109.9709 - mae: 109.9709 - mse: 73724.6953 - val_loss: 593.2842 - val_mae: 593.2842 - val_mse: 1242621.7500\n",
            "Epoch 40/100\n",
            " 1/18 [>.............................] - ETA: 0s - loss: 101.5711 - mae: 101.5711 - mse: 86610.7969"
          ]
        },
        {
          "output_type": "stream",
          "name": "stderr",
          "text": [
            "WARNING:absl:Found untraced functions such as _update_step_xla while saving (showing 1 of 1). These functions will not be directly callable after loading.\n"
          ]
        },
        {
          "output_type": "stream",
          "name": "stdout",
          "text": [
            "\b\b\b\b\b\b\b\b\b\b\b\b\b\b\b\b\b\b\b\b\b\b\b\b\b\b\b\b\b\b\b\b\b\b\b\b\b\b\b\b\b\b\b\b\b\b\b\b\b\b\b\b\b\b\b\b\b\b\b\b\b\b\b\b\b\b\b\b\b\b\b\b\b\b\b\b\b\b\b\b\b\b\b\b\b\b\b\b\b\b\b\b\b\b\b\b\b\b\b\r18/18 [==============================] - 1s 41ms/step - loss: 108.5991 - mae: 108.5991 - mse: 72496.2422 - val_loss: 590.7099 - val_mae: 590.7099 - val_mse: 1230520.1250\n",
            "Epoch 41/100\n",
            "18/18 [==============================] - 0s 5ms/step - loss: 109.8191 - mae: 109.8191 - mse: 72111.9062 - val_loss: 624.5473 - val_mae: 624.5473 - val_mse: 1334792.8750\n",
            "Epoch 42/100\n",
            "18/18 [==============================] - 0s 5ms/step - loss: 117.8098 - mae: 117.8098 - mse: 77830.8906 - val_loss: 591.0900 - val_mae: 591.0900 - val_mse: 1224070.5000\n",
            "Epoch 43/100\n",
            "18/18 [==============================] - 0s 5ms/step - loss: 109.1852 - mae: 109.1852 - mse: 71337.7812 - val_loss: 592.3491 - val_mae: 592.3491 - val_mse: 1245152.8750\n",
            "Epoch 44/100\n",
            " 1/18 [>.............................] - ETA: 0s - loss: 63.0022 - mae: 63.0022 - mse: 14800.6953"
          ]
        },
        {
          "output_type": "stream",
          "name": "stderr",
          "text": [
            "WARNING:absl:Found untraced functions such as _update_step_xla while saving (showing 1 of 1). These functions will not be directly callable after loading.\n"
          ]
        },
        {
          "output_type": "stream",
          "name": "stdout",
          "text": [
            "\b\b\b\b\b\b\b\b\b\b\b\b\b\b\b\b\b\b\b\b\b\b\b\b\b\b\b\b\b\b\b\b\b\b\b\b\b\b\b\b\b\b\b\b\b\b\b\b\b\b\b\b\b\b\b\b\b\b\b\b\b\b\b\b\b\b\b\b\b\b\b\b\b\b\b\b\b\b\b\b\b\b\b\b\b\b\b\b\b\b\b\b\b\b\b\b\b\r18/18 [==============================] - 1s 29ms/step - loss: 107.4524 - mae: 107.4524 - mse: 71096.2031 - val_loss: 584.6964 - val_mae: 584.6964 - val_mse: 1216334.0000\n",
            "Epoch 45/100\n",
            "18/18 [==============================] - 0s 6ms/step - loss: 106.9567 - mae: 106.9567 - mse: 71186.8750 - val_loss: 603.9791 - val_mae: 603.9791 - val_mse: 1275652.8750\n",
            "Epoch 46/100\n",
            "18/18 [==============================] - 0s 5ms/step - loss: 109.8601 - mae: 109.8601 - mse: 71087.7891 - val_loss: 594.5167 - val_mae: 594.5167 - val_mse: 1225882.2500\n",
            "Epoch 47/100\n",
            "18/18 [==============================] - 0s 6ms/step - loss: 109.9092 - mae: 109.9092 - mse: 73125.4531 - val_loss: 668.5435 - val_mae: 668.5435 - val_mse: 1390767.0000\n",
            "Epoch 48/100\n",
            "18/18 [==============================] - 0s 5ms/step - loss: 107.9214 - mae: 107.9214 - mse: 71543.7891 - val_loss: 588.9838 - val_mae: 588.9838 - val_mse: 1212412.7500\n",
            "Epoch 49/100\n",
            "18/18 [==============================] - 0s 5ms/step - loss: 108.3151 - mae: 108.3151 - mse: 71482.5938 - val_loss: 606.6071 - val_mae: 606.6071 - val_mse: 1249859.3750\n",
            "Epoch 50/100\n",
            "18/18 [==============================] - 0s 5ms/step - loss: 111.5917 - mae: 111.5917 - mse: 73191.9531 - val_loss: 651.6060 - val_mae: 651.6060 - val_mse: 1388271.8750\n",
            "Epoch 51/100\n",
            "18/18 [==============================] - 0s 5ms/step - loss: 109.9483 - mae: 109.9483 - mse: 71704.0234 - val_loss: 586.8118 - val_mae: 586.8118 - val_mse: 1206043.1250\n",
            "Epoch 52/100\n",
            "15/18 [========================>.....] - ETA: 0s - loss: 112.0327 - mae: 112.0327 - mse: 77174.7344"
          ]
        },
        {
          "output_type": "stream",
          "name": "stderr",
          "text": [
            "WARNING:absl:Found untraced functions such as _update_step_xla while saving (showing 1 of 1). These functions will not be directly callable after loading.\n"
          ]
        },
        {
          "output_type": "stream",
          "name": "stdout",
          "text": [
            "\b\b\b\b\b\b\b\b\b\b\b\b\b\b\b\b\b\b\b\b\b\b\b\b\b\b\b\b\b\b\b\b\b\b\b\b\b\b\b\b\b\b\b\b\b\b\b\b\b\b\b\b\b\b\b\b\b\b\b\b\b\b\b\b\b\b\b\b\b\b\b\b\b\b\b\b\b\b\b\b\b\b\b\b\b\b\b\b\b\b\b\b\b\b\b\b\b\b\b\r18/18 [==============================] - 0s 29ms/step - loss: 109.1452 - mae: 109.1452 - mse: 71976.5938 - val_loss: 576.2585 - val_mae: 576.2585 - val_mse: 1189986.0000\n",
            "Epoch 53/100\n",
            "18/18 [==============================] - 0s 5ms/step - loss: 108.7970 - mae: 108.7970 - mse: 71953.0859 - val_loss: 611.6214 - val_mae: 611.6214 - val_mse: 1258406.1250\n",
            "Epoch 54/100\n",
            "18/18 [==============================] - 0s 6ms/step - loss: 107.8964 - mae: 107.8964 - mse: 70650.8672 - val_loss: 582.2319 - val_mae: 582.2319 - val_mse: 1195697.0000\n",
            "Epoch 55/100\n",
            " 1/18 [>.............................] - ETA: 0s - loss: 128.4323 - mae: 128.4323 - mse: 106901.8359"
          ]
        },
        {
          "output_type": "stream",
          "name": "stderr",
          "text": [
            "WARNING:absl:Found untraced functions such as _update_step_xla while saving (showing 1 of 1). These functions will not be directly callable after loading.\n"
          ]
        },
        {
          "output_type": "stream",
          "name": "stdout",
          "text": [
            "\b\b\b\b\b\b\b\b\b\b\b\b\b\b\b\b\b\b\b\b\b\b\b\b\b\b\b\b\b\b\b\b\b\b\b\b\b\b\b\b\b\b\b\b\b\b\b\b\b\b\b\b\b\b\b\b\b\b\b\b\b\b\b\b\b\b\b\b\b\b\b\b\b\b\b\b\b\b\b\b\b\b\b\b\b\b\b\b\b\b\b\b\b\b\b\b\b\b\b\b\r18/18 [==============================] - 0s 28ms/step - loss: 106.4557 - mae: 106.4557 - mse: 70593.0859 - val_loss: 576.0911 - val_mae: 576.0911 - val_mse: 1186098.8750\n",
            "Epoch 56/100\n",
            "18/18 [==============================] - 0s 5ms/step - loss: 106.6665 - mae: 106.6665 - mse: 69922.7969 - val_loss: 756.5892 - val_mae: 756.5892 - val_mse: 1688115.2500\n",
            "Epoch 57/100\n",
            "18/18 [==============================] - 0s 5ms/step - loss: 122.6126 - mae: 122.6126 - mse: 80538.2578 - val_loss: 660.8564 - val_mae: 660.8564 - val_mse: 1403423.8750\n",
            "Epoch 58/100\n",
            "18/18 [==============================] - 0s 5ms/step - loss: 116.8038 - mae: 116.8038 - mse: 73313.5938 - val_loss: 578.0819 - val_mae: 578.0819 - val_mse: 1189217.3750\n",
            "Epoch 59/100\n",
            "18/18 [==============================] - 0s 5ms/step - loss: 107.4415 - mae: 107.4415 - mse: 70359.0234 - val_loss: 599.9326 - val_mae: 599.9326 - val_mse: 1252842.8750\n",
            "Epoch 60/100\n",
            "18/18 [==============================] - 0s 6ms/step - loss: 110.3377 - mae: 110.3377 - mse: 73864.3984 - val_loss: 642.6349 - val_mae: 642.6349 - val_mse: 1318626.1250\n",
            "Epoch 61/100\n",
            "18/18 [==============================] - 0s 5ms/step - loss: 110.2803 - mae: 110.2803 - mse: 73621.6719 - val_loss: 586.0817 - val_mae: 586.0817 - val_mse: 1198488.3750\n",
            "Epoch 62/100\n",
            "18/18 [==============================] - 0s 5ms/step - loss: 107.0313 - mae: 107.0313 - mse: 70046.5078 - val_loss: 595.5811 - val_mae: 595.5811 - val_mse: 1239148.0000\n",
            "Epoch 63/100\n",
            "18/18 [==============================] - 0s 5ms/step - loss: 111.8449 - mae: 111.8449 - mse: 73159.5703 - val_loss: 615.3086 - val_mae: 615.3086 - val_mse: 1260329.7500\n",
            "Epoch 64/100\n",
            "18/18 [==============================] - 0s 7ms/step - loss: 108.3055 - mae: 108.3055 - mse: 70385.7812 - val_loss: 586.4200 - val_mae: 586.4200 - val_mse: 1199372.6250\n",
            "Epoch 65/100\n",
            " 1/18 [>.............................] - ETA: 0s - loss: 127.5959 - mae: 127.5959 - mse: 165646.2812"
          ]
        },
        {
          "output_type": "stream",
          "name": "stderr",
          "text": [
            "WARNING:absl:Found untraced functions such as _update_step_xla while saving (showing 1 of 1). These functions will not be directly callable after loading.\n"
          ]
        },
        {
          "output_type": "stream",
          "name": "stdout",
          "text": [
            "\b\b\b\b\b\b\b\b\b\b\b\b\b\b\b\b\b\b\b\b\b\b\b\b\b\b\b\b\b\b\b\b\b\b\b\b\b\b\b\b\b\b\b\b\b\b\b\b\b\b\b\b\b\b\b\b\b\b\b\b\b\b\b\b\b\b\b\b\b\b\b\b\b\b\b\b\b\b\b\b\b\b\b\b\b\b\b\b\b\b\b\b\b\b\b\b\b\b\b\b\r18/18 [==============================] - 0s 28ms/step - loss: 107.3378 - mae: 107.3378 - mse: 70245.8594 - val_loss: 574.4475 - val_mae: 574.4475 - val_mse: 1184217.7500\n",
            "Epoch 66/100\n",
            "18/18 [==============================] - 0s 6ms/step - loss: 105.7355 - mae: 105.7355 - mse: 69406.3281 - val_loss: 579.4870 - val_mae: 579.4870 - val_mse: 1185350.0000\n",
            "Epoch 67/100\n",
            "18/18 [==============================] - 0s 5ms/step - loss: 105.6300 - mae: 105.6300 - mse: 69048.3984 - val_loss: 685.4520 - val_mae: 685.4520 - val_mse: 1461025.5000\n",
            "Epoch 68/100\n",
            "18/18 [==============================] - 0s 5ms/step - loss: 110.0404 - mae: 110.0404 - mse: 68508.1562 - val_loss: 638.6699 - val_mae: 638.6699 - val_mse: 1339861.1250\n",
            "Epoch 69/100\n",
            "18/18 [==============================] - 0s 6ms/step - loss: 120.9398 - mae: 120.9398 - mse: 78190.2188 - val_loss: 586.1517 - val_mae: 586.1517 - val_mse: 1216039.1250\n",
            "Epoch 70/100\n",
            "18/18 [==============================] - 0s 6ms/step - loss: 128.0070 - mae: 128.0070 - mse: 84452.5703 - val_loss: 599.7160 - val_mae: 599.7160 - val_mse: 1252076.5000\n",
            "Epoch 71/100\n",
            "18/18 [==============================] - 0s 6ms/step - loss: 110.1109 - mae: 110.1109 - mse: 71169.3594 - val_loss: 618.7279 - val_mae: 618.7279 - val_mse: 1263331.7500\n",
            "Epoch 72/100\n",
            " 1/18 [>.............................] - ETA: 0s - loss: 109.1030 - mae: 109.1030 - mse: 91835.5938"
          ]
        },
        {
          "output_type": "stream",
          "name": "stderr",
          "text": [
            "WARNING:absl:Found untraced functions such as _update_step_xla while saving (showing 1 of 1). These functions will not be directly callable after loading.\n"
          ]
        },
        {
          "output_type": "stream",
          "name": "stdout",
          "text": [
            "\b\b\b\b\b\b\b\b\b\b\b\b\b\b\b\b\b\b\b\b\b\b\b\b\b\b\b\b\b\b\b\b\b\b\b\b\b\b\b\b\b\b\b\b\b\b\b\b\b\b\b\b\b\b\b\b\b\b\b\b\b\b\b\b\b\b\b\b\b\b\b\b\b\b\b\b\b\b\b\b\b\b\b\b\b\b\b\b\b\b\b\b\b\b\b\b\b\b\b\r18/18 [==============================] - 0s 28ms/step - loss: 107.0931 - mae: 107.0931 - mse: 69997.2578 - val_loss: 571.0343 - val_mae: 571.0343 - val_mse: 1171597.1250\n",
            "Epoch 73/100\n",
            "18/18 [==============================] - 0s 5ms/step - loss: 109.4675 - mae: 109.4675 - mse: 70842.6875 - val_loss: 582.4209 - val_mae: 582.4209 - val_mse: 1205704.0000\n",
            "Epoch 74/100\n",
            "18/18 [==============================] - 0s 5ms/step - loss: 105.8892 - mae: 105.8892 - mse: 69513.7109 - val_loss: 576.9720 - val_mae: 576.9720 - val_mse: 1190337.6250\n",
            "Epoch 75/100\n",
            "18/18 [==============================] - 0s 5ms/step - loss: 106.6292 - mae: 106.6292 - mse: 69044.5781 - val_loss: 590.9260 - val_mae: 590.9260 - val_mse: 1203126.1250\n",
            "Epoch 76/100\n",
            "18/18 [==============================] - 0s 5ms/step - loss: 108.4757 - mae: 108.4757 - mse: 70340.4297 - val_loss: 587.3595 - val_mae: 587.3595 - val_mse: 1214495.8750\n",
            "Epoch 77/100\n",
            "18/18 [==============================] - 0s 5ms/step - loss: 107.8793 - mae: 107.8793 - mse: 69582.2344 - val_loss: 573.0482 - val_mae: 573.0482 - val_mse: 1179286.0000\n",
            "Epoch 78/100\n",
            "18/18 [==============================] - 0s 5ms/step - loss: 105.5775 - mae: 105.5775 - mse: 68291.3203 - val_loss: 571.8434 - val_mae: 571.8434 - val_mse: 1174798.7500\n",
            "Epoch 79/100\n",
            "18/18 [==============================] - 0s 5ms/step - loss: 105.6165 - mae: 105.6165 - mse: 69518.8047 - val_loss: 587.8682 - val_mae: 587.8682 - val_mse: 1216322.7500\n",
            "Epoch 80/100\n",
            "18/18 [==============================] - 0s 5ms/step - loss: 107.3947 - mae: 107.3947 - mse: 71010.7812 - val_loss: 609.9835 - val_mae: 609.9835 - val_mse: 1241241.6250\n",
            "Epoch 81/100\n",
            "18/18 [==============================] - 0s 5ms/step - loss: 106.8866 - mae: 106.8866 - mse: 69806.0547 - val_loss: 575.4024 - val_mae: 575.4024 - val_mse: 1185626.6250\n",
            "Epoch 82/100\n",
            "18/18 [==============================] - 0s 6ms/step - loss: 114.1595 - mae: 114.1595 - mse: 75041.8750 - val_loss: 574.7027 - val_mae: 574.7027 - val_mse: 1183231.2500\n",
            "Epoch 83/100\n",
            "18/18 [==============================] - 0s 5ms/step - loss: 109.6050 - mae: 109.6050 - mse: 70639.8672 - val_loss: 607.3445 - val_mae: 607.3445 - val_mse: 1260714.8750\n",
            "Epoch 84/100\n",
            " 1/18 [>.............................] - ETA: 0s - loss: 115.2653 - mae: 115.2653 - mse: 92116.9766"
          ]
        },
        {
          "output_type": "stream",
          "name": "stderr",
          "text": [
            "WARNING:absl:Found untraced functions such as _update_step_xla while saving (showing 1 of 1). These functions will not be directly callable after loading.\n"
          ]
        },
        {
          "output_type": "stream",
          "name": "stdout",
          "text": [
            "\b\b\b\b\b\b\b\b\b\b\b\b\b\b\b\b\b\b\b\b\b\b\b\b\b\b\b\b\b\b\b\b\b\b\b\b\b\b\b\b\b\b\b\b\b\b\b\b\b\b\b\b\b\b\b\b\b\b\b\b\b\b\b\b\b\b\b\b\b\b\b\b\b\b\b\b\b\b\b\b\b\b\b\b\b\b\b\b\b\b\b\b\b\b\b\b\b\b\b\r18/18 [==============================] - 1s 32ms/step - loss: 108.1004 - mae: 108.1004 - mse: 70464.2266 - val_loss: 569.8313 - val_mae: 569.8313 - val_mse: 1168576.6250\n",
            "Epoch 85/100\n",
            "18/18 [==============================] - 0s 8ms/step - loss: 105.0738 - mae: 105.0738 - mse: 68879.1484 - val_loss: 585.5565 - val_mae: 585.5565 - val_mse: 1189477.6250\n",
            "Epoch 86/100\n",
            "18/18 [==============================] - 0s 10ms/step - loss: 106.2445 - mae: 106.2445 - mse: 68232.2734 - val_loss: 588.3483 - val_mae: 588.3483 - val_mse: 1194362.5000\n",
            "Epoch 87/100\n",
            "18/18 [==============================] - 0s 7ms/step - loss: 105.1395 - mae: 105.1395 - mse: 67493.8125 - val_loss: 573.1078 - val_mae: 573.1078 - val_mse: 1177425.1250\n",
            "Epoch 88/100\n",
            "18/18 [==============================] - 0s 9ms/step - loss: 105.5008 - mae: 105.5008 - mse: 69431.1094 - val_loss: 570.2647 - val_mae: 570.2647 - val_mse: 1169538.7500\n",
            "Epoch 89/100\n",
            "18/18 [==============================] - 0s 7ms/step - loss: 105.0156 - mae: 105.0156 - mse: 67905.3203 - val_loss: 571.6003 - val_mae: 571.6003 - val_mse: 1165498.7500\n",
            "Epoch 90/100\n",
            "18/18 [==============================] - 0s 7ms/step - loss: 105.5034 - mae: 105.5034 - mse: 66840.5000 - val_loss: 607.8005 - val_mae: 607.8005 - val_mse: 1233421.2500\n",
            "Epoch 91/100\n",
            "18/18 [==============================] - 0s 7ms/step - loss: 108.5188 - mae: 108.5188 - mse: 70336.4141 - val_loss: 624.6597 - val_mae: 624.6597 - val_mse: 1300123.3750\n",
            "Epoch 92/100\n",
            "18/18 [==============================] - 0s 7ms/step - loss: 107.3970 - mae: 107.3970 - mse: 69727.2188 - val_loss: 590.3737 - val_mae: 590.3737 - val_mse: 1221059.1250\n",
            "Epoch 93/100\n",
            "18/18 [==============================] - 0s 7ms/step - loss: 114.2758 - mae: 114.2758 - mse: 72704.6484 - val_loss: 606.9791 - val_mae: 606.9791 - val_mse: 1259845.7500\n",
            "Epoch 94/100\n",
            "18/18 [==============================] - 0s 7ms/step - loss: 111.9587 - mae: 111.9587 - mse: 73022.3203 - val_loss: 591.2825 - val_mae: 591.2825 - val_mse: 1200384.7500\n",
            "Epoch 95/100\n",
            "13/18 [====================>.........] - ETA: 0s - loss: 104.8073 - mae: 104.8073 - mse: 67828.1641 "
          ]
        },
        {
          "output_type": "stream",
          "name": "stderr",
          "text": [
            "WARNING:absl:Found untraced functions such as _update_step_xla while saving (showing 1 of 1). These functions will not be directly callable after loading.\n"
          ]
        },
        {
          "output_type": "stream",
          "name": "stdout",
          "text": [
            "\b\b\b\b\b\b\b\b\b\b\b\b\b\b\b\b\b\b\b\b\b\b\b\b\b\b\b\b\b\b\b\b\b\b\b\b\b\b\b\b\b\b\b\b\b\b\b\b\b\b\b\b\b\b\b\b\b\b\b\b\b\b\b\b\b\b\b\b\b\b\b\b\b\b\b\b\b\b\b\b\b\b\b\b\b\b\b\b\b\b\b\b\b\b\b\b\b\b\b\r18/18 [==============================] - 1s 40ms/step - loss: 104.8259 - mae: 104.8259 - mse: 67865.3750 - val_loss: 569.8228 - val_mae: 569.8228 - val_mse: 1162721.1250\n",
            "Epoch 96/100\n",
            "18/18 [==============================] - 0s 5ms/step - loss: 112.6854 - mae: 112.6854 - mse: 71503.6172 - val_loss: 639.3119 - val_mae: 639.3119 - val_mse: 1338330.8750\n",
            "Epoch 97/100\n",
            "18/18 [==============================] - 0s 5ms/step - loss: 110.1979 - mae: 110.1979 - mse: 71325.8438 - val_loss: 596.0432 - val_mae: 596.0432 - val_mse: 1237207.5000\n",
            "Epoch 98/100\n",
            "18/18 [==============================] - 0s 6ms/step - loss: 109.0391 - mae: 109.0391 - mse: 69600.9766 - val_loss: 590.7841 - val_mae: 590.7841 - val_mse: 1197845.0000\n",
            "Epoch 99/100\n",
            " 1/18 [>.............................] - ETA: 0s - loss: 148.3292 - mae: 148.3292 - mse: 124835.7266"
          ]
        },
        {
          "output_type": "stream",
          "name": "stderr",
          "text": [
            "WARNING:absl:Found untraced functions such as _update_step_xla while saving (showing 1 of 1). These functions will not be directly callable after loading.\n"
          ]
        },
        {
          "output_type": "stream",
          "name": "stdout",
          "text": [
            "\b\b\b\b\b\b\b\b\b\b\b\b\b\b\b\b\b\b\b\b\b\b\b\b\b\b\b\b\b\b\b\b\b\b\b\b\b\b\b\b\b\b\b\b\b\b\b\b\b\b\b\b\b\b\b\b\b\b\b\b\b\b\b\b\b\b\b\b\b\b\b\b\b\b\b\b\b\b\b\b\b\b\b\b\b\b\b\b\b\b\b\b\b\b\b\b\b\b\b\b\r18/18 [==============================] - 0s 28ms/step - loss: 109.4003 - mae: 109.4003 - mse: 70064.4062 - val_loss: 568.7688 - val_mae: 568.7688 - val_mse: 1160734.3750\n",
            "Epoch 100/100\n",
            "18/18 [==============================] - 0s 5ms/step - loss: 105.4353 - mae: 105.4353 - mse: 67624.6562 - val_loss: 570.8100 - val_mae: 570.8100 - val_mse: 1163256.0000\n"
          ]
        }
      ]
    },
    {
      "cell_type": "code",
      "source": [
        "naive_results"
      ],
      "metadata": {
        "colab": {
          "base_uri": "https://localhost:8080/"
        },
        "id": "3AqANjAFjzfO",
        "outputId": "b1b0577a-bdb4-4abb-e16c-f2d7c68befdb"
      },
      "execution_count": 41,
      "outputs": [
        {
          "output_type": "execute_result",
          "data": {
            "text/plain": [
              "{'mae': 567.9802,\n",
              " 'mse': 1147547.0,\n",
              " 'rmse': 1071.2362,\n",
              " 'mape': 2.516525,\n",
              " 'mase': 0.99957}"
            ]
          },
          "metadata": {},
          "execution_count": 41
        }
      ]
    },
    {
      "cell_type": "code",
      "source": [
        "# Evaluate model on test data\n",
        "model_1.evaluate(test_windows, test_labels)"
      ],
      "metadata": {
        "colab": {
          "base_uri": "https://localhost:8080/"
        },
        "id": "7ZxXvMGjkRSf",
        "outputId": "162e1755-1fdd-4c31-9c43-6bc49c093d1a"
      },
      "execution_count": 42,
      "outputs": [
        {
          "output_type": "stream",
          "name": "stdout",
          "text": [
            "18/18 [==============================] - 0s 2ms/step - loss: 570.8100 - mae: 570.8100 - mse: 1163256.0000\n"
          ]
        },
        {
          "output_type": "execute_result",
          "data": {
            "text/plain": [
              "[570.8099975585938, 570.8099975585938, 1163256.0]"
            ]
          },
          "metadata": {},
          "execution_count": 42
        }
      ]
    },
    {
      "cell_type": "code",
      "source": [
        "# Loading in saved best performing model_1 and evaluate it on test data\n",
        "model_1 = tf.keras.models.load_model(\"model_experiments/model_1_dense/\")\n",
        "model_1.evaluate(test_windows, test_labels)"
      ],
      "metadata": {
        "colab": {
          "base_uri": "https://localhost:8080/"
        },
        "id": "AuBsyUEDkyAD",
        "outputId": "3505d934-d47d-465f-ba71-6d2626d2db14"
      },
      "execution_count": 43,
      "outputs": [
        {
          "output_type": "stream",
          "name": "stdout",
          "text": [
            "18/18 [==============================] - 0s 4ms/step - loss: 568.7688 - mae: 568.7688 - mse: 1160735.0000\n"
          ]
        },
        {
          "output_type": "execute_result",
          "data": {
            "text/plain": [
              "[568.768798828125, 568.768798828125, 1160735.0]"
            ]
          },
          "metadata": {},
          "execution_count": 43
        }
      ]
    },
    {
      "cell_type": "markdown",
      "source": [
        "## Make forecasts with a model (on the test dataset)\n",
        "\n",
        "To make \"forecasts\" on the test dataset (note: these won't be actual forecasts, they're only pseudo forecasts because actual forecasts are into the future), let's write a function to:\n",
        "\n",
        "1. Take in a train model\n",
        "2. Takes in some input data (same kind of data the model was trained on)\n",
        "3. Passes the input data to the model's `predict()` method\n",
        "4. Returns the predictions\n",
        "\n",
        "\n"
      ],
      "metadata": {
        "id": "SHUh2ttrlPs6"
      }
    },
    {
      "cell_type": "code",
      "source": [
        "def make_preds(model, input_data):\n",
        "  \"\"\"\n",
        "  Generates a prediction (forecast) for the given `input_data` using the `model`.\n",
        "\n",
        "  Args:\n",
        "      model (object): A trained machine learning model capable of making predictions.\n",
        "      input_data (object): Input data in the format expected by the `model`.\n",
        "\n",
        "  Returns:\n",
        "      The forecast generated by the `model` for the given `input_data`, as a one-dimensional tensor.\n",
        "  \"\"\"\n",
        "  forecast = model.predict(input_data)\n",
        "  return tf.squeeze(forecast)"
      ],
      "metadata": {
        "id": "g1wsZodHmlKI"
      },
      "execution_count": 44,
      "outputs": []
    },
    {
      "cell_type": "code",
      "source": [
        "# Make predictions using model_1 on the test dataset and view results\n",
        "model_1_preds = make_preds(model_1, test_windows)\n",
        "len(model_1_preds), model_1_preds[:10]"
      ],
      "metadata": {
        "colab": {
          "base_uri": "https://localhost:8080/"
        },
        "id": "m8Rh_0Urn5p6",
        "outputId": "583dcf67-2237-4402-ada7-272e73769797"
      },
      "execution_count": 45,
      "outputs": [
        {
          "output_type": "stream",
          "name": "stdout",
          "text": [
            "18/18 [==============================] - 0s 1ms/step\n"
          ]
        },
        {
          "output_type": "execute_result",
          "data": {
            "text/plain": [
              "(556, <tf.Tensor: shape=(10,), dtype=float32, numpy=\n",
              " array([8833.517, 8772.641, 9041.572, 8745.184, 8727.174, 8728.332,\n",
              "        8687.587, 8491.857, 8459.881, 8525.95 ], dtype=float32)>)"
            ]
          },
          "metadata": {},
          "execution_count": 45
        }
      ]
    },
    {
      "cell_type": "code",
      "source": [
        "test_labels[:10]"
      ],
      "metadata": {
        "colab": {
          "base_uri": "https://localhost:8080/"
        },
        "id": "eM0ZnNCloc-N",
        "outputId": "c078cd9a-effd-4fc2-a5cf-504150ba1a1e"
      },
      "execution_count": 46,
      "outputs": [
        {
          "output_type": "execute_result",
          "data": {
            "text/plain": [
              "array([[8798.04205463],\n",
              "       [9081.18687849],\n",
              "       [8711.53433917],\n",
              "       [8760.89271814],\n",
              "       [8749.52059102],\n",
              "       [8656.97092235],\n",
              "       [8500.64355816],\n",
              "       [8469.2608989 ],\n",
              "       [8537.33965197],\n",
              "       [8205.80636599]])"
            ]
          },
          "metadata": {},
          "execution_count": 46
        }
      ]
    },
    {
      "cell_type": "code",
      "source": [
        "# Evaluate preds\n",
        "model_1_results = evaluate_preds(tf.squeeze(test_labels), model_1_preds)\n",
        "model_1_results"
      ],
      "metadata": {
        "colab": {
          "base_uri": "https://localhost:8080/"
        },
        "id": "-RTSfpA-oiE5",
        "outputId": "c001f24f-c77e-4567-f06a-51e14bd68867"
      },
      "execution_count": 47,
      "outputs": [
        {
          "output_type": "execute_result",
          "data": {
            "text/plain": [
              "{'mae': 568.7688,\n",
              " 'mse': 1160735.1,\n",
              " 'rmse': 1077.3741,\n",
              " 'mape': 2.5498853,\n",
              " 'mase': 0.99916923}"
            ]
          },
          "metadata": {},
          "execution_count": 47
        }
      ]
    },
    {
      "cell_type": "code",
      "source": [
        "naive_results"
      ],
      "metadata": {
        "colab": {
          "base_uri": "https://localhost:8080/"
        },
        "id": "0fNFPKIIo0B4",
        "outputId": "1508b1d6-48ab-4db5-d59e-e056781fb93b"
      },
      "execution_count": 48,
      "outputs": [
        {
          "output_type": "execute_result",
          "data": {
            "text/plain": [
              "{'mae': 567.9802,\n",
              " 'mse': 1147547.0,\n",
              " 'rmse': 1071.2362,\n",
              " 'mape': 2.516525,\n",
              " 'mase': 0.99957}"
            ]
          },
          "metadata": {},
          "execution_count": 48
        }
      ]
    },
    {
      "cell_type": "code",
      "source": [
        "# Let's plot our model 1 predictions\n",
        "offset = 450\n",
        "plt.figure(figsize=(10, 7))\n",
        "# Account for the test_window offset and index into test_labels to ensure correct plotting\n",
        "plot_time_series(timesteps=X_test[-len(test_windows):], values=test_labels[:, 0], start=offset, label=\"Test Data\")\n",
        "\n",
        "plot_time_series(timesteps=X_test[-len(test_windows):],\n",
        "                 values=model_1_preds,\n",
        "                 start=offset,\n",
        "                 format=\"-\",\n",
        "                 label=\"Model_1_preds\")"
      ],
      "metadata": {
        "colab": {
          "base_uri": "https://localhost:8080/",
          "height": 445
        },
        "id": "tki5_fpKo79D",
        "outputId": "ee85201f-cef4-46f1-9280-6ada5d54c155"
      },
      "execution_count": 49,
      "outputs": [
        {
          "output_type": "display_data",
          "data": {
            "text/plain": [
              "<Figure size 720x504 with 1 Axes>"
            ],
            "image/png": "[encoded data removed]"
          },
          "metadata": {
            "needs_background": "light"
          }
        }
      ]
    },
    {
      "cell_type": "markdown",
      "source": [
        "## Model 2: Dense (window = 30, horizon = 1)"
      ],
      "metadata": {
        "id": "j5mIroMeqQIl"
      }
    },
    {
      "cell_type": "code",
      "source": [
        "HORIZON = 1\n",
        "WINDOW_SIZE = 30\n"
      ],
      "metadata": {
        "id": "TL35D8VYthRe"
      },
      "execution_count": 50,
      "outputs": []
    },
    {
      "cell_type": "code",
      "source": [
        "# Make window data with appropriate horizon and window sizes\n",
        "full_windows, full_labels = make_windows(prices, window_size=WINDOW_SIZE, horizon=HORIZON)\n",
        "len(full_windows), len(full_labels)"
      ],
      "metadata": {
        "colab": {
          "base_uri": "https://localhost:8080/"
        },
        "id": "Cgy1wgz2yykP",
        "outputId": "4a239744-0704-4d1e-bcaa-baa8c55b06f8"
      },
      "execution_count": 51,
      "outputs": [
        {
          "output_type": "execute_result",
          "data": {
            "text/plain": [
              "(2757, 2757)"
            ]
          },
          "metadata": {},
          "execution_count": 51
        }
      ]
    },
    {
      "cell_type": "code",
      "source": [
        "# Make train and test windows\n",
        "train_windows, test_windows, train_labels, test_labels = make_train_test_splits(windows=full_windows,\n",
        "                                                                                labels=full_labels,\n",
        "                                                                                test_split=0.2)\n",
        "len(train_windows), len(train_labels), len(test_windows), len(test_labels)"
      ],
      "metadata": {
        "colab": {
          "base_uri": "https://localhost:8080/"
        },
        "id": "nPTOTyScy3_K",
        "outputId": "4053b6ec-d8be-4e39-a70d-af7d94094bff"
      },
      "execution_count": 52,
      "outputs": [
        {
          "output_type": "execute_result",
          "data": {
            "text/plain": [
              "(2205, 2205, 552, 552)"
            ]
          },
          "metadata": {},
          "execution_count": 52
        }
      ]
    },
    {
      "cell_type": "code",
      "source": [
        "tf.random.set_seed(42)\n",
        "\n",
        "# Create a model\n",
        "model_2 = tf.keras.Sequential([\n",
        "    layers.Dense(128, activation=\"relu\"),\n",
        "    layers.Dense(HORIZON)\n",
        "], name=\"model_2_dense\")\n",
        "\n",
        "# Compile\n",
        "model_2.compile(loss=\"mae\",\n",
        "                optimizer=tf.keras.optimizers.Adam(),\n",
        "                metrics=[\"mae\", \"mse\"])\n",
        "\n",
        "# Fit the model\n",
        "model_2_history = model_2.fit(train_windows, train_labels,\n",
        "                              batch_size=128,\n",
        "                              epochs=100,\n",
        "                              verbose=1,\n",
        "                              validation_data=(test_windows, test_labels),\n",
        "                              callbacks=[create_model_checkpoint(\"model_2_dense\")])"
      ],
      "metadata": {
        "colab": {
          "base_uri": "https://localhost:8080/"
        },
        "id": "TZTnuZe8ztO7",
        "outputId": "89e74b7e-0f9f-4ac0-850d-f429a6674ada"
      },
      "execution_count": 53,
      "outputs": [
        {
          "output_type": "stream",
          "name": "stdout",
          "text": [
            "Epoch 1/100\n",
            "18/18 [==============================] - ETA: 0s - loss: 1423.9369 - mae: 1423.9369 - mse: 8234887.5000  "
          ]
        },
        {
          "output_type": "stream",
          "name": "stderr",
          "text": [
            "WARNING:absl:Found untraced functions such as _update_step_xla while saving (showing 1 of 1). These functions will not be directly callable after loading.\n"
          ]
        },
        {
          "output_type": "stream",
          "name": "stdout",
          "text": [
            "\b\b\b\b\b\b\b\b\b\b\b\b\b\b\b\b\b\b\b\b\b\b\b\b\b\b\b\b\b\b\b\b\b\b\b\b\b\b\b\b\b\b\b\b\b\b\b\b\b\b\b\b\b\b\b\b\b\b\b\b\b\b\b\b\b\b\b\b\b\b\b\b\b\b\b\b\b\b\b\b\b\b\b\b\b\b\b\b\b\b\b\b\b\b\b\b\b\b\b\b\b\b\b\r18/18 [==============================] - 1s 37ms/step - loss: 1423.9369 - mae: 1423.9369 - mse: 8234887.5000 - val_loss: 4811.8550 - val_mae: 4811.8550 - val_mse: 45592852.0000\n",
            "Epoch 2/100\n",
            "17/18 [===========================>..] - ETA: 0s - loss: 434.6313 - mae: 434.6313 - mse: 752194.2500 "
          ]
        },
        {
          "output_type": "stream",
          "name": "stderr",
          "text": [
            "WARNING:absl:Found untraced functions such as _update_step_xla while saving (showing 1 of 1). These functions will not be directly callable after loading.\n"
          ]
        },
        {
          "output_type": "stream",
          "name": "stdout",
          "text": [
            "\b\b\b\b\b\b\b\b\b\b\b\b\b\b\b\b\b\b\b\b\b\b\b\b\b\b\b\b\b\b\b\b\b\b\b\b\b\b\b\b\b\b\b\b\b\b\b\b\b\b\b\b\b\b\b\b\b\b\b\b\b\b\b\b\b\b\b\b\b\b\b\b\b\b\b\b\b\b\b\b\b\b\b\b\b\b\b\b\b\b\b\b\b\b\b\b\b\b\b\b\r18/18 [==============================] - 0s 29ms/step - loss: 432.5127 - mae: 432.5127 - mse: 745993.7500 - val_loss: 1902.0432 - val_mae: 1902.0432 - val_mse: 9690479.0000\n",
            "Epoch 3/100\n",
            " 1/18 [>.............................] - ETA: 0s - loss: 285.6210 - mae: 285.6210 - mse: 520290.8125"
          ]
        },
        {
          "output_type": "stream",
          "name": "stderr",
          "text": [
            "WARNING:absl:Found untraced functions such as _update_step_xla while saving (showing 1 of 1). These functions will not be directly callable after loading.\n"
          ]
        },
        {
          "output_type": "stream",
          "name": "stdout",
          "text": [
            "\b\b\b\b\b\b\b\b\b\b\b\b\b\b\b\b\b\b\b\b\b\b\b\b\b\b\b\b\b\b\b\b\b\b\b\b\b\b\b\b\b\b\b\b\b\b\b\b\b\b\b\b\b\b\b\b\b\b\b\b\b\b\b\b\b\b\b\b\b\b\b\b\b\b\b\b\b\b\b\b\b\b\b\b\b\b\b\b\b\b\b\b\b\b\b\b\b\b\b\b\r18/18 [==============================] - 1s 44ms/step - loss: 279.8045 - mae: 279.8045 - mse: 381636.1250 - val_loss: 1398.7346 - val_mae: 1398.7346 - val_mse: 6268300.5000\n",
            "Epoch 4/100\n",
            "13/18 [====================>.........] - ETA: 0s - loss: 240.8707 - mae: 240.8707 - mse: 293086.5312"
          ]
        },
        {
          "output_type": "stream",
          "name": "stderr",
          "text": [
            "WARNING:absl:Found untraced functions such as _update_step_xla while saving (showing 1 of 1). These functions will not be directly callable after loading.\n"
          ]
        },
        {
          "output_type": "stream",
          "name": "stdout",
          "text": [
            "\b\b\b\b\b\b\b\b\b\b\b\b\b\b\b\b\b\b\b\b\b\b\b\b\b\b\b\b\b\b\b\b\b\b\b\b\b\b\b\b\b\b\b\b\b\b\b\b\b\b\b\b\b\b\b\b\b\b\b\b\b\b\b\b\b\b\b\b\b\b\b\b\b\b\b\b\b\b\b\b\b\b\b\b\b\b\b\b\b\b\b\b\b\b\b\b\b\b\b\b\r18/18 [==============================] - 1s 31ms/step - loss: 246.8233 - mae: 246.8233 - mse: 299450.6562 - val_loss: 1301.6986 - val_mae: 1301.6986 - val_mse: 5453792.5000\n",
            "Epoch 5/100\n",
            " 1/18 [>.............................] - ETA: 0s - loss: 199.7374 - mae: 199.7374 - mse: 158872.1562"
          ]
        },
        {
          "output_type": "stream",
          "name": "stderr",
          "text": [
            "WARNING:absl:Found untraced functions such as _update_step_xla while saving (showing 1 of 1). These functions will not be directly callable after loading.\n"
          ]
        },
        {
          "output_type": "stream",
          "name": "stdout",
          "text": [
            "\b\b\b\b\b\b\b\b\b\b\b\b\b\b\b\b\b\b\b\b\b\b\b\b\b\b\b\b\b\b\b\b\b\b\b\b\b\b\b\b\b\b\b\b\b\b\b\b\b\b\b\b\b\b\b\b\b\b\b\b\b\b\b\b\b\b\b\b\b\b\b\b\b\b\b\b\b\b\b\b\b\b\b\b\b\b\b\b\b\b\b\b\b\b\b\b\b\b\b\b\r18/18 [==============================] - 1s 53ms/step - loss: 233.2317 - mae: 233.2317 - mse: 263076.8750 - val_loss: 1286.2244 - val_mae: 1286.2244 - val_mse: 5036868.5000\n",
            "Epoch 6/100\n",
            "18/18 [==============================] - 0s 14ms/step - loss: 227.6144 - mae: 227.6144 - mse: 256606.9688 - val_loss: 1573.5192 - val_mae: 1573.5192 - val_mse: 6254513.5000\n",
            "Epoch 7/100\n",
            "12/18 [===================>..........] - ETA: 0s - loss: 217.8940 - mae: 217.8940 - mse: 219684.0469"
          ]
        },
        {
          "output_type": "stream",
          "name": "stderr",
          "text": [
            "WARNING:absl:Found untraced functions such as _update_step_xla while saving (showing 1 of 1). These functions will not be directly callable after loading.\n"
          ]
        },
        {
          "output_type": "stream",
          "name": "stdout",
          "text": [
            "\b\b\b\b\b\b\b\b\b\b\b\b\b\b\b\b\b\b\b\b\b\b\b\b\b\b\b\b\b\b\b\b\b\b\b\b\b\b\b\b\b\b\b\b\b\b\b\b\b\b\b\b\b\b\b\b\b\b\b\b\b\b\b\b\b\b\b\b\b\b\b\b\b\b\b\b\b\b\b\b\b\b\b\b\b\b\b\b\b\b\b\b\b\b\b\b\b\b\b\b\r18/18 [==============================] - 1s 40ms/step - loss: 223.5335 - mae: 223.5335 - mse: 233017.3125 - val_loss: 1135.9257 - val_mae: 1135.9257 - val_mse: 4233834.5000\n",
            "Epoch 8/100\n",
            "12/18 [===================>..........] - ETA: 0s - loss: 224.8975 - mae: 224.8975 - mse: 253283.6406"
          ]
        },
        {
          "output_type": "stream",
          "name": "stderr",
          "text": [
            "WARNING:absl:Found untraced functions such as _update_step_xla while saving (showing 1 of 1). These functions will not be directly callable after loading.\n"
          ]
        },
        {
          "output_type": "stream",
          "name": "stdout",
          "text": [
            "\b\b\b\b\b\b\b\b\b\b\b\b\b\b\b\b\b\b\b\b\b\b\b\b\b\b\b\b\b\b\b\b\b\b\b\b\b\b\b\b\b\b\b\b\b\b\b\b\b\b\b\b\b\b\b\b\b\b\b\b\b\b\b\b\b\b\b\b\b\b\b\b\b\b\b\b\b\b\b\b\b\b\b\b\b\b\b\b\b\b\b\b\b\b\b\b\b\b\b\b\r18/18 [==============================] - 1s 73ms/step - loss: 221.2859 - mae: 221.2859 - mse: 236731.4688 - val_loss: 1109.8939 - val_mae: 1109.8939 - val_mse: 4127302.0000\n",
            "Epoch 9/100\n",
            "18/18 [==============================] - 0s 18ms/step - loss: 196.4735 - mae: 196.4735 - mse: 191254.4531 - val_loss: 1116.0309 - val_mae: 1116.0309 - val_mse: 3857756.7500\n",
            "Epoch 10/100\n",
            "13/18 [====================>.........] - ETA: 0s - loss: 195.1325 - mae: 195.1325 - mse: 189940.8438"
          ]
        },
        {
          "output_type": "stream",
          "name": "stderr",
          "text": [
            "WARNING:absl:Found untraced functions such as _update_step_xla while saving (showing 1 of 1). These functions will not be directly callable after loading.\n"
          ]
        },
        {
          "output_type": "stream",
          "name": "stdout",
          "text": [
            "\b\b\b\b\b\b\b\b\b\b\b\b\b\b\b\b\b\b\b\b\b\b\b\b\b\b\b\b\b\b\b\b\b\b\b\b\b\b\b\b\b\b\b\b\b\b\b\b\b\b\b\b\b\b\b\b\b\b\b\b\b\b\b\b\b\b\b\b\b\b\b\b\b\b\b\b\b\b\b\b\b\b\b\b\b\b\b\b\b\b\b\b\b\b\b\b\b\b\b\b\r18/18 [==============================] - 1s 62ms/step - loss: 191.5951 - mae: 191.5951 - mse: 182068.5312 - val_loss: 1055.7825 - val_mae: 1055.7825 - val_mse: 3750670.5000\n",
            "Epoch 11/100\n",
            "18/18 [==============================] - 0s 13ms/step - loss: 183.5077 - mae: 183.5077 - mse: 171674.7969 - val_loss: 1071.1340 - val_mae: 1071.1340 - val_mse: 3478535.7500\n",
            "Epoch 12/100\n",
            "15/18 [========================>.....] - ETA: 0s - loss: 180.2912 - mae: 180.2912 - mse: 167058.7344"
          ]
        },
        {
          "output_type": "stream",
          "name": "stderr",
          "text": [
            "WARNING:absl:Found untraced functions such as _update_step_xla while saving (showing 1 of 1). These functions will not be directly callable after loading.\n"
          ]
        },
        {
          "output_type": "stream",
          "name": "stdout",
          "text": [
            "\b\b\b\b\b\b\b\b\b\b\b\b\b\b\b\b\b\b\b\b\b\b\b\b\b\b\b\b\b\b\b\b\b\b\b\b\b\b\b\b\b\b\b\b\b\b\b\b\b\b\b\b\b\b\b\b\b\b\b\b\b\b\b\b\b\b\b\b\b\b\b\b\b\b\b\b\b\b\b\b\b\b\b\b\b\b\b\b\b\b\b\b\b\b\b\b\b\b\b\b\r18/18 [==============================] - 2s 135ms/step - loss: 179.8392 - mae: 179.8392 - mse: 164801.0312 - val_loss: 992.6254 - val_mae: 992.6254 - val_mse: 3273810.0000\n",
            "Epoch 13/100\n",
            "18/18 [==============================] - 0s 6ms/step - loss: 182.8612 - mae: 182.8612 - mse: 163390.9531 - val_loss: 1017.8839 - val_mae: 1017.8839 - val_mse: 3442882.7500\n",
            "Epoch 14/100\n",
            " 1/18 [>.............................] - ETA: 0s - loss: 221.1257 - mae: 221.1257 - mse: 254481.7500"
          ]
        },
        {
          "output_type": "stream",
          "name": "stderr",
          "text": [
            "WARNING:absl:Found untraced functions such as _update_step_xla while saving (showing 1 of 1). These functions will not be directly callable after loading.\n"
          ]
        },
        {
          "output_type": "stream",
          "name": "stdout",
          "text": [
            "\b\b\b\b\b\b\b\b\b\b\b\b\b\b\b\b\b\b\b\b\b\b\b\b\b\b\b\b\b\b\b\b\b\b\b\b\b\b\b\b\b\b\b\b\b\b\b\b\b\b\b\b\b\b\b\b\b\b\b\b\b\b\b\b\b\b\b\b\b\b\b\b\b\b\b\b\b\b\b\b\b\b\b\b\b\b\b\b\b\b\b\b\b\b\b\b\b\b\b\b\r18/18 [==============================] - 0s 27ms/step - loss: 170.9381 - mae: 170.9381 - mse: 151755.4375 - val_loss: 943.7562 - val_mae: 943.7562 - val_mse: 2912077.2500\n",
            "Epoch 15/100\n",
            "18/18 [==============================] - 0s 6ms/step - loss: 180.9776 - mae: 180.9776 - mse: 154485.2656 - val_loss: 1299.5682 - val_mae: 1299.5682 - val_mse: 5087478.5000\n",
            "Epoch 16/100\n",
            " 1/18 [>.............................] - ETA: 0s - loss: 238.5362 - mae: 238.5362 - mse: 224119.6875"
          ]
        },
        {
          "output_type": "stream",
          "name": "stderr",
          "text": [
            "WARNING:absl:Found untraced functions such as _update_step_xla while saving (showing 1 of 1). These functions will not be directly callable after loading.\n"
          ]
        },
        {
          "output_type": "stream",
          "name": "stdout",
          "text": [
            "\b\b\b\b\b\b\b\b\b\b\b\b\b\b\b\b\b\b\b\b\b\b\b\b\b\b\b\b\b\b\b\b\b\b\b\b\b\b\b\b\b\b\b\b\b\b\b\b\b\b\b\b\b\b\b\b\b\b\b\b\b\b\b\b\b\b\b\b\b\b\b\b\b\b\b\b\b\b\b\b\b\b\b\b\b\b\b\b\b\b\b\b\b\b\b\b\b\b\b\b\r18/18 [==============================] - 0s 28ms/step - loss: 192.9956 - mae: 192.9956 - mse: 175559.5625 - val_loss: 941.8587 - val_mae: 941.8587 - val_mse: 2751034.5000\n",
            "Epoch 17/100\n",
            "18/18 [==============================] - 0s 5ms/step - loss: 160.1376 - mae: 160.1376 - mse: 133276.1562 - val_loss: 1128.0648 - val_mae: 1128.0648 - val_mse: 3417135.7500\n",
            "Epoch 18/100\n",
            "18/18 [==============================] - 0s 5ms/step - loss: 168.5518 - mae: 168.5518 - mse: 140475.4219 - val_loss: 1110.0328 - val_mae: 1110.0328 - val_mse: 3315109.7500\n",
            "Epoch 19/100\n",
            "18/18 [==============================] - 0s 5ms/step - loss: 161.1118 - mae: 161.1118 - mse: 129207.1016 - val_loss: 1032.0806 - val_mae: 1032.0806 - val_mse: 3377003.2500\n",
            "Epoch 20/100\n",
            " 1/18 [>.............................] - ETA: 0s - loss: 195.3514 - mae: 195.3514 - mse: 177421.3750"
          ]
        },
        {
          "output_type": "stream",
          "name": "stderr",
          "text": [
            "WARNING:absl:Found untraced functions such as _update_step_xla while saving (showing 1 of 1). These functions will not be directly callable after loading.\n"
          ]
        },
        {
          "output_type": "stream",
          "name": "stdout",
          "text": [
            "\b\b\b\b\b\b\b\b\b\b\b\b\b\b\b\b\b\b\b\b\b\b\b\b\b\b\b\b\b\b\b\b\b\b\b\b\b\b\b\b\b\b\b\b\b\b\b\b\b\b\b\b\b\b\b\b\b\b\b\b\b\b\b\b\b\b\b\b\b\b\b\b\b\b\b\b\b\b\b\b\b\b\b\b\b\b\b\b\b\b\b\b\b\b\b\b\b\b\b\b\r18/18 [==============================] - 0s 27ms/step - loss: 159.5945 - mae: 159.5945 - mse: 130426.5703 - val_loss: 854.8561 - val_mae: 854.8561 - val_mse: 2372589.7500\n",
            "Epoch 21/100\n",
            "18/18 [==============================] - 0s 6ms/step - loss: 174.7325 - mae: 174.7325 - mse: 143950.3750 - val_loss: 887.3600 - val_mae: 887.3600 - val_mse: 2591618.7500\n",
            "Epoch 22/100\n",
            "18/18 [==============================] - 0s 6ms/step - loss: 149.2507 - mae: 149.2507 - mse: 112782.3984 - val_loss: 894.5078 - val_mae: 894.5078 - val_mse: 2385599.0000\n",
            "Epoch 23/100\n",
            " 1/18 [>.............................] - ETA: 0s - loss: 184.0700 - mae: 184.0700 - mse: 125034.2891"
          ]
        },
        {
          "output_type": "stream",
          "name": "stderr",
          "text": [
            "WARNING:absl:Found untraced functions such as _update_step_xla while saving (showing 1 of 1). These functions will not be directly callable after loading.\n"
          ]
        },
        {
          "output_type": "stream",
          "name": "stdout",
          "text": [
            "\b\b\b\b\b\b\b\b\b\b\b\b\b\b\b\b\b\b\b\b\b\b\b\b\b\b\b\b\b\b\b\b\b\b\b\b\b\b\b\b\b\b\b\b\b\b\b\b\b\b\b\b\b\b\b\b\b\b\b\b\b\b\b\b\b\b\b\b\b\b\b\b\b\b\b\b\b\b\b\b\b\b\b\b\b\b\b\b\b\b\b\b\b\b\b\b\b\b\b\b\r18/18 [==============================] - 0s 27ms/step - loss: 154.9610 - mae: 154.9610 - mse: 118272.7734 - val_loss: 847.6835 - val_mae: 847.6835 - val_mse: 2221608.5000\n",
            "Epoch 24/100\n",
            " 1/18 [>.............................] - ETA: 0s - loss: 174.5032 - mae: 174.5032 - mse: 122237.1562"
          ]
        },
        {
          "output_type": "stream",
          "name": "stderr",
          "text": [
            "WARNING:absl:Found untraced functions such as _update_step_xla while saving (showing 1 of 1). These functions will not be directly callable after loading.\n"
          ]
        },
        {
          "output_type": "stream",
          "name": "stdout",
          "text": [
            "\b\b\b\b\b\b\b\b\b\b\b\b\b\b\b\b\b\b\b\b\b\b\b\b\b\b\b\b\b\b\b\b\b\b\b\b\b\b\b\b\b\b\b\b\b\b\b\b\b\b\b\b\b\b\b\b\b\b\b\b\b\b\b\b\b\b\b\b\b\b\b\b\b\b\b\b\b\b\b\b\b\b\b\b\b\b\b\b\b\b\b\b\b\b\b\b\b\b\b\b\r18/18 [==============================] - 1s 30ms/step - loss: 145.3729 - mae: 145.3729 - mse: 110390.3359 - val_loss: 813.3804 - val_mae: 813.3804 - val_mse: 2187981.5000\n",
            "Epoch 25/100\n",
            "18/18 [==============================] - 0s 5ms/step - loss: 154.8289 - mae: 154.8289 - mse: 118166.5391 - val_loss: 1017.8661 - val_mae: 1017.8661 - val_mse: 2801950.5000\n",
            "Epoch 26/100\n",
            "18/18 [==============================] - 0s 5ms/step - loss: 154.2155 - mae: 154.2155 - mse: 117904.5859 - val_loss: 985.0917 - val_mae: 985.0917 - val_mse: 3018459.2500\n",
            "Epoch 27/100\n",
            "18/18 [==============================] - 0s 5ms/step - loss: 174.3786 - mae: 174.3786 - mse: 139014.6250 - val_loss: 885.9189 - val_mae: 885.9189 - val_mse: 2532210.2500\n",
            "Epoch 28/100\n",
            "18/18 [==============================] - 0s 5ms/step - loss: 161.9302 - mae: 161.9302 - mse: 124522.3594 - val_loss: 848.9034 - val_mae: 848.9034 - val_mse: 2345671.0000\n",
            "Epoch 29/100\n",
            "18/18 [==============================] - 0s 5ms/step - loss: 144.2090 - mae: 144.2090 - mse: 106285.0234 - val_loss: 1078.8115 - val_mae: 1078.8115 - val_mse: 3007030.7500\n",
            "Epoch 30/100\n",
            "18/18 [==============================] - 0s 5ms/step - loss: 158.9181 - mae: 158.9181 - mse: 118158.8984 - val_loss: 1013.8501 - val_mae: 1013.8501 - val_mse: 2735424.0000\n",
            "Epoch 31/100\n",
            "18/18 [==============================] - 0s 5ms/step - loss: 146.6830 - mae: 146.6830 - mse: 107899.8750 - val_loss: 844.1572 - val_mae: 844.1572 - val_mse: 2297630.5000\n",
            "Epoch 32/100\n",
            "18/18 [==============================] - 0s 5ms/step - loss: 149.9600 - mae: 149.9600 - mse: 111031.3516 - val_loss: 841.9289 - val_mae: 841.9289 - val_mse: 2088924.7500\n",
            "Epoch 33/100\n",
            " 1/18 [>.............................] - ETA: 0s - loss: 143.1484 - mae: 143.1484 - mse: 73733.4688"
          ]
        },
        {
          "output_type": "stream",
          "name": "stderr",
          "text": [
            "WARNING:absl:Found untraced functions such as _update_step_xla while saving (showing 1 of 1). These functions will not be directly callable after loading.\n"
          ]
        },
        {
          "output_type": "stream",
          "name": "stdout",
          "text": [
            "\b\b\b\b\b\b\b\b\b\b\b\b\b\b\b\b\b\b\b\b\b\b\b\b\b\b\b\b\b\b\b\b\b\b\b\b\b\b\b\b\b\b\b\b\b\b\b\b\b\b\b\b\b\b\b\b\b\b\b\b\b\b\b\b\b\b\b\b\b\b\b\b\b\b\b\b\b\b\b\b\b\b\b\b\b\b\b\b\b\b\b\b\b\b\b\b\b\b\b\r18/18 [==============================] - 0s 28ms/step - loss: 147.3689 - mae: 147.3689 - mse: 104186.7656 - val_loss: 798.9645 - val_mae: 798.9645 - val_mse: 1941239.6250\n",
            "Epoch 34/100\n",
            " 1/18 [>.............................] - ETA: 0s - loss: 142.3684 - mae: 142.3684 - mse: 77143.2656"
          ]
        },
        {
          "output_type": "stream",
          "name": "stderr",
          "text": [
            "WARNING:absl:Found untraced functions such as _update_step_xla while saving (showing 1 of 1). These functions will not be directly callable after loading.\n"
          ]
        },
        {
          "output_type": "stream",
          "name": "stdout",
          "text": [
            "\b\b\b\b\b\b\b\b\b\b\b\b\b\b\b\b\b\b\b\b\b\b\b\b\b\b\b\b\b\b\b\b\b\b\b\b\b\b\b\b\b\b\b\b\b\b\b\b\b\b\b\b\b\b\b\b\b\b\b\b\b\b\b\b\b\b\b\b\b\b\b\b\b\b\b\b\b\b\b\b\b\b\b\b\b\b\b\b\b\b\b\b\b\b\b\b\b\b\b\r18/18 [==============================] - 0s 28ms/step - loss: 138.1408 - mae: 138.1408 - mse: 98111.1719 - val_loss: 729.9893 - val_mae: 729.9893 - val_mse: 1758976.1250\n",
            "Epoch 35/100\n",
            "18/18 [==============================] - 0s 5ms/step - loss: 132.7044 - mae: 132.7044 - mse: 94930.5469 - val_loss: 756.0147 - val_mae: 756.0147 - val_mse: 1785729.6250\n",
            "Epoch 36/100\n",
            "18/18 [==============================] - 0s 5ms/step - loss: 135.1562 - mae: 135.1562 - mse: 96499.3438 - val_loss: 799.5488 - val_mae: 799.5488 - val_mse: 1919195.2500\n",
            "Epoch 37/100\n",
            "18/18 [==============================] - 0s 6ms/step - loss: 150.7209 - mae: 150.7209 - mse: 108170.0000 - val_loss: 974.5299 - val_mae: 974.5299 - val_mse: 2531463.2500\n",
            "Epoch 38/100\n",
            "18/18 [==============================] - 0s 5ms/step - loss: 212.9453 - mae: 212.9453 - mse: 178319.7500 - val_loss: 2022.4769 - val_mae: 2022.4769 - val_mse: 9100833.0000\n",
            "Epoch 39/100\n",
            "18/18 [==============================] - 0s 5ms/step - loss: 195.2749 - mae: 195.2749 - mse: 148940.7344 - val_loss: 903.9945 - val_mae: 903.9945 - val_mse: 2275162.0000\n",
            "Epoch 40/100\n",
            "18/18 [==============================] - 0s 6ms/step - loss: 164.0141 - mae: 164.0141 - mse: 116529.5625 - val_loss: 809.3083 - val_mae: 809.3083 - val_mse: 1938776.1250\n",
            "Epoch 41/100\n",
            "18/18 [==============================] - 0s 5ms/step - loss: 143.9149 - mae: 143.9149 - mse: 98925.5938 - val_loss: 812.9999 - val_mae: 812.9999 - val_mse: 1959414.2500\n",
            "Epoch 42/100\n",
            "18/18 [==============================] - 0s 5ms/step - loss: 143.2369 - mae: 143.2369 - mse: 104501.2969 - val_loss: 842.0610 - val_mae: 842.0610 - val_mse: 2057271.0000\n",
            "Epoch 43/100\n",
            "18/18 [==============================] - 0s 6ms/step - loss: 134.5866 - mae: 134.5866 - mse: 94037.6562 - val_loss: 756.5107 - val_mae: 756.5107 - val_mse: 1866875.6250\n",
            "Epoch 44/100\n",
            " 1/18 [>.............................] - ETA: 0s - loss: 137.3384 - mae: 137.3384 - mse: 126595.9219"
          ]
        },
        {
          "output_type": "stream",
          "name": "stderr",
          "text": [
            "WARNING:absl:Found untraced functions such as _update_step_xla while saving (showing 1 of 1). These functions will not be directly callable after loading.\n"
          ]
        },
        {
          "output_type": "stream",
          "name": "stdout",
          "text": [
            "\b\b\b\b\b\b\b\b\b\b\b\b\b\b\b\b\b\b\b\b\b\b\b\b\b\b\b\b\b\b\b\b\b\b\b\b\b\b\b\b\b\b\b\b\b\b\b\b\b\b\b\b\b\b\b\b\b\b\b\b\b\b\b\b\b\b\b\b\b\b\b\b\b\b\b\b\b\b\b\b\b\b\b\b\b\b\b\b\b\b\b\b\b\b\b\b\b\b\b\b\r18/18 [==============================] - 1s 43ms/step - loss: 132.8997 - mae: 132.8997 - mse: 92254.7812 - val_loss: 690.1313 - val_mae: 690.1313 - val_mse: 1586019.6250\n",
            "Epoch 45/100\n",
            " 1/18 [>.............................] - ETA: 0s - loss: 128.2288 - mae: 128.2288 - mse: 82171.4219"
          ]
        },
        {
          "output_type": "stream",
          "name": "stderr",
          "text": [
            "WARNING:absl:Found untraced functions such as _update_step_xla while saving (showing 1 of 1). These functions will not be directly callable after loading.\n"
          ]
        },
        {
          "output_type": "stream",
          "name": "stdout",
          "text": [
            "\b\b\b\b\b\b\b\b\b\b\b\b\b\b\b\b\b\b\b\b\b\b\b\b\b\b\b\b\b\b\b\b\b\b\b\b\b\b\b\b\b\b\b\b\b\b\b\b\b\b\b\b\b\b\b\b\b\b\b\b\b\b\b\b\b\b\b\b\b\b\b\b\b\b\b\b\b\b\b\b\b\b\b\b\b\b\b\b\b\b\b\b\b\b\b\b\b\b\b\r18/18 [==============================] - 0s 29ms/step - loss: 128.1820 - mae: 128.1820 - mse: 87527.7422 - val_loss: 686.7181 - val_mae: 686.7181 - val_mse: 1564640.5000\n",
            "Epoch 46/100\n",
            " 1/18 [>.............................] - ETA: 0s - loss: 106.4164 - mae: 106.4164 - mse: 66073.5234"
          ]
        },
        {
          "output_type": "stream",
          "name": "stderr",
          "text": [
            "WARNING:absl:Found untraced functions such as _update_step_xla while saving (showing 1 of 1). These functions will not be directly callable after loading.\n"
          ]
        },
        {
          "output_type": "stream",
          "name": "stdout",
          "text": [
            "\b\b\b\b\b\b\b\b\b\b\b\b\b\b\b\b\b\b\b\b\b\b\b\b\b\b\b\b\b\b\b\b\b\b\b\b\b\b\b\b\b\b\b\b\b\b\b\b\b\b\b\b\b\b\b\b\b\b\b\b\b\b\b\b\b\b\b\b\b\b\b\b\b\b\b\b\b\b\b\b\b\b\b\b\b\b\b\b\b\b\b\b\b\b\b\b\b\b\b\r18/18 [==============================] - 0s 29ms/step - loss: 135.6674 - mae: 135.6674 - mse: 89403.8438 - val_loss: 680.0854 - val_mae: 680.0854 - val_mse: 1527630.2500\n",
            "Epoch 47/100\n",
            "18/18 [==============================] - 0s 6ms/step - loss: 144.0407 - mae: 144.0407 - mse: 107484.3750 - val_loss: 760.3464 - val_mae: 760.3464 - val_mse: 1753221.0000\n",
            "Epoch 48/100\n",
            "18/18 [==============================] - 0s 5ms/step - loss: 142.6828 - mae: 142.6828 - mse: 96585.6406 - val_loss: 792.7310 - val_mae: 792.7310 - val_mse: 1856780.3750\n",
            "Epoch 49/100\n",
            "18/18 [==============================] - 0s 6ms/step - loss: 129.9967 - mae: 129.9967 - mse: 88849.6875 - val_loss: 973.1512 - val_mae: 973.1512 - val_mse: 2467852.7500\n",
            "Epoch 50/100\n",
            "18/18 [==============================] - 0s 5ms/step - loss: 156.4066 - mae: 156.4066 - mse: 111542.0078 - val_loss: 1200.4486 - val_mae: 1200.4486 - val_mse: 3776194.0000\n",
            "Epoch 51/100\n",
            "18/18 [==============================] - 0s 6ms/step - loss: 142.6149 - mae: 142.6149 - mse: 95202.9141 - val_loss: 958.8651 - val_mae: 958.8651 - val_mse: 2648131.2500\n",
            "Epoch 52/100\n",
            "18/18 [==============================] - 0s 6ms/step - loss: 138.4445 - mae: 138.4445 - mse: 95972.1250 - val_loss: 696.2339 - val_mae: 696.2339 - val_mse: 1601069.5000\n",
            "Epoch 53/100\n",
            "18/18 [==============================] - 0s 5ms/step - loss: 131.0685 - mae: 131.0685 - mse: 86663.3516 - val_loss: 930.4503 - val_mae: 930.4503 - val_mse: 2516598.5000\n",
            "Epoch 54/100\n",
            "18/18 [==============================] - 0s 5ms/step - loss: 133.8027 - mae: 133.8027 - mse: 91513.1562 - val_loss: 746.7429 - val_mae: 746.7429 - val_mse: 1692655.6250\n",
            "Epoch 55/100\n",
            "18/18 [==============================] - 0s 5ms/step - loss: 133.8960 - mae: 133.8960 - mse: 87819.2578 - val_loss: 823.4124 - val_mae: 823.4124 - val_mse: 1934111.1250\n",
            "Epoch 56/100\n",
            " 1/18 [>.............................] - ETA: 0s - loss: 167.6334 - mae: 167.6334 - mse: 125124.3750"
          ]
        },
        {
          "output_type": "stream",
          "name": "stderr",
          "text": [
            "WARNING:absl:Found untraced functions such as _update_step_xla while saving (showing 1 of 1). These functions will not be directly callable after loading.\n"
          ]
        },
        {
          "output_type": "stream",
          "name": "stdout",
          "text": [
            "\b\b\b\b\b\b\b\b\b\b\b\b\b\b\b\b\b\b\b\b\b\b\b\b\b\b\b\b\b\b\b\b\b\b\b\b\b\b\b\b\b\b\b\b\b\b\b\b\b\b\b\b\b\b\b\b\b\b\b\b\b\b\b\b\b\b\b\b\b\b\b\b\b\b\b\b\b\b\b\b\b\b\b\b\b\b\b\b\b\b\b\b\b\b\b\b\b\b\b\b\r18/18 [==============================] - 1s 29ms/step - loss: 153.7966 - mae: 153.7966 - mse: 111195.1484 - val_loss: 654.2715 - val_mae: 654.2715 - val_mse: 1421505.6250\n",
            "Epoch 57/100\n",
            "18/18 [==============================] - 0s 6ms/step - loss: 149.6747 - mae: 149.6747 - mse: 103363.8359 - val_loss: 687.2487 - val_mae: 687.2487 - val_mse: 1538470.0000\n",
            "Epoch 58/100\n",
            "18/18 [==============================] - 0s 6ms/step - loss: 141.0399 - mae: 141.0399 - mse: 93338.2109 - val_loss: 753.5208 - val_mae: 753.5208 - val_mse: 1776015.5000\n",
            "Epoch 59/100\n",
            "18/18 [==============================] - 0s 6ms/step - loss: 162.8874 - mae: 162.8874 - mse: 115857.1406 - val_loss: 692.7845 - val_mae: 692.7845 - val_mse: 1519927.8750\n",
            "Epoch 60/100\n",
            "18/18 [==============================] - 0s 6ms/step - loss: 142.2396 - mae: 142.2396 - mse: 94253.1641 - val_loss: 790.5832 - val_mae: 790.5832 - val_mse: 1816504.2500\n",
            "Epoch 61/100\n",
            " 1/18 [>.............................] - ETA: 0s - loss: 128.0528 - mae: 128.0528 - mse: 59573.9414"
          ]
        },
        {
          "output_type": "stream",
          "name": "stderr",
          "text": [
            "WARNING:absl:Found untraced functions such as _update_step_xla while saving (showing 1 of 1). These functions will not be directly callable after loading.\n"
          ]
        },
        {
          "output_type": "stream",
          "name": "stdout",
          "text": [
            "\b\b\b\b\b\b\b\b\b\b\b\b\b\b\b\b\b\b\b\b\b\b\b\b\b\b\b\b\b\b\b\b\b\b\b\b\b\b\b\b\b\b\b\b\b\b\b\b\b\b\b\b\b\b\b\b\b\b\b\b\b\b\b\b\b\b\b\b\b\b\b\b\b\b\b\b\b\b\b\b\b\b\b\b\b\b\b\b\b\b\b\b\b\b\b\b\b\b\b\r18/18 [==============================] - 1s 30ms/step - loss: 126.5788 - mae: 126.5788 - mse: 84568.2812 - val_loss: 644.4559 - val_mae: 644.4559 - val_mse: 1395489.0000\n",
            "Epoch 62/100\n",
            "18/18 [==============================] - 0s 7ms/step - loss: 121.9568 - mae: 121.9568 - mse: 81746.0469 - val_loss: 847.9078 - val_mae: 847.9078 - val_mse: 2143907.7500\n",
            "Epoch 63/100\n",
            "11/18 [=================>............] - ETA: 0s - loss: 132.7043 - mae: 132.7043 - mse: 86507.0703 "
          ]
        },
        {
          "output_type": "stream",
          "name": "stderr",
          "text": [
            "WARNING:absl:Found untraced functions such as _update_step_xla while saving (showing 1 of 1). These functions will not be directly callable after loading.\n"
          ]
        },
        {
          "output_type": "stream",
          "name": "stdout",
          "text": [
            "\b\b\b\b\b\b\b\b\b\b\b\b\b\b\b\b\b\b\b\b\b\b\b\b\b\b\b\b\b\b\b\b\b\b\b\b\b\b\b\b\b\b\b\b\b\b\b\b\b\b\b\b\b\b\b\b\b\b\b\b\b\b\b\b\b\b\b\b\b\b\b\b\b\b\b\b\b\b\b\b\b\b\b\b\b\b\b\b\b\b\b\b\b\b\b\b\b\b\b\r18/18 [==============================] - 1s 74ms/step - loss: 133.0297 - mae: 133.0297 - mse: 90492.5781 - val_loss: 644.0168 - val_mae: 644.0168 - val_mse: 1379262.2500\n",
            "Epoch 64/100\n",
            "18/18 [==============================] - 0s 16ms/step - loss: 132.1211 - mae: 132.1211 - mse: 88953.0000 - val_loss: 654.7057 - val_mae: 654.7057 - val_mse: 1426013.8750\n",
            "Epoch 65/100\n",
            "18/18 [==============================] - 0s 15ms/step - loss: 144.7831 - mae: 144.7831 - mse: 97440.9375 - val_loss: 896.3775 - val_mae: 896.3774 - val_mse: 2323107.7500\n",
            "Epoch 66/100\n",
            "18/18 [==============================] - 0s 16ms/step - loss: 124.3790 - mae: 124.3790 - mse: 82972.4531 - val_loss: 654.8689 - val_mae: 654.8689 - val_mse: 1416951.8750\n",
            "Epoch 67/100\n",
            "18/18 [==============================] - 0s 14ms/step - loss: 119.5769 - mae: 119.5769 - mse: 79838.5469 - val_loss: 654.8334 - val_mae: 654.8334 - val_mse: 1394439.0000\n",
            "Epoch 68/100\n",
            "18/18 [==============================] - 0s 13ms/step - loss: 120.8876 - mae: 120.8876 - mse: 80369.1406 - val_loss: 820.9916 - val_mae: 820.9916 - val_mse: 1898975.5000\n",
            "Epoch 69/100\n",
            "18/18 [==============================] - 0s 11ms/step - loss: 122.2145 - mae: 122.2145 - mse: 81997.6719 - val_loss: 899.5146 - val_mae: 899.5146 - val_mse: 2150105.5000\n",
            "Epoch 70/100\n",
            "18/18 [==============================] - 0s 9ms/step - loss: 125.3128 - mae: 125.3128 - mse: 84714.2656 - val_loss: 718.6486 - val_mae: 718.6486 - val_mse: 1574592.8750\n",
            "Epoch 71/100\n",
            "13/18 [====================>.........] - ETA: 0s - loss: 121.7981 - mae: 121.7981 - mse: 85323.2891"
          ]
        },
        {
          "output_type": "stream",
          "name": "stderr",
          "text": [
            "WARNING:absl:Found untraced functions such as _update_step_xla while saving (showing 1 of 1). These functions will not be directly callable after loading.\n"
          ]
        },
        {
          "output_type": "stream",
          "name": "stdout",
          "text": [
            "\b\b\b\b\b\b\b\b\b\b\b\b\b\b\b\b\b\b\b\b\b\b\b\b\b\b\b\b\b\b\b\b\b\b\b\b\b\b\b\b\b\b\b\b\b\b\b\b\b\b\b\b\b\b\b\b\b\b\b\b\b\b\b\b\b\b\b\b\b\b\b\b\b\b\b\b\b\b\b\b\b\b\b\b\b\b\b\b\b\b\b\b\b\b\b\b\b\b\b\r18/18 [==============================] - 1s 49ms/step - loss: 121.2443 - mae: 121.2443 - mse: 80481.5859 - val_loss: 625.1249 - val_mae: 625.1249 - val_mse: 1323776.2500\n",
            "Epoch 72/100\n",
            "18/18 [==============================] - 0s 6ms/step - loss: 115.9945 - mae: 115.9945 - mse: 77058.8672 - val_loss: 697.0118 - val_mae: 697.0118 - val_mse: 1557653.3750\n",
            "Epoch 73/100\n",
            "15/18 [========================>.....] - ETA: 0s - loss: 139.1689 - mae: 139.1689 - mse: 97058.9609 "
          ]
        },
        {
          "output_type": "stream",
          "name": "stderr",
          "text": [
            "WARNING:absl:Found untraced functions such as _update_step_xla while saving (showing 1 of 1). These functions will not be directly callable after loading.\n"
          ]
        },
        {
          "output_type": "stream",
          "name": "stdout",
          "text": [
            "\b\b\b\b\b\b\b\b\b\b\b\b\b\b\b\b\b\b\b\b\b\b\b\b\b\b\b\b\b\b\b\b\b\b\b\b\b\b\b\b\b\b\b\b\b\b\b\b\b\b\b\b\b\b\b\b\b\b\b\b\b\b\b\b\b\b\b\b\b\b\b\b\b\b\b\b\b\b\b\b\b\b\b\b\b\b\b\b\b\b\b\b\b\b\b\b\b\b\b\r18/18 [==============================] - 1s 30ms/step - loss: 137.5648 - mae: 137.5648 - mse: 93005.0000 - val_loss: 622.4139 - val_mae: 622.4139 - val_mse: 1311550.2500\n",
            "Epoch 74/100\n",
            "18/18 [==============================] - 0s 5ms/step - loss: 123.8153 - mae: 123.8153 - mse: 82861.7812 - val_loss: 627.9509 - val_mae: 627.9509 - val_mse: 1323221.3750\n",
            "Epoch 75/100\n",
            "18/18 [==============================] - 0s 5ms/step - loss: 118.4581 - mae: 118.4581 - mse: 78208.6250 - val_loss: 696.9827 - val_mae: 696.9827 - val_mse: 1507926.3750\n",
            "Epoch 76/100\n",
            "18/18 [==============================] - 0s 6ms/step - loss: 122.2844 - mae: 122.2844 - mse: 80516.9062 - val_loss: 716.7662 - val_mae: 716.7662 - val_mse: 1562099.8750\n",
            "Epoch 77/100\n",
            "18/18 [==============================] - 0s 5ms/step - loss: 119.8859 - mae: 119.8859 - mse: 77788.3438 - val_loss: 690.7415 - val_mae: 690.7415 - val_mse: 1485008.8750\n",
            "Epoch 78/100\n",
            "16/18 [=========================>....] - ETA: 0s - loss: 121.8183 - mae: 121.8183 - mse: 81909.2969"
          ]
        },
        {
          "output_type": "stream",
          "name": "stderr",
          "text": [
            "WARNING:absl:Found untraced functions such as _update_step_xla while saving (showing 1 of 1). These functions will not be directly callable after loading.\n"
          ]
        },
        {
          "output_type": "stream",
          "name": "stdout",
          "text": [
            "\b\b\b\b\b\b\b\b\b\b\b\b\b\b\b\b\b\b\b\b\b\b\b\b\b\b\b\b\b\b\b\b\b\b\b\b\b\b\b\b\b\b\b\b\b\b\b\b\b\b\b\b\b\b\b\b\b\b\b\b\b\b\b\b\b\b\b\b\b\b\b\b\b\b\b\b\b\b\b\b\b\b\b\b\b\b\b\b\b\b\b\b\b\b\b\b\b\b\b\r18/18 [==============================] - 1s 29ms/step - loss: 119.7543 - mae: 119.7543 - mse: 78891.8125 - val_loss: 616.5490 - val_mae: 616.5490 - val_mse: 1291381.6250\n",
            "Epoch 79/100\n",
            "18/18 [==============================] - 0s 5ms/step - loss: 125.0209 - mae: 125.0209 - mse: 82573.4297 - val_loss: 671.0804 - val_mae: 671.0804 - val_mse: 1430283.1250\n",
            "Epoch 80/100\n",
            "18/18 [==============================] - 0s 5ms/step - loss: 120.9935 - mae: 120.9935 - mse: 80087.2109 - val_loss: 709.3252 - val_mae: 709.3252 - val_mse: 1537474.7500\n",
            "Epoch 81/100\n",
            "18/18 [==============================] - 0s 5ms/step - loss: 125.8356 - mae: 125.8356 - mse: 80143.0156 - val_loss: 743.4037 - val_mae: 743.4037 - val_mse: 1640574.8750\n",
            "Epoch 82/100\n",
            "18/18 [==============================] - 0s 5ms/step - loss: 125.3469 - mae: 125.3469 - mse: 80049.7422 - val_loss: 665.9240 - val_mae: 665.9240 - val_mse: 1415730.8750\n",
            "Epoch 83/100\n",
            "18/18 [==============================] - 0s 9ms/step - loss: 124.0770 - mae: 124.0770 - mse: 81653.7656 - val_loss: 660.3065 - val_mae: 660.3065 - val_mse: 1417399.6250\n",
            "Epoch 84/100\n",
            " 1/18 [>.............................] - ETA: 0s - loss: 115.2486 - mae: 115.2486 - mse: 67575.2344"
          ]
        },
        {
          "output_type": "stream",
          "name": "stderr",
          "text": [
            "WARNING:absl:Found untraced functions such as _update_step_xla while saving (showing 1 of 1). These functions will not be directly callable after loading.\n"
          ]
        },
        {
          "output_type": "stream",
          "name": "stdout",
          "text": [
            "\b\b\b\b\b\b\b\b\b\b\b\b\b\b\b\b\b\b\b\b\b\b\b\b\b\b\b\b\b\b\b\b\b\b\b\b\b\b\b\b\b\b\b\b\b\b\b\b\b\b\b\b\b\b\b\b\b\b\b\b\b\b\b\b\b\b\b\b\b\b\b\b\b\b\b\b\b\b\b\b\b\b\b\b\b\b\b\b\b\b\b\b\b\b\b\b\b\b\b\r18/18 [==============================] - 1s 50ms/step - loss: 141.0114 - mae: 141.0114 - mse: 91460.6875 - val_loss: 612.6856 - val_mae: 612.6856 - val_mse: 1278644.6250\n",
            "Epoch 85/100\n",
            "11/18 [=================>............] - ETA: 0s - loss: 127.8592 - mae: 127.8592 - mse: 76034.2031"
          ]
        },
        {
          "output_type": "stream",
          "name": "stderr",
          "text": [
            "WARNING:absl:Found untraced functions such as _update_step_xla while saving (showing 1 of 1). These functions will not be directly callable after loading.\n"
          ]
        },
        {
          "output_type": "stream",
          "name": "stdout",
          "text": [
            "\b\b\b\b\b\b\b\b\b\b\b\b\b\b\b\b\b\b\b\b\b\b\b\b\b\b\b\b\b\b\b\b\b\b\b\b\b\b\b\b\b\b\b\b\b\b\b\b\b\b\b\b\b\b\b\b\b\b\b\b\b\b\b\b\b\b\b\b\b\b\b\b\b\b\b\b\b\b\b\b\b\b\b\b\b\b\b\b\b\b\b\b\b\b\b\b\b\b\b\r18/18 [==============================] - 1s 34ms/step - loss: 142.6072 - mae: 142.6072 - mse: 99576.1172 - val_loss: 608.7708 - val_mae: 608.7708 - val_mse: 1268336.7500\n",
            "Epoch 86/100\n",
            "18/18 [==============================] - 0s 6ms/step - loss: 116.4635 - mae: 116.4635 - mse: 75735.8906 - val_loss: 626.8029 - val_mae: 626.8029 - val_mse: 1304289.2500\n",
            "Epoch 87/100\n",
            "18/18 [==============================] - 0s 5ms/step - loss: 132.6135 - mae: 132.6135 - mse: 87986.1875 - val_loss: 931.2136 - val_mae: 931.2136 - val_mse: 2399794.5000\n",
            "Epoch 88/100\n",
            "18/18 [==============================] - 0s 5ms/step - loss: 150.6984 - mae: 150.6984 - mse: 100095.1094 - val_loss: 638.1904 - val_mae: 638.1904 - val_mse: 1359327.2500\n",
            "Epoch 89/100\n",
            "18/18 [==============================] - 0s 7ms/step - loss: 115.6291 - mae: 115.6291 - mse: 76069.8516 - val_loss: 1165.2830 - val_mae: 1165.2830 - val_mse: 3169479.5000\n",
            "Epoch 90/100\n",
            " 1/18 [>.............................] - ETA: 0s - loss: 188.5858 - mae: 188.5858 - mse: 133053.7031"
          ]
        },
        {
          "output_type": "stream",
          "name": "stderr",
          "text": [
            "WARNING:absl:Found untraced functions such as _update_step_xla while saving (showing 1 of 1). These functions will not be directly callable after loading.\n"
          ]
        },
        {
          "output_type": "stream",
          "name": "stdout",
          "text": [
            "\b\b\b\b\b\b\b\b\b\b\b\b\b\b\b\b\b\b\b\b\b\b\b\b\b\b\b\b\b\b\b\b\b\b\b\b\b\b\b\b\b\b\b\b\b\b\b\b\b\b\b\b\b\b\b\b\b\b\b\b\b\b\b\b\b\b\b\b\b\b\b\b\b\b\b\b\b\b\b\b\b\b\b\b\b\b\b\b\b\b\b\b\b\b\b\b\b\b\b\b\r18/18 [==============================] - 1s 36ms/step - loss: 130.1917 - mae: 130.1917 - mse: 88806.2422 - val_loss: 607.2518 - val_mae: 607.2518 - val_mse: 1254143.0000\n",
            "Epoch 91/100\n",
            "18/18 [==============================] - 0s 10ms/step - loss: 114.4669 - mae: 114.4669 - mse: 73898.5469 - val_loss: 611.8282 - val_mae: 611.8282 - val_mse: 1270328.1250\n",
            "Epoch 92/100\n",
            "18/18 [==============================] - 0s 10ms/step - loss: 113.0718 - mae: 113.0718 - mse: 74893.7188 - val_loss: 725.2574 - val_mae: 725.2574 - val_mse: 1575905.6250\n",
            "Epoch 93/100\n",
            "18/18 [==============================] - 0s 6ms/step - loss: 147.5808 - mae: 147.5808 - mse: 101080.0391 - val_loss: 864.8488 - val_mae: 864.8488 - val_mse: 2015303.8750\n",
            "Epoch 94/100\n",
            "17/18 [===========================>..] - ETA: 0s - loss: 153.2574 - mae: 153.2574 - mse: 100879.2734"
          ]
        },
        {
          "output_type": "stream",
          "name": "stderr",
          "text": [
            "WARNING:absl:Found untraced functions such as _update_step_xla while saving (showing 1 of 1). These functions will not be directly callable after loading.\n"
          ]
        },
        {
          "output_type": "stream",
          "name": "stdout",
          "text": [
            "\b\b\b\b\b\b\b\b\b\b\b\b\b\b\b\b\b\b\b\b\b\b\b\b\b\b\b\b\b\b\b\b\b\b\b\b\b\b\b\b\b\b\b\b\b\b\b\b\b\b\b\b\b\b\b\b\b\b\b\b\b\b\b\b\b\b\b\b\b\b\b\b\b\b\b\b\b\b\b\b\b\b\b\b\b\b\b\b\b\b\b\b\b\b\b\b\b\b\b\b\r18/18 [==============================] - 1s 31ms/step - loss: 153.6805 - mae: 153.6805 - mse: 103522.7500 - val_loss: 603.9781 - val_mae: 603.9781 - val_mse: 1251337.7500\n",
            "Epoch 95/100\n",
            "18/18 [==============================] - 0s 9ms/step - loss: 126.5529 - mae: 126.5529 - mse: 82697.1094 - val_loss: 719.7612 - val_mae: 719.7612 - val_mse: 1594217.0000\n",
            "Epoch 96/100\n",
            "18/18 [==============================] - 0s 8ms/step - loss: 136.1355 - mae: 136.1355 - mse: 92464.4219 - val_loss: 681.1370 - val_mae: 681.1370 - val_mse: 1473264.8750\n",
            "Epoch 97/100\n",
            "18/18 [==============================] - 0s 8ms/step - loss: 129.7863 - mae: 129.7863 - mse: 84852.6484 - val_loss: 793.3242 - val_mae: 793.3242 - val_mse: 1856843.8750\n",
            "Epoch 98/100\n",
            "18/18 [==============================] - 0s 5ms/step - loss: 145.3431 - mae: 145.3431 - mse: 99314.8359 - val_loss: 669.1981 - val_mae: 669.1981 - val_mse: 1426273.2500\n",
            "Epoch 99/100\n",
            "18/18 [==============================] - 0s 5ms/step - loss: 136.1109 - mae: 136.1109 - mse: 87154.5234 - val_loss: 699.0878 - val_mae: 699.0878 - val_mse: 1524726.5000\n",
            "Epoch 100/100\n",
            "18/18 [==============================] - 0s 5ms/step - loss: 143.1866 - mae: 143.1866 - mse: 99746.8047 - val_loss: 627.8910 - val_mae: 627.8910 - val_mse: 1298184.7500\n"
          ]
        }
      ]
    },
    {
      "cell_type": "code",
      "source": [
        "# Evaluate model 2 on test data\n",
        "model_2.evaluate(test_windows, test_labels)"
      ],
      "metadata": {
        "colab": {
          "base_uri": "https://localhost:8080/"
        },
        "id": "mGFC9Mg71ZdX",
        "outputId": "2290e183-59e1-4fdb-9ff5-67448c5b2931"
      },
      "execution_count": 54,
      "outputs": [
        {
          "output_type": "stream",
          "name": "stdout",
          "text": [
            "18/18 [==============================] - 0s 2ms/step - loss: 627.8910 - mae: 627.8910 - mse: 1298184.6250\n"
          ]
        },
        {
          "output_type": "execute_result",
          "data": {
            "text/plain": [
              "[627.8909912109375, 627.8909912109375, 1298184.625]"
            ]
          },
          "metadata": {},
          "execution_count": 54
        }
      ]
    },
    {
      "cell_type": "code",
      "source": [
        "# Load in the best performing model and evaluate \n",
        "model_2 = tf.keras.models.load_model(\"model_experiments/model_2_dense/\")\n",
        "model_2.evaluate(test_windows, test_labels)"
      ],
      "metadata": {
        "colab": {
          "base_uri": "https://localhost:8080/"
        },
        "id": "K9DSxa8T4g6e",
        "outputId": "a992dec6-421d-4f44-8204-c02fdb270edc"
      },
      "execution_count": 55,
      "outputs": [
        {
          "output_type": "stream",
          "name": "stdout",
          "text": [
            "18/18 [==============================] - 0s 2ms/step - loss: 603.9783 - mae: 603.9783 - mse: 1251337.7500\n"
          ]
        },
        {
          "output_type": "execute_result",
          "data": {
            "text/plain": [
              "[603.978271484375, 603.978271484375, 1251337.75]"
            ]
          },
          "metadata": {},
          "execution_count": 55
        }
      ]
    },
    {
      "cell_type": "code",
      "source": [
        "# get forecast predictions\n",
        "model_2_preds = make_preds(model_2,\n",
        "                           input_data=test_windows)"
      ],
      "metadata": {
        "colab": {
          "base_uri": "https://localhost:8080/"
        },
        "id": "VnTwYtoY4yae",
        "outputId": "7ee21b37-5c81-4935-defb-9a551a900a51"
      },
      "execution_count": 56,
      "outputs": [
        {
          "output_type": "stream",
          "name": "stdout",
          "text": [
            "18/18 [==============================] - 0s 5ms/step\n"
          ]
        }
      ]
    },
    {
      "cell_type": "code",
      "source": [
        "# Evaluate results for model 2 predictions\n",
        "model_2_results = evaluate_preds(tf.squeeze(test_labels), model_2_preds)\n",
        "model_2_results"
      ],
      "metadata": {
        "colab": {
          "base_uri": "https://localhost:8080/"
        },
        "id": "avKUIm4J5ebz",
        "outputId": "2d3eb0e2-8210-423d-85da-eb8ebb90bb83"
      },
      "execution_count": 57,
      "outputs": [
        {
          "output_type": "execute_result",
          "data": {
            "text/plain": [
              "{'mae': 603.9783,\n",
              " 'mse': 1251337.9,\n",
              " 'rmse': 1118.6321,\n",
              " 'mape': 2.6817548,\n",
              " 'mase': 1.0557599}"
            ]
          },
          "metadata": {},
          "execution_count": 57
        }
      ]
    },
    {
      "cell_type": "code",
      "source": [
        "model_1_results"
      ],
      "metadata": {
        "colab": {
          "base_uri": "https://localhost:8080/"
        },
        "id": "X-t8fDzQ5vR8",
        "outputId": "e4a713e9-68f6-445a-bf64-d715d6522d76"
      },
      "execution_count": 58,
      "outputs": [
        {
          "output_type": "execute_result",
          "data": {
            "text/plain": [
              "{'mae': 568.7688,\n",
              " 'mse': 1160735.1,\n",
              " 'rmse': 1077.3741,\n",
              " 'mape': 2.5498853,\n",
              " 'mase': 0.99916923}"
            ]
          },
          "metadata": {},
          "execution_count": 58
        }
      ]
    },
    {
      "cell_type": "code",
      "source": [
        "offset = 300\n",
        "plt.figure(figsize=(10, 7))\n",
        "# Account for test_window offset when plotting\n",
        "plot_time_series(timesteps=X_test[-len(test_windows):], values=test_labels[:, 0], start=offset, label=\"Test Data\")\n",
        "plot_time_series(timesteps=X_test[-len(test_windows):], values=model_2_preds, start=offset, format=\"-\", label=\"model_2_preds\")"
      ],
      "metadata": {
        "colab": {
          "base_uri": "https://localhost:8080/",
          "height": 442
        },
        "id": "rP2xrdpi5_vl",
        "outputId": "6f74669e-7a57-4bf1-d6d3-2aee5a251d19"
      },
      "execution_count": 59,
      "outputs": [
        {
          "output_type": "display_data",
          "data": {
            "text/plain": [
              "<Figure size 720x504 with 1 Axes>"
            ],
            "image/png": "[encoded data removed]"
          },
          "metadata": {
            "needs_background": "light"
          }
        }
      ]
    },
    {
      "cell_type": "markdown",
      "source": [
        "## Model 3: Dense (window = 30, horizon = 7)\n"
      ],
      "metadata": {
        "id": "vqCgMv4j7BWM"
      }
    },
    {
      "cell_type": "code",
      "source": [
        "HORIZON = 7\n",
        "WINDOW_SIZE = 30\n",
        "\n",
        "full_windows, full_labels = make_windows(prices,\n",
        "                                         window_size=WINDOW_SIZE,\n",
        "                                         horizon=HORIZON)\n",
        "len(full_windows), len(full_labels)"
      ],
      "metadata": {
        "colab": {
          "base_uri": "https://localhost:8080/"
        },
        "id": "OFHHxkF97xeY",
        "outputId": "45c32dd2-5dc3-4482-a851-2ed78273b740"
      },
      "execution_count": 60,
      "outputs": [
        {
          "output_type": "execute_result",
          "data": {
            "text/plain": [
              "(2751, 2751)"
            ]
          },
          "metadata": {},
          "execution_count": 60
        }
      ]
    },
    {
      "cell_type": "code",
      "source": [
        "train_windows, test_windows, train_labels, test_labels = make_train_test_splits(windows=full_labels,\n",
        "                                                                                labels=full_labels,\n",
        "                                                                                test_split=0.2)"
      ],
      "metadata": {
        "id": "8GiyVeV08ZfO"
      },
      "execution_count": 61,
      "outputs": []
    },
    {
      "cell_type": "code",
      "source": [
        "tf.random.set_seed(42)\n",
        "\n",
        "# Create model\n",
        "model_3 = tf.keras.Sequential([\n",
        "    layers.Dense(128, activation=\"relu\"),\n",
        "    layers.Dense(HORIZON)\n",
        "], name=\"model_3_dense\")\n",
        "\n",
        "# Compile\n",
        "model_3.compile(loss=\"mae\",\n",
        "                optimizer=tf.keras.optimizers.Adam(),\n",
        "                metrics=[\"mae\", \"mse\"])\n",
        "\n",
        "# Fit the model\n",
        "model_3_history = model_3.fit(train_windows, train_labels,\n",
        "                              batch_size=128,\n",
        "                              epochs=100,\n",
        "                              verbose=1,\n",
        "                              validation_data=(test_windows, test_labels),\n",
        "                              callbacks=[create_model_checkpoint(\"model_3_dense\")])"
      ],
      "metadata": {
        "colab": {
          "base_uri": "https://localhost:8080/"
        },
        "id": "ZOditAbQ8s1O",
        "outputId": "e2547bde-76ca-48df-cbd4-343c8ec8dcda"
      },
      "execution_count": 62,
      "outputs": [
        {
          "output_type": "stream",
          "name": "stdout",
          "text": [
            "Epoch 1/100\n",
            "13/18 [====================>.........] - ETA: 0s - loss: 2517.3286 - mae: 2517.3286 - mse: 18709540.0000 "
          ]
        },
        {
          "output_type": "stream",
          "name": "stderr",
          "text": [
            "WARNING:absl:Found untraced functions such as _update_step_xla while saving (showing 1 of 1). These functions will not be directly callable after loading.\n"
          ]
        },
        {
          "output_type": "stream",
          "name": "stdout",
          "text": [
            "\b\b\b\b\b\b\b\b\b\b\b\b\b\b\b\b\b\b\b\b\b\b\b\b\b\b\b\b\b\b\b\b\b\b\b\b\b\b\b\b\b\b\b\b\b\b\b\b\b\b\b\b\b\b\b\b\b\b\b\b\b\b\b\b\b\b\b\b\b\b\b\b\b\b\b\b\b\b\b\b\b\b\b\b\b\b\b\b\b\b\b\b\b\b\b\b\b\b\b\b\b\b\b\b\r18/18 [==============================] - 2s 57ms/step - loss: 2260.1023 - mae: 2260.1023 - mse: 16045194.0000 - val_loss: 7949.2324 - val_mae: 7949.2324 - val_mse: 179961536.0000\n",
            "Epoch 2/100\n",
            "14/18 [======================>.......] - ETA: 0s - loss: 806.8443 - mae: 806.8443 - mse: 3180578.0000  "
          ]
        },
        {
          "output_type": "stream",
          "name": "stderr",
          "text": [
            "WARNING:absl:Found untraced functions such as _update_step_xla while saving (showing 1 of 1). These functions will not be directly callable after loading.\n"
          ]
        },
        {
          "output_type": "stream",
          "name": "stdout",
          "text": [
            "\b\b\b\b\b\b\b\b\b\b\b\b\b\b\b\b\b\b\b\b\b\b\b\b\b\b\b\b\b\b\b\b\b\b\b\b\b\b\b\b\b\b\b\b\b\b\b\b\b\b\b\b\b\b\b\b\b\b\b\b\b\b\b\b\b\b\b\b\b\b\b\b\b\b\b\b\b\b\b\b\b\b\b\b\b\b\b\b\b\b\b\b\b\b\b\b\b\b\b\b\b\r18/18 [==============================] - 1s 41ms/step - loss: 743.1441 - mae: 743.1441 - mse: 2759915.5000 - val_loss: 1779.6617 - val_mae: 1779.6617 - val_mse: 10688257.0000\n",
            "Epoch 3/100\n",
            "14/18 [======================>.......] - ETA: 0s - loss: 211.3409 - mae: 211.3409 - mse: 204184.7656"
          ]
        },
        {
          "output_type": "stream",
          "name": "stderr",
          "text": [
            "WARNING:absl:Found untraced functions such as _update_step_xla while saving (showing 1 of 1). These functions will not be directly callable after loading.\n"
          ]
        },
        {
          "output_type": "stream",
          "name": "stdout",
          "text": [
            "\b\b\b\b\b\b\b\b\b\b\b\b\b\b\b\b\b\b\b\b\b\b\b\b\b\b\b\b\b\b\b\b\b\b\b\b\b\b\b\b\b\b\b\b\b\b\b\b\b\b\b\b\b\b\b\b\b\b\b\b\b\b\b\b\b\b\b\b\b\b\b\b\b\b\b\b\b\b\b\b\b\b\b\b\b\b\b\b\b\b\b\b\b\b\b\b\b\b\b\b\r18/18 [==============================] - 1s 37ms/step - loss: 206.0927 - mae: 206.0927 - mse: 198680.2500 - val_loss: 850.1873 - val_mae: 850.1873 - val_mse: 2531113.5000\n",
            "Epoch 4/100\n",
            "17/18 [===========================>..] - ETA: 0s - loss: 142.7634 - mae: 142.7634 - mse: 104745.5781"
          ]
        },
        {
          "output_type": "stream",
          "name": "stderr",
          "text": [
            "WARNING:absl:Found untraced functions such as _update_step_xla while saving (showing 1 of 1). These functions will not be directly callable after loading.\n"
          ]
        },
        {
          "output_type": "stream",
          "name": "stdout",
          "text": [
            "\b\b\b\b\b\b\b\b\b\b\b\b\b\b\b\b\b\b\b\b\b\b\b\b\b\b\b\b\b\b\b\b\b\b\b\b\b\b\b\b\b\b\b\b\b\b\b\b\b\b\b\b\b\b\b\b\b\b\b\b\b\b\b\b\b\b\b\b\b\b\b\b\b\b\b\b\b\b\b\b\b\b\b\b\b\b\b\b\b\b\b\b\b\b\b\b\b\b\b\b\r18/18 [==============================] - 0s 29ms/step - loss: 142.5288 - mae: 142.5288 - mse: 104191.3750 - val_loss: 683.3096 - val_mae: 683.3096 - val_mse: 1639428.7500\n",
            "Epoch 5/100\n",
            " 1/18 [>.............................] - ETA: 0s - loss: 163.9017 - mae: 163.9017 - mse: 150065.7969"
          ]
        },
        {
          "output_type": "stream",
          "name": "stderr",
          "text": [
            "WARNING:absl:Found untraced functions such as _update_step_xla while saving (showing 1 of 1). These functions will not be directly callable after loading.\n"
          ]
        },
        {
          "output_type": "stream",
          "name": "stdout",
          "text": [
            "\b\b\b\b\b\b\b\b\b\b\b\b\b\b\b\b\b\b\b\b\b\b\b\b\b\b\b\b\b\b\b\b\b\b\b\b\b\b\b\b\b\b\b\b\b\b\b\b\b\b\b\b\b\b\b\b\b\b\b\b\b\b\b\b\b\b\b\b\b\b\b\b\b\b\b\b\b\b\b\b\b\b\b\b\b\b\b\b\b\b\b\b\b\b\b\b\b\b\b\b\r18/18 [==============================] - 0s 29ms/step - loss: 127.5427 - mae: 127.5427 - mse: 92957.3906 - val_loss: 681.7020 - val_mae: 681.7020 - val_mse: 1599889.6250\n",
            "Epoch 6/100\n",
            "16/18 [=========================>....] - ETA: 0s - loss: 123.3702 - mae: 123.3702 - mse: 87025.8047"
          ]
        },
        {
          "output_type": "stream",
          "name": "stderr",
          "text": [
            "WARNING:absl:Found untraced functions such as _update_step_xla while saving (showing 1 of 1). These functions will not be directly callable after loading.\n"
          ]
        },
        {
          "output_type": "stream",
          "name": "stdout",
          "text": [
            "\b\b\b\b\b\b\b\b\b\b\b\b\b\b\b\b\b\b\b\b\b\b\b\b\b\b\b\b\b\b\b\b\b\b\b\b\b\b\b\b\b\b\b\b\b\b\b\b\b\b\b\b\b\b\b\b\b\b\b\b\b\b\b\b\b\b\b\b\b\b\b\b\b\b\b\b\b\b\b\b\b\b\b\b\b\b\b\b\b\b\b\b\b\b\b\b\b\b\b\r18/18 [==============================] - 0s 29ms/step - loss: 121.9103 - mae: 121.9103 - mse: 85112.0000 - val_loss: 659.4156 - val_mae: 659.4156 - val_mse: 1501564.0000\n",
            "Epoch 7/100\n",
            " 1/18 [>.............................] - ETA: 0s - loss: 118.6554 - mae: 118.6554 - mse: 90900.2031"
          ]
        },
        {
          "output_type": "stream",
          "name": "stderr",
          "text": [
            "WARNING:absl:Found untraced functions such as _update_step_xla while saving (showing 1 of 1). These functions will not be directly callable after loading.\n"
          ]
        },
        {
          "output_type": "stream",
          "name": "stdout",
          "text": [
            "\b\b\b\b\b\b\b\b\b\b\b\b\b\b\b\b\b\b\b\b\b\b\b\b\b\b\b\b\b\b\b\b\b\b\b\b\b\b\b\b\b\b\b\b\b\b\b\b\b\b\b\b\b\b\b\b\b\b\b\b\b\b\b\b\b\b\b\b\b\b\b\b\b\b\b\b\b\b\b\b\b\b\b\b\b\b\b\b\b\b\b\b\b\b\b\b\b\b\b\r18/18 [==============================] - 1s 37ms/step - loss: 118.6130 - mae: 118.6130 - mse: 80817.7031 - val_loss: 632.0942 - val_mae: 632.0942 - val_mse: 1393215.2500\n",
            "Epoch 8/100\n",
            "18/18 [==============================] - 0s 10ms/step - loss: 116.2240 - mae: 116.2240 - mse: 76946.1484 - val_loss: 646.6307 - val_mae: 646.6307 - val_mse: 1398754.8750\n",
            "Epoch 9/100\n",
            "13/18 [====================>.........] - ETA: 0s - loss: 118.8506 - mae: 118.8506 - mse: 74853.9219"
          ]
        },
        {
          "output_type": "stream",
          "name": "stderr",
          "text": [
            "WARNING:absl:Found untraced functions such as _update_step_xla while saving (showing 1 of 1). These functions will not be directly callable after loading.\n"
          ]
        },
        {
          "output_type": "stream",
          "name": "stdout",
          "text": [
            "\b\b\b\b\b\b\b\b\b\b\b\b\b\b\b\b\b\b\b\b\b\b\b\b\b\b\b\b\b\b\b\b\b\b\b\b\b\b\b\b\b\b\b\b\b\b\b\b\b\b\b\b\b\b\b\b\b\b\b\b\b\b\b\b\b\b\b\b\b\b\b\b\b\b\b\b\b\b\b\b\b\b\b\b\b\b\b\b\b\b\b\b\b\b\b\b\b\b\b\r18/18 [==============================] - 1s 49ms/step - loss: 116.5810 - mae: 116.5810 - mse: 75768.4609 - val_loss: 617.9484 - val_mae: 617.9484 - val_mse: 1299598.2500\n",
            "Epoch 10/100\n",
            "13/18 [====================>.........] - ETA: 0s - loss: 109.4405 - mae: 109.4405 - mse: 64656.2578"
          ]
        },
        {
          "output_type": "stream",
          "name": "stderr",
          "text": [
            "WARNING:absl:Found untraced functions such as _update_step_xla while saving (showing 1 of 1). These functions will not be directly callable after loading.\n"
          ]
        },
        {
          "output_type": "stream",
          "name": "stdout",
          "text": [
            "\b\b\b\b\b\b\b\b\b\b\b\b\b\b\b\b\b\b\b\b\b\b\b\b\b\b\b\b\b\b\b\b\b\b\b\b\b\b\b\b\b\b\b\b\b\b\b\b\b\b\b\b\b\b\b\b\b\b\b\b\b\b\b\b\b\b\b\b\b\b\b\b\b\b\b\b\b\b\b\b\b\b\b\b\b\b\b\b\b\b\b\b\b\b\b\b\b\b\b\r18/18 [==============================] - 1s 40ms/step - loss: 110.3704 - mae: 110.3704 - mse: 69018.0469 - val_loss: 586.2383 - val_mae: 586.2383 - val_mse: 1199577.5000\n",
            "Epoch 11/100\n",
            "15/18 [========================>.....] - ETA: 0s - loss: 108.7628 - mae: 108.7628 - mse: 67930.3984"
          ]
        },
        {
          "output_type": "stream",
          "name": "stderr",
          "text": [
            "WARNING:absl:Found untraced functions such as _update_step_xla while saving (showing 1 of 1). These functions will not be directly callable after loading.\n"
          ]
        },
        {
          "output_type": "stream",
          "name": "stdout",
          "text": [
            "\b\b\b\b\b\b\b\b\b\b\b\b\b\b\b\b\b\b\b\b\b\b\b\b\b\b\b\b\b\b\b\b\b\b\b\b\b\b\b\b\b\b\b\b\b\b\b\b\b\b\b\b\b\b\b\b\b\b\b\b\b\b\b\b\b\b\b\b\b\b\b\b\b\b\b\b\b\b\b\b\b\b\b\b\b\b\b\b\b\b\b\b\b\b\b\b\b\b\b\r18/18 [==============================] - 1s 34ms/step - loss: 107.9643 - mae: 107.9643 - mse: 66191.1641 - val_loss: 564.4438 - val_mae: 564.4438 - val_mse: 1106268.8750\n",
            "Epoch 12/100\n",
            "18/18 [==============================] - ETA: 0s - loss: 103.5047 - mae: 103.5047 - mse: 61453.1211"
          ]
        },
        {
          "output_type": "stream",
          "name": "stderr",
          "text": [
            "WARNING:absl:Found untraced functions such as _update_step_xla while saving (showing 1 of 1). These functions will not be directly callable after loading.\n"
          ]
        },
        {
          "output_type": "stream",
          "name": "stdout",
          "text": [
            "\b\b\b\b\b\b\b\b\b\b\b\b\b\b\b\b\b\b\b\b\b\b\b\b\b\b\b\b\b\b\b\b\b\b\b\b\b\b\b\b\b\b\b\b\b\b\b\b\b\b\b\b\b\b\b\b\b\b\b\b\b\b\b\b\b\b\b\b\b\b\b\b\b\b\b\b\b\b\b\b\b\b\b\b\b\b\b\b\b\b\b\b\b\b\b\b\b\b\b\r18/18 [==============================] - 1s 29ms/step - loss: 103.5047 - mae: 103.5047 - mse: 61453.1211 - val_loss: 563.8218 - val_mae: 563.8218 - val_mse: 1077672.0000\n",
            "Epoch 13/100\n",
            "17/18 [===========================>..] - ETA: 0s - loss: 101.1097 - mae: 101.1097 - mse: 58580.6641"
          ]
        },
        {
          "output_type": "stream",
          "name": "stderr",
          "text": [
            "WARNING:absl:Found untraced functions such as _update_step_xla while saving (showing 1 of 1). These functions will not be directly callable after loading.\n"
          ]
        },
        {
          "output_type": "stream",
          "name": "stdout",
          "text": [
            "\b\b\b\b\b\b\b\b\b\b\b\b\b\b\b\b\b\b\b\b\b\b\b\b\b\b\b\b\b\b\b\b\b\b\b\b\b\b\b\b\b\b\b\b\b\b\b\b\b\b\b\b\b\b\b\b\b\b\b\b\b\b\b\b\b\b\b\b\b\b\b\b\b\b\b\b\b\b\b\b\b\b\b\b\b\b\b\b\b\b\b\b\b\b\b\b\b\b\b\r18/18 [==============================] - 1s 32ms/step - loss: 101.0072 - mae: 101.0072 - mse: 58312.4375 - val_loss: 526.3788 - val_mae: 526.3788 - val_mse: 975242.5625\n",
            "Epoch 14/100\n",
            "16/18 [=========================>....] - ETA: 0s - loss: 95.5034 - mae: 95.5034 - mse: 51795.6641"
          ]
        },
        {
          "output_type": "stream",
          "name": "stderr",
          "text": [
            "WARNING:absl:Found untraced functions such as _update_step_xla while saving (showing 1 of 1). These functions will not be directly callable after loading.\n"
          ]
        },
        {
          "output_type": "stream",
          "name": "stdout",
          "text": [
            "\b\b\b\b\b\b\b\b\b\b\b\b\b\b\b\b\b\b\b\b\b\b\b\b\b\b\b\b\b\b\b\b\b\b\b\b\b\b\b\b\b\b\b\b\b\b\b\b\b\b\b\b\b\b\b\b\b\b\b\b\b\b\b\b\b\b\b\b\b\b\b\b\b\b\b\b\b\b\b\b\b\b\b\b\b\b\b\b\b\b\b\b\b\b\b\b\b\r18/18 [==============================] - 1s 36ms/step - loss: 97.8968 - mae: 97.8968 - mse: 54604.5078 - val_loss: 526.3339 - val_mae: 526.3339 - val_mse: 942540.1875\n",
            "Epoch 15/100\n",
            " 1/18 [>.............................] - ETA: 0s - loss: 93.9716 - mae: 93.9716 - mse: 46915.8203"
          ]
        },
        {
          "output_type": "stream",
          "name": "stderr",
          "text": [
            "WARNING:absl:Found untraced functions such as _update_step_xla while saving (showing 1 of 1). These functions will not be directly callable after loading.\n"
          ]
        },
        {
          "output_type": "stream",
          "name": "stdout",
          "text": [
            "\b\b\b\b\b\b\b\b\b\b\b\b\b\b\b\b\b\b\b\b\b\b\b\b\b\b\b\b\b\b\b\b\b\b\b\b\b\b\b\b\b\b\b\b\b\b\b\b\b\b\b\b\b\b\b\b\b\b\b\b\b\b\b\b\b\b\b\b\b\b\b\b\b\b\b\b\b\b\b\b\b\b\b\b\b\b\b\b\b\b\b\b\b\b\b\b\b\r18/18 [==============================] - 1s 48ms/step - loss: 94.8267 - mae: 94.8267 - mse: 51581.0781 - val_loss: 501.3782 - val_mae: 501.3782 - val_mse: 856537.6875\n",
            "Epoch 16/100\n",
            "16/18 [=========================>....] - ETA: 0s - loss: 94.8006 - mae: 94.8006 - mse: 51166.3203"
          ]
        },
        {
          "output_type": "stream",
          "name": "stderr",
          "text": [
            "WARNING:absl:Found untraced functions such as _update_step_xla while saving (showing 1 of 1). These functions will not be directly callable after loading.\n"
          ]
        },
        {
          "output_type": "stream",
          "name": "stdout",
          "text": [
            "\b\b\b\b\b\b\b\b\b\b\b\b\b\b\b\b\b\b\b\b\b\b\b\b\b\b\b\b\b\b\b\b\b\b\b\b\b\b\b\b\b\b\b\b\b\b\b\b\b\b\b\b\b\b\b\b\b\b\b\b\b\b\b\b\b\b\b\b\b\b\b\b\b\b\b\b\b\b\b\b\b\b\b\b\b\b\b\b\b\b\b\b\b\b\b\b\b\r18/18 [==============================] - 1s 31ms/step - loss: 93.0208 - mae: 93.0208 - mse: 49200.5078 - val_loss: 480.0225 - val_mae: 480.0225 - val_mse: 794191.0625\n",
            "Epoch 17/100\n",
            "18/18 [==============================] - 0s 7ms/step - loss: 88.5804 - mae: 88.5804 - mse: 44370.9727 - val_loss: 491.8712 - val_mae: 491.8712 - val_mse: 779612.4375\n",
            "Epoch 18/100\n",
            "15/18 [========================>.....] - ETA: 0s - loss: 85.6642 - mae: 85.6642 - mse: 41515.4219"
          ]
        },
        {
          "output_type": "stream",
          "name": "stderr",
          "text": [
            "WARNING:absl:Found untraced functions such as _update_step_xla while saving (showing 1 of 1). These functions will not be directly callable after loading.\n"
          ]
        },
        {
          "output_type": "stream",
          "name": "stdout",
          "text": [
            "\b\b\b\b\b\b\b\b\b\b\b\b\b\b\b\b\b\b\b\b\b\b\b\b\b\b\b\b\b\b\b\b\b\b\b\b\b\b\b\b\b\b\b\b\b\b\b\b\b\b\b\b\b\b\b\b\b\b\b\b\b\b\b\b\b\b\b\b\b\b\b\b\b\b\b\b\b\b\b\b\b\b\b\b\b\b\b\b\b\b\b\b\b\b\b\b\b\r18/18 [==============================] - 1s 36ms/step - loss: 85.0480 - mae: 85.0480 - mse: 40831.9727 - val_loss: 435.4296 - val_mae: 435.4296 - val_mse: 656705.2500\n",
            "Epoch 19/100\n",
            "16/18 [=========================>....] - ETA: 0s - loss: 80.9500 - mae: 80.9500 - mse: 37962.4414"
          ]
        },
        {
          "output_type": "stream",
          "name": "stderr",
          "text": [
            "WARNING:absl:Found untraced functions such as _update_step_xla while saving (showing 1 of 1). These functions will not be directly callable after loading.\n"
          ]
        },
        {
          "output_type": "stream",
          "name": "stdout",
          "text": [
            "\b\b\b\b\b\b\b\b\b\b\b\b\b\b\b\b\b\b\b\b\b\b\b\b\b\b\b\b\b\b\b\b\b\b\b\b\b\b\b\b\b\b\b\b\b\b\b\b\b\b\b\b\b\b\b\b\b\b\b\b\b\b\b\b\b\b\b\b\b\b\b\b\b\b\b\b\b\b\b\b\b\b\b\b\b\b\b\b\b\b\b\b\b\b\b\b\b\r18/18 [==============================] - 1s 31ms/step - loss: 81.0320 - mae: 81.0320 - mse: 37717.9219 - val_loss: 433.8733 - val_mae: 433.8733 - val_mse: 633789.5625\n",
            "Epoch 20/100\n",
            " 1/18 [>.............................] - ETA: 0s - loss: 87.2702 - mae: 87.2702 - mse: 43148.1289"
          ]
        },
        {
          "output_type": "stream",
          "name": "stderr",
          "text": [
            "WARNING:absl:Found untraced functions such as _update_step_xla while saving (showing 1 of 1). These functions will not be directly callable after loading.\n"
          ]
        },
        {
          "output_type": "stream",
          "name": "stdout",
          "text": [
            "\b\b\b\b\b\b\b\b\b\b\b\b\b\b\b\b\b\b\b\b\b\b\b\b\b\b\b\b\b\b\b\b\b\b\b\b\b\b\b\b\b\b\b\b\b\b\b\b\b\b\b\b\b\b\b\b\b\b\b\b\b\b\b\b\b\b\b\b\b\b\b\b\b\b\b\b\b\b\b\b\b\b\b\b\b\b\b\b\b\b\b\b\b\b\b\b\b\r18/18 [==============================] - 1s 29ms/step - loss: 79.9908 - mae: 79.9908 - mse: 36353.1602 - val_loss: 415.5498 - val_mae: 415.5498 - val_mse: 583375.6250\n",
            "Epoch 21/100\n",
            "17/18 [===========================>..] - ETA: 0s - loss: 77.8629 - mae: 77.8629 - mse: 33834.0859"
          ]
        },
        {
          "output_type": "stream",
          "name": "stderr",
          "text": [
            "WARNING:absl:Found untraced functions such as _update_step_xla while saving (showing 1 of 1). These functions will not be directly callable after loading.\n"
          ]
        },
        {
          "output_type": "stream",
          "name": "stdout",
          "text": [
            "\b\b\b\b\b\b\b\b\b\b\b\b\b\b\b\b\b\b\b\b\b\b\b\b\b\b\b\b\b\b\b\b\b\b\b\b\b\b\b\b\b\b\b\b\b\b\b\b\b\b\b\b\b\b\b\b\b\b\b\b\b\b\b\b\b\b\b\b\b\b\b\b\b\b\b\b\b\b\b\b\b\b\b\b\b\b\b\b\b\b\b\b\b\b\b\b\b\r18/18 [==============================] - 1s 33ms/step - loss: 77.7655 - mae: 77.7655 - mse: 33753.6094 - val_loss: 405.6492 - val_mae: 405.6492 - val_mse: 551952.2500\n",
            "Epoch 22/100\n",
            "12/18 [===================>..........] - ETA: 0s - loss: 74.0427 - mae: 74.0427 - mse: 32508.9609"
          ]
        },
        {
          "output_type": "stream",
          "name": "stderr",
          "text": [
            "WARNING:absl:Found untraced functions such as _update_step_xla while saving (showing 1 of 1). These functions will not be directly callable after loading.\n"
          ]
        },
        {
          "output_type": "stream",
          "name": "stdout",
          "text": [
            "\b\b\b\b\b\b\b\b\b\b\b\b\b\b\b\b\b\b\b\b\b\b\b\b\b\b\b\b\b\b\b\b\b\b\b\b\b\b\b\b\b\b\b\b\b\b\b\b\b\b\b\b\b\b\b\b\b\b\b\b\b\b\b\b\b\b\b\b\b\b\b\b\b\b\b\b\b\b\b\b\b\b\b\b\b\b\b\b\b\b\b\b\b\b\b\b\b\r18/18 [==============================] - 1s 57ms/step - loss: 74.2213 - mae: 74.2213 - mse: 31663.0918 - val_loss: 399.5597 - val_mae: 399.5597 - val_mse: 521073.9375\n",
            "Epoch 23/100\n",
            " 7/18 [==========>...................] - ETA: 0s - loss: 70.0356 - mae: 70.0356 - mse: 28752.4805"
          ]
        },
        {
          "output_type": "stream",
          "name": "stderr",
          "text": [
            "WARNING:absl:Found untraced functions such as _update_step_xla while saving (showing 1 of 1). These functions will not be directly callable after loading.\n"
          ]
        },
        {
          "output_type": "stream",
          "name": "stdout",
          "text": [
            "\b\b\b\b\b\b\b\b\b\b\b\b\b\b\b\b\b\b\b\b\b\b\b\b\b\b\b\b\b\b\b\b\b\b\b\b\b\b\b\b\b\b\b\b\b\b\b\b\b\b\b\b\b\b\b\b\b\b\b\b\b\b\b\b\b\b\b\b\b\b\b\b\b\b\b\b\b\b\b\b\b\b\b\b\b\b\b\b\b\b\b\b\b\b\b\b\b\r18/18 [==============================] - 1s 71ms/step - loss: 73.1517 - mae: 73.1517 - mse: 30481.3945 - val_loss: 379.7112 - val_mae: 379.7112 - val_mse: 477834.0625\n",
            "Epoch 24/100\n",
            "12/18 [===================>..........] - ETA: 0s - loss: 71.9734 - mae: 71.9734 - mse: 28191.0098"
          ]
        },
        {
          "output_type": "stream",
          "name": "stderr",
          "text": [
            "WARNING:absl:Found untraced functions such as _update_step_xla while saving (showing 1 of 1). These functions will not be directly callable after loading.\n"
          ]
        },
        {
          "output_type": "stream",
          "name": "stdout",
          "text": [
            "\b\b\b\b\b\b\b\b\b\b\b\b\b\b\b\b\b\b\b\b\b\b\b\b\b\b\b\b\b\b\b\b\b\b\b\b\b\b\b\b\b\b\b\b\b\b\b\b\b\b\b\b\b\b\b\b\b\b\b\b\b\b\b\b\b\b\b\b\b\b\b\b\b\b\b\b\b\b\b\b\b\b\b\b\b\b\b\b\b\b\b\b\b\b\b\b\b\r18/18 [==============================] - 1s 36ms/step - loss: 71.1980 - mae: 71.1980 - mse: 28230.7812 - val_loss: 364.7260 - val_mae: 364.7260 - val_mse: 447204.2812\n",
            "Epoch 25/100\n",
            "12/18 [===================>..........] - ETA: 0s - loss: 69.0620 - mae: 69.0620 - mse: 28245.8066"
          ]
        },
        {
          "output_type": "stream",
          "name": "stderr",
          "text": [
            "WARNING:absl:Found untraced functions such as _update_step_xla while saving (showing 1 of 1). These functions will not be directly callable after loading.\n"
          ]
        },
        {
          "output_type": "stream",
          "name": "stdout",
          "text": [
            "\b\b\b\b\b\b\b\b\b\b\b\b\b\b\b\b\b\b\b\b\b\b\b\b\b\b\b\b\b\b\b\b\b\b\b\b\b\b\b\b\b\b\b\b\b\b\b\b\b\b\b\b\b\b\b\b\b\b\b\b\b\b\b\b\b\b\b\b\b\b\b\b\b\b\b\b\b\b\b\b\b\b\b\b\b\b\b\b\b\b\b\b\b\b\b\b\b\r18/18 [==============================] - 1s 37ms/step - loss: 67.9463 - mae: 67.9463 - mse: 26533.0254 - val_loss: 363.1476 - val_mae: 363.1476 - val_mse: 434868.4375\n",
            "Epoch 26/100\n",
            "10/18 [===============>..............] - ETA: 0s - loss: 66.5663 - mae: 66.5663 - mse: 22377.7812"
          ]
        },
        {
          "output_type": "stream",
          "name": "stderr",
          "text": [
            "WARNING:absl:Found untraced functions such as _update_step_xla while saving (showing 1 of 1). These functions will not be directly callable after loading.\n"
          ]
        },
        {
          "output_type": "stream",
          "name": "stdout",
          "text": [
            "\b\b\b\b\b\b\b\b\b\b\b\b\b\b\b\b\b\b\b\b\b\b\b\b\b\b\b\b\b\b\b\b\b\b\b\b\b\b\b\b\b\b\b\b\b\b\b\b\b\b\b\b\b\b\b\b\b\b\b\b\b\b\b\b\b\b\b\b\b\b\b\b\b\b\b\b\b\b\b\b\b\b\b\b\b\b\b\b\b\b\b\b\b\b\b\b\b\r18/18 [==============================] - 1s 31ms/step - loss: 66.9614 - mae: 66.9614 - mse: 25030.0527 - val_loss: 354.9222 - val_mae: 354.9222 - val_mse: 404703.0312\n",
            "Epoch 27/100\n",
            "13/18 [====================>.........] - ETA: 0s - loss: 67.4629 - mae: 67.4629 - mse: 25154.7891"
          ]
        },
        {
          "output_type": "stream",
          "name": "stderr",
          "text": [
            "WARNING:absl:Found untraced functions such as _update_step_xla while saving (showing 1 of 1). These functions will not be directly callable after loading.\n"
          ]
        },
        {
          "output_type": "stream",
          "name": "stdout",
          "text": [
            "\b\b\b\b\b\b\b\b\b\b\b\b\b\b\b\b\b\b\b\b\b\b\b\b\b\b\b\b\b\b\b\b\b\b\b\b\b\b\b\b\b\b\b\b\b\b\b\b\b\b\b\b\b\b\b\b\b\b\b\b\b\b\b\b\b\b\b\b\b\b\b\b\b\b\b\b\b\b\b\b\b\b\b\b\b\b\b\b\b\b\b\b\b\b\b\b\b\r18/18 [==============================] - 1s 31ms/step - loss: 66.7822 - mae: 66.7822 - mse: 24843.8926 - val_loss: 346.6172 - val_mae: 346.6172 - val_mse: 390676.4375\n",
            "Epoch 28/100\n",
            "18/18 [==============================] - 0s 6ms/step - loss: 64.9638 - mae: 64.9638 - mse: 23519.0938 - val_loss: 348.9784 - val_mae: 348.9784 - val_mse: 396492.3125\n",
            "Epoch 29/100\n",
            " 1/18 [>.............................] - ETA: 0s - loss: 67.1587 - mae: 67.1587 - mse: 23927.6680"
          ]
        },
        {
          "output_type": "stream",
          "name": "stderr",
          "text": [
            "WARNING:absl:Found untraced functions such as _update_step_xla while saving (showing 1 of 1). These functions will not be directly callable after loading.\n"
          ]
        },
        {
          "output_type": "stream",
          "name": "stdout",
          "text": [
            "\b\b\b\b\b\b\b\b\b\b\b\b\b\b\b\b\b\b\b\b\b\b\b\b\b\b\b\b\b\b\b\b\b\b\b\b\b\b\b\b\b\b\b\b\b\b\b\b\b\b\b\b\b\b\b\b\b\b\b\b\b\b\b\b\b\b\b\b\b\b\b\b\b\b\b\b\b\b\b\b\b\b\b\b\b\b\b\b\b\b\b\b\b\b\b\b\b\r18/18 [==============================] - 1s 30ms/step - loss: 62.3337 - mae: 62.3337 - mse: 21974.9082 - val_loss: 318.9150 - val_mae: 318.9150 - val_mse: 336274.8438\n",
            "Epoch 30/100\n",
            "18/18 [==============================] - 0s 5ms/step - loss: 60.6713 - mae: 60.6713 - mse: 21053.2754 - val_loss: 324.6486 - val_mae: 324.6486 - val_mse: 345741.2812\n",
            "Epoch 31/100\n",
            "18/18 [==============================] - 0s 6ms/step - loss: 61.9938 - mae: 61.9938 - mse: 20924.4707 - val_loss: 327.3347 - val_mae: 327.3347 - val_mse: 342867.2812\n",
            "Epoch 32/100\n",
            "18/18 [==============================] - 0s 5ms/step - loss: 59.5380 - mae: 59.5380 - mse: 19911.3125 - val_loss: 328.1212 - val_mae: 328.1212 - val_mse: 347618.7188\n",
            "Epoch 33/100\n",
            "18/18 [==============================] - 0s 5ms/step - loss: 59.1891 - mae: 59.1891 - mse: 19614.9805 - val_loss: 325.2013 - val_mae: 325.2013 - val_mse: 327652.0000\n",
            "Epoch 34/100\n",
            "18/18 [==============================] - 0s 6ms/step - loss: 57.4923 - mae: 57.4923 - mse: 18534.8848 - val_loss: 321.7622 - val_mae: 321.7622 - val_mse: 320697.6562\n",
            "Epoch 35/100\n",
            " 1/18 [>.............................] - ETA: 0s - loss: 53.8183 - mae: 53.8183 - mse: 14758.1855"
          ]
        },
        {
          "output_type": "stream",
          "name": "stderr",
          "text": [
            "WARNING:absl:Found untraced functions such as _update_step_xla while saving (showing 1 of 1). These functions will not be directly callable after loading.\n"
          ]
        },
        {
          "output_type": "stream",
          "name": "stdout",
          "text": [
            "\b\b\b\b\b\b\b\b\b\b\b\b\b\b\b\b\b\b\b\b\b\b\b\b\b\b\b\b\b\b\b\b\b\b\b\b\b\b\b\b\b\b\b\b\b\b\b\b\b\b\b\b\b\b\b\b\b\b\b\b\b\b\b\b\b\b\b\b\b\b\b\b\b\b\b\b\b\b\b\b\b\b\b\b\b\b\b\b\b\b\b\b\b\b\b\b\b\r18/18 [==============================] - 1s 29ms/step - loss: 57.9818 - mae: 57.9818 - mse: 18282.1230 - val_loss: 295.6275 - val_mae: 295.6275 - val_mse: 287647.0625\n",
            "Epoch 36/100\n",
            "18/18 [==============================] - 0s 5ms/step - loss: 55.3755 - mae: 55.3755 - mse: 17350.9746 - val_loss: 299.5155 - val_mae: 299.5155 - val_mse: 281507.7188\n",
            "Epoch 37/100\n",
            "18/18 [==============================] - 0s 6ms/step - loss: 54.5266 - mae: 54.5266 - mse: 16829.9668 - val_loss: 296.9922 - val_mae: 296.9922 - val_mse: 285343.5938\n",
            "Epoch 38/100\n",
            " 1/18 [>.............................] - ETA: 0s - loss: 55.6785 - mae: 55.6785 - mse: 16602.3516"
          ]
        },
        {
          "output_type": "stream",
          "name": "stderr",
          "text": [
            "WARNING:absl:Found untraced functions such as _update_step_xla while saving (showing 1 of 1). These functions will not be directly callable after loading.\n"
          ]
        },
        {
          "output_type": "stream",
          "name": "stdout",
          "text": [
            "\b\b\b\b\b\b\b\b\b\b\b\b\b\b\b\b\b\b\b\b\b\b\b\b\b\b\b\b\b\b\b\b\b\b\b\b\b\b\b\b\b\b\b\b\b\b\b\b\b\b\b\b\b\b\b\b\b\b\b\b\b\b\b\b\b\b\b\b\b\b\b\b\b\b\b\b\b\b\b\b\b\b\b\b\b\b\b\b\b\b\b\b\b\b\b\b\b\r18/18 [==============================] - 1s 30ms/step - loss: 54.4509 - mae: 54.4509 - mse: 16537.2207 - val_loss: 271.4677 - val_mae: 271.4677 - val_mse: 246503.2344\n",
            "Epoch 39/100\n",
            " 1/18 [>.............................] - ETA: 0s - loss: 33.9902 - mae: 33.9902 - mse: 6169.4307"
          ]
        },
        {
          "output_type": "stream",
          "name": "stderr",
          "text": [
            "WARNING:absl:Found untraced functions such as _update_step_xla while saving (showing 1 of 1). These functions will not be directly callable after loading.\n"
          ]
        },
        {
          "output_type": "stream",
          "name": "stdout",
          "text": [
            "\b\b\b\b\b\b\b\b\b\b\b\b\b\b\b\b\b\b\b\b\b\b\b\b\b\b\b\b\b\b\b\b\b\b\b\b\b\b\b\b\b\b\b\b\b\b\b\b\b\b\b\b\b\b\b\b\b\b\b\b\b\b\b\b\b\b\b\b\b\b\b\b\b\b\b\b\b\b\b\b\b\b\b\b\b\b\b\b\b\b\b\b\b\b\b\b\r18/18 [==============================] - 1s 45ms/step - loss: 51.2333 - mae: 51.2333 - mse: 15154.8096 - val_loss: 269.3594 - val_mae: 269.3594 - val_mse: 239587.7656\n",
            "Epoch 40/100\n",
            "18/18 [==============================] - 0s 8ms/step - loss: 50.2227 - mae: 50.2227 - mse: 14475.9004 - val_loss: 270.6621 - val_mae: 270.6621 - val_mse: 238281.8125\n",
            "Epoch 41/100\n",
            "18/18 [==============================] - 0s 10ms/step - loss: 49.2987 - mae: 49.2987 - mse: 14051.1885 - val_loss: 269.3807 - val_mae: 269.3807 - val_mse: 234724.0312\n",
            "Epoch 42/100\n",
            "17/18 [===========================>..] - ETA: 0s - loss: 49.2219 - mae: 49.2219 - mse: 13676.1436"
          ]
        },
        {
          "output_type": "stream",
          "name": "stderr",
          "text": [
            "WARNING:absl:Found untraced functions such as _update_step_xla while saving (showing 1 of 1). These functions will not be directly callable after loading.\n"
          ]
        },
        {
          "output_type": "stream",
          "name": "stdout",
          "text": [
            "\b\b\b\b\b\b\b\b\b\b\b\b\b\b\b\b\b\b\b\b\b\b\b\b\b\b\b\b\b\b\b\b\b\b\b\b\b\b\b\b\b\b\b\b\b\b\b\b\b\b\b\b\b\b\b\b\b\b\b\b\b\b\b\b\b\b\b\b\b\b\b\b\b\b\b\b\b\b\b\b\b\b\b\b\b\b\b\b\b\b\b\b\b\b\b\b\b\r18/18 [==============================] - 1s 39ms/step - loss: 49.0708 - mae: 49.0708 - mse: 13589.4014 - val_loss: 265.6075 - val_mae: 265.6075 - val_mse: 222615.0000\n",
            "Epoch 43/100\n",
            "18/18 [==============================] - 0s 8ms/step - loss: 49.0900 - mae: 49.0900 - mse: 13476.4531 - val_loss: 268.1146 - val_mae: 268.1146 - val_mse: 230839.2344\n",
            "Epoch 44/100\n",
            "12/18 [===================>..........] - ETA: 0s - loss: 50.5434 - mae: 50.5434 - mse: 13947.2822"
          ]
        },
        {
          "output_type": "stream",
          "name": "stderr",
          "text": [
            "WARNING:absl:Found untraced functions such as _update_step_xla while saving (showing 1 of 1). These functions will not be directly callable after loading.\n"
          ]
        },
        {
          "output_type": "stream",
          "name": "stdout",
          "text": [
            "\b\b\b\b\b\b\b\b\b\b\b\b\b\b\b\b\b\b\b\b\b\b\b\b\b\b\b\b\b\b\b\b\b\b\b\b\b\b\b\b\b\b\b\b\b\b\b\b\b\b\b\b\b\b\b\b\b\b\b\b\b\b\b\b\b\b\b\b\b\b\b\b\b\b\b\b\b\b\b\b\b\b\b\b\b\b\b\b\b\b\b\b\b\b\b\b\b\r18/18 [==============================] - 1s 44ms/step - loss: 48.2717 - mae: 48.2717 - mse: 13099.2393 - val_loss: 242.9592 - val_mae: 242.9592 - val_mse: 194322.1562\n",
            "Epoch 45/100\n",
            "18/18 [==============================] - 0s 5ms/step - loss: 46.5011 - mae: 46.5011 - mse: 12382.2705 - val_loss: 263.8344 - val_mae: 263.8344 - val_mse: 221155.2656\n",
            "Epoch 46/100\n",
            "18/18 [==============================] - 0s 11ms/step - loss: 45.4047 - mae: 45.4047 - mse: 11918.2939 - val_loss: 252.5126 - val_mae: 252.5126 - val_mse: 205587.3750\n",
            "Epoch 47/100\n",
            "17/18 [===========================>..] - ETA: 0s - loss: 44.7388 - mae: 44.7388 - mse: 11536.7646"
          ]
        },
        {
          "output_type": "stream",
          "name": "stderr",
          "text": [
            "WARNING:absl:Found untraced functions such as _update_step_xla while saving (showing 1 of 1). These functions will not be directly callable after loading.\n"
          ]
        },
        {
          "output_type": "stream",
          "name": "stdout",
          "text": [
            "\b\b\b\b\b\b\b\b\b\b\b\b\b\b\b\b\b\b\b\b\b\b\b\b\b\b\b\b\b\b\b\b\b\b\b\b\b\b\b\b\b\b\b\b\b\b\b\b\b\b\b\b\b\b\b\b\b\b\b\b\b\b\b\b\b\b\b\b\b\b\b\b\b\b\b\b\b\b\b\b\b\b\b\b\b\b\b\b\b\b\b\b\b\b\b\b\b\r18/18 [==============================] - 1s 35ms/step - loss: 44.8093 - mae: 44.8093 - mse: 11579.2510 - val_loss: 236.4667 - val_mae: 236.4667 - val_mse: 184493.3125\n",
            "Epoch 48/100\n",
            "18/18 [==============================] - ETA: 0s - loss: 43.9393 - mae: 43.9393 - mse: 11007.9014"
          ]
        },
        {
          "output_type": "stream",
          "name": "stderr",
          "text": [
            "WARNING:absl:Found untraced functions such as _update_step_xla while saving (showing 1 of 1). These functions will not be directly callable after loading.\n"
          ]
        },
        {
          "output_type": "stream",
          "name": "stdout",
          "text": [
            "\b\b\b\b\b\b\b\b\b\b\b\b\b\b\b\b\b\b\b\b\b\b\b\b\b\b\b\b\b\b\b\b\b\b\b\b\b\b\b\b\b\b\b\b\b\b\b\b\b\b\b\b\b\b\b\b\b\b\b\b\b\b\b\b\b\b\b\b\b\b\b\b\b\b\b\b\b\b\b\b\b\b\b\b\b\b\b\b\b\b\b\b\b\b\b\b\b\r18/18 [==============================] - 1s 32ms/step - loss: 43.9393 - mae: 43.9393 - mse: 11007.9014 - val_loss: 231.2564 - val_mae: 231.2564 - val_mse: 175048.5469\n",
            "Epoch 49/100\n",
            "18/18 [==============================] - 0s 6ms/step - loss: 44.3281 - mae: 44.3281 - mse: 11030.1553 - val_loss: 244.9373 - val_mae: 244.9373 - val_mse: 188374.0312\n",
            "Epoch 50/100\n",
            " 1/18 [>.............................] - ETA: 0s - loss: 48.7286 - mae: 48.7286 - mse: 10956.7656"
          ]
        },
        {
          "output_type": "stream",
          "name": "stderr",
          "text": [
            "WARNING:absl:Found untraced functions such as _update_step_xla while saving (showing 1 of 1). These functions will not be directly callable after loading.\n"
          ]
        },
        {
          "output_type": "stream",
          "name": "stdout",
          "text": [
            "\b\b\b\b\b\b\b\b\b\b\b\b\b\b\b\b\b\b\b\b\b\b\b\b\b\b\b\b\b\b\b\b\b\b\b\b\b\b\b\b\b\b\b\b\b\b\b\b\b\b\b\b\b\b\b\b\b\b\b\b\b\b\b\b\b\b\b\b\b\b\b\b\b\b\b\b\b\b\b\b\b\b\b\b\b\b\b\b\b\b\b\b\b\b\b\b\b\r18/18 [==============================] - 1s 35ms/step - loss: 43.4277 - mae: 43.4277 - mse: 10477.6064 - val_loss: 216.7421 - val_mae: 216.7421 - val_mse: 155336.3750\n",
            "Epoch 51/100\n",
            "13/18 [====================>.........] - ETA: 0s - loss: 40.1305 - mae: 40.1305 - mse: 9366.5850"
          ]
        },
        {
          "output_type": "stream",
          "name": "stderr",
          "text": [
            "WARNING:absl:Found untraced functions such as _update_step_xla while saving (showing 1 of 1). These functions will not be directly callable after loading.\n"
          ]
        },
        {
          "output_type": "stream",
          "name": "stdout",
          "text": [
            "\b\b\b\b\b\b\b\b\b\b\b\b\b\b\b\b\b\b\b\b\b\b\b\b\b\b\b\b\b\b\b\b\b\b\b\b\b\b\b\b\b\b\b\b\b\b\b\b\b\b\b\b\b\b\b\b\b\b\b\b\b\b\b\b\b\b\b\b\b\b\b\b\b\b\b\b\b\b\b\b\b\b\b\b\b\b\b\b\b\b\b\b\b\b\b\b\r18/18 [==============================] - 1s 46ms/step - loss: 40.9781 - mae: 40.9781 - mse: 9821.8662 - val_loss: 212.6732 - val_mae: 212.6732 - val_mse: 149514.3438\n",
            "Epoch 52/100\n",
            "18/18 [==============================] - 0s 7ms/step - loss: 39.9216 - mae: 39.9216 - mse: 9479.1084 - val_loss: 214.8821 - val_mae: 214.8821 - val_mse: 147369.9844\n",
            "Epoch 53/100\n",
            "18/18 [==============================] - 0s 7ms/step - loss: 40.2311 - mae: 40.2311 - mse: 9256.7500 - val_loss: 212.7408 - val_mae: 212.7408 - val_mse: 150182.8906\n",
            "Epoch 54/100\n",
            "18/18 [==============================] - 0s 8ms/step - loss: 38.7119 - mae: 38.7119 - mse: 8692.1875 - val_loss: 235.6293 - val_mae: 235.6293 - val_mse: 165824.0625\n",
            "Epoch 55/100\n",
            "18/18 [==============================] - 0s 8ms/step - loss: 38.9492 - mae: 38.9492 - mse: 8622.9570 - val_loss: 220.3412 - val_mae: 220.3412 - val_mse: 154849.3125\n",
            "Epoch 56/100\n",
            "15/18 [========================>.....] - ETA: 0s - loss: 37.9831 - mae: 37.9831 - mse: 8417.8877"
          ]
        },
        {
          "output_type": "stream",
          "name": "stderr",
          "text": [
            "WARNING:absl:Found untraced functions such as _update_step_xla while saving (showing 1 of 1). These functions will not be directly callable after loading.\n"
          ]
        },
        {
          "output_type": "stream",
          "name": "stdout",
          "text": [
            "\b\b\b\b\b\b\b\b\b\b\b\b\b\b\b\b\b\b\b\b\b\b\b\b\b\b\b\b\b\b\b\b\b\b\b\b\b\b\b\b\b\b\b\b\b\b\b\b\b\b\b\b\b\b\b\b\b\b\b\b\b\b\b\b\b\b\b\b\b\b\b\b\b\b\b\b\b\b\b\b\b\b\b\b\b\b\b\b\b\b\b\b\b\b\b\b\r18/18 [==============================] - 1s 65ms/step - loss: 38.1477 - mae: 38.1477 - mse: 8413.4902 - val_loss: 204.0436 - val_mae: 204.0436 - val_mse: 136495.6094\n",
            "Epoch 57/100\n",
            " 1/18 [>.............................] - ETA: 0s - loss: 38.2651 - mae: 38.2651 - mse: 8128.3193"
          ]
        },
        {
          "output_type": "stream",
          "name": "stderr",
          "text": [
            "WARNING:absl:Found untraced functions such as _update_step_xla while saving (showing 1 of 1). These functions will not be directly callable after loading.\n"
          ]
        },
        {
          "output_type": "stream",
          "name": "stdout",
          "text": [
            "\b\b\b\b\b\b\b\b\b\b\b\b\b\b\b\b\b\b\b\b\b\b\b\b\b\b\b\b\b\b\b\b\b\b\b\b\b\b\b\b\b\b\b\b\b\b\b\b\b\b\b\b\b\b\b\b\b\b\b\b\b\b\b\b\b\b\b\b\b\b\b\b\b\b\b\b\b\b\b\b\b\b\b\b\b\b\b\b\b\b\b\b\b\b\b\b\r18/18 [==============================] - 1s 43ms/step - loss: 37.0284 - mae: 37.0284 - mse: 8009.8999 - val_loss: 196.3584 - val_mae: 196.3584 - val_mse: 129477.4141\n",
            "Epoch 58/100\n",
            "12/18 [===================>..........] - ETA: 0s - loss: 35.0763 - mae: 35.0763 - mse: 7307.7085"
          ]
        },
        {
          "output_type": "stream",
          "name": "stderr",
          "text": [
            "WARNING:absl:Found untraced functions such as _update_step_xla while saving (showing 1 of 1). These functions will not be directly callable after loading.\n"
          ]
        },
        {
          "output_type": "stream",
          "name": "stdout",
          "text": [
            "\b\b\b\b\b\b\b\b\b\b\b\b\b\b\b\b\b\b\b\b\b\b\b\b\b\b\b\b\b\b\b\b\b\b\b\b\b\b\b\b\b\b\b\b\b\b\b\b\b\b\b\b\b\b\b\b\b\b\b\b\b\b\b\b\b\b\b\b\b\b\b\b\b\b\b\b\b\b\b\b\b\b\b\b\b\b\b\b\b\b\b\b\b\b\b\b\r18/18 [==============================] - 1s 47ms/step - loss: 35.4638 - mae: 35.4638 - mse: 7425.4941 - val_loss: 188.8369 - val_mae: 188.8369 - val_mse: 117294.8516\n",
            "Epoch 59/100\n",
            "18/18 [==============================] - 0s 6ms/step - loss: 35.6678 - mae: 35.6678 - mse: 7361.7090 - val_loss: 202.0890 - val_mae: 202.0890 - val_mse: 127621.5469\n",
            "Epoch 60/100\n",
            "18/18 [==============================] - 0s 7ms/step - loss: 36.1193 - mae: 36.1193 - mse: 7389.7773 - val_loss: 221.8275 - val_mae: 221.8275 - val_mse: 148939.4688\n",
            "Epoch 61/100\n",
            "18/18 [==============================] - 0s 9ms/step - loss: 36.1001 - mae: 36.1001 - mse: 7206.0894 - val_loss: 209.4833 - val_mae: 209.4833 - val_mse: 132790.7344\n",
            "Epoch 62/100\n",
            "18/18 [==============================] - 0s 6ms/step - loss: 36.8853 - mae: 36.8853 - mse: 7202.0796 - val_loss: 189.0436 - val_mae: 189.0436 - val_mse: 110768.8359\n",
            "Epoch 63/100\n",
            "18/18 [==============================] - 0s 5ms/step - loss: 33.8436 - mae: 33.8436 - mse: 6495.9043 - val_loss: 207.3161 - val_mae: 207.3161 - val_mse: 124688.8984\n",
            "Epoch 64/100\n",
            "13/18 [====================>.........] - ETA: 0s - loss: 35.6458 - mae: 35.6458 - mse: 7041.3599"
          ]
        },
        {
          "output_type": "stream",
          "name": "stderr",
          "text": [
            "WARNING:absl:Found untraced functions such as _update_step_xla while saving (showing 1 of 1). These functions will not be directly callable after loading.\n"
          ]
        },
        {
          "output_type": "stream",
          "name": "stdout",
          "text": [
            "\b\b\b\b\b\b\b\b\b\b\b\b\b\b\b\b\b\b\b\b\b\b\b\b\b\b\b\b\b\b\b\b\b\b\b\b\b\b\b\b\b\b\b\b\b\b\b\b\b\b\b\b\b\b\b\b\b\b\b\b\b\b\b\b\b\b\b\b\b\b\b\b\b\b\b\b\b\b\b\b\b\b\b\b\b\b\b\b\b\b\b\b\b\b\b\b\r18/18 [==============================] - 1s 30ms/step - loss: 33.4414 - mae: 33.4414 - mse: 6389.1963 - val_loss: 167.5991 - val_mae: 167.5991 - val_mse: 95146.5234\n",
            "Epoch 65/100\n",
            "18/18 [==============================] - 0s 5ms/step - loss: 31.6023 - mae: 31.6023 - mse: 5970.1655 - val_loss: 181.0720 - val_mae: 181.0720 - val_mse: 103940.7109\n",
            "Epoch 66/100\n",
            " 1/18 [>.............................] - ETA: 0s - loss: 23.8379 - mae: 23.8379 - mse: 3130.9817"
          ]
        },
        {
          "output_type": "stream",
          "name": "stderr",
          "text": [
            "WARNING:absl:Found untraced functions such as _update_step_xla while saving (showing 1 of 1). These functions will not be directly callable after loading.\n"
          ]
        },
        {
          "output_type": "stream",
          "name": "stdout",
          "text": [
            "\b\b\b\b\b\b\b\b\b\b\b\b\b\b\b\b\b\b\b\b\b\b\b\b\b\b\b\b\b\b\b\b\b\b\b\b\b\b\b\b\b\b\b\b\b\b\b\b\b\b\b\b\b\b\b\b\b\b\b\b\b\b\b\b\b\b\b\b\b\b\b\b\b\b\b\b\b\b\b\b\b\b\b\b\b\b\b\b\b\b\b\b\b\b\b\b\r18/18 [==============================] - 1s 33ms/step - loss: 31.0897 - mae: 31.0897 - mse: 5755.1450 - val_loss: 157.9622 - val_mae: 157.9622 - val_mse: 85297.1562\n",
            "Epoch 67/100\n",
            "18/18 [==============================] - 0s 8ms/step - loss: 29.8913 - mae: 29.8913 - mse: 5444.9395 - val_loss: 170.6099 - val_mae: 170.6099 - val_mse: 94992.6953\n",
            "Epoch 68/100\n",
            "18/18 [==============================] - 0s 11ms/step - loss: 30.1499 - mae: 30.1499 - mse: 5347.5850 - val_loss: 183.8903 - val_mae: 183.8903 - val_mse: 109765.1797\n",
            "Epoch 69/100\n",
            "18/18 [==============================] - 0s 5ms/step - loss: 31.2955 - mae: 31.2955 - mse: 5613.8750 - val_loss: 200.9961 - val_mae: 200.9961 - val_mse: 119454.4062\n",
            "Epoch 70/100\n",
            "18/18 [==============================] - 0s 7ms/step - loss: 31.6032 - mae: 31.6032 - mse: 5372.6597 - val_loss: 170.0128 - val_mae: 170.0128 - val_mse: 86903.1016\n",
            "Epoch 71/100\n",
            "18/18 [==============================] - 0s 5ms/step - loss: 28.8961 - mae: 28.8961 - mse: 4762.1299 - val_loss: 158.8249 - val_mae: 158.8249 - val_mse: 83281.1641\n",
            "Epoch 72/100\n",
            "18/18 [==============================] - 0s 6ms/step - loss: 29.8248 - mae: 29.8248 - mse: 4853.4692 - val_loss: 175.2028 - val_mae: 175.2028 - val_mse: 92932.5469\n",
            "Epoch 73/100\n",
            "18/18 [==============================] - 0s 8ms/step - loss: 29.8501 - mae: 29.8501 - mse: 4841.1426 - val_loss: 195.4765 - val_mae: 195.4765 - val_mse: 106851.4141\n",
            "Epoch 74/100\n",
            "18/18 [==============================] - 0s 8ms/step - loss: 32.1660 - mae: 32.1660 - mse: 5120.5479 - val_loss: 208.6591 - val_mae: 208.6591 - val_mse: 115836.1016\n",
            "Epoch 75/100\n",
            "18/18 [==============================] - 0s 6ms/step - loss: 32.7451 - mae: 32.7451 - mse: 5270.7192 - val_loss: 179.0191 - val_mae: 179.0191 - val_mse: 93141.3125\n",
            "Epoch 76/100\n",
            "18/18 [==============================] - 0s 6ms/step - loss: 28.7867 - mae: 28.7867 - mse: 4439.4199 - val_loss: 160.6756 - val_mae: 160.6756 - val_mse: 75065.3047\n",
            "Epoch 77/100\n",
            "18/18 [==============================] - 0s 6ms/step - loss: 28.9880 - mae: 28.9880 - mse: 4377.0742 - val_loss: 163.8705 - val_mae: 163.8705 - val_mse: 78444.2031\n",
            "Epoch 78/100\n",
            "14/18 [======================>.......] - ETA: 0s - loss: 27.3399 - mae: 27.3399 - mse: 4246.2954"
          ]
        },
        {
          "output_type": "stream",
          "name": "stderr",
          "text": [
            "WARNING:absl:Found untraced functions such as _update_step_xla while saving (showing 1 of 1). These functions will not be directly callable after loading.\n"
          ]
        },
        {
          "output_type": "stream",
          "name": "stdout",
          "text": [
            "\b\b\b\b\b\b\b\b\b\b\b\b\b\b\b\b\b\b\b\b\b\b\b\b\b\b\b\b\b\b\b\b\b\b\b\b\b\b\b\b\b\b\b\b\b\b\b\b\b\b\b\b\b\b\b\b\b\b\b\b\b\b\b\b\b\b\b\b\b\b\b\b\b\b\b\b\b\b\b\b\b\b\b\b\b\b\b\b\b\b\b\b\b\b\b\b\r18/18 [==============================] - 1s 37ms/step - loss: 26.2590 - mae: 26.2590 - mse: 3920.8813 - val_loss: 150.3446 - val_mae: 150.3446 - val_mse: 68097.7500\n",
            "Epoch 79/100\n",
            "18/18 [==============================] - 0s 6ms/step - loss: 25.4280 - mae: 25.4280 - mse: 3648.9814 - val_loss: 179.5071 - val_mae: 179.5071 - val_mse: 91834.8281\n",
            "Epoch 80/100\n",
            " 1/18 [>.............................] - ETA: 0s - loss: 31.8663 - mae: 31.8663 - mse: 4848.0596"
          ]
        },
        {
          "output_type": "stream",
          "name": "stderr",
          "text": [
            "WARNING:absl:Found untraced functions such as _update_step_xla while saving (showing 1 of 1). These functions will not be directly callable after loading.\n"
          ]
        },
        {
          "output_type": "stream",
          "name": "stdout",
          "text": [
            "\b\b\b\b\b\b\b\b\b\b\b\b\b\b\b\b\b\b\b\b\b\b\b\b\b\b\b\b\b\b\b\b\b\b\b\b\b\b\b\b\b\b\b\b\b\b\b\b\b\b\b\b\b\b\b\b\b\b\b\b\b\b\b\b\b\b\b\b\b\b\b\b\b\b\b\b\b\b\b\b\b\b\b\b\b\b\b\b\b\b\b\b\b\b\b\b\r18/18 [==============================] - 1s 35ms/step - loss: 26.4824 - mae: 26.4824 - mse: 3903.2874 - val_loss: 150.0683 - val_mae: 150.0683 - val_mse: 68890.3047\n",
            "Epoch 81/100\n",
            "18/18 [==============================] - 0s 6ms/step - loss: 25.2133 - mae: 25.2133 - mse: 3449.1609 - val_loss: 157.8142 - val_mae: 157.8142 - val_mse: 74021.2734\n",
            "Epoch 82/100\n",
            "15/18 [========================>.....] - ETA: 0s - loss: 24.8415 - mae: 24.8415 - mse: 3203.9062"
          ]
        },
        {
          "output_type": "stream",
          "name": "stderr",
          "text": [
            "WARNING:absl:Found untraced functions such as _update_step_xla while saving (showing 1 of 1). These functions will not be directly callable after loading.\n"
          ]
        },
        {
          "output_type": "stream",
          "name": "stdout",
          "text": [
            "\b\b\b\b\b\b\b\b\b\b\b\b\b\b\b\b\b\b\b\b\b\b\b\b\b\b\b\b\b\b\b\b\b\b\b\b\b\b\b\b\b\b\b\b\b\b\b\b\b\b\b\b\b\b\b\b\b\b\b\b\b\b\b\b\b\b\b\b\b\b\b\b\b\b\b\b\b\b\b\b\b\b\b\b\b\b\b\b\b\b\b\b\b\b\b\b\r18/18 [==============================] - 1s 45ms/step - loss: 24.8722 - mae: 24.8722 - mse: 3329.6860 - val_loss: 146.1702 - val_mae: 146.1702 - val_mse: 67993.3984\n",
            "Epoch 83/100\n",
            "17/18 [===========================>..] - ETA: 0s - loss: 23.6473 - mae: 23.6473 - mse: 3156.5149"
          ]
        },
        {
          "output_type": "stream",
          "name": "stderr",
          "text": [
            "WARNING:absl:Found untraced functions such as _update_step_xla while saving (showing 1 of 1). These functions will not be directly callable after loading.\n"
          ]
        },
        {
          "output_type": "stream",
          "name": "stdout",
          "text": [
            "\b\b\b\b\b\b\b\b\b\b\b\b\b\b\b\b\b\b\b\b\b\b\b\b\b\b\b\b\b\b\b\b\b\b\b\b\b\b\b\b\b\b\b\b\b\b\b\b\b\b\b\b\b\b\b\b\b\b\b\b\b\b\b\b\b\b\b\b\b\b\b\b\b\b\b\b\b\b\b\b\b\b\b\b\b\b\b\b\b\b\b\b\b\b\b\b\r18/18 [==============================] - 1s 30ms/step - loss: 23.5556 - mae: 23.5556 - mse: 3137.7507 - val_loss: 130.7025 - val_mae: 130.7025 - val_mse: 53182.7578\n",
            "Epoch 84/100\n",
            "18/18 [==============================] - 0s 5ms/step - loss: 22.7403 - mae: 22.7403 - mse: 2983.1643 - val_loss: 139.7543 - val_mae: 139.7543 - val_mse: 61072.1445\n",
            "Epoch 85/100\n",
            "18/18 [==============================] - 0s 5ms/step - loss: 24.9550 - mae: 24.9550 - mse: 3409.6941 - val_loss: 145.3020 - val_mae: 145.3020 - val_mse: 67811.4688\n",
            "Epoch 86/100\n",
            "18/18 [==============================] - 0s 8ms/step - loss: 24.1867 - mae: 24.1867 - mse: 3222.0554 - val_loss: 133.3706 - val_mae: 133.3706 - val_mse: 58039.6094\n",
            "Epoch 87/100\n",
            "18/18 [==============================] - 0s 8ms/step - loss: 26.5382 - mae: 26.5382 - mse: 3400.0952 - val_loss: 139.7497 - val_mae: 139.7497 - val_mse: 55162.7148\n",
            "Epoch 88/100\n",
            "18/18 [==============================] - 0s 8ms/step - loss: 24.4777 - mae: 24.4777 - mse: 3057.1821 - val_loss: 134.7920 - val_mae: 134.7920 - val_mse: 60779.4062\n",
            "Epoch 89/100\n",
            "18/18 [==============================] - 0s 8ms/step - loss: 22.7483 - mae: 22.7483 - mse: 2798.4834 - val_loss: 132.1016 - val_mae: 132.1016 - val_mse: 52160.8164\n",
            "Epoch 90/100\n",
            "14/18 [======================>.......] - ETA: 0s - loss: 21.1703 - mae: 21.1703 - mse: 2551.5945"
          ]
        },
        {
          "output_type": "stream",
          "name": "stderr",
          "text": [
            "WARNING:absl:Found untraced functions such as _update_step_xla while saving (showing 1 of 1). These functions will not be directly callable after loading.\n"
          ]
        },
        {
          "output_type": "stream",
          "name": "stdout",
          "text": [
            "\b\b\b\b\b\b\b\b\b\b\b\b\b\b\b\b\b\b\b\b\b\b\b\b\b\b\b\b\b\b\b\b\b\b\b\b\b\b\b\b\b\b\b\b\b\b\b\b\b\b\b\b\b\b\b\b\b\b\b\b\b\b\b\b\b\b\b\b\b\b\b\b\b\b\b\b\b\b\b\b\b\b\b\b\b\b\b\b\b\b\b\b\b\b\b\b\r18/18 [==============================] - 1s 66ms/step - loss: 20.8848 - mae: 20.8848 - mse: 2459.3091 - val_loss: 109.9478 - val_mae: 109.9478 - val_mse: 41754.0508\n",
            "Epoch 91/100\n",
            "18/18 [==============================] - 0s 10ms/step - loss: 19.1382 - mae: 19.1382 - mse: 2177.5786 - val_loss: 116.5275 - val_mae: 116.5275 - val_mse: 42186.7422\n",
            "Epoch 92/100\n",
            "18/18 [==============================] - 0s 6ms/step - loss: 19.3568 - mae: 19.3568 - mse: 2181.4885 - val_loss: 110.0143 - val_mae: 110.0143 - val_mse: 37323.6914\n",
            "Epoch 93/100\n",
            "18/18 [==============================] - 0s 15ms/step - loss: 22.5953 - mae: 22.5953 - mse: 2466.6865 - val_loss: 151.3702 - val_mae: 151.3702 - val_mse: 64493.8711\n",
            "Epoch 94/100\n",
            "17/18 [===========================>..] - ETA: 0s - loss: 21.2968 - mae: 21.2968 - mse: 2363.8628"
          ]
        },
        {
          "output_type": "stream",
          "name": "stderr",
          "text": [
            "WARNING:absl:Found untraced functions such as _update_step_xla while saving (showing 1 of 1). These functions will not be directly callable after loading.\n"
          ]
        },
        {
          "output_type": "stream",
          "name": "stdout",
          "text": [
            "\b\b\b\b\b\b\b\b\b\b\b\b\b\b\b\b\b\b\b\b\b\b\b\b\b\b\b\b\b\b\b\b\b\b\b\b\b\b\b\b\b\b\b\b\b\b\b\b\b\b\b\b\b\b\b\b\b\b\b\b\b\b\b\b\b\b\b\b\b\b\b\b\b\b\b\b\b\b\b\b\b\b\b\b\b\b\b\b\b\b\b\b\b\b\b\b\r18/18 [==============================] - 2s 94ms/step - loss: 21.1437 - mae: 21.1437 - mse: 2340.7715 - val_loss: 101.9475 - val_mae: 101.9475 - val_mse: 32037.3691\n",
            "Epoch 95/100\n",
            "18/18 [==============================] - 0s 7ms/step - loss: 20.4111 - mae: 20.4111 - mse: 2114.0964 - val_loss: 158.2258 - val_mae: 158.2258 - val_mse: 67339.9922\n",
            "Epoch 96/100\n",
            "18/18 [==============================] - 0s 12ms/step - loss: 22.7325 - mae: 22.7325 - mse: 2469.2539 - val_loss: 116.0575 - val_mae: 116.0575 - val_mse: 41887.3828\n",
            "Epoch 97/100\n",
            "16/18 [=========================>....] - ETA: 0s - loss: 19.5898 - mae: 19.5898 - mse: 2029.3608"
          ]
        },
        {
          "output_type": "stream",
          "name": "stderr",
          "text": [
            "WARNING:absl:Found untraced functions such as _update_step_xla while saving (showing 1 of 1). These functions will not be directly callable after loading.\n"
          ]
        },
        {
          "output_type": "stream",
          "name": "stdout",
          "text": [
            "\b\b\b\b\b\b\b\b\b\b\b\b\b\b\b\b\b\b\b\b\b\b\b\b\b\b\b\b\b\b\b\b\b\b\b\b\b\b\b\b\b\b\b\b\b\b\b\b\b\b\b\b\b\b\b\b\b\b\b\b\b\b\b\b\b\b\b\b\b\b\b\b\b\b\b\b\b\b\b\b\b\b\b\b\b\b\b\b\b\b\b\b\b\b\b\b\r18/18 [==============================] - 1s 49ms/step - loss: 19.2315 - mae: 19.2315 - mse: 1989.8307 - val_loss: 98.2353 - val_mae: 98.2353 - val_mse: 29430.7559\n",
            "Epoch 98/100\n",
            "18/18 [==============================] - 0s 9ms/step - loss: 17.9794 - mae: 17.9794 - mse: 1724.4066 - val_loss: 107.0502 - val_mae: 107.0502 - val_mse: 33487.8203\n",
            "Epoch 99/100\n",
            "17/18 [===========================>..] - ETA: 0s - loss: 17.2381 - mae: 17.2381 - mse: 1597.5382"
          ]
        },
        {
          "output_type": "stream",
          "name": "stderr",
          "text": [
            "WARNING:absl:Found untraced functions such as _update_step_xla while saving (showing 1 of 1). These functions will not be directly callable after loading.\n"
          ]
        },
        {
          "output_type": "stream",
          "name": "stdout",
          "text": [
            "\b\b\b\b\b\b\b\b\b\b\b\b\b\b\b\b\b\b\b\b\b\b\b\b\b\b\b\b\b\b\b\b\b\b\b\b\b\b\b\b\b\b\b\b\b\b\b\b\b\b\b\b\b\b\b\b\b\b\b\b\b\b\b\b\b\b\b\b\b\b\b\b\b\b\b\b\b\b\b\b\b\b\b\b\b\b\b\b\b\b\b\b\b\b\b\b\r18/18 [==============================] - 1s 30ms/step - loss: 17.3200 - mae: 17.3200 - mse: 1610.6339 - val_loss: 91.6987 - val_mae: 91.6987 - val_mse: 27817.3691\n",
            "Epoch 100/100\n",
            "18/18 [==============================] - 0s 5ms/step - loss: 16.6523 - mae: 16.6523 - mse: 1574.8939 - val_loss: 100.1520 - val_mae: 100.1520 - val_mse: 29039.5215\n"
          ]
        }
      ]
    },
    {
      "cell_type": "code",
      "source": [
        "# Evaluate model 3\n",
        "model_3.evaluate(test_windows, test_labels)"
      ],
      "metadata": {
        "colab": {
          "base_uri": "https://localhost:8080/"
        },
        "id": "O4j9VpBu-RG0",
        "outputId": "39fa7ad3-aed2-4ca3-cc95-137d855c5f35"
      },
      "execution_count": 63,
      "outputs": [
        {
          "output_type": "stream",
          "name": "stdout",
          "text": [
            "18/18 [==============================] - 0s 3ms/step - loss: 100.1520 - mae: 100.1520 - mse: 29039.5195\n"
          ]
        },
        {
          "output_type": "execute_result",
          "data": {
            "text/plain": [
              "[100.15203094482422, 100.15203094482422, 29039.51953125]"
            ]
          },
          "metadata": {},
          "execution_count": 63
        }
      ]
    },
    {
      "cell_type": "code",
      "source": [
        "# Load best version of model_3\n",
        "model_3 = tf.keras.models.load_model(\"model_experiments/model_3_dense/\")\n",
        "model_3.evaluate(test_windows, test_labels)"
      ],
      "metadata": {
        "colab": {
          "base_uri": "https://localhost:8080/"
        },
        "id": "Ez1Oa65G-x1H",
        "outputId": "f7e86cc1-d070-40ea-a758-83536a9427bb"
      },
      "execution_count": 64,
      "outputs": [
        {
          "output_type": "stream",
          "name": "stdout",
          "text": [
            "18/18 [==============================] - 0s 2ms/step - loss: 91.6986 - mae: 91.6986 - mse: 27817.3711\n"
          ]
        },
        {
          "output_type": "execute_result",
          "data": {
            "text/plain": [
              "[91.69864654541016, 91.69864654541016, 27817.37109375]"
            ]
          },
          "metadata": {},
          "execution_count": 64
        }
      ]
    },
    {
      "cell_type": "code",
      "source": [
        "# Make predictions \n",
        "model_3_preds = make_preds(model_3, test_windows)\n",
        "model_3_preds[:3]"
      ],
      "metadata": {
        "colab": {
          "base_uri": "https://localhost:8080/"
        },
        "id": "4kyyooKR_Pty",
        "outputId": "24d21e3c-b857-4e3c-baf7-06767cd55956"
      },
      "execution_count": 65,
      "outputs": [
        {
          "output_type": "stream",
          "name": "stdout",
          "text": [
            "18/18 [==============================] - 0s 2ms/step\n"
          ]
        },
        {
          "output_type": "execute_result",
          "data": {
            "text/plain": [
              "<tf.Tensor: shape=(3, 7), dtype=float32, numpy=\n",
              "array([[8812.635 , 8839.984 , 9066.737 , 8731.8955, 8809.215 , 8715.988 ,\n",
              "        8689.652 ],\n",
              "       [8831.237 , 9057.629 , 8766.112 , 8749.183 , 8792.369 , 8626.687 ,\n",
              "        8475.245 ],\n",
              "       [9086.578 , 8783.6   , 8773.634 , 8708.122 , 8692.903 , 8486.376 ,\n",
              "        8465.339 ]], dtype=float32)>"
            ]
          },
          "metadata": {},
          "execution_count": 65
        }
      ]
    },
    {
      "cell_type": "code",
      "source": [
        "# Evaluate model_3 results\n",
        "model_3_results = evaluate_preds(tf.squeeze(test_labels), model_3_preds)\n",
        "model_3_results"
      ],
      "metadata": {
        "colab": {
          "base_uri": "https://localhost:8080/"
        },
        "id": "9KiX05C8_jfI",
        "outputId": "5c5f405a-1fd9-43bb-a65d-07d98f291422"
      },
      "execution_count": 66,
      "outputs": [
        {
          "output_type": "execute_result",
          "data": {
            "text/plain": [
              "{'mae': array([ 29.937918,  31.653181,  26.53125 ,  29.769114,  30.583706,\n",
              "         16.334751,  39.680523,  38.12765 ,  14.804548,  37.983257,\n",
              "         34.689106,  19.804478,  39.442314,  18.468401,  38.281807,\n",
              "         23.192244,  43.072823,  28.763882,  39.54534 ,  29.177036,\n",
              "         26.489048,  22.371023,  30.750837,  15.947963,  22.378279,\n",
              "         28.24414 ,  15.237654,  29.35826 ,  18.757883,  21.97433 ,\n",
              "         24.44636 ,  16.33768 ,  30.093401,  21.14174 ,  51.57017 ,\n",
              "         58.96519 ,  46.482353,  59.603725,  48.183315,  43.09675 ,\n",
              "         27.291853,  23.123953,  15.446498,  24.233957,  23.196218,\n",
              "         20.512417,  21.306223,  16.535715,  27.29011 ,  23.687012,\n",
              "         23.78425 ,  38.08252 ,  18.910715,  36.271065,  32.884068,\n",
              "         25.99414 ,  20.871653,  31.54562 ,  38.103935,  18.514648,\n",
              "         33.334404,  33.339775,  45.460518,  31.683035,  38.58315 ,\n",
              "         43.032505,  38.09082 ,  25.597656,  39.800503,  22.645926,\n",
              "         21.725027,  26.652761,  34.047295,  15.677455,  40.144672,\n",
              "         21.152205,  23.424944,  28.154297,  30.128767,  16.46596 ,\n",
              "         38.478657,  25.28948 ,  22.983398,  40.16755 ,  37.072266,\n",
              "         19.674107,  41.4488  ,  27.496931,  36.694756,  31.888672,\n",
              "         55.75837 ,  32.22461 ,  35.186802,  56.539204,  15.504744,\n",
              "         50.344868,  26.810408,  61.473354,  42.12472 ,  66.177315,\n",
              "         40.10212 ,  46.2613  ,  42.313477,  22.040178,  44.753906,\n",
              "         19.756975,  51.31557 ,  26.621233,  25.959124,  40.009068,\n",
              "         35.657646,  21.12263 ,  46.76144 ,  36.424805,  30.52539 ,\n",
              "         40.987236,  19.690847,  48.78104 ,  24.462542,  99.63916 ,\n",
              "        128.21191 , 179.47203 ,  77.82924 , 142.45494 ,  98.56515 ,\n",
              "         48.39858 ,  45.941406,  63.768066,  57.191826,  51.757534,\n",
              "         38.871235,  72.06996 ,  30.841936,  26.080637,  38.263042,\n",
              "         36.184013,  11.984933,  49.83475 ,  38.958565,  32.891533,\n",
              "         45.992744,  40.689312,  25.397043,  31.780064,  21.293945,\n",
              "         39.763252,  21.660295,  41.077705,  42.394463,  25.147112,\n",
              "         41.681572,  30.379673,  18.53383 ,  33.663227,  22.79799 ,\n",
              "         40.45466 ,  22.597307,  40.78725 ,  35.583775,  29.419016,\n",
              "         36.36607 ,  23.554897,  25.254953,  19.603655,  36.71568 ,\n",
              "         20.656809,  30.062082,  47.870674,  49.88916 ,  42.324078,\n",
              "         54.36621 ,  45.810894,  44.504463,  31.640903,  30.449358,\n",
              "         35.537945,  27.156809,  27.327707,  46.843193,  21.655832,\n",
              "         57.839703,  27.06236 ,  37.554268,  40.036552,  32.928154,\n",
              "         57.595146,  34.948383,  35.402344,  35.484516,  32.042133,\n",
              "         28.08273 ,  42.055107,  26.839565,  24.52846 ,  32.282784,\n",
              "         29.700754,  35.88267 ,  28.55092 ,  28.282087,  47.666157,\n",
              "         35.928852,  81.87193 ,  56.33231 ,  90.91253 ,  65.663086,\n",
              "         55.216377,  42.43122 ,  23.882952,  27.232561,  28.549944,\n",
              "         44.026787,  31.278181,  61.967632,  32.19071 ,  40.15625 ,\n",
              "         36.203266,  21.603098,  25.529715,  29.31543 ,  26.621653,\n",
              "         31.786272,  25.915318,  39.304268,  30.407925,  35.159878,\n",
              "         38.999443,  26.813616,  28.789202,  34.744698,  21.255022,\n",
              "         25.871653,  33.183315,  18.212332,  35.47796 ,  24.58552 ,\n",
              "         26.672852,  34.545757,  16.280972,  37.864815,  14.541713,\n",
              "         43.407784,  20.56013 ,  32.374302,  23.773716,  30.40639 ,\n",
              "         22.803572,  28.537668,  29.551897,  23.965261,  27.117048,\n",
              "         28.658203,  33.39453 ,  19.667131,  28.085659,  26.762417,\n",
              "         36.225864,  51.390205,  63.282085,  54.799107,  78.79157 ,\n",
              "         35.05483 ,  88.0671  ,  65.298546,  36.654854,  73.20382 ,\n",
              "         24.552317,  66.73214 ,  32.98284 ,  36.449078,  44.018135,\n",
              "         24.369978,  46.609932,  28.947964,  66.711914,  33.013813,\n",
              "         38.72433 ,  40.697266,  34.831196,  50.523716,  36.319614,\n",
              "         58.01702 ,  55.87835 ,  34.361885,  51.90346 ,  24.741629,\n",
              "         38.69071 ,  24.240793,  51.85728 ,  19.898298,  48.347656,\n",
              "         23.42927 ,  40.06808 ,  30.973772,  49.85854 ,  40.699078,\n",
              "         50.155693,  62.936665,  26.84082 ,  60.415874,  44.22796 ,\n",
              "         38.978794,  55.22642 ,  23.49414 ,  37.958008,  35.660435,\n",
              "         30.612722,  45.467216,  19.721401,  37.11133 ,  24.332449,\n",
              "         41.006557,  34.06264 ,  26.102957,  37.817383,  42.373188,\n",
              "         25.410574,  53.532505,  25.888811,  40.936382,  32.087193,\n",
              "         32.84417 ,  24.153042,  36.905415,  26.148996,  34.649834,\n",
              "         31.813198,  33.43276 ,  30.405134,  27.037249,  44.464565,\n",
              "         29.638254,  28.214844,  36.88393 ,  24.032087,  45.549107,\n",
              "         19.638811,  51.973354,  39.002094,  27.665318,  44.998604,\n",
              "         34.035156,  36.18708 ,  53.069336,  58.68234 ,  55.191265,\n",
              "         62.567524,  65.76842 ,  53.94866 ,  57.842216,  64.002235,\n",
              "         40.083427,  81.88295 ,  32.500698,  63.047573,  30.03111 ,\n",
              "         55.00265 ,  45.475727,  62.32617 ,  57.84152 ,  75.03795 ,\n",
              "         87.68848 , 109.01534 ,  55.03641 ,  87.16769 ,  56.084404,\n",
              "         56.992466,  46.549805,  43.816265,  73.54018 ,  69.501816,\n",
              "         46.168667,  41.76353 ,  68.76172 ,  58.5964  ,  40.12779 ,\n",
              "         69.49052 ,  51.219307,  75.44782 ,  91.14593 ,  70.41769 ,\n",
              "        122.046875,  74.936386,  86.15932 , 105.37807 ,  55.057198,\n",
              "        110.19029 ,  99.27344 ,  59.737446,  97.77595 ,  45.15318 ,\n",
              "         59.729633,  49.73884 ,  68.42578 ,  44.9827  ,  68.33203 ,\n",
              "         76.452286,  33.03404 ,  73.56947 ,  93.444756, 121.3351  ,\n",
              "         74.23493 ,  87.74303 , 119.498604,  57.41211 , 114.860214,\n",
              "         89.262276,  62.33482 , 105.29967 ,  85.416016,  86.719864,\n",
              "         61.55692 , 125.5226  ,  86.666016, 151.50697 ,  67.360214,\n",
              "        185.39537 , 148.85881 , 178.64537 , 256.3488  , 274.6345  ,\n",
              "        162.97768 , 230.16072 , 152.60072 , 135.0159  , 250.38504 ,\n",
              "        110.083145, 300.26508 , 159.71484 , 211.95982 , 211.04129 ,\n",
              "        211.48215 , 141.18806 , 135.2539  , 155.86942 , 207.22433 ,\n",
              "        280.66656 , 335.93246 , 217.87444 , 265.09012 , 235.98717 ,\n",
              "        176.2274  , 219.46764 , 238.20647 , 157.06584 , 102.5678  ,\n",
              "        163.96875 , 205.77092 , 145.3019  , 105.717636, 113.76283 ,\n",
              "        201.3683  , 236.21037 , 340.60324 , 400.71875 , 363.5893  ,\n",
              "        367.30023 , 404.2846  , 263.73996 , 247.60547 , 293.5346  ,\n",
              "        122.49665 , 319.50726 , 251.31027 , 273.65402 , 329.4068  ,\n",
              "        167.41016 , 370.61383 , 404.69977 , 317.5145  , 414.93246 ,\n",
              "        316.05356 , 281.52512 , 374.07925 , 185.3789  , 331.79184 ,\n",
              "        245.25334 , 364.9816  , 259.2634  , 439.43863 , 123.02344 ,\n",
              "        330.07254 , 129.87947 , 246.69197 , 130.00949 , 125.28739 ,\n",
              "        248.91908 , 264.91684 , 273.7059  , 257.25836 , 380.0229  ,\n",
              "        292.28516 , 166.16629 , 264.65625 , 162.37611 , 210.75056 ,\n",
              "        169.5385  , 297.04297 , 117.73884 , 309.01395 , 216.15959 ,\n",
              "        193.10213 , 246.02678 , 292.92133 , 152.21205 , 195.01953 ,\n",
              "        198.4241  , 154.47322 , 164.8259  , 243.12668 , 162.95256 ,\n",
              "        140.96262 , 221.02734 , 239.77176 , 115.168526, 228.18918 ,\n",
              "        155.03293 , 234.52287 , 255.69643 , 132.6914  , 274.33707 ,\n",
              "        189.11217 , 249.89397 , 126.30692 , 304.46262 , 243.40681 ,\n",
              "        135.74777 , 243.41238 , 170.94475 , 195.69308 , 328.35883 ,\n",
              "        372.4732  , 274.36774 , 201.69922 , 351.20535 , 360.61383 ,\n",
              "        250.22154 , 259.72098 , 410.88727 , 249.71819 , 418.20926 ,\n",
              "        240.39621 , 374.7115  , 313.16238 , 222.899   , 225.63393 ,\n",
              "        379.41797 , 181.84264 , 355.8616  , 312.66406 , 190.01506 ,\n",
              "        225.74387 ], dtype=float32),\n",
              " 'mse': array([1.03487048e+03, 1.16728613e+03, 1.22982324e+03, 1.12778418e+03,\n",
              "        1.36688379e+03, 3.87762207e+02, 2.19536743e+03, 1.94897754e+03,\n",
              "        3.96922516e+02, 2.30890869e+03, 2.05697681e+03, 6.24917786e+02,\n",
              "        2.10335571e+03, 6.47879028e+02, 2.22173291e+03, 8.98823242e+02,\n",
              "        3.03953491e+03, 1.14942615e+03, 1.95198499e+03, 1.33569165e+03,\n",
              "        8.95806030e+02, 6.70476440e+02, 1.25213452e+03, 3.03748291e+02,\n",
              "        5.44207397e+02, 1.04017761e+03, 2.75324951e+02, 1.16461499e+03,\n",
              "        5.41237915e+02, 5.80846741e+02, 7.19169250e+02, 3.26939514e+02,\n",
              "        1.28304944e+03, 5.36046509e+02, 5.09916309e+03, 6.79839404e+03,\n",
              "        4.30864160e+03, 5.69110400e+03, 3.50845898e+03, 2.17406421e+03,\n",
              "        1.04258716e+03, 9.15252441e+02, 3.45008942e+02, 6.48148071e+02,\n",
              "        6.81710388e+02, 5.17481750e+02, 5.65323425e+02, 3.41731720e+02,\n",
              "        9.56542542e+02, 9.08280823e+02, 9.81354553e+02, 2.35787451e+03,\n",
              "        4.25735840e+02, 2.11034766e+03, 1.73340906e+03, 7.88932739e+02,\n",
              "        5.52494202e+02, 1.47167114e+03, 3.32099536e+03, 4.87847137e+02,\n",
              "        1.37957336e+03, 1.83421375e+03, 3.33184912e+03, 1.17836243e+03,\n",
              "        2.21250342e+03, 3.07426294e+03, 1.57220764e+03, 9.01025513e+02,\n",
              "        2.58410596e+03, 8.69035950e+02, 6.90140503e+02, 1.15649426e+03,\n",
              "        1.98457996e+03, 3.55432831e+02, 2.21315112e+03, 6.07626404e+02,\n",
              "        7.04630981e+02, 9.33618042e+02, 1.32766675e+03, 3.28011414e+02,\n",
              "        2.00476575e+03, 1.16689343e+03, 7.16679260e+02, 2.20573682e+03,\n",
              "        2.58462183e+03, 4.80484802e+02, 2.06765015e+03, 1.27193713e+03,\n",
              "        2.00146655e+03, 1.32977844e+03, 5.07300830e+03, 1.34635632e+03,\n",
              "        2.03409509e+03, 4.48477637e+03, 3.18110504e+02, 3.77521655e+03,\n",
              "        1.23847070e+03, 6.02858105e+03, 2.83353467e+03, 6.33501660e+03,\n",
              "        2.43319873e+03, 2.77368628e+03, 2.24477368e+03, 6.27988586e+02,\n",
              "        2.46008081e+03, 7.48709290e+02, 4.11858252e+03, 8.10935608e+02,\n",
              "        8.97486206e+02, 2.54417139e+03, 2.39121826e+03, 5.29859192e+02,\n",
              "        3.11399683e+03, 2.14586646e+03, 1.01930176e+03, 2.05296924e+03,\n",
              "        1.06573694e+03, 4.26045947e+03, 1.42749329e+03, 1.70321270e+04,\n",
              "        2.31761855e+04, 5.97895703e+04, 8.83367480e+03, 2.76385176e+04,\n",
              "        1.44933174e+04, 4.20312842e+03, 3.29787500e+03, 5.83869580e+03,\n",
              "        5.15602002e+03, 3.25723389e+03, 2.32092896e+03, 7.03198096e+03,\n",
              "        1.55559900e+03, 1.16088696e+03, 2.47360596e+03, 1.79766040e+03,\n",
              "        2.42483292e+02, 3.77622485e+03, 3.61971948e+03, 1.80708630e+03,\n",
              "        3.27883032e+03, 2.33979907e+03, 8.13626282e+02, 1.36007361e+03,\n",
              "        7.20411560e+02, 2.68457080e+03, 6.84548706e+02, 2.33229639e+03,\n",
              "        2.34363623e+03, 9.79390747e+02, 3.07075757e+03, 1.28945496e+03,\n",
              "        6.18598022e+02, 1.77297253e+03, 8.43182617e+02, 2.89060205e+03,\n",
              "        7.68420349e+02, 2.27360669e+03, 1.84406812e+03, 1.20525500e+03,\n",
              "        2.22692603e+03, 9.01940613e+02, 9.85455139e+02, 7.81135620e+02,\n",
              "        1.82138672e+03, 7.13545776e+02, 1.17454297e+03, 4.05014502e+03,\n",
              "        5.56825049e+03, 3.07677173e+03, 4.36616309e+03, 3.07372217e+03,\n",
              "        2.27109546e+03, 1.20329480e+03, 1.30400488e+03, 1.90613672e+03,\n",
              "        1.03378198e+03, 8.90644226e+02, 2.77253125e+03, 8.00205444e+02,\n",
              "        6.01773340e+03, 1.33899341e+03, 1.81342078e+03, 2.60566650e+03,\n",
              "        1.56343518e+03, 5.58573779e+03, 2.05654272e+03, 1.49998743e+03,\n",
              "        1.71295569e+03, 1.39778638e+03, 9.86061829e+02, 2.83668091e+03,\n",
              "        8.55696289e+02, 7.27475647e+02, 1.75655151e+03, 1.18629846e+03,\n",
              "        1.88250562e+03, 1.01723029e+03, 1.00178516e+03, 3.36660547e+03,\n",
              "        2.24590112e+03, 1.13584375e+04, 5.79075879e+03, 1.36284980e+04,\n",
              "        5.17662793e+03, 4.56356934e+03, 3.53191577e+03, 8.94885803e+02,\n",
              "        9.65601868e+02, 9.29382385e+02, 2.87780127e+03, 1.17107507e+03,\n",
              "        6.54786816e+03, 1.24857397e+03, 2.24967114e+03, 2.67555200e+03,\n",
              "        7.95899109e+02, 7.09858276e+02, 1.19486780e+03, 8.13303162e+02,\n",
              "        1.46536011e+03, 9.30378235e+02, 2.50631079e+03, 1.17643457e+03,\n",
              "        1.52636487e+03, 2.64996460e+03, 1.06180066e+03, 9.59946594e+02,\n",
              "        1.60194812e+03, 6.54747437e+02, 7.29607727e+02, 1.50694116e+03,\n",
              "        3.90024628e+02, 1.56987634e+03, 8.94202820e+02, 9.51092285e+02,\n",
              "        1.76879565e+03, 3.73350128e+02, 2.13780347e+03, 4.86528412e+02,\n",
              "        2.61437109e+03, 7.74965942e+02, 1.28492371e+03, 7.49137329e+02,\n",
              "        1.14387085e+03, 7.04975037e+02, 9.08347351e+02, 1.11838013e+03,\n",
              "        6.84834534e+02, 8.29846008e+02, 9.75050476e+02, 1.46837488e+03,\n",
              "        4.82100494e+02, 9.01066406e+02, 8.72144165e+02, 1.79920374e+03,\n",
              "        5.14762646e+03, 7.35118457e+03, 5.37285059e+03, 9.24224512e+03,\n",
              "        2.06330493e+03, 9.38174121e+03, 5.65857324e+03, 2.08284033e+03,\n",
              "        8.88496680e+03, 6.95744019e+02, 4.94152051e+03, 2.04436304e+03,\n",
              "        1.64371838e+03, 3.41933643e+03, 8.64836060e+02, 3.25827905e+03,\n",
              "        1.19081665e+03, 6.76133691e+03, 1.29462866e+03, 1.97116431e+03,\n",
              "        2.74657788e+03, 1.68142163e+03, 4.57940088e+03, 1.38628406e+03,\n",
              "        4.61472314e+03, 4.72997754e+03, 1.35904785e+03, 3.28889624e+03,\n",
              "        1.06653235e+03, 2.14300366e+03, 1.13882227e+03, 4.14425732e+03,\n",
              "        5.12508789e+02, 3.09473267e+03, 9.68535034e+02, 1.93055505e+03,\n",
              "        1.20911096e+03, 3.88972070e+03, 2.16049683e+03, 3.46063013e+03,\n",
              "        6.18629980e+03, 1.14470129e+03, 4.80984717e+03, 2.73187280e+03,\n",
              "        2.11538745e+03, 5.16925244e+03, 6.84278931e+02, 1.73669312e+03,\n",
              "        1.86284058e+03, 1.32238489e+03, 3.10740259e+03, 4.06400238e+02,\n",
              "        1.69676855e+03, 1.02050085e+03, 2.25542749e+03, 1.90531262e+03,\n",
              "        8.38897461e+02, 1.77439038e+03, 3.02156982e+03, 1.17316809e+03,\n",
              "        4.12794238e+03, 8.78354187e+02, 2.01071130e+03, 1.97610815e+03,\n",
              "        1.78066516e+03, 6.51703979e+02, 1.73298462e+03, 9.37491272e+02,\n",
              "        1.44686194e+03, 1.17666492e+03, 1.30779358e+03, 1.13697668e+03,\n",
              "        8.21707581e+02, 2.61758643e+03, 1.36643787e+03, 1.09901843e+03,\n",
              "        1.80998401e+03, 7.89080627e+02, 3.58312305e+03, 5.14142273e+02,\n",
              "        3.68303467e+03, 2.35688794e+03, 1.01620770e+03, 2.48337329e+03,\n",
              "        1.43519751e+03, 1.75093555e+03, 4.98193750e+03, 6.97298975e+03,\n",
              "        3.73686084e+03, 5.74817236e+03, 6.55065771e+03, 3.12690820e+03,\n",
              "        4.97546436e+03, 6.79069922e+03, 2.09944116e+03, 9.51027441e+03,\n",
              "        1.70287891e+03, 4.82752344e+03, 1.74154175e+03, 3.82020483e+03,\n",
              "        3.02628906e+03, 6.61873145e+03, 6.26935938e+03, 6.92666748e+03,\n",
              "        1.15597021e+04, 2.17836152e+04, 5.17604004e+03, 1.14032568e+04,\n",
              "        5.83967285e+03, 3.68030640e+03, 2.41943188e+03, 2.42568628e+03,\n",
              "        8.36917480e+03, 7.80704932e+03, 2.58171216e+03, 2.45664819e+03,\n",
              "        6.89760400e+03, 8.26726367e+03, 1.86257214e+03, 5.85252783e+03,\n",
              "        3.78772388e+03, 1.04160420e+04, 1.20419150e+04, 6.45926611e+03,\n",
              "        2.73678223e+04, 9.14616504e+03, 1.17875049e+04, 1.41500264e+04,\n",
              "        4.99017822e+03, 1.82254180e+04, 1.20769844e+04, 6.39606250e+03,\n",
              "        1.45070107e+04, 2.65117017e+03, 4.77938965e+03, 4.59414795e+03,\n",
              "        6.50637939e+03, 3.05173755e+03, 6.73079834e+03, 8.90180566e+03,\n",
              "        1.46797839e+03, 6.22483252e+03, 1.37780244e+04, 2.14273027e+04,\n",
              "        7.05431494e+03, 1.00631074e+04, 2.37712988e+04, 4.76358350e+03,\n",
              "        1.66531133e+04, 1.31608311e+04, 4.96575098e+03, 1.49759668e+04,\n",
              "        1.07513271e+04, 1.26110850e+04, 5.70446436e+03, 2.09595781e+04,\n",
              "        1.16515400e+04, 3.23602051e+04, 4.89644287e+03, 5.71353125e+04,\n",
              "        4.60931641e+04, 4.27696172e+04, 9.48135781e+04, 1.37791656e+05,\n",
              "        3.78873086e+04, 5.75408672e+04, 4.27570273e+04, 2.69381426e+04,\n",
              "        8.83567422e+04, 1.84688477e+04, 1.77566172e+05, 4.03166484e+04,\n",
              "        4.94316875e+04, 7.68782031e+04, 7.90935703e+04, 3.97197305e+04,\n",
              "        2.07352832e+04, 2.77036035e+04, 7.05316328e+04, 1.12658984e+05,\n",
              "        2.58790922e+05, 9.54887500e+04, 1.13598148e+05, 9.98635234e+04,\n",
              "        3.67178750e+04, 6.49930898e+04, 1.13188641e+05, 4.03103633e+04,\n",
              "        2.19819473e+04, 5.79233203e+04, 7.55198984e+04, 2.77709824e+04,\n",
              "        1.52401699e+04, 2.12940449e+04, 6.08529570e+04, 9.06603047e+04,\n",
              "        2.02544609e+05, 3.13380500e+05, 2.07071266e+05, 1.95568828e+05,\n",
              "        2.47482141e+05, 9.03511953e+04, 9.69079297e+04, 1.28637391e+05,\n",
              "        1.96322871e+04, 1.63274531e+05, 9.65774922e+04, 1.03127305e+05,\n",
              "        1.83948453e+05, 4.49985625e+04, 2.11541531e+05, 2.56241000e+05,\n",
              "        1.61790984e+05, 3.28639062e+05, 1.31050445e+05, 1.12643328e+05,\n",
              "        2.04304484e+05, 6.03021797e+04, 1.94286703e+05, 1.08188953e+05,\n",
              "        2.15400281e+05, 1.02075188e+05, 2.38453656e+05, 3.57858984e+04,\n",
              "        1.22255734e+05, 3.43848242e+04, 8.13181094e+04, 2.00113887e+04,\n",
              "        2.16542051e+04, 8.70146797e+04, 1.68024172e+05, 1.19654391e+05,\n",
              "        9.99493359e+04, 2.46235609e+05, 1.11469242e+05, 4.86966289e+04,\n",
              "        1.17244234e+05, 4.12733125e+04, 5.99368359e+04, 4.45539141e+04,\n",
              "        1.77764281e+05, 1.87491855e+04, 1.51336250e+05, 7.81777344e+04,\n",
              "        4.12591602e+04, 7.59368516e+04, 1.42001297e+05, 3.15716523e+04,\n",
              "        4.73834727e+04, 6.62014297e+04, 4.11717305e+04, 3.23015664e+04,\n",
              "        8.28343516e+04, 3.42976133e+04, 2.50064512e+04, 7.03838203e+04,\n",
              "        1.02935664e+05, 1.60463057e+04, 5.94399805e+04, 3.67841328e+04,\n",
              "        8.49798125e+04, 1.23314578e+05, 2.32306699e+04, 9.75789609e+04,\n",
              "        5.59889453e+04, 9.30322500e+04, 2.64944414e+04, 1.42085859e+05,\n",
              "        7.94938516e+04, 2.79199473e+04, 1.07018047e+05, 4.74692773e+04,\n",
              "        6.09039922e+04, 1.52260234e+05, 2.39424047e+05, 1.08261016e+05,\n",
              "        6.71507266e+04, 1.81287266e+05, 2.49628406e+05, 8.01973594e+04,\n",
              "        1.04228828e+05, 2.30165359e+05, 9.70601484e+04, 3.32724344e+05,\n",
              "        8.35111328e+04, 2.02440547e+05, 1.45536969e+05, 5.26652695e+04,\n",
              "        7.14852734e+04, 2.32041109e+05, 4.23643047e+04, 1.93659359e+05,\n",
              "        1.41445297e+05, 4.45884570e+04, 7.94052500e+04], dtype=float32),\n",
              " 'rmse': array([ 32.169403,  34.16557 ,  35.068836,  33.582497,  36.97139 ,\n",
              "         19.691679,  46.854748,  44.147224,  19.922915,  48.051105,\n",
              "         45.353905,  24.998356,  45.86236 ,  25.453468,  47.13526 ,\n",
              "         29.980381,  55.131977,  33.903187,  44.181274,  36.547115,\n",
              "         29.930017,  25.89356 ,  35.385513,  17.428377,  23.328253,\n",
              "         32.251785,  16.592918,  34.126457,  23.26452 ,  24.100761,\n",
              "         26.817331,  18.081469,  35.81968 ,  23.152678,  71.408424,\n",
              "         82.45237 ,  65.64024 ,  75.43941 ,  59.232246,  46.62686 ,\n",
              "         32.289116,  30.25314 ,  18.574415,  25.458752,  26.109583,\n",
              "         22.748224,  23.776531,  18.485987,  30.92802 ,  30.137697,\n",
              "         31.326578,  48.55795 ,  20.633368,  45.938522,  41.634228,\n",
              "         28.087946,  23.505196,  38.362366,  57.62808 ,  22.087263,\n",
              "         37.14261 ,  42.82772 ,  57.72217 ,  34.327282,  47.037254,\n",
              "         55.446033,  39.651073,  30.017086,  50.834103,  29.479416,\n",
              "         26.270525,  34.007267,  44.548622,  18.852926,  47.04414 ,\n",
              "         24.65008 ,  26.544886,  30.555164,  36.43716 ,  18.111084,\n",
              "         44.77461 ,  34.15982 ,  26.770866,  46.96527 ,  50.839176,\n",
              "         21.919964,  45.47142 ,  35.664227,  44.73775 ,  36.466125,\n",
              "         71.22505 ,  36.692726,  45.100945,  66.96847 ,  17.835653,\n",
              "         61.44279 ,  35.19191 ,  77.643936,  53.230957,  79.59282 ,\n",
              "         49.327465,  52.6658  ,  47.37904 ,  25.0597  ,  49.5992  ,\n",
              "         27.362553,  64.17618 ,  28.47693 ,  29.958073,  50.43978 ,\n",
              "         48.900085,  23.01867 ,  55.803196,  46.323498,  31.926506,\n",
              "         45.309704,  32.645626,  65.272194,  37.78218 , 130.50719 ,\n",
              "        152.23726 , 244.51906 ,  93.98763 , 166.24835 , 120.38819 ,\n",
              "         64.831535,  57.427128,  76.411354,  71.80543 ,  57.07218 ,\n",
              "         48.17602 ,  83.85691 ,  39.441082,  34.071793,  49.73536 ,\n",
              "         42.398827,  15.571875,  61.450996,  60.164104,  42.50984 ,\n",
              "         57.26107 ,  48.371468,  28.524136,  36.879173,  26.840483,\n",
              "         51.812843,  26.163881,  48.293854,  48.411118,  31.29522 ,\n",
              "         55.414417,  35.90898 ,  24.87163 ,  42.106678,  29.037607,\n",
              "         53.76432 ,  27.720396,  47.68235 ,  42.94261 ,  34.71678 ,\n",
              "         47.190315,  30.032326,  31.39196 ,  27.948803,  42.677708,\n",
              "         26.712276,  34.271606,  63.64075 ,  74.620705,  55.468655,\n",
              "         66.07694 ,  55.44116 ,  47.656013,  34.688538,  36.111008,\n",
              "         43.659325,  32.15248 ,  29.843662,  52.65483 ,  28.287903,\n",
              "         77.57405 ,  36.59226 ,  42.58428 ,  51.04573 ,  39.5403  ,\n",
              "         74.73779 ,  45.349117,  38.72967 ,  41.387867,  37.386982,\n",
              "         31.40162 ,  53.2605  ,  29.252287,  26.971756,  41.911236,\n",
              "         34.442684,  43.38785 ,  31.894047,  31.65099 ,  58.022457,\n",
              "         47.390938, 106.57597 ,  76.09703 , 116.74116 ,  71.948784,\n",
              "         67.55419 ,  59.42992 ,  29.914642,  31.074135,  30.485773,\n",
              "         53.64514 ,  34.220974,  80.9189  ,  35.335167,  47.4307  ,\n",
              "         51.72574 ,  28.211683,  26.643166,  34.56686 ,  28.51847 ,\n",
              "         38.28002 ,  30.502102,  50.06307 ,  34.29919 ,  39.068718,\n",
              "         51.477806,  32.58528 ,  30.983006,  40.02434 ,  25.588034,\n",
              "         27.011251,  38.81934 ,  19.74904 ,  39.621662,  29.903223,\n",
              "         30.839785,  42.057053,  19.32227 ,  46.23639 ,  22.057388,\n",
              "         51.13092 ,  27.83821 ,  35.845833,  27.370373,  33.82116 ,\n",
              "         26.551365,  30.138802,  33.442192,  26.169344,  28.807047,\n",
              "         31.225798,  38.31938 ,  21.956787,  30.017767,  29.532087,\n",
              "         42.417023,  71.74696 ,  85.73905 ,  73.29973 ,  96.1366  ,\n",
              "         45.423615,  96.85939 ,  75.22349 ,  45.638145,  94.2601  ,\n",
              "         26.37696 ,  70.295944,  45.214634,  40.542797,  58.475094,\n",
              "         29.408094,  57.081337,  34.50821 ,  82.22735 ,  35.98095 ,\n",
              "         44.397797,  52.407803,  41.005142,  67.67127 ,  37.232834,\n",
              "         67.931755,  68.77483 ,  36.865265,  57.3489  ,  32.657806,\n",
              "         46.292587,  33.74644 ,  64.37591 ,  22.638657,  55.63032 ,\n",
              "         31.121296,  43.93808 ,  34.772274,  62.367626,  46.481144,\n",
              "         58.827118,  78.65303 ,  33.833435,  69.35306 ,  52.26732 ,\n",
              "         45.99334 ,  71.897514,  26.158726,  41.67365 ,  43.160637,\n",
              "         36.36461 ,  55.74408 ,  20.15937 ,  41.19185 ,  31.945278,\n",
              "         47.49134 ,  43.649887,  28.963726,  42.123512,  54.968807,\n",
              "         34.25154 ,  64.24906 ,  29.637041,  44.840954,  44.453438,\n",
              "         42.19793 ,  25.528494,  41.62913 ,  30.618479,  38.037636,\n",
              "         34.302547,  36.16343 ,  33.719086,  28.665442,  51.162354,\n",
              "         36.96536 ,  33.151447,  42.543907,  28.090578,  59.85919 ,\n",
              "         22.674706,  60.68801 ,  48.54779 ,  31.878012,  49.833454,\n",
              "         37.884   ,  41.84418 ,  70.58284 ,  83.504425,  61.129868,\n",
              "         75.8167  ,  80.936134,  55.918762,  70.53697 ,  82.4057  ,\n",
              "         45.81966 ,  97.52063 ,  41.265953,  69.48038 ,  41.731785,\n",
              "         61.807804,  55.011715,  81.35558 ,  79.17928 ,  83.2266  ,\n",
              "        107.51605 , 147.59273 ,  71.9447  , 106.78603 ,  76.41775 ,\n",
              "         60.665527,  49.18772 ,  49.25126 ,  91.48319 ,  88.35751 ,\n",
              "         50.81055 ,  49.564587,  83.05181 ,  90.92449 ,  43.157524,\n",
              "         76.501816,  61.544487, 102.05901 , 109.73566 ,  80.36956 ,\n",
              "        165.43224 ,  95.63558 , 108.570274, 118.95388 ,  70.64119 ,\n",
              "        135.00154 , 109.89533 ,  79.97539 , 120.44505 ,  51.489513,\n",
              "         69.13313 ,  67.78014 ,  80.66213 ,  55.242535,  82.04144 ,\n",
              "         94.34938 ,  38.314205,  78.897606, 117.37983 , 146.38068 ,\n",
              "         83.98997 , 100.31504 , 154.17943 ,  69.018715, 129.04694 ,\n",
              "        114.720665,  70.46809 , 122.376335, 103.68861 , 112.29909 ,\n",
              "         75.5279  , 144.77423 , 107.9423  , 179.88942 ,  69.97459 ,\n",
              "        239.02994 , 214.69318 , 206.80817 , 307.91812 , 371.20297 ,\n",
              "        194.64662 , 239.87677 , 206.77773 , 164.12843 , 297.24863 ,\n",
              "        135.90013 , 421.38602 , 200.79005 , 222.33238 , 277.26917 ,\n",
              "        281.23578 , 199.2981  , 143.99751 , 166.44398 , 265.5779  ,\n",
              "        335.6471  , 508.71497 , 309.01254 , 337.04324 , 316.0119  ,\n",
              "        191.6191  , 254.93742 , 336.43518 , 200.77441 , 148.2631  ,\n",
              "        240.67264 , 274.80884 , 166.64627 , 123.45108 , 145.92479 ,\n",
              "        246.68391 , 301.09848 , 450.04956 , 559.80396 , 455.05084 ,\n",
              "        442.23166 , 497.47577 , 300.58475 , 311.30038 , 358.66055 ,\n",
              "        140.11526 , 404.07245 , 310.7692  , 321.1344  , 428.89212 ,\n",
              "        212.12865 , 459.93643 , 506.2025  , 402.2325  , 573.2705  ,\n",
              "        362.0089  , 335.62378 , 452.00052 , 245.56502 , 440.77966 ,\n",
              "        328.9209  , 464.11237 , 319.49207 , 488.31717 , 189.17162 ,\n",
              "        349.65088 , 185.43144 , 285.1633  , 141.46161 , 147.15367 ,\n",
              "        294.9825  , 409.9075  , 345.91095 , 316.14764 , 496.2213  ,\n",
              "        333.8701  , 220.67313 , 342.40945 , 203.15834 , 244.82    ,\n",
              "        211.07797 , 421.62103 , 136.92766 , 389.0196  , 279.6028  ,\n",
              "        203.1235  , 275.5664  , 376.8306  , 177.68413 , 217.67744 ,\n",
              "        257.2964  , 202.90817 , 179.72636 , 287.80957 , 185.19615 ,\n",
              "        158.13428 , 265.2995  , 320.83588 , 126.67401 , 243.80316 ,\n",
              "        191.7919  , 291.51297 , 351.16174 , 152.4161  , 312.3763  ,\n",
              "        236.61983 , 305.01187 , 162.77113 , 376.94278 , 281.94653 ,\n",
              "        167.09262 , 327.1361  , 217.87445 , 246.78734 , 390.20535 ,\n",
              "        489.30975 , 329.03043 , 259.13458 , 425.7784  , 499.62827 ,\n",
              "        283.19138 , 322.8449  , 479.7555  , 311.54477 , 576.82263 ,\n",
              "        288.9829  , 449.93393 , 381.49307 , 229.48915 , 267.3673  ,\n",
              "        481.70645 , 205.82591 , 440.06744 , 376.09213 , 211.15979 ,\n",
              "        281.78937 ], dtype=float32),\n",
              " 'mape': array([0.34138796, 0.36217326, 0.30491656, 0.34630218, 0.35932958,\n",
              "        0.1916882 , 0.475227  , 0.4725847 , 0.18266599, 0.48256814,\n",
              "        0.46630156, 0.26514915, 0.5424    , 0.25287074, 0.52942824,\n",
              "        0.3171478 , 0.581215  , 0.39116108, 0.5298979 , 0.39299437,\n",
              "        0.35724282, 0.30132905, 0.4191729 , 0.21584225, 0.30280432,\n",
              "        0.3810556 , 0.20553942, 0.3973824 , 0.25573814, 0.30153632,\n",
              "        0.3370207 , 0.2266763 , 0.42169532, 0.3034404 , 0.7209814 ,\n",
              "        0.8521966 , 0.6622638 , 0.83546257, 0.6847563 , 0.6025989 ,\n",
              "        0.3782674 , 0.32188556, 0.21427962, 0.33571684, 0.32173362,\n",
              "        0.28312248, 0.2927692 , 0.22808243, 0.37586972, 0.33008754,\n",
              "        0.3284753 , 0.5339981 , 0.2633855 , 0.49387664, 0.44856682,\n",
              "        0.3476026 , 0.273928  , 0.40410584, 0.48450208, 0.23421231,\n",
              "        0.41520208, 0.40704873, 0.552244  , 0.3774586 , 0.451108  ,\n",
              "        0.49998692, 0.43789795, 0.29193127, 0.45534745, 0.26048937,\n",
              "        0.24956742, 0.30860773, 0.40053093, 0.18259034, 0.46979436,\n",
              "        0.24659543, 0.26832652, 0.31865782, 0.33023354, 0.18093118,\n",
              "        0.41154101, 0.2711389 , 0.24626884, 0.4259217 , 0.3974322 ,\n",
              "        0.20963731, 0.43379083, 0.2875349 , 0.37470222, 0.32077718,\n",
              "        0.55783564, 0.32010287, 0.34757802, 0.55848444, 0.15360706,\n",
              "        0.5003929 , 0.26560655, 0.6202659 , 0.42404592, 0.6726277 ,\n",
              "        0.4121349 , 0.47058845, 0.43416   , 0.22911881, 0.4687979 ,\n",
              "        0.20848733, 0.5669962 , 0.2946273 , 0.2925793 , 0.4549805 ,\n",
              "        0.40985057, 0.24207756, 0.528875  , 0.4144385 , 0.34473807,\n",
              "        0.47011423, 0.22391514, 0.5824587 , 0.3014051 , 1.4172939 ,\n",
              "        1.7990698 , 2.6499426 , 1.2757282 , 2.3266246 , 1.6991192 ,\n",
              "        0.92773366, 0.82857   , 1.1626563 , 1.0080678 , 0.88640547,\n",
              "        0.66794765, 1.1729001 , 0.4868581 , 0.41455808, 0.59907347,\n",
              "        0.5577366 , 0.18344094, 0.7690466 , 0.62931   , 0.52209026,\n",
              "        0.71651   , 0.6334328 , 0.39306605, 0.4733299 , 0.30878606,\n",
              "        0.5785129 , 0.30982408, 0.57521343, 0.6020076 , 0.35641763,\n",
              "        0.5897854 , 0.43543166, 0.26527828, 0.48686102, 0.32700327,\n",
              "        0.58812004, 0.3241048 , 0.5786999 , 0.5131019 , 0.41834152,\n",
              "        0.5178044 , 0.32610074, 0.35066327, 0.27562368, 0.49751428,\n",
              "        0.27872127, 0.3982319 , 0.59292126, 0.62629753, 0.5169676 ,\n",
              "        0.6398885 , 0.5390826 , 0.5133036 , 0.3559823 , 0.33770528,\n",
              "        0.38550234, 0.2901132 , 0.29378167, 0.50386643, 0.23014   ,\n",
              "        0.6390471 , 0.29646155, 0.4056519 , 0.4351107 , 0.36247987,\n",
              "        0.6103318 , 0.3714586 , 0.37088528, 0.3709565 , 0.33823916,\n",
              "        0.295376  , 0.4503741 , 0.28830844, 0.2653592 , 0.35381877,\n",
              "        0.32779786, 0.39457047, 0.30989513, 0.30794927, 0.51018256,\n",
              "        0.36930034, 0.85202765, 0.57573384, 0.92972714, 0.67680824,\n",
              "        0.56633085, 0.43941918, 0.24677727, 0.28015113, 0.29290512,\n",
              "        0.4557849 , 0.32429752, 0.6508007 , 0.3395688 , 0.42484817,\n",
              "        0.38719124, 0.22925493, 0.27042156, 0.31085896, 0.28307793,\n",
              "        0.33958107, 0.27320546, 0.4182265 , 0.32445103, 0.3729079 ,\n",
              "        0.41647652, 0.28777474, 0.3102433 , 0.37851477, 0.231424  ,\n",
              "        0.28280303, 0.36309797, 0.19942981, 0.3881485 , 0.26935428,\n",
              "        0.29101357, 0.37842068, 0.17672285, 0.4095348 , 0.1590768 ,\n",
              "        0.46815085, 0.22230737, 0.34974685, 0.25659534, 0.32884353,\n",
              "        0.24669936, 0.30957353, 0.3214486 , 0.26069534, 0.29529655,\n",
              "        0.31097645, 0.36141935, 0.2109827 , 0.29952762, 0.28345126,\n",
              "        0.37705433, 0.49795425, 0.617239  , 0.5254854 , 0.73120296,\n",
              "        0.33002645, 0.7899385 , 0.5784749 , 0.32439104, 0.6459965 ,\n",
              "        0.21654814, 0.5838064 , 0.2884777 , 0.31711054, 0.3804781 ,\n",
              "        0.20911697, 0.399104  , 0.24846193, 0.5751292 , 0.2836986 ,\n",
              "        0.33281615, 0.3501287 , 0.29214135, 0.4219567 , 0.30493954,\n",
              "        0.48164627, 0.47184667, 0.2884481 , 0.44051418, 0.21067415,\n",
              "        0.3314799 , 0.20873778, 0.45035934, 0.17205697, 0.42295438,\n",
              "        0.20460899, 0.3486734 , 0.2681226 , 0.42819637, 0.36015728,\n",
              "        0.43734396, 0.5773678 , 0.24392368, 0.5753778 , 0.42626566,\n",
              "        0.38030133, 0.5427616 , 0.23029654, 0.3698221 , 0.34740385,\n",
              "        0.29336426, 0.43554232, 0.18718351, 0.3480114 , 0.22927974,\n",
              "        0.37658614, 0.31217465, 0.23974466, 0.34780625, 0.39807862,\n",
              "        0.23695824, 0.5088118 , 0.2446536 , 0.3868839 , 0.30434316,\n",
              "        0.30730894, 0.22449751, 0.3428896 , 0.2435582 , 0.32452968,\n",
              "        0.29829958, 0.31409344, 0.28519258, 0.25456423, 0.41618   ,\n",
              "        0.2765781 , 0.25902715, 0.3377357 , 0.21765588, 0.40377778,\n",
              "        0.17535876, 0.45384178, 0.34198293, 0.24228434, 0.3933788 ,\n",
              "        0.29693657, 0.31361136, 0.4373284 , 0.48616967, 0.44771796,\n",
              "        0.49449274, 0.5168739 , 0.41926777, 0.43639833, 0.4839019 ,\n",
              "        0.3019836 , 0.61150885, 0.24406433, 0.4663237 , 0.22297348,\n",
              "        0.4013707 , 0.3313242 , 0.43207812, 0.40388995, 0.51626533,\n",
              "        0.5878266 , 0.72918975, 0.3687524 , 0.56664544, 0.36945704,\n",
              "        0.36561942, 0.2951547 , 0.27644768, 0.45216   , 0.42421645,\n",
              "        0.27905664, 0.25369304, 0.3979143 , 0.3301803 , 0.22489254,\n",
              "        0.3790956 , 0.27717108, 0.40667647, 0.5025357 , 0.3862554 ,\n",
              "        0.6801156 , 0.42422   , 0.47011632, 0.5831696 , 0.3041103 ,\n",
              "        0.58215785, 0.52522945, 0.31560513, 0.51245266, 0.23703966,\n",
              "        0.3138878 , 0.26256904, 0.36403275, 0.24033722, 0.3649873 ,\n",
              "        0.41342852, 0.17802228, 0.3914806 , 0.4753895 , 0.60433215,\n",
              "        0.3588032 , 0.41166463, 0.53859556, 0.25552925, 0.49495226,\n",
              "        0.38426837, 0.26583657, 0.4449236 , 0.35110262, 0.35305524,\n",
              "        0.25235552, 0.48758057, 0.3240598 , 0.5623266 , 0.24623436,\n",
              "        0.62752044, 0.50753236, 0.595002  , 0.79884213, 0.8522923 ,\n",
              "        0.48920107, 0.6590652 , 0.42849597, 0.35615072, 0.6739079 ,\n",
              "        0.30063802, 0.8192268 , 0.43989575, 0.57992864, 0.58908623,\n",
              "        0.580344  , 0.39178723, 0.36644495, 0.42870283, 0.6151558 ,\n",
              "        0.8214346 , 1.0358787 , 0.6714351 , 0.8197909 , 0.741423  ,\n",
              "        0.5473568 , 0.6783721 , 0.7460844 , 0.48262742, 0.31973693,\n",
              "        0.50724536, 0.60685396, 0.4192064 , 0.30326843, 0.32857925,\n",
              "        0.53914213, 0.6232006 , 0.83562297, 0.99314034, 0.8708125 ,\n",
              "        0.84951353, 0.92645633, 0.59011304, 0.52442473, 0.6217469 ,\n",
              "        0.25856775, 0.6461638 , 0.50667834, 0.53173697, 0.6362862 ,\n",
              "        0.31979832, 0.6855038 , 0.7840135 , 0.6076719 , 0.81285655,\n",
              "        0.63266927, 0.58259016, 0.79193574, 0.38841382, 0.7118202 ,\n",
              "        0.51668143, 0.75988704, 0.54243386, 0.90288687, 0.25212216,\n",
              "        0.6656148 , 0.2592987 , 0.47511417, 0.24697797, 0.23483664,\n",
              "        0.43888828, 0.46204165, 0.47838768, 0.44376814, 0.6563635 ,\n",
              "        0.5061381 , 0.286572  , 0.4598848 , 0.28125373, 0.3679821 ,\n",
              "        0.29626244, 0.5343785 , 0.21256019, 0.56746125, 0.40383303,\n",
              "        0.35615474, 0.4503373 , 0.52902454, 0.27062625, 0.34198245,\n",
              "        0.34476832, 0.2657389 , 0.28182486, 0.4170069 , 0.27869514,\n",
              "        0.24214345, 0.3807123 , 0.41818008, 0.19826418, 0.39222422,\n",
              "        0.26682135, 0.38886175, 0.42421478, 0.2200413 , 0.44293022,\n",
              "        0.30914614, 0.408831  , 0.2049077 , 0.52025545, 0.426305  ,\n",
              "        0.23697731, 0.43654525, 0.3200755 , 0.37725046, 0.63311034,\n",
              "        0.7338666 , 0.5290144 , 0.393449  , 0.66609913, 0.67120403,\n",
              "        0.4547366 , 0.46520373, 0.74133515, 0.4431048 , 0.7531043 ,\n",
              "        0.42989343, 0.66146564, 0.55634147, 0.39343083, 0.39361176,\n",
              "        0.6828691 , 0.329329  , 0.65994567, 0.6078981 , 0.3672158 ,\n",
              "        0.45600972], dtype=float32),\n",
              " 'mase': 0.1631726}"
            ]
          },
          "metadata": {},
          "execution_count": 66
        }
      ]
    },
    {
      "cell_type": "markdown",
      "source": [
        "## Make our evaluation function work for larger horizons\n"
      ],
      "metadata": {
        "id": "GK17VlCgANNX"
      }
    },
    {
      "cell_type": "code",
      "source": [
        "# Create a function to evaluate model forecasts with various metrics\n",
        "def evaluate_preds(y_true, y_pred):\n",
        "  \"\"\"\n",
        "  Evaluates model predictions with various metrics.\n",
        "\n",
        "  Parameters:\n",
        "      y_true (tf.Tensor): True values of the target variable.\n",
        "      y_pred (tf.Tensor): Predicted values of the target variable.\n",
        "\n",
        "  Returns:\n",
        "      A dictionary of evaluation metrics, including:\n",
        "          - 'mae': mean absolute error\n",
        "          - 'mse': mean squared error\n",
        "          - 'rmse': root mean squared error\n",
        "          - 'mape': mean absolute percentage error\n",
        "          - 'mase': mean absolute scaled error\n",
        "  \"\"\"\n",
        "  # Make sure float32 datatype\n",
        "  y_true = tf.cast(y_true, dtype=tf.float32)\n",
        "  y_pred = tf.cast(y_pred, dtype=tf.float32)\n",
        "\n",
        "  # Calculate various evaluation metrics\n",
        "  mae = tf.keras.metrics.mean_absolute_error(y_true, y_pred)\n",
        "  mse = tf.keras.metrics.mean_squared_error(y_true, y_pred)\n",
        "  rmse = tf.sqrt(mse)\n",
        "  mape = tf.keras.metrics.mean_absolute_percentage_error(y_true, y_pred)\n",
        "  mase = mean_absolute_scaled_error(y_true, y_pred)\n",
        "\n",
        "  # Account for different sized metrics (for longer horizons, we want to reduce metrics to a single value)\n",
        "  if mae.ndim > 0:\n",
        "    mae = tf.reduce_mean(mae)\n",
        "    mse = tf.reduce_mean(mse)\n",
        "    rmse = tf.reduce_mean(rmse)\n",
        "    mape = tf.reduce_mean(mape)\n",
        "    mase = tf.reduce_mean(mase)\n",
        "\n",
        "  return {\"mae\": mae.numpy(),\n",
        "          \"mse\": mse.numpy(),\n",
        "          \"rmse\": rmse.numpy(),\n",
        "          \"mape\": mape.numpy(),\n",
        "          \"mase\": mase.numpy()}"
      ],
      "metadata": {
        "id": "IC0lF9SWBg1T"
      },
      "execution_count": 67,
      "outputs": []
    },
    {
      "cell_type": "code",
      "source": [
        "# Get model_3 results\n",
        "model_3_results = evaluate_preds(test_labels, model_3_preds)\n",
        "model_3_results"
      ],
      "metadata": {
        "colab": {
          "base_uri": "https://localhost:8080/"
        },
        "id": "0wWI0hIsDW-f",
        "outputId": "f120e944-674f-46cd-b9b2-639ca8946211"
      },
      "execution_count": 68,
      "outputs": [
        {
          "output_type": "execute_result",
          "data": {
            "text/plain": [
              "{'mae': 91.69865,\n",
              " 'mse': 27817.371,\n",
              " 'rmse': 113.171295,\n",
              " 'mape': 0.4424562,\n",
              " 'mase': 0.1631726}"
            ]
          },
          "metadata": {},
          "execution_count": 68
        }
      ]
    },
    {
      "cell_type": "code",
      "source": [
        "model_2_results"
      ],
      "metadata": {
        "colab": {
          "base_uri": "https://localhost:8080/"
        },
        "id": "dFCRSea4DjHu",
        "outputId": "f24d2341-dbfe-4e20-d8d9-8ebb1ed50b86"
      },
      "execution_count": 69,
      "outputs": [
        {
          "output_type": "execute_result",
          "data": {
            "text/plain": [
              "{'mae': 603.9783,\n",
              " 'mse': 1251337.9,\n",
              " 'rmse': 1118.6321,\n",
              " 'mape': 2.6817548,\n",
              " 'mase': 1.0557599}"
            ]
          },
          "metadata": {},
          "execution_count": 69
        }
      ]
    },
    {
      "cell_type": "code",
      "source": [
        "offset = 300\n",
        "plt.figure(figsize=(10, 7))\n",
        "plot_time_series(timesteps=X_test[-len(test_windows):], values=test_labels[:, 0], format=\"-\", start=offset, label=\"Test Data\")\n",
        "plot_time_series(timesteps=X_test[-len(test_windows):], values=model_3_preds, start=offset, label=\"model_3_preds\")"
      ],
      "metadata": {
        "colab": {
          "base_uri": "https://localhost:8080/",
          "height": 442
        },
        "id": "9vnjT26aDmTs",
        "outputId": "79ff79a8-4c84-4305-c334-b9c54bd307d2"
      },
      "execution_count": 70,
      "outputs": [
        {
          "output_type": "display_data",
          "data": {
            "text/plain": [
              "<Figure size 720x504 with 1 Axes>"
            ],
            "image/png": "[encoded data removed]"
          },
          "metadata": {
            "needs_background": "light"
          }
        }
      ]
    },
    {
      "cell_type": "code",
      "source": [
        "offset = 300\n",
        "plt.figure(figsize=(10, 7))\n",
        "plot_time_series(timesteps=X_test[-len(test_windows):], values=test_labels[:, 0], format=\"-\", start=offset, label=\"Test Data\")\n",
        "plot_time_series(timesteps=X_test[-len(test_windows):], values=tf.reduce_mean(model_3_preds, axis=1), format=\"-\", start=offset, label=\"model_3_preds\")"
      ],
      "metadata": {
        "colab": {
          "base_uri": "https://localhost:8080/",
          "height": 442
        },
        "id": "axjhMFUaFIdZ",
        "outputId": "c5bf95e5-bc8e-4fbf-a14d-dc4e1d802974"
      },
      "execution_count": 71,
      "outputs": [
        {
          "output_type": "display_data",
          "data": {
            "text/plain": [
              "<Figure size 720x504 with 1 Axes>"
            ],
            "image/png": "[encoded data removed]"
          },
          "metadata": {
            "needs_background": "light"
          }
        }
      ]
    },
    {
      "cell_type": "markdown",
      "source": [
        "## Which of our models is performing the best so far?\n",
        "\n",
        "So we've trained a few models, now let's compare them and see how they've gone..."
      ],
      "metadata": {
        "id": "8cZNc9MOIAow"
      }
    },
    {
      "cell_type": "code",
      "source": [
        "pd.DataFrame({\"naive\": naive_results[\"mae\"],\n",
        "              \"horizon_1_window_7\": model_1_results[\"mae\"],\n",
        "              \"horizon_1_window_30\": model_2_results[\"mae\"],\n",
        "              \"horizon_7_window_30\": model_3_results[\"mae\"]}, index=[\"mae\"]).plot(figsize=(10, 7), kind=\"bar\");\n"
      ],
      "metadata": {
        "colab": {
          "base_uri": "https://localhost:8080/",
          "height": 440
        },
        "id": "v5bkGtfyjzS1",
        "outputId": "4fa09977-4d35-4cf2-9af1-fac73d47230b"
      },
      "execution_count": 72,
      "outputs": [
        {
          "output_type": "display_data",
          "data": {
            "text/plain": [
              "<Figure size 720x504 with 1 Axes>"
            ],
            "image/png": "[encoded data removed]"
          },
          "metadata": {
            "needs_background": "light"
          }
        }
      ]
    },
    {
      "cell_type": "markdown",
      "source": [
        "> 🔑 **Note:** You might be wondering, why are the naive results so good? One of the reasons could be due the presence of autocorrelation in the data. If a time series has autocorrelation i means the value at `t+1` (the next timestep) is typically close to the value at `t` (the current timestep). In other words, today's value is probably pretty close to yesterday's value. Of course, this isn't always the case but when it is (stock market prices often seem autocorrelated but often fluctuate randomly), a naive model will often get fairly good results.\n",
        "\n",
        "> 📖 **Resources:** For more on how autocorrelation influences a model's predictions, see the arcticle [How (not) to use Machine Learning for time series forecasting: Avoiding the pitfalls by Vegard Flovik.](https://www.kdnuggets.com/2020/03/machine-learning-time-series-forecasting-sequel.html)"
      ],
      "metadata": {
        "id": "oiBRkqzRp9N_"
      }
    },
    {
      "cell_type": "markdown",
      "source": [
        "## Model 4: Conv1D\n",
        "\n"
      ],
      "metadata": {
        "id": "vL4nqioRQKDH"
      }
    },
    {
      "cell_type": "code",
      "source": [
        "HORIZON = 1 # predict next day of Bitcoin prices\n",
        "WINDOW_SIZE = 7 # use previous week worth data"
      ],
      "metadata": {
        "id": "KYKKlNBEUhf4"
      },
      "execution_count": 73,
      "outputs": []
    },
    {
      "cell_type": "code",
      "source": [
        "# Create windowed data\n",
        "full_windows, full_labels = make_windows(prices, window_size=WINDOW_SIZE, horizon=HORIZON)\n",
        "len(full_windows), len(full_labels)\n"
      ],
      "metadata": {
        "colab": {
          "base_uri": "https://localhost:8080/"
        },
        "id": "4N7NWJ5dju-o",
        "outputId": "4a7b6f28-c2ed-4537-8352-b6cca0bb9d13"
      },
      "execution_count": 74,
      "outputs": [
        {
          "output_type": "execute_result",
          "data": {
            "text/plain": [
              "(2780, 2780)"
            ]
          },
          "metadata": {},
          "execution_count": 74
        }
      ]
    },
    {
      "cell_type": "code",
      "source": [
        "# Create train/test sets\n",
        "train_windows, test_windows, train_labels, test_labels = make_train_test_splits(full_windows, full_labels, test_split=0.2)\n",
        "len(train_windows), len(test_windows), len(train_labels), len(test_labels)"
      ],
      "metadata": {
        "colab": {
          "base_uri": "https://localhost:8080/"
        },
        "id": "1gsOzmEtkOaU",
        "outputId": "53fb973a-26b5-4a48-dd5e-e12756cb84f5"
      },
      "execution_count": 75,
      "outputs": [
        {
          "output_type": "execute_result",
          "data": {
            "text/plain": [
              "(2224, 556, 2224, 556)"
            ]
          },
          "metadata": {},
          "execution_count": 75
        }
      ]
    },
    {
      "cell_type": "markdown",
      "source": [
        "To use the Conv1D layer, we need an input shape of: `(batch_size, timesteps, input_dim)`...\n",
        "\n",
        "However, our data isn't in that shape yet...\n"
      ],
      "metadata": {
        "id": "pH6mduFLkpyn"
      }
    },
    {
      "cell_type": "code",
      "source": [
        "# Check data input shape\n",
        "train_windows[0].shape # returns (WINDOW_SIZE,)"
      ],
      "metadata": {
        "colab": {
          "base_uri": "https://localhost:8080/"
        },
        "id": "wvYDetgWlyRG",
        "outputId": "dc0864eb-14a4-4d35-ed6d-dc439690e719"
      },
      "execution_count": 76,
      "outputs": [
        {
          "output_type": "execute_result",
          "data": {
            "text/plain": [
              "(7,)"
            ]
          },
          "metadata": {},
          "execution_count": 76
        }
      ]
    },
    {
      "cell_type": "code",
      "source": [
        "# Before we pass our data to the Conv1D layer, we have to reshape it in order to make sure it works\n",
        "x = tf.constant(train_windows[0])\n",
        "x"
      ],
      "metadata": {
        "colab": {
          "base_uri": "https://localhost:8080/"
        },
        "id": "nnLbNOdAl7YV",
        "outputId": "212a794f-f25b-45a4-dfea-d8790e306ef6"
      },
      "execution_count": 77,
      "outputs": [
        {
          "output_type": "execute_result",
          "data": {
            "text/plain": [
              "<tf.Tensor: shape=(7,), dtype=float64, numpy=\n",
              "array([123.65499, 125.455  , 108.58483, 118.67466, 121.33866, 120.65533,\n",
              "       121.795  ])>"
            ]
          },
          "metadata": {},
          "execution_count": 77
        }
      ]
    },
    {
      "cell_type": "code",
      "source": [
        "expand_dims_layer = layers.Lambda(lambda x: tf.expand_dims(x, axis=1)) #  add an extra dimension for `input_dim`\n"
      ],
      "metadata": {
        "id": "f3bCiIfvm6rL"
      },
      "execution_count": 78,
      "outputs": []
    },
    {
      "cell_type": "code",
      "source": [
        "# Test out our lambda layer\n",
        "print(f\"Original shape: {x.shape}\")\n",
        "print(f\"Expanded shape: {expand_dims_layer(x).shape}\")\n",
        "print(f\"Original values with expanded shape:\\n {expand_dims_layer(x)}\")"
      ],
      "metadata": {
        "colab": {
          "base_uri": "https://localhost:8080/"
        },
        "id": "nefwRr5XnW-t",
        "outputId": "5481bf6e-8b5a-4098-d4e5-f6ee5b1baafe"
      },
      "execution_count": 79,
      "outputs": [
        {
          "output_type": "stream",
          "name": "stdout",
          "text": [
            "Original shape: (7,)\n",
            "Expanded shape: (7, 1)\n",
            "Original values with expanded shape:\n",
            " [[123.65499]\n",
            " [125.455  ]\n",
            " [108.58483]\n",
            " [118.67466]\n",
            " [121.33866]\n",
            " [120.65533]\n",
            " [121.795  ]]\n"
          ]
        }
      ]
    },
    {
      "cell_type": "code",
      "source": [
        "# Create Conv1D\n",
        "# Set random seed\n",
        "tf.random.set_seed(42)\n",
        "\n",
        "# Create model_4\n",
        "model_4 = tf.keras.Sequential([\n",
        "    expand_dims_layer,\n",
        "    layers.Conv1D(filters=128, kernel_size=5, padding=\"causal\", activation=\"relu\"),\n",
        "    layers.Dense(HORIZON)\n",
        "], name=\"model_4_conv1d\")\n",
        "\n",
        "# Compile model\n",
        "model_4.compile(loss='mae', optimizer=tf.keras.optimizers.Adam(), metrics=[\"mae\"])\n"
      ],
      "metadata": {
        "id": "IZeyk5yNnvVS"
      },
      "execution_count": 80,
      "outputs": []
    },
    {
      "cell_type": "code",
      "source": [
        "model_4.fit(train_windows, train_labels,\n",
        "            epochs=100,\n",
        "            batch_size=128,\n",
        "            validation_data=(test_windows, test_labels),\n",
        "            callbacks=[create_model_checkpoint(model_name=model_4.name)])"
      ],
      "metadata": {
        "colab": {
          "base_uri": "https://localhost:8080/"
        },
        "id": "qzF57Wt4xJeB",
        "outputId": "140b93e3-ba70-4144-caac-14847c1a7269"
      },
      "execution_count": 81,
      "outputs": [
        {
          "output_type": "stream",
          "name": "stdout",
          "text": [
            "Epoch 1/100\n",
            "15/18 [========================>.....] - ETA: 0s - loss: 1987.5090 - mae: 1987.5090  "
          ]
        },
        {
          "output_type": "stream",
          "name": "stderr",
          "text": [
            "WARNING:absl:Found untraced functions such as _jit_compiled_convolution_op, _update_step_xla while saving (showing 2 of 2). These functions will not be directly callable after loading.\n"
          ]
        },
        {
          "output_type": "stream",
          "name": "stdout",
          "text": [
            "\b\b\b\b\b\b\b\b\b\b\b\b\b\b\b\b\b\b\b\b\b\b\b\b\b\b\b\b\b\b\b\b\b\b\b\b\b\b\b\b\b\b\b\b\b\b\b\b\b\b\b\b\b\b\b\b\b\b\b\b\b\b\b\b\b\b\b\b\b\b\b\b\b\b\b\b\b\b\b\b\b\b\b\r18/18 [==============================] - 8s 53ms/step - loss: 1787.5032 - mae: 1787.5032 - val_loss: 1235.3312 - val_mae: 1235.3312\n",
            "Epoch 2/100\n",
            "18/18 [==============================] - 0s 6ms/step - loss: 337.9433 - mae: 337.9433 - val_loss: 1673.0065 - val_mae: 1673.0065\n",
            "Epoch 3/100\n",
            "17/18 [===========================>..] - ETA: 0s - loss: 235.6008 - mae: 235.6008"
          ]
        },
        {
          "output_type": "stream",
          "name": "stderr",
          "text": [
            "WARNING:absl:Found untraced functions such as _jit_compiled_convolution_op, _update_step_xla while saving (showing 2 of 2). These functions will not be directly callable after loading.\n"
          ]
        },
        {
          "output_type": "stream",
          "name": "stdout",
          "text": [
            "\b\b\b\b\b\b\b\b\b\b\b\b\b\b\b\b\b\b\b\b\b\b\b\b\b\b\b\b\b\b\b\b\b\b\b\b\b\b\b\b\b\b\b\b\b\b\b\b\b\b\b\b\b\b\b\b\b\b\b\b\b\b\b\b\b\b\b\b\b\b\b\b\b\b\b\b\b\b\b\b\b\r18/18 [==============================] - 1s 39ms/step - loss: 233.5363 - mae: 233.5363 - val_loss: 1129.4529 - val_mae: 1129.4529\n",
            "Epoch 4/100\n",
            "16/18 [=========================>....] - ETA: 0s - loss: 202.0518 - mae: 202.0518"
          ]
        },
        {
          "output_type": "stream",
          "name": "stderr",
          "text": [
            "WARNING:absl:Found untraced functions such as _jit_compiled_convolution_op, _update_step_xla while saving (showing 2 of 2). These functions will not be directly callable after loading.\n"
          ]
        },
        {
          "output_type": "stream",
          "name": "stdout",
          "text": [
            "\b\b\b\b\b\b\b\b\b\b\b\b\b\b\b\b\b\b\b\b\b\b\b\b\b\b\b\b\b\b\b\b\b\b\b\b\b\b\b\b\b\b\b\b\b\b\b\b\b\b\b\b\b\b\b\b\b\b\b\b\b\b\b\b\b\b\b\b\b\b\b\b\b\b\b\b\b\b\b\b\b\r18/18 [==============================] - 1s 40ms/step - loss: 202.8761 - mae: 202.8761 - val_loss: 1092.6447 - val_mae: 1092.6447\n",
            "Epoch 5/100\n",
            "18/18 [==============================] - 0s 6ms/step - loss: 195.8442 - mae: 195.8442 - val_loss: 1096.7753 - val_mae: 1096.7753\n",
            "Epoch 6/100\n",
            "18/18 [==============================] - 0s 6ms/step - loss: 194.0524 - mae: 194.0524 - val_loss: 1095.2012 - val_mae: 1095.2012\n",
            "Epoch 7/100\n",
            "17/18 [===========================>..] - ETA: 0s - loss: 195.6589 - mae: 195.6589"
          ]
        },
        {
          "output_type": "stream",
          "name": "stderr",
          "text": [
            "WARNING:absl:Found untraced functions such as _jit_compiled_convolution_op, _update_step_xla while saving (showing 2 of 2). These functions will not be directly callable after loading.\n"
          ]
        },
        {
          "output_type": "stream",
          "name": "stdout",
          "text": [
            "\b\b\b\b\b\b\b\b\b\b\b\b\b\b\b\b\b\b\b\b\b\b\b\b\b\b\b\b\b\b\b\b\b\b\b\b\b\b\b\b\b\b\b\b\b\b\b\b\b\b\b\b\b\b\b\b\b\b\b\b\b\b\b\b\b\b\b\b\b\b\b\b\b\b\b\b\b\b\b\b\b\r18/18 [==============================] - 1s 55ms/step - loss: 195.0553 - mae: 195.0553 - val_loss: 1051.2635 - val_mae: 1051.2635\n",
            "Epoch 8/100\n",
            "18/18 [==============================] - 0s 6ms/step - loss: 187.3703 - mae: 187.3703 - val_loss: 1058.0237 - val_mae: 1058.0237\n",
            "Epoch 9/100\n",
            "18/18 [==============================] - 0s 6ms/step - loss: 183.2041 - mae: 183.2041 - val_loss: 1056.6207 - val_mae: 1056.6207\n",
            "Epoch 10/100\n",
            "14/18 [======================>.......] - ETA: 0s - loss: 176.6841 - mae: 176.6841"
          ]
        },
        {
          "output_type": "stream",
          "name": "stderr",
          "text": [
            "WARNING:absl:Found untraced functions such as _jit_compiled_convolution_op, _update_step_xla while saving (showing 2 of 2). These functions will not be directly callable after loading.\n"
          ]
        },
        {
          "output_type": "stream",
          "name": "stdout",
          "text": [
            "\b\b\b\b\b\b\b\b\b\b\b\b\b\b\b\b\b\b\b\b\b\b\b\b\b\b\b\b\b\b\b\b\b\b\b\b\b\b\b\b\b\b\b\b\b\b\b\b\b\b\b\b\b\b\b\b\b\b\b\b\b\b\b\b\b\b\b\b\b\b\b\b\b\b\b\b\b\b\b\b\b\r18/18 [==============================] - 1s 40ms/step - loss: 180.7821 - mae: 180.7821 - val_loss: 1008.3662 - val_mae: 1008.3662\n",
            "Epoch 11/100\n",
            "17/18 [===========================>..] - ETA: 0s - loss: 178.4803 - mae: 178.4803"
          ]
        },
        {
          "output_type": "stream",
          "name": "stderr",
          "text": [
            "WARNING:absl:Found untraced functions such as _jit_compiled_convolution_op, _update_step_xla while saving (showing 2 of 2). These functions will not be directly callable after loading.\n"
          ]
        },
        {
          "output_type": "stream",
          "name": "stdout",
          "text": [
            "\b\b\b\b\b\b\b\b\b\b\b\b\b\b\b\b\b\b\b\b\b\b\b\b\b\b\b\b\b\b\b\b\b\b\b\b\b\b\b\b\b\b\b\b\b\b\b\b\b\b\b\b\b\b\b\b\b\b\b\b\b\b\b\b\b\b\b\b\b\b\b\b\b\b\b\b\b\b\b\b\b\r18/18 [==============================] - 1s 40ms/step - loss: 178.2634 - mae: 178.2634 - val_loss: 976.4540 - val_mae: 976.4540\n",
            "Epoch 12/100\n",
            "18/18 [==============================] - 0s 6ms/step - loss: 176.2242 - mae: 176.2242 - val_loss: 1024.2618 - val_mae: 1024.2618\n",
            "Epoch 13/100\n",
            "18/18 [==============================] - ETA: 0s - loss: 171.5544 - mae: 171.5544"
          ]
        },
        {
          "output_type": "stream",
          "name": "stderr",
          "text": [
            "WARNING:absl:Found untraced functions such as _jit_compiled_convolution_op, _update_step_xla while saving (showing 2 of 2). These functions will not be directly callable after loading.\n"
          ]
        },
        {
          "output_type": "stream",
          "name": "stdout",
          "text": [
            "\b\b\b\b\b\b\b\b\b\b\b\b\b\b\b\b\b\b\b\b\b\b\b\b\b\b\b\b\b\b\b\b\b\b\b\b\b\b\b\b\b\b\b\b\b\b\b\b\b\b\b\b\b\b\b\b\b\b\b\b\b\b\b\b\b\b\b\b\b\b\b\b\b\b\b\b\b\b\b\b\b\r18/18 [==============================] - 1s 42ms/step - loss: 171.5544 - mae: 171.5544 - val_loss: 971.0256 - val_mae: 971.0256\n",
            "Epoch 14/100\n",
            "12/18 [===================>..........] - ETA: 0s - loss: 162.8455 - mae: 162.8455"
          ]
        },
        {
          "output_type": "stream",
          "name": "stderr",
          "text": [
            "WARNING:absl:Found untraced functions such as _jit_compiled_convolution_op, _update_step_xla while saving (showing 2 of 2). These functions will not be directly callable after loading.\n"
          ]
        },
        {
          "output_type": "stream",
          "name": "stdout",
          "text": [
            "\b\b\b\b\b\b\b\b\b\b\b\b\b\b\b\b\b\b\b\b\b\b\b\b\b\b\b\b\b\b\b\b\b\b\b\b\b\b\b\b\b\b\b\b\b\b\b\b\b\b\b\b\b\b\b\b\b\b\b\b\b\b\b\b\b\b\b\b\b\b\b\b\b\b\b\b\b\b\b\b\b\r18/18 [==============================] - 1s 58ms/step - loss: 166.7005 - mae: 166.7005 - val_loss: 950.0645 - val_mae: 950.0645\n",
            "Epoch 15/100\n",
            "18/18 [==============================] - 0s 9ms/step - loss: 165.8230 - mae: 165.8230 - val_loss: 995.4872 - val_mae: 995.4872\n",
            "Epoch 16/100\n",
            "11/18 [=================>............] - ETA: 0s - loss: 163.9459 - mae: 163.9459"
          ]
        },
        {
          "output_type": "stream",
          "name": "stderr",
          "text": [
            "WARNING:absl:Found untraced functions such as _jit_compiled_convolution_op, _update_step_xla while saving (showing 2 of 2). These functions will not be directly callable after loading.\n"
          ]
        },
        {
          "output_type": "stream",
          "name": "stdout",
          "text": [
            "\b\b\b\b\b\b\b\b\b\b\b\b\b\b\b\b\b\b\b\b\b\b\b\b\b\b\b\b\b\b\b\b\b\b\b\b\b\b\b\b\b\b\b\b\b\b\b\b\b\b\b\b\b\b\b\b\b\b\b\b\b\b\b\b\b\b\b\b\b\b\b\b\b\b\b\b\b\b\b\b\b\r18/18 [==============================] - 1s 58ms/step - loss: 161.7142 - mae: 161.7142 - val_loss: 891.4225 - val_mae: 891.4225\n",
            "Epoch 17/100\n",
            "18/18 [==============================] - 0s 6ms/step - loss: 156.8053 - mae: 156.8053 - val_loss: 932.1562 - val_mae: 932.1562\n",
            "Epoch 18/100\n",
            "16/18 [=========================>....] - ETA: 0s - loss: 160.6921 - mae: 160.6921"
          ]
        },
        {
          "output_type": "stream",
          "name": "stderr",
          "text": [
            "WARNING:absl:Found untraced functions such as _jit_compiled_convolution_op, _update_step_xla while saving (showing 2 of 2). These functions will not be directly callable after loading.\n"
          ]
        },
        {
          "output_type": "stream",
          "name": "stdout",
          "text": [
            "\b\b\b\b\b\b\b\b\b\b\b\b\b\b\b\b\b\b\b\b\b\b\b\b\b\b\b\b\b\b\b\b\b\b\b\b\b\b\b\b\b\b\b\b\b\b\b\b\b\b\b\b\b\b\b\b\b\b\b\b\b\b\b\b\b\b\b\b\b\b\b\b\b\b\b\b\b\b\b\b\b\r18/18 [==============================] - 1s 41ms/step - loss: 155.8006 - mae: 155.8006 - val_loss: 884.4636 - val_mae: 884.4636\n",
            "Epoch 19/100\n",
            "17/18 [===========================>..] - ETA: 0s - loss: 153.4955 - mae: 153.4955"
          ]
        },
        {
          "output_type": "stream",
          "name": "stderr",
          "text": [
            "WARNING:absl:Found untraced functions such as _jit_compiled_convolution_op, _update_step_xla while saving (showing 2 of 2). These functions will not be directly callable after loading.\n"
          ]
        },
        {
          "output_type": "stream",
          "name": "stdout",
          "text": [
            "\b\b\b\b\b\b\b\b\b\b\b\b\b\b\b\b\b\b\b\b\b\b\b\b\b\b\b\b\b\b\b\b\b\b\b\b\b\b\b\b\b\b\b\b\b\b\b\b\b\b\b\b\b\b\b\b\b\b\b\b\b\b\b\b\b\b\b\b\b\b\b\b\b\b\b\b\b\b\b\b\b\r18/18 [==============================] - 1s 37ms/step - loss: 152.5994 - mae: 152.5994 - val_loss: 842.5501 - val_mae: 842.5501\n",
            "Epoch 20/100\n",
            "17/18 [===========================>..] - ETA: 0s - loss: 148.1913 - mae: 148.1913"
          ]
        },
        {
          "output_type": "stream",
          "name": "stderr",
          "text": [
            "WARNING:absl:Found untraced functions such as _jit_compiled_convolution_op, _update_step_xla while saving (showing 2 of 2). These functions will not be directly callable after loading.\n"
          ]
        },
        {
          "output_type": "stream",
          "name": "stdout",
          "text": [
            "\b\b\b\b\b\b\b\b\b\b\b\b\b\b\b\b\b\b\b\b\b\b\b\b\b\b\b\b\b\b\b\b\b\b\b\b\b\b\b\b\b\b\b\b\b\b\b\b\b\b\b\b\b\b\b\b\b\b\b\b\b\b\b\b\b\b\b\b\b\b\b\b\b\b\b\b\b\b\b\b\b\r18/18 [==============================] - 1s 40ms/step - loss: 148.5422 - mae: 148.5422 - val_loss: 824.2120 - val_mae: 824.2120\n",
            "Epoch 21/100\n",
            "18/18 [==============================] - ETA: 0s - loss: 145.9680 - mae: 145.9680"
          ]
        },
        {
          "output_type": "stream",
          "name": "stderr",
          "text": [
            "WARNING:absl:Found untraced functions such as _jit_compiled_convolution_op, _update_step_xla while saving (showing 2 of 2). These functions will not be directly callable after loading.\n"
          ]
        },
        {
          "output_type": "stream",
          "name": "stdout",
          "text": [
            "\b\b\b\b\b\b\b\b\b\b\b\b\b\b\b\b\b\b\b\b\b\b\b\b\b\b\b\b\b\b\b\b\b\b\b\b\b\b\b\b\b\b\b\b\b\b\b\b\b\b\b\b\b\b\b\b\b\b\b\b\b\b\b\b\b\b\b\b\b\b\b\b\b\b\b\b\b\b\b\b\b\r18/18 [==============================] - 1s 38ms/step - loss: 145.9680 - mae: 145.9680 - val_loss: 805.7525 - val_mae: 805.7525\n",
            "Epoch 22/100\n",
            "15/18 [========================>.....] - ETA: 0s - loss: 148.2639 - mae: 148.2639"
          ]
        },
        {
          "output_type": "stream",
          "name": "stderr",
          "text": [
            "WARNING:absl:Found untraced functions such as _jit_compiled_convolution_op, _update_step_xla while saving (showing 2 of 2). These functions will not be directly callable after loading.\n"
          ]
        },
        {
          "output_type": "stream",
          "name": "stdout",
          "text": [
            "\b\b\b\b\b\b\b\b\b\b\b\b\b\b\b\b\b\b\b\b\b\b\b\b\b\b\b\b\b\b\b\b\b\b\b\b\b\b\b\b\b\b\b\b\b\b\b\b\b\b\b\b\b\b\b\b\b\b\b\b\b\b\b\b\b\b\b\b\b\b\b\b\b\b\b\b\b\b\b\b\b\r18/18 [==============================] - 1s 39ms/step - loss: 142.6713 - mae: 142.6713 - val_loss: 791.4363 - val_mae: 791.4363\n",
            "Epoch 23/100\n",
            "16/18 [=========================>....] - ETA: 0s - loss: 138.7042 - mae: 138.7042"
          ]
        },
        {
          "output_type": "stream",
          "name": "stderr",
          "text": [
            "WARNING:absl:Found untraced functions such as _jit_compiled_convolution_op, _update_step_xla while saving (showing 2 of 2). These functions will not be directly callable after loading.\n"
          ]
        },
        {
          "output_type": "stream",
          "name": "stdout",
          "text": [
            "\b\b\b\b\b\b\b\b\b\b\b\b\b\b\b\b\b\b\b\b\b\b\b\b\b\b\b\b\b\b\b\b\b\b\b\b\b\b\b\b\b\b\b\b\b\b\b\b\b\b\b\b\b\b\b\b\b\b\b\b\b\b\b\b\b\b\b\b\b\b\b\b\b\b\b\b\b\b\b\b\b\r18/18 [==============================] - 1s 59ms/step - loss: 140.0558 - mae: 140.0558 - val_loss: 778.4284 - val_mae: 778.4284\n",
            "Epoch 24/100\n",
            "17/18 [===========================>..] - ETA: 0s - loss: 141.1627 - mae: 141.1627"
          ]
        },
        {
          "output_type": "stream",
          "name": "stderr",
          "text": [
            "WARNING:absl:Found untraced functions such as _jit_compiled_convolution_op, _update_step_xla while saving (showing 2 of 2). These functions will not be directly callable after loading.\n"
          ]
        },
        {
          "output_type": "stream",
          "name": "stdout",
          "text": [
            "\b\b\b\b\b\b\b\b\b\b\b\b\b\b\b\b\b\b\b\b\b\b\b\b\b\b\b\b\b\b\b\b\b\b\b\b\b\b\b\b\b\b\b\b\b\b\b\b\b\b\b\b\b\b\b\b\b\b\b\b\b\b\b\b\b\b\b\b\b\b\b\b\b\b\b\b\b\b\b\b\b\r18/18 [==============================] - 1s 39ms/step - loss: 139.5240 - mae: 139.5240 - val_loss: 769.1998 - val_mae: 769.1998\n",
            "Epoch 25/100\n",
            "18/18 [==============================] - ETA: 0s - loss: 137.7298 - mae: 137.7298"
          ]
        },
        {
          "output_type": "stream",
          "name": "stderr",
          "text": [
            "WARNING:absl:Found untraced functions such as _jit_compiled_convolution_op, _update_step_xla while saving (showing 2 of 2). These functions will not be directly callable after loading.\n"
          ]
        },
        {
          "output_type": "stream",
          "name": "stdout",
          "text": [
            "\b\b\b\b\b\b\b\b\b\b\b\b\b\b\b\b\b\b\b\b\b\b\b\b\b\b\b\b\b\b\b\b\b\b\b\b\b\b\b\b\b\b\b\b\b\b\b\b\b\b\b\b\b\b\b\b\b\b\b\b\b\b\b\b\b\b\b\b\b\b\b\b\b\b\b\b\b\b\b\b\b\r18/18 [==============================] - 1s 39ms/step - loss: 137.7298 - mae: 137.7298 - val_loss: 745.6183 - val_mae: 745.6183\n",
            "Epoch 26/100\n",
            "11/18 [=================>............] - ETA: 0s - loss: 132.1192 - mae: 132.1192"
          ]
        },
        {
          "output_type": "stream",
          "name": "stderr",
          "text": [
            "WARNING:absl:Found untraced functions such as _jit_compiled_convolution_op, _update_step_xla while saving (showing 2 of 2). These functions will not be directly callable after loading.\n"
          ]
        },
        {
          "output_type": "stream",
          "name": "stdout",
          "text": [
            "\b\b\b\b\b\b\b\b\b\b\b\b\b\b\b\b\b\b\b\b\b\b\b\b\b\b\b\b\b\b\b\b\b\b\b\b\b\b\b\b\b\b\b\b\b\b\b\b\b\b\b\b\b\b\b\b\b\b\b\b\b\b\b\b\b\b\b\b\b\b\b\b\b\b\b\b\b\b\b\b\b\r18/18 [==============================] - 1s 40ms/step - loss: 133.3208 - mae: 133.3208 - val_loss: 727.9638 - val_mae: 727.9638\n",
            "Epoch 27/100\n",
            "17/18 [===========================>..] - ETA: 0s - loss: 131.9725 - mae: 131.9725"
          ]
        },
        {
          "output_type": "stream",
          "name": "stderr",
          "text": [
            "WARNING:absl:Found untraced functions such as _jit_compiled_convolution_op, _update_step_xla while saving (showing 2 of 2). These functions will not be directly callable after loading.\n"
          ]
        },
        {
          "output_type": "stream",
          "name": "stdout",
          "text": [
            "\b\b\b\b\b\b\b\b\b\b\b\b\b\b\b\b\b\b\b\b\b\b\b\b\b\b\b\b\b\b\b\b\b\b\b\b\b\b\b\b\b\b\b\b\b\b\b\b\b\b\b\b\b\b\b\b\b\b\b\b\b\b\b\b\b\b\b\b\b\b\b\b\b\b\b\b\b\b\b\b\b\r18/18 [==============================] - 1s 39ms/step - loss: 132.4629 - mae: 132.4629 - val_loss: 717.8481 - val_mae: 717.8481\n",
            "Epoch 28/100\n",
            "17/18 [===========================>..] - ETA: 0s - loss: 130.3164 - mae: 130.3164"
          ]
        },
        {
          "output_type": "stream",
          "name": "stderr",
          "text": [
            "WARNING:absl:Found untraced functions such as _jit_compiled_convolution_op, _update_step_xla while saving (showing 2 of 2). These functions will not be directly callable after loading.\n"
          ]
        },
        {
          "output_type": "stream",
          "name": "stdout",
          "text": [
            "\b\b\b\b\b\b\b\b\b\b\b\b\b\b\b\b\b\b\b\b\b\b\b\b\b\b\b\b\b\b\b\b\b\b\b\b\b\b\b\b\b\b\b\b\b\b\b\b\b\b\b\b\b\b\b\b\b\b\b\b\b\b\b\b\b\b\b\b\b\b\b\b\b\b\b\b\b\b\b\b\b\r18/18 [==============================] - 1s 39ms/step - loss: 130.1270 - mae: 130.1270 - val_loss: 707.8945 - val_mae: 707.8945\n",
            "Epoch 29/100\n",
            "13/18 [====================>.........] - ETA: 0s - loss: 130.8753 - mae: 130.8753"
          ]
        },
        {
          "output_type": "stream",
          "name": "stderr",
          "text": [
            "WARNING:absl:Found untraced functions such as _jit_compiled_convolution_op, _update_step_xla while saving (showing 2 of 2). These functions will not be directly callable after loading.\n"
          ]
        },
        {
          "output_type": "stream",
          "name": "stdout",
          "text": [
            "\b\b\b\b\b\b\b\b\b\b\b\b\b\b\b\b\b\b\b\b\b\b\b\b\b\b\b\b\b\b\b\b\b\b\b\b\b\b\b\b\b\b\b\b\b\b\b\b\b\b\b\b\b\b\b\b\b\b\b\b\b\b\b\b\b\b\b\b\b\b\b\b\b\b\b\b\b\b\b\b\b\r18/18 [==============================] - 1s 39ms/step - loss: 129.9143 - mae: 129.9143 - val_loss: 695.8809 - val_mae: 695.8809\n",
            "Epoch 30/100\n",
            "18/18 [==============================] - 0s 6ms/step - loss: 128.6087 - mae: 128.6087 - val_loss: 773.0637 - val_mae: 773.0637\n",
            "Epoch 31/100\n",
            "18/18 [==============================] - 0s 6ms/step - loss: 139.1146 - mae: 139.1146 - val_loss: 820.8504 - val_mae: 820.8504\n",
            "Epoch 32/100\n",
            "15/18 [========================>.....] - ETA: 0s - loss: 134.7052 - mae: 134.7052"
          ]
        },
        {
          "output_type": "stream",
          "name": "stderr",
          "text": [
            "WARNING:absl:Found untraced functions such as _jit_compiled_convolution_op, _update_step_xla while saving (showing 2 of 2). These functions will not be directly callable after loading.\n"
          ]
        },
        {
          "output_type": "stream",
          "name": "stdout",
          "text": [
            "\b\b\b\b\b\b\b\b\b\b\b\b\b\b\b\b\b\b\b\b\b\b\b\b\b\b\b\b\b\b\b\b\b\b\b\b\b\b\b\b\b\b\b\b\b\b\b\b\b\b\b\b\b\b\b\b\b\b\b\b\b\b\b\b\b\b\b\b\b\b\b\b\b\b\b\b\b\b\b\b\b\r18/18 [==============================] - 1s 39ms/step - loss: 134.7543 - mae: 134.7543 - val_loss: 675.0272 - val_mae: 675.0272\n",
            "Epoch 33/100\n",
            "16/18 [=========================>....] - ETA: 0s - loss: 130.3774 - mae: 130.3774"
          ]
        },
        {
          "output_type": "stream",
          "name": "stderr",
          "text": [
            "WARNING:absl:Found untraced functions such as _jit_compiled_convolution_op, _update_step_xla while saving (showing 2 of 2). These functions will not be directly callable after loading.\n"
          ]
        },
        {
          "output_type": "stream",
          "name": "stdout",
          "text": [
            "\b\b\b\b\b\b\b\b\b\b\b\b\b\b\b\b\b\b\b\b\b\b\b\b\b\b\b\b\b\b\b\b\b\b\b\b\b\b\b\b\b\b\b\b\b\b\b\b\b\b\b\b\b\b\b\b\b\b\b\b\b\b\b\b\b\b\b\b\b\b\b\b\b\b\b\b\b\b\b\b\b\r18/18 [==============================] - 1s 47ms/step - loss: 128.8731 - mae: 128.8731 - val_loss: 669.1351 - val_mae: 669.1351\n",
            "Epoch 34/100\n",
            "12/18 [===================>..........] - ETA: 0s - loss: 127.5292 - mae: 127.5292"
          ]
        },
        {
          "output_type": "stream",
          "name": "stderr",
          "text": [
            "WARNING:absl:Found untraced functions such as _jit_compiled_convolution_op, _update_step_xla while saving (showing 2 of 2). These functions will not be directly callable after loading.\n"
          ]
        },
        {
          "output_type": "stream",
          "name": "stdout",
          "text": [
            "\b\b\b\b\b\b\b\b\b\b\b\b\b\b\b\b\b\b\b\b\b\b\b\b\b\b\b\b\b\b\b\b\b\b\b\b\b\b\b\b\b\b\b\b\b\b\b\b\b\b\b\b\b\b\b\b\b\b\b\b\b\b\b\b\b\b\b\b\b\b\b\b\b\b\b\b\b\b\b\b\b\r18/18 [==============================] - 1s 74ms/step - loss: 123.0862 - mae: 123.0862 - val_loss: 664.2191 - val_mae: 664.2191\n",
            "Epoch 35/100\n",
            "16/18 [=========================>....] - ETA: 0s - loss: 121.8178 - mae: 121.8178"
          ]
        },
        {
          "output_type": "stream",
          "name": "stderr",
          "text": [
            "WARNING:absl:Found untraced functions such as _jit_compiled_convolution_op, _update_step_xla while saving (showing 2 of 2). These functions will not be directly callable after loading.\n"
          ]
        },
        {
          "output_type": "stream",
          "name": "stdout",
          "text": [
            "\b\b\b\b\b\b\b\b\b\b\b\b\b\b\b\b\b\b\b\b\b\b\b\b\b\b\b\b\b\b\b\b\b\b\b\b\b\b\b\b\b\b\b\b\b\b\b\b\b\b\b\b\b\b\b\b\b\b\b\b\b\b\b\b\b\b\b\b\b\b\b\b\b\b\b\b\b\b\b\b\b\r18/18 [==============================] - 1s 62ms/step - loss: 121.4603 - mae: 121.4603 - val_loss: 662.0527 - val_mae: 662.0527\n",
            "Epoch 36/100\n",
            "18/18 [==============================] - 0s 6ms/step - loss: 126.3639 - mae: 126.3639 - val_loss: 718.2870 - val_mae: 718.2870\n",
            "Epoch 37/100\n",
            "14/18 [======================>.......] - ETA: 0s - loss: 123.5317 - mae: 123.5317"
          ]
        },
        {
          "output_type": "stream",
          "name": "stderr",
          "text": [
            "WARNING:absl:Found untraced functions such as _jit_compiled_convolution_op, _update_step_xla while saving (showing 2 of 2). These functions will not be directly callable after loading.\n"
          ]
        },
        {
          "output_type": "stream",
          "name": "stdout",
          "text": [
            "\b\b\b\b\b\b\b\b\b\b\b\b\b\b\b\b\b\b\b\b\b\b\b\b\b\b\b\b\b\b\b\b\b\b\b\b\b\b\b\b\b\b\b\b\b\b\b\b\b\b\b\b\b\b\b\b\b\b\b\b\b\b\b\b\b\b\b\b\b\b\b\b\b\b\b\b\b\b\b\b\b\r18/18 [==============================] - 1s 69ms/step - loss: 121.7906 - mae: 121.7906 - val_loss: 643.0135 - val_mae: 643.0135\n",
            "Epoch 38/100\n",
            "17/18 [===========================>..] - ETA: 0s - loss: 120.0318 - mae: 120.0318"
          ]
        },
        {
          "output_type": "stream",
          "name": "stderr",
          "text": [
            "WARNING:absl:Found untraced functions such as _jit_compiled_convolution_op, _update_step_xla while saving (showing 2 of 2). These functions will not be directly callable after loading.\n"
          ]
        },
        {
          "output_type": "stream",
          "name": "stdout",
          "text": [
            "\b\b\b\b\b\b\b\b\b\b\b\b\b\b\b\b\b\b\b\b\b\b\b\b\b\b\b\b\b\b\b\b\b\b\b\b\b\b\b\b\b\b\b\b\b\b\b\b\b\b\b\b\b\b\b\b\b\b\b\b\b\b\b\b\b\b\b\b\b\b\b\b\b\b\b\b\b\b\b\b\b\r18/18 [==============================] - 1s 58ms/step - loss: 119.9752 - mae: 119.9752 - val_loss: 637.8646 - val_mae: 637.8646\n",
            "Epoch 39/100\n",
            "13/18 [====================>.........] - ETA: 0s - loss: 120.3250 - mae: 120.3250"
          ]
        },
        {
          "output_type": "stream",
          "name": "stderr",
          "text": [
            "WARNING:absl:Found untraced functions such as _jit_compiled_convolution_op, _update_step_xla while saving (showing 2 of 2). These functions will not be directly callable after loading.\n"
          ]
        },
        {
          "output_type": "stream",
          "name": "stdout",
          "text": [
            "\b\b\b\b\b\b\b\b\b\b\b\b\b\b\b\b\b\b\b\b\b\b\b\b\b\b\b\b\b\b\b\b\b\b\b\b\b\b\b\b\b\b\b\b\b\b\b\b\b\b\b\b\b\b\b\b\b\b\b\b\b\b\b\b\b\b\b\b\b\b\b\b\b\b\b\b\b\b\b\b\b\r18/18 [==============================] - 1s 59ms/step - loss: 118.2033 - mae: 118.2033 - val_loss: 633.2941 - val_mae: 633.2941\n",
            "Epoch 40/100\n",
            "10/18 [===============>..............] - ETA: 0s - loss: 116.8014 - mae: 116.8014"
          ]
        },
        {
          "output_type": "stream",
          "name": "stderr",
          "text": [
            "WARNING:absl:Found untraced functions such as _jit_compiled_convolution_op, _update_step_xla while saving (showing 2 of 2). These functions will not be directly callable after loading.\n"
          ]
        },
        {
          "output_type": "stream",
          "name": "stdout",
          "text": [
            "\b\b\b\b\b\b\b\b\b\b\b\b\b\b\b\b\b\b\b\b\b\b\b\b\b\b\b\b\b\b\b\b\b\b\b\b\b\b\b\b\b\b\b\b\b\b\b\b\b\b\b\b\b\b\b\b\b\b\b\b\b\b\b\b\b\b\b\b\b\b\b\b\b\b\b\b\b\b\b\b\b\r18/18 [==============================] - 1s 57ms/step - loss: 117.1971 - mae: 117.1971 - val_loss: 627.6335 - val_mae: 627.6335\n",
            "Epoch 41/100\n",
            "18/18 [==============================] - 0s 6ms/step - loss: 118.4105 - mae: 118.4105 - val_loss: 632.6668 - val_mae: 632.6668\n",
            "Epoch 42/100\n",
            "11/18 [=================>............] - ETA: 0s - loss: 121.1945 - mae: 121.1945"
          ]
        },
        {
          "output_type": "stream",
          "name": "stderr",
          "text": [
            "WARNING:absl:Found untraced functions such as _jit_compiled_convolution_op, _update_step_xla while saving (showing 2 of 2). These functions will not be directly callable after loading.\n"
          ]
        },
        {
          "output_type": "stream",
          "name": "stdout",
          "text": [
            "\b\b\b\b\b\b\b\b\b\b\b\b\b\b\b\b\b\b\b\b\b\b\b\b\b\b\b\b\b\b\b\b\b\b\b\b\b\b\b\b\b\b\b\b\b\b\b\b\b\b\b\b\b\b\b\b\b\b\b\b\b\b\b\b\b\b\b\b\b\b\b\b\b\b\b\b\b\b\b\b\b\r18/18 [==============================] - 1s 51ms/step - loss: 120.9421 - mae: 120.9421 - val_loss: 626.7429 - val_mae: 626.7429\n",
            "Epoch 43/100\n",
            "17/18 [===========================>..] - ETA: 0s - loss: 117.1014 - mae: 117.1014"
          ]
        },
        {
          "output_type": "stream",
          "name": "stderr",
          "text": [
            "WARNING:absl:Found untraced functions such as _jit_compiled_convolution_op, _update_step_xla while saving (showing 2 of 2). These functions will not be directly callable after loading.\n"
          ]
        },
        {
          "output_type": "stream",
          "name": "stdout",
          "text": [
            "\b\b\b\b\b\b\b\b\b\b\b\b\b\b\b\b\b\b\b\b\b\b\b\b\b\b\b\b\b\b\b\b\b\b\b\b\b\b\b\b\b\b\b\b\b\b\b\b\b\b\b\b\b\b\b\b\b\b\b\b\b\b\b\b\b\b\b\b\b\b\b\b\b\b\b\b\b\b\b\b\b\r18/18 [==============================] - 1s 42ms/step - loss: 117.3227 - mae: 117.3227 - val_loss: 624.3910 - val_mae: 624.3910\n",
            "Epoch 44/100\n",
            "14/18 [======================>.......] - ETA: 0s - loss: 114.4777 - mae: 114.4777"
          ]
        },
        {
          "output_type": "stream",
          "name": "stderr",
          "text": [
            "WARNING:absl:Found untraced functions such as _jit_compiled_convolution_op, _update_step_xla while saving (showing 2 of 2). These functions will not be directly callable after loading.\n"
          ]
        },
        {
          "output_type": "stream",
          "name": "stdout",
          "text": [
            "\b\b\b\b\b\b\b\b\b\b\b\b\b\b\b\b\b\b\b\b\b\b\b\b\b\b\b\b\b\b\b\b\b\b\b\b\b\b\b\b\b\b\b\b\b\b\b\b\b\b\b\b\b\b\b\b\b\b\b\b\b\b\b\b\b\b\b\b\b\b\b\b\b\b\b\b\b\b\b\b\b\r18/18 [==============================] - 1s 45ms/step - loss: 116.7650 - mae: 116.7650 - val_loss: 617.9088 - val_mae: 617.9088\n",
            "Epoch 45/100\n",
            "18/18 [==============================] - 0s 7ms/step - loss: 116.7739 - mae: 116.7739 - val_loss: 643.5934 - val_mae: 643.5934\n",
            "Epoch 46/100\n",
            "15/18 [========================>.....] - ETA: 0s - loss: 120.1687 - mae: 120.1687"
          ]
        },
        {
          "output_type": "stream",
          "name": "stderr",
          "text": [
            "WARNING:absl:Found untraced functions such as _jit_compiled_convolution_op, _update_step_xla while saving (showing 2 of 2). These functions will not be directly callable after loading.\n"
          ]
        },
        {
          "output_type": "stream",
          "name": "stdout",
          "text": [
            "\b\b\b\b\b\b\b\b\b\b\b\b\b\b\b\b\b\b\b\b\b\b\b\b\b\b\b\b\b\b\b\b\b\b\b\b\b\b\b\b\b\b\b\b\b\b\b\b\b\b\b\b\b\b\b\b\b\b\b\b\b\b\b\b\b\b\b\b\b\b\b\b\b\b\b\b\b\b\b\b\b\r18/18 [==============================] - 1s 56ms/step - loss: 116.6117 - mae: 116.6117 - val_loss: 612.7138 - val_mae: 612.7138\n",
            "Epoch 47/100\n",
            "18/18 [==============================] - 0s 8ms/step - loss: 115.3414 - mae: 115.3414 - val_loss: 659.5869 - val_mae: 659.5869\n",
            "Epoch 48/100\n",
            "18/18 [==============================] - 0s 9ms/step - loss: 114.8309 - mae: 114.8309 - val_loss: 654.8063 - val_mae: 654.8063\n",
            "Epoch 49/100\n",
            "10/18 [===============>..............] - ETA: 0s - loss: 128.0414 - mae: 128.0414"
          ]
        },
        {
          "output_type": "stream",
          "name": "stderr",
          "text": [
            "WARNING:absl:Found untraced functions such as _jit_compiled_convolution_op, _update_step_xla while saving (showing 2 of 2). These functions will not be directly callable after loading.\n"
          ]
        },
        {
          "output_type": "stream",
          "name": "stdout",
          "text": [
            "\b\b\b\b\b\b\b\b\b\b\b\b\b\b\b\b\b\b\b\b\b\b\b\b\b\b\b\b\b\b\b\b\b\b\b\b\b\b\b\b\b\b\b\b\b\b\b\b\b\b\b\b\b\b\b\b\b\b\b\b\b\b\b\b\b\b\b\b\b\b\b\b\b\b\b\b\b\b\b\b\b\r18/18 [==============================] - 1s 57ms/step - loss: 118.2792 - mae: 118.2792 - val_loss: 604.3228 - val_mae: 604.3228\n",
            "Epoch 50/100\n",
            "18/18 [==============================] - 0s 10ms/step - loss: 114.2021 - mae: 114.2021 - val_loss: 604.5803 - val_mae: 604.5803\n",
            "Epoch 51/100\n",
            "18/18 [==============================] - 0s 12ms/step - loss: 113.6322 - mae: 113.6322 - val_loss: 628.5748 - val_mae: 628.5748\n",
            "Epoch 52/100\n",
            "18/18 [==============================] - 0s 12ms/step - loss: 117.0685 - mae: 117.0685 - val_loss: 622.3286 - val_mae: 622.3286\n",
            "Epoch 53/100\n",
            "18/18 [==============================] - 0s 11ms/step - loss: 118.8120 - mae: 118.8120 - val_loss: 608.6204 - val_mae: 608.6204\n",
            "Epoch 54/100\n",
            "18/18 [==============================] - 0s 8ms/step - loss: 115.2104 - mae: 115.2104 - val_loss: 634.7686 - val_mae: 634.7686\n",
            "Epoch 55/100\n",
            "10/18 [===============>..............] - ETA: 0s - loss: 121.6230 - mae: 121.6230"
          ]
        },
        {
          "output_type": "stream",
          "name": "stderr",
          "text": [
            "WARNING:absl:Found untraced functions such as _jit_compiled_convolution_op, _update_step_xla while saving (showing 2 of 2). These functions will not be directly callable after loading.\n"
          ]
        },
        {
          "output_type": "stream",
          "name": "stdout",
          "text": [
            "\b\b\b\b\b\b\b\b\b\b\b\b\b\b\b\b\b\b\b\b\b\b\b\b\b\b\b\b\b\b\b\b\b\b\b\b\b\b\b\b\b\b\b\b\b\b\b\b\b\b\b\b\b\b\b\b\b\b\b\b\b\b\b\b\b\b\b\b\b\b\b\b\b\b\b\b\b\b\b\b\b\r18/18 [==============================] - 1s 87ms/step - loss: 115.3556 - mae: 115.3556 - val_loss: 601.9119 - val_mae: 601.9119\n",
            "Epoch 56/100\n",
            "18/18 [==============================] - 0s 9ms/step - loss: 112.2640 - mae: 112.2640 - val_loss: 751.0785 - val_mae: 751.0785\n",
            "Epoch 57/100\n",
            "18/18 [==============================] - 0s 10ms/step - loss: 128.6711 - mae: 128.6711 - val_loss: 690.6649 - val_mae: 690.6649\n",
            "Epoch 58/100\n",
            "18/18 [==============================] - 0s 11ms/step - loss: 121.8465 - mae: 121.8465 - val_loss: 696.2752 - val_mae: 696.2752\n",
            "Epoch 59/100\n",
            "18/18 [==============================] - 0s 10ms/step - loss: 115.6840 - mae: 115.6840 - val_loss: 605.8841 - val_mae: 605.8841\n",
            "Epoch 60/100\n",
            "18/18 [==============================] - 0s 7ms/step - loss: 113.9448 - mae: 113.9448 - val_loss: 635.4885 - val_mae: 635.4885\n",
            "Epoch 61/100\n",
            "18/18 [==============================] - 0s 6ms/step - loss: 113.0681 - mae: 113.0681 - val_loss: 612.8424 - val_mae: 612.8424\n",
            "Epoch 62/100\n",
            " 9/18 [==============>...............] - ETA: 0s - loss: 102.9512 - mae: 102.9512"
          ]
        },
        {
          "output_type": "stream",
          "name": "stderr",
          "text": [
            "WARNING:absl:Found untraced functions such as _jit_compiled_convolution_op, _update_step_xla while saving (showing 2 of 2). These functions will not be directly callable after loading.\n"
          ]
        },
        {
          "output_type": "stream",
          "name": "stdout",
          "text": [
            "\b\b\b\b\b\b\b\b\b\b\b\b\b\b\b\b\b\b\b\b\b\b\b\b\b\b\b\b\b\b\b\b\b\b\b\b\b\b\b\b\b\b\b\b\b\b\b\b\b\b\b\b\b\b\b\b\b\b\b\b\b\b\b\b\b\b\b\b\b\b\b\b\b\b\b\b\b\b\b\b\b\r18/18 [==============================] - 1s 43ms/step - loss: 112.1296 - mae: 112.1296 - val_loss: 596.7130 - val_mae: 596.7130\n",
            "Epoch 63/100\n",
            "15/18 [========================>.....] - ETA: 0s - loss: 114.2546 - mae: 114.2546"
          ]
        },
        {
          "output_type": "stream",
          "name": "stderr",
          "text": [
            "WARNING:absl:Found untraced functions such as _jit_compiled_convolution_op, _update_step_xla while saving (showing 2 of 2). These functions will not be directly callable after loading.\n"
          ]
        },
        {
          "output_type": "stream",
          "name": "stdout",
          "text": [
            "\b\b\b\b\b\b\b\b\b\b\b\b\b\b\b\b\b\b\b\b\b\b\b\b\b\b\b\b\b\b\b\b\b\b\b\b\b\b\b\b\b\b\b\b\b\b\b\b\b\b\b\b\b\b\b\b\b\b\b\b\b\b\b\b\b\b\b\b\b\b\b\b\b\b\b\b\b\b\b\b\b\r18/18 [==============================] - 1s 62ms/step - loss: 112.1401 - mae: 112.1401 - val_loss: 588.1497 - val_mae: 588.1497\n",
            "Epoch 64/100\n",
            "18/18 [==============================] - 0s 7ms/step - loss: 111.0059 - mae: 111.0059 - val_loss: 627.6943 - val_mae: 627.6943\n",
            "Epoch 65/100\n",
            "17/18 [===========================>..] - ETA: 0s - loss: 117.3066 - mae: 117.3066"
          ]
        },
        {
          "output_type": "stream",
          "name": "stderr",
          "text": [
            "WARNING:absl:Found untraced functions such as _jit_compiled_convolution_op, _update_step_xla while saving (showing 2 of 2). These functions will not be directly callable after loading.\n"
          ]
        },
        {
          "output_type": "stream",
          "name": "stdout",
          "text": [
            "\b\b\b\b\b\b\b\b\b\b\b\b\b\b\b\b\b\b\b\b\b\b\b\b\b\b\b\b\b\b\b\b\b\b\b\b\b\b\b\b\b\b\b\b\b\b\b\b\b\b\b\b\b\b\b\b\b\b\b\b\b\b\b\b\b\b\b\b\b\b\b\b\b\b\b\b\b\b\b\b\b\r18/18 [==============================] - 1s 47ms/step - loss: 116.2451 - mae: 116.2451 - val_loss: 585.7745 - val_mae: 585.7745\n",
            "Epoch 66/100\n",
            "18/18 [==============================] - 0s 7ms/step - loss: 112.7360 - mae: 112.7360 - val_loss: 587.3185 - val_mae: 587.3185\n",
            "Epoch 67/100\n",
            "18/18 [==============================] - 0s 6ms/step - loss: 110.6606 - mae: 110.6606 - val_loss: 670.2629 - val_mae: 670.2629\n",
            "Epoch 68/100\n",
            "18/18 [==============================] - 0s 10ms/step - loss: 118.1630 - mae: 118.1630 - val_loss: 745.2641 - val_mae: 745.2641\n",
            "Epoch 69/100\n",
            "18/18 [==============================] - 0s 6ms/step - loss: 131.3721 - mae: 131.3721 - val_loss: 667.9373 - val_mae: 667.9373\n",
            "Epoch 70/100\n",
            "14/18 [======================>.......] - ETA: 0s - loss: 121.8057 - mae: 121.8057"
          ]
        },
        {
          "output_type": "stream",
          "name": "stderr",
          "text": [
            "WARNING:absl:Found untraced functions such as _jit_compiled_convolution_op, _update_step_xla while saving (showing 2 of 2). These functions will not be directly callable after loading.\n"
          ]
        },
        {
          "output_type": "stream",
          "name": "stdout",
          "text": [
            "\b\b\b\b\b\b\b\b\b\b\b\b\b\b\b\b\b\b\b\b\b\b\b\b\b\b\b\b\b\b\b\b\b\b\b\b\b\b\b\b\b\b\b\b\b\b\b\b\b\b\b\b\b\b\b\b\b\b\b\b\b\b\b\b\b\b\b\b\b\b\b\b\b\b\b\b\b\b\b\b\b\r18/18 [==============================] - 1s 42ms/step - loss: 120.8587 - mae: 120.8587 - val_loss: 584.5684 - val_mae: 584.5684\n",
            "Epoch 71/100\n",
            "18/18 [==============================] - 0s 9ms/step - loss: 113.7042 - mae: 113.7042 - val_loss: 628.4865 - val_mae: 628.4865\n",
            "Epoch 72/100\n",
            "18/18 [==============================] - 0s 8ms/step - loss: 111.1563 - mae: 111.1563 - val_loss: 585.8482 - val_mae: 585.8482\n",
            "Epoch 73/100\n",
            "18/18 [==============================] - 0s 6ms/step - loss: 112.1111 - mae: 112.1111 - val_loss: 646.3441 - val_mae: 646.3441\n",
            "Epoch 74/100\n",
            "13/18 [====================>.........] - ETA: 0s - loss: 110.8880 - mae: 110.8880"
          ]
        },
        {
          "output_type": "stream",
          "name": "stderr",
          "text": [
            "WARNING:absl:Found untraced functions such as _jit_compiled_convolution_op, _update_step_xla while saving (showing 2 of 2). These functions will not be directly callable after loading.\n"
          ]
        },
        {
          "output_type": "stream",
          "name": "stdout",
          "text": [
            "\b\b\b\b\b\b\b\b\b\b\b\b\b\b\b\b\b\b\b\b\b\b\b\b\b\b\b\b\b\b\b\b\b\b\b\b\b\b\b\b\b\b\b\b\b\b\b\b\b\b\b\b\b\b\b\b\b\b\b\b\b\b\b\b\b\b\b\b\b\b\b\b\b\b\b\b\b\b\b\b\b\r18/18 [==============================] - 1s 50ms/step - loss: 110.4171 - mae: 110.4171 - val_loss: 584.4711 - val_mae: 584.4711\n",
            "Epoch 75/100\n",
            "18/18 [==============================] - 0s 6ms/step - loss: 111.2065 - mae: 111.2065 - val_loss: 606.7548 - val_mae: 606.7548\n",
            "Epoch 76/100\n",
            "17/18 [===========================>..] - ETA: 0s - loss: 113.3585 - mae: 113.3585"
          ]
        },
        {
          "output_type": "stream",
          "name": "stderr",
          "text": [
            "WARNING:absl:Found untraced functions such as _jit_compiled_convolution_op, _update_step_xla while saving (showing 2 of 2). These functions will not be directly callable after loading.\n"
          ]
        },
        {
          "output_type": "stream",
          "name": "stdout",
          "text": [
            "\b\b\b\b\b\b\b\b\b\b\b\b\b\b\b\b\b\b\b\b\b\b\b\b\b\b\b\b\b\b\b\b\b\b\b\b\b\b\b\b\b\b\b\b\b\b\b\b\b\b\b\b\b\b\b\b\b\b\b\b\b\b\b\b\b\b\b\b\b\b\b\b\b\b\b\b\b\b\b\b\b\r18/18 [==============================] - 1s 50ms/step - loss: 113.3251 - mae: 113.3251 - val_loss: 580.2994 - val_mae: 580.2994\n",
            "Epoch 77/100\n",
            "14/18 [======================>.......] - ETA: 0s - loss: 114.5307 - mae: 114.5307"
          ]
        },
        {
          "output_type": "stream",
          "name": "stderr",
          "text": [
            "WARNING:absl:Found untraced functions such as _jit_compiled_convolution_op, _update_step_xla while saving (showing 2 of 2). These functions will not be directly callable after loading.\n"
          ]
        },
        {
          "output_type": "stream",
          "name": "stdout",
          "text": [
            "\b\b\b\b\b\b\b\b\b\b\b\b\b\b\b\b\b\b\b\b\b\b\b\b\b\b\b\b\b\b\b\b\b\b\b\b\b\b\b\b\b\b\b\b\b\b\b\b\b\b\b\b\b\b\b\b\b\b\b\b\b\b\b\b\b\b\b\b\b\b\b\b\b\b\b\b\b\b\b\b\b\r18/18 [==============================] - 1s 56ms/step - loss: 110.4043 - mae: 110.4043 - val_loss: 580.0099 - val_mae: 580.0099\n",
            "Epoch 78/100\n",
            "10/18 [===============>..............] - ETA: 0s - loss: 106.5416 - mae: 106.5416"
          ]
        },
        {
          "output_type": "stream",
          "name": "stderr",
          "text": [
            "WARNING:absl:Found untraced functions such as _jit_compiled_convolution_op, _update_step_xla while saving (showing 2 of 2). These functions will not be directly callable after loading.\n"
          ]
        },
        {
          "output_type": "stream",
          "name": "stdout",
          "text": [
            "\b\b\b\b\b\b\b\b\b\b\b\b\b\b\b\b\b\b\b\b\b\b\b\b\b\b\b\b\b\b\b\b\b\b\b\b\b\b\b\b\b\b\b\b\b\b\b\b\b\b\b\b\b\b\b\b\b\b\b\b\b\b\b\b\b\b\b\b\b\b\b\b\b\b\b\b\b\b\b\b\b\r18/18 [==============================] - 1s 58ms/step - loss: 111.3659 - mae: 111.3659 - val_loss: 578.8354 - val_mae: 578.8354\n",
            "Epoch 79/100\n",
            "18/18 [==============================] - 0s 7ms/step - loss: 112.2204 - mae: 112.2204 - val_loss: 624.6481 - val_mae: 624.6481\n",
            "Epoch 80/100\n",
            "18/18 [==============================] - 0s 5ms/step - loss: 110.6607 - mae: 110.6607 - val_loss: 581.4728 - val_mae: 581.4728\n",
            "Epoch 81/100\n",
            "16/18 [=========================>....] - ETA: 0s - loss: 109.3949 - mae: 109.3949"
          ]
        },
        {
          "output_type": "stream",
          "name": "stderr",
          "text": [
            "WARNING:absl:Found untraced functions such as _jit_compiled_convolution_op, _update_step_xla while saving (showing 2 of 2). These functions will not be directly callable after loading.\n"
          ]
        },
        {
          "output_type": "stream",
          "name": "stdout",
          "text": [
            "\b\b\b\b\b\b\b\b\b\b\b\b\b\b\b\b\b\b\b\b\b\b\b\b\b\b\b\b\b\b\b\b\b\b\b\b\b\b\b\b\b\b\b\b\b\b\b\b\b\b\b\b\b\b\b\b\b\b\b\b\b\b\b\b\b\b\b\b\b\b\b\b\b\b\b\b\b\b\b\b\b\r18/18 [==============================] - 1s 39ms/step - loss: 109.2088 - mae: 109.2088 - val_loss: 574.9129 - val_mae: 574.9129\n",
            "Epoch 82/100\n",
            "18/18 [==============================] - 0s 7ms/step - loss: 115.1582 - mae: 115.1582 - val_loss: 575.2731 - val_mae: 575.2731\n",
            "Epoch 83/100\n",
            "18/18 [==============================] - 0s 8ms/step - loss: 113.4165 - mae: 113.4165 - val_loss: 644.9183 - val_mae: 644.9183\n",
            "Epoch 84/100\n",
            "18/18 [==============================] - 0s 8ms/step - loss: 115.5058 - mae: 115.5058 - val_loss: 575.2607 - val_mae: 575.2607\n",
            "Epoch 85/100\n",
            "18/18 [==============================] - 0s 9ms/step - loss: 109.0298 - mae: 109.0298 - val_loss: 589.7371 - val_mae: 589.7371\n",
            "Epoch 86/100\n",
            "18/18 [==============================] - 0s 8ms/step - loss: 111.8628 - mae: 111.8628 - val_loss: 681.4776 - val_mae: 681.4776\n",
            "Epoch 87/100\n",
            "18/18 [==============================] - 0s 8ms/step - loss: 113.2259 - mae: 113.2259 - val_loss: 585.3311 - val_mae: 585.3311\n",
            "Epoch 88/100\n",
            "18/18 [==============================] - 0s 8ms/step - loss: 111.6575 - mae: 111.6575 - val_loss: 589.4567 - val_mae: 589.4567\n",
            "Epoch 89/100\n",
            "18/18 [==============================] - 0s 8ms/step - loss: 113.6148 - mae: 113.6148 - val_loss: 580.5135 - val_mae: 580.5135\n",
            "Epoch 90/100\n",
            "18/18 [==============================] - 0s 8ms/step - loss: 107.8449 - mae: 107.8449 - val_loss: 638.9305 - val_mae: 638.9305\n",
            "Epoch 91/100\n",
            "18/18 [==============================] - 0s 8ms/step - loss: 112.0363 - mae: 112.0363 - val_loss: 611.2126 - val_mae: 611.2126\n",
            "Epoch 92/100\n",
            "12/18 [===================>..........] - ETA: 0s - loss: 110.5715 - mae: 110.5715"
          ]
        },
        {
          "output_type": "stream",
          "name": "stderr",
          "text": [
            "WARNING:absl:Found untraced functions such as _jit_compiled_convolution_op, _update_step_xla while saving (showing 2 of 2). These functions will not be directly callable after loading.\n"
          ]
        },
        {
          "output_type": "stream",
          "name": "stdout",
          "text": [
            "\b\b\b\b\b\b\b\b\b\b\b\b\b\b\b\b\b\b\b\b\b\b\b\b\b\b\b\b\b\b\b\b\b\b\b\b\b\b\b\b\b\b\b\b\b\b\b\b\b\b\b\b\b\b\b\b\b\b\b\b\b\b\b\b\b\b\b\b\b\b\b\b\b\b\b\b\b\b\b\b\b\r18/18 [==============================] - 1s 54ms/step - loss: 110.6725 - mae: 110.6725 - val_loss: 570.6483 - val_mae: 570.6483\n",
            "Epoch 93/100\n",
            "18/18 [==============================] - 0s 6ms/step - loss: 113.4924 - mae: 113.4924 - val_loss: 614.1608 - val_mae: 614.1608\n",
            "Epoch 94/100\n",
            "18/18 [==============================] - 0s 6ms/step - loss: 109.7812 - mae: 109.7812 - val_loss: 583.5533 - val_mae: 583.5533\n",
            "Epoch 95/100\n",
            "18/18 [==============================] - 0s 6ms/step - loss: 108.9675 - mae: 108.9675 - val_loss: 573.1232 - val_mae: 573.1232\n",
            "Epoch 96/100\n",
            "18/18 [==============================] - 0s 5ms/step - loss: 116.4023 - mae: 116.4023 - val_loss: 593.9319 - val_mae: 593.9319\n",
            "Epoch 97/100\n",
            "18/18 [==============================] - 0s 6ms/step - loss: 110.1203 - mae: 110.1203 - val_loss: 595.1041 - val_mae: 595.1041\n",
            "Epoch 98/100\n",
            "18/18 [==============================] - ETA: 0s - loss: 109.1310 - mae: 109.1310"
          ]
        },
        {
          "output_type": "stream",
          "name": "stderr",
          "text": [
            "WARNING:absl:Found untraced functions such as _jit_compiled_convolution_op, _update_step_xla while saving (showing 2 of 2). These functions will not be directly callable after loading.\n"
          ]
        },
        {
          "output_type": "stream",
          "name": "stdout",
          "text": [
            "\b\b\b\b\b\b\b\b\b\b\b\b\b\b\b\b\b\b\b\b\b\b\b\b\b\b\b\b\b\b\b\b\b\b\b\b\b\b\b\b\b\b\b\b\b\b\b\b\b\b\b\b\b\b\b\b\b\b\b\b\b\b\b\b\b\b\b\b\b\b\b\b\b\b\b\b\b\b\b\b\b\r18/18 [==============================] - 1s 38ms/step - loss: 109.1310 - mae: 109.1310 - val_loss: 569.5851 - val_mae: 569.5851\n",
            "Epoch 99/100\n",
            "15/18 [========================>.....] - ETA: 0s - loss: 108.0632 - mae: 108.0632"
          ]
        },
        {
          "output_type": "stream",
          "name": "stderr",
          "text": [
            "WARNING:absl:Found untraced functions such as _jit_compiled_convolution_op, _update_step_xla while saving (showing 2 of 2). These functions will not be directly callable after loading.\n"
          ]
        },
        {
          "output_type": "stream",
          "name": "stdout",
          "text": [
            "\b\b\b\b\b\b\b\b\b\b\b\b\b\b\b\b\b\b\b\b\b\b\b\b\b\b\b\b\b\b\b\b\b\b\b\b\b\b\b\b\b\b\b\b\b\b\b\b\b\b\b\b\b\b\b\b\b\b\b\b\b\b\b\b\b\b\b\b\b\b\b\b\b\b\b\b\b\b\b\b\b\r18/18 [==============================] - 1s 41ms/step - loss: 108.7924 - mae: 108.7924 - val_loss: 568.3271 - val_mae: 568.3271\n",
            "Epoch 100/100\n",
            "18/18 [==============================] - 0s 6ms/step - loss: 110.6650 - mae: 110.6650 - val_loss: 624.2625 - val_mae: 624.2625\n"
          ]
        },
        {
          "output_type": "execute_result",
          "data": {
            "text/plain": [
              "<keras.callbacks.History at 0x7f1a51c9da90>"
            ]
          },
          "metadata": {},
          "execution_count": 81
        }
      ]
    },
    {
      "cell_type": "code",
      "source": [
        "model_4.summary()"
      ],
      "metadata": {
        "colab": {
          "base_uri": "https://localhost:8080/"
        },
        "id": "AtxN05fWzdNe",
        "outputId": "a7b8a440-2518-4027-e34d-8d9634295f41"
      },
      "execution_count": 82,
      "outputs": [
        {
          "output_type": "stream",
          "name": "stdout",
          "text": [
            "Model: \"model_4_conv1d\"\n",
            "_________________________________________________________________\n",
            " Layer (type)                Output Shape              Param #   \n",
            "=================================================================\n",
            " lambda (Lambda)             (None, 1, 7)              0         \n",
            "                                                                 \n",
            " conv1d (Conv1D)             (None, 1, 128)            4608      \n",
            "                                                                 \n",
            " dense_6 (Dense)             (None, 1, 1)              129       \n",
            "                                                                 \n",
            "=================================================================\n",
            "Total params: 4,737\n",
            "Trainable params: 4,737\n",
            "Non-trainable params: 0\n",
            "_________________________________________________________________\n"
          ]
        }
      ]
    },
    {
      "cell_type": "code",
      "source": [
        "# Evaluate model\n",
        "model_4.evaluate(test_windows, test_labels)"
      ],
      "metadata": {
        "colab": {
          "base_uri": "https://localhost:8080/"
        },
        "id": "m9rgj6j52hfJ",
        "outputId": "4eb3471e-5f0d-446a-c143-b31c694e821c"
      },
      "execution_count": 83,
      "outputs": [
        {
          "output_type": "stream",
          "name": "stdout",
          "text": [
            "18/18 [==============================] - 0s 4ms/step - loss: 624.2625 - mae: 624.2625\n"
          ]
        },
        {
          "output_type": "execute_result",
          "data": {
            "text/plain": [
              "[624.262451171875, 624.262451171875]"
            ]
          },
          "metadata": {},
          "execution_count": 83
        }
      ]
    },
    {
      "cell_type": "code",
      "source": [
        "# Load back in best performing Conv1D model and evaluate\n",
        "model_4 = tf.keras.models.load_model(\"model_experiments/model_4_conv1d/\")\n",
        "model_4.evaluate(test_windows, test_labels)"
      ],
      "metadata": {
        "colab": {
          "base_uri": "https://localhost:8080/"
        },
        "id": "bOPijO_c2tim",
        "outputId": "ccac0ac1-69b0-4aa3-ccf6-d611f1788c34"
      },
      "execution_count": 84,
      "outputs": [
        {
          "output_type": "stream",
          "name": "stdout",
          "text": [
            "18/18 [==============================] - 1s 3ms/step - loss: 568.3271 - mae: 568.3271\n"
          ]
        },
        {
          "output_type": "execute_result",
          "data": {
            "text/plain": [
              "[568.3270874023438, 568.3270874023438]"
            ]
          },
          "metadata": {},
          "execution_count": 84
        }
      ]
    },
    {
      "cell_type": "code",
      "source": [
        "model_4_preds = make_preds(model_4, test_windows)\n",
        "model_4_preds[:10]"
      ],
      "metadata": {
        "colab": {
          "base_uri": "https://localhost:8080/"
        },
        "id": "E9ozsjx63DHZ",
        "outputId": "9f191b4f-d6af-4391-d169-b740ca266e5b"
      },
      "execution_count": 85,
      "outputs": [
        {
          "output_type": "stream",
          "name": "stdout",
          "text": [
            "18/18 [==============================] - 0s 2ms/step\n"
          ]
        },
        {
          "output_type": "execute_result",
          "data": {
            "text/plain": [
              "<tf.Tensor: shape=(10,), dtype=float32, numpy=\n",
              "array([8888.461, 8789.37 , 8994.296, 8794.738, 8779.642, 8738.806,\n",
              "       8676.444, 8549.574, 8469.733, 8518.492], dtype=float32)>"
            ]
          },
          "metadata": {},
          "execution_count": 85
        }
      ]
    },
    {
      "cell_type": "code",
      "source": [
        "# Evaluate predictions\n",
        "model_4_results = evaluate_preds(tf.squeeze(test_labels), model_4_preds)\n",
        "model_4_results"
      ],
      "metadata": {
        "colab": {
          "base_uri": "https://localhost:8080/"
        },
        "id": "TxELKmfd5tpN",
        "outputId": "219f0f16-7987-4a2b-b7b5-1ad31667ecef"
      },
      "execution_count": 86,
      "outputs": [
        {
          "output_type": "execute_result",
          "data": {
            "text/plain": [
              "{'mae': 568.3271,\n",
              " 'mse': 1169804.2,\n",
              " 'rmse': 1081.5748,\n",
              " 'mape': 2.5547032,\n",
              " 'mase': 0.9983933}"
            ]
          },
          "metadata": {},
          "execution_count": 86
        }
      ]
    },
    {
      "cell_type": "code",
      "source": [
        "model_1_results"
      ],
      "metadata": {
        "colab": {
          "base_uri": "https://localhost:8080/"
        },
        "id": "Yxqu6brt5-2e",
        "outputId": "2b5585df-3fb8-42e3-ab7b-292b596b6c05"
      },
      "execution_count": 87,
      "outputs": [
        {
          "output_type": "execute_result",
          "data": {
            "text/plain": [
              "{'mae': 568.7688,\n",
              " 'mse': 1160735.1,\n",
              " 'rmse': 1077.3741,\n",
              " 'mape': 2.5498853,\n",
              " 'mase': 0.99916923}"
            ]
          },
          "metadata": {},
          "execution_count": 87
        }
      ]
    },
    {
      "cell_type": "markdown",
      "source": [
        "## Model_5: RNN (LSTM)\n"
      ],
      "metadata": {
        "id": "9nr129sB6BIF"
      }
    },
    {
      "cell_type": "code",
      "source": [
        "tf.random.set_seed(42)\n",
        "\n",
        "# Create LSTM model with the Functional API\n",
        "inputs = layers.Input(shape=(WINDOW_SIZE))\n",
        "x = layers.Lambda(lambda x: tf.expand_dims(x, axis=1))(inputs)\n",
        "# x = layers.LSTM(128, return_sequences=True)(x)\n",
        "x = layers.LSTM(128, activation=\"relu\")(x)\n",
        "# x = layers.Dense(32, activation=\"relu\")(x)\n",
        "outputs = layers.Dense(HORIZON)(x)\n",
        "model_5 = tf.keras.Model(inputs, outputs, name=\"model_5_LSTM\")\n",
        "\n",
        "# Compile\n",
        "model_5.compile(loss=\"mae\", optimizer=tf.keras.optimizers.Adam())\n",
        "\n",
        "# Fit model\n",
        "model_5_history = model_5.fit(train_windows, train_labels,\n",
        "                              batch_size=128,\n",
        "                              epochs=100,\n",
        "                              verbose=0,\n",
        "                              validation_data=(test_windows, test_labels),\n",
        "                              callbacks=[create_model_checkpoint(model_name=model_5.name)])"
      ],
      "metadata": {
        "colab": {
          "base_uri": "https://localhost:8080/"
        },
        "id": "ImCYEVqR6WuQ",
        "outputId": "d33dc2c4-f55f-49d6-adda-35473868c741"
      },
      "execution_count": 88,
      "outputs": [
        {
          "output_type": "stream",
          "name": "stderr",
          "text": [
            "WARNING:tensorflow:Layer lstm will not use cuDNN kernels since it doesn't meet the criteria. It will use a generic GPU kernel as fallback when running on GPU.\n"
          ]
        }
      ]
    },
    {
      "cell_type": "code",
      "source": [
        "# Evaluate model 5\n",
        "model_5.evaluate(test_windows, test_labels)"
      ],
      "metadata": {
        "colab": {
          "base_uri": "https://localhost:8080/"
        },
        "id": "6NG7N7ty84fS",
        "outputId": "a04f235e-1488-44d5-a8bd-4ff53ca00dee"
      },
      "execution_count": 89,
      "outputs": [
        {
          "output_type": "stream",
          "name": "stdout",
          "text": [
            "18/18 [==============================] - 0s 2ms/step - loss: 601.2912\n"
          ]
        },
        {
          "output_type": "execute_result",
          "data": {
            "text/plain": [
              "601.2911987304688"
            ]
          },
          "metadata": {},
          "execution_count": 89
        }
      ]
    },
    {
      "cell_type": "code",
      "source": [
        "# Load best performing model and evaluate\n",
        "model_5 = tf.keras.models.load_model(\"model_experiments/model_5_LSTM/\")\n",
        "model_5.evaluate(test_windows, test_labels)"
      ],
      "metadata": {
        "colab": {
          "base_uri": "https://localhost:8080/"
        },
        "id": "nipv4Ryn9Ax6",
        "outputId": "f1a6d16d-271a-4553-865d-e84e68016914"
      },
      "execution_count": 90,
      "outputs": [
        {
          "output_type": "stream",
          "name": "stderr",
          "text": [
            "WARNING:tensorflow:Layer lstm will not use cuDNN kernels since it doesn't meet the criteria. It will use a generic GPU kernel as fallback when running on GPU.\n"
          ]
        },
        {
          "output_type": "stream",
          "name": "stdout",
          "text": [
            "18/18 [==============================] - 0s 3ms/step - loss: 596.3646\n"
          ]
        },
        {
          "output_type": "execute_result",
          "data": {
            "text/plain": [
              "596.3645629882812"
            ]
          },
          "metadata": {},
          "execution_count": 90
        }
      ]
    },
    {
      "cell_type": "code",
      "source": [
        "model_5_preds = make_preds(model_5, test_windows)"
      ],
      "metadata": {
        "colab": {
          "base_uri": "https://localhost:8080/"
        },
        "id": "8sj6grid9T3l",
        "outputId": "eb735562-1a87-46ee-bd98-12d67463c702"
      },
      "execution_count": 91,
      "outputs": [
        {
          "output_type": "stream",
          "name": "stdout",
          "text": [
            "18/18 [==============================] - 0s 2ms/step\n"
          ]
        }
      ]
    },
    {
      "cell_type": "code",
      "source": [
        "model_5_results = evaluate_preds(tf.squeeze(test_labels, axis=1), model_5_preds)\n",
        "model_5_results"
      ],
      "metadata": {
        "colab": {
          "base_uri": "https://localhost:8080/"
        },
        "id": "zFYM0I_dMS6o",
        "outputId": "c40acacb-9b45-4409-a909-c8451637618e"
      },
      "execution_count": 92,
      "outputs": [
        {
          "output_type": "execute_result",
          "data": {
            "text/plain": [
              "{'mae': 596.36456,\n",
              " 'mse': 1257005.5,\n",
              " 'rmse': 1121.1626,\n",
              " 'mape': 2.6952162,\n",
              " 'mase': 1.0476474}"
            ]
          },
          "metadata": {},
          "execution_count": 92
        }
      ]
    },
    {
      "cell_type": "code",
      "source": [
        "model_1_results"
      ],
      "metadata": {
        "colab": {
          "base_uri": "https://localhost:8080/"
        },
        "id": "ESY_-LJ8sfNk",
        "outputId": "e0bc74f4-9255-4ce0-b291-37c58dacf895"
      },
      "execution_count": 93,
      "outputs": [
        {
          "output_type": "execute_result",
          "data": {
            "text/plain": [
              "{'mae': 568.7688,\n",
              " 'mse': 1160735.1,\n",
              " 'rmse': 1077.3741,\n",
              " 'mape': 2.5498853,\n",
              " 'mase': 0.99916923}"
            ]
          },
          "metadata": {},
          "execution_count": 93
        }
      ]
    },
    {
      "cell_type": "markdown",
      "source": [
        "> 🔑 **Note:** Because neural networks are such powerful algorithms, they can be used for almost any problem, however, that doesn't mean they'll achieve performant or usable results. You're probably starting to clue onto this now."
      ],
      "metadata": {
        "id": "FqrmsGpJs1vT"
      }
    },
    {
      "cell_type": "markdown",
      "source": [
        "## Make a multivariate time series dataset\n",
        "\n",
        "Before we add a feature to our time series, what is a feature we can use?\n",
        "\n",
        "One feature we could add is whether or not Daniel Bourke tweeted on that day...\n",
        "\n",
        "* day 1 - 0\n",
        "* day 2 - 1\n",
        "* day 3 - 0\n",
        "\n",
        "What's a better feature to use?\n",
        "\n",
        "How about the bitcoin halving events?"
      ],
      "metadata": {
        "id": "SH0qCe29xRWC"
      }
    },
    {
      "cell_type": "code",
      "source": [
        "# Let's make a multivariate time series\n",
        "bitcoin_prices.head()"
      ],
      "metadata": {
        "colab": {
          "base_uri": "https://localhost:8080/",
          "height": 238
        },
        "id": "QEQKdMauzViI",
        "outputId": "fc9c9a25-7b11-4471-a72e-052778f4d3af"
      },
      "execution_count": 94,
      "outputs": [
        {
          "output_type": "execute_result",
          "data": {
            "text/plain": [
              "                Price\n",
              "Date                 \n",
              "2013-10-01  123.65499\n",
              "2013-10-02  125.45500\n",
              "2013-10-03  108.58483\n",
              "2013-10-04  118.67466\n",
              "2013-10-05  121.33866"
            ],
            "text/html": [
              "\n",
              "  <div id=\"df-1fccb8d0-0244-498e-97c6-3f981cc92358\">\n",
              "    <div class=\"colab-df-container\">\n",
              "      <div>\n",
              "<style scoped>\n",
              "    .dataframe tbody tr th:only-of-type {\n",
              "        vertical-align: middle;\n",
              "    }\n",
              "\n",
              "    .dataframe tbody tr th {\n",
              "        vertical-align: top;\n",
              "    }\n",
              "\n",
              "    .dataframe thead th {\n",
              "        text-align: right;\n",
              "    }\n",
              "</style>\n",
              "<table border=\"1\" class=\"dataframe\">\n",
              "  <thead>\n",
              "    <tr style=\"text-align: right;\">\n",
              "      <th></th>\n",
              "      <th>Price</th>\n",
              "    </tr>\n",
              "    <tr>\n",
              "      <th>Date</th>\n",
              "      <th></th>\n",
              "    </tr>\n",
              "  </thead>\n",
              "  <tbody>\n",
              "    <tr>\n",
              "      <th>2013-10-01</th>\n",
              "      <td>123.65499</td>\n",
              "    </tr>\n",
              "    <tr>\n",
              "      <th>2013-10-02</th>\n",
              "      <td>125.45500</td>\n",
              "    </tr>\n",
              "    <tr>\n",
              "      <th>2013-10-03</th>\n",
              "      <td>108.58483</td>\n",
              "    </tr>\n",
              "    <tr>\n",
              "      <th>2013-10-04</th>\n",
              "      <td>118.67466</td>\n",
              "    </tr>\n",
              "    <tr>\n",
              "      <th>2013-10-05</th>\n",
              "      <td>121.33866</td>\n",
              "    </tr>\n",
              "  </tbody>\n",
              "</table>\n",
              "</div>\n",
              "      <button class=\"colab-df-convert\" onclick=\"convertToInteractive('df-1fccb8d0-0244-498e-97c6-3f981cc92358')\"\n",
              "              title=\"Convert this dataframe to an interactive table.\"\n",
              "              style=\"display:none;\">\n",
              "        \n",
              "  <svg xmlns=\"http://www.w3.org/2000/svg\" height=\"24px\"viewBox=\"0 0 24 24\"\n",
              "       width=\"24px\">\n",
              "    <path d=\"M0 0h24v24H0V0z\" fill=\"none\"/>\n",
              "    <path d=\"M18.56 5.44l.94 2.06.94-2.06 2.06-.94-2.06-.94-.94-2.06-.94 2.06-2.06.94zm-11 1L8.5 8.5l.94-2.06 2.06-.94-2.06-.94L8.5 2.5l-.94 2.06-2.06.94zm10 10l.94 2.06.94-2.06 2.06-.94-2.06-.94-.94-2.06-.94 2.06-2.06.94z\"/><path d=\"M17.41 7.96l-1.37-1.37c-.4-.4-.92-.59-1.43-.59-.52 0-1.04.2-1.43.59L10.3 9.45l-7.72 7.72c-.78.78-.78 2.05 0 2.83L4 21.41c.39.39.9.59 1.41.59.51 0 1.02-.2 1.41-.59l7.78-7.78 2.81-2.81c.8-.78.8-2.07 0-2.86zM5.41 20L4 18.59l7.72-7.72 1.47 1.35L5.41 20z\"/>\n",
              "  </svg>\n",
              "      </button>\n",
              "      \n",
              "  <style>\n",
              "    .colab-df-container {\n",
              "      display:flex;\n",
              "      flex-wrap:wrap;\n",
              "      gap: 12px;\n",
              "    }\n",
              "\n",
              "    .colab-df-convert {\n",
              "      background-color: #E8F0FE;\n",
              "      border: none;\n",
              "      border-radius: 50%;\n",
              "      cursor: pointer;\n",
              "      display: none;\n",
              "      fill: #1967D2;\n",
              "      height: 32px;\n",
              "      padding: 0 0 0 0;\n",
              "      width: 32px;\n",
              "    }\n",
              "\n",
              "    .colab-df-convert:hover {\n",
              "      background-color: #E2EBFA;\n",
              "      box-shadow: 0px 1px 2px rgba(60, 64, 67, 0.3), 0px 1px 3px 1px rgba(60, 64, 67, 0.15);\n",
              "      fill: #174EA6;\n",
              "    }\n",
              "\n",
              "    [theme=dark] .colab-df-convert {\n",
              "      background-color: #3B4455;\n",
              "      fill: #D2E3FC;\n",
              "    }\n",
              "\n",
              "    [theme=dark] .colab-df-convert:hover {\n",
              "      background-color: #434B5C;\n",
              "      box-shadow: 0px 1px 3px 1px rgba(0, 0, 0, 0.15);\n",
              "      filter: drop-shadow(0px 1px 2px rgba(0, 0, 0, 0.3));\n",
              "      fill: #FFFFFF;\n",
              "    }\n",
              "  </style>\n",
              "\n",
              "      <script>\n",
              "        const buttonEl =\n",
              "          document.querySelector('#df-1fccb8d0-0244-498e-97c6-3f981cc92358 button.colab-df-convert');\n",
              "        buttonEl.style.display =\n",
              "          google.colab.kernel.accessAllowed ? 'block' : 'none';\n",
              "\n",
              "        async function convertToInteractive(key) {\n",
              "          const element = document.querySelector('#df-1fccb8d0-0244-498e-97c6-3f981cc92358');\n",
              "          const dataTable =\n",
              "            await google.colab.kernel.invokeFunction('convertToInteractive',\n",
              "                                                     [key], {});\n",
              "          if (!dataTable) return;\n",
              "\n",
              "          const docLinkHtml = 'Like what you see? Visit the ' +\n",
              "            '<a target=\"_blank\" href=https://colab.research.google.com/notebooks/data_table.ipynb>data table notebook</a>'\n",
              "            + ' to learn more about interactive tables.';\n",
              "          element.innerHTML = '';\n",
              "          dataTable['output_type'] = 'display_data';\n",
              "          await google.colab.output.renderOutput(dataTable, element);\n",
              "          const docLink = document.createElement('div');\n",
              "          docLink.innerHTML = docLinkHtml;\n",
              "          element.appendChild(docLink);\n",
              "        }\n",
              "      </script>\n",
              "    </div>\n",
              "  </div>\n",
              "  "
            ]
          },
          "metadata": {},
          "execution_count": 94
        }
      ]
    },
    {
      "cell_type": "code",
      "source": [
        "# Let's add the bitcoin halving events to our dataset\n",
        "block_reward_1 = 50 # 3 January 2009\n",
        "block_reward_2 = 25 # 8 November 2012\n",
        "block_reward_3 = 12.5 # 9 July 2016\n",
        "block_reward_4 = 6.25 # 18 May 2020\n",
        "\n",
        "# Block reward dates\n",
        "block_reward_2_datetime = np.datetime64(\"2012-11-28\")\n",
        "block_reward_3_datetime = np.datetime64(\"2016-07-09\")\n",
        "block_reward_4_datetime = np.datetime64(\"2020-05-18\")"
      ],
      "metadata": {
        "id": "n7rfqsJQzeEP"
      },
      "execution_count": 95,
      "outputs": []
    },
    {
      "cell_type": "code",
      "source": [
        "# Create date ranges of where specific block_reward values should be\n",
        "block_reward_2_days = (block_reward_3_datetime - bitcoin_prices.index[0]).days\n",
        "block_reward_3_days = (block_reward_4_datetime - bitcoin_prices.index[0]).days\n",
        "block_reward_2_days, block_reward_3_days"
      ],
      "metadata": {
        "colab": {
          "base_uri": "https://localhost:8080/"
        },
        "id": "PwRjI3eC1JCV",
        "outputId": "d30215e7-5288-4dd3-bbf0-a3554783866f"
      },
      "execution_count": 96,
      "outputs": [
        {
          "output_type": "execute_result",
          "data": {
            "text/plain": [
              "(1012, 2421)"
            ]
          },
          "metadata": {},
          "execution_count": 96
        }
      ]
    },
    {
      "cell_type": "code",
      "source": [
        "# Add in a block_reward column\n",
        "bitcoin_prices_block = bitcoin_prices.copy()\n",
        "bitcoin_prices_block[\"block_reward\"] = None\n",
        "\n"
      ],
      "metadata": {
        "id": "a_T8D-fc1jq7"
      },
      "execution_count": 97,
      "outputs": []
    },
    {
      "cell_type": "code",
      "source": [
        "# Add in block_reward values as a feature to our dataframe\n",
        "bitcoin_prices_block.iloc[:block_reward_2_days, -1] = block_reward_2\n",
        "bitcoin_prices_block.iloc[block_reward_2_days:block_reward_3_days, -1] = block_reward_3\n",
        "bitcoin_prices_block.iloc[block_reward_3_days:, -1] = block_reward_4"
      ],
      "metadata": {
        "id": "YTA7XQW79FM2"
      },
      "execution_count": 98,
      "outputs": []
    },
    {
      "cell_type": "code",
      "source": [
        "bitcoin_prices_block.head()"
      ],
      "metadata": {
        "colab": {
          "base_uri": "https://localhost:8080/",
          "height": 238
        },
        "id": "u2M0PMXX8-Oa",
        "outputId": "db6e1c8f-9580-4b61-8b36-5a120842513b"
      },
      "execution_count": 99,
      "outputs": [
        {
          "output_type": "execute_result",
          "data": {
            "text/plain": [
              "                Price block_reward\n",
              "Date                              \n",
              "2013-10-01  123.65499           25\n",
              "2013-10-02  125.45500           25\n",
              "2013-10-03  108.58483           25\n",
              "2013-10-04  118.67466           25\n",
              "2013-10-05  121.33866           25"
            ],
            "text/html": [
              "\n",
              "  <div id=\"df-21d22e83-2d14-4d6f-b4ef-579b05b9c0dc\">\n",
              "    <div class=\"colab-df-container\">\n",
              "      <div>\n",
              "<style scoped>\n",
              "    .dataframe tbody tr th:only-of-type {\n",
              "        vertical-align: middle;\n",
              "    }\n",
              "\n",
              "    .dataframe tbody tr th {\n",
              "        vertical-align: top;\n",
              "    }\n",
              "\n",
              "    .dataframe thead th {\n",
              "        text-align: right;\n",
              "    }\n",
              "</style>\n",
              "<table border=\"1\" class=\"dataframe\">\n",
              "  <thead>\n",
              "    <tr style=\"text-align: right;\">\n",
              "      <th></th>\n",
              "      <th>Price</th>\n",
              "      <th>block_reward</th>\n",
              "    </tr>\n",
              "    <tr>\n",
              "      <th>Date</th>\n",
              "      <th></th>\n",
              "      <th></th>\n",
              "    </tr>\n",
              "  </thead>\n",
              "  <tbody>\n",
              "    <tr>\n",
              "      <th>2013-10-01</th>\n",
              "      <td>123.65499</td>\n",
              "      <td>25</td>\n",
              "    </tr>\n",
              "    <tr>\n",
              "      <th>2013-10-02</th>\n",
              "      <td>125.45500</td>\n",
              "      <td>25</td>\n",
              "    </tr>\n",
              "    <tr>\n",
              "      <th>2013-10-03</th>\n",
              "      <td>108.58483</td>\n",
              "      <td>25</td>\n",
              "    </tr>\n",
              "    <tr>\n",
              "      <th>2013-10-04</th>\n",
              "      <td>118.67466</td>\n",
              "      <td>25</td>\n",
              "    </tr>\n",
              "    <tr>\n",
              "      <th>2013-10-05</th>\n",
              "      <td>121.33866</td>\n",
              "      <td>25</td>\n",
              "    </tr>\n",
              "  </tbody>\n",
              "</table>\n",
              "</div>\n",
              "      <button class=\"colab-df-convert\" onclick=\"convertToInteractive('df-21d22e83-2d14-4d6f-b4ef-579b05b9c0dc')\"\n",
              "              title=\"Convert this dataframe to an interactive table.\"\n",
              "              style=\"display:none;\">\n",
              "        \n",
              "  <svg xmlns=\"http://www.w3.org/2000/svg\" height=\"24px\"viewBox=\"0 0 24 24\"\n",
              "       width=\"24px\">\n",
              "    <path d=\"M0 0h24v24H0V0z\" fill=\"none\"/>\n",
              "    <path d=\"M18.56 5.44l.94 2.06.94-2.06 2.06-.94-2.06-.94-.94-2.06-.94 2.06-2.06.94zm-11 1L8.5 8.5l.94-2.06 2.06-.94-2.06-.94L8.5 2.5l-.94 2.06-2.06.94zm10 10l.94 2.06.94-2.06 2.06-.94-2.06-.94-.94-2.06-.94 2.06-2.06.94z\"/><path d=\"M17.41 7.96l-1.37-1.37c-.4-.4-.92-.59-1.43-.59-.52 0-1.04.2-1.43.59L10.3 9.45l-7.72 7.72c-.78.78-.78 2.05 0 2.83L4 21.41c.39.39.9.59 1.41.59.51 0 1.02-.2 1.41-.59l7.78-7.78 2.81-2.81c.8-.78.8-2.07 0-2.86zM5.41 20L4 18.59l7.72-7.72 1.47 1.35L5.41 20z\"/>\n",
              "  </svg>\n",
              "      </button>\n",
              "      \n",
              "  <style>\n",
              "    .colab-df-container {\n",
              "      display:flex;\n",
              "      flex-wrap:wrap;\n",
              "      gap: 12px;\n",
              "    }\n",
              "\n",
              "    .colab-df-convert {\n",
              "      background-color: #E8F0FE;\n",
              "      border: none;\n",
              "      border-radius: 50%;\n",
              "      cursor: pointer;\n",
              "      display: none;\n",
              "      fill: #1967D2;\n",
              "      height: 32px;\n",
              "      padding: 0 0 0 0;\n",
              "      width: 32px;\n",
              "    }\n",
              "\n",
              "    .colab-df-convert:hover {\n",
              "      background-color: #E2EBFA;\n",
              "      box-shadow: 0px 1px 2px rgba(60, 64, 67, 0.3), 0px 1px 3px 1px rgba(60, 64, 67, 0.15);\n",
              "      fill: #174EA6;\n",
              "    }\n",
              "\n",
              "    [theme=dark] .colab-df-convert {\n",
              "      background-color: #3B4455;\n",
              "      fill: #D2E3FC;\n",
              "    }\n",
              "\n",
              "    [theme=dark] .colab-df-convert:hover {\n",
              "      background-color: #434B5C;\n",
              "      box-shadow: 0px 1px 3px 1px rgba(0, 0, 0, 0.15);\n",
              "      filter: drop-shadow(0px 1px 2px rgba(0, 0, 0, 0.3));\n",
              "      fill: #FFFFFF;\n",
              "    }\n",
              "  </style>\n",
              "\n",
              "      <script>\n",
              "        const buttonEl =\n",
              "          document.querySelector('#df-21d22e83-2d14-4d6f-b4ef-579b05b9c0dc button.colab-df-convert');\n",
              "        buttonEl.style.display =\n",
              "          google.colab.kernel.accessAllowed ? 'block' : 'none';\n",
              "\n",
              "        async function convertToInteractive(key) {\n",
              "          const element = document.querySelector('#df-21d22e83-2d14-4d6f-b4ef-579b05b9c0dc');\n",
              "          const dataTable =\n",
              "            await google.colab.kernel.invokeFunction('convertToInteractive',\n",
              "                                                     [key], {});\n",
              "          if (!dataTable) return;\n",
              "\n",
              "          const docLinkHtml = 'Like what you see? Visit the ' +\n",
              "            '<a target=\"_blank\" href=https://colab.research.google.com/notebooks/data_table.ipynb>data table notebook</a>'\n",
              "            + ' to learn more about interactive tables.';\n",
              "          element.innerHTML = '';\n",
              "          dataTable['output_type'] = 'display_data';\n",
              "          await google.colab.output.renderOutput(dataTable, element);\n",
              "          const docLink = document.createElement('div');\n",
              "          docLink.innerHTML = docLinkHtml;\n",
              "          element.appendChild(docLink);\n",
              "        }\n",
              "      </script>\n",
              "    </div>\n",
              "  </div>\n",
              "  "
            ]
          },
          "metadata": {},
          "execution_count": 99
        }
      ]
    },
    {
      "cell_type": "code",
      "source": [
        "bitcoin_prices_block.tail()"
      ],
      "metadata": {
        "colab": {
          "base_uri": "https://localhost:8080/",
          "height": 238
        },
        "id": "cAgFMYcd9BWC",
        "outputId": "46cc6b1c-cdce-48d3-fda5-d7c1434a6b5c"
      },
      "execution_count": 100,
      "outputs": [
        {
          "output_type": "execute_result",
          "data": {
            "text/plain": [
              "                   Price block_reward\n",
              "Date                                 \n",
              "2021-05-14  49764.132082         6.25\n",
              "2021-05-15  50032.693137         6.25\n",
              "2021-05-16  47885.625255         6.25\n",
              "2021-05-17  45604.615754         6.25\n",
              "2021-05-18  43144.471291         6.25"
            ],
            "text/html": [
              "\n",
              "  <div id=\"df-7e4c4129-7932-436a-83b5-7162f433d4fd\">\n",
              "    <div class=\"colab-df-container\">\n",
              "      <div>\n",
              "<style scoped>\n",
              "    .dataframe tbody tr th:only-of-type {\n",
              "        vertical-align: middle;\n",
              "    }\n",
              "\n",
              "    .dataframe tbody tr th {\n",
              "        vertical-align: top;\n",
              "    }\n",
              "\n",
              "    .dataframe thead th {\n",
              "        text-align: right;\n",
              "    }\n",
              "</style>\n",
              "<table border=\"1\" class=\"dataframe\">\n",
              "  <thead>\n",
              "    <tr style=\"text-align: right;\">\n",
              "      <th></th>\n",
              "      <th>Price</th>\n",
              "      <th>block_reward</th>\n",
              "    </tr>\n",
              "    <tr>\n",
              "      <th>Date</th>\n",
              "      <th></th>\n",
              "      <th></th>\n",
              "    </tr>\n",
              "  </thead>\n",
              "  <tbody>\n",
              "    <tr>\n",
              "      <th>2021-05-14</th>\n",
              "      <td>49764.132082</td>\n",
              "      <td>6.25</td>\n",
              "    </tr>\n",
              "    <tr>\n",
              "      <th>2021-05-15</th>\n",
              "      <td>50032.693137</td>\n",
              "      <td>6.25</td>\n",
              "    </tr>\n",
              "    <tr>\n",
              "      <th>2021-05-16</th>\n",
              "      <td>47885.625255</td>\n",
              "      <td>6.25</td>\n",
              "    </tr>\n",
              "    <tr>\n",
              "      <th>2021-05-17</th>\n",
              "      <td>45604.615754</td>\n",
              "      <td>6.25</td>\n",
              "    </tr>\n",
              "    <tr>\n",
              "      <th>2021-05-18</th>\n",
              "      <td>43144.471291</td>\n",
              "      <td>6.25</td>\n",
              "    </tr>\n",
              "  </tbody>\n",
              "</table>\n",
              "</div>\n",
              "      <button class=\"colab-df-convert\" onclick=\"convertToInteractive('df-7e4c4129-7932-436a-83b5-7162f433d4fd')\"\n",
              "              title=\"Convert this dataframe to an interactive table.\"\n",
              "              style=\"display:none;\">\n",
              "        \n",
              "  <svg xmlns=\"http://www.w3.org/2000/svg\" height=\"24px\"viewBox=\"0 0 24 24\"\n",
              "       width=\"24px\">\n",
              "    <path d=\"M0 0h24v24H0V0z\" fill=\"none\"/>\n",
              "    <path d=\"M18.56 5.44l.94 2.06.94-2.06 2.06-.94-2.06-.94-.94-2.06-.94 2.06-2.06.94zm-11 1L8.5 8.5l.94-2.06 2.06-.94-2.06-.94L8.5 2.5l-.94 2.06-2.06.94zm10 10l.94 2.06.94-2.06 2.06-.94-2.06-.94-.94-2.06-.94 2.06-2.06.94z\"/><path d=\"M17.41 7.96l-1.37-1.37c-.4-.4-.92-.59-1.43-.59-.52 0-1.04.2-1.43.59L10.3 9.45l-7.72 7.72c-.78.78-.78 2.05 0 2.83L4 21.41c.39.39.9.59 1.41.59.51 0 1.02-.2 1.41-.59l7.78-7.78 2.81-2.81c.8-.78.8-2.07 0-2.86zM5.41 20L4 18.59l7.72-7.72 1.47 1.35L5.41 20z\"/>\n",
              "  </svg>\n",
              "      </button>\n",
              "      \n",
              "  <style>\n",
              "    .colab-df-container {\n",
              "      display:flex;\n",
              "      flex-wrap:wrap;\n",
              "      gap: 12px;\n",
              "    }\n",
              "\n",
              "    .colab-df-convert {\n",
              "      background-color: #E8F0FE;\n",
              "      border: none;\n",
              "      border-radius: 50%;\n",
              "      cursor: pointer;\n",
              "      display: none;\n",
              "      fill: #1967D2;\n",
              "      height: 32px;\n",
              "      padding: 0 0 0 0;\n",
              "      width: 32px;\n",
              "    }\n",
              "\n",
              "    .colab-df-convert:hover {\n",
              "      background-color: #E2EBFA;\n",
              "      box-shadow: 0px 1px 2px rgba(60, 64, 67, 0.3), 0px 1px 3px 1px rgba(60, 64, 67, 0.15);\n",
              "      fill: #174EA6;\n",
              "    }\n",
              "\n",
              "    [theme=dark] .colab-df-convert {\n",
              "      background-color: #3B4455;\n",
              "      fill: #D2E3FC;\n",
              "    }\n",
              "\n",
              "    [theme=dark] .colab-df-convert:hover {\n",
              "      background-color: #434B5C;\n",
              "      box-shadow: 0px 1px 3px 1px rgba(0, 0, 0, 0.15);\n",
              "      filter: drop-shadow(0px 1px 2px rgba(0, 0, 0, 0.3));\n",
              "      fill: #FFFFFF;\n",
              "    }\n",
              "  </style>\n",
              "\n",
              "      <script>\n",
              "        const buttonEl =\n",
              "          document.querySelector('#df-7e4c4129-7932-436a-83b5-7162f433d4fd button.colab-df-convert');\n",
              "        buttonEl.style.display =\n",
              "          google.colab.kernel.accessAllowed ? 'block' : 'none';\n",
              "\n",
              "        async function convertToInteractive(key) {\n",
              "          const element = document.querySelector('#df-7e4c4129-7932-436a-83b5-7162f433d4fd');\n",
              "          const dataTable =\n",
              "            await google.colab.kernel.invokeFunction('convertToInteractive',\n",
              "                                                     [key], {});\n",
              "          if (!dataTable) return;\n",
              "\n",
              "          const docLinkHtml = 'Like what you see? Visit the ' +\n",
              "            '<a target=\"_blank\" href=https://colab.research.google.com/notebooks/data_table.ipynb>data table notebook</a>'\n",
              "            + ' to learn more about interactive tables.';\n",
              "          element.innerHTML = '';\n",
              "          dataTable['output_type'] = 'display_data';\n",
              "          await google.colab.output.renderOutput(dataTable, element);\n",
              "          const docLink = document.createElement('div');\n",
              "          docLink.innerHTML = docLinkHtml;\n",
              "          element.appendChild(docLink);\n",
              "        }\n",
              "      </script>\n",
              "    </div>\n",
              "  </div>\n",
              "  "
            ]
          },
          "metadata": {},
          "execution_count": 100
        }
      ]
    },
    {
      "cell_type": "code",
      "source": [
        "# Plot the block reward vs price over time\n",
        "from sklearn.preprocessing import minmax_scale\n",
        "scaled_price_block_df = pd.DataFrame(minmax_scale(bitcoin_prices_block[[\"Price\", \"block_reward\"]]),\n",
        "                                     columns=bitcoin_prices_block.columns,\n",
        "                                     index=bitcoin_prices_block.index)\n",
        "scaled_price_block_df.plot(figsize=(10, 7));"
      ],
      "metadata": {
        "colab": {
          "base_uri": "https://localhost:8080/",
          "height": 442
        },
        "id": "XT430j0H9Z2a",
        "outputId": "78d1a028-9d54-4478-c3da-9c491eeb1f81"
      },
      "execution_count": 101,
      "outputs": [
        {
          "output_type": "display_data",
          "data": {
            "text/plain": [
              "<Figure size 720x504 with 1 Axes>"
            ],
            "image/png": "[encoded data removed]"
          },
          "metadata": {
            "needs_background": "light"
          }
        }
      ]
    },
    {
      "cell_type": "markdown",
      "source": [
        "## Making a windowed dataset with pandas\n",
        "\n",
        "Previously, we've turned our univariate time series into windowed dataset using the helper functions above.\n",
        "\n",
        "However, since we've got multivariate data, these functions won't work.\n",
        "\n",
        "Not to worry, we can use the pandas.DataFrame.shift() method to window our multivariate data."
      ],
      "metadata": {
        "id": "5J0gnndE-Fo7"
      }
    },
    {
      "cell_type": "code",
      "source": [
        "# Setup dataset hyperparameters\n",
        "HORIZON = 1\n",
        "WINDOW_SIZE= 7"
      ],
      "metadata": {
        "id": "GBC3KfI2ATbA"
      },
      "execution_count": 102,
      "outputs": []
    },
    {
      "cell_type": "code",
      "source": [
        "# Make a copy of the bitcoin historical data with block reward feature\n",
        "bitcoin_prices_windowed = bitcoin_prices_block.copy()\n"
      ],
      "metadata": {
        "id": "wiv_8t-VA6Kb"
      },
      "execution_count": 103,
      "outputs": []
    },
    {
      "cell_type": "code",
      "source": [
        "# Add windowed columns\n",
        "for i in range(WINDOW_SIZE):\n",
        "  bitcoin_prices_windowed[f\"Price+{i+1}\"] = bitcoin_prices_windowed[\"Price\"].shift(periods=i+1)\n",
        "bitcoin_prices_windowed.head()"
      ],
      "metadata": {
        "colab": {
          "base_uri": "https://localhost:8080/",
          "height": 238
        },
        "id": "XRfoNjc1BpCc",
        "outputId": "6bbf9946-bab9-49ef-bf44-c7cae3992206"
      },
      "execution_count": 104,
      "outputs": [
        {
          "output_type": "execute_result",
          "data": {
            "text/plain": [
              "                Price block_reward    Price+1    Price+2    Price+3  \\\n",
              "Date                                                                  \n",
              "2013-10-01  123.65499           25        NaN        NaN        NaN   \n",
              "2013-10-02  125.45500           25  123.65499        NaN        NaN   \n",
              "2013-10-03  108.58483           25  125.45500  123.65499        NaN   \n",
              "2013-10-04  118.67466           25  108.58483  125.45500  123.65499   \n",
              "2013-10-05  121.33866           25  118.67466  108.58483  125.45500   \n",
              "\n",
              "              Price+4  Price+5  Price+6  Price+7  \n",
              "Date                                              \n",
              "2013-10-01        NaN      NaN      NaN      NaN  \n",
              "2013-10-02        NaN      NaN      NaN      NaN  \n",
              "2013-10-03        NaN      NaN      NaN      NaN  \n",
              "2013-10-04        NaN      NaN      NaN      NaN  \n",
              "2013-10-05  123.65499      NaN      NaN      NaN  "
            ],
            "text/html": [
              "\n",
              "  <div id=\"df-e4c5b547-848a-4798-a7ec-bab95a90045b\">\n",
              "    <div class=\"colab-df-container\">\n",
              "      <div>\n",
              "<style scoped>\n",
              "    .dataframe tbody tr th:only-of-type {\n",
              "        vertical-align: middle;\n",
              "    }\n",
              "\n",
              "    .dataframe tbody tr th {\n",
              "        vertical-align: top;\n",
              "    }\n",
              "\n",
              "    .dataframe thead th {\n",
              "        text-align: right;\n",
              "    }\n",
              "</style>\n",
              "<table border=\"1\" class=\"dataframe\">\n",
              "  <thead>\n",
              "    <tr style=\"text-align: right;\">\n",
              "      <th></th>\n",
              "      <th>Price</th>\n",
              "      <th>block_reward</th>\n",
              "      <th>Price+1</th>\n",
              "      <th>Price+2</th>\n",
              "      <th>Price+3</th>\n",
              "      <th>Price+4</th>\n",
              "      <th>Price+5</th>\n",
              "      <th>Price+6</th>\n",
              "      <th>Price+7</th>\n",
              "    </tr>\n",
              "    <tr>\n",
              "      <th>Date</th>\n",
              "      <th></th>\n",
              "      <th></th>\n",
              "      <th></th>\n",
              "      <th></th>\n",
              "      <th></th>\n",
              "      <th></th>\n",
              "      <th></th>\n",
              "      <th></th>\n",
              "      <th></th>\n",
              "    </tr>\n",
              "  </thead>\n",
              "  <tbody>\n",
              "    <tr>\n",
              "      <th>2013-10-01</th>\n",
              "      <td>123.65499</td>\n",
              "      <td>25</td>\n",
              "      <td>NaN</td>\n",
              "      <td>NaN</td>\n",
              "      <td>NaN</td>\n",
              "      <td>NaN</td>\n",
              "      <td>NaN</td>\n",
              "      <td>NaN</td>\n",
              "      <td>NaN</td>\n",
              "    </tr>\n",
              "    <tr>\n",
              "      <th>2013-10-02</th>\n",
              "      <td>125.45500</td>\n",
              "      <td>25</td>\n",
              "      <td>123.65499</td>\n",
              "      <td>NaN</td>\n",
              "      <td>NaN</td>\n",
              "      <td>NaN</td>\n",
              "      <td>NaN</td>\n",
              "      <td>NaN</td>\n",
              "      <td>NaN</td>\n",
              "    </tr>\n",
              "    <tr>\n",
              "      <th>2013-10-03</th>\n",
              "      <td>108.58483</td>\n",
              "      <td>25</td>\n",
              "      <td>125.45500</td>\n",
              "      <td>123.65499</td>\n",
              "      <td>NaN</td>\n",
              "      <td>NaN</td>\n",
              "      <td>NaN</td>\n",
              "      <td>NaN</td>\n",
              "      <td>NaN</td>\n",
              "    </tr>\n",
              "    <tr>\n",
              "      <th>2013-10-04</th>\n",
              "      <td>118.67466</td>\n",
              "      <td>25</td>\n",
              "      <td>108.58483</td>\n",
              "      <td>125.45500</td>\n",
              "      <td>123.65499</td>\n",
              "      <td>NaN</td>\n",
              "      <td>NaN</td>\n",
              "      <td>NaN</td>\n",
              "      <td>NaN</td>\n",
              "    </tr>\n",
              "    <tr>\n",
              "      <th>2013-10-05</th>\n",
              "      <td>121.33866</td>\n",
              "      <td>25</td>\n",
              "      <td>118.67466</td>\n",
              "      <td>108.58483</td>\n",
              "      <td>125.45500</td>\n",
              "      <td>123.65499</td>\n",
              "      <td>NaN</td>\n",
              "      <td>NaN</td>\n",
              "      <td>NaN</td>\n",
              "    </tr>\n",
              "  </tbody>\n",
              "</table>\n",
              "</div>\n",
              "      <button class=\"colab-df-convert\" onclick=\"convertToInteractive('df-e4c5b547-848a-4798-a7ec-bab95a90045b')\"\n",
              "              title=\"Convert this dataframe to an interactive table.\"\n",
              "              style=\"display:none;\">\n",
              "        \n",
              "  <svg xmlns=\"http://www.w3.org/2000/svg\" height=\"24px\"viewBox=\"0 0 24 24\"\n",
              "       width=\"24px\">\n",
              "    <path d=\"M0 0h24v24H0V0z\" fill=\"none\"/>\n",
              "    <path d=\"M18.56 5.44l.94 2.06.94-2.06 2.06-.94-2.06-.94-.94-2.06-.94 2.06-2.06.94zm-11 1L8.5 8.5l.94-2.06 2.06-.94-2.06-.94L8.5 2.5l-.94 2.06-2.06.94zm10 10l.94 2.06.94-2.06 2.06-.94-2.06-.94-.94-2.06-.94 2.06-2.06.94z\"/><path d=\"M17.41 7.96l-1.37-1.37c-.4-.4-.92-.59-1.43-.59-.52 0-1.04.2-1.43.59L10.3 9.45l-7.72 7.72c-.78.78-.78 2.05 0 2.83L4 21.41c.39.39.9.59 1.41.59.51 0 1.02-.2 1.41-.59l7.78-7.78 2.81-2.81c.8-.78.8-2.07 0-2.86zM5.41 20L4 18.59l7.72-7.72 1.47 1.35L5.41 20z\"/>\n",
              "  </svg>\n",
              "      </button>\n",
              "      \n",
              "  <style>\n",
              "    .colab-df-container {\n",
              "      display:flex;\n",
              "      flex-wrap:wrap;\n",
              "      gap: 12px;\n",
              "    }\n",
              "\n",
              "    .colab-df-convert {\n",
              "      background-color: #E8F0FE;\n",
              "      border: none;\n",
              "      border-radius: 50%;\n",
              "      cursor: pointer;\n",
              "      display: none;\n",
              "      fill: #1967D2;\n",
              "      height: 32px;\n",
              "      padding: 0 0 0 0;\n",
              "      width: 32px;\n",
              "    }\n",
              "\n",
              "    .colab-df-convert:hover {\n",
              "      background-color: #E2EBFA;\n",
              "      box-shadow: 0px 1px 2px rgba(60, 64, 67, 0.3), 0px 1px 3px 1px rgba(60, 64, 67, 0.15);\n",
              "      fill: #174EA6;\n",
              "    }\n",
              "\n",
              "    [theme=dark] .colab-df-convert {\n",
              "      background-color: #3B4455;\n",
              "      fill: #D2E3FC;\n",
              "    }\n",
              "\n",
              "    [theme=dark] .colab-df-convert:hover {\n",
              "      background-color: #434B5C;\n",
              "      box-shadow: 0px 1px 3px 1px rgba(0, 0, 0, 0.15);\n",
              "      filter: drop-shadow(0px 1px 2px rgba(0, 0, 0, 0.3));\n",
              "      fill: #FFFFFF;\n",
              "    }\n",
              "  </style>\n",
              "\n",
              "      <script>\n",
              "        const buttonEl =\n",
              "          document.querySelector('#df-e4c5b547-848a-4798-a7ec-bab95a90045b button.colab-df-convert');\n",
              "        buttonEl.style.display =\n",
              "          google.colab.kernel.accessAllowed ? 'block' : 'none';\n",
              "\n",
              "        async function convertToInteractive(key) {\n",
              "          const element = document.querySelector('#df-e4c5b547-848a-4798-a7ec-bab95a90045b');\n",
              "          const dataTable =\n",
              "            await google.colab.kernel.invokeFunction('convertToInteractive',\n",
              "                                                     [key], {});\n",
              "          if (!dataTable) return;\n",
              "\n",
              "          const docLinkHtml = 'Like what you see? Visit the ' +\n",
              "            '<a target=\"_blank\" href=https://colab.research.google.com/notebooks/data_table.ipynb>data table notebook</a>'\n",
              "            + ' to learn more about interactive tables.';\n",
              "          element.innerHTML = '';\n",
              "          dataTable['output_type'] = 'display_data';\n",
              "          await google.colab.output.renderOutput(dataTable, element);\n",
              "          const docLink = document.createElement('div');\n",
              "          docLink.innerHTML = docLinkHtml;\n",
              "          element.appendChild(docLink);\n",
              "        }\n",
              "      </script>\n",
              "    </div>\n",
              "  </div>\n",
              "  "
            ]
          },
          "metadata": {},
          "execution_count": 104
        }
      ]
    },
    {
      "cell_type": "markdown",
      "source": [
        "What we've done is created a way to window our dataset directly from a pandas dataframe.\n",
        "\n",
        "```\n",
        "[0, 1, 2, 3, 4, 5, 6, block_reward] -> [7]\n",
        "[1, 2, 3, 4, 5, 6, 7, block_reward] -> [8]\n",
        "[2, 3, 4, 5, 6, 7, 8, block_reward] -> [9]\n",
        "```\n"
      ],
      "metadata": {
        "id": "LC0LzFpuBvBy"
      }
    },
    {
      "cell_type": "code",
      "source": [
        "# Create X (windows) and y (horizons) features\n",
        "X = bitcoin_prices_windowed.dropna().drop(\"Price\", axis=1).astype(np.float32)\n",
        "y = bitcoin_prices_windowed.dropna()[\"Price\"].astype(np.float32)\n",
        "X.head()"
      ],
      "metadata": {
        "colab": {
          "base_uri": "https://localhost:8080/",
          "height": 238
        },
        "id": "xIQa7h_ZDMg-",
        "outputId": "81f23838-cc85-4889-9919-8728198fda04"
      },
      "execution_count": 105,
      "outputs": [
        {
          "output_type": "execute_result",
          "data": {
            "text/plain": [
              "            block_reward     Price+1     Price+2     Price+3     Price+4  \\\n",
              "Date                                                                       \n",
              "2013-10-08          25.0  121.794998  120.655327  121.338661  118.674660   \n",
              "2013-10-09          25.0  123.032997  121.794998  120.655327  121.338661   \n",
              "2013-10-10          25.0  124.049004  123.032997  121.794998  120.655327   \n",
              "2013-10-11          25.0  125.961159  124.049004  123.032997  121.794998   \n",
              "2013-10-12          25.0  125.279663  125.961159  124.049004  123.032997   \n",
              "\n",
              "               Price+5     Price+6     Price+7  \n",
              "Date                                            \n",
              "2013-10-08  108.584831  125.455002  123.654991  \n",
              "2013-10-09  118.674660  108.584831  125.455002  \n",
              "2013-10-10  121.338661  118.674660  108.584831  \n",
              "2013-10-11  120.655327  121.338661  118.674660  \n",
              "2013-10-12  121.794998  120.655327  121.338661  "
            ],
            "text/html": [
              "\n",
              "  <div id=\"df-f9e57557-12e0-4ed4-a47f-fccc268ec453\">\n",
              "    <div class=\"colab-df-container\">\n",
              "      <div>\n",
              "<style scoped>\n",
              "    .dataframe tbody tr th:only-of-type {\n",
              "        vertical-align: middle;\n",
              "    }\n",
              "\n",
              "    .dataframe tbody tr th {\n",
              "        vertical-align: top;\n",
              "    }\n",
              "\n",
              "    .dataframe thead th {\n",
              "        text-align: right;\n",
              "    }\n",
              "</style>\n",
              "<table border=\"1\" class=\"dataframe\">\n",
              "  <thead>\n",
              "    <tr style=\"text-align: right;\">\n",
              "      <th></th>\n",
              "      <th>block_reward</th>\n",
              "      <th>Price+1</th>\n",
              "      <th>Price+2</th>\n",
              "      <th>Price+3</th>\n",
              "      <th>Price+4</th>\n",
              "      <th>Price+5</th>\n",
              "      <th>Price+6</th>\n",
              "      <th>Price+7</th>\n",
              "    </tr>\n",
              "    <tr>\n",
              "      <th>Date</th>\n",
              "      <th></th>\n",
              "      <th></th>\n",
              "      <th></th>\n",
              "      <th></th>\n",
              "      <th></th>\n",
              "      <th></th>\n",
              "      <th></th>\n",
              "      <th></th>\n",
              "    </tr>\n",
              "  </thead>\n",
              "  <tbody>\n",
              "    <tr>\n",
              "      <th>2013-10-08</th>\n",
              "      <td>25.0</td>\n",
              "      <td>121.794998</td>\n",
              "      <td>120.655327</td>\n",
              "      <td>121.338661</td>\n",
              "      <td>118.674660</td>\n",
              "      <td>108.584831</td>\n",
              "      <td>125.455002</td>\n",
              "      <td>123.654991</td>\n",
              "    </tr>\n",
              "    <tr>\n",
              "      <th>2013-10-09</th>\n",
              "      <td>25.0</td>\n",
              "      <td>123.032997</td>\n",
              "      <td>121.794998</td>\n",
              "      <td>120.655327</td>\n",
              "      <td>121.338661</td>\n",
              "      <td>118.674660</td>\n",
              "      <td>108.584831</td>\n",
              "      <td>125.455002</td>\n",
              "    </tr>\n",
              "    <tr>\n",
              "      <th>2013-10-10</th>\n",
              "      <td>25.0</td>\n",
              "      <td>124.049004</td>\n",
              "      <td>123.032997</td>\n",
              "      <td>121.794998</td>\n",
              "      <td>120.655327</td>\n",
              "      <td>121.338661</td>\n",
              "      <td>118.674660</td>\n",
              "      <td>108.584831</td>\n",
              "    </tr>\n",
              "    <tr>\n",
              "      <th>2013-10-11</th>\n",
              "      <td>25.0</td>\n",
              "      <td>125.961159</td>\n",
              "      <td>124.049004</td>\n",
              "      <td>123.032997</td>\n",
              "      <td>121.794998</td>\n",
              "      <td>120.655327</td>\n",
              "      <td>121.338661</td>\n",
              "      <td>118.674660</td>\n",
              "    </tr>\n",
              "    <tr>\n",
              "      <th>2013-10-12</th>\n",
              "      <td>25.0</td>\n",
              "      <td>125.279663</td>\n",
              "      <td>125.961159</td>\n",
              "      <td>124.049004</td>\n",
              "      <td>123.032997</td>\n",
              "      <td>121.794998</td>\n",
              "      <td>120.655327</td>\n",
              "      <td>121.338661</td>\n",
              "    </tr>\n",
              "  </tbody>\n",
              "</table>\n",
              "</div>\n",
              "      <button class=\"colab-df-convert\" onclick=\"convertToInteractive('df-f9e57557-12e0-4ed4-a47f-fccc268ec453')\"\n",
              "              title=\"Convert this dataframe to an interactive table.\"\n",
              "              style=\"display:none;\">\n",
              "        \n",
              "  <svg xmlns=\"http://www.w3.org/2000/svg\" height=\"24px\"viewBox=\"0 0 24 24\"\n",
              "       width=\"24px\">\n",
              "    <path d=\"M0 0h24v24H0V0z\" fill=\"none\"/>\n",
              "    <path d=\"M18.56 5.44l.94 2.06.94-2.06 2.06-.94-2.06-.94-.94-2.06-.94 2.06-2.06.94zm-11 1L8.5 8.5l.94-2.06 2.06-.94-2.06-.94L8.5 2.5l-.94 2.06-2.06.94zm10 10l.94 2.06.94-2.06 2.06-.94-2.06-.94-.94-2.06-.94 2.06-2.06.94z\"/><path d=\"M17.41 7.96l-1.37-1.37c-.4-.4-.92-.59-1.43-.59-.52 0-1.04.2-1.43.59L10.3 9.45l-7.72 7.72c-.78.78-.78 2.05 0 2.83L4 21.41c.39.39.9.59 1.41.59.51 0 1.02-.2 1.41-.59l7.78-7.78 2.81-2.81c.8-.78.8-2.07 0-2.86zM5.41 20L4 18.59l7.72-7.72 1.47 1.35L5.41 20z\"/>\n",
              "  </svg>\n",
              "      </button>\n",
              "      \n",
              "  <style>\n",
              "    .colab-df-container {\n",
              "      display:flex;\n",
              "      flex-wrap:wrap;\n",
              "      gap: 12px;\n",
              "    }\n",
              "\n",
              "    .colab-df-convert {\n",
              "      background-color: #E8F0FE;\n",
              "      border: none;\n",
              "      border-radius: 50%;\n",
              "      cursor: pointer;\n",
              "      display: none;\n",
              "      fill: #1967D2;\n",
              "      height: 32px;\n",
              "      padding: 0 0 0 0;\n",
              "      width: 32px;\n",
              "    }\n",
              "\n",
              "    .colab-df-convert:hover {\n",
              "      background-color: #E2EBFA;\n",
              "      box-shadow: 0px 1px 2px rgba(60, 64, 67, 0.3), 0px 1px 3px 1px rgba(60, 64, 67, 0.15);\n",
              "      fill: #174EA6;\n",
              "    }\n",
              "\n",
              "    [theme=dark] .colab-df-convert {\n",
              "      background-color: #3B4455;\n",
              "      fill: #D2E3FC;\n",
              "    }\n",
              "\n",
              "    [theme=dark] .colab-df-convert:hover {\n",
              "      background-color: #434B5C;\n",
              "      box-shadow: 0px 1px 3px 1px rgba(0, 0, 0, 0.15);\n",
              "      filter: drop-shadow(0px 1px 2px rgba(0, 0, 0, 0.3));\n",
              "      fill: #FFFFFF;\n",
              "    }\n",
              "  </style>\n",
              "\n",
              "      <script>\n",
              "        const buttonEl =\n",
              "          document.querySelector('#df-f9e57557-12e0-4ed4-a47f-fccc268ec453 button.colab-df-convert');\n",
              "        buttonEl.style.display =\n",
              "          google.colab.kernel.accessAllowed ? 'block' : 'none';\n",
              "\n",
              "        async function convertToInteractive(key) {\n",
              "          const element = document.querySelector('#df-f9e57557-12e0-4ed4-a47f-fccc268ec453');\n",
              "          const dataTable =\n",
              "            await google.colab.kernel.invokeFunction('convertToInteractive',\n",
              "                                                     [key], {});\n",
              "          if (!dataTable) return;\n",
              "\n",
              "          const docLinkHtml = 'Like what you see? Visit the ' +\n",
              "            '<a target=\"_blank\" href=https://colab.research.google.com/notebooks/data_table.ipynb>data table notebook</a>'\n",
              "            + ' to learn more about interactive tables.';\n",
              "          element.innerHTML = '';\n",
              "          dataTable['output_type'] = 'display_data';\n",
              "          await google.colab.output.renderOutput(dataTable, element);\n",
              "          const docLink = document.createElement('div');\n",
              "          docLink.innerHTML = docLinkHtml;\n",
              "          element.appendChild(docLink);\n",
              "        }\n",
              "      </script>\n",
              "    </div>\n",
              "  </div>\n",
              "  "
            ]
          },
          "metadata": {},
          "execution_count": 105
        }
      ]
    },
    {
      "cell_type": "code",
      "source": [
        "y.head()"
      ],
      "metadata": {
        "colab": {
          "base_uri": "https://localhost:8080/"
        },
        "id": "Oxbga1OHD0L8",
        "outputId": "53650ec3-0135-4604-f153-953e38aa1bfc"
      },
      "execution_count": 106,
      "outputs": [
        {
          "output_type": "execute_result",
          "data": {
            "text/plain": [
              "Date\n",
              "2013-10-08    123.032997\n",
              "2013-10-09    124.049004\n",
              "2013-10-10    125.961159\n",
              "2013-10-11    125.279663\n",
              "2013-10-12    125.927498\n",
              "Name: Price, dtype: float32"
            ]
          },
          "metadata": {},
          "execution_count": 106
        }
      ]
    },
    {
      "cell_type": "code",
      "source": [
        "# Make train and test sets using indexing\n",
        "split_size = int(len(X) * 0.8)\n",
        "X_train, y_train = X[:split_size], y[:split_size]\n",
        "X_test, y_test = X[split_size:], y[split_size:]\n",
        "len(X_train), len(y_train), len(X_test), len(y_test)"
      ],
      "metadata": {
        "colab": {
          "base_uri": "https://localhost:8080/"
        },
        "id": "5QvhfvzSD3JO",
        "outputId": "9aba3893-7e3e-4368-9910-20bf8da3ed5f"
      },
      "execution_count": 107,
      "outputs": [
        {
          "output_type": "execute_result",
          "data": {
            "text/plain": [
              "(2224, 2224, 556, 556)"
            ]
          },
          "metadata": {},
          "execution_count": 107
        }
      ]
    },
    {
      "cell_type": "markdown",
      "source": [
        "## Model 6: Dense (multivariate time series)"
      ],
      "metadata": {
        "id": "lT1je-JuLpXI"
      }
    },
    {
      "cell_type": "code",
      "source": [
        "tf.random.set_seed(42)\n",
        "\n",
        "# Make multivariate time series model\n",
        "model_6 = tf.keras.Sequential([\n",
        "    layers.Dense(128, activation=\"relu\"),\n",
        "    layers.Dense(HORIZON)\n",
        "], name=\"model_6_dense_multivariate\")\n",
        "\n",
        "# Compile\n",
        "model_6.compile(loss=\"mae\", optimizer=\"adam\")\n",
        "\n",
        "# Fit model\n",
        "model_6_history = model_6.fit(X_train, y_train,\n",
        "                              batch_size=128,\n",
        "                              epochs=100,\n",
        "                              verbose=1,\n",
        "                              validation_data=(X_test, y_test),\n",
        "                              callbacks=[create_model_checkpoint(model_6.name)])"
      ],
      "metadata": {
        "colab": {
          "base_uri": "https://localhost:8080/"
        },
        "id": "pBJFUtcPMIb6",
        "outputId": "53d63fd1-cbdc-4473-85af-a9cbe7e040c4"
      },
      "execution_count": 108,
      "outputs": [
        {
          "output_type": "stream",
          "name": "stdout",
          "text": [
            "Epoch 1/100\n",
            " 1/18 [>.............................] - ETA: 13s - loss: 2005.8652"
          ]
        },
        {
          "output_type": "stream",
          "name": "stderr",
          "text": [
            "WARNING:absl:Found untraced functions such as _update_step_xla while saving (showing 1 of 1). These functions will not be directly callable after loading.\n"
          ]
        },
        {
          "output_type": "stream",
          "name": "stdout",
          "text": [
            "\b\b\b\b\b\b\b\b\b\b\b\b\b\b\b\b\b\b\b\b\b\b\b\b\b\b\b\b\b\b\b\b\b\b\b\b\b\b\b\b\b\b\b\b\b\b\b\b\b\b\b\b\b\b\b\b\b\b\b\b\b\b\b\b\b\b\b\r18/18 [==============================] - 1s 35ms/step - loss: 696.4860 - val_loss: 1395.4607\n",
            "Epoch 2/100\n",
            " 1/18 [>.............................] - ETA: 0s - loss: 207.4198"
          ]
        },
        {
          "output_type": "stream",
          "name": "stderr",
          "text": [
            "WARNING:absl:Found untraced functions such as _update_step_xla while saving (showing 1 of 1). These functions will not be directly callable after loading.\n"
          ]
        },
        {
          "output_type": "stream",
          "name": "stdout",
          "text": [
            "\b\b\b\b\b\b\b\b\b\b\b\b\b\b\b\b\b\b\b\b\b\b\b\b\b\b\b\b\b\b\b\b\b\b\b\b\b\b\b\b\b\b\b\b\b\b\b\b\b\b\b\b\b\b\b\b\b\b\b\b\b\b\b\b\b\r18/18 [==============================] - 0s 26ms/step - loss: 197.4458 - val_loss: 1073.0144\n",
            "Epoch 3/100\n",
            "18/18 [==============================] - ETA: 0s - loss: 152.4927"
          ]
        },
        {
          "output_type": "stream",
          "name": "stderr",
          "text": [
            "WARNING:absl:Found untraced functions such as _update_step_xla while saving (showing 1 of 1). These functions will not be directly callable after loading.\n"
          ]
        },
        {
          "output_type": "stream",
          "name": "stdout",
          "text": [
            "\b\b\b\b\b\b\b\b\b\b\b\b\b\b\b\b\b\b\b\b\b\b\b\b\b\b\b\b\b\b\b\b\b\b\b\b\b\b\b\b\b\b\b\b\b\b\b\b\b\b\b\b\b\b\b\b\b\b\b\b\b\b\b\b\b\r18/18 [==============================] - 0s 26ms/step - loss: 152.4927 - val_loss: 799.9411\n",
            "Epoch 4/100\n",
            " 1/18 [>.............................] - ETA: 0s - loss: 162.5930"
          ]
        },
        {
          "output_type": "stream",
          "name": "stderr",
          "text": [
            "WARNING:absl:Found untraced functions such as _update_step_xla while saving (showing 1 of 1). These functions will not be directly callable after loading.\n"
          ]
        },
        {
          "output_type": "stream",
          "name": "stdout",
          "text": [
            "\b\b\b\b\b\b\b\b\b\b\b\b\b\b\b\b\b\b\b\b\b\b\b\b\b\b\b\b\b\b\b\b\b\b\b\b\b\b\b\b\b\b\b\b\b\b\b\b\b\b\b\b\b\b\b\b\b\b\b\b\b\b\b\b\b\r18/18 [==============================] - 1s 35ms/step - loss: 136.8998 - val_loss: 758.2099\n",
            "Epoch 5/100\n",
            "16/18 [=========================>....] - ETA: 0s - loss: 135.0620"
          ]
        },
        {
          "output_type": "stream",
          "name": "stderr",
          "text": [
            "WARNING:absl:Found untraced functions such as _update_step_xla while saving (showing 1 of 1). These functions will not be directly callable after loading.\n"
          ]
        },
        {
          "output_type": "stream",
          "name": "stdout",
          "text": [
            "\b\b\b\b\b\b\b\b\b\b\b\b\b\b\b\b\b\b\b\b\b\b\b\b\b\b\b\b\b\b\b\b\b\b\b\b\b\b\b\b\b\b\b\b\b\b\b\b\b\b\b\b\b\b\b\b\b\b\b\b\b\b\b\b\b\r18/18 [==============================] - 1s 37ms/step - loss: 133.6031 - val_loss: 744.1751\n",
            "Epoch 6/100\n",
            "18/18 [==============================] - 0s 6ms/step - loss: 134.0479 - val_loss: 781.6440\n",
            "Epoch 7/100\n",
            "15/18 [========================>.....] - ETA: 0s - loss: 137.2042"
          ]
        },
        {
          "output_type": "stream",
          "name": "stderr",
          "text": [
            "WARNING:absl:Found untraced functions such as _update_step_xla while saving (showing 1 of 1). These functions will not be directly callable after loading.\n"
          ]
        },
        {
          "output_type": "stream",
          "name": "stdout",
          "text": [
            "\b\b\b\b\b\b\b\b\b\b\b\b\b\b\b\b\b\b\b\b\b\b\b\b\b\b\b\b\b\b\b\b\b\b\b\b\b\b\b\b\b\b\b\b\b\b\b\b\b\b\b\b\b\b\b\b\b\b\b\b\b\b\b\b\b\r18/18 [==============================] - 1s 38ms/step - loss: 134.6893 - val_loss: 719.9149\n",
            "Epoch 8/100\n",
            "18/18 [==============================] - 0s 7ms/step - loss: 130.6082 - val_loss: 729.7064\n",
            "Epoch 9/100\n",
            "16/18 [=========================>....] - ETA: 0s - loss: 135.9589"
          ]
        },
        {
          "output_type": "stream",
          "name": "stderr",
          "text": [
            "WARNING:absl:Found untraced functions such as _update_step_xla while saving (showing 1 of 1). These functions will not be directly callable after loading.\n"
          ]
        },
        {
          "output_type": "stream",
          "name": "stdout",
          "text": [
            "\b\b\b\b\b\b\b\b\b\b\b\b\b\b\b\b\b\b\b\b\b\b\b\b\b\b\b\b\b\b\b\b\b\b\b\b\b\b\b\b\b\b\b\b\b\b\b\b\b\b\b\b\b\b\b\b\b\b\b\b\b\b\b\b\b\r18/18 [==============================] - 1s 33ms/step - loss: 133.2319 - val_loss: 715.7623\n",
            "Epoch 10/100\n",
            "18/18 [==============================] - ETA: 0s - loss: 126.3006"
          ]
        },
        {
          "output_type": "stream",
          "name": "stderr",
          "text": [
            "WARNING:absl:Found untraced functions such as _update_step_xla while saving (showing 1 of 1). These functions will not be directly callable after loading.\n"
          ]
        },
        {
          "output_type": "stream",
          "name": "stdout",
          "text": [
            "\b\b\b\b\b\b\b\b\b\b\b\b\b\b\b\b\b\b\b\b\b\b\b\b\b\b\b\b\b\b\b\b\b\b\b\b\b\b\b\b\b\b\b\b\b\b\b\b\b\b\b\b\b\b\b\b\b\b\b\b\b\b\b\b\b\r18/18 [==============================] - 0s 26ms/step - loss: 126.3006 - val_loss: 684.4868\n",
            "Epoch 11/100\n",
            "18/18 [==============================] - 0s 4ms/step - loss: 122.7052 - val_loss: 699.4817\n",
            "Epoch 12/100\n",
            "18/18 [==============================] - 0s 4ms/step - loss: 123.4779 - val_loss: 731.8315\n",
            "Epoch 13/100\n",
            "18/18 [==============================] - 0s 5ms/step - loss: 122.9418 - val_loss: 686.2657\n",
            "Epoch 14/100\n",
            " 1/18 [>.............................] - ETA: 0s - loss: 121.5591"
          ]
        },
        {
          "output_type": "stream",
          "name": "stderr",
          "text": [
            "WARNING:absl:Found untraced functions such as _update_step_xla while saving (showing 1 of 1). These functions will not be directly callable after loading.\n"
          ]
        },
        {
          "output_type": "stream",
          "name": "stdout",
          "text": [
            "\b\b\b\b\b\b\b\b\b\b\b\b\b\b\b\b\b\b\b\b\b\b\b\b\b\b\b\b\b\b\b\b\b\b\b\b\b\b\b\b\b\b\b\b\b\b\b\b\b\b\b\b\b\b\b\b\b\b\b\b\b\b\b\b\b\r18/18 [==============================] - 0s 27ms/step - loss: 118.0778 - val_loss: 654.2926\n",
            "Epoch 15/100\n",
            " 1/18 [>.............................] - ETA: 0s - loss: 104.1978"
          ]
        },
        {
          "output_type": "stream",
          "name": "stderr",
          "text": [
            "WARNING:absl:Found untraced functions such as _update_step_xla while saving (showing 1 of 1). These functions will not be directly callable after loading.\n"
          ]
        },
        {
          "output_type": "stream",
          "name": "stdout",
          "text": [
            "\b\b\b\b\b\b\b\b\b\b\b\b\b\b\b\b\b\b\b\b\b\b\b\b\b\b\b\b\b\b\b\b\b\b\b\b\b\b\b\b\b\b\b\b\b\b\b\b\b\b\b\b\b\b\b\b\b\b\b\b\b\b\b\b\b\r18/18 [==============================] - 0s 26ms/step - loss: 119.9526 - val_loss: 641.9713\n",
            "Epoch 16/100\n",
            "18/18 [==============================] - 0s 4ms/step - loss: 116.0274 - val_loss: 651.6033\n",
            "Epoch 17/100\n",
            "18/18 [==============================] - 0s 5ms/step - loss: 113.9139 - val_loss: 669.5067\n",
            "Epoch 18/100\n",
            " 1/18 [>.............................] - ETA: 0s - loss: 127.2179"
          ]
        },
        {
          "output_type": "stream",
          "name": "stderr",
          "text": [
            "WARNING:absl:Found untraced functions such as _update_step_xla while saving (showing 1 of 1). These functions will not be directly callable after loading.\n"
          ]
        },
        {
          "output_type": "stream",
          "name": "stdout",
          "text": [
            "\b\b\b\b\b\b\b\b\b\b\b\b\b\b\b\b\b\b\b\b\b\b\b\b\b\b\b\b\b\b\b\b\b\b\b\b\b\b\b\b\b\b\b\b\b\b\b\b\b\b\b\b\b\b\b\b\b\b\b\b\b\b\b\b\b\r18/18 [==============================] - 0s 27ms/step - loss: 114.2987 - val_loss: 607.8199\n",
            "Epoch 19/100\n",
            "18/18 [==============================] - 0s 5ms/step - loss: 114.3033 - val_loss: 690.4308\n",
            "Epoch 20/100\n",
            " 1/18 [>.............................] - ETA: 0s - loss: 129.3710"
          ]
        },
        {
          "output_type": "stream",
          "name": "stderr",
          "text": [
            "WARNING:absl:Found untraced functions such as _update_step_xla while saving (showing 1 of 1). These functions will not be directly callable after loading.\n"
          ]
        },
        {
          "output_type": "stream",
          "name": "stdout",
          "text": [
            "\b\b\b\b\b\b\b\b\b\b\b\b\b\b\b\b\b\b\b\b\b\b\b\b\b\b\b\b\b\b\b\b\b\b\b\b\b\b\b\b\b\b\b\b\b\b\b\b\b\b\b\b\b\b\b\b\b\b\b\b\b\b\b\b\b\r18/18 [==============================] - 1s 43ms/step - loss: 113.7617 - val_loss: 599.8561\n",
            "Epoch 21/100\n",
            " 1/18 [>.............................] - ETA: 0s - loss: 122.4361"
          ]
        },
        {
          "output_type": "stream",
          "name": "stderr",
          "text": [
            "WARNING:absl:Found untraced functions such as _update_step_xla while saving (showing 1 of 1). These functions will not be directly callable after loading.\n"
          ]
        },
        {
          "output_type": "stream",
          "name": "stdout",
          "text": [
            "\b\b\b\b\b\b\b\b\b\b\b\b\b\b\b\b\b\b\b\b\b\b\b\b\b\b\b\b\b\b\b\b\b\b\b\b\b\b\b\b\b\b\b\b\b\b\b\b\b\b\b\b\b\b\b\b\b\b\b\b\b\b\b\b\b\r18/18 [==============================] - 0s 26ms/step - loss: 114.2964 - val_loss: 595.7803\n",
            "Epoch 22/100\n",
            "18/18 [==============================] - 0s 5ms/step - loss: 112.8959 - val_loss: 603.3864\n",
            "Epoch 23/100\n",
            " 1/18 [>.............................] - ETA: 0s - loss: 123.6983"
          ]
        },
        {
          "output_type": "stream",
          "name": "stderr",
          "text": [
            "WARNING:absl:Found untraced functions such as _update_step_xla while saving (showing 1 of 1). These functions will not be directly callable after loading.\n"
          ]
        },
        {
          "output_type": "stream",
          "name": "stdout",
          "text": [
            "\b\b\b\b\b\b\b\b\b\b\b\b\b\b\b\b\b\b\b\b\b\b\b\b\b\b\b\b\b\b\b\b\b\b\b\b\b\b\b\b\b\b\b\b\b\b\b\b\b\b\b\b\b\b\b\b\b\b\b\b\b\b\b\b\b\r18/18 [==============================] - 0s 26ms/step - loss: 112.5093 - val_loss: 594.2841\n",
            "Epoch 24/100\n",
            "17/18 [===========================>..] - ETA: 0s - loss: 111.4226"
          ]
        },
        {
          "output_type": "stream",
          "name": "stderr",
          "text": [
            "WARNING:absl:Found untraced functions such as _update_step_xla while saving (showing 1 of 1). These functions will not be directly callable after loading.\n"
          ]
        },
        {
          "output_type": "stream",
          "name": "stdout",
          "text": [
            "\b\b\b\b\b\b\b\b\b\b\b\b\b\b\b\b\b\b\b\b\b\b\b\b\b\b\b\b\b\b\b\b\b\b\b\b\b\b\b\b\b\b\b\b\b\b\b\b\b\b\b\b\b\b\b\b\b\b\b\b\b\b\b\b\b\r18/18 [==============================] - 0s 27ms/step - loss: 110.3084 - val_loss: 593.6373\n",
            "Epoch 25/100\n",
            " 1/18 [>.............................] - ETA: 0s - loss: 122.4576"
          ]
        },
        {
          "output_type": "stream",
          "name": "stderr",
          "text": [
            "WARNING:absl:Found untraced functions such as _update_step_xla while saving (showing 1 of 1). These functions will not be directly callable after loading.\n"
          ]
        },
        {
          "output_type": "stream",
          "name": "stdout",
          "text": [
            "\b\b\b\b\b\b\b\b\b\b\b\b\b\b\b\b\b\b\b\b\b\b\b\b\b\b\b\b\b\b\b\b\b\b\b\b\b\b\b\b\b\b\b\b\b\b\b\b\b\b\b\b\b\b\b\b\b\b\b\b\b\b\b\b\b\r18/18 [==============================] - 0s 26ms/step - loss: 109.2701 - val_loss: 588.4109\n",
            "Epoch 26/100\n",
            "18/18 [==============================] - ETA: 0s - loss: 110.7002"
          ]
        },
        {
          "output_type": "stream",
          "name": "stderr",
          "text": [
            "WARNING:absl:Found untraced functions such as _update_step_xla while saving (showing 1 of 1). These functions will not be directly callable after loading.\n"
          ]
        },
        {
          "output_type": "stream",
          "name": "stdout",
          "text": [
            "\b\b\b\b\b\b\b\b\b\b\b\b\b\b\b\b\b\b\b\b\b\b\b\b\b\b\b\b\b\b\b\b\b\b\b\b\b\b\b\b\b\b\b\b\b\b\b\b\b\b\b\b\b\b\b\b\b\b\b\b\b\b\b\b\b\r18/18 [==============================] - 0s 27ms/step - loss: 110.7002 - val_loss: 581.7243\n",
            "Epoch 27/100\n",
            " 1/18 [>.............................] - ETA: 0s - loss: 149.6226"
          ]
        },
        {
          "output_type": "stream",
          "name": "stderr",
          "text": [
            "WARNING:absl:Found untraced functions such as _update_step_xla while saving (showing 1 of 1). These functions will not be directly callable after loading.\n"
          ]
        },
        {
          "output_type": "stream",
          "name": "stdout",
          "text": [
            "\b\b\b\b\b\b\b\b\b\b\b\b\b\b\b\b\b\b\b\b\b\b\b\b\b\b\b\b\b\b\b\b\b\b\b\b\b\b\b\b\b\b\b\b\b\b\b\b\b\b\b\b\b\b\b\b\b\b\b\b\b\b\b\b\b\r18/18 [==============================] - 0s 26ms/step - loss: 110.4284 - val_loss: 578.8987\n",
            "Epoch 28/100\n",
            "18/18 [==============================] - 0s 5ms/step - loss: 109.0095 - val_loss: 593.0546\n",
            "Epoch 29/100\n",
            "18/18 [==============================] - 0s 5ms/step - loss: 107.9675 - val_loss: 588.7256\n",
            "Epoch 30/100\n",
            "18/18 [==============================] - 0s 4ms/step - loss: 112.9053 - val_loss: 579.3195\n",
            "Epoch 31/100\n",
            "18/18 [==============================] - 0s 4ms/step - loss: 108.8484 - val_loss: 592.3415\n",
            "Epoch 32/100\n",
            "18/18 [==============================] - 0s 5ms/step - loss: 108.4645 - val_loss: 591.4463\n",
            "Epoch 33/100\n",
            " 1/18 [>.............................] - ETA: 0s - loss: 135.9616"
          ]
        },
        {
          "output_type": "stream",
          "name": "stderr",
          "text": [
            "WARNING:absl:Found untraced functions such as _update_step_xla while saving (showing 1 of 1). These functions will not be directly callable after loading.\n"
          ]
        },
        {
          "output_type": "stream",
          "name": "stdout",
          "text": [
            "\b\b\b\b\b\b\b\b\b\b\b\b\b\b\b\b\b\b\b\b\b\b\b\b\b\b\b\b\b\b\b\b\b\b\b\b\b\b\b\b\b\b\b\b\b\b\b\b\b\b\b\b\b\b\b\b\b\b\b\b\b\b\b\b\b\r18/18 [==============================] - 0s 26ms/step - loss: 108.3264 - val_loss: 575.1778\n",
            "Epoch 34/100\n",
            " 1/18 [>.............................] - ETA: 0s - loss: 117.8148"
          ]
        },
        {
          "output_type": "stream",
          "name": "stderr",
          "text": [
            "WARNING:absl:Found untraced functions such as _update_step_xla while saving (showing 1 of 1). These functions will not be directly callable after loading.\n"
          ]
        },
        {
          "output_type": "stream",
          "name": "stdout",
          "text": [
            "\b\b\b\b\b\b\b\b\b\b\b\b\b\b\b\b\b\b\b\b\b\b\b\b\b\b\b\b\b\b\b\b\b\b\b\b\b\b\b\b\b\b\b\b\b\b\b\b\b\b\b\b\b\b\b\b\b\b\b\b\b\b\b\b\b\r18/18 [==============================] - 0s 26ms/step - loss: 108.9151 - val_loss: 571.7115\n",
            "Epoch 35/100\n",
            "18/18 [==============================] - 0s 5ms/step - loss: 107.5734 - val_loss: 592.6513\n",
            "Epoch 36/100\n",
            "18/18 [==============================] - ETA: 0s - loss: 111.4853"
          ]
        },
        {
          "output_type": "stream",
          "name": "stderr",
          "text": [
            "WARNING:absl:Found untraced functions such as _update_step_xla while saving (showing 1 of 1). These functions will not be directly callable after loading.\n"
          ]
        },
        {
          "output_type": "stream",
          "name": "stdout",
          "text": [
            "\b\b\b\b\b\b\b\b\b\b\b\b\b\b\b\b\b\b\b\b\b\b\b\b\b\b\b\b\b\b\b\b\b\b\b\b\b\b\b\b\b\b\b\b\b\b\b\b\b\b\b\b\b\b\b\b\b\b\b\b\b\b\b\b\b\r18/18 [==============================] - 0s 26ms/step - loss: 111.4853 - val_loss: 570.6378\n",
            "Epoch 37/100\n",
            "18/18 [==============================] - 0s 5ms/step - loss: 107.5352 - val_loss: 578.3885\n",
            "Epoch 38/100\n",
            "18/18 [==============================] - 0s 4ms/step - loss: 112.7221 - val_loss: 616.4669\n",
            "Epoch 39/100\n",
            "18/18 [==============================] - 0s 5ms/step - loss: 111.7626 - val_loss: 577.2825\n",
            "Epoch 40/100\n",
            "18/18 [==============================] - 0s 5ms/step - loss: 109.7285 - val_loss: 580.1656\n",
            "Epoch 41/100\n",
            "18/18 [==============================] - 0s 5ms/step - loss: 108.1242 - val_loss: 603.5812\n",
            "Epoch 42/100\n",
            "18/18 [==============================] - 0s 5ms/step - loss: 108.9814 - val_loss: 578.2806\n",
            "Epoch 43/100\n",
            "18/18 [==============================] - 0s 4ms/step - loss: 106.7457 - val_loss: 607.6856\n",
            "Epoch 44/100\n",
            "18/18 [==============================] - 0s 4ms/step - loss: 109.9389 - val_loss: 573.2504\n",
            "Epoch 45/100\n",
            "18/18 [==============================] - 0s 5ms/step - loss: 108.5002 - val_loss: 612.9623\n",
            "Epoch 46/100\n",
            "18/18 [==============================] - 0s 5ms/step - loss: 108.5514 - val_loss: 595.7560\n",
            "Epoch 47/100\n",
            " 1/18 [>.............................] - ETA: 0s - loss: 100.4562"
          ]
        },
        {
          "output_type": "stream",
          "name": "stderr",
          "text": [
            "WARNING:absl:Found untraced functions such as _update_step_xla while saving (showing 1 of 1). These functions will not be directly callable after loading.\n"
          ]
        },
        {
          "output_type": "stream",
          "name": "stdout",
          "text": [
            "\b\b\b\b\b\b\b\b\b\b\b\b\b\b\b\b\b\b\b\b\b\b\b\b\b\b\b\b\b\b\b\b\b\b\b\b\b\b\b\b\b\b\b\b\b\b\b\b\b\b\b\b\b\b\b\b\b\b\b\b\b\b\b\b\b\r18/18 [==============================] - 0s 26ms/step - loss: 110.3567 - val_loss: 568.2172\n",
            "Epoch 48/100\n",
            "18/18 [==============================] - 0s 5ms/step - loss: 108.5969 - val_loss: 598.9358\n",
            "Epoch 49/100\n",
            " 1/18 [>.............................] - ETA: 0s - loss: 165.9805"
          ]
        },
        {
          "output_type": "stream",
          "name": "stderr",
          "text": [
            "WARNING:absl:Found untraced functions such as _update_step_xla while saving (showing 1 of 1). These functions will not be directly callable after loading.\n"
          ]
        },
        {
          "output_type": "stream",
          "name": "stdout",
          "text": [
            "\b\b\b\b\b\b\b\b\b\b\b\b\b\b\b\b\b\b\b\b\b\b\b\b\b\b\b\b\b\b\b\b\b\b\b\b\b\b\b\b\b\b\b\b\b\b\b\b\b\b\b\b\b\b\b\b\b\b\b\b\b\b\b\b\b\r18/18 [==============================] - 1s 29ms/step - loss: 110.0322 - val_loss: 566.4356\n",
            "Epoch 50/100\n",
            "18/18 [==============================] - 0s 7ms/step - loss: 110.5612 - val_loss: 625.3596\n",
            "Epoch 51/100\n",
            "18/18 [==============================] - 0s 7ms/step - loss: 109.6876 - val_loss: 578.0382\n",
            "Epoch 52/100\n",
            "15/18 [========================>.....] - ETA: 0s - loss: 114.0732"
          ]
        },
        {
          "output_type": "stream",
          "name": "stderr",
          "text": [
            "WARNING:absl:Found untraced functions such as _update_step_xla while saving (showing 1 of 1). These functions will not be directly callable after loading.\n"
          ]
        },
        {
          "output_type": "stream",
          "name": "stdout",
          "text": [
            "\b\b\b\b\b\b\b\b\b\b\b\b\b\b\b\b\b\b\b\b\b\b\b\b\b\b\b\b\b\b\b\b\b\b\b\b\b\b\b\b\b\b\b\b\b\b\b\b\b\b\b\b\b\b\b\b\b\b\b\b\b\b\b\b\b\r18/18 [==============================] - 1s 39ms/step - loss: 110.4840 - val_loss: 564.4613\n",
            "Epoch 53/100\n",
            "18/18 [==============================] - 0s 7ms/step - loss: 110.5060 - val_loss: 643.1650\n",
            "Epoch 54/100\n",
            "18/18 [==============================] - 0s 7ms/step - loss: 115.7638 - val_loss: 614.1935\n",
            "Epoch 55/100\n",
            "18/18 [==============================] - 0s 8ms/step - loss: 111.8321 - val_loss: 567.8652\n",
            "Epoch 56/100\n",
            "18/18 [==============================] - 0s 7ms/step - loss: 107.3380 - val_loss: 773.2338\n",
            "Epoch 57/100\n",
            "18/18 [==============================] - 0s 7ms/step - loss: 127.6681 - val_loss: 781.5503\n",
            "Epoch 58/100\n",
            "18/18 [==============================] - 0s 7ms/step - loss: 121.2628 - val_loss: 697.4232\n",
            "Epoch 59/100\n",
            "18/18 [==============================] - 0s 7ms/step - loss: 108.7141 - val_loss: 592.5505\n",
            "Epoch 60/100\n",
            "18/18 [==============================] - 0s 8ms/step - loss: 112.9265 - val_loss: 682.1021\n",
            "Epoch 61/100\n",
            "18/18 [==============================] - 0s 6ms/step - loss: 113.4268 - val_loss: 609.6190\n",
            "Epoch 62/100\n",
            "18/18 [==============================] - 0s 5ms/step - loss: 109.4080 - val_loss: 574.1982\n",
            "Epoch 63/100\n",
            "18/18 [==============================] - 0s 5ms/step - loss: 109.9054 - val_loss: 636.2731\n",
            "Epoch 64/100\n",
            "18/18 [==============================] - 0s 5ms/step - loss: 112.2484 - val_loss: 687.4860\n",
            "Epoch 65/100\n",
            "18/18 [==============================] - 0s 4ms/step - loss: 117.5562 - val_loss: 606.1782\n",
            "Epoch 66/100\n",
            "18/18 [==============================] - 0s 5ms/step - loss: 109.8536 - val_loss: 565.7001\n",
            "Epoch 67/100\n",
            "18/18 [==============================] - 0s 4ms/step - loss: 107.2079 - val_loss: 615.4093\n",
            "Epoch 68/100\n",
            "18/18 [==============================] - 0s 4ms/step - loss: 113.7195 - val_loss: 727.1960\n",
            "Epoch 69/100\n",
            "18/18 [==============================] - 0s 5ms/step - loss: 124.2825 - val_loss: 660.7144\n",
            "Epoch 70/100\n",
            "18/18 [==============================] - 0s 5ms/step - loss: 119.2028 - val_loss: 572.3831\n",
            "Epoch 71/100\n",
            "18/18 [==============================] - 0s 4ms/step - loss: 108.3198 - val_loss: 590.4672\n",
            "Epoch 72/100\n",
            "18/18 [==============================] - 0s 6ms/step - loss: 106.1725 - val_loss: 569.5682\n",
            "Epoch 73/100\n",
            " 1/18 [>.............................] - ETA: 0s - loss: 121.8962"
          ]
        },
        {
          "output_type": "stream",
          "name": "stderr",
          "text": [
            "WARNING:absl:Found untraced functions such as _update_step_xla while saving (showing 1 of 1). These functions will not be directly callable after loading.\n"
          ]
        },
        {
          "output_type": "stream",
          "name": "stdout",
          "text": [
            "\b\b\b\b\b\b\b\b\b\b\b\b\b\b\b\b\b\b\b\b\b\b\b\b\b\b\b\b\b\b\b\b\b\b\b\b\b\b\b\b\b\b\b\b\b\b\b\b\b\b\b\b\b\b\b\b\b\b\b\b\b\b\b\b\b\r18/18 [==============================] - 0s 27ms/step - loss: 106.1283 - val_loss: 562.1558\n",
            "Epoch 74/100\n",
            "18/18 [==============================] - 0s 5ms/step - loss: 106.4242 - val_loss: 567.1539\n",
            "Epoch 75/100\n",
            "18/18 [==============================] - 0s 6ms/step - loss: 106.7573 - val_loss: 639.2585\n",
            "Epoch 76/100\n",
            "18/18 [==============================] - 0s 4ms/step - loss: 107.8290 - val_loss: 562.9757\n",
            "Epoch 77/100\n",
            "18/18 [==============================] - 0s 6ms/step - loss: 106.3957 - val_loss: 574.1917\n",
            "Epoch 78/100\n",
            "18/18 [==============================] - 0s 5ms/step - loss: 106.0577 - val_loss: 569.1456\n",
            "Epoch 79/100\n",
            "18/18 [==============================] - 0s 5ms/step - loss: 105.7373 - val_loss: 573.8153\n",
            "Epoch 80/100\n",
            "18/18 [==============================] - 0s 5ms/step - loss: 107.3339 - val_loss: 594.2387\n",
            "Epoch 81/100\n",
            "18/18 [==============================] - 0s 5ms/step - loss: 107.0335 - val_loss: 591.9542\n",
            "Epoch 82/100\n",
            "18/18 [==============================] - 0s 5ms/step - loss: 115.3688 - val_loss: 575.3579\n",
            "Epoch 83/100\n",
            "18/18 [==============================] - 0s 4ms/step - loss: 109.0663 - val_loss: 723.1597\n",
            "Epoch 84/100\n",
            "18/18 [==============================] - 0s 4ms/step - loss: 113.8886 - val_loss: 568.4937\n",
            "Epoch 85/100\n",
            "18/18 [==============================] - 0s 5ms/step - loss: 106.8636 - val_loss: 604.8186\n",
            "Epoch 86/100\n",
            "18/18 [==============================] - 0s 4ms/step - loss: 108.3615 - val_loss: 570.7950\n",
            "Epoch 87/100\n",
            "18/18 [==============================] - 0s 4ms/step - loss: 104.9623 - val_loss: 566.4975\n",
            "Epoch 88/100\n",
            "18/18 [==============================] - 0s 4ms/step - loss: 108.3062 - val_loss: 564.0953\n",
            "Epoch 89/100\n",
            "18/18 [==============================] - 0s 5ms/step - loss: 110.9223 - val_loss: 563.5275\n",
            "Epoch 90/100\n",
            "18/18 [==============================] - 0s 5ms/step - loss: 105.1466 - val_loss: 586.2054\n",
            "Epoch 91/100\n",
            "18/18 [==============================] - 0s 4ms/step - loss: 108.1575 - val_loss: 614.5656\n",
            "Epoch 92/100\n",
            "18/18 [==============================] - 0s 5ms/step - loss: 107.2846 - val_loss: 580.5669\n",
            "Epoch 93/100\n",
            "18/18 [==============================] - 0s 5ms/step - loss: 112.5309 - val_loss: 632.8591\n",
            "Epoch 94/100\n",
            "18/18 [==============================] - 0s 5ms/step - loss: 116.4922 - val_loss: 581.0786\n",
            "Epoch 95/100\n",
            "18/18 [==============================] - 0s 5ms/step - loss: 108.0304 - val_loss: 586.9652\n",
            "Epoch 96/100\n",
            "18/18 [==============================] - 0s 4ms/step - loss: 113.0181 - val_loss: 663.0075\n",
            "Epoch 97/100\n",
            "18/18 [==============================] - 0s 5ms/step - loss: 109.8745 - val_loss: 585.2426\n",
            "Epoch 98/100\n",
            "18/18 [==============================] - 0s 5ms/step - loss: 107.4606 - val_loss: 563.9760\n",
            "Epoch 99/100\n",
            "18/18 [==============================] - 0s 5ms/step - loss: 107.9775 - val_loss: 568.2462\n",
            "Epoch 100/100\n",
            "18/18 [==============================] - 0s 4ms/step - loss: 114.0868 - val_loss: 660.4443\n"
          ]
        }
      ]
    },
    {
      "cell_type": "code",
      "source": [
        "# Evaluate model\n",
        "model_6.evaluate(X_test, y_test)"
      ],
      "metadata": {
        "colab": {
          "base_uri": "https://localhost:8080/"
        },
        "id": "pTtTGFhVM9m-",
        "outputId": "4812272e-36a1-4eb8-d14c-a43bc5761491"
      },
      "execution_count": 109,
      "outputs": [
        {
          "output_type": "stream",
          "name": "stdout",
          "text": [
            "18/18 [==============================] - 0s 2ms/step - loss: 660.4443\n"
          ]
        },
        {
          "output_type": "execute_result",
          "data": {
            "text/plain": [
              "660.4443359375"
            ]
          },
          "metadata": {},
          "execution_count": 109
        }
      ]
    },
    {
      "cell_type": "code",
      "source": [
        "# Load in and evaluate best performing model\n",
        "model_6 = tf.keras.models.load_model(\"model_experiments/model_6_dense_multivariate/\")\n",
        "model_6.evaluate(X_test, y_test)"
      ],
      "metadata": {
        "colab": {
          "base_uri": "https://localhost:8080/"
        },
        "id": "yFy_KDKKNRzo",
        "outputId": "71743ce9-906d-45c2-b534-905adb31959e"
      },
      "execution_count": 110,
      "outputs": [
        {
          "output_type": "stream",
          "name": "stdout",
          "text": [
            "18/18 [==============================] - 0s 2ms/step - loss: 562.1556\n"
          ]
        },
        {
          "output_type": "execute_result",
          "data": {
            "text/plain": [
              "562.1556396484375"
            ]
          },
          "metadata": {},
          "execution_count": 110
        }
      ]
    },
    {
      "cell_type": "code",
      "source": [
        "# Make predictions\n",
        "model_6_preds = make_preds(model_6, X_test)\n",
        "model_6_preds[:10]"
      ],
      "metadata": {
        "colab": {
          "base_uri": "https://localhost:8080/"
        },
        "id": "zbMQ0R3mNjf_",
        "outputId": "40d4c6db-f27d-4677-a8e6-05e0c7d91151"
      },
      "execution_count": 111,
      "outputs": [
        {
          "output_type": "stream",
          "name": "stdout",
          "text": [
            "18/18 [==============================] - 0s 2ms/step\n"
          ]
        },
        {
          "output_type": "execute_result",
          "data": {
            "text/plain": [
              "<tf.Tensor: shape=(10,), dtype=float32, numpy=\n",
              "array([8838.618, 8804.667, 9054.259, 8772.775, 8782.504, 8765.079,\n",
              "       8648.724, 8563.388, 8464.917, 8541.038], dtype=float32)>"
            ]
          },
          "metadata": {},
          "execution_count": 111
        }
      ]
    },
    {
      "cell_type": "code",
      "source": [
        "# Get results\n",
        "model_6_results = evaluate_preds(y_test, model_6_preds)\n",
        "model_6_results"
      ],
      "metadata": {
        "colab": {
          "base_uri": "https://localhost:8080/"
        },
        "id": "4W8CWfvdN1wL",
        "outputId": "e66ad01a-a2e6-4048-cd27-5394da10d6da"
      },
      "execution_count": 112,
      "outputs": [
        {
          "output_type": "execute_result",
          "data": {
            "text/plain": [
              "{'mae': 562.15564,\n",
              " 'mse': 1149112.4,\n",
              " 'rmse': 1071.9666,\n",
              " 'mape': 2.5223727,\n",
              " 'mase': 0.98755175}"
            ]
          },
          "metadata": {},
          "execution_count": 112
        }
      ]
    },
    {
      "cell_type": "code",
      "source": [
        "model_1_results"
      ],
      "metadata": {
        "colab": {
          "base_uri": "https://localhost:8080/"
        },
        "id": "aMq-aywBOEPW",
        "outputId": "725435e0-d8fb-4fa0-9e68-877783755f0f"
      },
      "execution_count": 113,
      "outputs": [
        {
          "output_type": "execute_result",
          "data": {
            "text/plain": [
              "{'mae': 568.7688,\n",
              " 'mse': 1160735.1,\n",
              " 'rmse': 1077.3741,\n",
              " 'mape': 2.5498853,\n",
              " 'mase': 0.99916923}"
            ]
          },
          "metadata": {},
          "execution_count": 113
        }
      ]
    },
    {
      "cell_type": "markdown",
      "source": [
        "## Model 7: N-BEATS algorithm\n",
        "\n",
        "Let's now try build the biggest baddest (though maybe not the baddest, as in, it perform really well...) time series forecasting model we've build so far.\n",
        "\n",
        "More specifically, we're going to be replicating the algorithm in Figure 1 from the following paper: https://arxiv.org/pdf/1905.10437.pdf\n",
        "\n",
        "Why?\n",
        "\n",
        "* This will allow us to practice replicating a paper with TensorFlow code\n",
        "* We will see how to use TensorFlow layer subclassing (to make our own custom layers)\n",
        "* Get experience using the Functional API to create a custom architecture\n",
        "* Potentially get state of the art results on our problem\n",
        "\n"
      ],
      "metadata": {
        "id": "__jPHgcaOGGl"
      }
    },
    {
      "cell_type": "markdown",
      "source": [
        "### Building and testing the N-BEATS block layer\n",
        "\n",
        "Because the N-BEATS block layer doesn't exist in TensorFlow. we've got to create it.\n",
        "\n",
        "To create custom layers and models in TensorFlow we can use subclassing: https://www.tensorflow.org/guide/keras/custom_layers_and_models"
      ],
      "metadata": {
        "id": "hZn70UdZm0sP"
      }
    },
    {
      "cell_type": "code",
      "source": [
        "# Create NBeatBlock custom layer\n",
        "class NBeatsBlock(tf.keras.layers.Layer):\n",
        "  def __init__(self,\n",
        "               input_size: int,\n",
        "               theta_size: int,\n",
        "               horizon: int,\n",
        "               n_neurons: int,\n",
        "               n_layers: int,\n",
        "               **kwargs): # the **kwargs\n",
        "    super().__init__(**kwargs)\n",
        "    self.input_size = input_size\n",
        "    self.theta_size = theta_size\n",
        "    self.horizon = horizon\n",
        "    self.n_neurons = n_neurons\n",
        "    self.n_layers = n_layers\n",
        "\n",
        "    # Block contains stack of 4 fully connect layers each has ReLU activation\n",
        "    self.hidden = [tf.keras.layers.Dense(n_neurons, activation=\"relu\") for _ in range(n_layers)]\n",
        "    # Output of block is a theta layer with linear activation\n",
        "    self.theta_layer = tf.keras.layers.Dense(theta_size, activation=\"linear\", name=\"theta\")\n",
        "\n",
        "  def call(self, inputs):\n",
        "    x = inputs\n",
        "    for layer in self.hidden:\n",
        "      x = layer(x)\n",
        "    theta = self.theta_layer(x)\n",
        "    # Output the backcast and forecast from theta\n",
        "    backcast, forecast = theta[:, :self.input_size], theta[:, -self.horizon:]\n",
        "    return backcast, forecast\n"
      ],
      "metadata": {
        "id": "d04Z2CXBp9-U"
      },
      "execution_count": 114,
      "outputs": []
    },
    {
      "cell_type": "markdown",
      "source": [
        "Let's test our NBeatsBlock class.\n",
        "\n",
        "To do we'll make some dummy inputs and outputs."
      ],
      "metadata": {
        "id": "nqOPJQlaxLdM"
      }
    },
    {
      "cell_type": "code",
      "source": [
        "# Set up dummy NBeatsBlock layer to represent inputs and outputs\n",
        "dummy_nbeats_block_layer = NBeatsBlock(input_size=WINDOW_SIZE,\n",
        "                                       theta_size=WINDOW_SIZE+HORIZON,\n",
        "                                       horizon=HORIZON,\n",
        "                                       n_neurons=128,\n",
        "                                       n_layers=4)"
      ],
      "metadata": {
        "id": "lBg0NzYfyPvq"
      },
      "execution_count": 115,
      "outputs": []
    },
    {
      "cell_type": "code",
      "source": [
        "# Create dummy inputs (have to be same size as input_size)\n",
        "dummy_inputs = tf.expand_dims(tf.range(WINDOW_SIZE) + 1, axis=0) # input shape to the model has to reflect dense layer input requirements (ndim=2)\n",
        "dummy_inputs"
      ],
      "metadata": {
        "colab": {
          "base_uri": "https://localhost:8080/"
        },
        "id": "hgnGNYd_zMpX",
        "outputId": "5cbffd3d-b894-4f79-988b-b66fe438c0df"
      },
      "execution_count": 116,
      "outputs": [
        {
          "output_type": "execute_result",
          "data": {
            "text/plain": [
              "<tf.Tensor: shape=(1, 7), dtype=int32, numpy=array([[1, 2, 3, 4, 5, 6, 7]], dtype=int32)>"
            ]
          },
          "metadata": {},
          "execution_count": 116
        }
      ]
    },
    {
      "cell_type": "code",
      "source": [
        "# Pass dummy inputs to dummy NBeatsBlock layer\n",
        "backcast, forecast = dummy_nbeats_block_layer(dummy_inputs)\n",
        "# These are the activation outputs of the theta layer (they'll be random due to no training of the model)\n",
        "print(f\"Backcast: {tf.squeeze(backcast.numpy())}\")\n",
        "print(f\"Forecast: {tf.squeeze(forecast.numpy())}\")\n"
      ],
      "metadata": {
        "colab": {
          "base_uri": "https://localhost:8080/"
        },
        "id": "ty7gOk-lzyD5",
        "outputId": "9b000997-869a-45c7-b908-ebac3ce0133a"
      },
      "execution_count": 117,
      "outputs": [
        {
          "output_type": "stream",
          "name": "stdout",
          "text": [
            "Backcast: [-0.17082825  0.26910704 -0.3404805   0.51380795 -0.19284269  0.26252884\n",
            "  0.12373647]\n",
            "Forecast: 0.2905566990375519\n"
          ]
        }
      ]
    },
    {
      "cell_type": "markdown",
      "source": [
        "### Preparing data for the N-BEATS algorithm using `tf.data`\n",
        "\n",
        "To make our input data load as fast as possible we're going to be adhering to the performant data pipeline steps in the tf.data guide: https://www.tensorflow.org/guide/data_performance\n",
        "\n"
      ],
      "metadata": {
        "id": "WX20c7tT0aVK"
      }
    },
    {
      "cell_type": "code",
      "source": [
        "HORIZON = 1\n",
        "WINDOW_SIZE = 7"
      ],
      "metadata": {
        "id": "VrvJyhUNRc-Q"
      },
      "execution_count": 118,
      "outputs": []
    },
    {
      "cell_type": "code",
      "source": [
        "# Create N-BEATS data inputs (N-BEATS works with univariate time series)\n"
      ],
      "metadata": {
        "id": "ijmIVIrSR6zj"
      },
      "execution_count": 119,
      "outputs": []
    },
    {
      "cell_type": "code",
      "source": [
        "# Add windowed columns\n",
        "bitcoin_prices_nbeats = bitcoin_prices.copy()\n",
        "for i in range(WINDOW_SIZE):\n",
        "  bitcoin_prices_nbeats[f\"Price+{i+1}\"] = bitcoin_prices_nbeats[\"Price\"].shift(periods=i+1)\n",
        "bitcoin_prices_nbeats.head()"
      ],
      "metadata": {
        "colab": {
          "base_uri": "https://localhost:8080/",
          "height": 238
        },
        "id": "qMf_B31US0tr",
        "outputId": "1039b340-2c76-48bd-8ab4-4a91f7a71b5a"
      },
      "execution_count": 120,
      "outputs": [
        {
          "output_type": "execute_result",
          "data": {
            "text/plain": [
              "                Price    Price+1    Price+2    Price+3    Price+4  Price+5  \\\n",
              "Date                                                                         \n",
              "2013-10-01  123.65499        NaN        NaN        NaN        NaN      NaN   \n",
              "2013-10-02  125.45500  123.65499        NaN        NaN        NaN      NaN   \n",
              "2013-10-03  108.58483  125.45500  123.65499        NaN        NaN      NaN   \n",
              "2013-10-04  118.67466  108.58483  125.45500  123.65499        NaN      NaN   \n",
              "2013-10-05  121.33866  118.67466  108.58483  125.45500  123.65499      NaN   \n",
              "\n",
              "            Price+6  Price+7  \n",
              "Date                          \n",
              "2013-10-01      NaN      NaN  \n",
              "2013-10-02      NaN      NaN  \n",
              "2013-10-03      NaN      NaN  \n",
              "2013-10-04      NaN      NaN  \n",
              "2013-10-05      NaN      NaN  "
            ],
            "text/html": [
              "\n",
              "  <div id=\"df-aa62f7c9-9a0e-4301-a5e5-c5354d946e71\">\n",
              "    <div class=\"colab-df-container\">\n",
              "      <div>\n",
              "<style scoped>\n",
              "    .dataframe tbody tr th:only-of-type {\n",
              "        vertical-align: middle;\n",
              "    }\n",
              "\n",
              "    .dataframe tbody tr th {\n",
              "        vertical-align: top;\n",
              "    }\n",
              "\n",
              "    .dataframe thead th {\n",
              "        text-align: right;\n",
              "    }\n",
              "</style>\n",
              "<table border=\"1\" class=\"dataframe\">\n",
              "  <thead>\n",
              "    <tr style=\"text-align: right;\">\n",
              "      <th></th>\n",
              "      <th>Price</th>\n",
              "      <th>Price+1</th>\n",
              "      <th>Price+2</th>\n",
              "      <th>Price+3</th>\n",
              "      <th>Price+4</th>\n",
              "      <th>Price+5</th>\n",
              "      <th>Price+6</th>\n",
              "      <th>Price+7</th>\n",
              "    </tr>\n",
              "    <tr>\n",
              "      <th>Date</th>\n",
              "      <th></th>\n",
              "      <th></th>\n",
              "      <th></th>\n",
              "      <th></th>\n",
              "      <th></th>\n",
              "      <th></th>\n",
              "      <th></th>\n",
              "      <th></th>\n",
              "    </tr>\n",
              "  </thead>\n",
              "  <tbody>\n",
              "    <tr>\n",
              "      <th>2013-10-01</th>\n",
              "      <td>123.65499</td>\n",
              "      <td>NaN</td>\n",
              "      <td>NaN</td>\n",
              "      <td>NaN</td>\n",
              "      <td>NaN</td>\n",
              "      <td>NaN</td>\n",
              "      <td>NaN</td>\n",
              "      <td>NaN</td>\n",
              "    </tr>\n",
              "    <tr>\n",
              "      <th>2013-10-02</th>\n",
              "      <td>125.45500</td>\n",
              "      <td>123.65499</td>\n",
              "      <td>NaN</td>\n",
              "      <td>NaN</td>\n",
              "      <td>NaN</td>\n",
              "      <td>NaN</td>\n",
              "      <td>NaN</td>\n",
              "      <td>NaN</td>\n",
              "    </tr>\n",
              "    <tr>\n",
              "      <th>2013-10-03</th>\n",
              "      <td>108.58483</td>\n",
              "      <td>125.45500</td>\n",
              "      <td>123.65499</td>\n",
              "      <td>NaN</td>\n",
              "      <td>NaN</td>\n",
              "      <td>NaN</td>\n",
              "      <td>NaN</td>\n",
              "      <td>NaN</td>\n",
              "    </tr>\n",
              "    <tr>\n",
              "      <th>2013-10-04</th>\n",
              "      <td>118.67466</td>\n",
              "      <td>108.58483</td>\n",
              "      <td>125.45500</td>\n",
              "      <td>123.65499</td>\n",
              "      <td>NaN</td>\n",
              "      <td>NaN</td>\n",
              "      <td>NaN</td>\n",
              "      <td>NaN</td>\n",
              "    </tr>\n",
              "    <tr>\n",
              "      <th>2013-10-05</th>\n",
              "      <td>121.33866</td>\n",
              "      <td>118.67466</td>\n",
              "      <td>108.58483</td>\n",
              "      <td>125.45500</td>\n",
              "      <td>123.65499</td>\n",
              "      <td>NaN</td>\n",
              "      <td>NaN</td>\n",
              "      <td>NaN</td>\n",
              "    </tr>\n",
              "  </tbody>\n",
              "</table>\n",
              "</div>\n",
              "      <button class=\"colab-df-convert\" onclick=\"convertToInteractive('df-aa62f7c9-9a0e-4301-a5e5-c5354d946e71')\"\n",
              "              title=\"Convert this dataframe to an interactive table.\"\n",
              "              style=\"display:none;\">\n",
              "        \n",
              "  <svg xmlns=\"http://www.w3.org/2000/svg\" height=\"24px\"viewBox=\"0 0 24 24\"\n",
              "       width=\"24px\">\n",
              "    <path d=\"M0 0h24v24H0V0z\" fill=\"none\"/>\n",
              "    <path d=\"M18.56 5.44l.94 2.06.94-2.06 2.06-.94-2.06-.94-.94-2.06-.94 2.06-2.06.94zm-11 1L8.5 8.5l.94-2.06 2.06-.94-2.06-.94L8.5 2.5l-.94 2.06-2.06.94zm10 10l.94 2.06.94-2.06 2.06-.94-2.06-.94-.94-2.06-.94 2.06-2.06.94z\"/><path d=\"M17.41 7.96l-1.37-1.37c-.4-.4-.92-.59-1.43-.59-.52 0-1.04.2-1.43.59L10.3 9.45l-7.72 7.72c-.78.78-.78 2.05 0 2.83L4 21.41c.39.39.9.59 1.41.59.51 0 1.02-.2 1.41-.59l7.78-7.78 2.81-2.81c.8-.78.8-2.07 0-2.86zM5.41 20L4 18.59l7.72-7.72 1.47 1.35L5.41 20z\"/>\n",
              "  </svg>\n",
              "      </button>\n",
              "      \n",
              "  <style>\n",
              "    .colab-df-container {\n",
              "      display:flex;\n",
              "      flex-wrap:wrap;\n",
              "      gap: 12px;\n",
              "    }\n",
              "\n",
              "    .colab-df-convert {\n",
              "      background-color: #E8F0FE;\n",
              "      border: none;\n",
              "      border-radius: 50%;\n",
              "      cursor: pointer;\n",
              "      display: none;\n",
              "      fill: #1967D2;\n",
              "      height: 32px;\n",
              "      padding: 0 0 0 0;\n",
              "      width: 32px;\n",
              "    }\n",
              "\n",
              "    .colab-df-convert:hover {\n",
              "      background-color: #E2EBFA;\n",
              "      box-shadow: 0px 1px 2px rgba(60, 64, 67, 0.3), 0px 1px 3px 1px rgba(60, 64, 67, 0.15);\n",
              "      fill: #174EA6;\n",
              "    }\n",
              "\n",
              "    [theme=dark] .colab-df-convert {\n",
              "      background-color: #3B4455;\n",
              "      fill: #D2E3FC;\n",
              "    }\n",
              "\n",
              "    [theme=dark] .colab-df-convert:hover {\n",
              "      background-color: #434B5C;\n",
              "      box-shadow: 0px 1px 3px 1px rgba(0, 0, 0, 0.15);\n",
              "      filter: drop-shadow(0px 1px 2px rgba(0, 0, 0, 0.3));\n",
              "      fill: #FFFFFF;\n",
              "    }\n",
              "  </style>\n",
              "\n",
              "      <script>\n",
              "        const buttonEl =\n",
              "          document.querySelector('#df-aa62f7c9-9a0e-4301-a5e5-c5354d946e71 button.colab-df-convert');\n",
              "        buttonEl.style.display =\n",
              "          google.colab.kernel.accessAllowed ? 'block' : 'none';\n",
              "\n",
              "        async function convertToInteractive(key) {\n",
              "          const element = document.querySelector('#df-aa62f7c9-9a0e-4301-a5e5-c5354d946e71');\n",
              "          const dataTable =\n",
              "            await google.colab.kernel.invokeFunction('convertToInteractive',\n",
              "                                                     [key], {});\n",
              "          if (!dataTable) return;\n",
              "\n",
              "          const docLinkHtml = 'Like what you see? Visit the ' +\n",
              "            '<a target=\"_blank\" href=https://colab.research.google.com/notebooks/data_table.ipynb>data table notebook</a>'\n",
              "            + ' to learn more about interactive tables.';\n",
              "          element.innerHTML = '';\n",
              "          dataTable['output_type'] = 'display_data';\n",
              "          await google.colab.output.renderOutput(dataTable, element);\n",
              "          const docLink = document.createElement('div');\n",
              "          docLink.innerHTML = docLinkHtml;\n",
              "          element.appendChild(docLink);\n",
              "        }\n",
              "      </script>\n",
              "    </div>\n",
              "  </div>\n",
              "  "
            ]
          },
          "metadata": {},
          "execution_count": 120
        }
      ]
    },
    {
      "cell_type": "code",
      "source": [
        "# Make features and labels\n",
        "X = bitcoin_prices_nbeats.dropna().drop(\"Price\", axis=1)\n",
        "y = bitcoin_prices_nbeats.dropna()[\"Price\"]\n",
        "\n",
        "# Make train and test sets\n",
        "split_size = int(len(X) * 0.8)\n",
        "X_train, y_train = X[:split_size], y[:split_size]\n",
        "X_test, y_test = X[split_size:], y[split_size:]"
      ],
      "metadata": {
        "id": "GkZTVAFxTiCj"
      },
      "execution_count": 121,
      "outputs": []
    },
    {
      "cell_type": "code",
      "source": [
        "# Time to make our dataset performant using tf.data API\n",
        "train_features_dataset = tf.data.Dataset.from_tensor_slices(X_train)\n",
        "train_labels_dataset = tf.data.Dataset.from_tensor_slices(y_train)\n",
        "\n",
        "test_features_dataset = tf.data.Dataset.from_tensor_slices(X_test)\n",
        "test_labels_dataset = tf.data.Dataset.from_tensor_slices(y_test)\n",
        "\n",
        "# Combine labels and features by zipping together -> (features, labels)\n",
        "train_dataset = tf.data.Dataset.zip((train_features_dataset, train_labels_dataset))\n",
        "test_dataset = tf.data.Dataset.zip((test_features_dataset, test_labels_dataset))\n",
        "\n",
        "# Batch and prefetch\n",
        "BATCH_SIZE = 1024\n"
      ],
      "metadata": {
        "id": "5AgOxyQZVDm5"
      },
      "execution_count": null,
      "outputs": []
    }
  ]
}