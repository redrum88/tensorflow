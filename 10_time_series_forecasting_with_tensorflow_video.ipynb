{
  "nbformat": 4,
  "nbformat_minor": 0,
  "metadata": {
    "colab": {
      "provenance": [],
      "authorship_tag": "ABX9TyOB19NcmyGpq1j9eP52aQSc",
      "include_colab_link": true
    },
    "kernelspec": {
      "name": "python3",
      "display_name": "Python 3"
    },
    "language_info": {
      "name": "python"
    },
    "accelerator": "GPU",
    "gpuClass": "standard"
  },
  "cells": [
    {
      "cell_type": "markdown",
      "metadata": {
        "id": "view-in-github",
        "colab_type": "text"
      },
      "source": [
        "<a href=\"https://colab.research.google.com/github/redrum88/tensorflow/blob/main/10_time_series_forecasting_with_tensorflow_video.ipynb\" target=\"_parent\"><img src=\"https://colab.research.google.com/assets/colab-badge.svg\" alt=\"Open In Colab\"/></a>"
      ]
    },
    {
      "cell_type": "markdown",
      "source": [
        "# Time series forecasting fundamentals with TensorFlow + Milestone Project 3: BitPredict 💰📈\n",
        "\n",
        "Let's write some TensorFlow code to predict the price of Bitcoin based on the historical price of Bitcoin.\n",
        "\n",
        "⚠️ **Note:** This is not financial advice.\n",
        "\n",
        "Links:\n",
        "* All resources: https://github.com/mrdbourke/tensorflow-deep-learning\n",
        "* Book version of actual code/text: https://dev.mrdbourke.com/tensorflow-deep-learning/10_time_series_forecasting_in_tensorflow/"
      ],
      "metadata": {
        "id": "ey-gL1ik3vdM"
      }
    },
    {
      "cell_type": "markdown",
      "source": [
        "## Get data"
      ],
      "metadata": {
        "id": "Vh9-NGJ1Loia"
      }
    },
    {
      "cell_type": "code",
      "source": [
        "!wget https://raw.githubusercontent.com/mrdbourke/tensorflow-deep-learning/main/extras/BTC_USD_2013-10-01_2021-05-18-CoinDesk.csv"
      ],
      "metadata": {
        "colab": {
          "base_uri": "https://localhost:8080/"
        },
        "id": "RVf7ux70MIyk",
        "outputId": "0c4d22bc-011c-4d32-c0f0-a8f2b777c746"
      },
      "execution_count": 1,
      "outputs": [
        {
          "output_type": "stream",
          "name": "stdout",
          "text": [
            "--2023-03-06 20:16:46--  https://raw.githubusercontent.com/mrdbourke/tensorflow-deep-learning/main/extras/BTC_USD_2013-10-01_2021-05-18-CoinDesk.csv\n",
            "Resolving raw.githubusercontent.com (raw.githubusercontent.com)... 185.199.108.133, 185.199.109.133, 185.199.110.133, ...\n",
            "Connecting to raw.githubusercontent.com (raw.githubusercontent.com)|185.199.108.133|:443... connected.\n",
            "HTTP request sent, awaiting response... 200 OK\n",
            "Length: 178509 (174K) [text/plain]\n",
            "Saving to: ‘BTC_USD_2013-10-01_2021-05-18-CoinDesk.csv’\n",
            "\n",
            "BTC_USD_2013-10-01_ 100%[===================>] 174.33K  --.-KB/s    in 0.01s   \n",
            "\n",
            "2023-03-06 20:16:46 (15.5 MB/s) - ‘BTC_USD_2013-10-01_2021-05-18-CoinDesk.csv’ saved [178509/178509]\n",
            "\n"
          ]
        }
      ]
    },
    {
      "cell_type": "markdown",
      "source": [
        "## Importing time series with pandas"
      ],
      "metadata": {
        "id": "Ku7JJi7vQehf"
      }
    },
    {
      "cell_type": "code",
      "source": [
        "# Import with pandas\n",
        "import pandas as pd\n",
        "# Let's read in our Bitcoin data and parse the dates\n",
        "df = pd.read_csv(\"/content/BTC_USD_2013-10-01_2021-05-18-CoinDesk.csv\",\n",
        "                 parse_dates=[\"Date\"],\n",
        "                 index_col=[\"Date\"])\n",
        "df.head()"
      ],
      "metadata": {
        "colab": {
          "base_uri": "https://localhost:8080/",
          "height": 238
        },
        "id": "gmH5iJVzQi5i",
        "outputId": "7348254a-66e0-46d8-98bf-df8db33542d0"
      },
      "execution_count": 2,
      "outputs": [
        {
          "output_type": "execute_result",
          "data": {
            "text/plain": [
              "           Currency  Closing Price (USD)  24h Open (USD)  24h High (USD)  \\\n",
              "Date                                                                       \n",
              "2013-10-01      BTC            123.65499       124.30466       124.75166   \n",
              "2013-10-02      BTC            125.45500       123.65499       125.75850   \n",
              "2013-10-03      BTC            108.58483       125.45500       125.66566   \n",
              "2013-10-04      BTC            118.67466       108.58483       118.67500   \n",
              "2013-10-05      BTC            121.33866       118.67466       121.93633   \n",
              "\n",
              "            24h Low (USD)  \n",
              "Date                       \n",
              "2013-10-01      122.56349  \n",
              "2013-10-02      123.63383  \n",
              "2013-10-03       83.32833  \n",
              "2013-10-04      107.05816  \n",
              "2013-10-05      118.00566  "
            ],
            "text/html": [
              "\n",
              "  <div id=\"df-e2a5a2f4-67b9-4fa2-9d28-918ba94846e0\">\n",
              "    <div class=\"colab-df-container\">\n",
              "      <div>\n",
              "<style scoped>\n",
              "    .dataframe tbody tr th:only-of-type {\n",
              "        vertical-align: middle;\n",
              "    }\n",
              "\n",
              "    .dataframe tbody tr th {\n",
              "        vertical-align: top;\n",
              "    }\n",
              "\n",
              "    .dataframe thead th {\n",
              "        text-align: right;\n",
              "    }\n",
              "</style>\n",
              "<table border=\"1\" class=\"dataframe\">\n",
              "  <thead>\n",
              "    <tr style=\"text-align: right;\">\n",
              "      <th></th>\n",
              "      <th>Currency</th>\n",
              "      <th>Closing Price (USD)</th>\n",
              "      <th>24h Open (USD)</th>\n",
              "      <th>24h High (USD)</th>\n",
              "      <th>24h Low (USD)</th>\n",
              "    </tr>\n",
              "    <tr>\n",
              "      <th>Date</th>\n",
              "      <th></th>\n",
              "      <th></th>\n",
              "      <th></th>\n",
              "      <th></th>\n",
              "      <th></th>\n",
              "    </tr>\n",
              "  </thead>\n",
              "  <tbody>\n",
              "    <tr>\n",
              "      <th>2013-10-01</th>\n",
              "      <td>BTC</td>\n",
              "      <td>123.65499</td>\n",
              "      <td>124.30466</td>\n",
              "      <td>124.75166</td>\n",
              "      <td>122.56349</td>\n",
              "    </tr>\n",
              "    <tr>\n",
              "      <th>2013-10-02</th>\n",
              "      <td>BTC</td>\n",
              "      <td>125.45500</td>\n",
              "      <td>123.65499</td>\n",
              "      <td>125.75850</td>\n",
              "      <td>123.63383</td>\n",
              "    </tr>\n",
              "    <tr>\n",
              "      <th>2013-10-03</th>\n",
              "      <td>BTC</td>\n",
              "      <td>108.58483</td>\n",
              "      <td>125.45500</td>\n",
              "      <td>125.66566</td>\n",
              "      <td>83.32833</td>\n",
              "    </tr>\n",
              "    <tr>\n",
              "      <th>2013-10-04</th>\n",
              "      <td>BTC</td>\n",
              "      <td>118.67466</td>\n",
              "      <td>108.58483</td>\n",
              "      <td>118.67500</td>\n",
              "      <td>107.05816</td>\n",
              "    </tr>\n",
              "    <tr>\n",
              "      <th>2013-10-05</th>\n",
              "      <td>BTC</td>\n",
              "      <td>121.33866</td>\n",
              "      <td>118.67466</td>\n",
              "      <td>121.93633</td>\n",
              "      <td>118.00566</td>\n",
              "    </tr>\n",
              "  </tbody>\n",
              "</table>\n",
              "</div>\n",
              "      <button class=\"colab-df-convert\" onclick=\"convertToInteractive('df-e2a5a2f4-67b9-4fa2-9d28-918ba94846e0')\"\n",
              "              title=\"Convert this dataframe to an interactive table.\"\n",
              "              style=\"display:none;\">\n",
              "        \n",
              "  <svg xmlns=\"http://www.w3.org/2000/svg\" height=\"24px\"viewBox=\"0 0 24 24\"\n",
              "       width=\"24px\">\n",
              "    <path d=\"M0 0h24v24H0V0z\" fill=\"none\"/>\n",
              "    <path d=\"M18.56 5.44l.94 2.06.94-2.06 2.06-.94-2.06-.94-.94-2.06-.94 2.06-2.06.94zm-11 1L8.5 8.5l.94-2.06 2.06-.94-2.06-.94L8.5 2.5l-.94 2.06-2.06.94zm10 10l.94 2.06.94-2.06 2.06-.94-2.06-.94-.94-2.06-.94 2.06-2.06.94z\"/><path d=\"M17.41 7.96l-1.37-1.37c-.4-.4-.92-.59-1.43-.59-.52 0-1.04.2-1.43.59L10.3 9.45l-7.72 7.72c-.78.78-.78 2.05 0 2.83L4 21.41c.39.39.9.59 1.41.59.51 0 1.02-.2 1.41-.59l7.78-7.78 2.81-2.81c.8-.78.8-2.07 0-2.86zM5.41 20L4 18.59l7.72-7.72 1.47 1.35L5.41 20z\"/>\n",
              "  </svg>\n",
              "      </button>\n",
              "      \n",
              "  <style>\n",
              "    .colab-df-container {\n",
              "      display:flex;\n",
              "      flex-wrap:wrap;\n",
              "      gap: 12px;\n",
              "    }\n",
              "\n",
              "    .colab-df-convert {\n",
              "      background-color: #E8F0FE;\n",
              "      border: none;\n",
              "      border-radius: 50%;\n",
              "      cursor: pointer;\n",
              "      display: none;\n",
              "      fill: #1967D2;\n",
              "      height: 32px;\n",
              "      padding: 0 0 0 0;\n",
              "      width: 32px;\n",
              "    }\n",
              "\n",
              "    .colab-df-convert:hover {\n",
              "      background-color: #E2EBFA;\n",
              "      box-shadow: 0px 1px 2px rgba(60, 64, 67, 0.3), 0px 1px 3px 1px rgba(60, 64, 67, 0.15);\n",
              "      fill: #174EA6;\n",
              "    }\n",
              "\n",
              "    [theme=dark] .colab-df-convert {\n",
              "      background-color: #3B4455;\n",
              "      fill: #D2E3FC;\n",
              "    }\n",
              "\n",
              "    [theme=dark] .colab-df-convert:hover {\n",
              "      background-color: #434B5C;\n",
              "      box-shadow: 0px 1px 3px 1px rgba(0, 0, 0, 0.15);\n",
              "      filter: drop-shadow(0px 1px 2px rgba(0, 0, 0, 0.3));\n",
              "      fill: #FFFFFF;\n",
              "    }\n",
              "  </style>\n",
              "\n",
              "      <script>\n",
              "        const buttonEl =\n",
              "          document.querySelector('#df-e2a5a2f4-67b9-4fa2-9d28-918ba94846e0 button.colab-df-convert');\n",
              "        buttonEl.style.display =\n",
              "          google.colab.kernel.accessAllowed ? 'block' : 'none';\n",
              "\n",
              "        async function convertToInteractive(key) {\n",
              "          const element = document.querySelector('#df-e2a5a2f4-67b9-4fa2-9d28-918ba94846e0');\n",
              "          const dataTable =\n",
              "            await google.colab.kernel.invokeFunction('convertToInteractive',\n",
              "                                                     [key], {});\n",
              "          if (!dataTable) return;\n",
              "\n",
              "          const docLinkHtml = 'Like what you see? Visit the ' +\n",
              "            '<a target=\"_blank\" href=https://colab.research.google.com/notebooks/data_table.ipynb>data table notebook</a>'\n",
              "            + ' to learn more about interactive tables.';\n",
              "          element.innerHTML = '';\n",
              "          dataTable['output_type'] = 'display_data';\n",
              "          await google.colab.output.renderOutput(dataTable, element);\n",
              "          const docLink = document.createElement('div');\n",
              "          docLink.innerHTML = docLinkHtml;\n",
              "          element.appendChild(docLink);\n",
              "        }\n",
              "      </script>\n",
              "    </div>\n",
              "  </div>\n",
              "  "
            ]
          },
          "metadata": {},
          "execution_count": 2
        }
      ]
    },
    {
      "cell_type": "code",
      "source": [
        "df.info()"
      ],
      "metadata": {
        "colab": {
          "base_uri": "https://localhost:8080/"
        },
        "id": "-YECFPH0RXuw",
        "outputId": "6f3cc307-77ca-49de-f2a1-286a2ec57dbe"
      },
      "execution_count": 3,
      "outputs": [
        {
          "output_type": "stream",
          "name": "stdout",
          "text": [
            "<class 'pandas.core.frame.DataFrame'>\n",
            "DatetimeIndex: 2787 entries, 2013-10-01 to 2021-05-18\n",
            "Data columns (total 5 columns):\n",
            " #   Column               Non-Null Count  Dtype  \n",
            "---  ------               --------------  -----  \n",
            " 0   Currency             2787 non-null   object \n",
            " 1   Closing Price (USD)  2787 non-null   float64\n",
            " 2   24h Open (USD)       2787 non-null   float64\n",
            " 3   24h High (USD)       2787 non-null   float64\n",
            " 4   24h Low (USD)        2787 non-null   float64\n",
            "dtypes: float64(4), object(1)\n",
            "memory usage: 130.6+ KB\n"
          ]
        }
      ]
    },
    {
      "cell_type": "markdown",
      "source": [
        "We've collected the historical price of Bitcoin for the past 8 years but there's 2787 samples.\n",
        "\n",
        "Typically deep learning models usually like lots and lots and lots of samples.\n",
        "\n",
        "A smaller number of samples is something you'll often run into  with time series data problems. \n",
        "\n",
        "> 🔑 **Note:** The **seasonality** of time series dataset is referred as the number of samples per year. So for our Bitcoin data, it has a seasonality of daily or value of 365 because we collect one sample per day meaning we'll get 365 samples per year.\n",
        "\n"
      ],
      "metadata": {
        "id": "S-BegIE8RdkB"
      }
    },
    {
      "cell_type": "code",
      "source": [
        "# Only want closing price for each day\n",
        "bitcoin_prices = pd.DataFrame(df[\"Closing Price (USD)\"]).rename(columns={\"Closing Price (USD)\": \"Price\"})\n",
        "bitcoin_prices.head()"
      ],
      "metadata": {
        "colab": {
          "base_uri": "https://localhost:8080/",
          "height": 238
        },
        "id": "DQSLlynVWCjR",
        "outputId": "f7310115-909f-455e-f60f-91c1b379117d"
      },
      "execution_count": 4,
      "outputs": [
        {
          "output_type": "execute_result",
          "data": {
            "text/plain": [
              "                Price\n",
              "Date                 \n",
              "2013-10-01  123.65499\n",
              "2013-10-02  125.45500\n",
              "2013-10-03  108.58483\n",
              "2013-10-04  118.67466\n",
              "2013-10-05  121.33866"
            ],
            "text/html": [
              "\n",
              "  <div id=\"df-36ace42e-710b-488e-a466-fbfbe354d4a4\">\n",
              "    <div class=\"colab-df-container\">\n",
              "      <div>\n",
              "<style scoped>\n",
              "    .dataframe tbody tr th:only-of-type {\n",
              "        vertical-align: middle;\n",
              "    }\n",
              "\n",
              "    .dataframe tbody tr th {\n",
              "        vertical-align: top;\n",
              "    }\n",
              "\n",
              "    .dataframe thead th {\n",
              "        text-align: right;\n",
              "    }\n",
              "</style>\n",
              "<table border=\"1\" class=\"dataframe\">\n",
              "  <thead>\n",
              "    <tr style=\"text-align: right;\">\n",
              "      <th></th>\n",
              "      <th>Price</th>\n",
              "    </tr>\n",
              "    <tr>\n",
              "      <th>Date</th>\n",
              "      <th></th>\n",
              "    </tr>\n",
              "  </thead>\n",
              "  <tbody>\n",
              "    <tr>\n",
              "      <th>2013-10-01</th>\n",
              "      <td>123.65499</td>\n",
              "    </tr>\n",
              "    <tr>\n",
              "      <th>2013-10-02</th>\n",
              "      <td>125.45500</td>\n",
              "    </tr>\n",
              "    <tr>\n",
              "      <th>2013-10-03</th>\n",
              "      <td>108.58483</td>\n",
              "    </tr>\n",
              "    <tr>\n",
              "      <th>2013-10-04</th>\n",
              "      <td>118.67466</td>\n",
              "    </tr>\n",
              "    <tr>\n",
              "      <th>2013-10-05</th>\n",
              "      <td>121.33866</td>\n",
              "    </tr>\n",
              "  </tbody>\n",
              "</table>\n",
              "</div>\n",
              "      <button class=\"colab-df-convert\" onclick=\"convertToInteractive('df-36ace42e-710b-488e-a466-fbfbe354d4a4')\"\n",
              "              title=\"Convert this dataframe to an interactive table.\"\n",
              "              style=\"display:none;\">\n",
              "        \n",
              "  <svg xmlns=\"http://www.w3.org/2000/svg\" height=\"24px\"viewBox=\"0 0 24 24\"\n",
              "       width=\"24px\">\n",
              "    <path d=\"M0 0h24v24H0V0z\" fill=\"none\"/>\n",
              "    <path d=\"M18.56 5.44l.94 2.06.94-2.06 2.06-.94-2.06-.94-.94-2.06-.94 2.06-2.06.94zm-11 1L8.5 8.5l.94-2.06 2.06-.94-2.06-.94L8.5 2.5l-.94 2.06-2.06.94zm10 10l.94 2.06.94-2.06 2.06-.94-2.06-.94-.94-2.06-.94 2.06-2.06.94z\"/><path d=\"M17.41 7.96l-1.37-1.37c-.4-.4-.92-.59-1.43-.59-.52 0-1.04.2-1.43.59L10.3 9.45l-7.72 7.72c-.78.78-.78 2.05 0 2.83L4 21.41c.39.39.9.59 1.41.59.51 0 1.02-.2 1.41-.59l7.78-7.78 2.81-2.81c.8-.78.8-2.07 0-2.86zM5.41 20L4 18.59l7.72-7.72 1.47 1.35L5.41 20z\"/>\n",
              "  </svg>\n",
              "      </button>\n",
              "      \n",
              "  <style>\n",
              "    .colab-df-container {\n",
              "      display:flex;\n",
              "      flex-wrap:wrap;\n",
              "      gap: 12px;\n",
              "    }\n",
              "\n",
              "    .colab-df-convert {\n",
              "      background-color: #E8F0FE;\n",
              "      border: none;\n",
              "      border-radius: 50%;\n",
              "      cursor: pointer;\n",
              "      display: none;\n",
              "      fill: #1967D2;\n",
              "      height: 32px;\n",
              "      padding: 0 0 0 0;\n",
              "      width: 32px;\n",
              "    }\n",
              "\n",
              "    .colab-df-convert:hover {\n",
              "      background-color: #E2EBFA;\n",
              "      box-shadow: 0px 1px 2px rgba(60, 64, 67, 0.3), 0px 1px 3px 1px rgba(60, 64, 67, 0.15);\n",
              "      fill: #174EA6;\n",
              "    }\n",
              "\n",
              "    [theme=dark] .colab-df-convert {\n",
              "      background-color: #3B4455;\n",
              "      fill: #D2E3FC;\n",
              "    }\n",
              "\n",
              "    [theme=dark] .colab-df-convert:hover {\n",
              "      background-color: #434B5C;\n",
              "      box-shadow: 0px 1px 3px 1px rgba(0, 0, 0, 0.15);\n",
              "      filter: drop-shadow(0px 1px 2px rgba(0, 0, 0, 0.3));\n",
              "      fill: #FFFFFF;\n",
              "    }\n",
              "  </style>\n",
              "\n",
              "      <script>\n",
              "        const buttonEl =\n",
              "          document.querySelector('#df-36ace42e-710b-488e-a466-fbfbe354d4a4 button.colab-df-convert');\n",
              "        buttonEl.style.display =\n",
              "          google.colab.kernel.accessAllowed ? 'block' : 'none';\n",
              "\n",
              "        async function convertToInteractive(key) {\n",
              "          const element = document.querySelector('#df-36ace42e-710b-488e-a466-fbfbe354d4a4');\n",
              "          const dataTable =\n",
              "            await google.colab.kernel.invokeFunction('convertToInteractive',\n",
              "                                                     [key], {});\n",
              "          if (!dataTable) return;\n",
              "\n",
              "          const docLinkHtml = 'Like what you see? Visit the ' +\n",
              "            '<a target=\"_blank\" href=https://colab.research.google.com/notebooks/data_table.ipynb>data table notebook</a>'\n",
              "            + ' to learn more about interactive tables.';\n",
              "          element.innerHTML = '';\n",
              "          dataTable['output_type'] = 'display_data';\n",
              "          await google.colab.output.renderOutput(dataTable, element);\n",
              "          const docLink = document.createElement('div');\n",
              "          docLink.innerHTML = docLinkHtml;\n",
              "          element.appendChild(docLink);\n",
              "        }\n",
              "      </script>\n",
              "    </div>\n",
              "  </div>\n",
              "  "
            ]
          },
          "metadata": {},
          "execution_count": 4
        }
      ]
    },
    {
      "cell_type": "code",
      "source": [
        "import matplotlib.pyplot as plt\n",
        "bitcoin_prices.plot(figsize=(10, 7))\n",
        "plt.ylabel(\"BTC Price\")\n",
        "plt.title(\"Price of Bitcoin from 1 Oct 2013 to 18 May 2021\", fontsize=16)\n",
        "plt.legend(fontsize=14);"
      ],
      "metadata": {
        "colab": {
          "base_uri": "https://localhost:8080/",
          "height": 460
        },
        "id": "PaEdsJDZYYi-",
        "outputId": "3ed4e6fa-5c3c-4f22-bdba-d57a6bbdaa62"
      },
      "execution_count": 5,
      "outputs": [
        {
          "output_type": "display_data",
          "data": {
            "text/plain": [
              "<Figure size 720x504 with 1 Axes>"
            ],
            "image/png": "[encoded data removed]"
          },
          "metadata": {
            "needs_background": "light"
          }
        }
      ]
    },
    {
      "cell_type": "markdown",
      "source": [
        "## Importing time series data with Python's CSV module"
      ],
      "metadata": {
        "id": "P27gftsAYpTr"
      }
    },
    {
      "cell_type": "code",
      "source": [
        "# Importing and formatting historical Bitcoin data with Python\n",
        "import csv\n",
        "from datetime import datetime\n",
        "timesteps = []\n",
        "btc_price = []\n",
        "with open(\"/content/BTC_USD_2013-10-01_2021-05-18-CoinDesk.csv\", \"r\") as f:\n",
        "  csv_reader = csv.reader(f, delimiter=\",\")\n",
        "  next(csv_reader) # skip first line (this gets rid of the column titles)\n",
        "  for line in csv_reader:\n",
        "    timesteps.append(datetime.strptime(line[1], \"%Y-%m-%d\")) # get the dates as dates (not strings)\n",
        "    btc_price.append(float(line[2])) # get the closing price as float\n",
        "\n",
        "# View first 10 of each\n",
        "timesteps[:10], btc_price[:10]"
      ],
      "metadata": {
        "colab": {
          "base_uri": "https://localhost:8080/"
        },
        "id": "fcN6upkkZivz",
        "outputId": "c7a2512d-8338-449a-af47-873ee027b20c"
      },
      "execution_count": 6,
      "outputs": [
        {
          "output_type": "execute_result",
          "data": {
            "text/plain": [
              "([datetime.datetime(2013, 10, 1, 0, 0),\n",
              "  datetime.datetime(2013, 10, 2, 0, 0),\n",
              "  datetime.datetime(2013, 10, 3, 0, 0),\n",
              "  datetime.datetime(2013, 10, 4, 0, 0),\n",
              "  datetime.datetime(2013, 10, 5, 0, 0),\n",
              "  datetime.datetime(2013, 10, 6, 0, 0),\n",
              "  datetime.datetime(2013, 10, 7, 0, 0),\n",
              "  datetime.datetime(2013, 10, 8, 0, 0),\n",
              "  datetime.datetime(2013, 10, 9, 0, 0),\n",
              "  datetime.datetime(2013, 10, 10, 0, 0)],\n",
              " [123.65499,\n",
              "  125.455,\n",
              "  108.58483,\n",
              "  118.67466,\n",
              "  121.33866,\n",
              "  120.65533,\n",
              "  121.795,\n",
              "  123.033,\n",
              "  124.049,\n",
              "  125.96116])"
            ]
          },
          "metadata": {},
          "execution_count": 6
        }
      ]
    },
    {
      "cell_type": "code",
      "source": [
        "# Plot from CSV\n",
        "import matplotlib.pyplot as plt\n",
        "import numpy as np\n",
        "plt.figure(figsize=(10, 7))\n",
        "plt.plot(timesteps,\n",
        "         btc_price)\n",
        "plt.ylabel(\"BTC Price\")\n",
        "plt.title(\"Price of Bitcoin from 1 Oct 2013 to 18  May 2021\", fontsize=16)\n",
        "plt.xlabel(\"Date\");\n"
      ],
      "metadata": {
        "colab": {
          "base_uri": "https://localhost:8080/",
          "height": 460
        },
        "id": "oB6we76VVjzP",
        "outputId": "e154c3ed-1e7f-4c6d-b931-1dffc64271df"
      },
      "execution_count": 7,
      "outputs": [
        {
          "output_type": "display_data",
          "data": {
            "text/plain": [
              "<Figure size 720x504 with 1 Axes>"
            ],
            "image/png": "[encoded data removed]"
          },
          "metadata": {
            "needs_background": "light"
          }
        }
      ]
    },
    {
      "cell_type": "markdown",
      "source": [
        "## Format data part 1: Create train and test sets of our time series data"
      ],
      "metadata": {
        "id": "Sp-LSHJeZ8sb"
      }
    },
    {
      "cell_type": "markdown",
      "source": [
        "### Creating train and test sets with time series data (the wrong way)"
      ],
      "metadata": {
        "id": "ab3StFjojfDF"
      }
    },
    {
      "cell_type": "code",
      "source": [
        "# Get bitcoin data array\n",
        "timesteps = bitcoin_prices.index.to_numpy()\n",
        "prices = bitcoin_prices[\"Price\"].to_numpy()\n",
        "\n",
        "timesteps[:10], prices[:10]"
      ],
      "metadata": {
        "colab": {
          "base_uri": "https://localhost:8080/"
        },
        "id": "7EHIwEO53v2X",
        "outputId": "7367aec0-5048-4fba-d676-1afb7187a274"
      },
      "execution_count": 8,
      "outputs": [
        {
          "output_type": "execute_result",
          "data": {
            "text/plain": [
              "(array(['2013-10-01T00:00:00.000000000', '2013-10-02T00:00:00.000000000',\n",
              "        '2013-10-03T00:00:00.000000000', '2013-10-04T00:00:00.000000000',\n",
              "        '2013-10-05T00:00:00.000000000', '2013-10-06T00:00:00.000000000',\n",
              "        '2013-10-07T00:00:00.000000000', '2013-10-08T00:00:00.000000000',\n",
              "        '2013-10-09T00:00:00.000000000', '2013-10-10T00:00:00.000000000'],\n",
              "       dtype='datetime64[ns]'),\n",
              " array([123.65499, 125.455  , 108.58483, 118.67466, 121.33866, 120.65533,\n",
              "        121.795  , 123.033  , 124.049  , 125.96116]))"
            ]
          },
          "metadata": {},
          "execution_count": 8
        }
      ]
    },
    {
      "cell_type": "code",
      "source": [
        "# Wrong way to make train/test sets for timeseries data\n",
        "from sklearn.model_selection import train_test_split\n",
        "X_train, X_test, y_train, y_test = train_test_split(timesteps,\n",
        "                                                    prices,\n",
        "                                                    test_size=0.2,\n",
        "                                                    random_state=42)\n",
        "\n",
        "X_train.shape, X_test.shape, y_train.shape, y_test.shape"
      ],
      "metadata": {
        "colab": {
          "base_uri": "https://localhost:8080/"
        },
        "id": "3evwJFp44OSM",
        "outputId": "eba18bd9-f94f-4a27-de95-1d192196486b"
      },
      "execution_count": 9,
      "outputs": [
        {
          "output_type": "execute_result",
          "data": {
            "text/plain": [
              "((2229,), (558,), (2229,), (558,))"
            ]
          },
          "metadata": {},
          "execution_count": 9
        }
      ]
    },
    {
      "cell_type": "code",
      "source": [
        "# Let's plot wrong train and test splits\n",
        "plt.figure(figsize=(10, 7))\n",
        "plt.scatter(X_train, y_train, s=5, label=\"Train data\")\n",
        "plt.scatter(X_test, y_test, s=5, label=\"Test data\")\n",
        "plt.xlabel(\"Date\")\n",
        "plt.ylabel(\"BTC Price\")\n",
        "plt.legend(fontsize=14)\n",
        "plt.show();"
      ],
      "metadata": {
        "colab": {
          "base_uri": "https://localhost:8080/",
          "height": 442
        },
        "id": "aUWYnN-p5Io7",
        "outputId": "d9acf65a-97ba-4025-d20a-4954e4e63714"
      },
      "execution_count": 10,
      "outputs": [
        {
          "output_type": "display_data",
          "data": {
            "text/plain": [
              "<Figure size 720x504 with 1 Axes>"
            ],
            "image/png": "[encoded data removed]"
          },
          "metadata": {
            "needs_background": "light"
          }
        }
      ]
    },
    {
      "cell_type": "markdown",
      "source": [
        "### Create train & test sets for time series (the right way)\n"
      ],
      "metadata": {
        "id": "Bk9_ivJJ9yss"
      }
    },
    {
      "cell_type": "code",
      "source": [
        "# Create train and test splits the right way for time series data\n",
        "split_size = int(0.8 * len(prices)) # 80% train, 20% test\n",
        "\n",
        "# Create train data splits (everything before the split)\n",
        "X_train, y_train = timesteps[:split_size], prices[:split_size]\n",
        "\n",
        "# Create test data splits\n",
        "X_test, y_test = timesteps[split_size:], prices[split_size:]\n",
        "\n",
        "len(X_train), len(X_test), len(y_train), len(y_test)"
      ],
      "metadata": {
        "colab": {
          "base_uri": "https://localhost:8080/"
        },
        "id": "8NPn1MQ7Dakn",
        "outputId": "5026cad4-aacd-4def-d22a-6625f865e93b"
      },
      "execution_count": 11,
      "outputs": [
        {
          "output_type": "execute_result",
          "data": {
            "text/plain": [
              "(2229, 558, 2229, 558)"
            ]
          },
          "metadata": {},
          "execution_count": 11
        }
      ]
    },
    {
      "cell_type": "code",
      "source": [
        "# Plot correctly made splits\n",
        "plt.figure(figsize=(10, 7))\n",
        "plt.scatter(X_train, y_train, s=5, label=\"Train data\")\n",
        "plt.scatter(X_test, y_test, s=5, label=\"Test data\")\n",
        "plt.xlabel(\"Date\")\n",
        "plt.ylabel(\"BTC Price\")\n",
        "plt.legend(fontsize=14)\n",
        "plt.show();"
      ],
      "metadata": {
        "colab": {
          "base_uri": "https://localhost:8080/",
          "height": 442
        },
        "id": "XOYDUY6kEz_Z",
        "outputId": "be42e008-31a4-46f5-d0e2-c22b6ea3f789"
      },
      "execution_count": 12,
      "outputs": [
        {
          "output_type": "display_data",
          "data": {
            "text/plain": [
              "<Figure size 720x504 with 1 Axes>"
            ],
            "image/png": "[encoded data removed]"
          },
          "metadata": {
            "needs_background": "light"
          }
        }
      ]
    },
    {
      "cell_type": "markdown",
      "source": [
        "## Create a plotting function\n",
        "\n",
        "Typing plotting code is tedious, let's functionize it."
      ],
      "metadata": {
        "id": "rLNYDI53FILe"
      }
    },
    {
      "cell_type": "code",
      "source": [
        "# Create a function to plot time series data\n",
        "def plot_time_series(timesteps, values, format=\".\", start=0, end=None, label=None):\n",
        "  \"\"\"\n",
        "  Plots timesteps (a series of points in time) against values (a series of values across timesteps).\n",
        "\n",
        "  Parameters\n",
        "  ----------\n",
        "  timesteps : array of timestep values\n",
        "  values : array of values across time\n",
        "  format : style of plot, default \".\"\n",
        "  start : where to start the plot (setting a value will index from start of timesteps & values)\n",
        "  end : where to end the plot (similar to start but for the end)\n",
        "  label : label to show on plot about values, default None\n",
        "  \"\"\"\n",
        "  # Plot the series\n",
        "  plt.plot(timesteps[start:end], values[start:end], format, label=label)\n",
        "  plt.xlabel(\"Time\")\n",
        "  plt.ylabel(\"BTC Price\")\n",
        "  if label:\n",
        "    plt.legend(fontsize=14) # make label bigger\n",
        "  plt.grid(True)"
      ],
      "metadata": {
        "id": "CQvE85GEMtSW"
      },
      "execution_count": 13,
      "outputs": []
    },
    {
      "cell_type": "code",
      "source": [
        "# Test out plotting function\n",
        "plt.figure(figsize=(10, 7))\n",
        "plot_time_series(timesteps=X_train, values=y_train, label=\"Train data\")\n",
        "plot_time_series(timesteps=X_test, values=y_test, label=\"Test Data\")"
      ],
      "metadata": {
        "colab": {
          "base_uri": "https://localhost:8080/",
          "height": 442
        },
        "id": "Wid1KY0uQ4tB",
        "outputId": "148a5ce6-1f9b-4601-88b1-65cfe9c9bc79"
      },
      "execution_count": 14,
      "outputs": [
        {
          "output_type": "display_data",
          "data": {
            "text/plain": [
              "<Figure size 720x504 with 1 Axes>"
            ],
            "image/png": "[encoded data removed]"
          },
          "metadata": {
            "needs_background": "light"
          }
        }
      ]
    },
    {
      "cell_type": "markdown",
      "source": [
        "## Modelling Experiments\n",
        "\n",
        "We've got some Bitcoin historical data, to model it, let's run a series of modelling experiments and see which model performs best.\n",
        "\n",
        "Terms to be familiar with:\n",
        "* **Horizon** = number of timesteps into the future we're going to predict\n",
        "* **Window size** = number of timesteps we're going to use to predict horizon\n",
        "\n",
        "Modelling experiments we're running:\n",
        "* 0 Naive model (baseline)\n",
        "* 1 Dense model, horizon = 1, window = 7\n",
        "* 2 Same as 1, horizon = 1, window = 30\n",
        "* 3 Same as 1, horizon = 7, window = 30\n",
        "* 4 Conv1D\n",
        "* 5 LSTM\n",
        "* 6 Same as 1 (but with multivariate data)\n",
        "* 7 N-BEATs Algorithm\n",
        "* 8 Ensemble (multiple models optimized on different loss functions)\n",
        "* 9 Future prediction model (model to predict future values)\n",
        "* 10 Same as 1 (but with turkey 🦃 data introduced)\n"
      ],
      "metadata": {
        "id": "0Pike4moRWir"
      }
    },
    {
      "cell_type": "markdown",
      "source": [
        "## Model 0: Naive forecast (baseline)\n",
        "\n",
        "The formula looks like this:\n",
        "\n",
        "$$\\hat{y}_{t} = y_{t-1}$$\n",
        "\n",
        "In English:\n",
        "\n",
        "> The prediction at timestep t (y-hat) is equal to the value at timestep t-1 (previous timestep) - this is for a horizon of 1."
      ],
      "metadata": {
        "id": "X--1zYs-cDra"
      }
    },
    {
      "cell_type": "code",
      "source": [
        "# Create a naive forecast\n",
        "naive_forecast = y_test[:-1]\n",
        "\n",
        "naive_forecast[:10], naive_forecast[-10:]"
      ],
      "metadata": {
        "colab": {
          "base_uri": "https://localhost:8080/"
        },
        "id": "6QNIh1tnqHdO",
        "outputId": "a91e07e5-5e15-4e2d-fca3-4ca8d7f34e46"
      },
      "execution_count": 15,
      "outputs": [
        {
          "output_type": "execute_result",
          "data": {
            "text/plain": [
              "(array([9226.48582088, 8794.35864452, 8798.04205463, 9081.18687849,\n",
              "        8711.53433917, 8760.89271814, 8749.52059102, 8656.97092235,\n",
              "        8500.64355816, 8469.2608989 ]),\n",
              " array([57107.12067189, 58788.20967893, 58102.19142623, 55715.54665129,\n",
              "        56573.5554719 , 52147.82118698, 49764.1320816 , 50032.69313676,\n",
              "        47885.62525472, 45604.61575361]))"
            ]
          },
          "metadata": {},
          "execution_count": 15
        }
      ]
    },
    {
      "cell_type": "code",
      "source": [
        "# Plot naive forecast\n",
        "plt.figure(figsize=(10, 7))\n",
        "# plot_time_series(timesteps=X_train, values=y_train, label=\"Train data\")\n",
        "plot_time_series(timesteps=X_test, values=y_test, start=350, format=\"-\", label=\"Test data\")\n",
        "plot_time_series(timesteps=X_test[1:], values=naive_forecast, start=350, format=\"-\", label=\"Naive forecast\")"
      ],
      "metadata": {
        "colab": {
          "base_uri": "https://localhost:8080/",
          "height": 442
        },
        "id": "Cthk6Ppaw3oE",
        "outputId": "9893ef2f-b3ab-47fa-ac3f-fb171e245286"
      },
      "execution_count": 16,
      "outputs": [
        {
          "output_type": "display_data",
          "data": {
            "text/plain": [
              "<Figure size 720x504 with 1 Axes>"
            ],
            "image/png": "[encoded data removed]"
          },
          "metadata": {
            "needs_background": "light"
          }
        }
      ]
    },
    {
      "cell_type": "markdown",
      "source": [
        "> ⚒️ **Exercise:** Spend 10 minutes reading the simple forecasts chapter of Forecasting: Principles in Practice. An have a search to find out why the naive forecast is hard to beat, does the term augoregressive come up?"
      ],
      "metadata": {
        "id": "GGJXM4vnx6sS"
      }
    },
    {
      "cell_type": "markdown",
      "source": [
        "from IPython.core.magic import error\n",
        "## Evaluating a time series model\n",
        "\n",
        "Let's take into some evaluation metrics for time series forecasting.\n",
        "\n",
        "What are we doing?\n",
        "\n",
        "We're predicting a number, so that mean we have a form of a regression problem.\n",
        "\n",
        "Because we're working on a regression problem, we'll need some regression-like metrics.\n",
        "\n",
        "A few common regression metrics (which can also be used for time series forecasting):\n",
        "* MAE - mean absolute error\n",
        "* MSE - mean squared error\n",
        "* RSME - root mean suare error\n",
        "* MAPE/sMAPE - (symmetric) mean absolute percentage error\n",
        "+ MASE - mean absolute scaled error\n",
        "\n",
        "For all of the above metrics, **lower is better**, for example, an MAE of 0 that is better than a MAE of 100.\n",
        "\n",
        "The main thing we're evaluating here is: how do our model's forecasts (y_pred) compare against the actual values (y_true or ground truth values)?"
      ],
      "metadata": {
        "id": "euDEMTJkzsSV"
      }
    },
    {
      "cell_type": "code",
      "source": [
        "import tensorflow as tf"
      ],
      "metadata": {
        "id": "r1Bmbj0GdZsv"
      },
      "execution_count": 17,
      "outputs": []
    },
    {
      "cell_type": "code",
      "source": [
        "# MASE implementation\n",
        "def mean_absolute_scaled_error(y_true, y_pred):\n",
        "  \"\"\"\n",
        "  Calculates the mean absolute scaled error (MASE) between true and predicted values.\n",
        "\n",
        "  The MASE measures the relative performance of a forecasting model compared to a naive (naïve2) forecast.\n",
        "  The MASE is a scaling factor that scales the mean absolute error (MAE) of the forecast to account for the scale\n",
        "  of the data and the forecast horizon. A MASE of 1 indicates that the forecasting model performs as well as a\n",
        "  naive forecast, while a MASE < 1 indicates that the model outperforms the naive forecast.\n",
        "\n",
        "  Parameters:\n",
        "      y_true (tf.Tensor): True values of the target variable.\n",
        "      y_pred (tf.Tensor): Predicted values of the target variable.\n",
        "\n",
        "  Returns:\n",
        "      A scalar value representing the MASE between y_true and y_pred.\n",
        "  \"\"\"\n",
        "  mae = tf.reduce_mean(tf.abs(y_true-y_pred))\n",
        "\n",
        "  # Find MAE of naive forecast (no seasonality)\n",
        "  mae_naive_no_season = tf.reduce_mean(tf.abs(y_true[1:] - y_true[:-1])) # our seasonality is 1 day, hence the shift of 1\n",
        "\n",
        "  return mae / mae_naive_no_season"
      ],
      "metadata": {
        "id": "GiK7WLsmdcJs"
      },
      "execution_count": 18,
      "outputs": []
    },
    {
      "cell_type": "code",
      "source": [
        "mean_absolute_scaled_error(y_true=y_test[1:], y_pred=naive_forecast).numpy()"
      ],
      "metadata": {
        "colab": {
          "base_uri": "https://localhost:8080/"
        },
        "id": "-84ZtuQHeTHM",
        "outputId": "86f5f137-b658-4c8e-9835-dbfb7205845d"
      },
      "execution_count": 19,
      "outputs": [
        {
          "output_type": "execute_result",
          "data": {
            "text/plain": [
              "0.9995699939182624"
            ]
          },
          "metadata": {},
          "execution_count": 19
        }
      ]
    },
    {
      "cell_type": "code",
      "source": [
        "# Create a function to evaluate model forecasts with various metrics\n",
        "def evaluate_preds(y_true, y_pred):\n",
        "  \"\"\"\n",
        "  Evaluates model predictions with various metrics.\n",
        "\n",
        "  Parameters:\n",
        "      y_true (tf.Tensor): True values of the target variable.\n",
        "      y_pred (tf.Tensor): Predicted values of the target variable.\n",
        "\n",
        "  Returns:\n",
        "      A dictionary of evaluation metrics, including:\n",
        "          - 'mae': mean absolute error\n",
        "          - 'mse': mean squared error\n",
        "          - 'rmse': root mean squared error\n",
        "          - 'mape': mean absolute percentage error\n",
        "          - 'mase': mean absolute scaled error\n",
        "  \"\"\"\n",
        "  # Make sure float32 datatype\n",
        "  y_true = tf.cast(y_true, dtype=tf.float32)\n",
        "  y_pred = tf.cast(y_pred, dtype=tf.float32)\n",
        "\n",
        "  # Calculate various evaluation metrics\n",
        "  mae = tf.keras.metrics.mean_absolute_error(y_true, y_pred)\n",
        "  mse = tf.keras.metrics.mean_squared_error(y_true, y_pred)\n",
        "  rmse = tf.sqrt(mse)\n",
        "  mape = tf.keras.metrics.mean_absolute_percentage_error(y_true, y_pred)\n",
        "  mase = mean_absolute_scaled_error(y_true, y_pred)\n",
        "\n",
        "  return {\"mae\": mae.numpy(),\n",
        "          \"mse\": mse.numpy(),\n",
        "          \"rmse\": rmse.numpy(),\n",
        "          \"mape\": mape.numpy(),\n",
        "          \"mase\": mase.numpy()}"
      ],
      "metadata": {
        "id": "VxmbSWoUeT6Y"
      },
      "execution_count": 20,
      "outputs": []
    },
    {
      "cell_type": "code",
      "source": [
        "naive_results = evaluate_preds(y_true=y_test[1:],\n",
        "                               y_pred=naive_forecast)\n",
        "naive_results"
      ],
      "metadata": {
        "colab": {
          "base_uri": "https://localhost:8080/"
        },
        "id": "DlsSuldHfOB7",
        "outputId": "ef19ae1b-ee85-402f-fa1d-553670727368"
      },
      "execution_count": 21,
      "outputs": [
        {
          "output_type": "execute_result",
          "data": {
            "text/plain": [
              "{'mae': 567.9802,\n",
              " 'mse': 1147547.0,\n",
              " 'rmse': 1071.2362,\n",
              " 'mape': 2.516525,\n",
              " 'mase': 0.99957}"
            ]
          },
          "metadata": {},
          "execution_count": 21
        }
      ]
    },
    {
      "cell_type": "code",
      "source": [
        "naive_forecast[-10:]"
      ],
      "metadata": {
        "colab": {
          "base_uri": "https://localhost:8080/"
        },
        "id": "qaZfP409fU-v",
        "outputId": "6bbeb238-96ee-497b-b7bb-511e1b759adb"
      },
      "execution_count": 22,
      "outputs": [
        {
          "output_type": "execute_result",
          "data": {
            "text/plain": [
              "array([57107.12067189, 58788.20967893, 58102.19142623, 55715.54665129,\n",
              "       56573.5554719 , 52147.82118698, 49764.1320816 , 50032.69313676,\n",
              "       47885.62525472, 45604.61575361])"
            ]
          },
          "metadata": {},
          "execution_count": 22
        }
      ]
    },
    {
      "cell_type": "code",
      "source": [
        "tf.reduce_mean(y_test)"
      ],
      "metadata": {
        "colab": {
          "base_uri": "https://localhost:8080/"
        },
        "id": "P2pX3P_qnODM",
        "outputId": "2d90444f-a556-4454-963d-5041e6fa72e9"
      },
      "execution_count": 23,
      "outputs": [
        {
          "output_type": "execute_result",
          "data": {
            "text/plain": [
              "<tf.Tensor: shape=(), dtype=float64, numpy=20056.632963737222>"
            ]
          },
          "metadata": {},
          "execution_count": 23
        }
      ]
    },
    {
      "cell_type": "code",
      "source": [
        "tf.reduce_min(y_test), tf.reduce_max(y_test)"
      ],
      "metadata": {
        "colab": {
          "base_uri": "https://localhost:8080/"
        },
        "id": "sxSWxBzGnT3j",
        "outputId": "a7223801-4331-4a1a-9316-0f22b027b5de"
      },
      "execution_count": 24,
      "outputs": [
        {
          "output_type": "execute_result",
          "data": {
            "text/plain": [
              "(<tf.Tensor: shape=(), dtype=float64, numpy=4944.7023359837>,\n",
              " <tf.Tensor: shape=(), dtype=float64, numpy=63346.7890351052>)"
            ]
          },
          "metadata": {},
          "execution_count": 24
        }
      ]
    },
    {
      "cell_type": "markdown",
      "source": [
        "## Other models you can use for baselines and for actual forecasts\n",
        "\n",
        "In this notebook, we're focused on TensorFlow and deep learning models.\n",
        "\n",
        "However there are plenty of other styles of time series forecasting models you may want to experiment with: https://dev.mrdbourke.com/tensorflow-deep-learning/10_time_series_forecasting_in_tensorflow/#other-kinds-of-time-series-forecasting-models-which-can-be-used-for-baselines-and-actual-forecasts"
      ],
      "metadata": {
        "id": "pB2ExF5gnbY6"
      }
    },
    {
      "cell_type": "markdown",
      "source": [
        "## Format Data Part 2: Windowing our dataset\n",
        "\n",
        "Why do we window?\n",
        "\n",
        "We window our time series dataset to turn our data into a supervised learning problem.\n",
        "\n",
        "```\n",
        "Windowing for one week\n",
        "[0, 1, 2, 3, 4, 5, 6] -> [7]\n",
        "[1, 2, 3, 4, 5, 6, 7] -> [8]\n",
        "[2, 3, 4, 5, 6, 7, 8] -> [9]\n",
        "```"
      ],
      "metadata": {
        "id": "TBVu32eZpJu4"
      }
    },
    {
      "cell_type": "code",
      "source": [
        "len(y_train)"
      ],
      "metadata": {
        "colab": {
          "base_uri": "https://localhost:8080/"
        },
        "id": "p-cAZ0qzxlwu",
        "outputId": "0615c986-4041-4e86-dc35-4c34d037567c"
      },
      "execution_count": 25,
      "outputs": [
        {
          "output_type": "execute_result",
          "data": {
            "text/plain": [
              "2229"
            ]
          },
          "metadata": {},
          "execution_count": 25
        }
      ]
    },
    {
      "cell_type": "code",
      "source": [
        "# What we want to do with our Bitcoin data\n",
        "print(f\"We want to use: {btc_price[:7]} to predict this: {btc_price[7]}\")"
      ],
      "metadata": {
        "colab": {
          "base_uri": "https://localhost:8080/"
        },
        "id": "VFZIARSVxnQ0",
        "outputId": "399753bd-9e26-4736-d5e8-3c473fb7f2d0"
      },
      "execution_count": 26,
      "outputs": [
        {
          "output_type": "stream",
          "name": "stdout",
          "text": [
            "We want to use: [123.65499, 125.455, 108.58483, 118.67466, 121.33866, 120.65533, 121.795] to predict this: 123.033\n"
          ]
        }
      ]
    },
    {
      "cell_type": "code",
      "source": [
        "# Let's setup global variables for window and horizon size\n",
        "HORIZON = 1 # predict next 1 day\n",
        "WINDOW_SIZE = 7 # use past week of Bitcoin data to make the prediction\n"
      ],
      "metadata": {
        "id": "CRa4q4GOxv1a"
      },
      "execution_count": 27,
      "outputs": []
    },
    {
      "cell_type": "code",
      "source": [
        "# Create function to label windowed data\n",
        "def get_labelled_windows(x, horizon=HORIZON):\n",
        "  \"\"\"\n",
        "    Given a data matrix 'x', return a pair of matrices containing labelled and windowed segments of the data.\n",
        "\n",
        "    Parameters:\n",
        "        - x (ndarray): A 2-dimensional matrix of shape (T, D), where T is the number of timesteps and\n",
        "          D is the number of dimensions.\n",
        "        - horizon (int): The number of timesteps to include in the window.\n",
        "        \n",
        "    Returns:\n",
        "        - A tuple containing two 2-dimensional matrices of shape (T - horizon, horizon) and (T - horizon, 1),\n",
        "          respectively. The first matrix contains the windowed segments of the input data, and the second matrix\n",
        "          contains the labels that correspond to each window.\n",
        "  \"\"\"\n",
        "  return x[:, :-horizon], x[:, -horizon:]"
      ],
      "metadata": {
        "id": "Jqw3R-9xypF8"
      },
      "execution_count": 28,
      "outputs": []
    },
    {
      "cell_type": "code",
      "source": [
        "# Test out the window labelling function\n",
        "test_window, test_label = get_labelled_windows(tf.expand_dims(tf.range(8)+1, axis=0))\n",
        "print(f\"Window: {tf.squeeze(test_window).numpy()} -> Label: {tf.squeeze(test_label).numpy()}\")"
      ],
      "metadata": {
        "colab": {
          "base_uri": "https://localhost:8080/"
        },
        "id": "J0CR2LYw0Lwr",
        "outputId": "cf1001ae-e594-4802-b387-979183cb96d7"
      },
      "execution_count": 29,
      "outputs": [
        {
          "output_type": "stream",
          "name": "stdout",
          "text": [
            "Window: [1 2 3 4 5 6 7] -> Label: 8\n"
          ]
        }
      ]
    },
    {
      "cell_type": "markdown",
      "source": [
        "We've got a way to label our windowed data.\n",
        "\n",
        "However, this only works on a small scale.\n",
        "\n",
        "We need a way to do the above across our entire time series.\n",
        "\n",
        "We could do this with Python for loops, however, for large time series, that'd be quite slow.\n",
        "\n",
        "To speed things up, we'll leverage NumPy's array indexing.\n",
        "\n",
        "Our function will:\n",
        "1. Create a window step of specific window size (e.g. [0, 1, 2, 3, 5, 6])\n",
        "2. Use NumPy indexing to create a 2D array of multiple window steps, for example:\n",
        "```\n",
        "[[0, 1, 2, 3, 5, 6],\n",
        "[1, 2, 3, 5, 6, 7],\n",
        "[2, 3, 5, 6, 7, 8]]\n",
        "```\n",
        "3. Uses the 2D array of multiple window steps (from 2.) to index on a target series (e.g. the historical price of Bitcoin)\n",
        "4. Uses our `get_labelled_windows()` function we created above to turn the window steps into windows with a specified horizon."
      ],
      "metadata": {
        "id": "so_KmcbB0wAX"
      }
    },
    {
      "cell_type": "code",
      "source": [
        "import numpy as np\n",
        "# Create function to view NumPy arrays as windows\n",
        "def make_windows(x, window_size=WINDOW_SIZE, horizon=HORIZON):\n",
        "  \"\"\"\n",
        "  Creates windowed data from a target time series.\n",
        "\n",
        "  Parameters:\n",
        "      - x (ndarray): A 1-dimensional array containing the target time series.\n",
        "      - window_size (int): The size of the window to use to create the data (default: WINDOW_SIZE).\n",
        "      - horizon (int): The number of timesteps into the future to predict (default: HORIZON).\n",
        "\n",
        "  Returns:\n",
        "      - A tuple containing two 2-dimensional arrays of shape (N, window_size) and (N, horizon),\n",
        "        respectively. The first array contains the windowed segments of the input data, and the\n",
        "        second array contains the labels that correspond to each window.\n",
        "\n",
        "  Example usage:\n",
        "  ```python\n",
        "  # Load some example data\n",
        "  target_series = np.loadtxt('target_series.txt')\n",
        "\n",
        "  # Create windowed data with a window size of 30 and a horizon of 1\n",
        "  X, y = make_windows(target_series, window_size=30, horizon=1)\n",
        "  ```\n",
        "  \"\"\"\n",
        "  # 1. Create a window of specific window_size (add the horizon on the end for labelling later)\n",
        "  window_step = np.expand_dims(np.arange(window_size+horizon), axis=0)\n",
        "\n",
        "  # 2. Create a 2D array of multiple window steps (minus 1 to account for 0 indexing)\n",
        "  window_indexes = window_step + np.expand_dims(np.arange(len(x)-(window_size+horizon-1)), axis=0).T # create 2D array of windows of size window_size\n",
        "\n",
        "  # 3. Index on the target array (a time series) with 2D araay of multiple window steps\n",
        "  windowed_array = x[window_indexes]\n",
        "  \n",
        "  # 4. Get the labelled windows\n",
        "  windows, labels = get_labelled_windows(windowed_array, horizon=horizon)\n",
        "  return windows, labels"
      ],
      "metadata": {
        "id": "2F062Gh-97-C"
      },
      "execution_count": 30,
      "outputs": []
    },
    {
      "cell_type": "code",
      "source": [
        "full_windows, full_labels = make_windows(prices)\n",
        "len(full_windows), len(full_labels)"
      ],
      "metadata": {
        "colab": {
          "base_uri": "https://localhost:8080/"
        },
        "id": "WxOeeyTYBspY",
        "outputId": "6a62ed21-af9f-4a17-d7b6-1af474ab3bff"
      },
      "execution_count": 31,
      "outputs": [
        {
          "output_type": "execute_result",
          "data": {
            "text/plain": [
              "(2780, 2780)"
            ]
          },
          "metadata": {},
          "execution_count": 31
        }
      ]
    },
    {
      "cell_type": "code",
      "source": [
        "# View the first 3 windows/labels\n",
        "for i in range(3):\n",
        "  print(f\"Window: {full_windows[i]} -> Label: {full_labels[i]}\")"
      ],
      "metadata": {
        "colab": {
          "base_uri": "https://localhost:8080/"
        },
        "id": "92QJWYirGVG0",
        "outputId": "b9b82097-a51d-41be-9aef-253f9b1d7a4b"
      },
      "execution_count": 32,
      "outputs": [
        {
          "output_type": "stream",
          "name": "stdout",
          "text": [
            "Window: [123.65499 125.455   108.58483 118.67466 121.33866 120.65533 121.795  ] -> Label: [123.033]\n",
            "Window: [125.455   108.58483 118.67466 121.33866 120.65533 121.795   123.033  ] -> Label: [124.049]\n",
            "Window: [108.58483 118.67466 121.33866 120.65533 121.795   123.033   124.049  ] -> Label: [125.96116]\n"
          ]
        }
      ]
    },
    {
      "cell_type": "code",
      "source": [
        "# View the last 3 windows/labels\n",
        "for i in range(3):\n",
        "  print(f\"Window: {full_windows[i-3]} -> Label: {full_labels[i-3]}\")"
      ],
      "metadata": {
        "colab": {
          "base_uri": "https://localhost:8080/"
        },
        "id": "9v8bNbqtJhvI",
        "outputId": "1066783c-ebd7-4a4c-da7f-0dd5abd2d8ae"
      },
      "execution_count": 33,
      "outputs": [
        {
          "output_type": "stream",
          "name": "stdout",
          "text": [
            "Window: [58788.20967893 58102.19142623 55715.54665129 56573.5554719\n",
            " 52147.82118698 49764.1320816  50032.69313676] -> Label: [47885.62525472]\n",
            "Window: [58102.19142623 55715.54665129 56573.5554719  52147.82118698\n",
            " 49764.1320816  50032.69313676 47885.62525472] -> Label: [45604.61575361]\n",
            "Window: [55715.54665129 56573.5554719  52147.82118698 49764.1320816\n",
            " 50032.69313676 47885.62525472 45604.61575361] -> Label: [43144.47129086]\n"
          ]
        }
      ]
    },
    {
      "cell_type": "markdown",
      "source": [
        "> 🔑 **Note:** There's a function which does similar to the above in tf.keras.preprocessing, an extension could be to try and replicate what we've done using the premade function: https://www.tensorflow.org/api_docs/python/tf/keras/utils/timeseries_dataset_from_array"
      ],
      "metadata": {
        "id": "JxWTSIQKKED4"
      }
    },
    {
      "cell_type": "markdown",
      "source": [
        "## Turning windows into training and test sets"
      ],
      "metadata": {
        "id": "VyvWz1CBLOpG"
      }
    },
    {
      "cell_type": "code",
      "source": [
        "# Make the train/test splits\n",
        "def make_train_test_splits(windows, labels, test_split=0.2):\n",
        "  \"\"\"\n",
        "  Splits matching pairs of windows and labels into train and test splits.\n",
        "\n",
        "  Parameters:\n",
        "       - windows (ndarray): A 2-dimensional matrix of shape (N, W), where N is the number of windows\n",
        "        and W is the window size.\n",
        "      - labels (ndarray): A 2-dimensional matrix of shape (N, H), where N is the number of windows\n",
        "        and H is the horizon (i.e. the number of timesteps to predict into the future).\n",
        "      - test_split (float): The proportion of data to allocate for the test split. Defaults to 0.2.\n",
        "\n",
        "  Returns:\n",
        "      - A tuple containing four 2-dimensional matrices: (train_windows, test_windows, train_labels, test_labels).\n",
        "        The training windows and labels are the first two elements of the tuple and represent the training split of\n",
        "        the input data, while the test windows and labels are the last two elements of the tuple and represent the\n",
        "        test split of the input data.\n",
        "  \"\"\"\n",
        "  split_size = int(len(windows) * (1-test_split)) # this will default to 80% train/20% test\n",
        "  train_windows = windows[:split_size]\n",
        "  train_labels = labels[:split_size]\n",
        "  test_windows = windows[split_size:]\n",
        "  test_labels = labels[split_size:]\n",
        "  return train_windows, test_windows, train_labels, test_labels"
      ],
      "metadata": {
        "id": "xhRQTlarLpOs"
      },
      "execution_count": 34,
      "outputs": []
    },
    {
      "cell_type": "code",
      "source": [
        "# Create train and test windows\n",
        "train_windows, test_windows, train_labels, test_labels = make_train_test_splits(full_windows, full_labels)\n",
        "len(train_windows), len(test_windows), len(train_labels), len(test_labels)"
      ],
      "metadata": {
        "colab": {
          "base_uri": "https://localhost:8080/"
        },
        "id": "UgTBvM9XNacj",
        "outputId": "036a752a-bd0e-489b-dc1c-85dda57255ca"
      },
      "execution_count": 35,
      "outputs": [
        {
          "output_type": "execute_result",
          "data": {
            "text/plain": [
              "(2224, 556, 2224, 556)"
            ]
          },
          "metadata": {},
          "execution_count": 35
        }
      ]
    },
    {
      "cell_type": "code",
      "source": [
        "train_windows[:5], train_labels[:5]"
      ],
      "metadata": {
        "colab": {
          "base_uri": "https://localhost:8080/"
        },
        "id": "qXq__4NYOXeJ",
        "outputId": "e7a87084-06e2-4fff-8211-5179dd0438d6"
      },
      "execution_count": 36,
      "outputs": [
        {
          "output_type": "execute_result",
          "data": {
            "text/plain": [
              "(array([[123.65499, 125.455  , 108.58483, 118.67466, 121.33866, 120.65533,\n",
              "         121.795  ],\n",
              "        [125.455  , 108.58483, 118.67466, 121.33866, 120.65533, 121.795  ,\n",
              "         123.033  ],\n",
              "        [108.58483, 118.67466, 121.33866, 120.65533, 121.795  , 123.033  ,\n",
              "         124.049  ],\n",
              "        [118.67466, 121.33866, 120.65533, 121.795  , 123.033  , 124.049  ,\n",
              "         125.96116],\n",
              "        [121.33866, 120.65533, 121.795  , 123.033  , 124.049  , 125.96116,\n",
              "         125.27966]]), array([[123.033  ],\n",
              "        [124.049  ],\n",
              "        [125.96116],\n",
              "        [125.27966],\n",
              "        [125.9275 ]]))"
            ]
          },
          "metadata": {},
          "execution_count": 36
        }
      ]
    },
    {
      "cell_type": "code",
      "source": [
        "test_windows[:5], test_labels[:5]"
      ],
      "metadata": {
        "colab": {
          "base_uri": "https://localhost:8080/"
        },
        "id": "1DAPlz4XOnG9",
        "outputId": "3ede764f-ce42-4fad-f6d0-6a9ae534b51d"
      },
      "execution_count": 37,
      "outputs": [
        {
          "output_type": "execute_result",
          "data": {
            "text/plain": [
              "(array([[9290.89660239, 9202.41545055, 9369.62808116, 9326.59962378,\n",
              "         9335.75240233, 9226.48582088, 8794.35864452],\n",
              "        [9202.41545055, 9369.62808116, 9326.59962378, 9335.75240233,\n",
              "         9226.48582088, 8794.35864452, 8798.04205463],\n",
              "        [9369.62808116, 9326.59962378, 9335.75240233, 9226.48582088,\n",
              "         8794.35864452, 8798.04205463, 9081.18687849],\n",
              "        [9326.59962378, 9335.75240233, 9226.48582088, 8794.35864452,\n",
              "         8798.04205463, 9081.18687849, 8711.53433917],\n",
              "        [9335.75240233, 9226.48582088, 8794.35864452, 8798.04205463,\n",
              "         9081.18687849, 8711.53433917, 8760.89271814]]),\n",
              " array([[8798.04205463],\n",
              "        [9081.18687849],\n",
              "        [8711.53433917],\n",
              "        [8760.89271814],\n",
              "        [8749.52059102]]))"
            ]
          },
          "metadata": {},
          "execution_count": 37
        }
      ]
    },
    {
      "cell_type": "code",
      "source": [
        "# Check to see if same (accounting for horizon and window size)\n",
        "np.array_equal(np.squeeze(train_labels[:-HORIZON-1]), y_train[WINDOW_SIZE:])"
      ],
      "metadata": {
        "colab": {
          "base_uri": "https://localhost:8080/"
        },
        "id": "UO_tDzYUO-14",
        "outputId": "684c60e6-125d-4b4b-995c-043f413aebe3"
      },
      "execution_count": 38,
      "outputs": [
        {
          "output_type": "execute_result",
          "data": {
            "text/plain": [
              "True"
            ]
          },
          "metadata": {},
          "execution_count": 38
        }
      ]
    },
    {
      "cell_type": "markdown",
      "source": [
        "## Make a modelling checkpoint callback\n",
        "\n",
        "Because our model's performance will fluctuate from experiment to experiment, we're going to write a model checkpoint so we can compare apples to apples.\n",
        "\n",
        "More specifically, we want to compare each of our model's best performances against the other model's best performances.\n",
        "\n",
        "For example if our model performs the best on epoch 55 (but we're training for 100 epochs), we want to load and evaluate the model saved on epoch 55.\n",
        "\n",
        "We can create a modelling checkpoint callback using the following: https://www.tensorflow.org/api_docs/python/tf/keras/callbacks/ModelCheckpoint"
      ],
      "metadata": {
        "id": "BU5MSqBhPeLw"
      }
    },
    {
      "cell_type": "code",
      "source": [
        "import os\n",
        "\n",
        "# Create a function to implement a modelCheckpoint callback with a specific filename\n",
        "def create_model_checkpoint(model_name, save_path=\"model_experiments\"):\n",
        "  \"\"\"\n",
        "  Creates a Keras callback to save the best version of a trained model during training.\n",
        "\n",
        "  Args:\n",
        "      model_name (str): A string with the name of the model. This will be used as the prefix of the checkpoint file.\n",
        "      save_path (str): A string with the directory path where the checkpoint file will be saved. Defaults to \"model_experiments\".\n",
        "\n",
        "  Returns:\n",
        "      A Keras `ModelCheckpoint` callback instance with the specified settings.\n",
        "  \"\"\"\n",
        "  return tf.keras.callbacks.ModelCheckpoint(filepath=os.path.join(save_path, model_name),\n",
        "                                            verbose=0, # only output a limited amount of text\n",
        "                                            save_best_only=True)\n"
      ],
      "metadata": {
        "id": "zRm63C4eZCOL"
      },
      "execution_count": 39,
      "outputs": []
    },
    {
      "cell_type": "markdown",
      "source": [
        "## Model 1: Dense model (window = 7, horizon = 1)\n",
        "\n",
        "Our first deep model is going to be a simple dense model:\n",
        "* A single dense layer with 128 hidden units and ReLU\n",
        "* An output layer with linear activation (no activation)\n",
        "* Adam optimizer and MAE loss function\n",
        "* Batch size of 128 (previously we've used 32)\n",
        "* 100 epochs\n",
        "\n",
        "Why these values?\n",
        "\n",
        "I picked them out of experimentation.\n",
        "\n",
        "* *Hyperparameters* = values a machine learning practitioner can adjust themselves\n",
        "* **Parameters** = values a model learns on its own\n"
      ],
      "metadata": {
        "id": "vGjMFmb5cp3M"
      }
    },
    {
      "cell_type": "code",
      "source": [
        "import tensorflow as tf\n",
        "from tensorflow.keras import layers\n",
        "\n",
        "# Set random seed\n",
        "tf.random.set_seed(42)\n",
        "\n",
        "# 1. Construct model\n",
        "model_1 = tf.keras.Sequential([\n",
        "    layers.Dense(128, activation=\"relu\"),\n",
        "    layers.Dense(HORIZON, activation=\"linear\")\n",
        "], name=\"model_1_dense\")\n",
        "\n",
        "# 2. Compile the model\n",
        "model_1.compile(loss=\"mae\",\n",
        "                optimizer=tf.keras.optimizers.Adam(),\n",
        "                metrics=[\"mae\", \"mse\"])\n",
        "\n",
        "# 3. Fit the model\n",
        "model_1_history = model_1.fit(train_windows, train_labels,\n",
        "                              epochs=100,\n",
        "                              verbose=1,\n",
        "                              batch_size=128,\n",
        "                              validation_data=(test_windows, test_labels),\n",
        "                              callbacks=[create_model_checkpoint(model_name=model_1.name)])"
      ],
      "metadata": {
        "colab": {
          "base_uri": "https://localhost:8080/"
        },
        "id": "c3kB4enwhnQ4",
        "outputId": "de099d35-448c-477d-d199-eb14eda89746"
      },
      "execution_count": 40,
      "outputs": [
        {
          "output_type": "stream",
          "name": "stdout",
          "text": [
            "Epoch 1/100\n",
            "16/18 [=========================>....] - ETA: 0s - loss: 701.0253 - mae: 701.0253 - mse: 1949751.0000    "
          ]
        },
        {
          "output_type": "stream",
          "name": "stderr",
          "text": [
            "WARNING:absl:Found untraced functions such as _update_step_xla while saving (showing 1 of 1). These functions will not be directly callable after loading.\n"
          ]
        },
        {
          "output_type": "stream",
          "name": "stdout",
          "text": [
            "\b\b\b\b\b\b\b\b\b\b\b\b\b\b\b\b\b\b\b\b\b\b\b\b\b\b\b\b\b\b\b\b\b\b\b\b\b\b\b\b\b\b\b\b\b\b\b\b\b\b\b\b\b\b\b\b\b\b\b\b\b\b\b\b\b\b\b\b\b\b\b\b\b\b\b\b\b\b\b\b\b\b\b\b\b\b\b\b\b\b\b\b\b\b\b\b\b\b\b\b\b\r18/18 [==============================] - 6s 60ms/step - loss: 667.3416 - mae: 667.3416 - mse: 1815225.5000 - val_loss: 1086.0598 - val_mae: 1086.0598 - val_mse: 3928092.5000\n",
            "Epoch 2/100\n",
            "17/18 [===========================>..] - ETA: 0s - loss: 244.7298 - mae: 244.7298 - mse: 254639.9062"
          ]
        },
        {
          "output_type": "stream",
          "name": "stderr",
          "text": [
            "WARNING:absl:Found untraced functions such as _update_step_xla while saving (showing 1 of 1). These functions will not be directly callable after loading.\n"
          ]
        },
        {
          "output_type": "stream",
          "name": "stdout",
          "text": [
            "\b\b\b\b\b\b\b\b\b\b\b\b\b\b\b\b\b\b\b\b\b\b\b\b\b\b\b\b\b\b\b\b\b\b\b\b\b\b\b\b\b\b\b\b\b\b\b\b\b\b\b\b\b\b\b\b\b\b\b\b\b\b\b\b\b\b\b\b\b\b\b\b\b\b\b\b\b\b\b\b\b\b\b\b\b\b\b\b\b\b\b\b\b\b\b\b\b\b\b\b\r18/18 [==============================] - 1s 38ms/step - loss: 242.8000 - mae: 242.8000 - mse: 250989.4688 - val_loss: 1083.4135 - val_mae: 1083.4135 - val_mse: 3927198.7500\n",
            "Epoch 3/100\n",
            "18/18 [==============================] - 0s 6ms/step - loss: 196.3284 - mae: 196.3284 - mse: 197147.7969 - val_loss: 1181.3795 - val_mae: 1181.3795 - val_mse: 4011284.7500\n",
            "Epoch 4/100\n",
            "17/18 [===========================>..] - ETA: 0s - loss: 185.8020 - mae: 185.8020 - mse: 183112.7031"
          ]
        },
        {
          "output_type": "stream",
          "name": "stderr",
          "text": [
            "WARNING:absl:Found untraced functions such as _update_step_xla while saving (showing 1 of 1). These functions will not be directly callable after loading.\n"
          ]
        },
        {
          "output_type": "stream",
          "name": "stdout",
          "text": [
            "\b\b\b\b\b\b\b\b\b\b\b\b\b\b\b\b\b\b\b\b\b\b\b\b\b\b\b\b\b\b\b\b\b\b\b\b\b\b\b\b\b\b\b\b\b\b\b\b\b\b\b\b\b\b\b\b\b\b\b\b\b\b\b\b\b\b\b\b\b\b\b\b\b\b\b\b\b\b\b\b\b\b\b\b\b\b\b\b\b\b\b\b\b\b\b\b\b\b\b\b\r18/18 [==============================] - 1s 39ms/step - loss: 183.9527 - mae: 183.9527 - mse: 180077.7188 - val_loss: 1016.6204 - val_mae: 1016.6204 - val_mse: 3340731.2500\n",
            "Epoch 5/100\n",
            "18/18 [==============================] - ETA: 0s - loss: 177.6606 - mae: 177.6606 - mse: 169909.5156"
          ]
        },
        {
          "output_type": "stream",
          "name": "stderr",
          "text": [
            "WARNING:absl:Found untraced functions such as _update_step_xla while saving (showing 1 of 1). These functions will not be directly callable after loading.\n"
          ]
        },
        {
          "output_type": "stream",
          "name": "stdout",
          "text": [
            "\b\b\b\b\b\b\b\b\b\b\b\b\b\b\b\b\b\b\b\b\b\b\b\b\b\b\b\b\b\b\b\b\b\b\b\b\b\b\b\b\b\b\b\b\b\b\b\b\b\b\b\b\b\b\b\b\b\b\b\b\b\b\b\b\b\b\b\b\b\b\b\b\b\b\b\b\b\b\b\b\b\b\b\b\b\b\b\b\b\b\b\b\b\b\b\b\b\b\b\b\r18/18 [==============================] - 1s 47ms/step - loss: 177.6606 - mae: 177.6606 - mse: 169909.5156 - val_loss: 962.8102 - val_mae: 962.8102 - val_mse: 3055299.7500\n",
            "Epoch 6/100\n",
            "17/18 [===========================>..] - ETA: 0s - loss: 168.5098 - mae: 168.5098 - mse: 144951.7188"
          ]
        },
        {
          "output_type": "stream",
          "name": "stderr",
          "text": [
            "WARNING:absl:Found untraced functions such as _update_step_xla while saving (showing 1 of 1). These functions will not be directly callable after loading.\n"
          ]
        },
        {
          "output_type": "stream",
          "name": "stdout",
          "text": [
            "\b\b\b\b\b\b\b\b\b\b\b\b\b\b\b\b\b\b\b\b\b\b\b\b\b\b\b\b\b\b\b\b\b\b\b\b\b\b\b\b\b\b\b\b\b\b\b\b\b\b\b\b\b\b\b\b\b\b\b\b\b\b\b\b\b\b\b\b\b\b\b\b\b\b\b\b\b\b\b\b\b\b\b\b\b\b\b\b\b\b\b\b\b\b\b\b\b\b\b\b\r18/18 [==============================] - 1s 39ms/step - loss: 170.2621 - mae: 170.2621 - mse: 155111.1719 - val_loss: 942.5968 - val_mae: 942.5968 - val_mse: 2829569.7500\n",
            "Epoch 7/100\n",
            "18/18 [==============================] - ETA: 0s - loss: 162.4306 - mae: 162.4306 - mse: 144023.6406"
          ]
        },
        {
          "output_type": "stream",
          "name": "stderr",
          "text": [
            "WARNING:absl:Found untraced functions such as _update_step_xla while saving (showing 1 of 1). These functions will not be directly callable after loading.\n"
          ]
        },
        {
          "output_type": "stream",
          "name": "stdout",
          "text": [
            "\b\b\b\b\b\b\b\b\b\b\b\b\b\b\b\b\b\b\b\b\b\b\b\b\b\b\b\b\b\b\b\b\b\b\b\b\b\b\b\b\b\b\b\b\b\b\b\b\b\b\b\b\b\b\b\b\b\b\b\b\b\b\b\b\b\b\b\b\b\b\b\b\b\b\b\b\b\b\b\b\b\b\b\b\b\b\b\b\b\b\b\b\b\b\b\b\b\b\b\b\r18/18 [==============================] - 1s 36ms/step - loss: 162.4306 - mae: 162.4306 - mse: 144023.6406 - val_loss: 896.2328 - val_mae: 896.2328 - val_mse: 2625159.2500\n",
            "Epoch 8/100\n",
            "18/18 [==============================] - ETA: 0s - loss: 158.2927 - mae: 158.2927 - mse: 136452.9531"
          ]
        },
        {
          "output_type": "stream",
          "name": "stderr",
          "text": [
            "WARNING:absl:Found untraced functions such as _update_step_xla while saving (showing 1 of 1). These functions will not be directly callable after loading.\n"
          ]
        },
        {
          "output_type": "stream",
          "name": "stdout",
          "text": [
            "\b\b\b\b\b\b\b\b\b\b\b\b\b\b\b\b\b\b\b\b\b\b\b\b\b\b\b\b\b\b\b\b\b\b\b\b\b\b\b\b\b\b\b\b\b\b\b\b\b\b\b\b\b\b\b\b\b\b\b\b\b\b\b\b\b\b\b\b\b\b\b\b\b\b\b\b\b\b\b\b\b\b\b\b\b\b\b\b\b\b\b\b\b\b\b\b\b\b\b\b\r18/18 [==============================] - 1s 38ms/step - loss: 158.2927 - mae: 158.2927 - mse: 136452.9531 - val_loss: 883.7137 - val_mae: 883.7137 - val_mse: 2616636.2500\n",
            "Epoch 9/100\n",
            "17/18 [===========================>..] - ETA: 0s - loss: 156.6758 - mae: 156.6758 - mse: 134428.4531"
          ]
        },
        {
          "output_type": "stream",
          "name": "stderr",
          "text": [
            "WARNING:absl:Found untraced functions such as _update_step_xla while saving (showing 1 of 1). These functions will not be directly callable after loading.\n"
          ]
        },
        {
          "output_type": "stream",
          "name": "stdout",
          "text": [
            "\b\b\b\b\b\b\b\b\b\b\b\b\b\b\b\b\b\b\b\b\b\b\b\b\b\b\b\b\b\b\b\b\b\b\b\b\b\b\b\b\b\b\b\b\b\b\b\b\b\b\b\b\b\b\b\b\b\b\b\b\b\b\b\b\b\b\b\b\b\b\b\b\b\b\b\b\b\b\b\b\b\b\b\b\b\b\b\b\b\b\b\b\b\b\b\b\b\b\b\b\r18/18 [==============================] - 1s 44ms/step - loss: 156.5956 - mae: 156.5956 - mse: 133279.9375 - val_loss: 840.6327 - val_mae: 840.6327 - val_mse: 2356376.7500\n",
            "Epoch 10/100\n",
            "12/18 [===================>..........] - ETA: 0s - loss: 144.9241 - mae: 144.9241 - mse: 108730.1797"
          ]
        },
        {
          "output_type": "stream",
          "name": "stderr",
          "text": [
            "WARNING:absl:Found untraced functions such as _update_step_xla while saving (showing 1 of 1). These functions will not be directly callable after loading.\n"
          ]
        },
        {
          "output_type": "stream",
          "name": "stdout",
          "text": [
            "\b\b\b\b\b\b\b\b\b\b\b\b\b\b\b\b\b\b\b\b\b\b\b\b\b\b\b\b\b\b\b\b\b\b\b\b\b\b\b\b\b\b\b\b\b\b\b\b\b\b\b\b\b\b\b\b\b\b\b\b\b\b\b\b\b\b\b\b\b\b\b\b\b\b\b\b\b\b\b\b\b\b\b\b\b\b\b\b\b\b\b\b\b\b\b\b\b\b\b\b\r18/18 [==============================] - 1s 56ms/step - loss: 151.3878 - mae: 151.3878 - mse: 127967.2344 - val_loss: 819.1176 - val_mae: 819.1176 - val_mse: 2225002.2500\n",
            "Epoch 11/100\n",
            "18/18 [==============================] - 0s 8ms/step - loss: 145.1488 - mae: 145.1488 - mse: 117676.3828 - val_loss: 832.1570 - val_mae: 832.1570 - val_mse: 2173986.5000\n",
            "Epoch 12/100\n",
            "18/18 [==============================] - 0s 8ms/step - loss: 142.3417 - mae: 142.3417 - mse: 113199.4219 - val_loss: 833.0511 - val_mae: 833.0511 - val_mse: 2130165.2500\n",
            "Epoch 13/100\n",
            "18/18 [==============================] - 0s 8ms/step - loss: 143.0773 - mae: 143.0773 - mse: 111793.7656 - val_loss: 819.1537 - val_mae: 819.1537 - val_mse: 2057108.5000\n",
            "Epoch 14/100\n",
            "14/18 [======================>.......] - ETA: 0s - loss: 136.9220 - mae: 136.9220 - mse: 106510.8750"
          ]
        },
        {
          "output_type": "stream",
          "name": "stderr",
          "text": [
            "WARNING:absl:Found untraced functions such as _update_step_xla while saving (showing 1 of 1). These functions will not be directly callable after loading.\n"
          ]
        },
        {
          "output_type": "stream",
          "name": "stdout",
          "text": [
            "\b\b\b\b\b\b\b\b\b\b\b\b\b\b\b\b\b\b\b\b\b\b\b\b\b\b\b\b\b\b\b\b\b\b\b\b\b\b\b\b\b\b\b\b\b\b\b\b\b\b\b\b\b\b\b\b\b\b\b\b\b\b\b\b\b\b\b\b\b\b\b\b\b\b\b\b\b\b\b\b\b\b\b\b\b\b\b\b\b\b\b\b\b\b\b\b\b\b\b\b\r18/18 [==============================] - 1s 50ms/step - loss: 137.3502 - mae: 137.3502 - mse: 106806.4844 - val_loss: 779.1823 - val_mae: 779.1823 - val_mse: 1911629.3750\n",
            "Epoch 15/100\n",
            "15/18 [========================>.....] - ETA: 0s - loss: 140.8210 - mae: 140.8210 - mse: 110249.3750"
          ]
        },
        {
          "output_type": "stream",
          "name": "stderr",
          "text": [
            "WARNING:absl:Found untraced functions such as _update_step_xla while saving (showing 1 of 1). These functions will not be directly callable after loading.\n"
          ]
        },
        {
          "output_type": "stream",
          "name": "stdout",
          "text": [
            "\b\b\b\b\b\b\b\b\b\b\b\b\b\b\b\b\b\b\b\b\b\b\b\b\b\b\b\b\b\b\b\b\b\b\b\b\b\b\b\b\b\b\b\b\b\b\b\b\b\b\b\b\b\b\b\b\b\b\b\b\b\b\b\b\b\b\b\b\b\b\b\b\b\b\b\b\b\b\b\b\b\b\b\b\b\b\b\b\b\b\b\b\b\b\b\b\b\b\b\b\r18/18 [==============================] - 1s 36ms/step - loss: 138.6315 - mae: 138.6315 - mse: 104811.4062 - val_loss: 738.2391 - val_mae: 738.2391 - val_mse: 1807135.5000\n",
            "Epoch 16/100\n",
            "17/18 [===========================>..] - ETA: 0s - loss: 131.9305 - mae: 131.9305 - mse: 99394.0469"
          ]
        },
        {
          "output_type": "stream",
          "name": "stderr",
          "text": [
            "WARNING:absl:Found untraced functions such as _update_step_xla while saving (showing 1 of 1). These functions will not be directly callable after loading.\n"
          ]
        },
        {
          "output_type": "stream",
          "name": "stdout",
          "text": [
            "\b\b\b\b\b\b\b\b\b\b\b\b\b\b\b\b\b\b\b\b\b\b\b\b\b\b\b\b\b\b\b\b\b\b\b\b\b\b\b\b\b\b\b\b\b\b\b\b\b\b\b\b\b\b\b\b\b\b\b\b\b\b\b\b\b\b\b\b\b\b\b\b\b\b\b\b\b\b\b\b\b\b\b\b\b\b\b\b\b\b\b\b\b\b\b\b\b\b\b\r18/18 [==============================] - 1s 37ms/step - loss: 130.5019 - mae: 130.5019 - mse: 97720.1016 - val_loss: 731.1694 - val_mae: 731.1694 - val_mse: 1740937.7500\n",
            "Epoch 17/100\n",
            "18/18 [==============================] - 0s 6ms/step - loss: 129.3198 - mae: 129.3198 - mse: 97711.5938 - val_loss: 742.6655 - val_mae: 742.6655 - val_mse: 1740606.3750\n",
            "Epoch 18/100\n",
            "18/18 [==============================] - ETA: 0s - loss: 127.7900 - mae: 127.7900 - mse: 94664.2188 "
          ]
        },
        {
          "output_type": "stream",
          "name": "stderr",
          "text": [
            "WARNING:absl:Found untraced functions such as _update_step_xla while saving (showing 1 of 1). These functions will not be directly callable after loading.\n"
          ]
        },
        {
          "output_type": "stream",
          "name": "stdout",
          "text": [
            "\b\b\b\b\b\b\b\b\b\b\b\b\b\b\b\b\b\b\b\b\b\b\b\b\b\b\b\b\b\b\b\b\b\b\b\b\b\b\b\b\b\b\b\b\b\b\b\b\b\b\b\b\b\b\b\b\b\b\b\b\b\b\b\b\b\b\b\b\b\b\b\b\b\b\b\b\b\b\b\b\b\b\b\b\b\b\b\b\b\b\b\b\b\b\b\b\b\b\b\r18/18 [==============================] - 1s 38ms/step - loss: 127.7900 - mae: 127.7900 - mse: 94664.2188 - val_loss: 702.2242 - val_mae: 702.2242 - val_mse: 1662668.3750\n",
            "Epoch 19/100\n",
            "18/18 [==============================] - 0s 6ms/step - loss: 126.7757 - mae: 126.7757 - mse: 93674.9297 - val_loss: 733.5811 - val_mae: 733.5811 - val_mse: 1682238.7500\n",
            "Epoch 20/100\n",
            "18/18 [==============================] - ETA: 0s - loss: 123.6567 - mae: 123.6567 - mse: 89462.7734 "
          ]
        },
        {
          "output_type": "stream",
          "name": "stderr",
          "text": [
            "WARNING:absl:Found untraced functions such as _update_step_xla while saving (showing 1 of 1). These functions will not be directly callable after loading.\n"
          ]
        },
        {
          "output_type": "stream",
          "name": "stdout",
          "text": [
            "\b\b\b\b\b\b\b\b\b\b\b\b\b\b\b\b\b\b\b\b\b\b\b\b\b\b\b\b\b\b\b\b\b\b\b\b\b\b\b\b\b\b\b\b\b\b\b\b\b\b\b\b\b\b\b\b\b\b\b\b\b\b\b\b\b\b\b\b\b\b\b\b\b\b\b\b\b\b\b\b\b\b\b\b\b\b\b\b\b\b\b\b\b\b\b\b\b\b\b\r18/18 [==============================] - 1s 35ms/step - loss: 123.6567 - mae: 123.6567 - mse: 89462.7734 - val_loss: 685.2482 - val_mae: 685.2482 - val_mse: 1567721.6250\n",
            "Epoch 21/100\n",
            "16/18 [=========================>....] - ETA: 0s - loss: 125.8519 - mae: 125.8519 - mse: 88779.9922"
          ]
        },
        {
          "output_type": "stream",
          "name": "stderr",
          "text": [
            "WARNING:absl:Found untraced functions such as _update_step_xla while saving (showing 1 of 1). These functions will not be directly callable after loading.\n"
          ]
        },
        {
          "output_type": "stream",
          "name": "stdout",
          "text": [
            "\b\b\b\b\b\b\b\b\b\b\b\b\b\b\b\b\b\b\b\b\b\b\b\b\b\b\b\b\b\b\b\b\b\b\b\b\b\b\b\b\b\b\b\b\b\b\b\b\b\b\b\b\b\b\b\b\b\b\b\b\b\b\b\b\b\b\b\b\b\b\b\b\b\b\b\b\b\b\b\b\b\b\b\b\b\b\b\b\b\b\b\b\b\b\b\b\b\b\b\r18/18 [==============================] - 1s 37ms/step - loss: 126.3736 - mae: 126.3736 - mse: 91211.2656 - val_loss: 675.9442 - val_mae: 675.9442 - val_mse: 1560773.3750\n",
            "Epoch 22/100\n",
            "18/18 [==============================] - 0s 6ms/step - loss: 124.3451 - mae: 124.3451 - mse: 89986.2578 - val_loss: 679.8989 - val_mae: 679.8989 - val_mse: 1518278.8750\n",
            "Epoch 23/100\n",
            "17/18 [===========================>..] - ETA: 0s - loss: 122.6400 - mae: 122.6400 - mse: 82977.2734"
          ]
        },
        {
          "output_type": "stream",
          "name": "stderr",
          "text": [
            "WARNING:absl:Found untraced functions such as _update_step_xla while saving (showing 1 of 1). These functions will not be directly callable after loading.\n"
          ]
        },
        {
          "output_type": "stream",
          "name": "stdout",
          "text": [
            "\b\b\b\b\b\b\b\b\b\b\b\b\b\b\b\b\b\b\b\b\b\b\b\b\b\b\b\b\b\b\b\b\b\b\b\b\b\b\b\b\b\b\b\b\b\b\b\b\b\b\b\b\b\b\b\b\b\b\b\b\b\b\b\b\b\b\b\b\b\b\b\b\b\b\b\b\b\b\b\b\b\b\b\b\b\b\b\b\b\b\b\b\b\b\b\b\b\b\b\r18/18 [==============================] - 1s 38ms/step - loss: 123.5873 - mae: 123.5873 - mse: 86984.2812 - val_loss: 662.4466 - val_mae: 662.4466 - val_mse: 1498748.3750\n",
            "Epoch 24/100\n",
            "17/18 [===========================>..] - ETA: 0s - loss: 121.8750 - mae: 121.8750 - mse: 88593.4688"
          ]
        },
        {
          "output_type": "stream",
          "name": "stderr",
          "text": [
            "WARNING:absl:Found untraced functions such as _update_step_xla while saving (showing 1 of 1). These functions will not be directly callable after loading.\n"
          ]
        },
        {
          "output_type": "stream",
          "name": "stdout",
          "text": [
            "\b\b\b\b\b\b\b\b\b\b\b\b\b\b\b\b\b\b\b\b\b\b\b\b\b\b\b\b\b\b\b\b\b\b\b\b\b\b\b\b\b\b\b\b\b\b\b\b\b\b\b\b\b\b\b\b\b\b\b\b\b\b\b\b\b\b\b\b\b\b\b\b\b\b\b\b\b\b\b\b\b\b\b\b\b\b\b\b\b\b\b\b\b\b\b\b\b\b\b\r18/18 [==============================] - 1s 40ms/step - loss: 120.4228 - mae: 120.4228 - mse: 87037.6797 - val_loss: 659.1841 - val_mae: 659.1841 - val_mse: 1460849.3750\n",
            "Epoch 25/100\n",
            "17/18 [===========================>..] - ETA: 0s - loss: 119.1116 - mae: 119.1116 - mse: 84471.2031"
          ]
        },
        {
          "output_type": "stream",
          "name": "stderr",
          "text": [
            "WARNING:absl:Found untraced functions such as _update_step_xla while saving (showing 1 of 1). These functions will not be directly callable after loading.\n"
          ]
        },
        {
          "output_type": "stream",
          "name": "stdout",
          "text": [
            "\b\b\b\b\b\b\b\b\b\b\b\b\b\b\b\b\b\b\b\b\b\b\b\b\b\b\b\b\b\b\b\b\b\b\b\b\b\b\b\b\b\b\b\b\b\b\b\b\b\b\b\b\b\b\b\b\b\b\b\b\b\b\b\b\b\b\b\b\b\b\b\b\b\b\b\b\b\b\b\b\b\b\b\b\b\b\b\b\b\b\b\b\b\b\b\b\b\b\b\r18/18 [==============================] - 1s 37ms/step - loss: 118.5287 - mae: 118.5287 - mse: 83545.1328 - val_loss: 650.4664 - val_mae: 650.4664 - val_mse: 1455015.8750\n",
            "Epoch 26/100\n",
            "16/18 [=========================>....] - ETA: 0s - loss: 121.7520 - mae: 121.7520 - mse: 83992.7656"
          ]
        },
        {
          "output_type": "stream",
          "name": "stderr",
          "text": [
            "WARNING:absl:Found untraced functions such as _update_step_xla while saving (showing 1 of 1). These functions will not be directly callable after loading.\n"
          ]
        },
        {
          "output_type": "stream",
          "name": "stdout",
          "text": [
            "\b\b\b\b\b\b\b\b\b\b\b\b\b\b\b\b\b\b\b\b\b\b\b\b\b\b\b\b\b\b\b\b\b\b\b\b\b\b\b\b\b\b\b\b\b\b\b\b\b\b\b\b\b\b\b\b\b\b\b\b\b\b\b\b\b\b\b\b\b\b\b\b\b\b\b\b\b\b\b\b\b\b\b\b\b\b\b\b\b\b\b\b\b\b\b\b\b\b\b\r18/18 [==============================] - 1s 51ms/step - loss: 120.2022 - mae: 120.2022 - mse: 84480.3047 - val_loss: 645.3830 - val_mae: 645.3830 - val_mse: 1416758.1250\n",
            "Epoch 27/100\n",
            "17/18 [===========================>..] - ETA: 0s - loss: 119.4046 - mae: 119.4046 - mse: 80227.8750 "
          ]
        },
        {
          "output_type": "stream",
          "name": "stderr",
          "text": [
            "WARNING:absl:Found untraced functions such as _update_step_xla while saving (showing 1 of 1). These functions will not be directly callable after loading.\n"
          ]
        },
        {
          "output_type": "stream",
          "name": "stdout",
          "text": [
            "\b\b\b\b\b\b\b\b\b\b\b\b\b\b\b\b\b\b\b\b\b\b\b\b\b\b\b\b\b\b\b\b\b\b\b\b\b\b\b\b\b\b\b\b\b\b\b\b\b\b\b\b\b\b\b\b\b\b\b\b\b\b\b\b\b\b\b\b\b\b\b\b\b\b\b\b\b\b\b\b\b\b\b\b\b\b\b\b\b\b\b\b\b\b\b\b\b\b\b\r18/18 [==============================] - 1s 37ms/step - loss: 119.8187 - mae: 119.8187 - mse: 82423.8594 - val_loss: 641.9546 - val_mae: 641.9546 - val_mse: 1425986.1250\n",
            "Epoch 28/100\n",
            "17/18 [===========================>..] - ETA: 0s - loss: 116.4579 - mae: 116.4579 - mse: 82116.8984"
          ]
        },
        {
          "output_type": "stream",
          "name": "stderr",
          "text": [
            "WARNING:absl:Found untraced functions such as _update_step_xla while saving (showing 1 of 1). These functions will not be directly callable after loading.\n"
          ]
        },
        {
          "output_type": "stream",
          "name": "stdout",
          "text": [
            "\b\b\b\b\b\b\b\b\b\b\b\b\b\b\b\b\b\b\b\b\b\b\b\b\b\b\b\b\b\b\b\b\b\b\b\b\b\b\b\b\b\b\b\b\b\b\b\b\b\b\b\b\b\b\b\b\b\b\b\b\b\b\b\b\b\b\b\b\b\b\b\b\b\b\b\b\b\b\b\b\b\b\b\b\b\b\b\b\b\b\b\b\b\b\b\b\b\b\b\r18/18 [==============================] - 1s 36ms/step - loss: 116.3395 - mae: 116.3395 - mse: 81156.8594 - val_loss: 638.4769 - val_mae: 638.4769 - val_mse: 1386518.5000\n",
            "Epoch 29/100\n",
            "18/18 [==============================] - ETA: 0s - loss: 120.5443 - mae: 120.5443 - mse: 83041.5078"
          ]
        },
        {
          "output_type": "stream",
          "name": "stderr",
          "text": [
            "WARNING:absl:Found untraced functions such as _update_step_xla while saving (showing 1 of 1). These functions will not be directly callable after loading.\n"
          ]
        },
        {
          "output_type": "stream",
          "name": "stdout",
          "text": [
            "\b\b\b\b\b\b\b\b\b\b\b\b\b\b\b\b\b\b\b\b\b\b\b\b\b\b\b\b\b\b\b\b\b\b\b\b\b\b\b\b\b\b\b\b\b\b\b\b\b\b\b\b\b\b\b\b\b\b\b\b\b\b\b\b\b\b\b\b\b\b\b\b\b\b\b\b\b\b\b\b\b\b\b\b\b\b\b\b\b\b\b\b\b\b\b\b\b\b\b\r18/18 [==============================] - 1s 40ms/step - loss: 120.5443 - mae: 120.5443 - mse: 83041.5078 - val_loss: 631.0636 - val_mae: 631.0636 - val_mse: 1378424.1250\n",
            "Epoch 30/100\n",
            "16/18 [=========================>....] - ETA: 0s - loss: 118.8495 - mae: 118.8495 - mse: 79799.8906 "
          ]
        },
        {
          "output_type": "stream",
          "name": "stderr",
          "text": [
            "WARNING:absl:Found untraced functions such as _update_step_xla while saving (showing 1 of 1). These functions will not be directly callable after loading.\n"
          ]
        },
        {
          "output_type": "stream",
          "name": "stdout",
          "text": [
            "\b\b\b\b\b\b\b\b\b\b\b\b\b\b\b\b\b\b\b\b\b\b\b\b\b\b\b\b\b\b\b\b\b\b\b\b\b\b\b\b\b\b\b\b\b\b\b\b\b\b\b\b\b\b\b\b\b\b\b\b\b\b\b\b\b\b\b\b\b\b\b\b\b\b\b\b\b\b\b\b\b\b\b\b\b\b\b\b\b\b\b\b\b\b\b\b\b\b\b\r18/18 [==============================] - 1s 38ms/step - loss: 120.0401 - mae: 120.0401 - mse: 82398.8594 - val_loss: 628.2900 - val_mae: 628.2900 - val_mse: 1368836.1250\n",
            "Epoch 31/100\n",
            "17/18 [===========================>..] - ETA: 0s - loss: 113.4870 - mae: 113.4870 - mse: 77262.3672"
          ]
        },
        {
          "output_type": "stream",
          "name": "stderr",
          "text": [
            "WARNING:absl:Found untraced functions such as _update_step_xla while saving (showing 1 of 1). These functions will not be directly callable after loading.\n"
          ]
        },
        {
          "output_type": "stream",
          "name": "stdout",
          "text": [
            "\b\b\b\b\b\b\b\b\b\b\b\b\b\b\b\b\b\b\b\b\b\b\b\b\b\b\b\b\b\b\b\b\b\b\b\b\b\b\b\b\b\b\b\b\b\b\b\b\b\b\b\b\b\b\b\b\b\b\b\b\b\b\b\b\b\b\b\b\b\b\b\b\b\b\b\b\b\b\b\b\b\b\b\b\b\b\b\b\b\b\b\b\b\b\b\b\b\b\b\r18/18 [==============================] - 1s 37ms/step - loss: 114.2187 - mae: 114.2187 - mse: 77976.5312 - val_loss: 626.5963 - val_mae: 626.5963 - val_mse: 1347241.7500\n",
            "Epoch 32/100\n",
            "18/18 [==============================] - 0s 6ms/step - loss: 115.6390 - mae: 115.6390 - mse: 80233.9531 - val_loss: 628.5103 - val_mae: 628.5103 - val_mse: 1345145.3750\n",
            "Epoch 33/100\n",
            "18/18 [==============================] - 0s 9ms/step - loss: 115.3203 - mae: 115.3203 - mse: 77721.8672 - val_loss: 652.2422 - val_mae: 652.2422 - val_mse: 1391019.2500\n",
            "Epoch 34/100\n",
            "11/18 [=================>............] - ETA: 0s - loss: 121.2156 - mae: 121.2156 - mse: 92967.0391 "
          ]
        },
        {
          "output_type": "stream",
          "name": "stderr",
          "text": [
            "WARNING:absl:Found untraced functions such as _update_step_xla while saving (showing 1 of 1). These functions will not be directly callable after loading.\n"
          ]
        },
        {
          "output_type": "stream",
          "name": "stdout",
          "text": [
            "\b\b\b\b\b\b\b\b\b\b\b\b\b\b\b\b\b\b\b\b\b\b\b\b\b\b\b\b\b\b\b\b\b\b\b\b\b\b\b\b\b\b\b\b\b\b\b\b\b\b\b\b\b\b\b\b\b\b\b\b\b\b\b\b\b\b\b\b\b\b\b\b\b\b\b\b\b\b\b\b\b\b\b\b\b\b\b\b\b\b\b\b\b\b\b\b\b\b\b\r18/18 [==============================] - 1s 56ms/step - loss: 114.5744 - mae: 114.5744 - mse: 79728.9375 - val_loss: 624.3171 - val_mae: 624.3171 - val_mse: 1363482.8750\n",
            "Epoch 35/100\n",
            "12/18 [===================>..........] - ETA: 0s - loss: 114.6102 - mae: 114.6102 - mse: 78610.4297"
          ]
        },
        {
          "output_type": "stream",
          "name": "stderr",
          "text": [
            "WARNING:absl:Found untraced functions such as _update_step_xla while saving (showing 1 of 1). These functions will not be directly callable after loading.\n"
          ]
        },
        {
          "output_type": "stream",
          "name": "stdout",
          "text": [
            "\b\b\b\b\b\b\b\b\b\b\b\b\b\b\b\b\b\b\b\b\b\b\b\b\b\b\b\b\b\b\b\b\b\b\b\b\b\b\b\b\b\b\b\b\b\b\b\b\b\b\b\b\b\b\b\b\b\b\b\b\b\b\b\b\b\b\b\b\b\b\b\b\b\b\b\b\b\b\b\b\b\b\b\b\b\b\b\b\b\b\b\b\b\b\b\b\b\b\b\r18/18 [==============================] - 1s 57ms/step - loss: 113.8685 - mae: 113.8685 - mse: 78939.3750 - val_loss: 610.6268 - val_mae: 610.6268 - val_mse: 1302863.1250\n",
            "Epoch 36/100\n",
            "18/18 [==============================] - 0s 8ms/step - loss: 115.9041 - mae: 115.9041 - mse: 77302.0000 - val_loss: 615.7307 - val_mae: 615.7307 - val_mse: 1333580.3750\n",
            "Epoch 37/100\n",
            "11/18 [=================>............] - ETA: 0s - loss: 114.0281 - mae: 114.0281 - mse: 80655.3359 "
          ]
        },
        {
          "output_type": "stream",
          "name": "stderr",
          "text": [
            "WARNING:absl:Found untraced functions such as _update_step_xla while saving (showing 1 of 1). These functions will not be directly callable after loading.\n"
          ]
        },
        {
          "output_type": "stream",
          "name": "stdout",
          "text": [
            "\b\b\b\b\b\b\b\b\b\b\b\b\b\b\b\b\b\b\b\b\b\b\b\b\b\b\b\b\b\b\b\b\b\b\b\b\b\b\b\b\b\b\b\b\b\b\b\b\b\b\b\b\b\b\b\b\b\b\b\b\b\b\b\b\b\b\b\b\b\b\b\b\b\b\b\b\b\b\b\b\b\b\b\b\b\b\b\b\b\b\b\b\b\b\b\b\b\b\b\r18/18 [==============================] - 1s 41ms/step - loss: 112.8486 - mae: 112.8486 - mse: 77764.0625 - val_loss: 607.6478 - val_mae: 607.6478 - val_mse: 1300872.6250\n",
            "Epoch 38/100\n",
            "16/18 [=========================>....] - ETA: 0s - loss: 112.3307 - mae: 112.3307 - mse: 76567.3984"
          ]
        },
        {
          "output_type": "stream",
          "name": "stderr",
          "text": [
            "WARNING:absl:Found untraced functions such as _update_step_xla while saving (showing 1 of 1). These functions will not be directly callable after loading.\n"
          ]
        },
        {
          "output_type": "stream",
          "name": "stdout",
          "text": [
            "\b\b\b\b\b\b\b\b\b\b\b\b\b\b\b\b\b\b\b\b\b\b\b\b\b\b\b\b\b\b\b\b\b\b\b\b\b\b\b\b\b\b\b\b\b\b\b\b\b\b\b\b\b\b\b\b\b\b\b\b\b\b\b\b\b\b\b\b\b\b\b\b\b\b\b\b\b\b\b\b\b\b\b\b\b\b\b\b\b\b\b\b\b\b\b\b\b\b\b\r18/18 [==============================] - 1s 38ms/step - loss: 112.4701 - mae: 112.4701 - mse: 77318.2266 - val_loss: 604.0884 - val_mae: 604.0884 - val_mse: 1278971.0000\n",
            "Epoch 39/100\n",
            "17/18 [===========================>..] - ETA: 0s - loss: 111.8619 - mae: 111.8619 - mse: 76890.2031 "
          ]
        },
        {
          "output_type": "stream",
          "name": "stderr",
          "text": [
            "WARNING:absl:Found untraced functions such as _update_step_xla while saving (showing 1 of 1). These functions will not be directly callable after loading.\n"
          ]
        },
        {
          "output_type": "stream",
          "name": "stdout",
          "text": [
            "\b\b\b\b\b\b\b\b\b\b\b\b\b\b\b\b\b\b\b\b\b\b\b\b\b\b\b\b\b\b\b\b\b\b\b\b\b\b\b\b\b\b\b\b\b\b\b\b\b\b\b\b\b\b\b\b\b\b\b\b\b\b\b\b\b\b\b\b\b\b\b\b\b\b\b\b\b\b\b\b\b\b\b\b\b\b\b\b\b\b\b\b\b\b\b\b\b\b\b\r18/18 [==============================] - 1s 37ms/step - loss: 112.4759 - mae: 112.4759 - mse: 77527.5234 - val_loss: 600.7278 - val_mae: 600.7278 - val_mse: 1277155.8750\n",
            "Epoch 40/100\n",
            "18/18 [==============================] - ETA: 0s - loss: 110.4754 - mae: 110.4754 - mse: 75090.4062"
          ]
        },
        {
          "output_type": "stream",
          "name": "stderr",
          "text": [
            "WARNING:absl:Found untraced functions such as _update_step_xla while saving (showing 1 of 1). These functions will not be directly callable after loading.\n"
          ]
        },
        {
          "output_type": "stream",
          "name": "stdout",
          "text": [
            "\b\b\b\b\b\b\b\b\b\b\b\b\b\b\b\b\b\b\b\b\b\b\b\b\b\b\b\b\b\b\b\b\b\b\b\b\b\b\b\b\b\b\b\b\b\b\b\b\b\b\b\b\b\b\b\b\b\b\b\b\b\b\b\b\b\b\b\b\b\b\b\b\b\b\b\b\b\b\b\b\b\b\b\b\b\b\b\b\b\b\b\b\b\b\b\b\b\b\b\r18/18 [==============================] - 1s 39ms/step - loss: 110.4754 - mae: 110.4754 - mse: 75090.4062 - val_loss: 599.8132 - val_mae: 599.8132 - val_mse: 1275644.2500\n",
            "Epoch 41/100\n",
            "16/18 [=========================>....] - ETA: 0s - loss: 113.0084 - mae: 113.0084 - mse: 76818.7031"
          ]
        },
        {
          "output_type": "stream",
          "name": "stderr",
          "text": [
            "WARNING:absl:Found untraced functions such as _update_step_xla while saving (showing 1 of 1). These functions will not be directly callable after loading.\n"
          ]
        },
        {
          "output_type": "stream",
          "name": "stdout",
          "text": [
            "\b\b\b\b\b\b\b\b\b\b\b\b\b\b\b\b\b\b\b\b\b\b\b\b\b\b\b\b\b\b\b\b\b\b\b\b\b\b\b\b\b\b\b\b\b\b\b\b\b\b\b\b\b\b\b\b\b\b\b\b\b\b\b\b\b\b\b\b\b\b\b\b\b\b\b\b\b\b\b\b\b\b\b\b\b\b\b\b\b\b\b\b\b\b\b\b\b\b\b\r18/18 [==============================] - 1s 49ms/step - loss: 111.3149 - mae: 111.3149 - mse: 73808.8047 - val_loss: 597.4504 - val_mae: 597.4504 - val_mse: 1258386.5000\n",
            "Epoch 42/100\n",
            "18/18 [==============================] - 0s 6ms/step - loss: 113.5704 - mae: 113.5704 - mse: 77401.8359 - val_loss: 722.1884 - val_mae: 722.1884 - val_mse: 1537416.3750\n",
            "Epoch 43/100\n",
            "18/18 [==============================] - 0s 6ms/step - loss: 118.7898 - mae: 118.7898 - mse: 76380.1250 - val_loss: 699.4391 - val_mae: 699.4391 - val_mse: 1552427.1250\n",
            "Epoch 44/100\n",
            "18/18 [==============================] - 0s 7ms/step - loss: 114.3888 - mae: 114.3888 - mse: 74605.2812 - val_loss: 606.3892 - val_mae: 606.3892 - val_mse: 1266530.1250\n",
            "Epoch 45/100\n",
            "18/18 [==============================] - 0s 6ms/step - loss: 111.0470 - mae: 111.0470 - mse: 73376.6016 - val_loss: 604.7151 - val_mae: 604.7151 - val_mse: 1288509.8750\n",
            "Epoch 46/100\n",
            "18/18 [==============================] - 0s 6ms/step - loss: 110.2610 - mae: 110.2610 - mse: 72328.1172 - val_loss: 621.3232 - val_mae: 621.3232 - val_mse: 1291631.2500\n",
            "Epoch 47/100\n",
            "18/18 [==============================] - 0s 6ms/step - loss: 111.1559 - mae: 111.1559 - mse: 74490.9922 - val_loss: 629.2415 - val_mae: 629.2415 - val_mse: 1305398.5000\n",
            "Epoch 48/100\n",
            "16/18 [=========================>....] - ETA: 0s - loss: 107.4872 - mae: 107.4872 - mse: 73971.5156"
          ]
        },
        {
          "output_type": "stream",
          "name": "stderr",
          "text": [
            "WARNING:absl:Found untraced functions such as _update_step_xla while saving (showing 1 of 1). These functions will not be directly callable after loading.\n"
          ]
        },
        {
          "output_type": "stream",
          "name": "stdout",
          "text": [
            "\b\b\b\b\b\b\b\b\b\b\b\b\b\b\b\b\b\b\b\b\b\b\b\b\b\b\b\b\b\b\b\b\b\b\b\b\b\b\b\b\b\b\b\b\b\b\b\b\b\b\b\b\b\b\b\b\b\b\b\b\b\b\b\b\b\b\b\b\b\b\b\b\b\b\b\b\b\b\b\b\b\b\b\b\b\b\b\b\b\b\b\b\b\b\b\b\b\b\b\r18/18 [==============================] - 1s 36ms/step - loss: 109.0887 - mae: 109.0887 - mse: 72800.6484 - val_loss: 591.0703 - val_mae: 591.0703 - val_mse: 1232613.7500\n",
            "Epoch 49/100\n",
            "18/18 [==============================] - 0s 6ms/step - loss: 112.1108 - mae: 112.1108 - mse: 75358.4922 - val_loss: 712.4213 - val_mae: 712.4213 - val_mse: 1503556.2500\n",
            "Epoch 50/100\n",
            "18/18 [==============================] - 0s 6ms/step - loss: 120.4650 - mae: 120.4650 - mse: 79146.8047 - val_loss: 641.1346 - val_mae: 641.1346 - val_mse: 1371118.1250\n",
            "Epoch 51/100\n",
            "17/18 [===========================>..] - ETA: 0s - loss: 112.8080 - mae: 112.8080 - mse: 74295.8594"
          ]
        },
        {
          "output_type": "stream",
          "name": "stderr",
          "text": [
            "WARNING:absl:Found untraced functions such as _update_step_xla while saving (showing 1 of 1). These functions will not be directly callable after loading.\n"
          ]
        },
        {
          "output_type": "stream",
          "name": "stdout",
          "text": [
            "\b\b\b\b\b\b\b\b\b\b\b\b\b\b\b\b\b\b\b\b\b\b\b\b\b\b\b\b\b\b\b\b\b\b\b\b\b\b\b\b\b\b\b\b\b\b\b\b\b\b\b\b\b\b\b\b\b\b\b\b\b\b\b\b\b\b\b\b\b\b\b\b\b\b\b\b\b\b\b\b\b\b\b\b\b\b\b\b\b\b\b\b\b\b\b\b\b\b\b\r18/18 [==============================] - 1s 36ms/step - loss: 112.7179 - mae: 112.7179 - mse: 73696.8594 - val_loss: 589.7219 - val_mae: 589.7219 - val_mse: 1226541.8750\n",
            "Epoch 52/100\n",
            "18/18 [==============================] - 0s 7ms/step - loss: 114.4311 - mae: 114.4311 - mse: 75651.0938 - val_loss: 618.0992 - val_mae: 618.0992 - val_mse: 1311419.8750\n",
            "Epoch 53/100\n",
            "18/18 [==============================] - 0s 6ms/step - loss: 111.6410 - mae: 111.6410 - mse: 73144.6797 - val_loss: 624.0428 - val_mae: 624.0428 - val_mse: 1289133.8750\n",
            "Epoch 54/100\n",
            "17/18 [===========================>..] - ETA: 0s - loss: 111.2719 - mae: 111.2719 - mse: 74086.9375"
          ]
        },
        {
          "output_type": "stream",
          "name": "stderr",
          "text": [
            "WARNING:absl:Found untraced functions such as _update_step_xla while saving (showing 1 of 1). These functions will not be directly callable after loading.\n"
          ]
        },
        {
          "output_type": "stream",
          "name": "stdout",
          "text": [
            "\b\b\b\b\b\b\b\b\b\b\b\b\b\b\b\b\b\b\b\b\b\b\b\b\b\b\b\b\b\b\b\b\b\b\b\b\b\b\b\b\b\b\b\b\b\b\b\b\b\b\b\b\b\b\b\b\b\b\b\b\b\b\b\b\b\b\b\b\b\b\b\b\b\b\b\b\b\b\b\b\b\b\b\b\b\b\b\b\b\b\b\b\b\b\b\b\b\b\b\r18/18 [==============================] - 1s 36ms/step - loss: 111.1272 - mae: 111.1272 - mse: 73321.3047 - val_loss: 589.2000 - val_mae: 589.2000 - val_mse: 1221209.2500\n",
            "Epoch 55/100\n",
            "14/18 [======================>.......] - ETA: 0s - loss: 113.0419 - mae: 113.0419 - mse: 77236.0156 "
          ]
        },
        {
          "output_type": "stream",
          "name": "stderr",
          "text": [
            "WARNING:absl:Found untraced functions such as _update_step_xla while saving (showing 1 of 1). These functions will not be directly callable after loading.\n"
          ]
        },
        {
          "output_type": "stream",
          "name": "stdout",
          "text": [
            "\b\b\b\b\b\b\b\b\b\b\b\b\b\b\b\b\b\b\b\b\b\b\b\b\b\b\b\b\b\b\b\b\b\b\b\b\b\b\b\b\b\b\b\b\b\b\b\b\b\b\b\b\b\b\b\b\b\b\b\b\b\b\b\b\b\b\b\b\b\b\b\b\b\b\b\b\b\b\b\b\b\b\b\b\b\b\b\b\b\b\b\b\b\b\b\b\b\b\b\r18/18 [==============================] - 1s 37ms/step - loss: 108.3957 - mae: 108.3957 - mse: 72677.2656 - val_loss: 585.6996 - val_mae: 585.6996 - val_mse: 1214439.1250\n",
            "Epoch 56/100\n",
            "18/18 [==============================] - 0s 7ms/step - loss: 108.7504 - mae: 108.7504 - mse: 71651.0391 - val_loss: 728.6163 - val_mae: 728.6163 - val_mse: 1615079.5000\n",
            "Epoch 57/100\n",
            "18/18 [==============================] - 0s 6ms/step - loss: 114.0033 - mae: 114.0033 - mse: 75173.7656 - val_loss: 627.4775 - val_mae: 627.4775 - val_mse: 1292248.8750\n",
            "Epoch 58/100\n",
            "17/18 [===========================>..] - ETA: 0s - loss: 107.3990 - mae: 107.3990 - mse: 69919.6250"
          ]
        },
        {
          "output_type": "stream",
          "name": "stderr",
          "text": [
            "WARNING:absl:Found untraced functions such as _update_step_xla while saving (showing 1 of 1). These functions will not be directly callable after loading.\n"
          ]
        },
        {
          "output_type": "stream",
          "name": "stdout",
          "text": [
            "\b\b\b\b\b\b\b\b\b\b\b\b\b\b\b\b\b\b\b\b\b\b\b\b\b\b\b\b\b\b\b\b\b\b\b\b\b\b\b\b\b\b\b\b\b\b\b\b\b\b\b\b\b\b\b\b\b\b\b\b\b\b\b\b\b\b\b\b\b\b\b\b\b\b\b\b\b\b\b\b\b\b\b\b\b\b\b\b\b\b\b\b\b\b\b\b\b\b\b\r18/18 [==============================] - 1s 37ms/step - loss: 108.0689 - mae: 108.0689 - mse: 71814.2656 - val_loss: 584.8160 - val_mae: 584.8160 - val_mse: 1224947.1250\n",
            "Epoch 59/100\n",
            "18/18 [==============================] - 0s 7ms/step - loss: 106.9392 - mae: 106.9392 - mse: 70845.2969 - val_loss: 608.6271 - val_mae: 608.6271 - val_mse: 1280069.7500\n",
            "Epoch 60/100\n",
            "18/18 [==============================] - 0s 7ms/step - loss: 111.7728 - mae: 111.7728 - mse: 75207.7500 - val_loss: 644.3626 - val_mae: 644.3626 - val_mse: 1326895.0000\n",
            "Epoch 61/100\n",
            "17/18 [===========================>..] - ETA: 0s - loss: 113.5900 - mae: 113.5900 - mse: 76587.7188"
          ]
        },
        {
          "output_type": "stream",
          "name": "stderr",
          "text": [
            "WARNING:absl:Found untraced functions such as _update_step_xla while saving (showing 1 of 1). These functions will not be directly callable after loading.\n"
          ]
        },
        {
          "output_type": "stream",
          "name": "stdout",
          "text": [
            "\b\b\b\b\b\b\b\b\b\b\b\b\b\b\b\b\b\b\b\b\b\b\b\b\b\b\b\b\b\b\b\b\b\b\b\b\b\b\b\b\b\b\b\b\b\b\b\b\b\b\b\b\b\b\b\b\b\b\b\b\b\b\b\b\b\b\b\b\b\b\b\b\b\b\b\b\b\b\b\b\b\b\b\b\b\b\b\b\b\b\b\b\b\b\b\b\b\b\b\r18/18 [==============================] - 1s 38ms/step - loss: 112.3500 - mae: 112.3500 - mse: 75250.5469 - val_loss: 578.1595 - val_mae: 578.1595 - val_mse: 1204436.7500\n",
            "Epoch 62/100\n",
            "16/18 [=========================>....] - ETA: 0s - loss: 107.9254 - mae: 107.9254 - mse: 71750.3047"
          ]
        },
        {
          "output_type": "stream",
          "name": "stderr",
          "text": [
            "WARNING:absl:Found untraced functions such as _update_step_xla while saving (showing 1 of 1). These functions will not be directly callable after loading.\n"
          ]
        },
        {
          "output_type": "stream",
          "name": "stdout",
          "text": [
            "\b\b\b\b\b\b\b\b\b\b\b\b\b\b\b\b\b\b\b\b\b\b\b\b\b\b\b\b\b\b\b\b\b\b\b\b\b\b\b\b\b\b\b\b\b\b\b\b\b\b\b\b\b\b\b\b\b\b\b\b\b\b\b\b\b\b\b\b\b\b\b\b\b\b\b\b\b\b\b\b\b\b\b\b\b\b\b\b\b\b\b\b\b\b\b\b\b\b\b\r18/18 [==============================] - 1s 37ms/step - loss: 106.1851 - mae: 106.1851 - mse: 69793.5703 - val_loss: 576.5593 - val_mae: 576.5593 - val_mse: 1193834.6250\n",
            "Epoch 63/100\n",
            "18/18 [==============================] - 0s 6ms/step - loss: 107.0894 - mae: 107.0894 - mse: 70308.7969 - val_loss: 576.7119 - val_mae: 576.7119 - val_mse: 1192476.2500\n",
            "Epoch 64/100\n",
            "18/18 [==============================] - 0s 6ms/step - loss: 106.8030 - mae: 106.8030 - mse: 70459.9688 - val_loss: 629.0236 - val_mae: 629.0236 - val_mse: 1293441.8750\n",
            "Epoch 65/100\n",
            "18/18 [==============================] - 0s 6ms/step - loss: 111.1395 - mae: 111.1395 - mse: 73574.9922 - val_loss: 578.6584 - val_mae: 578.6584 - val_mse: 1204152.7500\n",
            "Epoch 66/100\n",
            "15/18 [========================>.....] - ETA: 0s - loss: 107.4791 - mae: 107.4791 - mse: 71283.6484"
          ]
        },
        {
          "output_type": "stream",
          "name": "stderr",
          "text": [
            "WARNING:absl:Found untraced functions such as _update_step_xla while saving (showing 1 of 1). These functions will not be directly callable after loading.\n"
          ]
        },
        {
          "output_type": "stream",
          "name": "stdout",
          "text": [
            "\b\b\b\b\b\b\b\b\b\b\b\b\b\b\b\b\b\b\b\b\b\b\b\b\b\b\b\b\b\b\b\b\b\b\b\b\b\b\b\b\b\b\b\b\b\b\b\b\b\b\b\b\b\b\b\b\b\b\b\b\b\b\b\b\b\b\b\b\b\b\b\b\b\b\b\b\b\b\b\b\b\b\b\b\b\b\b\b\b\b\b\b\b\b\b\b\b\b\b\r18/18 [==============================] - 1s 59ms/step - loss: 107.2877 - mae: 107.2877 - mse: 70735.2578 - val_loss: 575.6470 - val_mae: 575.6470 - val_mse: 1194156.3750\n",
            "Epoch 67/100\n",
            "18/18 [==============================] - 0s 9ms/step - loss: 107.7327 - mae: 107.7327 - mse: 69769.8750 - val_loss: 644.3729 - val_mae: 644.3729 - val_mse: 1356894.1250\n",
            "Epoch 68/100\n",
            "18/18 [==============================] - 0s 8ms/step - loss: 112.4004 - mae: 112.4004 - mse: 70729.6484 - val_loss: 622.1770 - val_mae: 622.1770 - val_mse: 1302716.3750\n",
            "Epoch 69/100\n",
            "18/18 [==============================] - 0s 8ms/step - loss: 118.7348 - mae: 118.7348 - mse: 75782.3438 - val_loss: 757.2106 - val_mae: 757.2106 - val_mse: 1622437.2500\n",
            "Epoch 70/100\n",
            "18/18 [==============================] - 0s 8ms/step - loss: 124.7746 - mae: 124.7746 - mse: 79546.0391 - val_loss: 578.5051 - val_mae: 578.5051 - val_mse: 1200716.5000\n",
            "Epoch 71/100\n",
            "18/18 [==============================] - 0s 8ms/step - loss: 106.7549 - mae: 106.7549 - mse: 69849.2578 - val_loss: 580.3794 - val_mae: 580.3794 - val_mse: 1194586.6250\n",
            "Epoch 72/100\n",
            "18/18 [==============================] - 0s 8ms/step - loss: 109.0587 - mae: 109.0587 - mse: 71629.1094 - val_loss: 601.7679 - val_mae: 601.7679 - val_mse: 1252959.2500\n",
            "Epoch 73/100\n",
            "18/18 [==============================] - 0s 9ms/step - loss: 111.1870 - mae: 111.1870 - mse: 71872.7656 - val_loss: 600.0029 - val_mae: 600.0029 - val_mse: 1227843.1250\n",
            "Epoch 74/100\n",
            "18/18 [==============================] - 0s 8ms/step - loss: 112.7174 - mae: 112.7174 - mse: 74131.8281 - val_loss: 585.0607 - val_mae: 585.0607 - val_mse: 1213692.2500\n",
            "Epoch 75/100\n",
            "18/18 [==============================] - 0s 8ms/step - loss: 111.4803 - mae: 111.4803 - mse: 72153.0703 - val_loss: 585.2818 - val_mae: 585.2818 - val_mse: 1198284.2500\n",
            "Epoch 76/100\n",
            "18/18 [==============================] - 0s 9ms/step - loss: 110.7759 - mae: 110.7759 - mse: 72600.4062 - val_loss: 579.8239 - val_mae: 579.8239 - val_mse: 1200626.6250\n",
            "Epoch 77/100\n",
            "18/18 [==============================] - 0s 7ms/step - loss: 106.7777 - mae: 106.7777 - mse: 69547.4375 - val_loss: 581.6609 - val_mae: 581.6609 - val_mse: 1191315.3750\n",
            "Epoch 78/100\n",
            "18/18 [==============================] - 0s 6ms/step - loss: 112.2395 - mae: 112.2395 - mse: 70488.3359 - val_loss: 609.0104 - val_mae: 609.0104 - val_mse: 1268706.1250\n",
            "Epoch 79/100\n",
            "18/18 [==============================] - 0s 6ms/step - loss: 113.9531 - mae: 113.9531 - mse: 76717.1406 - val_loss: 582.4854 - val_mae: 582.4854 - val_mse: 1190688.7500\n",
            "Epoch 80/100\n",
            "15/18 [========================>.....] - ETA: 0s - loss: 112.5154 - mae: 112.5154 - mse: 76449.8047 "
          ]
        },
        {
          "output_type": "stream",
          "name": "stderr",
          "text": [
            "WARNING:absl:Found untraced functions such as _update_step_xla while saving (showing 1 of 1). These functions will not be directly callable after loading.\n"
          ]
        },
        {
          "output_type": "stream",
          "name": "stdout",
          "text": [
            "\b\b\b\b\b\b\b\b\b\b\b\b\b\b\b\b\b\b\b\b\b\b\b\b\b\b\b\b\b\b\b\b\b\b\b\b\b\b\b\b\b\b\b\b\b\b\b\b\b\b\b\b\b\b\b\b\b\b\b\b\b\b\b\b\b\b\b\b\b\b\b\b\b\b\b\b\b\b\b\b\b\b\b\b\b\b\b\b\b\b\b\b\b\b\b\b\b\b\b\r18/18 [==============================] - 1s 36ms/step - loss: 108.3194 - mae: 108.3194 - mse: 70880.2031 - val_loss: 571.7391 - val_mae: 571.7391 - val_mse: 1178841.0000\n",
            "Epoch 81/100\n",
            "18/18 [==============================] - 0s 6ms/step - loss: 106.4459 - mae: 106.4459 - mse: 70058.6406 - val_loss: 583.5155 - val_mae: 583.5155 - val_mse: 1191724.7500\n",
            "Epoch 82/100\n",
            "18/18 [==============================] - 0s 6ms/step - loss: 117.4486 - mae: 117.4486 - mse: 77939.1953 - val_loss: 592.4307 - val_mae: 592.4307 - val_mse: 1208789.8750\n",
            "Epoch 83/100\n",
            "18/18 [==============================] - 0s 6ms/step - loss: 116.7310 - mae: 116.7310 - mse: 76036.9297 - val_loss: 695.9755 - val_mae: 695.9755 - val_mse: 1481912.0000\n",
            "Epoch 84/100\n",
            "18/18 [==============================] - 0s 6ms/step - loss: 115.1042 - mae: 115.1042 - mse: 74119.1875 - val_loss: 590.5565 - val_mae: 590.5565 - val_mse: 1222699.2500\n",
            "Epoch 85/100\n",
            "18/18 [==============================] - 0s 5ms/step - loss: 107.6930 - mae: 107.6930 - mse: 70543.9531 - val_loss: 581.1793 - val_mae: 581.1793 - val_mse: 1187218.3750\n",
            "Epoch 86/100\n",
            "18/18 [==============================] - ETA: 0s - loss: 108.7722 - mae: 108.7722 - mse: 69733.7734"
          ]
        },
        {
          "output_type": "stream",
          "name": "stderr",
          "text": [
            "WARNING:absl:Found untraced functions such as _update_step_xla while saving (showing 1 of 1). These functions will not be directly callable after loading.\n"
          ]
        },
        {
          "output_type": "stream",
          "name": "stdout",
          "text": [
            "\b\b\b\b\b\b\b\b\b\b\b\b\b\b\b\b\b\b\b\b\b\b\b\b\b\b\b\b\b\b\b\b\b\b\b\b\b\b\b\b\b\b\b\b\b\b\b\b\b\b\b\b\b\b\b\b\b\b\b\b\b\b\b\b\b\b\b\b\b\b\b\b\b\b\b\b\b\b\b\b\b\b\b\b\b\b\b\b\b\b\b\b\b\b\b\b\b\b\b\r18/18 [==============================] - 1s 37ms/step - loss: 108.7722 - mae: 108.7722 - mse: 69733.7734 - val_loss: 570.8047 - val_mae: 570.8047 - val_mse: 1171062.7500\n",
            "Epoch 87/100\n",
            "18/18 [==============================] - 0s 6ms/step - loss: 105.0682 - mae: 105.0682 - mse: 68304.8203 - val_loss: 603.8856 - val_mae: 603.8856 - val_mse: 1250542.5000\n",
            "Epoch 88/100\n",
            "18/18 [==============================] - 0s 6ms/step - loss: 109.7218 - mae: 109.7218 - mse: 71256.6953 - val_loss: 571.5267 - val_mae: 571.5267 - val_mse: 1171581.8750\n",
            "Epoch 89/100\n",
            "18/18 [==============================] - 0s 5ms/step - loss: 109.3687 - mae: 109.3687 - mse: 69684.0469 - val_loss: 595.3257 - val_mae: 595.3257 - val_mse: 1213450.1250\n",
            "Epoch 90/100\n",
            "18/18 [==============================] - 0s 6ms/step - loss: 111.4534 - mae: 111.4534 - mse: 68571.5703 - val_loss: 615.7065 - val_mae: 615.7065 - val_mse: 1254543.3750\n",
            "Epoch 91/100\n",
            "18/18 [==============================] - 0s 6ms/step - loss: 116.3568 - mae: 116.3568 - mse: 74747.5312 - val_loss: 709.8869 - val_mae: 709.8869 - val_mse: 1521008.7500\n",
            "Epoch 92/100\n",
            "15/18 [========================>.....] - ETA: 0s - loss: 110.9342 - mae: 110.9342 - mse: 73568.1094"
          ]
        },
        {
          "output_type": "stream",
          "name": "stderr",
          "text": [
            "WARNING:absl:Found untraced functions such as _update_step_xla while saving (showing 1 of 1). These functions will not be directly callable after loading.\n"
          ]
        },
        {
          "output_type": "stream",
          "name": "stdout",
          "text": [
            "\b\b\b\b\b\b\b\b\b\b\b\b\b\b\b\b\b\b\b\b\b\b\b\b\b\b\b\b\b\b\b\b\b\b\b\b\b\b\b\b\b\b\b\b\b\b\b\b\b\b\b\b\b\b\b\b\b\b\b\b\b\b\b\b\b\b\b\b\b\b\b\b\b\b\b\b\b\b\b\b\b\b\b\b\b\b\b\b\b\b\b\b\b\b\b\b\b\b\b\r18/18 [==============================] - 1s 37ms/step - loss: 110.4024 - mae: 110.4024 - mse: 71471.1875 - val_loss: 569.9192 - val_mae: 569.9192 - val_mse: 1171526.7500\n",
            "Epoch 93/100\n",
            "18/18 [==============================] - 0s 6ms/step - loss: 109.5727 - mae: 109.5727 - mse: 70412.1250 - val_loss: 581.4083 - val_mae: 581.4083 - val_mse: 1186545.6250\n",
            "Epoch 94/100\n",
            "18/18 [==============================] - 0s 6ms/step - loss: 113.0813 - mae: 113.0813 - mse: 73742.5391 - val_loss: 570.3650 - val_mae: 570.3650 - val_mse: 1170172.2500\n",
            "Epoch 95/100\n",
            "18/18 [==============================] - ETA: 0s - loss: 106.5975 - mae: 106.5975 - mse: 68734.2422 "
          ]
        },
        {
          "output_type": "stream",
          "name": "stderr",
          "text": [
            "WARNING:absl:Found untraced functions such as _update_step_xla while saving (showing 1 of 1). These functions will not be directly callable after loading.\n"
          ]
        },
        {
          "output_type": "stream",
          "name": "stdout",
          "text": [
            "\b\b\b\b\b\b\b\b\b\b\b\b\b\b\b\b\b\b\b\b\b\b\b\b\b\b\b\b\b\b\b\b\b\b\b\b\b\b\b\b\b\b\b\b\b\b\b\b\b\b\b\b\b\b\b\b\b\b\b\b\b\b\b\b\b\b\b\b\b\b\b\b\b\b\b\b\b\b\b\b\b\b\b\b\b\b\b\b\b\b\b\b\b\b\b\b\b\b\b\r18/18 [==============================] - 1s 37ms/step - loss: 106.5975 - mae: 106.5975 - mse: 68734.2422 - val_loss: 568.7767 - val_mae: 568.7767 - val_mse: 1167764.1250\n",
            "Epoch 96/100\n",
            "18/18 [==============================] - 0s 6ms/step - loss: 105.8889 - mae: 105.8889 - mse: 68898.9531 - val_loss: 582.7606 - val_mae: 582.7606 - val_mse: 1200380.6250\n",
            "Epoch 97/100\n",
            "18/18 [==============================] - 0s 6ms/step - loss: 106.3170 - mae: 106.3170 - mse: 69602.9219 - val_loss: 570.0566 - val_mae: 570.0566 - val_mse: 1170239.7500\n",
            "Epoch 98/100\n",
            "18/18 [==============================] - 0s 6ms/step - loss: 105.8834 - mae: 105.8834 - mse: 69341.8750 - val_loss: 568.8314 - val_mae: 568.8314 - val_mse: 1164312.7500\n",
            "Epoch 99/100\n",
            "18/18 [==============================] - 0s 6ms/step - loss: 107.4832 - mae: 107.4832 - mse: 69992.1016 - val_loss: 579.5792 - val_mae: 579.5792 - val_mse: 1179508.5000\n",
            "Epoch 100/100\n",
            "18/18 [==============================] - 0s 6ms/step - loss: 115.4416 - mae: 115.4416 - mse: 71497.4922 - val_loss: 639.1481 - val_mae: 639.1481 - val_mse: 1302759.7500\n"
          ]
        }
      ]
    },
    {
      "cell_type": "code",
      "source": [
        "naive_results"
      ],
      "metadata": {
        "colab": {
          "base_uri": "https://localhost:8080/"
        },
        "id": "3AqANjAFjzfO",
        "outputId": "b4a79d6d-713d-4d33-a743-0ad0ab809b50"
      },
      "execution_count": 41,
      "outputs": [
        {
          "output_type": "execute_result",
          "data": {
            "text/plain": [
              "{'mae': 567.9802,\n",
              " 'mse': 1147547.0,\n",
              " 'rmse': 1071.2362,\n",
              " 'mape': 2.516525,\n",
              " 'mase': 0.99957}"
            ]
          },
          "metadata": {},
          "execution_count": 41
        }
      ]
    },
    {
      "cell_type": "code",
      "source": [
        "# Evaluate model on test data\n",
        "model_1.evaluate(test_windows, test_labels)"
      ],
      "metadata": {
        "colab": {
          "base_uri": "https://localhost:8080/"
        },
        "id": "7ZxXvMGjkRSf",
        "outputId": "bc82c84b-ef41-42e8-a7e2-889371869700"
      },
      "execution_count": 42,
      "outputs": [
        {
          "output_type": "stream",
          "name": "stdout",
          "text": [
            "18/18 [==============================] - 0s 3ms/step - loss: 639.1481 - mae: 639.1481 - mse: 1302760.0000\n"
          ]
        },
        {
          "output_type": "execute_result",
          "data": {
            "text/plain": [
              "[639.1480712890625, 639.1480712890625, 1302760.0]"
            ]
          },
          "metadata": {},
          "execution_count": 42
        }
      ]
    },
    {
      "cell_type": "code",
      "source": [
        "# Loading in saved best performing model_1 and evaluate it on test data\n",
        "model_1 = tf.keras.models.load_model(\"model_experiments/model_1_dense/\")\n",
        "model_1.evaluate(test_windows, test_labels)"
      ],
      "metadata": {
        "colab": {
          "base_uri": "https://localhost:8080/"
        },
        "id": "AuBsyUEDkyAD",
        "outputId": "1fef5df2-f8b4-4f8a-c762-6dd741fa76a1"
      },
      "execution_count": 43,
      "outputs": [
        {
          "output_type": "stream",
          "name": "stdout",
          "text": [
            "18/18 [==============================] - 0s 3ms/step - loss: 568.7767 - mae: 568.7767 - mse: 1167764.5000\n"
          ]
        },
        {
          "output_type": "execute_result",
          "data": {
            "text/plain": [
              "[568.7767333984375, 568.7767333984375, 1167764.5]"
            ]
          },
          "metadata": {},
          "execution_count": 43
        }
      ]
    },
    {
      "cell_type": "markdown",
      "source": [
        "## Make forecasts with a model (on the test dataset)\n",
        "\n",
        "To make \"forecasts\" on the test dataset (note: these won't be actual forecasts, they're only pseudo forecasts because actual forecasts are into the future), let's write a function to:\n",
        "\n",
        "1. Take in a train model\n",
        "2. Takes in some input data (same kind of data the model was trained on)\n",
        "3. Passes the input data to the model's `predict()` method\n",
        "4. Returns the predictions\n",
        "\n",
        "\n"
      ],
      "metadata": {
        "id": "SHUh2ttrlPs6"
      }
    },
    {
      "cell_type": "code",
      "source": [
        "def make_preds(model, input_data):\n",
        "  \"\"\"\n",
        "  Generates a prediction (forecast) for the given `input_data` using the `model`.\n",
        "\n",
        "  Args:\n",
        "      model (object): A trained machine learning model capable of making predictions.\n",
        "      input_data (object): Input data in the format expected by the `model`.\n",
        "\n",
        "  Returns:\n",
        "      The forecast generated by the `model` for the given `input_data`, as a one-dimensional tensor.\n",
        "  \"\"\"\n",
        "  forecast = model.predict(input_data)\n",
        "  return tf.squeeze(forecast)"
      ],
      "metadata": {
        "id": "g1wsZodHmlKI"
      },
      "execution_count": 44,
      "outputs": []
    },
    {
      "cell_type": "code",
      "source": [
        "# Make predictions using model_1 on the test dataset and view results\n",
        "model_1_preds = make_preds(model_1, test_windows)\n",
        "len(model_1_preds), model_1_preds[:10]"
      ],
      "metadata": {
        "colab": {
          "base_uri": "https://localhost:8080/"
        },
        "id": "m8Rh_0Urn5p6",
        "outputId": "b13f8d42-11c4-4c99-c2c1-f35755f08392"
      },
      "execution_count": 45,
      "outputs": [
        {
          "output_type": "stream",
          "name": "stdout",
          "text": [
            "18/18 [==============================] - 0s 2ms/step\n"
          ]
        },
        {
          "output_type": "execute_result",
          "data": {
            "text/plain": [
              "(556, <tf.Tensor: shape=(10,), dtype=float32, numpy=\n",
              " array([8868.369, 8780.04 , 9045.909, 8791.926, 8735.882, 8744.576,\n",
              "        8711.149, 8504.457, 8472.278, 8536.754], dtype=float32)>)"
            ]
          },
          "metadata": {},
          "execution_count": 45
        }
      ]
    },
    {
      "cell_type": "code",
      "source": [
        "test_labels[:10]"
      ],
      "metadata": {
        "colab": {
          "base_uri": "https://localhost:8080/"
        },
        "id": "eM0ZnNCloc-N",
        "outputId": "38a1c6f1-93a9-44f1-d810-161cb071e30d"
      },
      "execution_count": 46,
      "outputs": [
        {
          "output_type": "execute_result",
          "data": {
            "text/plain": [
              "array([[8798.04205463],\n",
              "       [9081.18687849],\n",
              "       [8711.53433917],\n",
              "       [8760.89271814],\n",
              "       [8749.52059102],\n",
              "       [8656.97092235],\n",
              "       [8500.64355816],\n",
              "       [8469.2608989 ],\n",
              "       [8537.33965197],\n",
              "       [8205.80636599]])"
            ]
          },
          "metadata": {},
          "execution_count": 46
        }
      ]
    },
    {
      "cell_type": "code",
      "source": [
        "# Evaluate preds\n",
        "model_1_results = evaluate_preds(tf.squeeze(test_labels), model_1_preds)\n",
        "model_1_results"
      ],
      "metadata": {
        "colab": {
          "base_uri": "https://localhost:8080/"
        },
        "id": "-RTSfpA-oiE5",
        "outputId": "4c1c7b5a-003b-48bb-e3b0-a1540e8cfb52"
      },
      "execution_count": 47,
      "outputs": [
        {
          "output_type": "execute_result",
          "data": {
            "text/plain": [
              "{'mae': 568.77673,\n",
              " 'mse': 1167764.5,\n",
              " 'rmse': 1080.6315,\n",
              " 'mape': 2.5534422,\n",
              " 'mase': 0.9991832}"
            ]
          },
          "metadata": {},
          "execution_count": 47
        }
      ]
    },
    {
      "cell_type": "code",
      "source": [
        "naive_results"
      ],
      "metadata": {
        "colab": {
          "base_uri": "https://localhost:8080/"
        },
        "id": "0fNFPKIIo0B4",
        "outputId": "4c3c29c8-d1a4-48ae-80a4-67e8ce1ab364"
      },
      "execution_count": 48,
      "outputs": [
        {
          "output_type": "execute_result",
          "data": {
            "text/plain": [
              "{'mae': 567.9802,\n",
              " 'mse': 1147547.0,\n",
              " 'rmse': 1071.2362,\n",
              " 'mape': 2.516525,\n",
              " 'mase': 0.99957}"
            ]
          },
          "metadata": {},
          "execution_count": 48
        }
      ]
    },
    {
      "cell_type": "code",
      "source": [
        "# Let's plot our model 1 predictions\n",
        "offset = 450\n",
        "plt.figure(figsize=(10, 7))\n",
        "# Account for the test_window offset and index into test_labels to ensure correct plotting\n",
        "plot_time_series(timesteps=X_test[-len(test_windows):], values=test_labels[:, 0], start=offset, label=\"Test Data\")\n",
        "\n",
        "plot_time_series(timesteps=X_test[-len(test_windows):],\n",
        "                 values=model_1_preds,\n",
        "                 start=offset,\n",
        "                 format=\"-\",\n",
        "                 label=\"Model_1_preds\")"
      ],
      "metadata": {
        "colab": {
          "base_uri": "https://localhost:8080/",
          "height": 445
        },
        "id": "tki5_fpKo79D",
        "outputId": "92c5128c-e081-45c0-b5cd-ed6e54380d1a"
      },
      "execution_count": 49,
      "outputs": [
        {
          "output_type": "display_data",
          "data": {
            "text/plain": [
              "<Figure size 720x504 with 1 Axes>"
            ],
            "image/png": "[encoded data removed]"
          },
          "metadata": {
            "needs_background": "light"
          }
        }
      ]
    },
    {
      "cell_type": "markdown",
      "source": [
        "## Model 2: Dense (window = 30, horizon = 1)"
      ],
      "metadata": {
        "id": "j5mIroMeqQIl"
      }
    },
    {
      "cell_type": "code",
      "source": [
        "HORIZON = 1\n",
        "WINDOW_SIZE = 30\n"
      ],
      "metadata": {
        "id": "TL35D8VYthRe"
      },
      "execution_count": 50,
      "outputs": []
    },
    {
      "cell_type": "code",
      "source": [
        "# Make window data with appropriate horizon and window sizes\n",
        "full_windows, full_labels = make_windows(prices, window_size=WINDOW_SIZE, horizon=HORIZON)\n",
        "len(full_windows), len(full_labels)"
      ],
      "metadata": {
        "colab": {
          "base_uri": "https://localhost:8080/"
        },
        "id": "Cgy1wgz2yykP",
        "outputId": "2a0a3923-4d44-4b7d-be3d-4a774c171a25"
      },
      "execution_count": 51,
      "outputs": [
        {
          "output_type": "execute_result",
          "data": {
            "text/plain": [
              "(2757, 2757)"
            ]
          },
          "metadata": {},
          "execution_count": 51
        }
      ]
    },
    {
      "cell_type": "code",
      "source": [
        "# Make train and test windows\n",
        "train_windows, test_windows, train_labels, test_labels = make_train_test_splits(windows=full_windows,\n",
        "                                                                                labels=full_labels,\n",
        "                                                                                test_split=0.2)\n",
        "len(train_windows), len(train_labels), len(test_windows), len(test_labels)"
      ],
      "metadata": {
        "colab": {
          "base_uri": "https://localhost:8080/"
        },
        "id": "nPTOTyScy3_K",
        "outputId": "c6ee88a2-c664-44e4-f7dc-80edb23d5b9e"
      },
      "execution_count": 52,
      "outputs": [
        {
          "output_type": "execute_result",
          "data": {
            "text/plain": [
              "(2205, 2205, 552, 552)"
            ]
          },
          "metadata": {},
          "execution_count": 52
        }
      ]
    },
    {
      "cell_type": "code",
      "source": [
        "tf.random.set_seed(42)\n",
        "\n",
        "# Create a model\n",
        "model_2 = tf.keras.Sequential([\n",
        "    layers.Dense(128, activation=\"relu\"),\n",
        "    layers.Dense(HORIZON)\n",
        "], name=\"model_2_dense\")\n",
        "\n",
        "# Compile\n",
        "model_2.compile(loss=\"mae\",\n",
        "                optimizer=tf.keras.optimizers.Adam(),\n",
        "                metrics=[\"mae\", \"mse\"])\n",
        "\n",
        "# Fit the model\n",
        "model_2_history = model_2.fit(train_windows, train_labels,\n",
        "                              batch_size=128,\n",
        "                              epochs=100,\n",
        "                              verbose=1,\n",
        "                              validation_data=(test_windows, test_labels),\n",
        "                              callbacks=[create_model_checkpoint(\"model_2_dense\")])"
      ],
      "metadata": {
        "colab": {
          "base_uri": "https://localhost:8080/"
        },
        "id": "TZTnuZe8ztO7",
        "outputId": "701d293c-60d1-4ab9-90dc-e352ea152338"
      },
      "execution_count": 53,
      "outputs": [
        {
          "output_type": "stream",
          "name": "stdout",
          "text": [
            "Epoch 1/100\n",
            "17/18 [===========================>..] - ETA: 0s - loss: 495.4591 - mae: 495.4591 - mse: 1095898.7500"
          ]
        },
        {
          "output_type": "stream",
          "name": "stderr",
          "text": [
            "WARNING:absl:Found untraced functions such as _update_step_xla while saving (showing 1 of 1). These functions will not be directly callable after loading.\n"
          ]
        },
        {
          "output_type": "stream",
          "name": "stdout",
          "text": [
            "\b\b\b\b\b\b\b\b\b\b\b\b\b\b\b\b\b\b\b\b\b\b\b\b\b\b\b\b\b\b\b\b\b\b\b\b\b\b\b\b\b\b\b\b\b\b\b\b\b\b\b\b\b\b\b\b\b\b\b\b\b\b\b\b\b\b\b\b\b\b\b\b\b\b\b\b\b\b\b\b\b\b\b\b\b\b\b\b\b\b\b\b\b\b\b\b\b\b\b\b\b\r18/18 [==============================] - 2s 47ms/step - loss: 493.1748 - mae: 493.1748 - mse: 1087794.8750 - val_loss: 1734.1271 - val_mae: 1734.1271 - val_mse: 9257693.0000\n",
            "Epoch 2/100\n",
            "16/18 [=========================>....] - ETA: 0s - loss: 334.7239 - mae: 334.7239 - mse: 511357.7812"
          ]
        },
        {
          "output_type": "stream",
          "name": "stderr",
          "text": [
            "WARNING:absl:Found untraced functions such as _update_step_xla while saving (showing 1 of 1). These functions will not be directly callable after loading.\n"
          ]
        },
        {
          "output_type": "stream",
          "name": "stdout",
          "text": [
            "\b\b\b\b\b\b\b\b\b\b\b\b\b\b\b\b\b\b\b\b\b\b\b\b\b\b\b\b\b\b\b\b\b\b\b\b\b\b\b\b\b\b\b\b\b\b\b\b\b\b\b\b\b\b\b\b\b\b\b\b\b\b\b\b\b\b\b\b\b\b\b\b\b\b\b\b\b\b\b\b\b\b\b\b\b\b\b\b\b\b\b\b\b\b\b\b\b\b\b\b\r18/18 [==============================] - 1s 50ms/step - loss: 334.9537 - mae: 334.9537 - mse: 505951.7188 - val_loss: 1582.2986 - val_mae: 1582.2986 - val_mse: 7254500.0000\n",
            "Epoch 3/100\n",
            "18/18 [==============================] - 0s 7ms/step - loss: 251.7535 - mae: 251.7535 - mse: 316492.6562 - val_loss: 1591.3423 - val_mae: 1591.3423 - val_mse: 6549328.0000\n",
            "Epoch 4/100\n",
            "16/18 [=========================>....] - ETA: 0s - loss: 268.7236 - mae: 268.7236 - mse: 327251.2188"
          ]
        },
        {
          "output_type": "stream",
          "name": "stderr",
          "text": [
            "WARNING:absl:Found untraced functions such as _update_step_xla while saving (showing 1 of 1). These functions will not be directly callable after loading.\n"
          ]
        },
        {
          "output_type": "stream",
          "name": "stdout",
          "text": [
            "\b\b\b\b\b\b\b\b\b\b\b\b\b\b\b\b\b\b\b\b\b\b\b\b\b\b\b\b\b\b\b\b\b\b\b\b\b\b\b\b\b\b\b\b\b\b\b\b\b\b\b\b\b\b\b\b\b\b\b\b\b\b\b\b\b\b\b\b\b\b\b\b\b\b\b\b\b\b\b\b\b\b\b\b\b\b\b\b\b\b\b\b\b\b\b\b\b\b\b\b\r18/18 [==============================] - 1s 38ms/step - loss: 273.4633 - mae: 273.4633 - mse: 338130.9375 - val_loss: 1379.9039 - val_mae: 1379.9039 - val_mse: 5072372.0000\n",
            "Epoch 5/100\n",
            "17/18 [===========================>..] - ETA: 0s - loss: 242.1656 - mae: 242.1656 - mse: 265905.0938"
          ]
        },
        {
          "output_type": "stream",
          "name": "stderr",
          "text": [
            "WARNING:absl:Found untraced functions such as _update_step_xla while saving (showing 1 of 1). These functions will not be directly callable after loading.\n"
          ]
        },
        {
          "output_type": "stream",
          "name": "stdout",
          "text": [
            "\b\b\b\b\b\b\b\b\b\b\b\b\b\b\b\b\b\b\b\b\b\b\b\b\b\b\b\b\b\b\b\b\b\b\b\b\b\b\b\b\b\b\b\b\b\b\b\b\b\b\b\b\b\b\b\b\b\b\b\b\b\b\b\b\b\b\b\b\b\b\b\b\b\b\b\b\b\b\b\b\b\b\b\b\b\b\b\b\b\b\b\b\b\b\b\b\b\b\b\b\r18/18 [==============================] - 1s 51ms/step - loss: 241.0923 - mae: 241.0923 - mse: 263747.2812 - val_loss: 1096.0942 - val_mae: 1096.0942 - val_mse: 3954504.0000\n",
            "Epoch 6/100\n",
            "18/18 [==============================] - 0s 8ms/step - loss: 214.6956 - mae: 214.6956 - mse: 217492.3750 - val_loss: 1333.8607 - val_mae: 1333.8606 - val_mse: 5201748.5000\n",
            "Epoch 7/100\n",
            "12/18 [===================>..........] - ETA: 0s - loss: 195.8181 - mae: 195.8181 - mse: 187690.0156"
          ]
        },
        {
          "output_type": "stream",
          "name": "stderr",
          "text": [
            "WARNING:absl:Found untraced functions such as _update_step_xla while saving (showing 1 of 1). These functions will not be directly callable after loading.\n"
          ]
        },
        {
          "output_type": "stream",
          "name": "stdout",
          "text": [
            "\b\b\b\b\b\b\b\b\b\b\b\b\b\b\b\b\b\b\b\b\b\b\b\b\b\b\b\b\b\b\b\b\b\b\b\b\b\b\b\b\b\b\b\b\b\b\b\b\b\b\b\b\b\b\b\b\b\b\b\b\b\b\b\b\b\b\b\b\b\b\b\b\b\b\b\b\b\b\b\b\b\b\b\b\b\b\b\b\b\b\b\b\b\b\b\b\b\b\b\b\r18/18 [==============================] - 1s 57ms/step - loss: 193.3775 - mae: 193.3775 - mse: 188159.9375 - val_loss: 1052.2023 - val_mae: 1052.2023 - val_mse: 3584902.0000\n",
            "Epoch 8/100\n",
            "12/18 [===================>..........] - ETA: 0s - loss: 176.4901 - mae: 176.4901 - mse: 184301.8281"
          ]
        },
        {
          "output_type": "stream",
          "name": "stderr",
          "text": [
            "WARNING:absl:Found untraced functions such as _update_step_xla while saving (showing 1 of 1). These functions will not be directly callable after loading.\n"
          ]
        },
        {
          "output_type": "stream",
          "name": "stdout",
          "text": [
            "\b\b\b\b\b\b\b\b\b\b\b\b\b\b\b\b\b\b\b\b\b\b\b\b\b\b\b\b\b\b\b\b\b\b\b\b\b\b\b\b\b\b\b\b\b\b\b\b\b\b\b\b\b\b\b\b\b\b\b\b\b\b\b\b\b\b\b\b\b\b\b\b\b\b\b\b\b\b\b\b\b\b\b\b\b\b\b\b\b\b\b\b\b\b\b\b\b\b\b\b\r18/18 [==============================] - 1s 50ms/step - loss: 173.3046 - mae: 173.3046 - mse: 166152.7812 - val_loss: 907.2321 - val_mae: 907.2321 - val_mse: 2787861.2500\n",
            "Epoch 9/100\n",
            "18/18 [==============================] - 0s 5ms/step - loss: 183.3102 - mae: 183.3102 - mse: 169569.6406 - val_loss: 1082.0334 - val_mae: 1082.0334 - val_mse: 3756820.0000\n",
            "Epoch 10/100\n",
            "18/18 [==============================] - 0s 6ms/step - loss: 188.3960 - mae: 188.3960 - mse: 165660.2344 - val_loss: 910.5584 - val_mae: 910.5584 - val_mse: 2798123.2500\n",
            "Epoch 11/100\n",
            "18/18 [==============================] - ETA: 0s - loss: 161.0722 - mae: 161.0722 - mse: 138429.4688"
          ]
        },
        {
          "output_type": "stream",
          "name": "stderr",
          "text": [
            "WARNING:absl:Found untraced functions such as _update_step_xla while saving (showing 1 of 1). These functions will not be directly callable after loading.\n"
          ]
        },
        {
          "output_type": "stream",
          "name": "stdout",
          "text": [
            "\b\b\b\b\b\b\b\b\b\b\b\b\b\b\b\b\b\b\b\b\b\b\b\b\b\b\b\b\b\b\b\b\b\b\b\b\b\b\b\b\b\b\b\b\b\b\b\b\b\b\b\b\b\b\b\b\b\b\b\b\b\b\b\b\b\b\b\b\b\b\b\b\b\b\b\b\b\b\b\b\b\b\b\b\b\b\b\b\b\b\b\b\b\b\b\b\b\b\b\b\r18/18 [==============================] - 1s 37ms/step - loss: 161.0722 - mae: 161.0722 - mse: 138429.4688 - val_loss: 868.9582 - val_mae: 868.9582 - val_mse: 2369300.5000\n",
            "Epoch 12/100\n",
            "18/18 [==============================] - 0s 6ms/step - loss: 181.0742 - mae: 181.0742 - mse: 157218.8125 - val_loss: 935.9757 - val_mae: 935.9757 - val_mse: 2590927.2500\n",
            "Epoch 13/100\n",
            "18/18 [==============================] - 0s 7ms/step - loss: 154.5188 - mae: 154.5188 - mse: 130579.6641 - val_loss: 1120.2102 - val_mae: 1120.2102 - val_mse: 3826029.2500\n",
            "Epoch 14/100\n",
            "18/18 [==============================] - ETA: 0s - loss: 170.6482 - mae: 170.6482 - mse: 146930.2969"
          ]
        },
        {
          "output_type": "stream",
          "name": "stderr",
          "text": [
            "WARNING:absl:Found untraced functions such as _update_step_xla while saving (showing 1 of 1). These functions will not be directly callable after loading.\n"
          ]
        },
        {
          "output_type": "stream",
          "name": "stdout",
          "text": [
            "\b\b\b\b\b\b\b\b\b\b\b\b\b\b\b\b\b\b\b\b\b\b\b\b\b\b\b\b\b\b\b\b\b\b\b\b\b\b\b\b\b\b\b\b\b\b\b\b\b\b\b\b\b\b\b\b\b\b\b\b\b\b\b\b\b\b\b\b\b\b\b\b\b\b\b\b\b\b\b\b\b\b\b\b\b\b\b\b\b\b\b\b\b\b\b\b\b\b\b\b\r18/18 [==============================] - 1s 38ms/step - loss: 170.6482 - mae: 170.6482 - mse: 146930.2969 - val_loss: 862.1428 - val_mae: 862.1428 - val_mse: 2328074.7500\n",
            "Epoch 15/100\n",
            "18/18 [==============================] - 0s 5ms/step - loss: 158.5955 - mae: 158.5955 - mse: 130480.4844 - val_loss: 874.0632 - val_mae: 874.0632 - val_mse: 2616361.0000\n",
            "Epoch 16/100\n",
            "18/18 [==============================] - 0s 6ms/step - loss: 170.3618 - mae: 170.3618 - mse: 138625.0625 - val_loss: 1018.8256 - val_mae: 1018.8256 - val_mse: 2880259.7500\n",
            "Epoch 17/100\n",
            "18/18 [==============================] - 0s 6ms/step - loss: 155.3769 - mae: 155.3769 - mse: 123894.3516 - val_loss: 978.5926 - val_mae: 978.5926 - val_mse: 2711493.5000\n",
            "Epoch 18/100\n",
            "18/18 [==============================] - 0s 6ms/step - loss: 155.1765 - mae: 155.1765 - mse: 124422.0547 - val_loss: 1005.1455 - val_mae: 1005.1455 - val_mse: 2806939.5000\n",
            "Epoch 19/100\n",
            "18/18 [==============================] - 0s 6ms/step - loss: 163.5825 - mae: 163.5825 - mse: 132231.4219 - val_loss: 1544.0974 - val_mae: 1544.0974 - val_mse: 6134132.0000\n",
            "Epoch 20/100\n",
            "17/18 [===========================>..] - ETA: 0s - loss: 184.5031 - mae: 184.5031 - mse: 145163.1094"
          ]
        },
        {
          "output_type": "stream",
          "name": "stderr",
          "text": [
            "WARNING:absl:Found untraced functions such as _update_step_xla while saving (showing 1 of 1). These functions will not be directly callable after loading.\n"
          ]
        },
        {
          "output_type": "stream",
          "name": "stdout",
          "text": [
            "\b\b\b\b\b\b\b\b\b\b\b\b\b\b\b\b\b\b\b\b\b\b\b\b\b\b\b\b\b\b\b\b\b\b\b\b\b\b\b\b\b\b\b\b\b\b\b\b\b\b\b\b\b\b\b\b\b\b\b\b\b\b\b\b\b\b\b\b\b\b\b\b\b\b\b\b\b\b\b\b\b\b\b\b\b\b\b\b\b\b\b\b\b\b\b\b\b\b\b\b\r18/18 [==============================] - 1s 37ms/step - loss: 186.5218 - mae: 186.5218 - mse: 152527.7031 - val_loss: 860.3804 - val_mae: 860.3804 - val_mse: 2497594.5000\n",
            "Epoch 21/100\n",
            "18/18 [==============================] - 0s 6ms/step - loss: 170.2013 - mae: 170.2013 - mse: 144457.8906 - val_loss: 917.1582 - val_mae: 917.1582 - val_mse: 2444084.7500\n",
            "Epoch 22/100\n",
            "15/18 [========================>.....] - ETA: 0s - loss: 165.2285 - mae: 165.2285 - mse: 129261.8359"
          ]
        },
        {
          "output_type": "stream",
          "name": "stderr",
          "text": [
            "WARNING:absl:Found untraced functions such as _update_step_xla while saving (showing 1 of 1). These functions will not be directly callable after loading.\n"
          ]
        },
        {
          "output_type": "stream",
          "name": "stdout",
          "text": [
            "\b\b\b\b\b\b\b\b\b\b\b\b\b\b\b\b\b\b\b\b\b\b\b\b\b\b\b\b\b\b\b\b\b\b\b\b\b\b\b\b\b\b\b\b\b\b\b\b\b\b\b\b\b\b\b\b\b\b\b\b\b\b\b\b\b\b\b\b\b\b\b\b\b\b\b\b\b\b\b\b\b\b\b\b\b\b\b\b\b\b\b\b\b\b\b\b\b\b\b\b\r18/18 [==============================] - 1s 41ms/step - loss: 159.8087 - mae: 159.8087 - mse: 121379.6094 - val_loss: 795.4576 - val_mae: 795.4576 - val_mse: 2050711.3750\n",
            "Epoch 23/100\n",
            "17/18 [===========================>..] - ETA: 0s - loss: 154.7838 - mae: 154.7838 - mse: 119415.6719"
          ]
        },
        {
          "output_type": "stream",
          "name": "stderr",
          "text": [
            "WARNING:absl:Found untraced functions such as _update_step_xla while saving (showing 1 of 1). These functions will not be directly callable after loading.\n"
          ]
        },
        {
          "output_type": "stream",
          "name": "stdout",
          "text": [
            "\b\b\b\b\b\b\b\b\b\b\b\b\b\b\b\b\b\b\b\b\b\b\b\b\b\b\b\b\b\b\b\b\b\b\b\b\b\b\b\b\b\b\b\b\b\b\b\b\b\b\b\b\b\b\b\b\b\b\b\b\b\b\b\b\b\b\b\b\b\b\b\b\b\b\b\b\b\b\b\b\b\b\b\b\b\b\b\b\b\b\b\b\b\b\b\b\b\b\b\b\r18/18 [==============================] - 1s 37ms/step - loss: 154.9681 - mae: 154.9681 - mse: 120963.0625 - val_loss: 773.1898 - val_mae: 773.1898 - val_mse: 2001936.8750\n",
            "Epoch 24/100\n",
            "17/18 [===========================>..] - ETA: 0s - loss: 148.6328 - mae: 148.6328 - mse: 117732.2422"
          ]
        },
        {
          "output_type": "stream",
          "name": "stderr",
          "text": [
            "WARNING:absl:Found untraced functions such as _update_step_xla while saving (showing 1 of 1). These functions will not be directly callable after loading.\n"
          ]
        },
        {
          "output_type": "stream",
          "name": "stdout",
          "text": [
            "\b\b\b\b\b\b\b\b\b\b\b\b\b\b\b\b\b\b\b\b\b\b\b\b\b\b\b\b\b\b\b\b\b\b\b\b\b\b\b\b\b\b\b\b\b\b\b\b\b\b\b\b\b\b\b\b\b\b\b\b\b\b\b\b\b\b\b\b\b\b\b\b\b\b\b\b\b\b\b\b\b\b\b\b\b\b\b\b\b\b\b\b\b\b\b\b\b\b\b\b\r18/18 [==============================] - 1s 37ms/step - loss: 149.6578 - mae: 149.6578 - mse: 118695.1562 - val_loss: 757.7627 - val_mae: 757.7627 - val_mse: 1956961.1250\n",
            "Epoch 25/100\n",
            "18/18 [==============================] - 0s 7ms/step - loss: 166.8437 - mae: 166.8437 - mse: 130965.8438 - val_loss: 809.8784 - val_mae: 809.8784 - val_mse: 2064663.3750\n",
            "Epoch 26/100\n",
            "18/18 [==============================] - 0s 6ms/step - loss: 146.1214 - mae: 146.1214 - mse: 107300.4219 - val_loss: 977.5482 - val_mae: 977.5482 - val_mse: 2993899.5000\n",
            "Epoch 27/100\n",
            "18/18 [==============================] - 0s 6ms/step - loss: 159.9171 - mae: 159.9171 - mse: 120917.0859 - val_loss: 760.6839 - val_mae: 760.6839 - val_mse: 1910020.8750\n",
            "Epoch 28/100\n",
            "18/18 [==============================] - 0s 6ms/step - loss: 146.5983 - mae: 146.5983 - mse: 110771.8359 - val_loss: 782.7885 - val_mae: 782.7885 - val_mse: 2098441.7500\n",
            "Epoch 29/100\n",
            "18/18 [==============================] - 0s 6ms/step - loss: 146.7899 - mae: 146.7899 - mse: 112524.2266 - val_loss: 1428.0170 - val_mae: 1428.0170 - val_mse: 4581411.0000\n",
            "Epoch 30/100\n",
            "18/18 [==============================] - 0s 6ms/step - loss: 178.6491 - mae: 178.6491 - mse: 136194.3906 - val_loss: 888.5957 - val_mae: 888.5957 - val_mse: 2293072.7500\n",
            "Epoch 31/100\n",
            "17/18 [===========================>..] - ETA: 0s - loss: 146.4410 - mae: 146.4410 - mse: 107700.1172"
          ]
        },
        {
          "output_type": "stream",
          "name": "stderr",
          "text": [
            "WARNING:absl:Found untraced functions such as _update_step_xla while saving (showing 1 of 1). These functions will not be directly callable after loading.\n"
          ]
        },
        {
          "output_type": "stream",
          "name": "stdout",
          "text": [
            "\b\b\b\b\b\b\b\b\b\b\b\b\b\b\b\b\b\b\b\b\b\b\b\b\b\b\b\b\b\b\b\b\b\b\b\b\b\b\b\b\b\b\b\b\b\b\b\b\b\b\b\b\b\b\b\b\b\b\b\b\b\b\b\b\b\b\b\b\b\b\b\b\b\b\b\b\b\b\b\b\b\b\b\b\b\b\b\b\b\b\b\b\b\b\b\b\b\b\b\b\r18/18 [==============================] - 1s 37ms/step - loss: 147.4884 - mae: 147.4884 - mse: 109195.2734 - val_loss: 729.2458 - val_mae: 729.2458 - val_mse: 1831248.8750\n",
            "Epoch 32/100\n",
            "18/18 [==============================] - 0s 6ms/step - loss: 173.5228 - mae: 173.5228 - mse: 133782.5469 - val_loss: 769.4117 - val_mae: 769.4117 - val_mse: 1914547.7500\n",
            "Epoch 33/100\n",
            "18/18 [==============================] - 0s 7ms/step - loss: 150.4182 - mae: 150.4182 - mse: 107750.9844 - val_loss: 732.1716 - val_mae: 732.1716 - val_mse: 1844156.5000\n",
            "Epoch 34/100\n",
            "16/18 [=========================>....] - ETA: 0s - loss: 141.0035 - mae: 141.0035 - mse: 98039.0078"
          ]
        },
        {
          "output_type": "stream",
          "name": "stderr",
          "text": [
            "WARNING:absl:Found untraced functions such as _update_step_xla while saving (showing 1 of 1). These functions will not be directly callable after loading.\n"
          ]
        },
        {
          "output_type": "stream",
          "name": "stdout",
          "text": [
            "\b\b\b\b\b\b\b\b\b\b\b\b\b\b\b\b\b\b\b\b\b\b\b\b\b\b\b\b\b\b\b\b\b\b\b\b\b\b\b\b\b\b\b\b\b\b\b\b\b\b\b\b\b\b\b\b\b\b\b\b\b\b\b\b\b\b\b\b\b\b\b\b\b\b\b\b\b\b\b\b\b\b\b\b\b\b\b\b\b\b\b\b\b\b\b\b\b\b\b\r18/18 [==============================] - 1s 37ms/step - loss: 142.5944 - mae: 142.5944 - mse: 103629.3750 - val_loss: 717.0289 - val_mae: 717.0289 - val_mse: 1779175.5000\n",
            "Epoch 35/100\n",
            "18/18 [==============================] - 0s 6ms/step - loss: 160.5199 - mae: 160.5199 - mse: 118858.9375 - val_loss: 928.3540 - val_mae: 928.3540 - val_mse: 2739253.7500\n",
            "Epoch 36/100\n",
            "18/18 [==============================] - 0s 6ms/step - loss: 157.5784 - mae: 157.5784 - mse: 114497.0703 - val_loss: 965.9797 - val_mae: 965.9797 - val_mse: 2534492.0000\n",
            "Epoch 37/100\n",
            "18/18 [==============================] - 0s 6ms/step - loss: 157.7798 - mae: 157.7798 - mse: 120250.8203 - val_loss: 873.4926 - val_mae: 873.4926 - val_mse: 2200849.7500\n",
            "Epoch 38/100\n",
            "18/18 [==============================] - 0s 6ms/step - loss: 148.6672 - mae: 148.6672 - mse: 107374.2578 - val_loss: 773.2728 - val_mae: 773.2728 - val_mse: 2064486.0000\n",
            "Epoch 39/100\n",
            "18/18 [==============================] - 0s 6ms/step - loss: 136.2227 - mae: 136.2227 - mse: 97069.6406 - val_loss: 743.0782 - val_mae: 743.0782 - val_mse: 1792072.5000\n",
            "Epoch 40/100\n",
            "18/18 [==============================] - ETA: 0s - loss: 133.5469 - mae: 133.5469 - mse: 92147.3438"
          ]
        },
        {
          "output_type": "stream",
          "name": "stderr",
          "text": [
            "WARNING:absl:Found untraced functions such as _update_step_xla while saving (showing 1 of 1). These functions will not be directly callable after loading.\n"
          ]
        },
        {
          "output_type": "stream",
          "name": "stdout",
          "text": [
            "\b\b\b\b\b\b\b\b\b\b\b\b\b\b\b\b\b\b\b\b\b\b\b\b\b\b\b\b\b\b\b\b\b\b\b\b\b\b\b\b\b\b\b\b\b\b\b\b\b\b\b\b\b\b\b\b\b\b\b\b\b\b\b\b\b\b\b\b\b\b\b\b\b\b\b\b\b\b\b\b\b\b\b\b\b\b\b\b\b\b\b\b\b\b\b\b\b\b\b\r18/18 [==============================] - 1s 37ms/step - loss: 133.5469 - mae: 133.5469 - mse: 92147.3438 - val_loss: 705.7933 - val_mae: 705.7933 - val_mse: 1729904.5000\n",
            "Epoch 41/100\n",
            "18/18 [==============================] - 0s 6ms/step - loss: 138.8007 - mae: 138.8007 - mse: 99358.1172 - val_loss: 707.5779 - val_mae: 707.5779 - val_mse: 1718991.7500\n",
            "Epoch 42/100\n",
            "18/18 [==============================] - 0s 6ms/step - loss: 142.2060 - mae: 142.2060 - mse: 100766.6484 - val_loss: 727.9276 - val_mae: 727.9276 - val_mse: 1734484.2500\n",
            "Epoch 43/100\n",
            "18/18 [==============================] - 0s 5ms/step - loss: 134.5483 - mae: 134.5483 - mse: 97430.1641 - val_loss: 785.7275 - val_mae: 785.7275 - val_mse: 2049906.5000\n",
            "Epoch 44/100\n",
            "18/18 [==============================] - 0s 6ms/step - loss: 147.0938 - mae: 147.0938 - mse: 109913.5469 - val_loss: 754.7128 - val_mae: 754.7128 - val_mse: 1937022.8750\n",
            "Epoch 45/100\n",
            "18/18 [==============================] - 0s 6ms/step - loss: 132.5840 - mae: 132.5840 - mse: 94850.6875 - val_loss: 763.1404 - val_mae: 763.1404 - val_mse: 1816737.0000\n",
            "Epoch 46/100\n",
            "18/18 [==============================] - 0s 6ms/step - loss: 135.1166 - mae: 135.1166 - mse: 96788.4453 - val_loss: 770.6978 - val_mae: 770.6978 - val_mse: 1977807.1250\n",
            "Epoch 47/100\n",
            "18/18 [==============================] - 0s 6ms/step - loss: 136.5584 - mae: 136.5584 - mse: 98606.6953 - val_loss: 806.6213 - val_mae: 806.6213 - val_mse: 1939690.2500\n",
            "Epoch 48/100\n",
            "17/18 [===========================>..] - ETA: 0s - loss: 160.4133 - mae: 160.4133 - mse: 116405.3750"
          ]
        },
        {
          "output_type": "stream",
          "name": "stderr",
          "text": [
            "WARNING:absl:Found untraced functions such as _update_step_xla while saving (showing 1 of 1). These functions will not be directly callable after loading.\n"
          ]
        },
        {
          "output_type": "stream",
          "name": "stdout",
          "text": [
            "\b\b\b\b\b\b\b\b\b\b\b\b\b\b\b\b\b\b\b\b\b\b\b\b\b\b\b\b\b\b\b\b\b\b\b\b\b\b\b\b\b\b\b\b\b\b\b\b\b\b\b\b\b\b\b\b\b\b\b\b\b\b\b\b\b\b\b\b\b\b\b\b\b\b\b\b\b\b\b\b\b\b\b\b\b\b\b\b\b\b\b\b\b\b\b\b\b\b\b\b\r18/18 [==============================] - 1s 47ms/step - loss: 160.1228 - mae: 160.1228 - mse: 117134.7578 - val_loss: 704.0238 - val_mae: 704.0238 - val_mse: 1688064.0000\n",
            "Epoch 49/100\n",
            "18/18 [==============================] - 0s 7ms/step - loss: 152.1912 - mae: 152.1912 - mse: 109777.3672 - val_loss: 761.5195 - val_mae: 761.5195 - val_mse: 1974978.7500\n",
            "Epoch 50/100\n",
            "12/18 [===================>..........] - ETA: 0s - loss: 133.7975 - mae: 133.7975 - mse: 94226.3359"
          ]
        },
        {
          "output_type": "stream",
          "name": "stderr",
          "text": [
            "WARNING:absl:Found untraced functions such as _update_step_xla while saving (showing 1 of 1). These functions will not be directly callable after loading.\n"
          ]
        },
        {
          "output_type": "stream",
          "name": "stdout",
          "text": [
            "\b\b\b\b\b\b\b\b\b\b\b\b\b\b\b\b\b\b\b\b\b\b\b\b\b\b\b\b\b\b\b\b\b\b\b\b\b\b\b\b\b\b\b\b\b\b\b\b\b\b\b\b\b\b\b\b\b\b\b\b\b\b\b\b\b\b\b\b\b\b\b\b\b\b\b\b\b\b\b\b\b\b\b\b\b\b\b\b\b\b\b\b\b\b\b\b\b\b\b\r18/18 [==============================] - 1s 57ms/step - loss: 137.7747 - mae: 137.7747 - mse: 94084.2812 - val_loss: 697.1871 - val_mae: 697.1871 - val_mse: 1698935.3750\n",
            "Epoch 51/100\n",
            "18/18 [==============================] - 0s 8ms/step - loss: 141.4781 - mae: 141.4781 - mse: 101606.1250 - val_loss: 779.8304 - val_mae: 779.8304 - val_mse: 2015423.2500\n",
            "Epoch 52/100\n",
            "14/18 [======================>.......] - ETA: 0s - loss: 139.1402 - mae: 139.1402 - mse: 101400.9844"
          ]
        },
        {
          "output_type": "stream",
          "name": "stderr",
          "text": [
            "WARNING:absl:Found untraced functions such as _update_step_xla while saving (showing 1 of 1). These functions will not be directly callable after loading.\n"
          ]
        },
        {
          "output_type": "stream",
          "name": "stdout",
          "text": [
            "\b\b\b\b\b\b\b\b\b\b\b\b\b\b\b\b\b\b\b\b\b\b\b\b\b\b\b\b\b\b\b\b\b\b\b\b\b\b\b\b\b\b\b\b\b\b\b\b\b\b\b\b\b\b\b\b\b\b\b\b\b\b\b\b\b\b\b\b\b\b\b\b\b\b\b\b\b\b\b\b\b\b\b\b\b\b\b\b\b\b\b\b\b\b\b\b\b\b\b\b\r18/18 [==============================] - 1s 64ms/step - loss: 136.1340 - mae: 136.1340 - mse: 95767.1328 - val_loss: 680.8868 - val_mae: 680.8868 - val_mse: 1604793.7500\n",
            "Epoch 53/100\n",
            "15/18 [========================>.....] - ETA: 0s - loss: 128.8335 - mae: 128.8335 - mse: 89175.9766 "
          ]
        },
        {
          "output_type": "stream",
          "name": "stderr",
          "text": [
            "WARNING:absl:Found untraced functions such as _update_step_xla while saving (showing 1 of 1). These functions will not be directly callable after loading.\n"
          ]
        },
        {
          "output_type": "stream",
          "name": "stdout",
          "text": [
            "\b\b\b\b\b\b\b\b\b\b\b\b\b\b\b\b\b\b\b\b\b\b\b\b\b\b\b\b\b\b\b\b\b\b\b\b\b\b\b\b\b\b\b\b\b\b\b\b\b\b\b\b\b\b\b\b\b\b\b\b\b\b\b\b\b\b\b\b\b\b\b\b\b\b\b\b\b\b\b\b\b\b\b\b\b\b\b\b\b\b\b\b\b\b\b\b\b\b\b\r18/18 [==============================] - 1s 38ms/step - loss: 129.5842 - mae: 129.5842 - mse: 88527.6328 - val_loss: 677.8993 - val_mae: 677.8993 - val_mse: 1591311.5000\n",
            "Epoch 54/100\n",
            "15/18 [========================>.....] - ETA: 0s - loss: 133.3845 - mae: 133.3845 - mse: 87942.8438"
          ]
        },
        {
          "output_type": "stream",
          "name": "stderr",
          "text": [
            "WARNING:absl:Found untraced functions such as _update_step_xla while saving (showing 1 of 1). These functions will not be directly callable after loading.\n"
          ]
        },
        {
          "output_type": "stream",
          "name": "stdout",
          "text": [
            "\b\b\b\b\b\b\b\b\b\b\b\b\b\b\b\b\b\b\b\b\b\b\b\b\b\b\b\b\b\b\b\b\b\b\b\b\b\b\b\b\b\b\b\b\b\b\b\b\b\b\b\b\b\b\b\b\b\b\b\b\b\b\b\b\b\b\b\b\b\b\b\b\b\b\b\b\b\b\b\b\b\b\b\b\b\b\b\b\b\b\b\b\b\b\b\b\b\b\b\r18/18 [==============================] - 1s 38ms/step - loss: 133.3711 - mae: 133.3711 - mse: 88883.8203 - val_loss: 671.5651 - val_mae: 671.5651 - val_mse: 1563280.7500\n",
            "Epoch 55/100\n",
            "12/18 [===================>..........] - ETA: 0s - loss: 120.3528 - mae: 120.3528 - mse: 79900.9453"
          ]
        },
        {
          "output_type": "stream",
          "name": "stderr",
          "text": [
            "WARNING:absl:Found untraced functions such as _update_step_xla while saving (showing 1 of 1). These functions will not be directly callable after loading.\n"
          ]
        },
        {
          "output_type": "stream",
          "name": "stdout",
          "text": [
            "\b\b\b\b\b\b\b\b\b\b\b\b\b\b\b\b\b\b\b\b\b\b\b\b\b\b\b\b\b\b\b\b\b\b\b\b\b\b\b\b\b\b\b\b\b\b\b\b\b\b\b\b\b\b\b\b\b\b\b\b\b\b\b\b\b\b\b\b\b\b\b\b\b\b\b\b\b\b\b\b\b\b\b\b\b\b\b\b\b\b\b\b\b\b\b\b\b\b\b\r18/18 [==============================] - 1s 39ms/step - loss: 124.1235 - mae: 124.1235 - mse: 84315.0312 - val_loss: 670.4110 - val_mae: 670.4110 - val_mse: 1533376.3750\n",
            "Epoch 56/100\n",
            "18/18 [==============================] - 0s 6ms/step - loss: 133.5638 - mae: 133.5638 - mse: 92520.5000 - val_loss: 687.1194 - val_mae: 687.1194 - val_mse: 1663894.5000\n",
            "Epoch 57/100\n",
            "18/18 [==============================] - 0s 6ms/step - loss: 126.4972 - mae: 126.4972 - mse: 85944.0000 - val_loss: 1003.1567 - val_mae: 1003.1567 - val_mse: 2579515.0000\n",
            "Epoch 58/100\n",
            "18/18 [==============================] - 0s 6ms/step - loss: 130.8699 - mae: 130.8699 - mse: 88782.1172 - val_loss: 679.4567 - val_mae: 679.4567 - val_mse: 1611905.2500\n",
            "Epoch 59/100\n",
            "18/18 [==============================] - 0s 7ms/step - loss: 136.2953 - mae: 136.2953 - mse: 89617.4062 - val_loss: 1333.5018 - val_mae: 1333.5018 - val_mse: 4009942.2500\n",
            "Epoch 60/100\n",
            "18/18 [==============================] - 0s 5ms/step - loss: 156.3302 - mae: 156.3302 - mse: 113153.6562 - val_loss: 681.1773 - val_mae: 681.1773 - val_mse: 1579754.2500\n",
            "Epoch 61/100\n",
            "18/18 [==============================] - 0s 6ms/step - loss: 130.3394 - mae: 130.3394 - mse: 87753.1328 - val_loss: 713.7353 - val_mae: 713.7353 - val_mse: 1702426.6250\n",
            "Epoch 62/100\n",
            "18/18 [==============================] - 0s 6ms/step - loss: 139.3541 - mae: 139.3541 - mse: 95784.5000 - val_loss: 845.6908 - val_mae: 845.6908 - val_mse: 2224885.0000\n",
            "Epoch 63/100\n",
            "18/18 [==============================] - 0s 6ms/step - loss: 141.5212 - mae: 141.5212 - mse: 97966.9766 - val_loss: 692.7303 - val_mae: 692.7303 - val_mse: 1551621.1250\n",
            "Epoch 64/100\n",
            "17/18 [===========================>..] - ETA: 0s - loss: 128.5225 - mae: 128.5225 - mse: 85794.2891"
          ]
        },
        {
          "output_type": "stream",
          "name": "stderr",
          "text": [
            "WARNING:absl:Found untraced functions such as _update_step_xla while saving (showing 1 of 1). These functions will not be directly callable after loading.\n"
          ]
        },
        {
          "output_type": "stream",
          "name": "stdout",
          "text": [
            "\b\b\b\b\b\b\b\b\b\b\b\b\b\b\b\b\b\b\b\b\b\b\b\b\b\b\b\b\b\b\b\b\b\b\b\b\b\b\b\b\b\b\b\b\b\b\b\b\b\b\b\b\b\b\b\b\b\b\b\b\b\b\b\b\b\b\b\b\b\b\b\b\b\b\b\b\b\b\b\b\b\b\b\b\b\b\b\b\b\b\b\b\b\b\b\b\b\b\b\r18/18 [==============================] - 1s 38ms/step - loss: 128.1788 - mae: 128.1788 - mse: 85880.4453 - val_loss: 666.4341 - val_mae: 666.4341 - val_mse: 1531895.6250\n",
            "Epoch 65/100\n",
            "18/18 [==============================] - 0s 6ms/step - loss: 121.6810 - mae: 121.6810 - mse: 83130.7188 - val_loss: 720.7344 - val_mae: 720.7344 - val_mse: 1749195.3750\n",
            "Epoch 66/100\n",
            "17/18 [===========================>..] - ETA: 0s - loss: 132.6587 - mae: 132.6587 - mse: 87988.6562 "
          ]
        },
        {
          "output_type": "stream",
          "name": "stderr",
          "text": [
            "WARNING:absl:Found untraced functions such as _update_step_xla while saving (showing 1 of 1). These functions will not be directly callable after loading.\n"
          ]
        },
        {
          "output_type": "stream",
          "name": "stdout",
          "text": [
            "\b\b\b\b\b\b\b\b\b\b\b\b\b\b\b\b\b\b\b\b\b\b\b\b\b\b\b\b\b\b\b\b\b\b\b\b\b\b\b\b\b\b\b\b\b\b\b\b\b\b\b\b\b\b\b\b\b\b\b\b\b\b\b\b\b\b\b\b\b\b\b\b\b\b\b\b\b\b\b\b\b\b\b\b\b\b\b\b\b\b\b\b\b\b\b\b\b\b\b\r18/18 [==============================] - 1s 38ms/step - loss: 132.4209 - mae: 132.4209 - mse: 87725.8516 - val_loss: 659.7398 - val_mae: 659.7398 - val_mse: 1486501.7500\n",
            "Epoch 67/100\n",
            "18/18 [==============================] - 0s 7ms/step - loss: 120.9738 - mae: 120.9738 - mse: 81752.3203 - val_loss: 670.5227 - val_mae: 670.5227 - val_mse: 1480239.7500\n",
            "Epoch 68/100\n",
            "18/18 [==============================] - 0s 6ms/step - loss: 127.1311 - mae: 127.1311 - mse: 85297.4062 - val_loss: 768.1395 - val_mae: 768.1395 - val_mse: 1769906.3750\n",
            "Epoch 69/100\n",
            "18/18 [==============================] - 0s 6ms/step - loss: 128.6856 - mae: 128.6856 - mse: 87123.4141 - val_loss: 1148.2988 - val_mae: 1148.2988 - val_mse: 3138008.2500\n",
            "Epoch 70/100\n",
            "18/18 [==============================] - 0s 6ms/step - loss: 143.0924 - mae: 143.0924 - mse: 98414.7969 - val_loss: 1158.0190 - val_mae: 1158.0190 - val_mse: 3187366.7500\n",
            "Epoch 71/100\n",
            "18/18 [==============================] - 0s 7ms/step - loss: 134.6862 - mae: 134.6862 - mse: 91098.0234 - val_loss: 983.7054 - val_mae: 983.7054 - val_mse: 2757397.5000\n",
            "Epoch 72/100\n",
            "18/18 [==============================] - 0s 5ms/step - loss: 151.9733 - mae: 151.9733 - mse: 104765.0391 - val_loss: 698.5965 - val_mae: 698.5965 - val_mse: 1549164.7500\n",
            "Epoch 73/100\n",
            "18/18 [==============================] - 0s 6ms/step - loss: 121.9593 - mae: 121.9593 - mse: 80315.7500 - val_loss: 731.5768 - val_mae: 731.5768 - val_mse: 1646883.2500\n",
            "Epoch 74/100\n",
            "18/18 [==============================] - 0s 6ms/step - loss: 137.1942 - mae: 137.1942 - mse: 90557.3516 - val_loss: 688.6423 - val_mae: 688.6423 - val_mse: 1579396.0000\n",
            "Epoch 75/100\n",
            "18/18 [==============================] - 0s 7ms/step - loss: 174.8479 - mae: 174.8479 - mse: 123588.1641 - val_loss: 664.4117 - val_mae: 664.4117 - val_mse: 1453101.1250\n",
            "Epoch 76/100\n",
            "18/18 [==============================] - 0s 7ms/step - loss: 158.2724 - mae: 158.2724 - mse: 105148.6875 - val_loss: 813.4420 - val_mae: 813.4420 - val_mse: 1880570.8750\n",
            "Epoch 77/100\n",
            "16/18 [=========================>....] - ETA: 0s - loss: 136.9737 - mae: 136.9737 - mse: 91629.3438"
          ]
        },
        {
          "output_type": "stream",
          "name": "stderr",
          "text": [
            "WARNING:absl:Found untraced functions such as _update_step_xla while saving (showing 1 of 1). These functions will not be directly callable after loading.\n"
          ]
        },
        {
          "output_type": "stream",
          "name": "stdout",
          "text": [
            "\b\b\b\b\b\b\b\b\b\b\b\b\b\b\b\b\b\b\b\b\b\b\b\b\b\b\b\b\b\b\b\b\b\b\b\b\b\b\b\b\b\b\b\b\b\b\b\b\b\b\b\b\b\b\b\b\b\b\b\b\b\b\b\b\b\b\b\b\b\b\b\b\b\b\b\b\b\b\b\b\b\b\b\b\b\b\b\b\b\b\b\b\b\b\b\b\b\b\b\r18/18 [==============================] - 1s 41ms/step - loss: 134.2154 - mae: 134.2154 - mse: 88416.1328 - val_loss: 650.4728 - val_mae: 650.4728 - val_mse: 1418099.5000\n",
            "Epoch 78/100\n",
            "18/18 [==============================] - 0s 7ms/step - loss: 120.2477 - mae: 120.2477 - mse: 81190.0547 - val_loss: 793.4720 - val_mae: 793.4720 - val_mse: 2012610.3750\n",
            "Epoch 79/100\n",
            "14/18 [======================>.......] - ETA: 0s - loss: 135.4802 - mae: 135.4802 - mse: 90675.9453"
          ]
        },
        {
          "output_type": "stream",
          "name": "stderr",
          "text": [
            "WARNING:absl:Found untraced functions such as _update_step_xla while saving (showing 1 of 1). These functions will not be directly callable after loading.\n"
          ]
        },
        {
          "output_type": "stream",
          "name": "stdout",
          "text": [
            "\b\b\b\b\b\b\b\b\b\b\b\b\b\b\b\b\b\b\b\b\b\b\b\b\b\b\b\b\b\b\b\b\b\b\b\b\b\b\b\b\b\b\b\b\b\b\b\b\b\b\b\b\b\b\b\b\b\b\b\b\b\b\b\b\b\b\b\b\b\b\b\b\b\b\b\b\b\b\b\b\b\b\b\b\b\b\b\b\b\b\b\b\b\b\b\b\b\b\b\r18/18 [==============================] - 1s 39ms/step - loss: 135.7442 - mae: 135.7442 - mse: 89104.0000 - val_loss: 645.2263 - val_mae: 645.2263 - val_mse: 1408365.3750\n",
            "Epoch 80/100\n",
            "18/18 [==============================] - 0s 6ms/step - loss: 126.2181 - mae: 126.2181 - mse: 83725.0625 - val_loss: 921.7999 - val_mae: 921.7999 - val_mse: 2233279.7500\n",
            "Epoch 81/100\n",
            "18/18 [==============================] - 0s 6ms/step - loss: 135.9896 - mae: 135.9896 - mse: 89527.6250 - val_loss: 821.6449 - val_mae: 821.6449 - val_mse: 2083571.7500\n",
            "Epoch 82/100\n",
            "18/18 [==============================] - 0s 6ms/step - loss: 123.9397 - mae: 123.9397 - mse: 79874.2266 - val_loss: 778.8777 - val_mae: 778.8777 - val_mse: 1771532.5000\n",
            "Epoch 83/100\n",
            "18/18 [==============================] - 0s 7ms/step - loss: 146.7316 - mae: 146.7316 - mse: 99154.2656 - val_loss: 888.8602 - val_mae: 888.8602 - val_mse: 2350711.5000\n",
            "Epoch 84/100\n",
            "18/18 [==============================] - 0s 5ms/step - loss: 132.3878 - mae: 132.3878 - mse: 85129.5078 - val_loss: 1018.3275 - val_mae: 1018.3275 - val_mse: 2584904.7500\n",
            "Epoch 85/100\n",
            "18/18 [==============================] - 0s 6ms/step - loss: 133.8821 - mae: 133.8821 - mse: 92314.6094 - val_loss: 942.7672 - val_mae: 942.7672 - val_mse: 2305189.0000\n",
            "Epoch 86/100\n",
            "18/18 [==============================] - 0s 6ms/step - loss: 131.3118 - mae: 131.3118 - mse: 87271.6562 - val_loss: 851.4567 - val_mae: 851.4567 - val_mse: 1998906.3750\n",
            "Epoch 87/100\n",
            "18/18 [==============================] - 0s 6ms/step - loss: 131.5640 - mae: 131.5640 - mse: 85267.7422 - val_loss: 664.9080 - val_mae: 664.9080 - val_mse: 1464674.3750\n",
            "Epoch 88/100\n",
            "18/18 [==============================] - 0s 6ms/step - loss: 117.3779 - mae: 117.3779 - mse: 78689.5000 - val_loss: 689.5299 - val_mae: 689.5299 - val_mse: 1515974.2500\n",
            "Epoch 89/100\n",
            "18/18 [==============================] - 0s 6ms/step - loss: 126.3317 - mae: 126.3317 - mse: 83223.1484 - val_loss: 898.1000 - val_mae: 898.1000 - val_mse: 2154088.0000\n",
            "Epoch 90/100\n",
            "18/18 [==============================] - 0s 5ms/step - loss: 137.4204 - mae: 137.4204 - mse: 87968.7422 - val_loss: 789.9998 - val_mae: 789.9998 - val_mse: 1962455.3750\n",
            "Epoch 91/100\n",
            "18/18 [==============================] - 0s 6ms/step - loss: 131.7038 - mae: 131.7038 - mse: 87205.3359 - val_loss: 725.0063 - val_mae: 725.0063 - val_mse: 1697263.1250\n",
            "Epoch 92/100\n",
            "18/18 [==============================] - 0s 6ms/step - loss: 126.1243 - mae: 126.1243 - mse: 82283.4375 - val_loss: 695.7178 - val_mae: 695.7178 - val_mse: 1528098.3750\n",
            "Epoch 93/100\n",
            "18/18 [==============================] - 0s 6ms/step - loss: 118.6824 - mae: 118.6824 - mse: 75839.8750 - val_loss: 655.1956 - val_mae: 655.1956 - val_mse: 1454466.5000\n",
            "Epoch 94/100\n",
            "18/18 [==============================] - 0s 6ms/step - loss: 122.4816 - mae: 122.4816 - mse: 81613.4375 - val_loss: 906.9207 - val_mae: 906.9207 - val_mse: 2179415.0000\n",
            "Epoch 95/100\n",
            "16/18 [=========================>....] - ETA: 0s - loss: 138.3102 - mae: 138.3102 - mse: 92082.2500 "
          ]
        },
        {
          "output_type": "stream",
          "name": "stderr",
          "text": [
            "WARNING:absl:Found untraced functions such as _update_step_xla while saving (showing 1 of 1). These functions will not be directly callable after loading.\n"
          ]
        },
        {
          "output_type": "stream",
          "name": "stdout",
          "text": [
            "\b\b\b\b\b\b\b\b\b\b\b\b\b\b\b\b\b\b\b\b\b\b\b\b\b\b\b\b\b\b\b\b\b\b\b\b\b\b\b\b\b\b\b\b\b\b\b\b\b\b\b\b\b\b\b\b\b\b\b\b\b\b\b\b\b\b\b\b\b\b\b\b\b\b\b\b\b\b\b\b\b\b\b\b\b\b\b\b\b\b\b\b\b\b\b\b\b\b\b\r18/18 [==============================] - 1s 37ms/step - loss: 136.1076 - mae: 136.1076 - mse: 93993.8281 - val_loss: 645.0986 - val_mae: 645.0986 - val_mse: 1413610.5000\n",
            "Epoch 96/100\n",
            "10/18 [===============>..............] - ETA: 0s - loss: 129.9394 - mae: 129.9394 - mse: 88064.1406"
          ]
        },
        {
          "output_type": "stream",
          "name": "stderr",
          "text": [
            "WARNING:absl:Found untraced functions such as _update_step_xla while saving (showing 1 of 1). These functions will not be directly callable after loading.\n"
          ]
        },
        {
          "output_type": "stream",
          "name": "stdout",
          "text": [
            "\b\b\b\b\b\b\b\b\b\b\b\b\b\b\b\b\b\b\b\b\b\b\b\b\b\b\b\b\b\b\b\b\b\b\b\b\b\b\b\b\b\b\b\b\b\b\b\b\b\b\b\b\b\b\b\b\b\b\b\b\b\b\b\b\b\b\b\b\b\b\b\b\b\b\b\b\b\b\b\b\b\b\b\b\b\b\b\b\b\b\b\b\b\b\b\b\b\b\b\r18/18 [==============================] - 1s 58ms/step - loss: 128.8445 - mae: 128.8445 - mse: 82194.8359 - val_loss: 635.2751 - val_mae: 635.2751 - val_mse: 1360463.5000\n",
            "Epoch 97/100\n",
            "18/18 [==============================] - 0s 11ms/step - loss: 131.6861 - mae: 131.6861 - mse: 86702.4219 - val_loss: 673.7457 - val_mae: 673.7457 - val_mse: 1544022.5000\n",
            "Epoch 98/100\n",
            "18/18 [==============================] - 0s 8ms/step - loss: 119.1903 - mae: 119.1903 - mse: 78701.0938 - val_loss: 638.8582 - val_mae: 638.8582 - val_mse: 1380273.8750\n",
            "Epoch 99/100\n",
            "18/18 [==============================] - 0s 8ms/step - loss: 116.0399 - mae: 116.0399 - mse: 75079.7578 - val_loss: 636.7723 - val_mae: 636.7723 - val_mse: 1400059.2500\n",
            "Epoch 100/100\n",
            "18/18 [==============================] - 0s 8ms/step - loss: 134.1735 - mae: 134.1735 - mse: 84374.3047 - val_loss: 796.6169 - val_mae: 796.6169 - val_mse: 1956836.6250\n"
          ]
        }
      ]
    },
    {
      "cell_type": "code",
      "source": [
        "# Evaluate model 2 on test data\n",
        "model_2.evaluate(test_windows, test_labels)"
      ],
      "metadata": {
        "colab": {
          "base_uri": "https://localhost:8080/"
        },
        "id": "mGFC9Mg71ZdX",
        "outputId": "559fdfdb-2e5d-40f4-8a53-0d69b22c66c1"
      },
      "execution_count": 54,
      "outputs": [
        {
          "output_type": "stream",
          "name": "stdout",
          "text": [
            "18/18 [==============================] - 0s 5ms/step - loss: 796.6168 - mae: 796.6168 - mse: 1956835.7500\n"
          ]
        },
        {
          "output_type": "execute_result",
          "data": {
            "text/plain": [
              "[796.6168212890625, 796.6168212890625, 1956835.75]"
            ]
          },
          "metadata": {},
          "execution_count": 54
        }
      ]
    },
    {
      "cell_type": "code",
      "source": [
        "# Load in the best performing model and evaluate \n",
        "model_2 = tf.keras.models.load_model(\"model_experiments/model_2_dense/\")\n",
        "model_2.evaluate(test_windows, test_labels)"
      ],
      "metadata": {
        "colab": {
          "base_uri": "https://localhost:8080/"
        },
        "id": "K9DSxa8T4g6e",
        "outputId": "5bc3a32c-647b-4883-c1b6-c3e623f8d480"
      },
      "execution_count": 55,
      "outputs": [
        {
          "output_type": "stream",
          "name": "stdout",
          "text": [
            "18/18 [==============================] - 0s 3ms/step - loss: 635.2751 - mae: 635.2751 - mse: 1360463.5000\n"
          ]
        },
        {
          "output_type": "execute_result",
          "data": {
            "text/plain": [
              "[635.2750854492188, 635.2750854492188, 1360463.5]"
            ]
          },
          "metadata": {},
          "execution_count": 55
        }
      ]
    },
    {
      "cell_type": "code",
      "source": [
        "# get forecast predictions\n",
        "model_2_preds = make_preds(model_2,\n",
        "                           input_data=test_windows)"
      ],
      "metadata": {
        "colab": {
          "base_uri": "https://localhost:8080/"
        },
        "id": "VnTwYtoY4yae",
        "outputId": "56475df1-6a04-4777-941b-d65ce2c7b60b"
      },
      "execution_count": 56,
      "outputs": [
        {
          "output_type": "stream",
          "name": "stdout",
          "text": [
            "18/18 [==============================] - 0s 2ms/step\n"
          ]
        }
      ]
    },
    {
      "cell_type": "code",
      "source": [
        "# Evaluate results for model 2 predictions\n",
        "model_2_results = evaluate_preds(tf.squeeze(test_labels), model_2_preds)\n",
        "model_2_results"
      ],
      "metadata": {
        "colab": {
          "base_uri": "https://localhost:8080/"
        },
        "id": "avKUIm4J5ebz",
        "outputId": "d6c71537-3887-4547-ea22-ad48a5a6b480"
      },
      "execution_count": 57,
      "outputs": [
        {
          "output_type": "execute_result",
          "data": {
            "text/plain": [
              "{'mae': 635.2751,\n",
              " 'mse': 1360463.6,\n",
              " 'rmse': 1166.3892,\n",
              " 'mape': 2.8911278,\n",
              " 'mase': 1.1104671}"
            ]
          },
          "metadata": {},
          "execution_count": 57
        }
      ]
    },
    {
      "cell_type": "code",
      "source": [
        "model_1_results"
      ],
      "metadata": {
        "colab": {
          "base_uri": "https://localhost:8080/"
        },
        "id": "X-t8fDzQ5vR8",
        "outputId": "4e28c97f-72a2-45f8-af31-7da51071e58d"
      },
      "execution_count": 58,
      "outputs": [
        {
          "output_type": "execute_result",
          "data": {
            "text/plain": [
              "{'mae': 568.77673,\n",
              " 'mse': 1167764.5,\n",
              " 'rmse': 1080.6315,\n",
              " 'mape': 2.5534422,\n",
              " 'mase': 0.9991832}"
            ]
          },
          "metadata": {},
          "execution_count": 58
        }
      ]
    },
    {
      "cell_type": "code",
      "source": [
        "offset = 300\n",
        "plt.figure(figsize=(10, 7))\n",
        "# Account for test_window offset when plotting\n",
        "plot_time_series(timesteps=X_test[-len(test_windows):], values=test_labels[:, 0], start=offset, label=\"Test Data\")\n",
        "plot_time_series(timesteps=X_test[-len(test_windows):], values=model_2_preds, start=offset, format=\"-\", label=\"model_2_preds\")"
      ],
      "metadata": {
        "colab": {
          "base_uri": "https://localhost:8080/",
          "height": 442
        },
        "id": "rP2xrdpi5_vl",
        "outputId": "9c2f04c3-654a-4a62-84ae-013624c33e00"
      },
      "execution_count": 59,
      "outputs": [
        {
          "output_type": "display_data",
          "data": {
            "text/plain": [
              "<Figure size 720x504 with 1 Axes>"
            ],
            "image/png": "[encoded data removed]"
          },
          "metadata": {
            "needs_background": "light"
          }
        }
      ]
    },
    {
      "cell_type": "markdown",
      "source": [
        "## Model 3: Dense (window = 30, horizon = 7)\n"
      ],
      "metadata": {
        "id": "vqCgMv4j7BWM"
      }
    },
    {
      "cell_type": "code",
      "source": [
        "HORIZON = 7\n",
        "WINDOW_SIZE = 30\n",
        "\n",
        "full_windows, full_labels = make_windows(prices,\n",
        "                                         window_size=WINDOW_SIZE,\n",
        "                                         horizon=HORIZON)\n",
        "len(full_windows), len(full_labels)"
      ],
      "metadata": {
        "colab": {
          "base_uri": "https://localhost:8080/"
        },
        "id": "OFHHxkF97xeY",
        "outputId": "5e3f3e18-5211-457f-9314-585368e9f50a"
      },
      "execution_count": 60,
      "outputs": [
        {
          "output_type": "execute_result",
          "data": {
            "text/plain": [
              "(2751, 2751)"
            ]
          },
          "metadata": {},
          "execution_count": 60
        }
      ]
    },
    {
      "cell_type": "code",
      "source": [
        "train_windows, test_windows, train_labels, test_labels = make_train_test_splits(windows=full_labels,\n",
        "                                                                                labels=full_labels,\n",
        "                                                                                test_split=0.2)"
      ],
      "metadata": {
        "id": "8GiyVeV08ZfO"
      },
      "execution_count": 61,
      "outputs": []
    },
    {
      "cell_type": "code",
      "source": [
        "tf.random.set_seed(42)\n",
        "\n",
        "# Create model\n",
        "model_3 = tf.keras.Sequential([\n",
        "    layers.Dense(128, activation=\"relu\"),\n",
        "    layers.Dense(HORIZON)\n",
        "], name=\"model_3_dense\")\n",
        "\n",
        "# Compile\n",
        "model_3.compile(loss=\"mae\",\n",
        "                optimizer=tf.keras.optimizers.Adam(),\n",
        "                metrics=[\"mae\", \"mse\"])\n",
        "\n",
        "# Fit the model\n",
        "model_3_history = model_3.fit(train_windows, train_labels,\n",
        "                              batch_size=128,\n",
        "                              epochs=100,\n",
        "                              verbose=1,\n",
        "                              validation_data=(test_windows, test_labels),\n",
        "                              callbacks=[create_model_checkpoint(\"model_3_dense\")])"
      ],
      "metadata": {
        "colab": {
          "base_uri": "https://localhost:8080/"
        },
        "id": "ZOditAbQ8s1O",
        "outputId": "beb18334-536e-4f4f-dd56-3143fc6a8f64"
      },
      "execution_count": 62,
      "outputs": [
        {
          "output_type": "stream",
          "name": "stdout",
          "text": [
            "Epoch 1/100\n",
            "15/18 [========================>.....] - ETA: 0s - loss: 2570.1897 - mae: 2570.1897 - mse: 18478360.0000 "
          ]
        },
        {
          "output_type": "stream",
          "name": "stderr",
          "text": [
            "WARNING:absl:Found untraced functions such as _update_step_xla while saving (showing 1 of 1). These functions will not be directly callable after loading.\n"
          ]
        },
        {
          "output_type": "stream",
          "name": "stdout",
          "text": [
            "\b\b\b\b\b\b\b\b\b\b\b\b\b\b\b\b\b\b\b\b\b\b\b\b\b\b\b\b\b\b\b\b\b\b\b\b\b\b\b\b\b\b\b\b\b\b\b\b\b\b\b\b\b\b\b\b\b\b\b\b\b\b\b\b\b\b\b\b\b\b\b\b\b\b\b\b\b\b\b\b\b\b\b\b\b\b\b\b\b\b\b\b\b\b\b\b\b\b\b\b\b\b\b\b\r18/18 [==============================] - 2s 48ms/step - loss: 2443.5269 - mae: 2443.5269 - mse: 17049186.0000 - val_loss: 9068.5771 - val_mae: 9068.5771 - val_mse: 180383184.0000\n",
            "Epoch 2/100\n",
            "17/18 [===========================>..] - ETA: 0s - loss: 734.2712 - mae: 734.2712 - mse: 2190510.0000  "
          ]
        },
        {
          "output_type": "stream",
          "name": "stderr",
          "text": [
            "WARNING:absl:Found untraced functions such as _update_step_xla while saving (showing 1 of 1). These functions will not be directly callable after loading.\n"
          ]
        },
        {
          "output_type": "stream",
          "name": "stdout",
          "text": [
            "\b\b\b\b\b\b\b\b\b\b\b\b\b\b\b\b\b\b\b\b\b\b\b\b\b\b\b\b\b\b\b\b\b\b\b\b\b\b\b\b\b\b\b\b\b\b\b\b\b\b\b\b\b\b\b\b\b\b\b\b\b\b\b\b\b\b\b\b\b\b\b\b\b\b\b\b\b\b\b\b\b\b\b\b\b\b\b\b\b\b\b\b\b\b\b\b\b\b\b\b\b\r18/18 [==============================] - 1s 37ms/step - loss: 729.1510 - mae: 729.1510 - mse: 2169373.7500 - val_loss: 1636.4619 - val_mae: 1636.4619 - val_mse: 7469012.5000\n",
            "Epoch 3/100\n",
            "18/18 [==============================] - ETA: 0s - loss: 218.1006 - mae: 218.1006 - mse: 203805.0625"
          ]
        },
        {
          "output_type": "stream",
          "name": "stderr",
          "text": [
            "WARNING:absl:Found untraced functions such as _update_step_xla while saving (showing 1 of 1). These functions will not be directly callable after loading.\n"
          ]
        },
        {
          "output_type": "stream",
          "name": "stdout",
          "text": [
            "\b\b\b\b\b\b\b\b\b\b\b\b\b\b\b\b\b\b\b\b\b\b\b\b\b\b\b\b\b\b\b\b\b\b\b\b\b\b\b\b\b\b\b\b\b\b\b\b\b\b\b\b\b\b\b\b\b\b\b\b\b\b\b\b\b\b\b\b\b\b\b\b\b\b\b\b\b\b\b\b\b\b\b\b\b\b\b\b\b\b\b\b\b\b\b\b\b\b\b\b\r18/18 [==============================] - 1s 54ms/step - loss: 218.1006 - mae: 218.1006 - mse: 203805.0625 - val_loss: 823.6973 - val_mae: 823.6973 - val_mse: 2134663.5000\n",
            "Epoch 4/100\n",
            "17/18 [===========================>..] - ETA: 0s - loss: 144.6670 - mae: 144.6670 - mse: 107002.0156"
          ]
        },
        {
          "output_type": "stream",
          "name": "stderr",
          "text": [
            "WARNING:absl:Found untraced functions such as _update_step_xla while saving (showing 1 of 1). These functions will not be directly callable after loading.\n"
          ]
        },
        {
          "output_type": "stream",
          "name": "stdout",
          "text": [
            "\b\b\b\b\b\b\b\b\b\b\b\b\b\b\b\b\b\b\b\b\b\b\b\b\b\b\b\b\b\b\b\b\b\b\b\b\b\b\b\b\b\b\b\b\b\b\b\b\b\b\b\b\b\b\b\b\b\b\b\b\b\b\b\b\b\b\b\b\b\b\b\b\b\b\b\b\b\b\b\b\b\b\b\b\b\b\b\b\b\b\b\b\b\b\b\b\b\b\b\b\r18/18 [==============================] - 1s 38ms/step - loss: 144.3365 - mae: 144.3365 - mse: 106325.2578 - val_loss: 737.6309 - val_mae: 737.6309 - val_mse: 1864132.2500\n",
            "Epoch 5/100\n",
            "17/18 [===========================>..] - ETA: 0s - loss: 132.7427 - mae: 132.7427 - mse: 96868.2812 "
          ]
        },
        {
          "output_type": "stream",
          "name": "stderr",
          "text": [
            "WARNING:absl:Found untraced functions such as _update_step_xla while saving (showing 1 of 1). These functions will not be directly callable after loading.\n"
          ]
        },
        {
          "output_type": "stream",
          "name": "stdout",
          "text": [
            "\b\b\b\b\b\b\b\b\b\b\b\b\b\b\b\b\b\b\b\b\b\b\b\b\b\b\b\b\b\b\b\b\b\b\b\b\b\b\b\b\b\b\b\b\b\b\b\b\b\b\b\b\b\b\b\b\b\b\b\b\b\b\b\b\b\b\b\b\b\b\b\b\b\b\b\b\b\b\b\b\b\b\b\b\b\b\b\b\b\b\b\b\b\b\b\b\b\b\b\r18/18 [==============================] - 1s 38ms/step - loss: 132.9136 - mae: 132.9136 - mse: 96735.4453 - val_loss: 702.6198 - val_mae: 702.6198 - val_mse: 1689052.0000\n",
            "Epoch 6/100\n",
            "17/18 [===========================>..] - ETA: 0s - loss: 127.0172 - mae: 127.0172 - mse: 89697.0391"
          ]
        },
        {
          "output_type": "stream",
          "name": "stderr",
          "text": [
            "WARNING:absl:Found untraced functions such as _update_step_xla while saving (showing 1 of 1). These functions will not be directly callable after loading.\n"
          ]
        },
        {
          "output_type": "stream",
          "name": "stdout",
          "text": [
            "\b\b\b\b\b\b\b\b\b\b\b\b\b\b\b\b\b\b\b\b\b\b\b\b\b\b\b\b\b\b\b\b\b\b\b\b\b\b\b\b\b\b\b\b\b\b\b\b\b\b\b\b\b\b\b\b\b\b\b\b\b\b\b\b\b\b\b\b\b\b\b\b\b\b\b\b\b\b\b\b\b\b\b\b\b\b\b\b\b\b\b\b\b\b\b\b\b\b\b\r18/18 [==============================] - 1s 39ms/step - loss: 126.8669 - mae: 126.8669 - mse: 89513.0312 - val_loss: 683.6024 - val_mae: 683.6024 - val_mse: 1603312.2500\n",
            "Epoch 7/100\n",
            "15/18 [========================>.....] - ETA: 0s - loss: 126.0902 - mae: 126.0902 - mse: 88379.4766"
          ]
        },
        {
          "output_type": "stream",
          "name": "stderr",
          "text": [
            "WARNING:absl:Found untraced functions such as _update_step_xla while saving (showing 1 of 1). These functions will not be directly callable after loading.\n"
          ]
        },
        {
          "output_type": "stream",
          "name": "stdout",
          "text": [
            "\b\b\b\b\b\b\b\b\b\b\b\b\b\b\b\b\b\b\b\b\b\b\b\b\b\b\b\b\b\b\b\b\b\b\b\b\b\b\b\b\b\b\b\b\b\b\b\b\b\b\b\b\b\b\b\b\b\b\b\b\b\b\b\b\b\b\b\b\b\b\b\b\b\b\b\b\b\b\b\b\b\b\b\b\b\b\b\b\b\b\b\b\b\b\b\b\b\b\b\r18/18 [==============================] - 1s 38ms/step - loss: 124.5725 - mae: 124.5725 - mse: 86134.6875 - val_loss: 666.6645 - val_mae: 666.6645 - val_mse: 1535938.0000\n",
            "Epoch 8/100\n",
            "18/18 [==============================] - 0s 6ms/step - loss: 122.6933 - mae: 122.6933 - mse: 83351.8594 - val_loss: 682.9153 - val_mae: 682.9153 - val_mse: 1530998.1250\n",
            "Epoch 9/100\n",
            "17/18 [===========================>..] - ETA: 0s - loss: 121.6509 - mae: 121.6509 - mse: 80418.3516"
          ]
        },
        {
          "output_type": "stream",
          "name": "stderr",
          "text": [
            "WARNING:absl:Found untraced functions such as _update_step_xla while saving (showing 1 of 1). These functions will not be directly callable after loading.\n"
          ]
        },
        {
          "output_type": "stream",
          "name": "stdout",
          "text": [
            "\b\b\b\b\b\b\b\b\b\b\b\b\b\b\b\b\b\b\b\b\b\b\b\b\b\b\b\b\b\b\b\b\b\b\b\b\b\b\b\b\b\b\b\b\b\b\b\b\b\b\b\b\b\b\b\b\b\b\b\b\b\b\b\b\b\b\b\b\b\b\b\b\b\b\b\b\b\b\b\b\b\b\b\b\b\b\b\b\b\b\b\b\b\b\b\b\b\b\b\r18/18 [==============================] - 1s 37ms/step - loss: 121.7458 - mae: 121.7458 - mse: 80417.5781 - val_loss: 654.6358 - val_mae: 654.6358 - val_mse: 1443666.8750\n",
            "Epoch 10/100\n",
            "17/18 [===========================>..] - ETA: 0s - loss: 117.1581 - mae: 117.1581 - mse: 74546.1875"
          ]
        },
        {
          "output_type": "stream",
          "name": "stderr",
          "text": [
            "WARNING:absl:Found untraced functions such as _update_step_xla while saving (showing 1 of 1). These functions will not be directly callable after loading.\n"
          ]
        },
        {
          "output_type": "stream",
          "name": "stdout",
          "text": [
            "\b\b\b\b\b\b\b\b\b\b\b\b\b\b\b\b\b\b\b\b\b\b\b\b\b\b\b\b\b\b\b\b\b\b\b\b\b\b\b\b\b\b\b\b\b\b\b\b\b\b\b\b\b\b\b\b\b\b\b\b\b\b\b\b\b\b\b\b\b\b\b\b\b\b\b\b\b\b\b\b\b\b\b\b\b\b\b\b\b\b\b\b\b\b\b\b\b\b\b\r18/18 [==============================] - 1s 37ms/step - loss: 118.0092 - mae: 118.0092 - mse: 76360.9844 - val_loss: 620.5000 - val_mae: 620.5000 - val_mse: 1331928.0000\n",
            "Epoch 11/100\n",
            "17/18 [===========================>..] - ETA: 0s - loss: 113.9322 - mae: 113.9322 - mse: 72207.9297"
          ]
        },
        {
          "output_type": "stream",
          "name": "stderr",
          "text": [
            "WARNING:absl:Found untraced functions such as _update_step_xla while saving (showing 1 of 1). These functions will not be directly callable after loading.\n"
          ]
        },
        {
          "output_type": "stream",
          "name": "stdout",
          "text": [
            "\b\b\b\b\b\b\b\b\b\b\b\b\b\b\b\b\b\b\b\b\b\b\b\b\b\b\b\b\b\b\b\b\b\b\b\b\b\b\b\b\b\b\b\b\b\b\b\b\b\b\b\b\b\b\b\b\b\b\b\b\b\b\b\b\b\b\b\b\b\b\b\b\b\b\b\b\b\b\b\b\b\b\b\b\b\b\b\b\b\b\b\b\b\b\b\b\b\b\b\r18/18 [==============================] - 1s 37ms/step - loss: 114.4365 - mae: 114.4365 - mse: 72947.6328 - val_loss: 605.4914 - val_mae: 605.4914 - val_mse: 1263292.2500\n",
            "Epoch 12/100\n",
            "18/18 [==============================] - 0s 5ms/step - loss: 111.1326 - mae: 111.1326 - mse: 68394.9609 - val_loss: 605.5231 - val_mae: 605.5231 - val_mse: 1228676.6250\n",
            "Epoch 13/100\n",
            "13/18 [====================>.........] - ETA: 0s - loss: 106.7591 - mae: 106.7591 - mse: 65356.7031"
          ]
        },
        {
          "output_type": "stream",
          "name": "stderr",
          "text": [
            "WARNING:absl:Found untraced functions such as _update_step_xla while saving (showing 1 of 1). These functions will not be directly callable after loading.\n"
          ]
        },
        {
          "output_type": "stream",
          "name": "stdout",
          "text": [
            "\b\b\b\b\b\b\b\b\b\b\b\b\b\b\b\b\b\b\b\b\b\b\b\b\b\b\b\b\b\b\b\b\b\b\b\b\b\b\b\b\b\b\b\b\b\b\b\b\b\b\b\b\b\b\b\b\b\b\b\b\b\b\b\b\b\b\b\b\b\b\b\b\b\b\b\b\b\b\b\b\b\b\b\b\b\b\b\b\b\b\b\b\b\b\b\b\b\b\b\r18/18 [==============================] - 1s 37ms/step - loss: 108.0703 - mae: 108.0703 - mse: 64231.5547 - val_loss: 570.5917 - val_mae: 570.5917 - val_mse: 1107992.0000\n",
            "Epoch 14/100\n",
            "15/18 [========================>.....] - ETA: 0s - loss: 100.0041 - mae: 100.0041 - mse: 55575.0117"
          ]
        },
        {
          "output_type": "stream",
          "name": "stderr",
          "text": [
            "WARNING:absl:Found untraced functions such as _update_step_xla while saving (showing 1 of 1). These functions will not be directly callable after loading.\n"
          ]
        },
        {
          "output_type": "stream",
          "name": "stdout",
          "text": [
            "\b\b\b\b\b\b\b\b\b\b\b\b\b\b\b\b\b\b\b\b\b\b\b\b\b\b\b\b\b\b\b\b\b\b\b\b\b\b\b\b\b\b\b\b\b\b\b\b\b\b\b\b\b\b\b\b\b\b\b\b\b\b\b\b\b\b\b\b\b\b\b\b\b\b\b\b\b\b\b\b\b\b\b\b\b\b\b\b\b\b\b\b\b\b\b\b\b\b\b\r18/18 [==============================] - 1s 54ms/step - loss: 103.6203 - mae: 103.6203 - mse: 59600.4023 - val_loss: 553.1339 - val_mae: 553.1339 - val_mse: 1018813.1875\n",
            "Epoch 15/100\n",
            "13/18 [====================>.........] - ETA: 0s - loss: 99.8873 - mae: 99.8873 - mse: 56803.8984"
          ]
        },
        {
          "output_type": "stream",
          "name": "stderr",
          "text": [
            "WARNING:absl:Found untraced functions such as _update_step_xla while saving (showing 1 of 1). These functions will not be directly callable after loading.\n"
          ]
        },
        {
          "output_type": "stream",
          "name": "stdout",
          "text": [
            "\b\b\b\b\b\b\b\b\b\b\b\b\b\b\b\b\b\b\b\b\b\b\b\b\b\b\b\b\b\b\b\b\b\b\b\b\b\b\b\b\b\b\b\b\b\b\b\b\b\b\b\b\b\b\b\b\b\b\b\b\b\b\b\b\b\b\b\b\b\b\b\b\b\b\b\b\b\b\b\b\b\b\b\b\b\b\b\b\b\b\b\b\b\b\b\b\b\r18/18 [==============================] - 1s 56ms/step - loss: 98.2073 - mae: 98.2073 - mse: 53880.9336 - val_loss: 526.1197 - val_mae: 526.1197 - val_mse: 930903.7500\n",
            "Epoch 16/100\n",
            "13/18 [====================>.........] - ETA: 0s - loss: 105.7175 - mae: 105.7175 - mse: 60002.7773"
          ]
        },
        {
          "output_type": "stream",
          "name": "stderr",
          "text": [
            "WARNING:absl:Found untraced functions such as _update_step_xla while saving (showing 1 of 1). These functions will not be directly callable after loading.\n"
          ]
        },
        {
          "output_type": "stream",
          "name": "stdout",
          "text": [
            "\b\b\b\b\b\b\b\b\b\b\b\b\b\b\b\b\b\b\b\b\b\b\b\b\b\b\b\b\b\b\b\b\b\b\b\b\b\b\b\b\b\b\b\b\b\b\b\b\b\b\b\b\b\b\b\b\b\b\b\b\b\b\b\b\b\b\b\b\b\b\b\b\b\b\b\b\b\b\b\b\b\b\b\b\b\b\b\b\b\b\b\b\b\b\b\b\b\b\b\r18/18 [==============================] - 1s 52ms/step - loss: 97.3676 - mae: 97.3676 - mse: 51444.2852 - val_loss: 498.3372 - val_mae: 498.3372 - val_mse: 839515.4375\n",
            "Epoch 17/100\n",
            "18/18 [==============================] - 0s 6ms/step - loss: 91.2435 - mae: 91.2435 - mse: 45945.0273 - val_loss: 501.3963 - val_mae: 501.3963 - val_mse: 807861.7500\n",
            "Epoch 18/100\n",
            "17/18 [===========================>..] - ETA: 0s - loss: 87.5268 - mae: 87.5268 - mse: 42106.5195"
          ]
        },
        {
          "output_type": "stream",
          "name": "stderr",
          "text": [
            "WARNING:absl:Found untraced functions such as _update_step_xla while saving (showing 1 of 1). These functions will not be directly callable after loading.\n"
          ]
        },
        {
          "output_type": "stream",
          "name": "stdout",
          "text": [
            "\b\b\b\b\b\b\b\b\b\b\b\b\b\b\b\b\b\b\b\b\b\b\b\b\b\b\b\b\b\b\b\b\b\b\b\b\b\b\b\b\b\b\b\b\b\b\b\b\b\b\b\b\b\b\b\b\b\b\b\b\b\b\b\b\b\b\b\b\b\b\b\b\b\b\b\b\b\b\b\b\b\b\b\b\b\b\b\b\b\b\b\b\b\b\b\b\b\r18/18 [==============================] - 1s 38ms/step - loss: 87.2875 - mae: 87.2875 - mse: 41904.1367 - val_loss: 453.0203 - val_mae: 453.0203 - val_mse: 688220.0625\n",
            "Epoch 19/100\n",
            "18/18 [==============================] - 0s 6ms/step - loss: 82.4004 - mae: 82.4004 - mse: 37967.2383 - val_loss: 454.0827 - val_mae: 454.0827 - val_mse: 666136.7500\n",
            "Epoch 20/100\n",
            "17/18 [===========================>..] - ETA: 0s - loss: 79.3062 - mae: 79.3062 - mse: 34946.2109"
          ]
        },
        {
          "output_type": "stream",
          "name": "stderr",
          "text": [
            "WARNING:absl:Found untraced functions such as _update_step_xla while saving (showing 1 of 1). These functions will not be directly callable after loading.\n"
          ]
        },
        {
          "output_type": "stream",
          "name": "stdout",
          "text": [
            "\b\b\b\b\b\b\b\b\b\b\b\b\b\b\b\b\b\b\b\b\b\b\b\b\b\b\b\b\b\b\b\b\b\b\b\b\b\b\b\b\b\b\b\b\b\b\b\b\b\b\b\b\b\b\b\b\b\b\b\b\b\b\b\b\b\b\b\b\b\b\b\b\b\b\b\b\b\b\b\b\b\b\b\b\b\b\b\b\b\b\b\b\b\b\b\b\b\r18/18 [==============================] - 1s 38ms/step - loss: 79.7955 - mae: 79.7955 - mse: 35526.8164 - val_loss: 416.5109 - val_mae: 416.5109 - val_mse: 577935.0625\n",
            "Epoch 21/100\n",
            "17/18 [===========================>..] - ETA: 0s - loss: 75.9579 - mae: 75.9579 - mse: 31979.1797"
          ]
        },
        {
          "output_type": "stream",
          "name": "stderr",
          "text": [
            "WARNING:absl:Found untraced functions such as _update_step_xla while saving (showing 1 of 1). These functions will not be directly callable after loading.\n"
          ]
        },
        {
          "output_type": "stream",
          "name": "stdout",
          "text": [
            "\b\b\b\b\b\b\b\b\b\b\b\b\b\b\b\b\b\b\b\b\b\b\b\b\b\b\b\b\b\b\b\b\b\b\b\b\b\b\b\b\b\b\b\b\b\b\b\b\b\b\b\b\b\b\b\b\b\b\b\b\b\b\b\b\b\b\b\b\b\b\b\b\b\b\b\b\b\b\b\b\b\b\b\b\b\b\b\b\b\b\b\b\b\b\b\b\b\r18/18 [==============================] - 1s 65ms/step - loss: 75.8828 - mae: 75.8828 - mse: 31935.8867 - val_loss: 391.8576 - val_mae: 391.8576 - val_mse: 516121.5000\n",
            "Epoch 22/100\n",
            "18/18 [==============================] - 0s 16ms/step - loss: 72.5201 - mae: 72.5201 - mse: 29565.2383 - val_loss: 412.3884 - val_mae: 412.3884 - val_mse: 534188.5000\n",
            "Epoch 23/100\n",
            "15/18 [========================>.....] - ETA: 0s - loss: 72.7591 - mae: 72.7591 - mse: 30139.9258"
          ]
        },
        {
          "output_type": "stream",
          "name": "stderr",
          "text": [
            "WARNING:absl:Found untraced functions such as _update_step_xla while saving (showing 1 of 1). These functions will not be directly callable after loading.\n"
          ]
        },
        {
          "output_type": "stream",
          "name": "stdout",
          "text": [
            "\b\b\b\b\b\b\b\b\b\b\b\b\b\b\b\b\b\b\b\b\b\b\b\b\b\b\b\b\b\b\b\b\b\b\b\b\b\b\b\b\b\b\b\b\b\b\b\b\b\b\b\b\b\b\b\b\b\b\b\b\b\b\b\b\b\b\b\b\b\b\b\b\b\b\b\b\b\b\b\b\b\b\b\b\b\b\b\b\b\b\b\b\b\b\b\b\b\r18/18 [==============================] - 1s 57ms/step - loss: 71.1324 - mae: 71.1324 - mse: 28411.5840 - val_loss: 365.0711 - val_mae: 365.0711 - val_mse: 446679.5938\n",
            "Epoch 24/100\n",
            "15/18 [========================>.....] - ETA: 0s - loss: 68.1578 - mae: 68.1578 - mse: 25800.5391"
          ]
        },
        {
          "output_type": "stream",
          "name": "stderr",
          "text": [
            "WARNING:absl:Found untraced functions such as _update_step_xla while saving (showing 1 of 1). These functions will not be directly callable after loading.\n"
          ]
        },
        {
          "output_type": "stream",
          "name": "stdout",
          "text": [
            "\b\b\b\b\b\b\b\b\b\b\b\b\b\b\b\b\b\b\b\b\b\b\b\b\b\b\b\b\b\b\b\b\b\b\b\b\b\b\b\b\b\b\b\b\b\b\b\b\b\b\b\b\b\b\b\b\b\b\b\b\b\b\b\b\b\b\b\b\b\b\b\b\b\b\b\b\b\b\b\b\b\b\b\b\b\b\b\b\b\b\b\b\b\b\b\b\b\r18/18 [==============================] - 1s 83ms/step - loss: 67.8331 - mae: 67.8331 - mse: 25599.5703 - val_loss: 339.3318 - val_mae: 339.3318 - val_mse: 396375.8750\n",
            "Epoch 25/100\n",
            "18/18 [==============================] - 0s 7ms/step - loss: 63.4646 - mae: 63.4646 - mse: 23797.6973 - val_loss: 347.3209 - val_mae: 347.3209 - val_mse: 407231.8125\n",
            "Epoch 26/100\n",
            "18/18 [==============================] - 0s 6ms/step - loss: 61.7689 - mae: 61.7689 - mse: 22236.5664 - val_loss: 351.6208 - val_mae: 351.6208 - val_mse: 397114.4375\n",
            "Epoch 27/100\n",
            "17/18 [===========================>..] - ETA: 0s - loss: 61.8043 - mae: 61.8043 - mse: 22108.4648"
          ]
        },
        {
          "output_type": "stream",
          "name": "stderr",
          "text": [
            "WARNING:absl:Found untraced functions such as _update_step_xla while saving (showing 1 of 1). These functions will not be directly callable after loading.\n"
          ]
        },
        {
          "output_type": "stream",
          "name": "stdout",
          "text": [
            "\b\b\b\b\b\b\b\b\b\b\b\b\b\b\b\b\b\b\b\b\b\b\b\b\b\b\b\b\b\b\b\b\b\b\b\b\b\b\b\b\b\b\b\b\b\b\b\b\b\b\b\b\b\b\b\b\b\b\b\b\b\b\b\b\b\b\b\b\b\b\b\b\b\b\b\b\b\b\b\b\b\b\b\b\b\b\b\b\b\b\b\b\b\b\b\b\b\r18/18 [==============================] - 1s 38ms/step - loss: 61.4416 - mae: 61.4416 - mse: 21915.3535 - val_loss: 332.9225 - val_mae: 332.9225 - val_mse: 372932.0312\n",
            "Epoch 28/100\n",
            "16/18 [=========================>....] - ETA: 0s - loss: 60.2044 - mae: 60.2044 - mse: 21357.3555"
          ]
        },
        {
          "output_type": "stream",
          "name": "stderr",
          "text": [
            "WARNING:absl:Found untraced functions such as _update_step_xla while saving (showing 1 of 1). These functions will not be directly callable after loading.\n"
          ]
        },
        {
          "output_type": "stream",
          "name": "stdout",
          "text": [
            "\b\b\b\b\b\b\b\b\b\b\b\b\b\b\b\b\b\b\b\b\b\b\b\b\b\b\b\b\b\b\b\b\b\b\b\b\b\b\b\b\b\b\b\b\b\b\b\b\b\b\b\b\b\b\b\b\b\b\b\b\b\b\b\b\b\b\b\b\b\b\b\b\b\b\b\b\b\b\b\b\b\b\b\b\b\b\b\b\b\b\b\b\b\b\b\b\b\r18/18 [==============================] - 1s 38ms/step - loss: 59.1903 - mae: 59.1903 - mse: 20612.6875 - val_loss: 313.5291 - val_mae: 313.5291 - val_mse: 333505.9062\n",
            "Epoch 29/100\n",
            "17/18 [===========================>..] - ETA: 0s - loss: 56.7547 - mae: 56.7547 - mse: 19335.9902"
          ]
        },
        {
          "output_type": "stream",
          "name": "stderr",
          "text": [
            "WARNING:absl:Found untraced functions such as _update_step_xla while saving (showing 1 of 1). These functions will not be directly callable after loading.\n"
          ]
        },
        {
          "output_type": "stream",
          "name": "stdout",
          "text": [
            "\b\b\b\b\b\b\b\b\b\b\b\b\b\b\b\b\b\b\b\b\b\b\b\b\b\b\b\b\b\b\b\b\b\b\b\b\b\b\b\b\b\b\b\b\b\b\b\b\b\b\b\b\b\b\b\b\b\b\b\b\b\b\b\b\b\b\b\b\b\b\b\b\b\b\b\b\b\b\b\b\b\b\b\b\b\b\b\b\b\b\b\b\b\b\b\b\b\r18/18 [==============================] - 1s 39ms/step - loss: 56.6022 - mae: 56.6022 - mse: 19224.1465 - val_loss: 297.2264 - val_mae: 297.2264 - val_mse: 305583.8750\n",
            "Epoch 30/100\n",
            "18/18 [==============================] - 0s 6ms/step - loss: 56.6060 - mae: 56.6060 - mse: 19139.0996 - val_loss: 319.0938 - val_mae: 319.0938 - val_mse: 330601.8750\n",
            "Epoch 31/100\n",
            "17/18 [===========================>..] - ETA: 0s - loss: 57.2018 - mae: 57.2018 - mse: 18599.1113"
          ]
        },
        {
          "output_type": "stream",
          "name": "stderr",
          "text": [
            "WARNING:absl:Found untraced functions such as _update_step_xla while saving (showing 1 of 1). These functions will not be directly callable after loading.\n"
          ]
        },
        {
          "output_type": "stream",
          "name": "stdout",
          "text": [
            "\b\b\b\b\b\b\b\b\b\b\b\b\b\b\b\b\b\b\b\b\b\b\b\b\b\b\b\b\b\b\b\b\b\b\b\b\b\b\b\b\b\b\b\b\b\b\b\b\b\b\b\b\b\b\b\b\b\b\b\b\b\b\b\b\b\b\b\b\b\b\b\b\b\b\b\b\b\b\b\b\b\b\b\b\b\b\b\b\b\b\b\b\b\b\b\b\b\r18/18 [==============================] - 1s 37ms/step - loss: 57.3107 - mae: 57.3107 - mse: 18579.8398 - val_loss: 288.7975 - val_mae: 288.7975 - val_mse: 286093.0000\n",
            "Epoch 32/100\n",
            "16/18 [=========================>....] - ETA: 0s - loss: 56.5194 - mae: 56.5194 - mse: 19001.0820"
          ]
        },
        {
          "output_type": "stream",
          "name": "stderr",
          "text": [
            "WARNING:absl:Found untraced functions such as _update_step_xla while saving (showing 1 of 1). These functions will not be directly callable after loading.\n"
          ]
        },
        {
          "output_type": "stream",
          "name": "stdout",
          "text": [
            "\b\b\b\b\b\b\b\b\b\b\b\b\b\b\b\b\b\b\b\b\b\b\b\b\b\b\b\b\b\b\b\b\b\b\b\b\b\b\b\b\b\b\b\b\b\b\b\b\b\b\b\b\b\b\b\b\b\b\b\b\b\b\b\b\b\b\b\b\b\b\b\b\b\b\b\b\b\b\b\b\b\b\b\b\b\b\b\b\b\b\b\b\b\b\b\b\b\r18/18 [==============================] - 1s 38ms/step - loss: 55.8227 - mae: 55.8227 - mse: 18327.7188 - val_loss: 281.3507 - val_mae: 281.3507 - val_mse: 270607.5312\n",
            "Epoch 33/100\n",
            "16/18 [=========================>....] - ETA: 0s - loss: 53.7341 - mae: 53.7341 - mse: 17186.9160"
          ]
        },
        {
          "output_type": "stream",
          "name": "stderr",
          "text": [
            "WARNING:absl:Found untraced functions such as _update_step_xla while saving (showing 1 of 1). These functions will not be directly callable after loading.\n"
          ]
        },
        {
          "output_type": "stream",
          "name": "stdout",
          "text": [
            "\b\b\b\b\b\b\b\b\b\b\b\b\b\b\b\b\b\b\b\b\b\b\b\b\b\b\b\b\b\b\b\b\b\b\b\b\b\b\b\b\b\b\b\b\b\b\b\b\b\b\b\b\b\b\b\b\b\b\b\b\b\b\b\b\b\b\b\b\b\b\b\b\b\b\b\b\b\b\b\b\b\b\b\b\b\b\b\b\b\b\b\b\b\b\b\b\b\r18/18 [==============================] - 1s 39ms/step - loss: 53.8562 - mae: 53.8562 - mse: 17111.3066 - val_loss: 276.9252 - val_mae: 276.9252 - val_mse: 265132.9062\n",
            "Epoch 34/100\n",
            "18/18 [==============================] - ETA: 0s - loss: 52.4183 - mae: 52.4183 - mse: 16511.7402"
          ]
        },
        {
          "output_type": "stream",
          "name": "stderr",
          "text": [
            "WARNING:absl:Found untraced functions such as _update_step_xla while saving (showing 1 of 1). These functions will not be directly callable after loading.\n"
          ]
        },
        {
          "output_type": "stream",
          "name": "stdout",
          "text": [
            "\b\b\b\b\b\b\b\b\b\b\b\b\b\b\b\b\b\b\b\b\b\b\b\b\b\b\b\b\b\b\b\b\b\b\b\b\b\b\b\b\b\b\b\b\b\b\b\b\b\b\b\b\b\b\b\b\b\b\b\b\b\b\b\b\b\b\b\b\b\b\b\b\b\b\b\b\b\b\b\b\b\b\b\b\b\b\b\b\b\b\b\b\b\b\b\b\b\r18/18 [==============================] - 1s 56ms/step - loss: 52.4183 - mae: 52.4183 - mse: 16511.7402 - val_loss: 275.0069 - val_mae: 275.0069 - val_mse: 254668.7812\n",
            "Epoch 35/100\n",
            "18/18 [==============================] - 0s 8ms/step - loss: 51.6011 - mae: 51.6011 - mse: 15718.3906 - val_loss: 278.4014 - val_mae: 278.4014 - val_mse: 254653.3281\n",
            "Epoch 36/100\n",
            "18/18 [==============================] - 0s 9ms/step - loss: 49.6465 - mae: 49.6465 - mse: 15003.3408 - val_loss: 284.3459 - val_mae: 284.3459 - val_mse: 266474.2188\n",
            "Epoch 37/100\n",
            "18/18 [==============================] - 0s 8ms/step - loss: 49.4819 - mae: 49.4819 - mse: 14600.8701 - val_loss: 288.4409 - val_mae: 288.4409 - val_mse: 268958.4375\n",
            "Epoch 38/100\n",
            "12/18 [===================>..........] - ETA: 0s - loss: 49.7919 - mae: 49.7919 - mse: 13173.8086"
          ]
        },
        {
          "output_type": "stream",
          "name": "stderr",
          "text": [
            "WARNING:absl:Found untraced functions such as _update_step_xla while saving (showing 1 of 1). These functions will not be directly callable after loading.\n"
          ]
        },
        {
          "output_type": "stream",
          "name": "stdout",
          "text": [
            "\b\b\b\b\b\b\b\b\b\b\b\b\b\b\b\b\b\b\b\b\b\b\b\b\b\b\b\b\b\b\b\b\b\b\b\b\b\b\b\b\b\b\b\b\b\b\b\b\b\b\b\b\b\b\b\b\b\b\b\b\b\b\b\b\b\b\b\b\b\b\b\b\b\b\b\b\b\b\b\b\b\b\b\b\b\b\b\b\b\b\b\b\b\b\b\b\b\r18/18 [==============================] - 1s 56ms/step - loss: 50.7217 - mae: 50.7217 - mse: 14907.2471 - val_loss: 261.6523 - val_mae: 261.6523 - val_mse: 233423.0781\n",
            "Epoch 39/100\n",
            "17/18 [===========================>..] - ETA: 0s - loss: 46.9610 - mae: 46.9610 - mse: 13490.1211"
          ]
        },
        {
          "output_type": "stream",
          "name": "stderr",
          "text": [
            "WARNING:absl:Found untraced functions such as _update_step_xla while saving (showing 1 of 1). These functions will not be directly callable after loading.\n"
          ]
        },
        {
          "output_type": "stream",
          "name": "stdout",
          "text": [
            "\b\b\b\b\b\b\b\b\b\b\b\b\b\b\b\b\b\b\b\b\b\b\b\b\b\b\b\b\b\b\b\b\b\b\b\b\b\b\b\b\b\b\b\b\b\b\b\b\b\b\b\b\b\b\b\b\b\b\b\b\b\b\b\b\b\b\b\b\b\b\b\b\b\b\b\b\b\b\b\b\b\b\b\b\b\b\b\b\b\b\b\b\b\b\b\b\b\r18/18 [==============================] - 1s 38ms/step - loss: 46.8182 - mae: 46.8182 - mse: 13386.3496 - val_loss: 252.8118 - val_mae: 252.8118 - val_mse: 222033.3281\n",
            "Epoch 40/100\n",
            "17/18 [===========================>..] - ETA: 0s - loss: 46.1907 - mae: 46.1907 - mse: 12881.2393"
          ]
        },
        {
          "output_type": "stream",
          "name": "stderr",
          "text": [
            "WARNING:absl:Found untraced functions such as _update_step_xla while saving (showing 1 of 1). These functions will not be directly callable after loading.\n"
          ]
        },
        {
          "output_type": "stream",
          "name": "stdout",
          "text": [
            "\b\b\b\b\b\b\b\b\b\b\b\b\b\b\b\b\b\b\b\b\b\b\b\b\b\b\b\b\b\b\b\b\b\b\b\b\b\b\b\b\b\b\b\b\b\b\b\b\b\b\b\b\b\b\b\b\b\b\b\b\b\b\b\b\b\b\b\b\b\b\b\b\b\b\b\b\b\b\b\b\b\b\b\b\b\b\b\b\b\b\b\b\b\b\b\b\b\r18/18 [==============================] - 1s 37ms/step - loss: 46.4135 - mae: 46.4135 - mse: 13007.3916 - val_loss: 247.0315 - val_mae: 247.0315 - val_mse: 211378.0625\n",
            "Epoch 41/100\n",
            "18/18 [==============================] - 0s 6ms/step - loss: 46.5169 - mae: 46.5169 - mse: 12881.0547 - val_loss: 251.4785 - val_mae: 251.4785 - val_mse: 210325.1875\n",
            "Epoch 42/100\n",
            "18/18 [==============================] - 0s 6ms/step - loss: 45.3232 - mae: 45.3232 - mse: 12394.4414 - val_loss: 253.3517 - val_mae: 253.3517 - val_mse: 208425.2188\n",
            "Epoch 43/100\n",
            "18/18 [==============================] - 0s 7ms/step - loss: 45.7534 - mae: 45.7534 - mse: 12227.1348 - val_loss: 248.5145 - val_mae: 248.5145 - val_mse: 200421.6094\n",
            "Epoch 44/100\n",
            "17/18 [===========================>..] - ETA: 0s - loss: 46.7235 - mae: 46.7235 - mse: 12212.7070"
          ]
        },
        {
          "output_type": "stream",
          "name": "stderr",
          "text": [
            "WARNING:absl:Found untraced functions such as _update_step_xla while saving (showing 1 of 1). These functions will not be directly callable after loading.\n"
          ]
        },
        {
          "output_type": "stream",
          "name": "stdout",
          "text": [
            "\b\b\b\b\b\b\b\b\b\b\b\b\b\b\b\b\b\b\b\b\b\b\b\b\b\b\b\b\b\b\b\b\b\b\b\b\b\b\b\b\b\b\b\b\b\b\b\b\b\b\b\b\b\b\b\b\b\b\b\b\b\b\b\b\b\b\b\b\b\b\b\b\b\b\b\b\b\b\b\b\b\b\b\b\b\b\b\b\b\b\b\b\b\b\b\b\b\r18/18 [==============================] - 1s 36ms/step - loss: 46.7101 - mae: 46.7101 - mse: 12163.3584 - val_loss: 242.9077 - val_mae: 242.9077 - val_mse: 194772.9688\n",
            "Epoch 45/100\n",
            "17/18 [===========================>..] - ETA: 0s - loss: 45.7247 - mae: 45.7247 - mse: 12104.6221"
          ]
        },
        {
          "output_type": "stream",
          "name": "stderr",
          "text": [
            "WARNING:absl:Found untraced functions such as _update_step_xla while saving (showing 1 of 1). These functions will not be directly callable after loading.\n"
          ]
        },
        {
          "output_type": "stream",
          "name": "stdout",
          "text": [
            "\b\b\b\b\b\b\b\b\b\b\b\b\b\b\b\b\b\b\b\b\b\b\b\b\b\b\b\b\b\b\b\b\b\b\b\b\b\b\b\b\b\b\b\b\b\b\b\b\b\b\b\b\b\b\b\b\b\b\b\b\b\b\b\b\b\b\b\b\b\b\b\b\b\b\b\b\b\b\b\b\b\b\b\b\b\b\b\b\b\b\b\b\b\b\b\b\b\r18/18 [==============================] - 1s 36ms/step - loss: 45.5067 - mae: 45.5067 - mse: 12006.9531 - val_loss: 229.7589 - val_mae: 229.7589 - val_mse: 178486.2031\n",
            "Epoch 46/100\n",
            "18/18 [==============================] - 0s 6ms/step - loss: 42.2459 - mae: 42.2459 - mse: 10749.2324 - val_loss: 234.8286 - val_mae: 234.8286 - val_mse: 184374.2500\n",
            "Epoch 47/100\n",
            "16/18 [=========================>....] - ETA: 0s - loss: 42.7795 - mae: 42.7795 - mse: 10789.1475"
          ]
        },
        {
          "output_type": "stream",
          "name": "stderr",
          "text": [
            "WARNING:absl:Found untraced functions such as _update_step_xla while saving (showing 1 of 1). These functions will not be directly callable after loading.\n"
          ]
        },
        {
          "output_type": "stream",
          "name": "stdout",
          "text": [
            "\b\b\b\b\b\b\b\b\b\b\b\b\b\b\b\b\b\b\b\b\b\b\b\b\b\b\b\b\b\b\b\b\b\b\b\b\b\b\b\b\b\b\b\b\b\b\b\b\b\b\b\b\b\b\b\b\b\b\b\b\b\b\b\b\b\b\b\b\b\b\b\b\b\b\b\b\b\b\b\b\b\b\b\b\b\b\b\b\b\b\b\b\b\b\b\b\b\r18/18 [==============================] - 1s 38ms/step - loss: 42.7188 - mae: 42.7188 - mse: 10689.3506 - val_loss: 221.3763 - val_mae: 221.3763 - val_mse: 164295.0312\n",
            "Epoch 48/100\n",
            "18/18 [==============================] - 0s 6ms/step - loss: 40.5768 - mae: 40.5768 - mse: 10128.8115 - val_loss: 233.3431 - val_mae: 233.3431 - val_mse: 179583.4375\n",
            "Epoch 49/100\n",
            "18/18 [==============================] - 0s 6ms/step - loss: 41.0453 - mae: 41.0453 - mse: 9885.6006 - val_loss: 223.2306 - val_mae: 223.2306 - val_mse: 161571.6406\n",
            "Epoch 50/100\n",
            "16/18 [=========================>....] - ETA: 0s - loss: 39.6135 - mae: 39.6135 - mse: 9492.0488"
          ]
        },
        {
          "output_type": "stream",
          "name": "stderr",
          "text": [
            "WARNING:absl:Found untraced functions such as _update_step_xla while saving (showing 1 of 1). These functions will not be directly callable after loading.\n"
          ]
        },
        {
          "output_type": "stream",
          "name": "stdout",
          "text": [
            "\b\b\b\b\b\b\b\b\b\b\b\b\b\b\b\b\b\b\b\b\b\b\b\b\b\b\b\b\b\b\b\b\b\b\b\b\b\b\b\b\b\b\b\b\b\b\b\b\b\b\b\b\b\b\b\b\b\b\b\b\b\b\b\b\b\b\b\b\b\b\b\b\b\b\b\b\b\b\b\b\b\b\b\b\b\b\b\b\b\b\b\b\b\b\b\b\r18/18 [==============================] - 1s 37ms/step - loss: 39.3960 - mae: 39.3960 - mse: 9242.5693 - val_loss: 209.4845 - val_mae: 209.4846 - val_mse: 149619.5938\n",
            "Epoch 51/100\n",
            "18/18 [==============================] - 0s 7ms/step - loss: 37.9656 - mae: 37.9656 - mse: 8854.5771 - val_loss: 210.4513 - val_mae: 210.4513 - val_mse: 145903.6406\n",
            "Epoch 52/100\n",
            "18/18 [==============================] - ETA: 0s - loss: 37.2174 - mae: 37.2174 - mse: 8573.0439"
          ]
        },
        {
          "output_type": "stream",
          "name": "stderr",
          "text": [
            "WARNING:absl:Found untraced functions such as _update_step_xla while saving (showing 1 of 1). These functions will not be directly callable after loading.\n"
          ]
        },
        {
          "output_type": "stream",
          "name": "stdout",
          "text": [
            "\b\b\b\b\b\b\b\b\b\b\b\b\b\b\b\b\b\b\b\b\b\b\b\b\b\b\b\b\b\b\b\b\b\b\b\b\b\b\b\b\b\b\b\b\b\b\b\b\b\b\b\b\b\b\b\b\b\b\b\b\b\b\b\b\b\b\b\b\b\b\b\b\b\b\b\b\b\b\b\b\b\b\b\b\b\b\b\b\b\b\b\b\b\b\b\b\r18/18 [==============================] - 1s 37ms/step - loss: 37.2174 - mae: 37.2174 - mse: 8573.0439 - val_loss: 202.3314 - val_mae: 202.3314 - val_mse: 137661.0781\n",
            "Epoch 53/100\n",
            "16/18 [=========================>....] - ETA: 0s - loss: 38.5903 - mae: 38.5903 - mse: 8696.0752"
          ]
        },
        {
          "output_type": "stream",
          "name": "stderr",
          "text": [
            "WARNING:absl:Found untraced functions such as _update_step_xla while saving (showing 1 of 1). These functions will not be directly callable after loading.\n"
          ]
        },
        {
          "output_type": "stream",
          "name": "stdout",
          "text": [
            "\b\b\b\b\b\b\b\b\b\b\b\b\b\b\b\b\b\b\b\b\b\b\b\b\b\b\b\b\b\b\b\b\b\b\b\b\b\b\b\b\b\b\b\b\b\b\b\b\b\b\b\b\b\b\b\b\b\b\b\b\b\b\b\b\b\b\b\b\b\b\b\b\b\b\b\b\b\b\b\b\b\b\b\b\b\b\b\b\b\b\b\b\b\b\b\b\r18/18 [==============================] - 1s 52ms/step - loss: 38.3700 - mae: 38.3700 - mse: 8522.6758 - val_loss: 198.7290 - val_mae: 198.7290 - val_mse: 131981.2344\n",
            "Epoch 54/100\n",
            "16/18 [=========================>....] - ETA: 0s - loss: 37.8369 - mae: 37.8369 - mse: 8273.3125"
          ]
        },
        {
          "output_type": "stream",
          "name": "stderr",
          "text": [
            "WARNING:absl:Found untraced functions such as _update_step_xla while saving (showing 1 of 1). These functions will not be directly callable after loading.\n"
          ]
        },
        {
          "output_type": "stream",
          "name": "stdout",
          "text": [
            "\b\b\b\b\b\b\b\b\b\b\b\b\b\b\b\b\b\b\b\b\b\b\b\b\b\b\b\b\b\b\b\b\b\b\b\b\b\b\b\b\b\b\b\b\b\b\b\b\b\b\b\b\b\b\b\b\b\b\b\b\b\b\b\b\b\b\b\b\b\b\b\b\b\b\b\b\b\b\b\b\b\b\b\b\b\b\b\b\b\b\b\b\b\b\b\b\r18/18 [==============================] - 1s 40ms/step - loss: 37.4777 - mae: 37.4777 - mse: 8135.9956 - val_loss: 197.7595 - val_mae: 197.7595 - val_mse: 129106.3828\n",
            "Epoch 55/100\n",
            "18/18 [==============================] - 0s 6ms/step - loss: 35.4453 - mae: 35.4453 - mse: 7604.1636 - val_loss: 199.2031 - val_mae: 199.2031 - val_mse: 129026.5000\n",
            "Epoch 56/100\n",
            "17/18 [===========================>..] - ETA: 0s - loss: 35.3204 - mae: 35.3204 - mse: 7374.9414"
          ]
        },
        {
          "output_type": "stream",
          "name": "stderr",
          "text": [
            "WARNING:absl:Found untraced functions such as _update_step_xla while saving (showing 1 of 1). These functions will not be directly callable after loading.\n"
          ]
        },
        {
          "output_type": "stream",
          "name": "stdout",
          "text": [
            "\b\b\b\b\b\b\b\b\b\b\b\b\b\b\b\b\b\b\b\b\b\b\b\b\b\b\b\b\b\b\b\b\b\b\b\b\b\b\b\b\b\b\b\b\b\b\b\b\b\b\b\b\b\b\b\b\b\b\b\b\b\b\b\b\b\b\b\b\b\b\b\b\b\b\b\b\b\b\b\b\b\b\b\b\b\b\b\b\b\b\b\b\b\b\b\b\r18/18 [==============================] - 1s 40ms/step - loss: 35.0801 - mae: 35.0801 - mse: 7304.4790 - val_loss: 191.5994 - val_mae: 191.5994 - val_mse: 121671.2891\n",
            "Epoch 57/100\n",
            "18/18 [==============================] - ETA: 0s - loss: 34.8775 - mae: 34.8775 - mse: 7198.9409"
          ]
        },
        {
          "output_type": "stream",
          "name": "stderr",
          "text": [
            "WARNING:absl:Found untraced functions such as _update_step_xla while saving (showing 1 of 1). These functions will not be directly callable after loading.\n"
          ]
        },
        {
          "output_type": "stream",
          "name": "stdout",
          "text": [
            "\b\b\b\b\b\b\b\b\b\b\b\b\b\b\b\b\b\b\b\b\b\b\b\b\b\b\b\b\b\b\b\b\b\b\b\b\b\b\b\b\b\b\b\b\b\b\b\b\b\b\b\b\b\b\b\b\b\b\b\b\b\b\b\b\b\b\b\b\b\b\b\b\b\b\b\b\b\b\b\b\b\b\b\b\b\b\b\b\b\b\b\b\b\b\b\b\r18/18 [==============================] - 1s 38ms/step - loss: 34.8775 - mae: 34.8775 - mse: 7198.9409 - val_loss: 190.2811 - val_mae: 190.2811 - val_mse: 117075.3984\n",
            "Epoch 58/100\n",
            "17/18 [===========================>..] - ETA: 0s - loss: 33.6260 - mae: 33.6260 - mse: 6843.1460"
          ]
        },
        {
          "output_type": "stream",
          "name": "stderr",
          "text": [
            "WARNING:absl:Found untraced functions such as _update_step_xla while saving (showing 1 of 1). These functions will not be directly callable after loading.\n"
          ]
        },
        {
          "output_type": "stream",
          "name": "stdout",
          "text": [
            "\b\b\b\b\b\b\b\b\b\b\b\b\b\b\b\b\b\b\b\b\b\b\b\b\b\b\b\b\b\b\b\b\b\b\b\b\b\b\b\b\b\b\b\b\b\b\b\b\b\b\b\b\b\b\b\b\b\b\b\b\b\b\b\b\b\b\b\b\b\b\b\b\b\b\b\b\b\b\b\b\b\b\b\b\b\b\b\b\b\b\b\b\b\b\b\b\r18/18 [==============================] - 1s 36ms/step - loss: 33.5768 - mae: 33.5768 - mse: 6811.9199 - val_loss: 178.4468 - val_mae: 178.4468 - val_mse: 108406.9922\n",
            "Epoch 59/100\n",
            "18/18 [==============================] - 0s 6ms/step - loss: 32.7842 - mae: 32.7842 - mse: 6431.2744 - val_loss: 187.6631 - val_mae: 187.6631 - val_mse: 112143.2188\n",
            "Epoch 60/100\n",
            "18/18 [==============================] - 0s 6ms/step - loss: 32.4678 - mae: 32.4678 - mse: 6325.6807 - val_loss: 188.1476 - val_mae: 188.1476 - val_mse: 115501.0781\n",
            "Epoch 61/100\n",
            "14/18 [======================>.......] - ETA: 0s - loss: 33.5448 - mae: 33.5448 - mse: 6635.9219"
          ]
        },
        {
          "output_type": "stream",
          "name": "stderr",
          "text": [
            "WARNING:absl:Found untraced functions such as _update_step_xla while saving (showing 1 of 1). These functions will not be directly callable after loading.\n"
          ]
        },
        {
          "output_type": "stream",
          "name": "stdout",
          "text": [
            "\b\b\b\b\b\b\b\b\b\b\b\b\b\b\b\b\b\b\b\b\b\b\b\b\b\b\b\b\b\b\b\b\b\b\b\b\b\b\b\b\b\b\b\b\b\b\b\b\b\b\b\b\b\b\b\b\b\b\b\b\b\b\b\b\b\b\b\b\b\b\b\b\b\b\b\b\b\b\b\b\b\b\b\b\b\b\b\b\b\b\b\b\b\b\b\b\r18/18 [==============================] - 1s 38ms/step - loss: 32.0567 - mae: 32.0567 - mse: 6041.7412 - val_loss: 173.5369 - val_mae: 173.5369 - val_mse: 99791.4922\n",
            "Epoch 62/100\n",
            "15/18 [========================>.....] - ETA: 0s - loss: 32.6802 - mae: 32.6802 - mse: 6241.1011 "
          ]
        },
        {
          "output_type": "stream",
          "name": "stderr",
          "text": [
            "WARNING:absl:Found untraced functions such as _update_step_xla while saving (showing 1 of 1). These functions will not be directly callable after loading.\n"
          ]
        },
        {
          "output_type": "stream",
          "name": "stdout",
          "text": [
            "\b\b\b\b\b\b\b\b\b\b\b\b\b\b\b\b\b\b\b\b\b\b\b\b\b\b\b\b\b\b\b\b\b\b\b\b\b\b\b\b\b\b\b\b\b\b\b\b\b\b\b\b\b\b\b\b\b\b\b\b\b\b\b\b\b\b\b\b\b\b\b\b\b\b\b\b\b\b\b\b\b\b\b\b\b\b\b\b\b\b\b\b\b\b\b\b\r18/18 [==============================] - 1s 59ms/step - loss: 31.7065 - mae: 31.7065 - mse: 5939.4087 - val_loss: 162.8457 - val_mae: 162.8457 - val_mse: 89187.5156\n",
            "Epoch 63/100\n",
            "18/18 [==============================] - 0s 8ms/step - loss: 30.3743 - mae: 30.3743 - mse: 5539.5474 - val_loss: 192.7313 - val_mae: 192.7313 - val_mse: 116792.0703\n",
            "Epoch 64/100\n",
            "18/18 [==============================] - 0s 8ms/step - loss: 31.8908 - mae: 31.8908 - mse: 5771.1421 - val_loss: 190.5411 - val_mae: 190.5411 - val_mse: 106819.8438\n",
            "Epoch 65/100\n",
            "18/18 [==============================] - 0s 9ms/step - loss: 32.0568 - mae: 32.0568 - mse: 5594.6914 - val_loss: 193.1768 - val_mae: 193.1768 - val_mse: 110461.0312\n",
            "Epoch 66/100\n",
            "18/18 [==============================] - 0s 8ms/step - loss: 29.8095 - mae: 29.8095 - mse: 5113.3354 - val_loss: 163.1534 - val_mae: 163.1534 - val_mse: 86352.1172\n",
            "Epoch 67/100\n",
            "13/18 [====================>.........] - ETA: 0s - loss: 28.9788 - mae: 28.9788 - mse: 5017.2319"
          ]
        },
        {
          "output_type": "stream",
          "name": "stderr",
          "text": [
            "WARNING:absl:Found untraced functions such as _update_step_xla while saving (showing 1 of 1). These functions will not be directly callable after loading.\n"
          ]
        },
        {
          "output_type": "stream",
          "name": "stdout",
          "text": [
            "\b\b\b\b\b\b\b\b\b\b\b\b\b\b\b\b\b\b\b\b\b\b\b\b\b\b\b\b\b\b\b\b\b\b\b\b\b\b\b\b\b\b\b\b\b\b\b\b\b\b\b\b\b\b\b\b\b\b\b\b\b\b\b\b\b\b\b\b\b\b\b\b\b\b\b\b\b\b\b\b\b\b\b\b\b\b\b\b\b\b\b\b\b\b\b\b\r18/18 [==============================] - 1s 57ms/step - loss: 28.5703 - mae: 28.5703 - mse: 4823.5684 - val_loss: 152.8507 - val_mae: 152.8507 - val_mse: 80958.2031\n",
            "Epoch 68/100\n",
            "18/18 [==============================] - 0s 6ms/step - loss: 27.6294 - mae: 27.6294 - mse: 4712.8877 - val_loss: 157.2229 - val_mae: 157.2229 - val_mse: 86849.5078\n",
            "Epoch 69/100\n",
            "18/18 [==============================] - 0s 6ms/step - loss: 27.9027 - mae: 27.9027 - mse: 4616.2856 - val_loss: 161.5238 - val_mae: 161.5238 - val_mse: 83090.7266\n",
            "Epoch 70/100\n",
            "16/18 [=========================>....] - ETA: 0s - loss: 27.3377 - mae: 27.3377 - mse: 4403.4697"
          ]
        },
        {
          "output_type": "stream",
          "name": "stderr",
          "text": [
            "WARNING:absl:Found untraced functions such as _update_step_xla while saving (showing 1 of 1). These functions will not be directly callable after loading.\n"
          ]
        },
        {
          "output_type": "stream",
          "name": "stdout",
          "text": [
            "\b\b\b\b\b\b\b\b\b\b\b\b\b\b\b\b\b\b\b\b\b\b\b\b\b\b\b\b\b\b\b\b\b\b\b\b\b\b\b\b\b\b\b\b\b\b\b\b\b\b\b\b\b\b\b\b\b\b\b\b\b\b\b\b\b\b\b\b\b\b\b\b\b\b\b\b\b\b\b\b\b\b\b\b\b\b\b\b\b\b\b\b\b\b\b\b\r18/18 [==============================] - 1s 37ms/step - loss: 27.3489 - mae: 27.3489 - mse: 4405.9331 - val_loss: 150.3585 - val_mae: 150.3585 - val_mse: 73762.3047\n",
            "Epoch 71/100\n",
            "18/18 [==============================] - 0s 6ms/step - loss: 26.0087 - mae: 26.0087 - mse: 4111.3735 - val_loss: 175.7984 - val_mae: 175.7984 - val_mse: 89611.0625\n",
            "Epoch 72/100\n",
            "17/18 [===========================>..] - ETA: 0s - loss: 26.8800 - mae: 26.8800 - mse: 4138.8228 "
          ]
        },
        {
          "output_type": "stream",
          "name": "stderr",
          "text": [
            "WARNING:absl:Found untraced functions such as _update_step_xla while saving (showing 1 of 1). These functions will not be directly callable after loading.\n"
          ]
        },
        {
          "output_type": "stream",
          "name": "stdout",
          "text": [
            "\b\b\b\b\b\b\b\b\b\b\b\b\b\b\b\b\b\b\b\b\b\b\b\b\b\b\b\b\b\b\b\b\b\b\b\b\b\b\b\b\b\b\b\b\b\b\b\b\b\b\b\b\b\b\b\b\b\b\b\b\b\b\b\b\b\b\b\b\b\b\b\b\b\b\b\b\b\b\b\b\b\b\b\b\b\b\b\b\b\b\b\b\b\b\b\b\r18/18 [==============================] - 1s 36ms/step - loss: 26.7813 - mae: 26.7813 - mse: 4107.5166 - val_loss: 137.5671 - val_mae: 137.5671 - val_mse: 63535.9844\n",
            "Epoch 73/100\n",
            "18/18 [==============================] - 0s 6ms/step - loss: 24.5717 - mae: 24.5717 - mse: 3760.7324 - val_loss: 159.6396 - val_mae: 159.6396 - val_mse: 80913.5547\n",
            "Epoch 74/100\n",
            "18/18 [==============================] - 0s 6ms/step - loss: 27.3723 - mae: 27.3723 - mse: 4066.2136 - val_loss: 147.5611 - val_mae: 147.5611 - val_mse: 67430.9219\n",
            "Epoch 75/100\n",
            "17/18 [===========================>..] - ETA: 0s - loss: 25.8594 - mae: 25.8594 - mse: 3693.0076"
          ]
        },
        {
          "output_type": "stream",
          "name": "stderr",
          "text": [
            "WARNING:absl:Found untraced functions such as _update_step_xla while saving (showing 1 of 1). These functions will not be directly callable after loading.\n"
          ]
        },
        {
          "output_type": "stream",
          "name": "stdout",
          "text": [
            "\b\b\b\b\b\b\b\b\b\b\b\b\b\b\b\b\b\b\b\b\b\b\b\b\b\b\b\b\b\b\b\b\b\b\b\b\b\b\b\b\b\b\b\b\b\b\b\b\b\b\b\b\b\b\b\b\b\b\b\b\b\b\b\b\b\b\b\b\b\b\b\b\b\b\b\b\b\b\b\b\b\b\b\b\b\b\b\b\b\b\b\b\b\b\b\b\r18/18 [==============================] - 1s 37ms/step - loss: 25.8584 - mae: 25.8584 - mse: 3680.1829 - val_loss: 134.5604 - val_mae: 134.5604 - val_mse: 59618.4766\n",
            "Epoch 76/100\n",
            "18/18 [==============================] - 0s 6ms/step - loss: 25.2510 - mae: 25.2510 - mse: 3574.1914 - val_loss: 136.8247 - val_mae: 136.8247 - val_mse: 63005.3125\n",
            "Epoch 77/100\n",
            "16/18 [=========================>....] - ETA: 0s - loss: 24.2061 - mae: 24.2061 - mse: 3403.2432"
          ]
        },
        {
          "output_type": "stream",
          "name": "stderr",
          "text": [
            "WARNING:absl:Found untraced functions such as _update_step_xla while saving (showing 1 of 1). These functions will not be directly callable after loading.\n"
          ]
        },
        {
          "output_type": "stream",
          "name": "stdout",
          "text": [
            "\b\b\b\b\b\b\b\b\b\b\b\b\b\b\b\b\b\b\b\b\b\b\b\b\b\b\b\b\b\b\b\b\b\b\b\b\b\b\b\b\b\b\b\b\b\b\b\b\b\b\b\b\b\b\b\b\b\b\b\b\b\b\b\b\b\b\b\b\b\b\b\b\b\b\b\b\b\b\b\b\b\b\b\b\b\b\b\b\b\b\b\b\b\b\b\b\r18/18 [==============================] - 1s 39ms/step - loss: 24.2880 - mae: 24.2880 - mse: 3387.7046 - val_loss: 129.6530 - val_mae: 129.6530 - val_mse: 53679.3086\n",
            "Epoch 78/100\n",
            "18/18 [==============================] - 0s 6ms/step - loss: 24.1720 - mae: 24.1720 - mse: 3306.0349 - val_loss: 138.1935 - val_mae: 138.1935 - val_mse: 58306.9375\n",
            "Epoch 79/100\n",
            "18/18 [==============================] - 0s 6ms/step - loss: 22.7884 - mae: 22.7884 - mse: 3030.1389 - val_loss: 131.8077 - val_mae: 131.8077 - val_mse: 59549.1406\n",
            "Epoch 80/100\n",
            "18/18 [==============================] - 0s 7ms/step - loss: 22.8793 - mae: 22.8793 - mse: 3121.4744 - val_loss: 151.5897 - val_mae: 151.5897 - val_mse: 63206.7578\n",
            "Epoch 81/100\n",
            "18/18 [==============================] - 0s 7ms/step - loss: 28.7330 - mae: 28.7330 - mse: 3803.3459 - val_loss: 157.0382 - val_mae: 157.0382 - val_mse: 77993.1328\n",
            "Epoch 82/100\n",
            "18/18 [==============================] - 0s 6ms/step - loss: 25.3031 - mae: 25.3031 - mse: 3247.4062 - val_loss: 146.5407 - val_mae: 146.5407 - val_mse: 63941.3125\n",
            "Epoch 83/100\n",
            "17/18 [===========================>..] - ETA: 0s - loss: 22.3847 - mae: 22.3847 - mse: 2777.7148"
          ]
        },
        {
          "output_type": "stream",
          "name": "stderr",
          "text": [
            "WARNING:absl:Found untraced functions such as _update_step_xla while saving (showing 1 of 1). These functions will not be directly callable after loading.\n"
          ]
        },
        {
          "output_type": "stream",
          "name": "stdout",
          "text": [
            "\b\b\b\b\b\b\b\b\b\b\b\b\b\b\b\b\b\b\b\b\b\b\b\b\b\b\b\b\b\b\b\b\b\b\b\b\b\b\b\b\b\b\b\b\b\b\b\b\b\b\b\b\b\b\b\b\b\b\b\b\b\b\b\b\b\b\b\b\b\b\b\b\b\b\b\b\b\b\b\b\b\b\b\b\b\b\b\b\b\b\b\b\b\b\b\b\r18/18 [==============================] - 1s 39ms/step - loss: 22.2809 - mae: 22.2809 - mse: 2759.7605 - val_loss: 108.5225 - val_mae: 108.5225 - val_mse: 41472.0156\n",
            "Epoch 84/100\n",
            "18/18 [==============================] - 0s 6ms/step - loss: 20.7090 - mae: 20.7090 - mse: 2480.0251 - val_loss: 119.8625 - val_mae: 119.8625 - val_mse: 45301.4375\n",
            "Epoch 85/100\n",
            "18/18 [==============================] - 0s 6ms/step - loss: 20.0644 - mae: 20.0644 - mse: 2389.2039 - val_loss: 125.8163 - val_mae: 125.8163 - val_mse: 49366.4219\n",
            "Epoch 86/100\n",
            "18/18 [==============================] - 0s 6ms/step - loss: 21.2455 - mae: 21.2455 - mse: 2529.5557 - val_loss: 126.3737 - val_mae: 126.3737 - val_mse: 48904.5586\n",
            "Epoch 87/100\n",
            "18/18 [==============================] - 0s 6ms/step - loss: 21.4455 - mae: 21.4455 - mse: 2419.9285 - val_loss: 117.4231 - val_mae: 117.4231 - val_mse: 41554.1875\n",
            "Epoch 88/100\n",
            "18/18 [==============================] - 0s 7ms/step - loss: 25.2501 - mae: 25.2501 - mse: 2935.9739 - val_loss: 167.4666 - val_mae: 167.4666 - val_mse: 71350.6719\n",
            "Epoch 89/100\n",
            "18/18 [==============================] - 0s 6ms/step - loss: 22.8926 - mae: 22.8926 - mse: 2614.8149 - val_loss: 149.4263 - val_mae: 149.4263 - val_mse: 60014.1289\n",
            "Epoch 90/100\n",
            "18/18 [==============================] - 0s 6ms/step - loss: 23.1118 - mae: 23.1118 - mse: 2625.7783 - val_loss: 117.9245 - val_mae: 117.9245 - val_mse: 42386.6602\n",
            "Epoch 91/100\n",
            "18/18 [==============================] - 0s 6ms/step - loss: 19.7533 - mae: 19.7533 - mse: 2076.8042 - val_loss: 123.7151 - val_mae: 123.7151 - val_mse: 48637.9219\n",
            "Epoch 92/100\n",
            "17/18 [===========================>..] - ETA: 0s - loss: 18.8112 - mae: 18.8112 - mse: 1963.6071"
          ]
        },
        {
          "output_type": "stream",
          "name": "stderr",
          "text": [
            "WARNING:absl:Found untraced functions such as _update_step_xla while saving (showing 1 of 1). These functions will not be directly callable after loading.\n"
          ]
        },
        {
          "output_type": "stream",
          "name": "stdout",
          "text": [
            "\b\b\b\b\b\b\b\b\b\b\b\b\b\b\b\b\b\b\b\b\b\b\b\b\b\b\b\b\b\b\b\b\b\b\b\b\b\b\b\b\b\b\b\b\b\b\b\b\b\b\b\b\b\b\b\b\b\b\b\b\b\b\b\b\b\b\b\b\b\b\b\b\b\b\b\b\b\b\b\b\b\b\b\b\b\b\b\b\b\b\b\b\b\b\b\b\r18/18 [==============================] - 1s 38ms/step - loss: 18.8509 - mae: 18.8509 - mse: 1961.2260 - val_loss: 96.5306 - val_mae: 96.5306 - val_mse: 32647.8477\n",
            "Epoch 93/100\n",
            "18/18 [==============================] - 0s 6ms/step - loss: 19.5564 - mae: 19.5564 - mse: 1997.6266 - val_loss: 107.5941 - val_mae: 107.5941 - val_mse: 33470.2578\n",
            "Epoch 94/100\n",
            "18/18 [==============================] - 0s 6ms/step - loss: 20.5923 - mae: 20.5923 - mse: 2015.7461 - val_loss: 139.7392 - val_mae: 139.7392 - val_mse: 53558.0781\n",
            "Epoch 95/100\n",
            "18/18 [==============================] - 0s 6ms/step - loss: 19.7203 - mae: 19.7203 - mse: 1948.6793 - val_loss: 98.2836 - val_mae: 98.2836 - val_mse: 31788.6543\n",
            "Epoch 96/100\n",
            "18/18 [==============================] - 0s 6ms/step - loss: 16.4901 - mae: 16.4901 - mse: 1536.8287 - val_loss: 111.1064 - val_mae: 111.1064 - val_mse: 42617.8320\n",
            "Epoch 97/100\n",
            "18/18 [==============================] - 0s 6ms/step - loss: 17.9918 - mae: 17.9918 - mse: 1710.3373 - val_loss: 133.2944 - val_mae: 133.2944 - val_mse: 44243.2266\n",
            "Epoch 98/100\n",
            "18/18 [==============================] - 0s 7ms/step - loss: 23.4827 - mae: 23.4827 - mse: 2398.4717 - val_loss: 118.2422 - val_mae: 118.2422 - val_mse: 48860.0273\n",
            "Epoch 99/100\n",
            "18/18 [==============================] - 0s 6ms/step - loss: 22.0309 - mae: 22.0309 - mse: 2423.0598 - val_loss: 101.2702 - val_mae: 101.2702 - val_mse: 32493.6270\n",
            "Epoch 100/100\n",
            "18/18 [==============================] - 0s 6ms/step - loss: 18.8938 - mae: 18.8938 - mse: 1829.9949 - val_loss: 114.8747 - val_mae: 114.8747 - val_mse: 37092.8398\n"
          ]
        }
      ]
    },
    {
      "cell_type": "code",
      "source": [
        "# Evaluate model 3\n",
        "model_3.evaluate(test_windows, test_labels)"
      ],
      "metadata": {
        "colab": {
          "base_uri": "https://localhost:8080/"
        },
        "id": "O4j9VpBu-RG0",
        "outputId": "66212e14-8080-4dab-f46a-1c742b82ace6"
      },
      "execution_count": 63,
      "outputs": [
        {
          "output_type": "stream",
          "name": "stdout",
          "text": [
            "18/18 [==============================] - 0s 3ms/step - loss: 114.8747 - mae: 114.8747 - mse: 37092.8438\n"
          ]
        },
        {
          "output_type": "execute_result",
          "data": {
            "text/plain": [
              "[114.87468719482422, 114.87468719482422, 37092.84375]"
            ]
          },
          "metadata": {},
          "execution_count": 63
        }
      ]
    },
    {
      "cell_type": "code",
      "source": [
        "# Load best version of model_3\n",
        "model_3 = tf.keras.models.load_model(\"model_experiments/model_3_dense/\")\n",
        "model_3.evaluate(test_windows, test_labels)"
      ],
      "metadata": {
        "colab": {
          "base_uri": "https://localhost:8080/"
        },
        "id": "Ez1Oa65G-x1H",
        "outputId": "d83af1e6-cac8-43c0-ba2a-479a13d672e4"
      },
      "execution_count": 64,
      "outputs": [
        {
          "output_type": "stream",
          "name": "stdout",
          "text": [
            "18/18 [==============================] - 0s 4ms/step - loss: 96.5306 - mae: 96.5306 - mse: 32647.8477\n"
          ]
        },
        {
          "output_type": "execute_result",
          "data": {
            "text/plain": [
              "[96.53060913085938, 96.53060913085938, 32647.84765625]"
            ]
          },
          "metadata": {},
          "execution_count": 64
        }
      ]
    },
    {
      "cell_type": "code",
      "source": [
        "# Make predictions \n",
        "model_3_preds = make_preds(model_3, test_windows)\n",
        "model_3_preds[:3]"
      ],
      "metadata": {
        "colab": {
          "base_uri": "https://localhost:8080/"
        },
        "id": "4kyyooKR_Pty",
        "outputId": "30c1b3a7-aa4f-4f92-d229-a1cdd73aecf8"
      },
      "execution_count": 65,
      "outputs": [
        {
          "output_type": "stream",
          "name": "stdout",
          "text": [
            "18/18 [==============================] - 0s 2ms/step\n"
          ]
        },
        {
          "output_type": "execute_result",
          "data": {
            "text/plain": [
              "<tf.Tensor: shape=(3, 7), dtype=float32, numpy=\n",
              "array([[8767.917, 8808.652, 9036.397, 8704.919, 8732.097, 8747.713,\n",
              "        8716.606],\n",
              "       [8796.109, 9049.087, 8810.4  , 8765.027, 8675.923, 8669.757,\n",
              "        8586.616],\n",
              "       [9037.698, 8728.257, 8757.125, 8715.868, 8593.125, 8515.815,\n",
              "        8531.196]], dtype=float32)>"
            ]
          },
          "metadata": {},
          "execution_count": 65
        }
      ]
    },
    {
      "cell_type": "code",
      "source": [
        "# Evaluate model_3 results\n",
        "model_3_results = evaluate_preds(tf.squeeze(test_labels), model_3_preds)\n",
        "model_3_results"
      ],
      "metadata": {
        "colab": {
          "base_uri": "https://localhost:8080/"
        },
        "id": "9KiX05C8_jfI",
        "outputId": "58f9f481-a851-434e-d837-fa4f11c95256"
      },
      "execution_count": 66,
      "outputs": [
        {
          "output_type": "execute_result",
          "data": {
            "text/plain": [
              "{'mae': array([ 25.527903 ,  44.19852  ,  34.083427 ,  23.335798 ,  25.184849 ,\n",
              "         42.46673  ,  27.368374 ,  20.763533 ,  51.68499  ,  27.973982 ,\n",
              "         22.834402 ,  36.383648 ,  26.398716 ,  34.313057 ,  38.563545 ,\n",
              "         38.69036  ,  40.12214  ,  38.073174 ,  42.44245  ,  28.166782 ,\n",
              "         25.706125 ,  27.45438  ,  19.683523 ,  19.455217 ,  34.212193 ,\n",
              "         27.141602 ,  29.94601  ,  23.99156  ,  15.8912525,  23.85812  ,\n",
              "         22.325544 ,  30.692312 ,  22.672922 ,  26.58252  ,  41.551758 ,\n",
              "         57.58524  ,  64.49156  ,  57.108467 ,  49.134624 ,  55.313686 ,\n",
              "         33.496304 ,  16.85498  ,  24.017927 ,  28.641043 ,  20.466518 ,\n",
              "         20.012136 ,  25.444057 ,  32.061176 ,  25.444336 ,  17.74393  ,\n",
              "         29.484724 ,  28.857212 ,  23.882185 ,  39.165386 ,  29.457937 ,\n",
              "         23.725447 ,  43.5881   ,  38.50321  ,  20.620256 ,  27.848911 ,\n",
              "         40.547573 ,  40.322613 ,  34.21066  ,  38.619072 ,  55.19566  ,\n",
              "         34.101772 ,  37.9488   ,  50.211773 ,  26.663923 ,  16.22433  ,\n",
              "         40.18192  ,  39.475727 ,  20.638393 ,  23.593191 ,  25.05385  ,\n",
              "         21.046736 ,  33.456055 ,  31.719866 ,  26.358398 ,  38.99149  ,\n",
              "         30.788923 ,  18.814035 ,  38.36328  ,  34.51953  ,  30.814732 ,\n",
              "         39.1137   ,  45.62026  ,  32.67397  ,  33.064873 ,  44.16392  ,\n",
              "         34.295063 ,  30.46303  ,  60.93499  ,  43.00307  ,  48.343193 ,\n",
              "         35.334682 ,  41.808174 ,  59.19922  ,  62.795063 ,  50.265903 ,\n",
              "         39.267998 ,  47.785713 ,  34.313335 ,  46.649136 ,  44.33789  ,\n",
              "         43.01995  ,  20.259626 ,  25.129465 ,  44.930386 ,  40.313198 ,\n",
              "         31.249163 ,  44.96833  ,  43.887974 ,  33.61314  ,  43.91462  ,\n",
              "         53.449707 ,  50.52581  ,  14.435059 ,  20.562849 , 106.140976 ,\n",
              "        118.25098  , 103.88825  , 105.083916 ,  95.62577  ,  78.91915  ,\n",
              "         43.61091  ,  51.14216  ,  69.27218  ,  58.12486  ,  54.80727  ,\n",
              "         64.64509  ,  41.208984 ,  25.464146 ,  57.262554 ,  36.127373 ,\n",
              "         22.54555  ,  45.33545  ,  37.811523 ,  38.15151  ,  47.17871  ,\n",
              "         45.932896 ,  42.084473 ,  45.722797 ,  28.282715 ,  27.94308  ,\n",
              "         34.794853 ,  34.952007 ,  32.970562 ,  30.89502  ,  50.061455 ,\n",
              "         25.805315 ,  17.726353 ,  45.23856  ,  28.331472 ,  29.30957  ,\n",
              "         36.962055 ,  34.35568  ,  35.05036  ,  34.24414  ,  42.466797 ,\n",
              "         25.435268 ,   6.507952 ,  32.887276 ,  41.265766 ,  31.760672 ,\n",
              "         18.423899 ,  25.42627  ,  41.461636 ,  54.561665 ,  54.099888 ,\n",
              "         59.495884 ,  38.45145  ,  51.874443 ,  30.89467  ,  20.152344 ,\n",
              "         13.90053  ,  27.873745 ,  52.745674 ,  55.489536 ,  47.075195 ,\n",
              "         17.200893 ,  13.96038  ,  24.745535 ,  47.351284 ,  64.23828  ,\n",
              "         25.539062 ,  18.38951  ,  54.371094 ,  46.00586  ,  35.242466 ,\n",
              "         40.006977 ,  18.378628 ,  23.956892 ,  45.904156 ,  34.00042  ,\n",
              "         23.202707 ,  15.863561 ,  27.858816 ,  48.90374  ,  38.995815 ,\n",
              "         46.924248 ,  82.479774 ,  83.79952  ,  56.754463 ,  52.995674 ,\n",
              "         84.81264  ,  44.130024 ,  19.613281 ,  35.04883  ,  36.325752 ,\n",
              "         37.525948 ,  51.610073 ,  35.236607 ,  29.650808 ,  55.19057  ,\n",
              "         39.012836 ,  25.870676 ,  39.918526 ,  35.62235  ,  29.509766 ,\n",
              "         25.141184 ,  29.3976   ,  36.412388 ,  39.870537 ,  55.810406 ,\n",
              "         31.008928 ,  26.511719 ,  36.541157 ,  23.399553 ,  24.489536 ,\n",
              "         38.606586 ,  31.101284 ,  31.859097 ,  31.259905 ,  23.38379  ,\n",
              "         34.311382 ,  27.868862 ,  29.399136 ,  35.237446 ,  38.59933  ,\n",
              "         34.75893  ,  27.61342  ,  34.484932 ,  34.796875 ,  31.283342 ,\n",
              "         30.032925 ,  33.42871  ,  27.086355 ,  27.90067  ,  32.785156 ,\n",
              "         30.955357 ,  20.90625  ,  27.094028 ,  38.08566  ,  33.48856  ,\n",
              "         22.57952  ,  38.96289  ,  72.1543   ,  81.12542  ,  59.15918  ,\n",
              "         53.494976 ,  48.702705 ,  46.350727 ,  85.6875   ,  49.658203 ,\n",
              "         31.538645 ,  41.896904 ,  46.492046 ,  60.128628 ,  32.19043  ,\n",
              "         31.30371  ,  45.16741  ,  54.544502 ,  37.72684  ,  27.671875 ,\n",
              "         59.71038  ,  45.990234 ,  31.46345  ,  48.02539  ,  64.15067  ,\n",
              "         62.825336 ,  42.363003 ,  53.580914 ,  37.996513 ,  38.821148 ,\n",
              "         46.87751  ,  53.71247  ,  32.60491  ,  35.155552 ,  39.143135 ,\n",
              "         40.528877 ,  43.006977 ,  38.430523 ,  45.458843 ,  68.04241  ,\n",
              "         61.575054 ,  35.401646 ,  50.807198 ,  26.92048  ,  32.239117 ,\n",
              "         64.393974 ,  40.772602 ,  24.799805 ,  49.652485 ,  36.92313  ,\n",
              "         35.125698 ,  27.434988 ,  27.371653 ,  46.661552 ,  42.257954 ,\n",
              "         35.510323 ,  24.519392 ,  49.83817  ,  48.688477 ,  23.04548  ,\n",
              "         34.47154  ,  38.365932 ,  35.42313  ,  56.68429  ,  42.595146 ,\n",
              "         29.95173  ,  40.032368 ,  39.055244 ,  33.724888 ,  36.41211  ,\n",
              "         31.47991  ,  30.719587 ,  35.02818  ,  45.989956 ,  31.667131 ,\n",
              "         16.728933 ,  37.695312 ,  36.46582  ,  37.720146 ,  37.914898 ,\n",
              "         42.531948 ,  46.404438 ,  29.890207 ,  49.8471   ,  41.90904  ,\n",
              "         28.503906 ,  31.07673  ,  41.85547  ,  63.646626 ,  71.19587  ,\n",
              "         84.24121  ,  47.384487 ,  57.49707  ,  46.10742  ,  60.938057 ,\n",
              "         81.80748  ,  56.93457  ,  43.211216 ,  55.185127 ,  61.08817  ,\n",
              "         51.57603  ,  29.764648 ,  33.58259  ,  67.3125   ,  92.002235 ,\n",
              "        106.63365  ,  86.70424  ,  80.49805  ,  85.81794  ,  65.76549  ,\n",
              "         55.906948 ,  70.757256 ,  71.04701  ,  42.46568  ,  26.69308  ,\n",
              "         49.5286   ,  90.65053  ,  66.077705 ,  33.64258  ,  76.027626 ,\n",
              "         78.30999  ,  63.733818 ,  60.035713 , 102.86663  , 132.4495   ,\n",
              "         86.99749  ,  51.412666 ,  92.24107  , 118.6024   ,  98.99163  ,\n",
              "         80.71791  ,  58.47991  , 124.01674  ,  64.06864  ,  42.067524 ,\n",
              "         89.61579  ,  82.54046  ,  58.25307  ,  48.67578  ,  65.33482  ,\n",
              "         59.22991  ,  64.63951  ,  88.1197   ,  93.91378  ,  55.0346   ,\n",
              "         67.54911  , 144.85715  ,  77.262276 ,  94.041855 , 106.63532  ,\n",
              "         62.919086 ,  87.344864 ,  76.98717  ,  54.361885 ,  97.23995  ,\n",
              "        134.64565  , 107.30385  ,  94.50056  ,  98.81417  , 115.905136 ,\n",
              "        138.96791  , 148.20285  , 214.37053  , 242.17494  , 255.57031  ,\n",
              "        163.50949  , 203.4202   , 198.72043  , 224.24748  , 149.72209  ,\n",
              "        239.22154  , 176.19363  , 158.78181  , 315.1741   , 341.62668  ,\n",
              "        170.63504  ,  55.888393 , 167.06194  , 147.50279  , 212.65373  ,\n",
              "        272.8365   , 269.35602  , 272.36133  , 258.93192  , 255.50475  ,\n",
              "        224.37389  , 214.65541  , 171.34793  , 135.91295  , 300.29047  ,\n",
              "        254.46986  ,  82.091515 ,  51.25279  , 162.93806  , 218.03236  ,\n",
              "        128.54074  , 155.14062  , 315.678    , 342.39117  , 291.37164  ,\n",
              "        476.32867  , 366.928    , 241.40012  , 291.16406  , 265.50336  ,\n",
              "        239.38393  , 191.15793  , 255.90178  , 316.96262  , 342.5731   ,\n",
              "        298.8605   , 345.91406  , 359.26562  , 436.80972  , 351.70535  ,\n",
              "        290.40234  , 372.7048   , 310.03012  , 215.38338  , 354.11496  ,\n",
              "        342.98828  , 394.3309   , 381.45035  , 246.76451  , 235.35881  ,\n",
              "        202.29576  , 216.63728  , 135.90457  , 123.8125   , 269.4604   ,\n",
              "        217.91295  , 197.57924  , 364.35492  , 444.77847  , 297.87778  ,\n",
              "        171.21373  , 369.51953  , 267.31586  , 155.97879  , 283.20703  ,\n",
              "        298.83817  , 185.5201   , 225.2952   , 230.20145  , 246.96094  ,\n",
              "        236.06584  , 336.74442  , 192.75111  , 143.90291  , 304.8979   ,\n",
              "        204.40793  , 173.71707  , 235.22768  , 143.05748  , 146.19029  ,\n",
              "        289.03516  , 264.39844  , 139.04018  , 171.28236  , 240.45312  ,\n",
              "        204.12611  , 204.5826   , 221.       , 287.72043  , 307.98883  ,\n",
              "        254.86719  , 271.5173   , 247.30748  , 105.02177  , 159.67076  ,\n",
              "        372.25113  , 223.6741   , 141.24553  , 169.82701  , 257.2115   ,\n",
              "        312.97656  , 247.79018  , 461.62054  , 419.1155   , 218.13504  ,\n",
              "        311.16406  , 405.82645  , 319.3566   , 321.65793  , 340.2991   ,\n",
              "        294.91238  , 367.31808  , 330.6741   , 360.5279   , 322.77066  ,\n",
              "        246.60658  , 382.173    , 233.69865  , 242.33482  , 396.05133  ,\n",
              "        225.26172  ], dtype=float32),\n",
              " 'mse': array([1.03577747e+03, 3.39959180e+03, 1.63714636e+03, 7.12906555e+02,\n",
              "        1.36167700e+03, 3.44793018e+03, 9.51013367e+02, 1.17405176e+03,\n",
              "        4.47809766e+03, 1.12953113e+03, 6.89038086e+02, 2.32151636e+03,\n",
              "        9.33906311e+02, 1.55940198e+03, 2.15707275e+03, 2.78138501e+03,\n",
              "        2.38102002e+03, 2.54293140e+03, 2.66805322e+03, 9.93476013e+02,\n",
              "        1.12697144e+03, 1.14887292e+03, 5.91509766e+02, 7.95825317e+02,\n",
              "        1.71785095e+03, 1.23758618e+03, 1.65500452e+03, 7.45126099e+02,\n",
              "        4.47774963e+02, 8.26172302e+02, 9.33614441e+02, 1.55406726e+03,\n",
              "        9.58455261e+02, 1.59647473e+03, 2.95384009e+03, 7.12475391e+03,\n",
              "        8.02814355e+03, 4.58456934e+03, 3.67343701e+03, 3.78946265e+03,\n",
              "        1.34430298e+03, 5.12470337e+02, 1.00470953e+03, 1.09966309e+03,\n",
              "        5.77617126e+02, 5.81914368e+02, 1.18735681e+03, 1.69733972e+03,\n",
              "        8.05103394e+02, 7.02645630e+02, 1.80809644e+03, 1.13844775e+03,\n",
              "        1.25820032e+03, 2.11671924e+03, 1.14563147e+03, 8.95046814e+02,\n",
              "        3.40352856e+03, 2.69378955e+03, 7.68112610e+02, 1.39648242e+03,\n",
              "        2.51370239e+03, 2.04798938e+03, 1.65751343e+03, 2.94171021e+03,\n",
              "        4.40771924e+03, 1.44648254e+03, 2.08929004e+03, 4.07887158e+03,\n",
              "        1.08587769e+03, 6.56359985e+02, 2.90609326e+03, 2.26403662e+03,\n",
              "        7.43791443e+02, 1.21889038e+03, 8.93708435e+02, 6.82723938e+02,\n",
              "        1.66107947e+03, 1.32744031e+03, 1.22011560e+03, 2.87148120e+03,\n",
              "        1.16697949e+03, 7.80243591e+02, 2.45581226e+03, 1.61064819e+03,\n",
              "        1.35657703e+03, 2.68978540e+03, 2.73849780e+03, 1.18911890e+03,\n",
              "        2.23608179e+03, 4.54739453e+03, 1.67652246e+03, 1.80323645e+03,\n",
              "        5.82384326e+03, 2.92633008e+03, 4.75391846e+03, 1.97711609e+03,\n",
              "        2.59356641e+03, 5.07561279e+03, 8.77893652e+03, 3.58676025e+03,\n",
              "        2.59414502e+03, 3.29021216e+03, 2.18013794e+03, 4.45715332e+03,\n",
              "        3.26810718e+03, 3.25880005e+03, 5.40248474e+02, 9.70129700e+02,\n",
              "        3.34659692e+03, 1.84824475e+03, 1.44119800e+03, 3.63287549e+03,\n",
              "        2.23940308e+03, 1.27130054e+03, 3.12789673e+03, 5.31235400e+03,\n",
              "        5.15448193e+03, 3.97372589e+02, 5.69823792e+02, 1.64470039e+04,\n",
              "        4.19859766e+04, 1.57174170e+04, 2.41182617e+04, 1.46831328e+04,\n",
              "        9.64597363e+03, 3.15312231e+03, 4.41352979e+03, 7.34817822e+03,\n",
              "        5.53729980e+03, 5.57673975e+03, 5.65663379e+03, 2.55265869e+03,\n",
              "        1.17839221e+03, 5.55239844e+03, 1.61505334e+03, 8.96780151e+02,\n",
              "        3.50976147e+03, 1.68705591e+03, 3.34673413e+03, 3.53729346e+03,\n",
              "        2.54146606e+03, 1.97730688e+03, 2.85255200e+03, 1.08671362e+03,\n",
              "        1.19587219e+03, 1.70624524e+03, 2.76424805e+03, 1.90626648e+03,\n",
              "        1.67838586e+03, 4.57724561e+03, 9.56387207e+02, 5.75716003e+02,\n",
              "        3.31550415e+03, 1.22347986e+03, 1.43995667e+03, 1.91735718e+03,\n",
              "        2.54580444e+03, 2.37675049e+03, 1.82304236e+03, 3.23783765e+03,\n",
              "        8.77040649e+02, 6.18781319e+01, 1.83832422e+03, 3.17364966e+03,\n",
              "        1.19121570e+03, 4.54815430e+02, 1.12369922e+03, 2.71496875e+03,\n",
              "        5.48266162e+03, 6.27678760e+03, 4.92377979e+03, 2.50722803e+03,\n",
              "        3.29884888e+03, 1.19308569e+03, 5.39641541e+02, 2.51054535e+02,\n",
              "        1.46191711e+03, 5.21413428e+03, 5.53226074e+03, 5.05440625e+03,\n",
              "        4.54402252e+02, 4.85431183e+02, 1.34730359e+03, 4.29663281e+03,\n",
              "        8.09034912e+03, 1.30043884e+03, 5.78345886e+02, 4.48867627e+03,\n",
              "        2.87775464e+03, 2.34950659e+03, 2.77446729e+03, 5.59711731e+02,\n",
              "        1.17544983e+03, 3.50372485e+03, 1.63434180e+03, 7.41281372e+02,\n",
              "        3.63280212e+02, 1.67051038e+03, 4.27072705e+03, 2.22225415e+03,\n",
              "        5.08532764e+03, 9.92508594e+03, 1.59745693e+04, 5.79539893e+03,\n",
              "        5.14110254e+03, 1.01004395e+04, 2.46600830e+03, 7.20749084e+02,\n",
              "        1.89859363e+03, 1.77840173e+03, 3.03153198e+03, 6.84499512e+03,\n",
              "        1.85683105e+03, 1.49365540e+03, 5.01135059e+03, 2.00347083e+03,\n",
              "        1.21280786e+03, 2.45573047e+03, 1.76858691e+03, 1.33451672e+03,\n",
              "        1.05827869e+03, 1.53707239e+03, 1.89979907e+03, 3.55576782e+03,\n",
              "        4.54055225e+03, 1.26039526e+03, 1.23410413e+03, 1.97021094e+03,\n",
              "        8.63666687e+02, 1.16527893e+03, 2.20917188e+03, 1.54755823e+03,\n",
              "        1.88980798e+03, 1.28849805e+03, 1.01808649e+03, 1.73843323e+03,\n",
              "        1.25469067e+03, 1.77380066e+03, 2.36345142e+03, 3.10555884e+03,\n",
              "        1.62311548e+03, 9.60668030e+02, 1.96083813e+03, 1.76352893e+03,\n",
              "        1.43531140e+03, 1.47764978e+03, 1.58677930e+03, 1.02643347e+03,\n",
              "        1.22869141e+03, 1.60910352e+03, 1.28291699e+03, 7.20656250e+02,\n",
              "        1.25445996e+03, 2.18204443e+03, 1.68610181e+03, 6.01529785e+02,\n",
              "        2.04019031e+03, 8.16787842e+03, 1.45692422e+04, 6.21185205e+03,\n",
              "        5.72470557e+03, 4.20976172e+03, 4.02960205e+03, 1.38014863e+04,\n",
              "        3.31597266e+03, 1.97380554e+03, 4.23120947e+03, 3.87338159e+03,\n",
              "        5.38081250e+03, 1.71048328e+03, 1.86618958e+03, 4.04152124e+03,\n",
              "        6.56220801e+03, 1.93526172e+03, 1.37144788e+03, 5.80566846e+03,\n",
              "        3.00193921e+03, 1.89277734e+03, 3.34545459e+03, 8.10398486e+03,\n",
              "        5.06034033e+03, 2.13342041e+03, 4.42337305e+03, 2.11101538e+03,\n",
              "        2.09285815e+03, 4.03294360e+03, 4.90731396e+03, 1.88445203e+03,\n",
              "        2.14742212e+03, 2.46312622e+03, 2.30441943e+03, 2.69564014e+03,\n",
              "        2.12031982e+03, 3.90668188e+03, 9.27813672e+03, 5.65804150e+03,\n",
              "        1.60357837e+03, 4.34438818e+03, 9.52935974e+02, 2.27017651e+03,\n",
              "        7.40878027e+03, 2.51333716e+03, 1.14675464e+03, 3.78071362e+03,\n",
              "        2.20401880e+03, 2.19686035e+03, 1.10225024e+03, 1.59834204e+03,\n",
              "        3.47175073e+03, 2.89303442e+03, 1.54001062e+03, 1.33055164e+03,\n",
              "        4.43939746e+03, 3.24702539e+03, 1.15491296e+03, 2.78384766e+03,\n",
              "        1.91736108e+03, 2.66338110e+03, 4.62654199e+03, 2.03643359e+03,\n",
              "        1.50106079e+03, 2.67300708e+03, 2.18533276e+03, 1.85672925e+03,\n",
              "        1.85555103e+03, 1.37417310e+03, 1.38822754e+03, 2.29884497e+03,\n",
              "        3.33502271e+03, 1.18916382e+03, 6.25049866e+02, 2.06776196e+03,\n",
              "        2.22408618e+03, 2.86028516e+03, 2.39581714e+03, 4.21333350e+03,\n",
              "        2.69653247e+03, 1.47371118e+03, 4.05856445e+03, 2.10460034e+03,\n",
              "        1.01534833e+03, 1.50514270e+03, 3.16473999e+03, 5.90489160e+03,\n",
              "        9.97674023e+03, 9.80163867e+03, 3.21497656e+03, 4.02244409e+03,\n",
              "        2.85409497e+03, 5.37718262e+03, 1.30987959e+04, 4.67310840e+03,\n",
              "        2.76246875e+03, 6.51451562e+03, 6.17794824e+03, 3.39273950e+03,\n",
              "        1.07597925e+03, 1.82114587e+03, 6.19872607e+03, 1.55204902e+04,\n",
              "        2.13581777e+04, 1.07033037e+04, 1.00646191e+04, 1.06202490e+04,\n",
              "        6.02411768e+03, 5.22623535e+03, 8.70969238e+03, 7.90327686e+03,\n",
              "        2.75597290e+03, 1.31264648e+03, 4.58881445e+03, 1.28715527e+04,\n",
              "        6.13582666e+03, 1.79794006e+03, 9.65050293e+03, 8.46431250e+03,\n",
              "        5.37692285e+03, 5.50432422e+03, 2.00051133e+04, 3.35092188e+04,\n",
              "        9.07831152e+03, 3.93446436e+03, 1.37609639e+04, 1.71565488e+04,\n",
              "        2.20303105e+04, 8.57714648e+03, 5.91254932e+03, 2.40001406e+04,\n",
              "        5.99096924e+03, 3.71201562e+03, 1.41966553e+04, 1.03332725e+04,\n",
              "        4.74319385e+03, 4.53058984e+03, 6.26950879e+03, 4.78380713e+03,\n",
              "        8.02325146e+03, 1.05767676e+04, 9.93575879e+03, 6.46373096e+03,\n",
              "        8.76961523e+03, 3.64954336e+04, 9.74627246e+03, 1.61540303e+04,\n",
              "        1.68085273e+04, 5.61100000e+03, 1.23306230e+04, 6.77340186e+03,\n",
              "        3.91376587e+03, 1.38725361e+04, 3.54074141e+04, 1.42452080e+04,\n",
              "        1.26384062e+04, 1.31253828e+04, 2.59379688e+04, 2.99554336e+04,\n",
              "        3.50446992e+04, 6.34905078e+04, 1.34038000e+05, 9.80713047e+04,\n",
              "        3.15315723e+04, 8.22817422e+04, 6.49902070e+04, 8.08539531e+04,\n",
              "        5.74190742e+04, 1.39090141e+05, 4.11313086e+04, 4.86792695e+04,\n",
              "        1.47848078e+05, 1.67461859e+05, 3.56439922e+04, 4.73938037e+03,\n",
              "        4.12768828e+04, 3.88767383e+04, 9.00075625e+04, 1.92036219e+05,\n",
              "        1.90190391e+05, 1.17519086e+05, 1.18251852e+05, 1.02183883e+05,\n",
              "        7.84697422e+04, 8.24391875e+04, 7.07467188e+04, 3.14779629e+04,\n",
              "        1.62199672e+05, 7.48468672e+04, 9.29457227e+03, 4.59683496e+03,\n",
              "        5.11032422e+04, 7.09104688e+04, 2.17445781e+04, 4.39603086e+04,\n",
              "        2.61714281e+05, 2.61004516e+05, 1.21466211e+05, 4.20386719e+05,\n",
              "        1.81245031e+05, 7.70280156e+04, 1.44548016e+05, 8.27335547e+04,\n",
              "        1.08803141e+05, 5.25061250e+04, 7.85908594e+04, 1.95310109e+05,\n",
              "        1.46880797e+05, 1.81435531e+05, 2.07993047e+05, 2.47890781e+05,\n",
              "        3.85858656e+05, 1.85403234e+05, 1.12169711e+05, 2.42146141e+05,\n",
              "        1.05427266e+05, 1.09338914e+05, 1.76403891e+05, 2.16675969e+05,\n",
              "        2.37977359e+05, 2.44157469e+05, 1.27062875e+05, 8.89787734e+04,\n",
              "        8.82036953e+04, 5.29279180e+04, 2.67393398e+04, 3.28128789e+04,\n",
              "        1.19551570e+05, 8.87331719e+04, 5.94160742e+04, 2.24700766e+05,\n",
              "        3.36327938e+05, 1.12396023e+05, 3.94241172e+04, 2.21075531e+05,\n",
              "        9.36464766e+04, 4.31069883e+04, 1.55949016e+05, 1.70129781e+05,\n",
              "        4.82004961e+04, 9.41654609e+04, 6.99466797e+04, 7.22724766e+04,\n",
              "        1.00024727e+05, 1.75271406e+05, 5.67386445e+04, 3.96319570e+04,\n",
              "        1.46041547e+05, 5.66190664e+04, 5.55001211e+04, 8.84726406e+04,\n",
              "        3.07278750e+04, 4.75929961e+04, 1.44638891e+05, 9.48338750e+04,\n",
              "        2.98256270e+04, 5.15373203e+04, 8.58619609e+04, 6.31007773e+04,\n",
              "        6.90209766e+04, 6.91927422e+04, 1.53962203e+05, 1.43319672e+05,\n",
              "        9.36720859e+04, 1.44832609e+05, 1.36443016e+05, 1.47396768e+04,\n",
              "        4.99295234e+04, 2.29147922e+05, 7.24667344e+04, 2.45406699e+04,\n",
              "        5.07815430e+04, 1.62491469e+05, 1.85768641e+05, 1.08801250e+05,\n",
              "        3.48087562e+05, 1.98258844e+05, 9.27098672e+04, 1.60943516e+05,\n",
              "        2.38366156e+05, 1.19883648e+05, 2.83047406e+05, 1.79591141e+05,\n",
              "        1.43800953e+05, 2.12330531e+05, 1.28195250e+05, 1.97882922e+05,\n",
              "        1.49652359e+05, 9.90294375e+04, 2.85213062e+05, 6.75381719e+04,\n",
              "        8.79630391e+04, 2.06827766e+05, 7.92075625e+04], dtype=float32),\n",
              " 'rmse': array([ 32.183495 ,  58.30602  ,  40.461666 ,  26.70031  ,  36.900906 ,\n",
              "         58.719078 ,  30.838505 ,  34.26444  ,  66.91859  ,  33.608498 ,\n",
              "         26.249535 ,  48.182117 ,  30.559881 ,  39.489265 ,  46.444298 ,\n",
              "         52.73884  ,  48.795696 ,  50.427486 ,  51.653202 ,  31.519455 ,\n",
              "         33.570396 ,  33.895027 ,  24.320974 ,  28.210375 ,  41.446964 ,\n",
              "         35.17934  ,  40.681747 ,  27.296997 ,  21.160694 ,  28.743214 ,\n",
              "         30.555105 ,  39.421658 ,  30.95893  ,  39.95591  ,  54.34924  ,\n",
              "         84.40826  ,  89.59991  ,  67.70945  ,  60.608887 ,  61.55861  ,\n",
              "         36.664738 ,  22.637808 ,  31.697153 ,  33.161167 ,  24.033667 ,\n",
              "         24.122902 ,  34.458042 ,  41.198784 ,  28.374344 ,  26.507463 ,\n",
              "         42.521717 ,  33.74089  ,  35.47112  ,  46.007816 ,  33.84718  ,\n",
              "         29.917332 ,  58.339767 ,  51.90173  ,  27.714844 ,  37.369537 ,\n",
              "         50.136837 ,  45.25472  ,  40.71257  ,  54.237534 ,  66.390656 ,\n",
              "         38.03265  ,  45.70875  ,  63.866043 ,  32.95266  ,  25.619522 ,\n",
              "         53.90819  ,  47.581894 ,  27.272541 ,  34.91261  ,  29.894957 ,\n",
              "         26.128986 ,  40.756344 ,  36.434055 ,  34.930153 ,  53.586205 ,\n",
              "         34.161083 ,  27.93284  ,  49.556152 ,  40.13288  ,  36.831738 ,\n",
              "         51.86314  ,  52.330658 ,  34.4836   ,  47.287228 ,  67.43437  ,\n",
              "         40.94536  ,  42.46453  ,  76.31411  ,  54.095566 ,  68.94866  ,\n",
              "         44.46477  ,  50.927067 ,  71.24333  ,  93.69598  ,  59.889565 ,\n",
              "         50.932747 ,  57.36037  ,  46.691948 ,  66.76192  ,  57.16736  ,\n",
              "         57.0859   ,  23.243246 ,  31.146904 ,  57.849777 ,  42.991215 ,\n",
              "         37.96311  ,  60.27334  ,  47.32233  ,  35.6553   ,  55.9276   ,\n",
              "         72.885895 ,  71.79472  ,  19.934206 ,  23.870981 , 128.24586  ,\n",
              "        204.9048   , 125.369125 , 155.30055  , 121.17398  ,  98.21392  ,\n",
              "         56.152668 ,  66.4344   ,  85.72151  ,  74.41303  ,  74.67757  ,\n",
              "         75.210594 ,  50.52384  ,  34.327717 ,  74.51442  ,  40.187725 ,\n",
              "         29.946287 ,  59.24324  ,  41.073784 ,  57.850964 ,  59.475147 ,\n",
              "         50.412956 ,  44.46692  ,  53.409286 ,  32.96534  ,  34.581387 ,\n",
              "         41.30672  ,  52.576115 ,  43.660812 ,  40.96811  ,  67.65534  ,\n",
              "         30.92551  ,  23.994083 ,  57.580414 ,  34.978275 ,  37.946762 ,\n",
              "         43.787636 ,  50.455967 ,  48.751926 ,  42.6971   ,  56.902    ,\n",
              "         29.614872 ,   7.8662653,  42.875683 ,  56.335155 ,  34.513992 ,\n",
              "         21.326403 ,  33.52162  ,  52.105362 ,  74.045    ,  79.22618  ,\n",
              "         70.16965  ,  50.072227 ,  57.435604 ,  34.541073 ,  23.230186 ,\n",
              "         15.844701 ,  38.235023 ,  72.20896  ,  74.379166 ,  71.094345 ,\n",
              "         21.316713 ,  22.032503 ,  36.70563  ,  65.548706 ,  89.946365 ,\n",
              "         36.061596 ,  24.048822 ,  66.99758  ,  53.644707 ,  48.47171  ,\n",
              "         52.673214 ,  23.658228 ,  34.284832 ,  59.19227  ,  40.426994 ,\n",
              "         27.226482 ,  19.05991  ,  40.871876 ,  65.3508   ,  47.14079  ,\n",
              "         71.311485 ,  99.624725 , 126.39054  ,  76.12752  ,  71.70148  ,\n",
              "        100.500946 ,  49.65892  ,  26.84677  ,  43.572853 ,  42.1711   ,\n",
              "         55.05935  ,  82.73449  ,  43.09096  ,  38.64784  ,  70.79089  ,\n",
              "         44.760147 ,  34.82539  ,  49.55533  ,  42.05457  ,  36.531036 ,\n",
              "         32.531193 ,  39.205513 ,  43.586685 ,  59.630257 ,  67.38362  ,\n",
              "         35.502045 ,  35.129818 ,  44.38706  ,  29.388206 ,  34.13618  ,\n",
              "         47.001827 ,  39.339016 ,  43.47192  ,  35.895653 ,  31.907467 ,\n",
              "         41.694523 ,  35.42161  ,  42.116512 ,  48.61534  ,  55.72754  ,\n",
              "         40.287907 ,  30.994644 ,  44.281353 ,  41.99439  ,  37.885506 ,\n",
              "         38.44021  ,  39.834396 ,  32.038    ,  35.052696 ,  40.113632 ,\n",
              "         35.81783  ,  26.845041 ,  35.418354 ,  46.712357 ,  41.06217  ,\n",
              "         24.526104 ,  45.168465 ,  90.37631  , 120.70312  ,  78.8153   ,\n",
              "         75.66178  ,  64.882675 ,  63.479145 , 117.47973  ,  57.584484 ,\n",
              "         44.427532 ,  65.047745 ,  62.236496 ,  73.35402  ,  41.35799  ,\n",
              "         43.199417 ,  63.57296  ,  81.007454 ,  43.991608 ,  37.033066 ,\n",
              "         76.19494  ,  54.789955 ,  43.50606  ,  57.839905 ,  90.02213  ,\n",
              "         71.13607  ,  46.188965 ,  66.50844  ,  45.94579  ,  45.747765 ,\n",
              "         63.50546  ,  70.05222  ,  43.410275 ,  46.340286 ,  49.629894 ,\n",
              "         48.004368 ,  51.91955  ,  46.04693  ,  62.503452 ,  96.32308  ,\n",
              "         75.219955 ,  40.044704 ,  65.91197  ,  30.869661 ,  47.64637  ,\n",
              "         86.07427  ,  50.133194 ,  33.863766 ,  61.487507 ,  46.94698  ,\n",
              "         46.870678 ,  33.200153 ,  39.97927  ,  58.921562 ,  53.786934 ,\n",
              "         39.24297  ,  36.476727 ,  66.6288   ,  56.982677 ,  33.98401  ,\n",
              "         52.76218  ,  43.78768  ,  51.607956 ,  68.018684 ,  45.12686  ,\n",
              "         38.743526 ,  51.70113  ,  46.747543 ,  43.08978  ,  43.076107 ,\n",
              "         37.06984  ,  37.258926 ,  47.946274 ,  57.749653 ,  34.484253 ,\n",
              "         25.000996 ,  45.47265  ,  47.160217 ,  53.481632 ,  48.947086 ,\n",
              "         64.910194 ,  51.928146 ,  38.388947 ,  63.706863 ,  45.875923 ,\n",
              "         31.86453  ,  38.79617  ,  56.256023 ,  76.84329  ,  99.88363  ,\n",
              "         99.00323  ,  56.700764 ,  63.42274  ,  53.42373  ,  73.32927  ,\n",
              "        114.44997  ,  68.36014  ,  52.559193 ,  80.71255  ,  78.59992  ,\n",
              "         58.247227 ,  32.80212  ,  42.674885 ,  78.73199  , 124.58126  ,\n",
              "        146.14438  , 103.45677  , 100.32258  , 103.05459  ,  77.61519  ,\n",
              "         72.2927   ,  93.32573  ,  88.900375 ,  52.49736  ,  36.23046  ,\n",
              "         67.74079  , 113.452866 ,  78.33152  ,  42.402122 ,  98.23698  ,\n",
              "         92.00169  ,  73.3275   ,  74.19113  , 141.43942  , 183.05524  ,\n",
              "         95.280174 ,  62.725307 , 117.30714  , 130.983    , 148.4261   ,\n",
              "         92.612885 ,  76.893105 , 154.91978  ,  77.40135  ,  60.92631  ,\n",
              "        119.14972  , 101.6527   ,  68.87085  ,  67.309654 ,  79.18023  ,\n",
              "         69.16507  ,  89.5726   , 102.843414 ,  99.678276 ,  80.39733  ,\n",
              "         93.646225 , 191.03778  ,  98.72321  , 127.0985   , 129.6477   ,\n",
              "         74.90661  , 111.043335 ,  82.30068  ,  62.560097 , 117.78173  ,\n",
              "        188.16858  , 119.35329  , 112.42067  , 114.56606  , 161.05269  ,\n",
              "        173.07637  , 187.2023   , 251.97322  , 366.112    , 313.1634   ,\n",
              "        177.57132  , 286.84793  , 254.93176  , 284.3483   , 239.62277  ,\n",
              "        372.9479   , 202.80855  , 220.63379  , 384.51016  , 409.22104  ,\n",
              "        188.79617  ,  68.843155 , 203.16713  , 197.17184  , 300.0126   ,\n",
              "        438.21936  , 436.10825  , 342.81058  , 343.87766  , 319.66214  ,\n",
              "        280.1245   , 287.12225  , 265.98254  , 177.4203   , 402.7402   ,\n",
              "        273.58154  ,  96.40836  ,  67.799965 , 226.06026  , 266.2902   ,\n",
              "        147.46043  , 209.66713  , 511.58017  , 510.88602  , 348.52002  ,\n",
              "        648.3724   , 425.72882  , 277.5392   , 380.1947   , 287.6344   ,\n",
              "        329.8532   , 229.14215  , 280.3406   , 441.93903  , 383.2503   ,\n",
              "        425.95248  , 456.06256  , 497.88632  , 621.17523  , 430.58475  ,\n",
              "        334.91748  , 492.08347  , 324.69565  , 330.66434  , 420.00464  ,\n",
              "        465.48465  , 487.82922  , 494.12292  , 356.4588   , 298.2931   ,\n",
              "        296.99106  , 230.06068  , 163.52168  , 181.14325  , 345.7623   ,\n",
              "        297.88113  , 243.75412  , 474.02612  , 579.93787  , 335.25516  ,\n",
              "        198.55507  , 470.1867   , 306.01712  , 207.62222  , 394.9038   ,\n",
              "        412.4679   , 219.54611  , 306.86392  , 264.47433  , 268.83542  ,\n",
              "        316.26685  , 418.65427  , 238.19875  , 199.07776  , 382.1538   ,\n",
              "        237.94762  , 235.58464  , 297.4435   , 175.29367  , 218.15819  ,\n",
              "        380.3142   , 307.95108  , 172.70097  , 227.01833  , 293.02213  ,\n",
              "        251.19867  , 262.7184   , 263.04514  , 392.38016  , 378.57584  ,\n",
              "        306.05896  , 380.5688   , 369.38193  , 121.40707  , 223.44914  ,\n",
              "        478.69397  , 269.19647  , 156.65462  , 225.3476   , 403.1023   ,\n",
              "        431.00885  , 329.85034  , 589.98944  , 445.26266  , 304.48294  ,\n",
              "        401.17764  , 488.22757  , 346.2422   , 532.022    , 423.78195  ,\n",
              "        379.21094  , 460.79337  , 358.04364  , 444.84033  , 386.84927  ,\n",
              "        314.68942  , 534.0534   , 259.88107  , 296.58563  , 454.7832   ,\n",
              "        281.4384   ], dtype=float32),\n",
              " 'mape': array([0.28980395, 0.50825006, 0.39225006, 0.27150318, 0.29937762,\n",
              "        0.5050658 , 0.3273599 , 0.26346502, 0.65465593, 0.35927045,\n",
              "        0.30591866, 0.49343508, 0.36049277, 0.46976233, 0.53418607,\n",
              "        0.5199976 , 0.5461346 , 0.50714344, 0.5705236 , 0.375299  ,\n",
              "        0.34728065, 0.37190074, 0.26526672, 0.26143098, 0.46080598,\n",
              "        0.36764044, 0.40428996, 0.32570517, 0.21817361, 0.32742664,\n",
              "        0.3097953 , 0.4265075 , 0.32075283, 0.38558578, 0.59839714,\n",
              "        0.8390311 , 0.90298605, 0.8145852 , 0.6886581 , 0.771474  ,\n",
              "        0.461717  , 0.23420176, 0.33294466, 0.39678282, 0.28272048,\n",
              "        0.27527273, 0.3512716 , 0.44099012, 0.3512455 , 0.25013092,\n",
              "        0.41127488, 0.4021035 , 0.32811123, 0.53970367, 0.4040877 ,\n",
              "        0.3100159 , 0.56665677, 0.4888725 , 0.2615704 , 0.34577563,\n",
              "        0.5068431 , 0.49875462, 0.41396818, 0.45180717, 0.6436975 ,\n",
              "        0.39660403, 0.43466365, 0.57152396, 0.30239427, 0.18673475,\n",
              "        0.46720472, 0.45766717, 0.24230388, 0.27778316, 0.29275012,\n",
              "        0.24218741, 0.38064256, 0.35206193, 0.2897062 , 0.41771963,\n",
              "        0.3299325 , 0.20259607, 0.41148454, 0.36862803, 0.3280426 ,\n",
              "        0.40821093, 0.4767567 , 0.33829302, 0.3385015 , 0.4406505 ,\n",
              "        0.34306893, 0.30031934, 0.59926915, 0.4260506 , 0.47489628,\n",
              "        0.35166344, 0.41613668, 0.6005037 , 0.62986684, 0.51309925,\n",
              "        0.39645427, 0.48822793, 0.3514078 , 0.48235172, 0.47456878,\n",
              "        0.46125808, 0.21764731, 0.28086832, 0.51096636, 0.45548123,\n",
              "        0.35847357, 0.51119775, 0.4992033 , 0.38042608, 0.49264556,\n",
              "        0.62082106, 0.5888057 , 0.16964048, 0.24453534, 1.4751083 ,\n",
              "        1.6331626 , 1.5044801 , 1.4643042 , 1.5314451 , 1.3606844 ,\n",
              "        0.8371761 , 0.93645054, 1.278984  , 0.9915473 , 0.96643054,\n",
              "        1.0680766 , 0.6820242 , 0.3940797 , 0.8932187 , 0.5613543 ,\n",
              "        0.350663  , 0.7011951 , 0.59009916, 0.6179273 , 0.7382386 ,\n",
              "        0.71893007, 0.6535693 , 0.68867344, 0.42256638, 0.4108448 ,\n",
              "        0.5026692 , 0.485279  , 0.46807224, 0.4394644 , 0.6987184 ,\n",
              "        0.35798684, 0.25385067, 0.6486572 , 0.40748185, 0.42555827,\n",
              "        0.5356905 , 0.48237485, 0.5038192 , 0.4890731 , 0.60080516,\n",
              "        0.35673624, 0.09122997, 0.45665875, 0.5562902 , 0.4319715 ,\n",
              "        0.24663818, 0.3344825 , 0.52986985, 0.6840873 , 0.6359893 ,\n",
              "        0.7151532 , 0.45402396, 0.5926948 , 0.34712133, 0.22530887,\n",
              "        0.15274084, 0.29504874, 0.5558562 , 0.60074484, 0.50719076,\n",
              "        0.18711492, 0.14857373, 0.26748118, 0.511317  , 0.68210334,\n",
              "        0.2748158 , 0.19106175, 0.56714857, 0.47884887, 0.37433586,\n",
              "        0.4235729 , 0.19493048, 0.2599176 , 0.50182664, 0.37319878,\n",
              "        0.25762036, 0.17361847, 0.3011689 , 0.5218048 , 0.41993415,\n",
              "        0.48905313, 0.8633089 , 0.8446905 , 0.5849635 , 0.53511494,\n",
              "        0.8732031 , 0.44907448, 0.2022268 , 0.36012295, 0.37087154,\n",
              "        0.39492688, 0.53266084, 0.3663502 , 0.31171632, 0.5856847 ,\n",
              "        0.40936404, 0.27411097, 0.4232192 , 0.37901333, 0.31450412,\n",
              "        0.26851624, 0.31224394, 0.38595477, 0.42195088, 0.5930974 ,\n",
              "        0.32978335, 0.286004  , 0.39596805, 0.2524802 , 0.26744547,\n",
              "        0.42111766, 0.34070262, 0.34817845, 0.3421381 , 0.2569346 ,\n",
              "        0.3750947 , 0.3035137 , 0.31645164, 0.38403156, 0.41397113,\n",
              "        0.3754398 , 0.2970967 , 0.37252104, 0.37438482, 0.3387555 ,\n",
              "        0.32607406, 0.3632389 , 0.29432437, 0.3036909 , 0.3572308 ,\n",
              "        0.33539817, 0.22479387, 0.2879633 , 0.40478492, 0.35126296,\n",
              "        0.2350753 , 0.390778  , 0.70776373, 0.748097  , 0.5647309 ,\n",
              "        0.4881511 , 0.44306758, 0.41217384, 0.7487332 , 0.43570584,\n",
              "        0.2748845 , 0.36682427, 0.4014209 , 0.51948196, 0.27832824,\n",
              "        0.26695204, 0.39145607, 0.46639955, 0.32278565, 0.23565573,\n",
              "        0.5120651 , 0.3907566 , 0.26504186, 0.4023085 , 0.5327845 ,\n",
              "        0.5247736 , 0.35553634, 0.45146537, 0.32153544, 0.32977217,\n",
              "        0.40599495, 0.46153846, 0.28264683, 0.3056161 , 0.34118858,\n",
              "        0.3508348 , 0.37415537, 0.32984054, 0.39510313, 0.5974428 ,\n",
              "        0.54563   , 0.32202262, 0.47299033, 0.25058675, 0.3104606 ,\n",
              "        0.62678856, 0.39482632, 0.24094905, 0.48363754, 0.35791242,\n",
              "        0.33777764, 0.26165444, 0.25450647, 0.4384863 , 0.38985538,\n",
              "        0.3263283 , 0.2257764 , 0.46055564, 0.45064276, 0.21814708,\n",
              "        0.32636797, 0.36230838, 0.33059445, 0.5361902 , 0.3994637 ,\n",
              "        0.27945814, 0.37149462, 0.36416456, 0.31565773, 0.34168187,\n",
              "        0.29510185, 0.28790444, 0.32993942, 0.4312099 , 0.29620922,\n",
              "        0.15473537, 0.3451561 , 0.33178222, 0.33417854, 0.33794457,\n",
              "        0.37084335, 0.40651816, 0.26190743, 0.43543008, 0.36536935,\n",
              "        0.24806687, 0.26814926, 0.35618144, 0.52458763, 0.56255585,\n",
              "        0.6679859 , 0.37327117, 0.44314978, 0.3522313 , 0.46182624,\n",
              "        0.6081213 , 0.42634782, 0.32002813, 0.40833968, 0.44572264,\n",
              "        0.377001  , 0.21605417, 0.24010122, 0.46607828, 0.626573  ,\n",
              "        0.71075296, 0.5802921 , 0.52962804, 0.56313497, 0.42594346,\n",
              "        0.35527784, 0.4458627 , 0.44391203, 0.26548553, 0.16615486,\n",
              "        0.29245093, 0.52904606, 0.3797028 , 0.18880421, 0.41463068,\n",
              "        0.42821127, 0.3445372 , 0.32234794, 0.5699082 , 0.7280797 ,\n",
              "        0.4743781 , 0.288334  , 0.5134877 , 0.6488836 , 0.52275485,\n",
              "        0.43329993, 0.31022638, 0.646609  , 0.33278537, 0.22005862,\n",
              "        0.47402537, 0.4353302 , 0.31110528, 0.26338294, 0.35232008,\n",
              "        0.31732783, 0.34168944, 0.46755806, 0.49038637, 0.28123516,\n",
              "        0.31637245, 0.66473716, 0.35257193, 0.4066511 , 0.45852685,\n",
              "        0.26996568, 0.3716402 , 0.32559708, 0.2307196 , 0.3929419 ,\n",
              "        0.52279437, 0.41819233, 0.35725853, 0.36458522, 0.40810862,\n",
              "        0.48559937, 0.50646144, 0.70433253, 0.76420593, 0.8016562 ,\n",
              "        0.49625817, 0.5933535 , 0.53252417, 0.5915    , 0.41348287,\n",
              "        0.63323486, 0.4732367 , 0.43610138, 0.86977994, 0.9236581 ,\n",
              "        0.47044462, 0.15133291, 0.45459113, 0.40996814, 0.6344424 ,\n",
              "        0.8017801 , 0.83382183, 0.82496583, 0.8091887 , 0.77830356,\n",
              "        0.70539755, 0.6681194 , 0.54440296, 0.4091304 , 0.9225703 ,\n",
              "        0.7631627 , 0.23812333, 0.1483097 , 0.4620101 , 0.599495  ,\n",
              "        0.35299814, 0.40669096, 0.78968126, 0.8743417 , 0.6867814 ,\n",
              "        1.1065645 , 0.84147996, 0.53798604, 0.6201583 , 0.560898  ,\n",
              "        0.49396896, 0.3968484 , 0.51741856, 0.62085646, 0.6624836 ,\n",
              "        0.550934  , 0.6496818 , 0.68588585, 0.82512933, 0.6710936 ,\n",
              "        0.5819837 , 0.7702798 , 0.64328706, 0.4612561 , 0.7607325 ,\n",
              "        0.7090842 , 0.83693516, 0.7761489 , 0.5071146 , 0.47370833,\n",
              "        0.4090544 , 0.42969766, 0.2668032 , 0.22732227, 0.49265707,\n",
              "        0.38882002, 0.3420642 , 0.62957853, 0.7622259 , 0.50754917,\n",
              "        0.29504266, 0.63703585, 0.45708966, 0.2702243 , 0.50025207,\n",
              "        0.52466583, 0.3348051 , 0.41397625, 0.4248388 , 0.45347098,\n",
              "        0.43453923, 0.6078783 , 0.34933373, 0.2515661 , 0.5310804 ,\n",
              "        0.3531109 , 0.29947922, 0.40258402, 0.24349354, 0.25090176,\n",
              "        0.50070584, 0.45563304, 0.24109408, 0.29344994, 0.41284537,\n",
              "        0.34690973, 0.34432602, 0.36454225, 0.46232888, 0.5020942 ,\n",
              "        0.4128664 , 0.45028892, 0.41564918, 0.17488047, 0.28211656,\n",
              "        0.6692108 , 0.40919667, 0.26213425, 0.3278962 , 0.50426173,\n",
              "        0.61895657, 0.46875972, 0.88964605, 0.78967714, 0.4042305 ,\n",
              "        0.55739635, 0.7242739 , 0.576737  , 0.5708789 , 0.61094606,\n",
              "        0.51928973, 0.65751004, 0.5816641 , 0.63318014, 0.5625617 ,\n",
              "        0.448639  , 0.69910395, 0.4327058 , 0.46109766, 0.78543246,\n",
              "        0.4728858 ], dtype=float32),\n",
              " 'mase': 0.17177083}"
            ]
          },
          "metadata": {},
          "execution_count": 66
        }
      ]
    },
    {
      "cell_type": "markdown",
      "source": [
        "## Make our evaluation function work for larger horizons\n"
      ],
      "metadata": {
        "id": "GK17VlCgANNX"
      }
    },
    {
      "cell_type": "code",
      "source": [
        "# Create a function to evaluate model forecasts with various metrics\n",
        "def evaluate_preds(y_true, y_pred):\n",
        "  \"\"\"\n",
        "  Evaluates model predictions with various metrics.\n",
        "\n",
        "  Parameters:\n",
        "      y_true (tf.Tensor): True values of the target variable.\n",
        "      y_pred (tf.Tensor): Predicted values of the target variable.\n",
        "\n",
        "  Returns:\n",
        "      A dictionary of evaluation metrics, including:\n",
        "          - 'mae': mean absolute error\n",
        "          - 'mse': mean squared error\n",
        "          - 'rmse': root mean squared error\n",
        "          - 'mape': mean absolute percentage error\n",
        "          - 'mase': mean absolute scaled error\n",
        "  \"\"\"\n",
        "  # Make sure float32 datatype\n",
        "  y_true = tf.cast(y_true, dtype=tf.float32)\n",
        "  y_pred = tf.cast(y_pred, dtype=tf.float32)\n",
        "\n",
        "  # Calculate various evaluation metrics\n",
        "  mae = tf.keras.metrics.mean_absolute_error(y_true, y_pred)\n",
        "  mse = tf.keras.metrics.mean_squared_error(y_true, y_pred)\n",
        "  rmse = tf.sqrt(mse)\n",
        "  mape = tf.keras.metrics.mean_absolute_percentage_error(y_true, y_pred)\n",
        "  mase = mean_absolute_scaled_error(y_true, y_pred)\n",
        "\n",
        "  # Account for different sized metrics (for longer horizons, we want to reduce metrics to a single value)\n",
        "  if mae.ndim > 0:\n",
        "    mae = tf.reduce_mean(mae)\n",
        "    mse = tf.reduce_mean(mse)\n",
        "    rmse = tf.reduce_mean(rmse)\n",
        "    mape = tf.reduce_mean(mape)\n",
        "    mase = tf.reduce_mean(mase)\n",
        "\n",
        "  return {\"mae\": mae.numpy(),\n",
        "          \"mse\": mse.numpy(),\n",
        "          \"rmse\": rmse.numpy(),\n",
        "          \"mape\": mape.numpy(),\n",
        "          \"mase\": mase.numpy()}"
      ],
      "metadata": {
        "id": "IC0lF9SWBg1T"
      },
      "execution_count": 67,
      "outputs": []
    },
    {
      "cell_type": "code",
      "source": [
        "# Get model_3 results\n",
        "model_3_results = evaluate_preds(test_labels, model_3_preds)\n",
        "model_3_results"
      ],
      "metadata": {
        "colab": {
          "base_uri": "https://localhost:8080/"
        },
        "id": "0wWI0hIsDW-f",
        "outputId": "f4f5dc89-0663-4dfd-9cc3-060c8e4adcec"
      },
      "execution_count": 68,
      "outputs": [
        {
          "output_type": "execute_result",
          "data": {
            "text/plain": [
              "{'mae': 96.53061,\n",
              " 'mse': 32647.844,\n",
              " 'rmse': 123.80097,\n",
              " 'mape': 0.4617669,\n",
              " 'mase': 0.17177083}"
            ]
          },
          "metadata": {},
          "execution_count": 68
        }
      ]
    },
    {
      "cell_type": "code",
      "source": [
        "model_2_results"
      ],
      "metadata": {
        "colab": {
          "base_uri": "https://localhost:8080/"
        },
        "id": "dFCRSea4DjHu",
        "outputId": "a68a3d96-f456-4f3e-a077-667dec1e8ffb"
      },
      "execution_count": 69,
      "outputs": [
        {
          "output_type": "execute_result",
          "data": {
            "text/plain": [
              "{'mae': 635.2751,\n",
              " 'mse': 1360463.6,\n",
              " 'rmse': 1166.3892,\n",
              " 'mape': 2.8911278,\n",
              " 'mase': 1.1104671}"
            ]
          },
          "metadata": {},
          "execution_count": 69
        }
      ]
    },
    {
      "cell_type": "code",
      "source": [
        "offset = 300\n",
        "plt.figure(figsize=(10, 7))\n",
        "plot_time_series(timesteps=X_test[-len(test_windows):], values=test_labels[:, 0], format=\"-\", start=offset, label=\"Test Data\")\n",
        "plot_time_series(timesteps=X_test[-len(test_windows):], values=model_3_preds, start=offset, label=\"model_3_preds\")"
      ],
      "metadata": {
        "colab": {
          "base_uri": "https://localhost:8080/",
          "height": 442
        },
        "id": "9vnjT26aDmTs",
        "outputId": "48b21b8f-456b-431b-8dd2-056fec27c542"
      },
      "execution_count": 70,
      "outputs": [
        {
          "output_type": "display_data",
          "data": {
            "text/plain": [
              "<Figure size 720x504 with 1 Axes>"
            ],
            "image/png": "[encoded data removed]"
          },
          "metadata": {
            "needs_background": "light"
          }
        }
      ]
    },
    {
      "cell_type": "code",
      "source": [
        "offset = 300\n",
        "plt.figure(figsize=(10, 7))\n",
        "plot_time_series(timesteps=X_test[-len(test_windows):], values=test_labels[:, 0], format=\"-\", start=offset, label=\"Test Data\")\n",
        "plot_time_series(timesteps=X_test[-len(test_windows):], values=tf.reduce_mean(model_3_preds, axis=1), format=\"-\", start=offset, label=\"model_3_preds\")"
      ],
      "metadata": {
        "colab": {
          "base_uri": "https://localhost:8080/",
          "height": 442
        },
        "id": "axjhMFUaFIdZ",
        "outputId": "6e5e7c41-9bba-4900-c342-9d0095200ea0"
      },
      "execution_count": 71,
      "outputs": [
        {
          "output_type": "display_data",
          "data": {
            "text/plain": [
              "<Figure size 720x504 with 1 Axes>"
            ],
            "image/png": "[encoded data removed]"
          },
          "metadata": {
            "needs_background": "light"
          }
        }
      ]
    },
    {
      "cell_type": "markdown",
      "source": [
        "## Which of our models is performing the best so far?\n",
        "\n",
        "So we've trained a few models, now let's compare them and see how they've gone..."
      ],
      "metadata": {
        "id": "8cZNc9MOIAow"
      }
    },
    {
      "cell_type": "code",
      "source": [
        "pd.DataFrame({\"naive\": naive_results[\"mae\"],\n",
        "              \"horizon_1_window_7\": model_1_results[\"mae\"],\n",
        "              \"horizon_1_window_30\": model_2_results[\"mae\"],\n",
        "              \"horizon_7_window_30\": model_3_results[\"mae\"]}, index=[\"mae\"]).plot(figsize=(10, 7), kind=\"bar\");\n"
      ],
      "metadata": {
        "colab": {
          "base_uri": "https://localhost:8080/",
          "height": 440
        },
        "id": "v5bkGtfyjzS1",
        "outputId": "12faa938-e32e-47a4-da27-e2d3ed55ed8b"
      },
      "execution_count": 72,
      "outputs": [
        {
          "output_type": "display_data",
          "data": {
            "text/plain": [
              "<Figure size 720x504 with 1 Axes>"
            ],
            "image/png": "[encoded data removed]"
          },
          "metadata": {
            "needs_background": "light"
          }
        }
      ]
    },
    {
      "cell_type": "markdown",
      "source": [
        "> 🔑 **Note:** You might be wondering, why are the naive results so good? One of the reasons could be due the presence of autocorrelation in the data. If a time series has autocorrelation i means the value at `t+1` (the next timestep) is typically close to the value at `t` (the current timestep). In other words, today's value is probably pretty close to yesterday's value. Of course, this isn't always the case but when it is (stock market prices often seem autocorrelated but often fluctuate randomly), a naive model will often get fairly good results.\n",
        "\n",
        "> 📖 **Resources:** For more on how autocorrelation influences a model's predictions, see the arcticle [How (not) to use Machine Learning for time series forecasting: Avoiding the pitfalls by Vegard Flovik.](https://www.kdnuggets.com/2020/03/machine-learning-time-series-forecasting-sequel.html)"
      ],
      "metadata": {
        "id": "oiBRkqzRp9N_"
      }
    },
    {
      "cell_type": "markdown",
      "source": [
        "## Model 4: Conv1D\n",
        "\n"
      ],
      "metadata": {
        "id": "vL4nqioRQKDH"
      }
    },
    {
      "cell_type": "code",
      "source": [
        "HORIZON = 1 # predict next day of Bitcoin prices\n",
        "WINDOW_SIZE = 7 # use previous week worth data"
      ],
      "metadata": {
        "id": "KYKKlNBEUhf4"
      },
      "execution_count": 73,
      "outputs": []
    },
    {
      "cell_type": "code",
      "source": [
        "# Create windowed data\n",
        "full_windows, full_labels = make_windows(prices, window_size=WINDOW_SIZE, horizon=HORIZON)\n",
        "len(full_windows), len(full_labels)\n"
      ],
      "metadata": {
        "colab": {
          "base_uri": "https://localhost:8080/"
        },
        "id": "4N7NWJ5dju-o",
        "outputId": "e6317ec4-b88f-40c2-bea9-2fc522bd9631"
      },
      "execution_count": 74,
      "outputs": [
        {
          "output_type": "execute_result",
          "data": {
            "text/plain": [
              "(2780, 2780)"
            ]
          },
          "metadata": {},
          "execution_count": 74
        }
      ]
    },
    {
      "cell_type": "code",
      "source": [
        "# Create train/test sets\n",
        "train_windows, test_windows, train_labels, test_labels = make_train_test_splits(full_windows, full_labels, test_split=0.2)\n",
        "len(train_windows), len(test_windows), len(train_labels), len(test_labels)"
      ],
      "metadata": {
        "colab": {
          "base_uri": "https://localhost:8080/"
        },
        "id": "1gsOzmEtkOaU",
        "outputId": "47f2e5c3-def5-4aa8-ebdf-d5b660f23617"
      },
      "execution_count": 75,
      "outputs": [
        {
          "output_type": "execute_result",
          "data": {
            "text/plain": [
              "(2224, 556, 2224, 556)"
            ]
          },
          "metadata": {},
          "execution_count": 75
        }
      ]
    },
    {
      "cell_type": "markdown",
      "source": [
        "To use the Conv1D layer, we need an input shape of: `(batch_size, timesteps, input_dim)`...\n",
        "\n",
        "However, our data isn't in that shape yet...\n"
      ],
      "metadata": {
        "id": "pH6mduFLkpyn"
      }
    },
    {
      "cell_type": "code",
      "source": [
        "# Check data input shape\n",
        "train_windows[0].shape # returns (WINDOW_SIZE,)"
      ],
      "metadata": {
        "colab": {
          "base_uri": "https://localhost:8080/"
        },
        "id": "wvYDetgWlyRG",
        "outputId": "2cf21ac7-4f94-4ca5-f4b2-5903e1a06b19"
      },
      "execution_count": 76,
      "outputs": [
        {
          "output_type": "execute_result",
          "data": {
            "text/plain": [
              "(7,)"
            ]
          },
          "metadata": {},
          "execution_count": 76
        }
      ]
    },
    {
      "cell_type": "code",
      "source": [
        "# Before we pass our data to the Conv1D layer, we have to reshape it in order to make sure it works\n",
        "x = tf.constant(train_windows[0])\n",
        "x"
      ],
      "metadata": {
        "colab": {
          "base_uri": "https://localhost:8080/"
        },
        "id": "nnLbNOdAl7YV",
        "outputId": "c9e85b1e-bb26-4111-84d5-a9c77d6e0184"
      },
      "execution_count": 77,
      "outputs": [
        {
          "output_type": "execute_result",
          "data": {
            "text/plain": [
              "<tf.Tensor: shape=(7,), dtype=float64, numpy=\n",
              "array([123.65499, 125.455  , 108.58483, 118.67466, 121.33866, 120.65533,\n",
              "       121.795  ])>"
            ]
          },
          "metadata": {},
          "execution_count": 77
        }
      ]
    },
    {
      "cell_type": "code",
      "source": [
        "expand_dims_layer = layers.Lambda(lambda x: tf.expand_dims(x, axis=1)) #  add an extra dimension for `input_dim`\n"
      ],
      "metadata": {
        "id": "f3bCiIfvm6rL"
      },
      "execution_count": 78,
      "outputs": []
    },
    {
      "cell_type": "code",
      "source": [
        "# Test out our lambda layer\n",
        "print(f\"Original shape: {x.shape}\")\n",
        "print(f\"Expanded shape: {expand_dims_layer(x).shape}\")\n",
        "print(f\"Original values with expanded shape:\\n {expand_dims_layer(x)}\")"
      ],
      "metadata": {
        "colab": {
          "base_uri": "https://localhost:8080/"
        },
        "id": "nefwRr5XnW-t",
        "outputId": "4a0b0c02-853f-4dba-839e-c862f160a9e0"
      },
      "execution_count": 79,
      "outputs": [
        {
          "output_type": "stream",
          "name": "stdout",
          "text": [
            "Original shape: (7,)\n",
            "Expanded shape: (7, 1)\n",
            "Original values with expanded shape:\n",
            " [[123.65499]\n",
            " [125.455  ]\n",
            " [108.58483]\n",
            " [118.67466]\n",
            " [121.33866]\n",
            " [120.65533]\n",
            " [121.795  ]]\n"
          ]
        }
      ]
    },
    {
      "cell_type": "code",
      "source": [
        "# Create Conv1D\n",
        "# Set random seed\n",
        "tf.random.set_seed(42)\n",
        "\n",
        "# Create model_4\n",
        "model_4 = tf.keras.Sequential([\n",
        "    expand_dims_layer,\n",
        "    layers.Conv1D(filters=128, kernel_size=5, padding=\"causal\", activation=\"relu\"),\n",
        "    layers.Dense(HORIZON)\n",
        "], name=\"model_4_conv1d\")\n",
        "\n",
        "# Compile model\n",
        "model_4.compile(loss='mae', optimizer=tf.keras.optimizers.Adam(), metrics=[\"mae\"])\n"
      ],
      "metadata": {
        "id": "IZeyk5yNnvVS"
      },
      "execution_count": 80,
      "outputs": []
    },
    {
      "cell_type": "code",
      "source": [
        "model_4.fit(train_windows, train_labels,\n",
        "            epochs=100,\n",
        "            batch_size=128,\n",
        "            validation_data=(test_windows, test_labels),\n",
        "            callbacks=[create_model_checkpoint(model_name=model_4.name)])"
      ],
      "metadata": {
        "colab": {
          "base_uri": "https://localhost:8080/"
        },
        "id": "qzF57Wt4xJeB",
        "outputId": "81ed0b95-fba4-4003-fef1-d280789e8194"
      },
      "execution_count": 81,
      "outputs": [
        {
          "output_type": "stream",
          "name": "stdout",
          "text": [
            "Epoch 1/100\n",
            "14/18 [======================>.......] - ETA: 0s - loss: 2005.7266 - mae: 2005.7266  "
          ]
        },
        {
          "output_type": "stream",
          "name": "stderr",
          "text": [
            "WARNING:absl:Found untraced functions such as _jit_compiled_convolution_op, _update_step_xla while saving (showing 2 of 2). These functions will not be directly callable after loading.\n"
          ]
        },
        {
          "output_type": "stream",
          "name": "stdout",
          "text": [
            "\b\b\b\b\b\b\b\b\b\b\b\b\b\b\b\b\b\b\b\b\b\b\b\b\b\b\b\b\b\b\b\b\b\b\b\b\b\b\b\b\b\b\b\b\b\b\b\b\b\b\b\b\b\b\b\b\b\b\b\b\b\b\b\b\b\b\b\b\b\b\b\b\b\b\b\b\b\b\b\b\b\b\b\r18/18 [==============================] - 7s 76ms/step - loss: 1740.3168 - mae: 1740.3168 - val_loss: 1381.8530 - val_mae: 1381.8530\n",
            "Epoch 2/100\n",
            "18/18 [==============================] - 0s 9ms/step - loss: 337.2045 - mae: 337.2045 - val_loss: 1625.3376 - val_mae: 1625.3376\n",
            "Epoch 3/100\n",
            "11/18 [=================>............] - ETA: 0s - loss: 235.3550 - mae: 235.3550"
          ]
        },
        {
          "output_type": "stream",
          "name": "stderr",
          "text": [
            "WARNING:absl:Found untraced functions such as _jit_compiled_convolution_op, _update_step_xla while saving (showing 2 of 2). These functions will not be directly callable after loading.\n"
          ]
        },
        {
          "output_type": "stream",
          "name": "stdout",
          "text": [
            "\b\b\b\b\b\b\b\b\b\b\b\b\b\b\b\b\b\b\b\b\b\b\b\b\b\b\b\b\b\b\b\b\b\b\b\b\b\b\b\b\b\b\b\b\b\b\b\b\b\b\b\b\b\b\b\b\b\b\b\b\b\b\b\b\b\b\b\b\b\b\b\b\b\b\b\b\b\b\b\b\b\r18/18 [==============================] - 1s 82ms/step - loss: 229.3990 - mae: 229.3990 - val_loss: 1091.7003 - val_mae: 1091.7003\n",
            "Epoch 4/100\n",
            "10/18 [===============>..............] - ETA: 0s - loss: 215.3042 - mae: 215.3042"
          ]
        },
        {
          "output_type": "stream",
          "name": "stderr",
          "text": [
            "WARNING:absl:Found untraced functions such as _jit_compiled_convolution_op, _update_step_xla while saving (showing 2 of 2). These functions will not be directly callable after loading.\n"
          ]
        },
        {
          "output_type": "stream",
          "name": "stdout",
          "text": [
            "\b\b\b\b\b\b\b\b\b\b\b\b\b\b\b\b\b\b\b\b\b\b\b\b\b\b\b\b\b\b\b\b\b\b\b\b\b\b\b\b\b\b\b\b\b\b\b\b\b\b\b\b\b\b\b\b\b\b\b\b\b\b\b\b\b\b\b\b\b\b\b\b\b\b\b\b\b\b\b\b\b\r18/18 [==============================] - 1s 61ms/step - loss: 198.2609 - mae: 198.2609 - val_loss: 1063.4080 - val_mae: 1063.4080\n",
            "Epoch 5/100\n",
            "15/18 [========================>.....] - ETA: 0s - loss: 196.7823 - mae: 196.7823"
          ]
        },
        {
          "output_type": "stream",
          "name": "stderr",
          "text": [
            "WARNING:absl:Found untraced functions such as _jit_compiled_convolution_op, _update_step_xla while saving (showing 2 of 2). These functions will not be directly callable after loading.\n"
          ]
        },
        {
          "output_type": "stream",
          "name": "stdout",
          "text": [
            "\b\b\b\b\b\b\b\b\b\b\b\b\b\b\b\b\b\b\b\b\b\b\b\b\b\b\b\b\b\b\b\b\b\b\b\b\b\b\b\b\b\b\b\b\b\b\b\b\b\b\b\b\b\b\b\b\b\b\b\b\b\b\b\b\b\b\b\b\b\b\b\b\b\b\b\b\b\b\b\b\b\r18/18 [==============================] - 1s 51ms/step - loss: 190.7678 - mae: 190.7678 - val_loss: 1060.4540 - val_mae: 1060.4540\n",
            "Epoch 6/100\n",
            "14/18 [======================>.......] - ETA: 0s - loss: 185.0625 - mae: 185.0625"
          ]
        },
        {
          "output_type": "stream",
          "name": "stderr",
          "text": [
            "WARNING:absl:Found untraced functions such as _jit_compiled_convolution_op, _update_step_xla while saving (showing 2 of 2). These functions will not be directly callable after loading.\n"
          ]
        },
        {
          "output_type": "stream",
          "name": "stdout",
          "text": [
            "\b\b\b\b\b\b\b\b\b\b\b\b\b\b\b\b\b\b\b\b\b\b\b\b\b\b\b\b\b\b\b\b\b\b\b\b\b\b\b\b\b\b\b\b\b\b\b\b\b\b\b\b\b\b\b\b\b\b\b\b\b\b\b\b\b\b\b\b\b\b\b\b\b\b\b\b\b\b\b\b\b\r18/18 [==============================] - 1s 51ms/step - loss: 186.2189 - mae: 186.2189 - val_loss: 1045.6766 - val_mae: 1045.6766\n",
            "Epoch 7/100\n",
            "15/18 [========================>.....] - ETA: 0s - loss: 190.0352 - mae: 190.0352"
          ]
        },
        {
          "output_type": "stream",
          "name": "stderr",
          "text": [
            "WARNING:absl:Found untraced functions such as _jit_compiled_convolution_op, _update_step_xla while saving (showing 2 of 2). These functions will not be directly callable after loading.\n"
          ]
        },
        {
          "output_type": "stream",
          "name": "stdout",
          "text": [
            "\b\b\b\b\b\b\b\b\b\b\b\b\b\b\b\b\b\b\b\b\b\b\b\b\b\b\b\b\b\b\b\b\b\b\b\b\b\b\b\b\b\b\b\b\b\b\b\b\b\b\b\b\b\b\b\b\b\b\b\b\b\b\b\b\b\b\b\b\b\b\b\b\b\b\b\b\b\b\b\b\b\r18/18 [==============================] - 1s 52ms/step - loss: 185.1806 - mae: 185.1806 - val_loss: 1021.6484 - val_mae: 1021.6484\n",
            "Epoch 8/100\n",
            "18/18 [==============================] - 0s 9ms/step - loss: 181.0324 - mae: 181.0324 - val_loss: 1023.6625 - val_mae: 1023.6625\n",
            "Epoch 9/100\n",
            "18/18 [==============================] - 0s 7ms/step - loss: 177.9217 - mae: 177.9217 - val_loss: 1022.0517 - val_mae: 1022.0517\n",
            "Epoch 10/100\n",
            "14/18 [======================>.......] - ETA: 0s - loss: 171.5477 - mae: 171.5477"
          ]
        },
        {
          "output_type": "stream",
          "name": "stderr",
          "text": [
            "WARNING:absl:Found untraced functions such as _jit_compiled_convolution_op, _update_step_xla while saving (showing 2 of 2). These functions will not be directly callable after loading.\n"
          ]
        },
        {
          "output_type": "stream",
          "name": "stdout",
          "text": [
            "\b\b\b\b\b\b\b\b\b\b\b\b\b\b\b\b\b\b\b\b\b\b\b\b\b\b\b\b\b\b\b\b\b\b\b\b\b\b\b\b\b\b\b\b\b\b\b\b\b\b\b\b\b\b\b\b\b\b\b\b\b\b\b\b\b\b\b\b\b\b\b\b\b\b\b\b\b\b\b\b\b\r18/18 [==============================] - 1s 51ms/step - loss: 175.3511 - mae: 175.3511 - val_loss: 983.7108 - val_mae: 983.7108\n",
            "Epoch 11/100\n",
            "14/18 [======================>.......] - ETA: 0s - loss: 174.2923 - mae: 174.2923"
          ]
        },
        {
          "output_type": "stream",
          "name": "stderr",
          "text": [
            "WARNING:absl:Found untraced functions such as _jit_compiled_convolution_op, _update_step_xla while saving (showing 2 of 2). These functions will not be directly callable after loading.\n"
          ]
        },
        {
          "output_type": "stream",
          "name": "stdout",
          "text": [
            "\b\b\b\b\b\b\b\b\b\b\b\b\b\b\b\b\b\b\b\b\b\b\b\b\b\b\b\b\b\b\b\b\b\b\b\b\b\b\b\b\b\b\b\b\b\b\b\b\b\b\b\b\b\b\b\b\b\b\b\b\b\b\b\b\b\b\b\b\b\b\b\b\b\b\b\b\b\b\b\b\b\r18/18 [==============================] - 1s 54ms/step - loss: 172.1109 - mae: 172.1109 - val_loss: 955.4335 - val_mae: 955.4335\n",
            "Epoch 12/100\n",
            "18/18 [==============================] - 0s 8ms/step - loss: 170.1048 - mae: 170.1048 - val_loss: 1002.1935 - val_mae: 1002.1935\n",
            "Epoch 13/100\n",
            "14/18 [======================>.......] - ETA: 0s - loss: 166.6376 - mae: 166.6376"
          ]
        },
        {
          "output_type": "stream",
          "name": "stderr",
          "text": [
            "WARNING:absl:Found untraced functions such as _jit_compiled_convolution_op, _update_step_xla while saving (showing 2 of 2). These functions will not be directly callable after loading.\n"
          ]
        },
        {
          "output_type": "stream",
          "name": "stdout",
          "text": [
            "\b\b\b\b\b\b\b\b\b\b\b\b\b\b\b\b\b\b\b\b\b\b\b\b\b\b\b\b\b\b\b\b\b\b\b\b\b\b\b\b\b\b\b\b\b\b\b\b\b\b\b\b\b\b\b\b\b\b\b\b\b\b\b\b\b\b\b\b\b\b\b\b\b\b\b\b\b\b\b\b\b\r18/18 [==============================] - 1s 54ms/step - loss: 167.0833 - mae: 167.0833 - val_loss: 944.0258 - val_mae: 944.0258\n",
            "Epoch 14/100\n",
            "15/18 [========================>.....] - ETA: 0s - loss: 160.9530 - mae: 160.9530"
          ]
        },
        {
          "output_type": "stream",
          "name": "stderr",
          "text": [
            "WARNING:absl:Found untraced functions such as _jit_compiled_convolution_op, _update_step_xla while saving (showing 2 of 2). These functions will not be directly callable after loading.\n"
          ]
        },
        {
          "output_type": "stream",
          "name": "stdout",
          "text": [
            "\b\b\b\b\b\b\b\b\b\b\b\b\b\b\b\b\b\b\b\b\b\b\b\b\b\b\b\b\b\b\b\b\b\b\b\b\b\b\b\b\b\b\b\b\b\b\b\b\b\b\b\b\b\b\b\b\b\b\b\b\b\b\b\b\b\b\b\b\b\b\b\b\b\b\b\b\b\b\b\b\b\r18/18 [==============================] - 1s 70ms/step - loss: 162.7940 - mae: 162.7940 - val_loss: 932.1814 - val_mae: 932.1814\n",
            "Epoch 15/100\n",
            "18/18 [==============================] - 0s 7ms/step - loss: 163.0001 - mae: 163.0001 - val_loss: 952.7202 - val_mae: 952.7203\n",
            "Epoch 16/100\n",
            "14/18 [======================>.......] - ETA: 0s - loss: 158.2242 - mae: 158.2242"
          ]
        },
        {
          "output_type": "stream",
          "name": "stderr",
          "text": [
            "WARNING:absl:Found untraced functions such as _jit_compiled_convolution_op, _update_step_xla while saving (showing 2 of 2). These functions will not be directly callable after loading.\n"
          ]
        },
        {
          "output_type": "stream",
          "name": "stdout",
          "text": [
            "\b\b\b\b\b\b\b\b\b\b\b\b\b\b\b\b\b\b\b\b\b\b\b\b\b\b\b\b\b\b\b\b\b\b\b\b\b\b\b\b\b\b\b\b\b\b\b\b\b\b\b\b\b\b\b\b\b\b\b\b\b\b\b\b\b\b\b\b\b\b\b\b\b\b\b\b\b\b\b\b\b\r18/18 [==============================] - 1s 53ms/step - loss: 157.9858 - mae: 157.9858 - val_loss: 865.9584 - val_mae: 865.9584\n",
            "Epoch 17/100\n",
            "18/18 [==============================] - 0s 6ms/step - loss: 153.6361 - mae: 153.6361 - val_loss: 904.0294 - val_mae: 904.0294\n",
            "Epoch 18/100\n",
            "18/18 [==============================] - 0s 7ms/step - loss: 151.2966 - mae: 151.2966 - val_loss: 894.1920 - val_mae: 894.1920\n",
            "Epoch 19/100\n",
            "15/18 [========================>.....] - ETA: 0s - loss: 147.3866 - mae: 147.3866"
          ]
        },
        {
          "output_type": "stream",
          "name": "stderr",
          "text": [
            "WARNING:absl:Found untraced functions such as _jit_compiled_convolution_op, _update_step_xla while saving (showing 2 of 2). These functions will not be directly callable after loading.\n"
          ]
        },
        {
          "output_type": "stream",
          "name": "stdout",
          "text": [
            "\b\b\b\b\b\b\b\b\b\b\b\b\b\b\b\b\b\b\b\b\b\b\b\b\b\b\b\b\b\b\b\b\b\b\b\b\b\b\b\b\b\b\b\b\b\b\b\b\b\b\b\b\b\b\b\b\b\b\b\b\b\b\b\b\b\b\b\b\b\b\b\b\b\b\b\b\b\b\b\b\b\r18/18 [==============================] - 1s 53ms/step - loss: 147.4480 - mae: 147.4480 - val_loss: 828.4034 - val_mae: 828.4034\n",
            "Epoch 20/100\n",
            "14/18 [======================>.......] - ETA: 0s - loss: 148.1649 - mae: 148.1649"
          ]
        },
        {
          "output_type": "stream",
          "name": "stderr",
          "text": [
            "WARNING:absl:Found untraced functions such as _jit_compiled_convolution_op, _update_step_xla while saving (showing 2 of 2). These functions will not be directly callable after loading.\n"
          ]
        },
        {
          "output_type": "stream",
          "name": "stdout",
          "text": [
            "\b\b\b\b\b\b\b\b\b\b\b\b\b\b\b\b\b\b\b\b\b\b\b\b\b\b\b\b\b\b\b\b\b\b\b\b\b\b\b\b\b\b\b\b\b\b\b\b\b\b\b\b\b\b\b\b\b\b\b\b\b\b\b\b\b\b\b\b\b\b\b\b\b\b\b\b\b\b\b\b\b\r18/18 [==============================] - 1s 78ms/step - loss: 145.7180 - mae: 145.7180 - val_loss: 810.2198 - val_mae: 810.2198\n",
            "Epoch 21/100\n",
            "10/18 [===============>..............] - ETA: 0s - loss: 150.7471 - mae: 150.7471"
          ]
        },
        {
          "output_type": "stream",
          "name": "stderr",
          "text": [
            "WARNING:absl:Found untraced functions such as _jit_compiled_convolution_op, _update_step_xla while saving (showing 2 of 2). These functions will not be directly callable after loading.\n"
          ]
        },
        {
          "output_type": "stream",
          "name": "stdout",
          "text": [
            "\b\b\b\b\b\b\b\b\b\b\b\b\b\b\b\b\b\b\b\b\b\b\b\b\b\b\b\b\b\b\b\b\b\b\b\b\b\b\b\b\b\b\b\b\b\b\b\b\b\b\b\b\b\b\b\b\b\b\b\b\b\b\b\b\b\b\b\b\b\b\b\b\b\b\b\b\b\b\b\b\b\r18/18 [==============================] - 1s 74ms/step - loss: 143.1436 - mae: 143.1436 - val_loss: 778.1162 - val_mae: 778.1162\n",
            "Epoch 22/100\n",
            "12/18 [===================>..........] - ETA: 0s - loss: 152.4134 - mae: 152.4134"
          ]
        },
        {
          "output_type": "stream",
          "name": "stderr",
          "text": [
            "WARNING:absl:Found untraced functions such as _jit_compiled_convolution_op, _update_step_xla while saving (showing 2 of 2). These functions will not be directly callable after loading.\n"
          ]
        },
        {
          "output_type": "stream",
          "name": "stdout",
          "text": [
            "\b\b\b\b\b\b\b\b\b\b\b\b\b\b\b\b\b\b\b\b\b\b\b\b\b\b\b\b\b\b\b\b\b\b\b\b\b\b\b\b\b\b\b\b\b\b\b\b\b\b\b\b\b\b\b\b\b\b\b\b\b\b\b\b\b\b\b\b\b\b\b\b\b\b\b\b\b\b\b\b\b\r18/18 [==============================] - 1s 52ms/step - loss: 141.1237 - mae: 141.1237 - val_loss: 769.8598 - val_mae: 769.8599\n",
            "Epoch 23/100\n",
            "18/18 [==============================] - 0s 6ms/step - loss: 136.0008 - mae: 136.0008 - val_loss: 777.5998 - val_mae: 777.5998\n",
            "Epoch 24/100\n",
            "15/18 [========================>.....] - ETA: 0s - loss: 136.0208 - mae: 136.0208"
          ]
        },
        {
          "output_type": "stream",
          "name": "stderr",
          "text": [
            "WARNING:absl:Found untraced functions such as _jit_compiled_convolution_op, _update_step_xla while saving (showing 2 of 2). These functions will not be directly callable after loading.\n"
          ]
        },
        {
          "output_type": "stream",
          "name": "stdout",
          "text": [
            "\b\b\b\b\b\b\b\b\b\b\b\b\b\b\b\b\b\b\b\b\b\b\b\b\b\b\b\b\b\b\b\b\b\b\b\b\b\b\b\b\b\b\b\b\b\b\b\b\b\b\b\b\b\b\b\b\b\b\b\b\b\b\b\b\b\b\b\b\b\b\b\b\b\b\b\b\b\b\b\b\b\r18/18 [==============================] - 1s 50ms/step - loss: 136.4285 - mae: 136.4285 - val_loss: 752.2252 - val_mae: 752.2252\n",
            "Epoch 25/100\n",
            "15/18 [========================>.....] - ETA: 0s - loss: 140.2763 - mae: 140.2763"
          ]
        },
        {
          "output_type": "stream",
          "name": "stderr",
          "text": [
            "WARNING:absl:Found untraced functions such as _jit_compiled_convolution_op, _update_step_xla while saving (showing 2 of 2). These functions will not be directly callable after loading.\n"
          ]
        },
        {
          "output_type": "stream",
          "name": "stdout",
          "text": [
            "\b\b\b\b\b\b\b\b\b\b\b\b\b\b\b\b\b\b\b\b\b\b\b\b\b\b\b\b\b\b\b\b\b\b\b\b\b\b\b\b\b\b\b\b\b\b\b\b\b\b\b\b\b\b\b\b\b\b\b\b\b\b\b\b\b\b\b\b\b\b\b\b\b\b\b\b\b\b\b\b\b\r18/18 [==============================] - 1s 50ms/step - loss: 136.1188 - mae: 136.1188 - val_loss: 734.0178 - val_mae: 734.0178\n",
            "Epoch 26/100\n",
            "15/18 [========================>.....] - ETA: 0s - loss: 135.1970 - mae: 135.1970"
          ]
        },
        {
          "output_type": "stream",
          "name": "stderr",
          "text": [
            "WARNING:absl:Found untraced functions such as _jit_compiled_convolution_op, _update_step_xla while saving (showing 2 of 2). These functions will not be directly callable after loading.\n"
          ]
        },
        {
          "output_type": "stream",
          "name": "stdout",
          "text": [
            "\b\b\b\b\b\b\b\b\b\b\b\b\b\b\b\b\b\b\b\b\b\b\b\b\b\b\b\b\b\b\b\b\b\b\b\b\b\b\b\b\b\b\b\b\b\b\b\b\b\b\b\b\b\b\b\b\b\b\b\b\b\b\b\b\b\b\b\b\b\b\b\b\b\b\b\b\b\b\b\b\b\r18/18 [==============================] - 1s 51ms/step - loss: 130.7757 - mae: 130.7757 - val_loss: 722.2402 - val_mae: 722.2402\n",
            "Epoch 27/100\n",
            "14/18 [======================>.......] - ETA: 0s - loss: 129.7460 - mae: 129.7460"
          ]
        },
        {
          "output_type": "stream",
          "name": "stderr",
          "text": [
            "WARNING:absl:Found untraced functions such as _jit_compiled_convolution_op, _update_step_xla while saving (showing 2 of 2). These functions will not be directly callable after loading.\n"
          ]
        },
        {
          "output_type": "stream",
          "name": "stdout",
          "text": [
            "\b\b\b\b\b\b\b\b\b\b\b\b\b\b\b\b\b\b\b\b\b\b\b\b\b\b\b\b\b\b\b\b\b\b\b\b\b\b\b\b\b\b\b\b\b\b\b\b\b\b\b\b\b\b\b\b\b\b\b\b\b\b\b\b\b\b\b\b\b\b\b\b\b\b\b\b\b\b\b\b\b\r18/18 [==============================] - 1s 69ms/step - loss: 128.6605 - mae: 128.6605 - val_loss: 705.1375 - val_mae: 705.1375\n",
            "Epoch 28/100\n",
            "15/18 [========================>.....] - ETA: 0s - loss: 124.6684 - mae: 124.6684"
          ]
        },
        {
          "output_type": "stream",
          "name": "stderr",
          "text": [
            "WARNING:absl:Found untraced functions such as _jit_compiled_convolution_op, _update_step_xla while saving (showing 2 of 2). These functions will not be directly callable after loading.\n"
          ]
        },
        {
          "output_type": "stream",
          "name": "stdout",
          "text": [
            "\b\b\b\b\b\b\b\b\b\b\b\b\b\b\b\b\b\b\b\b\b\b\b\b\b\b\b\b\b\b\b\b\b\b\b\b\b\b\b\b\b\b\b\b\b\b\b\b\b\b\b\b\b\b\b\b\b\b\b\b\b\b\b\b\b\b\b\b\b\b\b\b\b\b\b\b\b\b\b\b\b\r18/18 [==============================] - 1s 52ms/step - loss: 126.5434 - mae: 126.5434 - val_loss: 688.7635 - val_mae: 688.7635\n",
            "Epoch 29/100\n",
            "18/18 [==============================] - 0s 7ms/step - loss: 123.7850 - mae: 123.7850 - val_loss: 695.2150 - val_mae: 695.2150\n",
            "Epoch 30/100\n",
            "18/18 [==============================] - 0s 7ms/step - loss: 128.0875 - mae: 128.0875 - val_loss: 806.7719 - val_mae: 806.7719\n",
            "Epoch 31/100\n",
            "18/18 [==============================] - 0s 7ms/step - loss: 140.6186 - mae: 140.6186 - val_loss: 865.3670 - val_mae: 865.3670\n",
            "Epoch 32/100\n",
            "14/18 [======================>.......] - ETA: 0s - loss: 138.9145 - mae: 138.9145"
          ]
        },
        {
          "output_type": "stream",
          "name": "stderr",
          "text": [
            "WARNING:absl:Found untraced functions such as _jit_compiled_convolution_op, _update_step_xla while saving (showing 2 of 2). These functions will not be directly callable after loading.\n"
          ]
        },
        {
          "output_type": "stream",
          "name": "stdout",
          "text": [
            "\b\b\b\b\b\b\b\b\b\b\b\b\b\b\b\b\b\b\b\b\b\b\b\b\b\b\b\b\b\b\b\b\b\b\b\b\b\b\b\b\b\b\b\b\b\b\b\b\b\b\b\b\b\b\b\b\b\b\b\b\b\b\b\b\b\b\b\b\b\b\b\b\b\b\b\b\b\b\b\b\b\r18/18 [==============================] - 1s 53ms/step - loss: 135.3435 - mae: 135.3435 - val_loss: 663.1655 - val_mae: 663.1655\n",
            "Epoch 33/100\n",
            "13/18 [====================>.........] - ETA: 0s - loss: 127.8604 - mae: 127.8604"
          ]
        },
        {
          "output_type": "stream",
          "name": "stderr",
          "text": [
            "WARNING:absl:Found untraced functions such as _jit_compiled_convolution_op, _update_step_xla while saving (showing 2 of 2). These functions will not be directly callable after loading.\n"
          ]
        },
        {
          "output_type": "stream",
          "name": "stdout",
          "text": [
            "\b\b\b\b\b\b\b\b\b\b\b\b\b\b\b\b\b\b\b\b\b\b\b\b\b\b\b\b\b\b\b\b\b\b\b\b\b\b\b\b\b\b\b\b\b\b\b\b\b\b\b\b\b\b\b\b\b\b\b\b\b\b\b\b\b\b\b\b\b\b\b\b\b\b\b\b\b\b\b\b\b\r18/18 [==============================] - 1s 54ms/step - loss: 125.9477 - mae: 125.9477 - val_loss: 650.4886 - val_mae: 650.4886\n",
            "Epoch 34/100\n",
            "14/18 [======================>.......] - ETA: 0s - loss: 122.1664 - mae: 122.1664"
          ]
        },
        {
          "output_type": "stream",
          "name": "stderr",
          "text": [
            "WARNING:absl:Found untraced functions such as _jit_compiled_convolution_op, _update_step_xla while saving (showing 2 of 2). These functions will not be directly callable after loading.\n"
          ]
        },
        {
          "output_type": "stream",
          "name": "stdout",
          "text": [
            "\b\b\b\b\b\b\b\b\b\b\b\b\b\b\b\b\b\b\b\b\b\b\b\b\b\b\b\b\b\b\b\b\b\b\b\b\b\b\b\b\b\b\b\b\b\b\b\b\b\b\b\b\b\b\b\b\b\b\b\b\b\b\b\b\b\b\b\b\b\b\b\b\b\b\b\b\b\b\b\b\b\r18/18 [==============================] - 1s 52ms/step - loss: 118.9235 - mae: 118.9235 - val_loss: 644.1378 - val_mae: 644.1378\n",
            "Epoch 35/100\n",
            "18/18 [==============================] - 0s 6ms/step - loss: 119.4178 - mae: 119.4178 - val_loss: 648.1932 - val_mae: 648.1932\n",
            "Epoch 36/100\n",
            "18/18 [==============================] - 0s 7ms/step - loss: 126.6097 - mae: 126.6097 - val_loss: 718.6309 - val_mae: 718.6309\n",
            "Epoch 37/100\n",
            "14/18 [======================>.......] - ETA: 0s - loss: 122.0269 - mae: 122.0269"
          ]
        },
        {
          "output_type": "stream",
          "name": "stderr",
          "text": [
            "WARNING:absl:Found untraced functions such as _jit_compiled_convolution_op, _update_step_xla while saving (showing 2 of 2). These functions will not be directly callable after loading.\n"
          ]
        },
        {
          "output_type": "stream",
          "name": "stdout",
          "text": [
            "\b\b\b\b\b\b\b\b\b\b\b\b\b\b\b\b\b\b\b\b\b\b\b\b\b\b\b\b\b\b\b\b\b\b\b\b\b\b\b\b\b\b\b\b\b\b\b\b\b\b\b\b\b\b\b\b\b\b\b\b\b\b\b\b\b\b\b\b\b\b\b\b\b\b\b\b\b\b\b\b\b\r18/18 [==============================] - 1s 57ms/step - loss: 120.0201 - mae: 120.0201 - val_loss: 631.4270 - val_mae: 631.4270\n",
            "Epoch 38/100\n",
            "10/18 [===============>..............] - ETA: 0s - loss: 122.1100 - mae: 122.1100"
          ]
        },
        {
          "output_type": "stream",
          "name": "stderr",
          "text": [
            "WARNING:absl:Found untraced functions such as _jit_compiled_convolution_op, _update_step_xla while saving (showing 2 of 2). These functions will not be directly callable after loading.\n"
          ]
        },
        {
          "output_type": "stream",
          "name": "stdout",
          "text": [
            "\b\b\b\b\b\b\b\b\b\b\b\b\b\b\b\b\b\b\b\b\b\b\b\b\b\b\b\b\b\b\b\b\b\b\b\b\b\b\b\b\b\b\b\b\b\b\b\b\b\b\b\b\b\b\b\b\b\b\b\b\b\b\b\b\b\b\b\b\b\b\b\b\b\b\b\b\b\b\b\b\b\r18/18 [==============================] - 1s 83ms/step - loss: 117.0436 - mae: 117.0436 - val_loss: 625.8263 - val_mae: 625.8263\n",
            "Epoch 39/100\n",
            "10/18 [===============>..............] - ETA: 0s - loss: 118.5101 - mae: 118.5101"
          ]
        },
        {
          "output_type": "stream",
          "name": "stderr",
          "text": [
            "WARNING:absl:Found untraced functions such as _jit_compiled_convolution_op, _update_step_xla while saving (showing 2 of 2). These functions will not be directly callable after loading.\n"
          ]
        },
        {
          "output_type": "stream",
          "name": "stdout",
          "text": [
            "\b\b\b\b\b\b\b\b\b\b\b\b\b\b\b\b\b\b\b\b\b\b\b\b\b\b\b\b\b\b\b\b\b\b\b\b\b\b\b\b\b\b\b\b\b\b\b\b\b\b\b\b\b\b\b\b\b\b\b\b\b\b\b\b\b\b\b\b\b\b\b\b\b\b\b\b\b\b\b\b\b\r18/18 [==============================] - 1s 62ms/step - loss: 115.3084 - mae: 115.3084 - val_loss: 619.5674 - val_mae: 619.5674\n",
            "Epoch 40/100\n",
            "13/18 [====================>.........] - ETA: 0s - loss: 116.0289 - mae: 116.0289"
          ]
        },
        {
          "output_type": "stream",
          "name": "stderr",
          "text": [
            "WARNING:absl:Found untraced functions such as _jit_compiled_convolution_op, _update_step_xla while saving (showing 2 of 2). These functions will not be directly callable after loading.\n"
          ]
        },
        {
          "output_type": "stream",
          "name": "stdout",
          "text": [
            "\b\b\b\b\b\b\b\b\b\b\b\b\b\b\b\b\b\b\b\b\b\b\b\b\b\b\b\b\b\b\b\b\b\b\b\b\b\b\b\b\b\b\b\b\b\b\b\b\b\b\b\b\b\b\b\b\b\b\b\b\b\b\b\b\b\b\b\b\b\b\b\b\b\b\b\b\b\b\b\b\b\r18/18 [==============================] - 1s 50ms/step - loss: 115.1756 - mae: 115.1756 - val_loss: 615.3760 - val_mae: 615.3760\n",
            "Epoch 41/100\n",
            "18/18 [==============================] - 0s 7ms/step - loss: 118.0901 - mae: 118.0901 - val_loss: 677.1941 - val_mae: 677.1941\n",
            "Epoch 42/100\n",
            "15/18 [========================>.....] - ETA: 0s - loss: 119.8012 - mae: 119.8012"
          ]
        },
        {
          "output_type": "stream",
          "name": "stderr",
          "text": [
            "WARNING:absl:Found untraced functions such as _jit_compiled_convolution_op, _update_step_xla while saving (showing 2 of 2). These functions will not be directly callable after loading.\n"
          ]
        },
        {
          "output_type": "stream",
          "name": "stdout",
          "text": [
            "\b\b\b\b\b\b\b\b\b\b\b\b\b\b\b\b\b\b\b\b\b\b\b\b\b\b\b\b\b\b\b\b\b\b\b\b\b\b\b\b\b\b\b\b\b\b\b\b\b\b\b\b\b\b\b\b\b\b\b\b\b\b\b\b\b\b\b\b\b\b\b\b\b\b\b\b\b\b\b\b\b\r18/18 [==============================] - 1s 51ms/step - loss: 121.9258 - mae: 121.9258 - val_loss: 608.0292 - val_mae: 608.0292\n",
            "Epoch 43/100\n",
            "18/18 [==============================] - 0s 7ms/step - loss: 113.9589 - mae: 113.9589 - val_loss: 612.5981 - val_mae: 612.5981\n",
            "Epoch 44/100\n",
            "18/18 [==============================] - 0s 7ms/step - loss: 116.9396 - mae: 116.9396 - val_loss: 640.4170 - val_mae: 640.4170\n",
            "Epoch 45/100\n",
            "14/18 [======================>.......] - ETA: 0s - loss: 115.9915 - mae: 115.9915"
          ]
        },
        {
          "output_type": "stream",
          "name": "stderr",
          "text": [
            "WARNING:absl:Found untraced functions such as _jit_compiled_convolution_op, _update_step_xla while saving (showing 2 of 2). These functions will not be directly callable after loading.\n"
          ]
        },
        {
          "output_type": "stream",
          "name": "stdout",
          "text": [
            "\b\b\b\b\b\b\b\b\b\b\b\b\b\b\b\b\b\b\b\b\b\b\b\b\b\b\b\b\b\b\b\b\b\b\b\b\b\b\b\b\b\b\b\b\b\b\b\b\b\b\b\b\b\b\b\b\b\b\b\b\b\b\b\b\b\b\b\b\b\b\b\b\b\b\b\b\b\b\b\b\b\r18/18 [==============================] - 1s 51ms/step - loss: 118.9028 - mae: 118.9028 - val_loss: 602.7361 - val_mae: 602.7361\n",
            "Epoch 46/100\n",
            "18/18 [==============================] - 0s 6ms/step - loss: 114.1363 - mae: 114.1363 - val_loss: 615.7977 - val_mae: 615.7977\n",
            "Epoch 47/100\n",
            "18/18 [==============================] - 0s 7ms/step - loss: 116.0657 - mae: 116.0657 - val_loss: 700.8223 - val_mae: 700.8223\n",
            "Epoch 48/100\n",
            "18/18 [==============================] - 0s 7ms/step - loss: 114.5461 - mae: 114.5461 - val_loss: 626.8174 - val_mae: 626.8174\n",
            "Epoch 49/100\n",
            "12/18 [===================>..........] - ETA: 0s - loss: 119.9370 - mae: 119.9370"
          ]
        },
        {
          "output_type": "stream",
          "name": "stderr",
          "text": [
            "WARNING:absl:Found untraced functions such as _jit_compiled_convolution_op, _update_step_xla while saving (showing 2 of 2). These functions will not be directly callable after loading.\n"
          ]
        },
        {
          "output_type": "stream",
          "name": "stdout",
          "text": [
            "\b\b\b\b\b\b\b\b\b\b\b\b\b\b\b\b\b\b\b\b\b\b\b\b\b\b\b\b\b\b\b\b\b\b\b\b\b\b\b\b\b\b\b\b\b\b\b\b\b\b\b\b\b\b\b\b\b\b\b\b\b\b\b\b\b\b\b\b\b\b\b\b\b\b\b\b\b\b\b\b\b\r18/18 [==============================] - 1s 52ms/step - loss: 113.8544 - mae: 113.8544 - val_loss: 601.2531 - val_mae: 601.2531\n",
            "Epoch 50/100\n",
            "15/18 [========================>.....] - ETA: 0s - loss: 111.9152 - mae: 111.9152"
          ]
        },
        {
          "output_type": "stream",
          "name": "stderr",
          "text": [
            "WARNING:absl:Found untraced functions such as _jit_compiled_convolution_op, _update_step_xla while saving (showing 2 of 2). These functions will not be directly callable after loading.\n"
          ]
        },
        {
          "output_type": "stream",
          "name": "stdout",
          "text": [
            "\b\b\b\b\b\b\b\b\b\b\b\b\b\b\b\b\b\b\b\b\b\b\b\b\b\b\b\b\b\b\b\b\b\b\b\b\b\b\b\b\b\b\b\b\b\b\b\b\b\b\b\b\b\b\b\b\b\b\b\b\b\b\b\b\b\b\b\b\b\b\b\b\b\b\b\b\b\b\b\b\b\r18/18 [==============================] - 1s 52ms/step - loss: 113.3080 - mae: 113.3080 - val_loss: 595.7036 - val_mae: 595.7036\n",
            "Epoch 51/100\n",
            "15/18 [========================>.....] - ETA: 0s - loss: 112.4444 - mae: 112.4444"
          ]
        },
        {
          "output_type": "stream",
          "name": "stderr",
          "text": [
            "WARNING:absl:Found untraced functions such as _jit_compiled_convolution_op, _update_step_xla while saving (showing 2 of 2). These functions will not be directly callable after loading.\n"
          ]
        },
        {
          "output_type": "stream",
          "name": "stdout",
          "text": [
            "\b\b\b\b\b\b\b\b\b\b\b\b\b\b\b\b\b\b\b\b\b\b\b\b\b\b\b\b\b\b\b\b\b\b\b\b\b\b\b\b\b\b\b\b\b\b\b\b\b\b\b\b\b\b\b\b\b\b\b\b\b\b\b\b\b\b\b\b\b\b\b\b\b\b\b\b\b\b\b\b\b\r18/18 [==============================] - 1s 73ms/step - loss: 112.1443 - mae: 112.1443 - val_loss: 593.9917 - val_mae: 593.9917\n",
            "Epoch 52/100\n",
            "18/18 [==============================] - 0s 7ms/step - loss: 113.2774 - mae: 113.2774 - val_loss: 605.2162 - val_mae: 605.2162\n",
            "Epoch 53/100\n",
            "18/18 [==============================] - 0s 6ms/step - loss: 115.1930 - mae: 115.1930 - val_loss: 615.0487 - val_mae: 615.0487\n",
            "Epoch 54/100\n",
            "18/18 [==============================] - 0s 8ms/step - loss: 123.0340 - mae: 123.0340 - val_loss: 707.4259 - val_mae: 707.4259\n",
            "Epoch 55/100\n",
            "13/18 [====================>.........] - ETA: 0s - loss: 122.2006 - mae: 122.2006"
          ]
        },
        {
          "output_type": "stream",
          "name": "stderr",
          "text": [
            "WARNING:absl:Found untraced functions such as _jit_compiled_convolution_op, _update_step_xla while saving (showing 2 of 2). These functions will not be directly callable after loading.\n"
          ]
        },
        {
          "output_type": "stream",
          "name": "stdout",
          "text": [
            "\b\b\b\b\b\b\b\b\b\b\b\b\b\b\b\b\b\b\b\b\b\b\b\b\b\b\b\b\b\b\b\b\b\b\b\b\b\b\b\b\b\b\b\b\b\b\b\b\b\b\b\b\b\b\b\b\b\b\b\b\b\b\b\b\b\b\b\b\b\b\b\b\b\b\b\b\b\b\b\b\b\r18/18 [==============================] - 1s 50ms/step - loss: 114.7988 - mae: 114.7988 - val_loss: 589.9252 - val_mae: 589.9252\n",
            "Epoch 56/100\n",
            "18/18 [==============================] - 0s 6ms/step - loss: 113.4114 - mae: 113.4114 - val_loss: 834.3079 - val_mae: 834.3079\n",
            "Epoch 57/100\n",
            "18/18 [==============================] - 0s 7ms/step - loss: 136.5289 - mae: 136.5289 - val_loss: 625.8281 - val_mae: 625.8281\n",
            "Epoch 58/100\n",
            "18/18 [==============================] - 0s 7ms/step - loss: 119.6885 - mae: 119.6885 - val_loss: 630.0849 - val_mae: 630.0849\n",
            "Epoch 59/100\n",
            "15/18 [========================>.....] - ETA: 0s - loss: 111.2939 - mae: 111.2939"
          ]
        },
        {
          "output_type": "stream",
          "name": "stderr",
          "text": [
            "WARNING:absl:Found untraced functions such as _jit_compiled_convolution_op, _update_step_xla while saving (showing 2 of 2). These functions will not be directly callable after loading.\n"
          ]
        },
        {
          "output_type": "stream",
          "name": "stdout",
          "text": [
            "\b\b\b\b\b\b\b\b\b\b\b\b\b\b\b\b\b\b\b\b\b\b\b\b\b\b\b\b\b\b\b\b\b\b\b\b\b\b\b\b\b\b\b\b\b\b\b\b\b\b\b\b\b\b\b\b\b\b\b\b\b\b\b\b\b\b\b\b\b\b\b\b\b\b\b\b\b\b\b\b\b\r18/18 [==============================] - 1s 51ms/step - loss: 110.3960 - mae: 110.3960 - val_loss: 589.2758 - val_mae: 589.2758\n",
            "Epoch 60/100\n",
            "15/18 [========================>.....] - ETA: 0s - loss: 111.8215 - mae: 111.8215"
          ]
        },
        {
          "output_type": "stream",
          "name": "stderr",
          "text": [
            "WARNING:absl:Found untraced functions such as _jit_compiled_convolution_op, _update_step_xla while saving (showing 2 of 2). These functions will not be directly callable after loading.\n"
          ]
        },
        {
          "output_type": "stream",
          "name": "stdout",
          "text": [
            "\b\b\b\b\b\b\b\b\b\b\b\b\b\b\b\b\b\b\b\b\b\b\b\b\b\b\b\b\b\b\b\b\b\b\b\b\b\b\b\b\b\b\b\b\b\b\b\b\b\b\b\b\b\b\b\b\b\b\b\b\b\b\b\b\b\b\b\b\b\b\b\b\b\b\b\b\b\b\b\b\b\r18/18 [==============================] - 1s 65ms/step - loss: 110.2345 - mae: 110.2345 - val_loss: 587.2417 - val_mae: 587.2417\n",
            "Epoch 61/100\n",
            "18/18 [==============================] - 0s 9ms/step - loss: 109.7411 - mae: 109.7411 - val_loss: 602.3229 - val_mae: 602.3229\n",
            "Epoch 62/100\n",
            "10/18 [===============>..............] - ETA: 0s - loss: 105.0028 - mae: 105.0028"
          ]
        },
        {
          "output_type": "stream",
          "name": "stderr",
          "text": [
            "WARNING:absl:Found untraced functions such as _jit_compiled_convolution_op, _update_step_xla while saving (showing 2 of 2). These functions will not be directly callable after loading.\n"
          ]
        },
        {
          "output_type": "stream",
          "name": "stdout",
          "text": [
            "\b\b\b\b\b\b\b\b\b\b\b\b\b\b\b\b\b\b\b\b\b\b\b\b\b\b\b\b\b\b\b\b\b\b\b\b\b\b\b\b\b\b\b\b\b\b\b\b\b\b\b\b\b\b\b\b\b\b\b\b\b\b\b\b\b\b\b\b\b\b\b\b\b\b\b\b\b\b\b\b\b\r18/18 [==============================] - 1s 82ms/step - loss: 111.0105 - mae: 111.0105 - val_loss: 581.2846 - val_mae: 581.2846\n",
            "Epoch 63/100\n",
            "18/18 [==============================] - 0s 12ms/step - loss: 110.6668 - mae: 110.6668 - val_loss: 612.6314 - val_mae: 612.6314\n",
            "Epoch 64/100\n",
            "18/18 [==============================] - 0s 6ms/step - loss: 112.6265 - mae: 112.6265 - val_loss: 679.6332 - val_mae: 679.6332\n",
            "Epoch 65/100\n",
            "18/18 [==============================] - 0s 7ms/step - loss: 117.1032 - mae: 117.1032 - val_loss: 585.9369 - val_mae: 585.9369\n",
            "Epoch 66/100\n",
            "18/18 [==============================] - 0s 7ms/step - loss: 111.2875 - mae: 111.2875 - val_loss: 590.0994 - val_mae: 590.0994\n",
            "Epoch 67/100\n",
            "18/18 [==============================] - 0s 6ms/step - loss: 108.6718 - mae: 108.6718 - val_loss: 598.0414 - val_mae: 598.0414\n",
            "Epoch 68/100\n",
            "18/18 [==============================] - 0s 7ms/step - loss: 116.7128 - mae: 116.7128 - val_loss: 723.5392 - val_mae: 723.5392\n",
            "Epoch 69/100\n",
            "18/18 [==============================] - 0s 7ms/step - loss: 124.8456 - mae: 124.8456 - val_loss: 649.2880 - val_mae: 649.2880\n",
            "Epoch 70/100\n",
            "18/18 [==============================] - 0s 7ms/step - loss: 122.5255 - mae: 122.5255 - val_loss: 601.5502 - val_mae: 601.5502\n",
            "Epoch 71/100\n",
            "18/18 [==============================] - 0s 6ms/step - loss: 112.7503 - mae: 112.7503 - val_loss: 609.0891 - val_mae: 609.0891\n",
            "Epoch 72/100\n",
            "15/18 [========================>.....] - ETA: 0s - loss: 108.5736 - mae: 108.5736"
          ]
        },
        {
          "output_type": "stream",
          "name": "stderr",
          "text": [
            "WARNING:absl:Found untraced functions such as _jit_compiled_convolution_op, _update_step_xla while saving (showing 2 of 2). These functions will not be directly callable after loading.\n"
          ]
        },
        {
          "output_type": "stream",
          "name": "stdout",
          "text": [
            "\b\b\b\b\b\b\b\b\b\b\b\b\b\b\b\b\b\b\b\b\b\b\b\b\b\b\b\b\b\b\b\b\b\b\b\b\b\b\b\b\b\b\b\b\b\b\b\b\b\b\b\b\b\b\b\b\b\b\b\b\b\b\b\b\b\b\b\b\b\b\b\b\b\b\b\b\b\b\b\b\b\r18/18 [==============================] - 1s 51ms/step - loss: 110.1773 - mae: 110.1773 - val_loss: 579.2425 - val_mae: 579.2425\n",
            "Epoch 73/100\n",
            "18/18 [==============================] - 0s 7ms/step - loss: 109.2284 - mae: 109.2284 - val_loss: 585.4487 - val_mae: 585.4487\n",
            "Epoch 74/100\n",
            "15/18 [========================>.....] - ETA: 0s - loss: 109.3051 - mae: 109.3051"
          ]
        },
        {
          "output_type": "stream",
          "name": "stderr",
          "text": [
            "WARNING:absl:Found untraced functions such as _jit_compiled_convolution_op, _update_step_xla while saving (showing 2 of 2). These functions will not be directly callable after loading.\n"
          ]
        },
        {
          "output_type": "stream",
          "name": "stdout",
          "text": [
            "\b\b\b\b\b\b\b\b\b\b\b\b\b\b\b\b\b\b\b\b\b\b\b\b\b\b\b\b\b\b\b\b\b\b\b\b\b\b\b\b\b\b\b\b\b\b\b\b\b\b\b\b\b\b\b\b\b\b\b\b\b\b\b\b\b\b\b\b\b\b\b\b\b\b\b\b\b\b\b\b\b\r18/18 [==============================] - 1s 50ms/step - loss: 109.6327 - mae: 109.6327 - val_loss: 574.2114 - val_mae: 574.2114\n",
            "Epoch 75/100\n",
            "18/18 [==============================] - 0s 6ms/step - loss: 109.0777 - mae: 109.0777 - val_loss: 584.2603 - val_mae: 584.2603\n",
            "Epoch 76/100\n",
            "18/18 [==============================] - 0s 6ms/step - loss: 110.4024 - mae: 110.4024 - val_loss: 577.5901 - val_mae: 577.5901\n",
            "Epoch 77/100\n",
            "18/18 [==============================] - 0s 6ms/step - loss: 110.6491 - mae: 110.6491 - val_loss: 590.7972 - val_mae: 590.7972\n",
            "Epoch 78/100\n",
            "18/18 [==============================] - 0s 7ms/step - loss: 108.5469 - mae: 108.5469 - val_loss: 575.5813 - val_mae: 575.5813\n",
            "Epoch 79/100\n",
            "18/18 [==============================] - 0s 7ms/step - loss: 109.2920 - mae: 109.2920 - val_loss: 600.8031 - val_mae: 600.8031\n",
            "Epoch 80/100\n",
            "18/18 [==============================] - 0s 7ms/step - loss: 108.9855 - mae: 108.9855 - val_loss: 576.8710 - val_mae: 576.8710\n",
            "Epoch 81/100\n",
            "14/18 [======================>.......] - ETA: 0s - loss: 106.7265 - mae: 106.7265"
          ]
        },
        {
          "output_type": "stream",
          "name": "stderr",
          "text": [
            "WARNING:absl:Found untraced functions such as _jit_compiled_convolution_op, _update_step_xla while saving (showing 2 of 2). These functions will not be directly callable after loading.\n"
          ]
        },
        {
          "output_type": "stream",
          "name": "stdout",
          "text": [
            "\b\b\b\b\b\b\b\b\b\b\b\b\b\b\b\b\b\b\b\b\b\b\b\b\b\b\b\b\b\b\b\b\b\b\b\b\b\b\b\b\b\b\b\b\b\b\b\b\b\b\b\b\b\b\b\b\b\b\b\b\b\b\b\b\b\b\b\b\b\b\b\b\b\b\b\b\b\b\b\b\b\r18/18 [==============================] - 1s 53ms/step - loss: 107.8653 - mae: 107.8653 - val_loss: 570.5546 - val_mae: 570.5546\n",
            "Epoch 82/100\n",
            "18/18 [==============================] - 0s 7ms/step - loss: 114.7560 - mae: 114.7560 - val_loss: 570.5877 - val_mae: 570.5877\n",
            "Epoch 83/100\n",
            "18/18 [==============================] - 0s 7ms/step - loss: 112.4727 - mae: 112.4727 - val_loss: 675.9980 - val_mae: 675.9980\n",
            "Epoch 84/100\n",
            "18/18 [==============================] - 0s 7ms/step - loss: 114.4252 - mae: 114.4252 - val_loss: 600.9155 - val_mae: 600.9155\n",
            "Epoch 85/100\n",
            "18/18 [==============================] - 0s 6ms/step - loss: 108.9161 - mae: 108.9161 - val_loss: 591.1351 - val_mae: 591.1351\n",
            "Epoch 86/100\n",
            "18/18 [==============================] - 0s 6ms/step - loss: 109.2978 - mae: 109.2978 - val_loss: 630.2247 - val_mae: 630.2247\n",
            "Epoch 87/100\n",
            "15/18 [========================>.....] - ETA: 0s - loss: 108.3438 - mae: 108.3438"
          ]
        },
        {
          "output_type": "stream",
          "name": "stderr",
          "text": [
            "WARNING:absl:Found untraced functions such as _jit_compiled_convolution_op, _update_step_xla while saving (showing 2 of 2). These functions will not be directly callable after loading.\n"
          ]
        },
        {
          "output_type": "stream",
          "name": "stdout",
          "text": [
            "\b\b\b\b\b\b\b\b\b\b\b\b\b\b\b\b\b\b\b\b\b\b\b\b\b\b\b\b\b\b\b\b\b\b\b\b\b\b\b\b\b\b\b\b\b\b\b\b\b\b\b\b\b\b\b\b\b\b\b\b\b\b\b\b\b\b\b\b\b\b\b\b\b\b\b\b\b\b\b\b\b\r18/18 [==============================] - 1s 51ms/step - loss: 109.2043 - mae: 109.2043 - val_loss: 569.4839 - val_mae: 569.4839\n",
            "Epoch 88/100\n",
            "18/18 [==============================] - 0s 7ms/step - loss: 108.4710 - mae: 108.4710 - val_loss: 589.2479 - val_mae: 589.2479\n",
            "Epoch 89/100\n",
            "18/18 [==============================] - 0s 7ms/step - loss: 109.5868 - mae: 109.5868 - val_loss: 578.7461 - val_mae: 578.7461\n",
            "Epoch 90/100\n",
            "18/18 [==============================] - 0s 7ms/step - loss: 106.9267 - mae: 106.9267 - val_loss: 623.3480 - val_mae: 623.3480\n",
            "Epoch 91/100\n",
            "18/18 [==============================] - 0s 6ms/step - loss: 110.0258 - mae: 110.0258 - val_loss: 617.4809 - val_mae: 617.4809\n",
            "Epoch 92/100\n",
            "18/18 [==============================] - 0s 7ms/step - loss: 110.7781 - mae: 110.7781 - val_loss: 569.9359 - val_mae: 569.9359\n",
            "Epoch 93/100\n",
            "18/18 [==============================] - 0s 7ms/step - loss: 112.7393 - mae: 112.7393 - val_loss: 593.7751 - val_mae: 593.7751\n",
            "Epoch 94/100\n",
            "18/18 [==============================] - 0s 6ms/step - loss: 110.0615 - mae: 110.0615 - val_loss: 587.7705 - val_mae: 587.7705\n",
            "Epoch 95/100\n",
            "11/18 [=================>............] - ETA: 0s - loss: 101.0667 - mae: 101.0667"
          ]
        },
        {
          "output_type": "stream",
          "name": "stderr",
          "text": [
            "WARNING:absl:Found untraced functions such as _jit_compiled_convolution_op, _update_step_xla while saving (showing 2 of 2). These functions will not be directly callable after loading.\n"
          ]
        },
        {
          "output_type": "stream",
          "name": "stdout",
          "text": [
            "\b\b\b\b\b\b\b\b\b\b\b\b\b\b\b\b\b\b\b\b\b\b\b\b\b\b\b\b\b\b\b\b\b\b\b\b\b\b\b\b\b\b\b\b\b\b\b\b\b\b\b\b\b\b\b\b\b\b\b\b\b\b\b\b\b\b\b\b\b\b\b\b\b\b\b\b\b\b\b\b\b\r18/18 [==============================] - 1s 51ms/step - loss: 107.1072 - mae: 107.1072 - val_loss: 567.3976 - val_mae: 567.3976\n",
            "Epoch 96/100\n",
            "18/18 [==============================] - 0s 7ms/step - loss: 110.9023 - mae: 110.9023 - val_loss: 669.2040 - val_mae: 669.2040\n",
            "Epoch 97/100\n",
            "18/18 [==============================] - 0s 6ms/step - loss: 110.5387 - mae: 110.5387 - val_loss: 568.2792 - val_mae: 568.2792\n",
            "Epoch 98/100\n",
            "18/18 [==============================] - 0s 7ms/step - loss: 107.2849 - mae: 107.2849 - val_loss: 579.9789 - val_mae: 579.9789\n",
            "Epoch 99/100\n",
            "15/18 [========================>.....] - ETA: 0s - loss: 105.9098 - mae: 105.9098"
          ]
        },
        {
          "output_type": "stream",
          "name": "stderr",
          "text": [
            "WARNING:absl:Found untraced functions such as _jit_compiled_convolution_op, _update_step_xla while saving (showing 2 of 2). These functions will not be directly callable after loading.\n"
          ]
        },
        {
          "output_type": "stream",
          "name": "stdout",
          "text": [
            "\b\b\b\b\b\b\b\b\b\b\b\b\b\b\b\b\b\b\b\b\b\b\b\b\b\b\b\b\b\b\b\b\b\b\b\b\b\b\b\b\b\b\b\b\b\b\b\b\b\b\b\b\b\b\b\b\b\b\b\b\b\b\b\b\b\b\b\b\b\b\b\b\b\b\b\b\b\b\b\b\b\r18/18 [==============================] - 1s 69ms/step - loss: 108.1835 - mae: 108.1835 - val_loss: 566.3741 - val_mae: 566.3741\n",
            "Epoch 100/100\n",
            "18/18 [==============================] - 0s 7ms/step - loss: 118.3089 - mae: 118.3089 - val_loss: 660.6885 - val_mae: 660.6885\n"
          ]
        },
        {
          "output_type": "execute_result",
          "data": {
            "text/plain": [
              "<keras.callbacks.History at 0x7f08586d20d0>"
            ]
          },
          "metadata": {},
          "execution_count": 81
        }
      ]
    },
    {
      "cell_type": "code",
      "source": [
        "model_4.summary()"
      ],
      "metadata": {
        "colab": {
          "base_uri": "https://localhost:8080/"
        },
        "id": "AtxN05fWzdNe",
        "outputId": "6d2b8e66-1b5a-4ff7-9641-342f5e3dabb0"
      },
      "execution_count": 82,
      "outputs": [
        {
          "output_type": "stream",
          "name": "stdout",
          "text": [
            "Model: \"model_4_conv1d\"\n",
            "_________________________________________________________________\n",
            " Layer (type)                Output Shape              Param #   \n",
            "=================================================================\n",
            " lambda (Lambda)             (None, 1, 7)              0         \n",
            "                                                                 \n",
            " conv1d (Conv1D)             (None, 1, 128)            4608      \n",
            "                                                                 \n",
            " dense_6 (Dense)             (None, 1, 1)              129       \n",
            "                                                                 \n",
            "=================================================================\n",
            "Total params: 4,737\n",
            "Trainable params: 4,737\n",
            "Non-trainable params: 0\n",
            "_________________________________________________________________\n"
          ]
        }
      ]
    },
    {
      "cell_type": "code",
      "source": [
        "# Evaluate model\n",
        "model_4.evaluate(test_windows, test_labels)"
      ],
      "metadata": {
        "colab": {
          "base_uri": "https://localhost:8080/"
        },
        "id": "m9rgj6j52hfJ",
        "outputId": "c9cc84da-1ae0-47b5-dc23-c2024315ea6d"
      },
      "execution_count": 83,
      "outputs": [
        {
          "output_type": "stream",
          "name": "stdout",
          "text": [
            "18/18 [==============================] - 0s 4ms/step - loss: 660.6885 - mae: 660.6885\n"
          ]
        },
        {
          "output_type": "execute_result",
          "data": {
            "text/plain": [
              "[660.6884765625, 660.6884765625]"
            ]
          },
          "metadata": {},
          "execution_count": 83
        }
      ]
    },
    {
      "cell_type": "code",
      "source": [
        "# Load back in best performing Conv1D model and evaluate\n",
        "model_4 = tf.keras.models.load_model(\"model_experiments/model_4_conv1d/\")\n",
        "model_4.evaluate(test_windows, test_labels)"
      ],
      "metadata": {
        "colab": {
          "base_uri": "https://localhost:8080/"
        },
        "id": "bOPijO_c2tim",
        "outputId": "9403fd94-8ba7-4df1-ac8f-7489a88a755a"
      },
      "execution_count": 84,
      "outputs": [
        {
          "output_type": "stream",
          "name": "stdout",
          "text": [
            "18/18 [==============================] - 0s 3ms/step - loss: 566.3741 - mae: 566.3741\n"
          ]
        },
        {
          "output_type": "execute_result",
          "data": {
            "text/plain": [
              "[566.3740844726562, 566.3740844726562]"
            ]
          },
          "metadata": {},
          "execution_count": 84
        }
      ]
    },
    {
      "cell_type": "code",
      "source": [
        "model_4_preds = make_preds(model_4, test_windows)\n",
        "model_4_preds[:10]"
      ],
      "metadata": {
        "colab": {
          "base_uri": "https://localhost:8080/"
        },
        "id": "E9ozsjx63DHZ",
        "outputId": "e049d6a9-5171-4aed-b896-b4b13a9c6d6a"
      },
      "execution_count": 85,
      "outputs": [
        {
          "output_type": "stream",
          "name": "stdout",
          "text": [
            "18/18 [==============================] - 0s 3ms/step\n"
          ]
        },
        {
          "output_type": "execute_result",
          "data": {
            "text/plain": [
              "<tf.Tensor: shape=(10,), dtype=float32, numpy=\n",
              "array([8876.329, 8776.105, 9005.438, 8808.489, 8734.332, 8718.197,\n",
              "       8685.781, 8541.647, 8445.19 , 8521.344], dtype=float32)>"
            ]
          },
          "metadata": {},
          "execution_count": 85
        }
      ]
    },
    {
      "cell_type": "code",
      "source": [
        "# Evaluate predictions\n",
        "model_4_results = evaluate_preds(tf.squeeze(test_labels), model_4_preds)\n",
        "model_4_results"
      ],
      "metadata": {
        "colab": {
          "base_uri": "https://localhost:8080/"
        },
        "id": "TxELKmfd5tpN",
        "outputId": "4b5499e1-f697-4629-83d1-3d35407679ee"
      },
      "execution_count": 86,
      "outputs": [
        {
          "output_type": "execute_result",
          "data": {
            "text/plain": [
              "{'mae': 566.37415,\n",
              " 'mse': 1172689.2,\n",
              " 'rmse': 1082.9077,\n",
              " 'mape': 2.5417905,\n",
              " 'mase': 0.9949625}"
            ]
          },
          "metadata": {},
          "execution_count": 86
        }
      ]
    },
    {
      "cell_type": "code",
      "source": [
        "model_1_results"
      ],
      "metadata": {
        "colab": {
          "base_uri": "https://localhost:8080/"
        },
        "id": "Yxqu6brt5-2e",
        "outputId": "cf52d144-c8d1-4291-dc31-dcd43354e727"
      },
      "execution_count": 87,
      "outputs": [
        {
          "output_type": "execute_result",
          "data": {
            "text/plain": [
              "{'mae': 568.77673,\n",
              " 'mse': 1167764.5,\n",
              " 'rmse': 1080.6315,\n",
              " 'mape': 2.5534422,\n",
              " 'mase': 0.9991832}"
            ]
          },
          "metadata": {},
          "execution_count": 87
        }
      ]
    },
    {
      "cell_type": "markdown",
      "source": [
        "## Model_5: RNN (LSTM)\n"
      ],
      "metadata": {
        "id": "9nr129sB6BIF"
      }
    },
    {
      "cell_type": "code",
      "source": [
        "tf.random.set_seed(42)\n",
        "\n",
        "# Create LSTM model with the Functional API\n",
        "inputs = layers.Input(shape=(WINDOW_SIZE))\n",
        "x = layers.Lambda(lambda x: tf.expand_dims(x, axis=1))(inputs)\n",
        "# x = layers.LSTM(128, return_sequences=True)(x)\n",
        "x = layers.LSTM(128, activation=\"relu\")(x)\n",
        "# x = layers.Dense(32, activation=\"relu\")(x)\n",
        "outputs = layers.Dense(HORIZON)(x)\n",
        "model_5 = tf.keras.Model(inputs, outputs, name=\"model_5_LSTM\")\n",
        "\n",
        "# Compile\n",
        "model_5.compile(loss=\"mae\", optimizer=tf.keras.optimizers.Adam())\n",
        "\n",
        "# Fit model\n",
        "model_5_history = model_5.fit(train_windows, train_labels,\n",
        "                              batch_size=128,\n",
        "                              epochs=100,\n",
        "                              verbose=0,\n",
        "                              validation_data=(test_windows, test_labels),\n",
        "                              callbacks=[create_model_checkpoint(model_name=model_5.name)])"
      ],
      "metadata": {
        "colab": {
          "base_uri": "https://localhost:8080/"
        },
        "id": "ImCYEVqR6WuQ",
        "outputId": "5f299fcb-97fb-4e46-80db-638ccc45535d"
      },
      "execution_count": 92,
      "outputs": [
        {
          "output_type": "stream",
          "name": "stderr",
          "text": [
            "WARNING:tensorflow:Layer lstm_2 will not use cuDNN kernels since it doesn't meet the criteria. It will use a generic GPU kernel as fallback when running on GPU.\n"
          ]
        }
      ]
    },
    {
      "cell_type": "code",
      "source": [
        "# Evaluate model 5\n",
        "model_5.evaluate(test_windows, test_labels)"
      ],
      "metadata": {
        "colab": {
          "base_uri": "https://localhost:8080/"
        },
        "id": "6NG7N7ty84fS",
        "outputId": "3dd6a918-f394-4f4c-c6a6-42aacd6612f0"
      },
      "execution_count": 93,
      "outputs": [
        {
          "output_type": "stream",
          "name": "stdout",
          "text": [
            "18/18 [==============================] - 0s 3ms/step - loss: 643.3579\n"
          ]
        },
        {
          "output_type": "execute_result",
          "data": {
            "text/plain": [
              "643.35791015625"
            ]
          },
          "metadata": {},
          "execution_count": 93
        }
      ]
    },
    {
      "cell_type": "code",
      "source": [
        "# Load best performing model and evaluate\n",
        "model_5 = tf.keras.models.load_model(\"model_experiments/model_5_LSTM/\")\n",
        "model_5.evaluate(test_windows, test_labels)"
      ],
      "metadata": {
        "colab": {
          "base_uri": "https://localhost:8080/"
        },
        "id": "nipv4Ryn9Ax6",
        "outputId": "419142c6-f1f0-4770-acbf-bf4a8e776cad"
      },
      "execution_count": 94,
      "outputs": [
        {
          "output_type": "stream",
          "name": "stderr",
          "text": [
            "WARNING:tensorflow:Layer lstm_2 will not use cuDNN kernels since it doesn't meet the criteria. It will use a generic GPU kernel as fallback when running on GPU.\n"
          ]
        },
        {
          "output_type": "stream",
          "name": "stdout",
          "text": [
            "18/18 [==============================] - 0s 3ms/step - loss: 589.9951\n"
          ]
        },
        {
          "output_type": "execute_result",
          "data": {
            "text/plain": [
              "589.9951171875"
            ]
          },
          "metadata": {},
          "execution_count": 94
        }
      ]
    },
    {
      "cell_type": "code",
      "source": [
        "model_5_preds = make_preds(model_5, test_windows)"
      ],
      "metadata": {
        "colab": {
          "base_uri": "https://localhost:8080/"
        },
        "id": "8sj6grid9T3l",
        "outputId": "7446bc44-d45c-4a8e-e447-33ea7733961a"
      },
      "execution_count": 96,
      "outputs": [
        {
          "output_type": "stream",
          "name": "stdout",
          "text": [
            "18/18 [==============================] - 0s 2ms/step\n"
          ]
        }
      ]
    },
    {
      "cell_type": "code",
      "source": [
        "model_5_results = evaluate_preds(tf.squeeze(test_labels, axis=1), model_5_preds)\n",
        "model_5_results"
      ],
      "metadata": {
        "colab": {
          "base_uri": "https://localhost:8080/"
        },
        "id": "zFYM0I_dMS6o",
        "outputId": "abe99136-f26e-4f5b-b012-b68841d87ede"
      },
      "execution_count": 98,
      "outputs": [
        {
          "output_type": "execute_result",
          "data": {
            "text/plain": [
              "{'mae': 589.9951,\n",
              " 'mse': 1240201.4,\n",
              " 'rmse': 1113.6433,\n",
              " 'mape': 2.6485963,\n",
              " 'mase': 1.036458}"
            ]
          },
          "metadata": {},
          "execution_count": 98
        }
      ]
    },
    {
      "cell_type": "code",
      "source": [
        "model_1_results"
      ],
      "metadata": {
        "colab": {
          "base_uri": "https://localhost:8080/"
        },
        "id": "ESY_-LJ8sfNk",
        "outputId": "93c9b6f3-eecd-42dd-c906-d7933eeee028"
      },
      "execution_count": 99,
      "outputs": [
        {
          "output_type": "execute_result",
          "data": {
            "text/plain": [
              "{'mae': 568.77673,\n",
              " 'mse': 1167764.5,\n",
              " 'rmse': 1080.6315,\n",
              " 'mape': 2.5534422,\n",
              " 'mase': 0.9991832}"
            ]
          },
          "metadata": {},
          "execution_count": 99
        }
      ]
    },
    {
      "cell_type": "code",
      "source": [],
      "metadata": {
        "id": "FqrmsGpJs1vT"
      },
      "execution_count": null,
      "outputs": []
    }
  ]
}