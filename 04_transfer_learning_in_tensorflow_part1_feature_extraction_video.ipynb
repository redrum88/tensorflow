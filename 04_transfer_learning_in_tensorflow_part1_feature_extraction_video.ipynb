{
  "nbformat": 4,
  "nbformat_minor": 0,
  "metadata": {
    "colab": {
      "provenance": [],
      "authorship_tag": "ABX9TyOcq1WOnZe1Z9ljmdadMHkV",
      "include_colab_link": true
    },
    "kernelspec": {
      "name": "python3",
      "display_name": "Python 3"
    },
    "language_info": {
      "name": "python"
    },
    "accelerator": "GPU",
    "gpuClass": "standard"
  },
  "cells": [
    {
      "cell_type": "markdown",
      "metadata": {
        "id": "view-in-github",
        "colab_type": "text"
      },
      "source": [
        "<a href=\"https://colab.research.google.com/github/redrum88/tensorflow/blob/main/04_transfer_learning_in_tensorflow_part1_feature_extraction_video.ipynb\" target=\"_parent\"><img src=\"https://colab.research.google.com/assets/colab-badge.svg\" alt=\"Open In Colab\"/></a>"
      ]
    },
    {
      "cell_type": "markdown",
      "source": [
        "# Transfer Learning with TensorFlow Part 1: Feature Extraction\n",
        "\n",
        "Transfer learning is leveraging a working model's existing architecture and learned patters for our own problem.\n",
        "\n",
        "There are two main benefits:\n",
        "1. Can leverage an existing neural network architecture proven to work on problems similiar  to our own.\n",
        "2. Can leverage a working neural network architecture which has already learned patters on similar data to our own, then we can adapt those patterns to our own data."
      ],
      "metadata": {
        "id": "qJaZtsMtX-7j"
      }
    },
    {
      "cell_type": "code",
      "source": [
        "# Are we using GUP?\n",
        "!nvidia-smi"
      ],
      "metadata": {
        "id": "L2BcXgI9ZAnn",
        "colab": {
          "base_uri": "https://localhost:8080/"
        },
        "outputId": "bfe1e1dd-9e4c-4440-f960-99433e6e504e"
      },
      "execution_count": 8,
      "outputs": [
        {
          "output_type": "stream",
          "name": "stdout",
          "text": [
            "Sat Jan 21 22:56:22 2023       \n",
            "+-----------------------------------------------------------------------------+\n",
            "| NVIDIA-SMI 460.32.03    Driver Version: 460.32.03    CUDA Version: 11.2     |\n",
            "|-------------------------------+----------------------+----------------------+\n",
            "| GPU  Name        Persistence-M| Bus-Id        Disp.A | Volatile Uncorr. ECC |\n",
            "| Fan  Temp  Perf  Pwr:Usage/Cap|         Memory-Usage | GPU-Util  Compute M. |\n",
            "|                               |                      |               MIG M. |\n",
            "|===============================+======================+======================|\n",
            "|   0  Tesla T4            Off  | 00000000:00:04.0 Off |                    0 |\n",
            "| N/A   44C    P0    26W /  70W |      0MiB / 15109MiB |      0%      Default |\n",
            "|                               |                      |                  N/A |\n",
            "+-------------------------------+----------------------+----------------------+\n",
            "                                                                               \n",
            "+-----------------------------------------------------------------------------+\n",
            "| Processes:                                                                  |\n",
            "|  GPU   GI   CI        PID   Type   Process name                  GPU Memory |\n",
            "|        ID   ID                                                   Usage      |\n",
            "|=============================================================================|\n",
            "|  No running processes found                                                 |\n",
            "+-----------------------------------------------------------------------------+\n"
          ]
        }
      ]
    },
    {
      "cell_type": "markdown",
      "source": [
        "## Downloading and becoming one with the data"
      ],
      "metadata": {
        "id": "tWJXf6M9OiiX"
      }
    },
    {
      "cell_type": "code",
      "source": [
        "# Get data (10% of 10 food classes from Food101)\n",
        "!wget https://storage.googleapis.com/ztm_tf_course/food_vision/10_food_classes_10_percent.zip"
      ],
      "metadata": {
        "colab": {
          "base_uri": "https://localhost:8080/"
        },
        "id": "6qvN3-IhPRt3",
        "outputId": "61dfeadb-6935-4a92-ae00-90325719a64c"
      },
      "execution_count": 2,
      "outputs": [
        {
          "output_type": "stream",
          "name": "stdout",
          "text": [
            "--2023-01-21 22:46:13--  https://storage.googleapis.com/ztm_tf_course/food_vision/10_food_classes_10_percent.zip\n",
            "Resolving storage.googleapis.com (storage.googleapis.com)... 74.125.24.128, 142.250.4.128, 142.251.10.128, ...\n",
            "Connecting to storage.googleapis.com (storage.googleapis.com)|74.125.24.128|:443... connected.\n",
            "HTTP request sent, awaiting response... 200 OK\n",
            "Length: 168546183 (161M) [application/zip]\n",
            "Saving to: ‘10_food_classes_10_percent.zip’\n",
            "\n",
            "10_food_classes_10_ 100%[===================>] 160.74M  23.9MB/s    in 7.9s    \n",
            "\n",
            "2023-01-21 22:46:21 (20.3 MB/s) - ‘10_food_classes_10_percent.zip’ saved [168546183/168546183]\n",
            "\n"
          ]
        }
      ]
    },
    {
      "cell_type": "code",
      "source": [
        "import zipfile\n",
        "\n",
        "# unzip downloaded file\n",
        "zip_ref = zipfile.ZipFile(\"10_food_classes_10_percent.zip\")\n",
        "zip_ref.extractall()\n",
        "zip_ref.close()"
      ],
      "metadata": {
        "id": "Zylca14LPiM6"
      },
      "execution_count": 3,
      "outputs": []
    },
    {
      "cell_type": "code",
      "source": [
        "# How many images in each folder?\n",
        "import os\n",
        "\n",
        "# Walk through 10 percent dat directory and list number of files\n",
        "for dirpath, dirnames, filenames in os.walk(\"10_food_classes_10_percent\"):\n",
        "  print(f\"There are {len(dirnames)} direcotries and {len(filenames)} images in {dirpath}\")"
      ],
      "metadata": {
        "colab": {
          "base_uri": "https://localhost:8080/"
        },
        "id": "U2721m_SP6gi",
        "outputId": "1667f8a2-c6eb-4923-d237-608c4ec2af24"
      },
      "execution_count": 4,
      "outputs": [
        {
          "output_type": "stream",
          "name": "stdout",
          "text": [
            "There are 2 direcotries and 0 images in 10_food_classes_10_percent\n",
            "There are 10 direcotries and 0 images in 10_food_classes_10_percent/train\n",
            "There are 0 direcotries and 75 images in 10_food_classes_10_percent/train/chicken_wings\n",
            "There are 0 direcotries and 75 images in 10_food_classes_10_percent/train/grilled_salmon\n",
            "There are 0 direcotries and 75 images in 10_food_classes_10_percent/train/chicken_curry\n",
            "There are 0 direcotries and 75 images in 10_food_classes_10_percent/train/steak\n",
            "There are 0 direcotries and 75 images in 10_food_classes_10_percent/train/sushi\n",
            "There are 0 direcotries and 75 images in 10_food_classes_10_percent/train/pizza\n",
            "There are 0 direcotries and 75 images in 10_food_classes_10_percent/train/fried_rice\n",
            "There are 0 direcotries and 75 images in 10_food_classes_10_percent/train/ice_cream\n",
            "There are 0 direcotries and 75 images in 10_food_classes_10_percent/train/ramen\n",
            "There are 0 direcotries and 75 images in 10_food_classes_10_percent/train/hamburger\n",
            "There are 10 direcotries and 0 images in 10_food_classes_10_percent/test\n",
            "There are 0 direcotries and 250 images in 10_food_classes_10_percent/test/chicken_wings\n",
            "There are 0 direcotries and 250 images in 10_food_classes_10_percent/test/grilled_salmon\n",
            "There are 0 direcotries and 250 images in 10_food_classes_10_percent/test/chicken_curry\n",
            "There are 0 direcotries and 250 images in 10_food_classes_10_percent/test/steak\n",
            "There are 0 direcotries and 250 images in 10_food_classes_10_percent/test/sushi\n",
            "There are 0 direcotries and 250 images in 10_food_classes_10_percent/test/pizza\n",
            "There are 0 direcotries and 250 images in 10_food_classes_10_percent/test/fried_rice\n",
            "There are 0 direcotries and 250 images in 10_food_classes_10_percent/test/ice_cream\n",
            "There are 0 direcotries and 250 images in 10_food_classes_10_percent/test/ramen\n",
            "There are 0 direcotries and 250 images in 10_food_classes_10_percent/test/hamburger\n"
          ]
        }
      ]
    },
    {
      "cell_type": "markdown",
      "source": [
        "## Creating data loaders (preparing the data)\n",
        "\n",
        "We'll use the `ImageDataGenerator` class to load in our images in batches"
      ],
      "metadata": {
        "id": "CnA2Ey_mRDV_"
      }
    },
    {
      "cell_type": "code",
      "source": [
        "# Setup data inputs\n",
        "from tensorflow.keras.preprocessing.image import ImageDataGenerator\n",
        "\n",
        "IMAGE_SHAPE = (224, 224)\n",
        "BATCH_SIZE = 32\n",
        "\n",
        "train_dir = \"10_food_classes_10_percent/train/\"\n",
        "test_dir = \"10_food_classes_10_percent/test/\"\n",
        "\n",
        "train_datagen = ImageDataGenerator(rescale=1/255.)\n",
        "test_datagen = ImageDataGenerator(rescale=1/255.)\n",
        "\n",
        "print(\"Training images:\")\n",
        "train_data_10_percent = train_datagen.flow_from_directory(train_dir,\n",
        "                                                          target_size=IMAGE_SHAPE,\n",
        "                                                          batch_size=BATCH_SIZE,\n",
        "                                                          class_mode=\"categorical\")\n",
        "print(\"Testing images:\")\n",
        "test_data = test_datagen.flow_from_directory(test_dir,\n",
        "                                             target_size=IMAGE_SHAPE,\n",
        "                                             batch_size=BATCH_SIZE,\n",
        "                                             class_mode=\"categorical\")"
      ],
      "metadata": {
        "colab": {
          "base_uri": "https://localhost:8080/"
        },
        "id": "DOYD4cp6TULv",
        "outputId": "4db57180-47f9-430c-e4cd-947bacda6311"
      },
      "execution_count": 5,
      "outputs": [
        {
          "output_type": "stream",
          "name": "stdout",
          "text": [
            "Training images:\n",
            "Found 750 images belonging to 10 classes.\n",
            "Testing images:\n",
            "Found 2500 images belonging to 10 classes.\n"
          ]
        }
      ]
    },
    {
      "cell_type": "markdown",
      "source": [
        "## Setting up callbacks (things to run whilst our model trains)\n",
        "\n",
        "Callbacks are extra functionality you can add to your model to be performed during or after training. Some of the most popular callbacks:\n",
        "\n",
        "* Tracking experiments with the TensorBoard callbacks\n",
        "* Model checkpoint with ModelCheckpoint callback\n",
        "* Stopping a model from training (before it trains too long and overfits) with the EarlyStopping callback"
      ],
      "metadata": {
        "id": "PZicjSIbee4j"
      }
    },
    {
      "cell_type": "code",
      "source": [
        "# Create TensorBoard callback(funtionize because we need to create new one for each model)\n",
        "import datetime\n",
        "\n",
        "def create_tensorboard_callback(dir_name, experiment_name):\n",
        "  log_dir = dir_name + \"/\" + experiment_name + \"/\" + datetime.datetime.now().strftime(\"%Y%m%d-%H%M%S\")\n",
        "  tensorboard_callback = tf.keras.callbacks.TensorBoard(log_dir=log_dir)\n",
        "  print(f\"Saving TensorBoard log files to: {log_dir}\")\n",
        "  return tensorboard_callback"
      ],
      "metadata": {
        "id": "4jkkOoldhPrd"
      },
      "execution_count": 6,
      "outputs": []
    },
    {
      "cell_type": "markdown",
      "source": [
        "🔑 **Note:** You can customize the directory where your TensorBoard logs (model training metrics) get saved to whatever you like. The `log_dir` parameter we've created above is only one option."
      ],
      "metadata": {
        "id": "uxXzFO-SjhFy"
      }
    },
    {
      "cell_type": "markdown",
      "source": [
        "## Creating models using TensorFlow Hub\n",
        "\n",
        "In the past we've used TensorFlow to create our own models layer by layer from scratch.\n",
        "\n",
        "Now we're going to do a similar process, except the majority of our model's layers are going to come from TensorFlow Hub.\n",
        "\n",
        "We can access pretrained models on: https://tfhub.dev/\n",
        "\n",
        "Browsing the TensorFlow Hub page and sorting for image classification, we found the following feature vector model link: https://tfhub.dev/tensorflow/efficientnet/b0/feature-vector/1\n",
        "\n",
        "and\n",
        "\n",
        "https://tfhub.dev/google/imagenet/resnet_v2_50/feature_vector/5\n"
      ],
      "metadata": {
        "id": "aee2E4r7kKTN"
      }
    },
    {
      "cell_type": "code",
      "source": [
        "# Let's compare the following two models\n",
        "resnet_url = \"https://tfhub.dev/google/imagenet/resnet_v2_50/feature_vector/5\"\n",
        "effnet_url = \"https://tfhub.dev/tensorflow/efficientnet/b0/feature-vector/1\""
      ],
      "metadata": {
        "id": "UeuVx8z5kOAZ"
      },
      "execution_count": 9,
      "outputs": []
    },
    {
      "cell_type": "code",
      "source": [
        "# Import tools :)\n",
        "import pathlib\n",
        "import os\n",
        "import matplotlib.pyplot as plt\n",
        "import matplotlib.image as mpimg\n",
        "import random\n",
        "import numpy as np\n",
        "import tensorflow as tf\n",
        "import tensorflow_hub as hub\n",
        "from tensorflow.keras.preprocessing.image import ImageDataGenerator\n",
        "from tensorflow.keras.models import Sequential\n",
        "from tensorflow.keras.layers import Conv2D, MaxPool2D, Dense, Activation\n",
        "from tensorflow.keras.layers import Flatten\n",
        "from tensorflow.keras.optimizers import Adam\n",
        "from tensorflow.keras import layers"
      ],
      "metadata": {
        "id": "YynJ_oIDhdlL"
      },
      "execution_count": 10,
      "outputs": []
    },
    {
      "cell_type": "code",
      "source": [
        "# Let's make a create_model() function to create a model from a URL\n",
        "def create_model(model_url, num_classes=10):\n",
        "  \"\"\"\n",
        "  Takes a TensorFlow Hub URL and creates a Keras Sequential model with it.\n",
        "\n",
        "  Args:\n",
        "    model_url (str): A TensorFlow Hub feature extraction URL.\n",
        "    num_classes (int): Number of output neurons in the output layer,\n",
        "      should be equal to number of target classes, default 10.\n",
        "  \n",
        "  Returns:\n",
        "    An uncompiled Keras Sequential model with model_url as feature extractor\n",
        "    layer and Dense output layer with num_classes output neurons.\n",
        "  \"\"\"\n",
        "  # Download the pretrained model and save it as a Keras layer\n",
        "  feature_extraction_layer = hub.KerasLayer(model_url,\n",
        "                                           trainable=False, # freeze the already learned patterns\n",
        "                                           name=\"feature_extraction_layer\",\n",
        "                                           input_shape=IMAGE_SHAPE+(3,))\n",
        "  \n",
        "  # Create our model\n",
        "  model = tf.keras.Sequential([\n",
        "      feature_extraction_layer,\n",
        "      layers.Dense(num_classes, activation=\"softmax\", name=\"output_layer\")\n",
        "  ])\n",
        "\n",
        "  return model"
      ],
      "metadata": {
        "id": "8eAY-ZHPkKLg"
      },
      "execution_count": 11,
      "outputs": []
    },
    {
      "cell_type": "markdown",
      "source": [
        "### Creating and testing ResNet TensorFlow Hub Feature Extraction model"
      ],
      "metadata": {
        "id": "ca_f6XvfmwRu"
      }
    },
    {
      "cell_type": "code",
      "source": [
        "# Create Resnet model\n",
        "resnet_model = create_model(resnet_url,\n",
        "                            num_classes=train_data_10_percent.num_classes)"
      ],
      "metadata": {
        "id": "o-2vaypOm_Bn"
      },
      "execution_count": 23,
      "outputs": []
    },
    {
      "cell_type": "code",
      "source": [
        "resnet_model.summary()"
      ],
      "metadata": {
        "colab": {
          "base_uri": "https://localhost:8080/"
        },
        "id": "jdbvEqi-nrsR",
        "outputId": "34b77f5a-2781-419f-df65-659d24ad6b24"
      },
      "execution_count": 24,
      "outputs": [
        {
          "output_type": "stream",
          "name": "stdout",
          "text": [
            "Model: \"sequential_1\"\n",
            "_________________________________________________________________\n",
            " Layer (type)                Output Shape              Param #   \n",
            "=================================================================\n",
            " feature_extraction_layer (K  (None, 2048)             23564800  \n",
            " erasLayer)                                                      \n",
            "                                                                 \n",
            " output_layer (Dense)        (None, 10)                20490     \n",
            "                                                                 \n",
            "=================================================================\n",
            "Total params: 23,585,290\n",
            "Trainable params: 20,490\n",
            "Non-trainable params: 23,564,800\n",
            "_________________________________________________________________\n"
          ]
        }
      ]
    },
    {
      "cell_type": "code",
      "source": [
        "# Compile our Resnet model\n",
        "resnet_model.compile(loss=tf.keras.losses.CategoricalCrossentropy(),\n",
        "                     optimizer=Adam(),\n",
        "                     metrics=[\"accuracy\"])"
      ],
      "metadata": {
        "id": "W3CJ_4IInPhU"
      },
      "execution_count": 25,
      "outputs": []
    },
    {
      "cell_type": "code",
      "source": [
        "# Let's fit our ResNet model to the data (10 percent of 10 classes)\n",
        "history_resnet = resnet_model.fit(train_data_10_percent,\n",
        "                                  epochs=5,\n",
        "                                  steps_per_epoch=len(train_data_10_percent),\n",
        "                                  validation_data=test_data,\n",
        "                                  validation_steps=len(test_data),\n",
        "                                  callbacks=[create_tensorboard_callback(dir_name=\"tensorflow_hub\",\n",
        "                                                                         experiment_name=\"resnet50v2\")])"
      ],
      "metadata": {
        "colab": {
          "base_uri": "https://localhost:8080/"
        },
        "id": "3HF2VQLVn2FI",
        "outputId": "286bc6da-08dd-4d43-ac7e-28c43a0833c3"
      },
      "execution_count": 26,
      "outputs": [
        {
          "output_type": "stream",
          "name": "stdout",
          "text": [
            "Saving TensorBoard log files to: tensorflow_hub/resnet50v2/20230121-234854\n",
            "Epoch 1/5\n",
            "24/24 [==============================] - 19s 678ms/step - loss: 1.9069 - accuracy: 0.3840 - val_loss: 1.1887 - val_accuracy: 0.6300\n",
            "Epoch 2/5\n",
            "24/24 [==============================] - 15s 650ms/step - loss: 0.9062 - accuracy: 0.7280 - val_loss: 0.8530 - val_accuracy: 0.7180\n",
            "Epoch 3/5\n",
            "24/24 [==============================] - 15s 648ms/step - loss: 0.6299 - accuracy: 0.8267 - val_loss: 0.7524 - val_accuracy: 0.7540\n",
            "Epoch 4/5\n",
            "24/24 [==============================] - 15s 655ms/step - loss: 0.4791 - accuracy: 0.8773 - val_loss: 0.7305 - val_accuracy: 0.7632\n",
            "Epoch 5/5\n",
            "24/24 [==============================] - 15s 649ms/step - loss: 0.3846 - accuracy: 0.9187 - val_loss: 0.6897 - val_accuracy: 0.7692\n"
          ]
        }
      ]
    },
    {
      "cell_type": "markdown",
      "source": [
        "Wow!\n",
        "\n",
        "That. Is. Increadible. Our transfer learning feature extraction model out performed ALL of the previous models we build by hand... (substantially) and quicker training time AND with only 10% of training examples."
      ],
      "metadata": {
        "id": "vDYouH6oocjT"
      }
    },
    {
      "cell_type": "code",
      "source": [
        "# Let create a function to plot our loss curves\n",
        "# Tidbit: you could put a function like this into a script called \"helper.py\" and import it when you need it...\n",
        "def plot_loss_curves(history):\n",
        "  \"\"\"\n",
        "  Returns seperate loss curves for training and validation metrics.\n",
        "\n",
        "  Args:\n",
        "    history: TensorFlow History object.\n",
        "\n",
        "  Returns:\n",
        "    Plot of training/validation loss and accuracy metrics.\n",
        "  \"\"\"\n",
        "\n",
        "  loss = history.history[\"loss\"]\n",
        "  val_loss = history.history[\"val_loss\"]\n",
        "\n",
        "  accuracy = history.history[\"accuracy\"]\n",
        "  val_accuracy = history.history[\"val_accuracy\"]\n",
        "\n",
        "  epochs = range(len(history.history[\"loss\"]))\n",
        "\n",
        "  # Plot loss\n",
        "  plt.plot(epochs, loss, label=\"training_loss\")\n",
        "  plt.plot(epochs, val_loss, label=\"val_loss\")\n",
        "  plt.title(\"Loss\")\n",
        "  plt.xlabel(\"Epochs\")\n",
        "  plt.legend()\n",
        "\n",
        "  # Plot accuracy\n",
        "\n",
        "  plt.figure()\n",
        "  plt.plot(epochs, accuracy, label=\"training_accuracy\")\n",
        "  plt.plot(epochs, val_accuracy, label=\"val_accuracy\")\n",
        "  plt.title(\"Accuracy\")\n",
        "  plt.xlabel(\"Epochs\")\n",
        "  plt.legend();"
      ],
      "metadata": {
        "id": "XtGxrqo3rhyE"
      },
      "execution_count": 20,
      "outputs": []
    },
    {
      "cell_type": "code",
      "source": [
        "plot_loss_curves(history_resnet)"
      ],
      "metadata": {
        "colab": {
          "base_uri": "https://localhost:8080/",
          "height": 573
        },
        "id": "Y6LTbhubt54A",
        "outputId": "730621c8-d63f-411f-c263-91b7e78e3c30"
      },
      "execution_count": 27,
      "outputs": [
        {
          "output_type": "display_data",
          "data": {
            "text/plain": [
              "<Figure size 432x288 with 1 Axes>"
            ],
            "image/png": "[encoded data removed]"
          },
          "metadata": {
            "needs_background": "light"
          }
        },
        {
          "output_type": "display_data",
          "data": {
            "text/plain": [
              "<Figure size 432x288 with 1 Axes>"
            ],
            "image/png": "[encoded data removed]"
          },
          "metadata": {
            "needs_background": "light"
          }
        }
      ]
    },
    {
      "cell_type": "markdown",
      "source": [
        "### Creating and testing EfficientNetB0 TensorFlow Hub Feature Extraction model"
      ],
      "metadata": {
        "id": "Yat7nRLwt_Ly"
      }
    },
    {
      "cell_type": "code",
      "source": [
        "# Create EfficientNetB0 feature extraction model \n",
        "effnet_model = create_model(effnet_url)"
      ],
      "metadata": {
        "id": "JrbDj7CkvlXv"
      },
      "execution_count": 28,
      "outputs": []
    },
    {
      "cell_type": "code",
      "source": [
        "# Compile the model\n",
        "effnet_model.compile(loss=tf.keras.losses.CategoricalCrossentropy(),\n",
        "                     optimizer=Adam(),\n",
        "                     metrics=[\"accuracy\"])"
      ],
      "metadata": {
        "id": "xbM-BBZTv1mS"
      },
      "execution_count": 29,
      "outputs": []
    },
    {
      "cell_type": "code",
      "source": [
        "# Fit EfficientNetB0 model\n",
        "history_effnet = effnet_model.fit(train_data_10_percent,\n",
        "                                  epochs=5,\n",
        "                                  steps_per_epoch=len(train_data_10_percent),\n",
        "                                  validation_data=test_data,\n",
        "                                  validation_steps=len(test_data),\n",
        "                                  callbacks=create_tensorboard_callback(dir_name=\"tensorflow_hub\",\n",
        "                                                                        experiment_name=\"effnetb0\"))"
      ],
      "metadata": {
        "colab": {
          "base_uri": "https://localhost:8080/"
        },
        "id": "unn3is7xwFvZ",
        "outputId": "e6c32de5-469e-49e8-aa88-1e5045e8c59b"
      },
      "execution_count": 30,
      "outputs": [
        {
          "output_type": "stream",
          "name": "stdout",
          "text": [
            "Saving TensorBoard log files to: tensorflow_hub/effnetb0/20230121-235809\n",
            "Epoch 1/5\n",
            "24/24 [==============================] - 24s 679ms/step - loss: 1.8611 - accuracy: 0.4200 - val_loss: 1.2831 - val_accuracy: 0.7292\n",
            "Epoch 2/5\n",
            "24/24 [==============================] - 15s 643ms/step - loss: 1.0648 - accuracy: 0.7653 - val_loss: 0.8631 - val_accuracy: 0.8180\n",
            "Epoch 3/5\n",
            "24/24 [==============================] - 14s 611ms/step - loss: 0.7664 - accuracy: 0.8333 - val_loss: 0.6992 - val_accuracy: 0.8404\n",
            "Epoch 4/5\n",
            "24/24 [==============================] - 14s 618ms/step - loss: 0.6181 - accuracy: 0.8547 - val_loss: 0.6076 - val_accuracy: 0.8580\n",
            "Epoch 5/5\n",
            "24/24 [==============================] - 14s 615ms/step - loss: 0.5201 - accuracy: 0.8880 - val_loss: 0.5552 - val_accuracy: 0.8668\n"
          ]
        }
      ]
    },
    {
      "cell_type": "code",
      "source": [
        "plot_loss_curves(history_effnet)"
      ],
      "metadata": {
        "colab": {
          "base_uri": "https://localhost:8080/",
          "height": 573
        },
        "id": "h4tu5_A6xJ2m",
        "outputId": "baa226eb-189f-4782-9594-6da8295e0762"
      },
      "execution_count": 31,
      "outputs": [
        {
          "output_type": "display_data",
          "data": {
            "text/plain": [
              "<Figure size 432x288 with 1 Axes>"
            ],
            "image/png": "[encoded data removed]"
          },
          "metadata": {
            "needs_background": "light"
          }
        },
        {
          "output_type": "display_data",
          "data": {
            "text/plain": [
              "<Figure size 432x288 with 1 Axes>"
            ],
            "image/png": "[encoded data removed]"
          },
          "metadata": {
            "needs_background": "light"
          }
        }
      ]
    },
    {
      "cell_type": "code",
      "source": [
        "effb7_url = \"https://tfhub.dev/google/efficientnet/b7/feature-vector/1\""
      ],
      "metadata": {
        "id": "ddzMaqtF0XxC"
      },
      "execution_count": 35,
      "outputs": []
    },
    {
      "cell_type": "code",
      "source": [
        "effb7_model = create_model(effb7_url,\n",
        "                           num_classes=train_data_10_percent.num_classes)"
      ],
      "metadata": {
        "id": "oaROXEcP1Jb9"
      },
      "execution_count": 36,
      "outputs": []
    },
    {
      "cell_type": "code",
      "source": [
        "effb7_model.compile(loss=tf.keras.losses.CategoricalCrossentropy(),\n",
        "                    optimizer=Adam(),\n",
        "                    metrics=[\"accuracy\"])\n",
        "\n",
        "effb7_history = effb7_model.fit(train_data_10_percent,\n",
        "                                epochs=5,\n",
        "                                steps_per_epoch=len(train_data_10_percent),\n",
        "                                validation_data=test_data,\n",
        "                                validation_steps=len(test_data),\n",
        "                                callbacks=create_tensorboard_callback(dir_name=\"tensorflow_hub\",\n",
        "                                                                      experiment_name=\"efficientnetb7\"))"
      ],
      "metadata": {
        "colab": {
          "base_uri": "https://localhost:8080/"
        },
        "id": "iI62raDJ1bAA",
        "outputId": "27780b20-e2c3-4127-d1f6-7707ec009910"
      },
      "execution_count": 37,
      "outputs": [
        {
          "output_type": "stream",
          "name": "stdout",
          "text": [
            "Saving TensorBoard log files to: tensorflow_hub/efficientnetb7/20230122-002046\n",
            "Epoch 1/5\n",
            "24/24 [==============================] - 50s 2s/step - loss: 1.6078 - accuracy: 0.5373 - val_loss: 0.9784 - val_accuracy: 0.7684\n",
            "Epoch 2/5\n",
            "24/24 [==============================] - 34s 1s/step - loss: 0.8048 - accuracy: 0.8040 - val_loss: 0.6795 - val_accuracy: 0.8368\n",
            "Epoch 3/5\n",
            "24/24 [==============================] - 35s 1s/step - loss: 0.5872 - accuracy: 0.8560 - val_loss: 0.5803 - val_accuracy: 0.8452\n",
            "Epoch 4/5\n",
            "24/24 [==============================] - 35s 1s/step - loss: 0.4837 - accuracy: 0.8893 - val_loss: 0.5342 - val_accuracy: 0.8460\n",
            "Epoch 5/5\n",
            "24/24 [==============================] - 35s 2s/step - loss: 0.4126 - accuracy: 0.9080 - val_loss: 0.4982 - val_accuracy: 0.8552\n"
          ]
        }
      ]
    },
    {
      "cell_type": "code",
      "source": [
        "plot_loss_curves(effb7_history)"
      ],
      "metadata": {
        "colab": {
          "base_uri": "https://localhost:8080/",
          "height": 573
        },
        "id": "13RgjALN2VRJ",
        "outputId": "220536f4-cf33-4db6-a215-cf07e2bbc37f"
      },
      "execution_count": 38,
      "outputs": [
        {
          "output_type": "display_data",
          "data": {
            "text/plain": [
              "<Figure size 432x288 with 1 Axes>"
            ],
            "image/png": "[encoded data removed]"
          },
          "metadata": {
            "needs_background": "light"
          }
        },
        {
          "output_type": "display_data",
          "data": {
            "text/plain": [
              "<Figure size 432x288 with 1 Axes>"
            ],
            "image/png": "[encoded data removed]"
          },
          "metadata": {
            "needs_background": "light"
          }
        }
      ]
    },
    {
      "cell_type": "markdown",
      "source": [
        "## Different types of transfer learning\n",
        "\n",
        "* **\"As is\" transfer learning** - using an existing model with no changes what so ever (e.g using ImageNet model on 1000 ImageNet classes, none of your own)\n",
        "* **\"Feature extraction\"** transfer learning - use the prelearned patters of an existing model (e.g. EfficientNetB0 trained on ImageNet) and adjust the output layer for your own problem (e.g. 1000 classes -> 10 classes of food)\n",
        "* **\"Fine-tuning\"** transfer learning - use the prelearned patterns of an existing model and \"fine-tune\" many or all of the underlying layers (including new output layers)"
      ],
      "metadata": {
        "id": "PL4qW6k43L3T"
      }
    },
    {
      "cell_type": "markdown",
      "source": [
        "## Comparing our models results using TensorBoard\n",
        "\n",
        "> 🔑 **Note:** When you upload things to TensorBoard.dev, you experiments are public. So if you're running private experiments (things you don't want others see) do not upload them to TensorBoard.dev."
      ],
      "metadata": {
        "id": "iOJK8gFS5coN"
      }
    },
    {
      "cell_type": "code",
      "source": [
        "# Upload TensorBoard dev records\n",
        "!tensorboard dev upload --logdir ./tensorflow_hub/ \\\n",
        "  --name \"EfficientNetB0 vs ResNetV250 vs EfficientNetB7\" \\\n",
        "  --description \"Compering three different TF Hub feature extraction model architectures using 10% of the training data.\" \\\n",
        "  --one_shot"
      ],
      "metadata": {
        "colab": {
          "base_uri": "https://localhost:8080/"
        },
        "id": "iw1ZcC1o7Kdv",
        "outputId": "42770e11-0527-45c1-9dbd-025daccdebb4"
      },
      "execution_count": 40,
      "outputs": [
        {
          "output_type": "stream",
          "name": "stdout",
          "text": [
            "\n",
            "***** TensorBoard Uploader *****\n",
            "\n",
            "This will upload your TensorBoard logs to https://tensorboard.dev/ from\n",
            "the following directory:\n",
            "\n",
            "./tensorflow_hub/\n",
            "\n",
            "This TensorBoard will be visible to everyone. Do not upload sensitive\n",
            "data.\n",
            "\n",
            "Your use of this service is subject to Google's Terms of Service\n",
            "<https://policies.google.com/terms> and Privacy Policy\n",
            "<https://policies.google.com/privacy>, and TensorBoard.dev's Terms of Service\n",
            "<https://tensorboard.dev/policy/terms/>.\n",
            "\n",
            "This notice will not be shown again while you are logged into the uploader.\n",
            "To log out, run `tensorboard dev auth revoke`.\n",
            "\n",
            "Continue? (yes/NO) yes\n",
            "\n",
            "Please visit this URL to authorize this application: https://accounts.google.com/o/oauth2/auth?response_type=code&client_id=373649185512-8v619h5kft38l4456nm2dj4ubeqsrvh6.apps.googleusercontent.com&redirect_uri=urn%3Aietf%3Awg%3Aoauth%3A2.0%3Aoob&scope=openid+https%3A%2F%2Fwww.googleapis.com%2Fauth%2Fuserinfo.email&state=HV9m7Phe7zoL89v9rWOIKXjwpKkVzd&prompt=consent&access_type=offline\n",
            "Enter the authorization code: 4/1AWgavdfbS3Fk5AEK2mxCG1AON2Hb2NxFwFcz4_SScxw-GMF5VWTrm9P6nds\n",
            "\n",
            "\n",
            "New experiment created. View your TensorBoard at: https://tensorboard.dev/experiment/reNBGyJTR8Sy8qU5OGuw4A/\n",
            "\n",
            "\u001b[1m[2023-01-22T00:50:57]\u001b[0m Started scanning logdir.\n",
            "\u001b[1m[2023-01-22T00:51:13]\u001b[0m Total uploaded: 180 scalars, 0 tensors, 6 binary objects (15.8 MB)\n",
            "\u001b[1m[2023-01-22T00:51:13]\u001b[0m Done scanning logdir.\n",
            "\n",
            "\n",
            "Done. View your TensorBoard at https://tensorboard.dev/experiment/reNBGyJTR8Sy8qU5OGuw4A/\n"
          ]
        }
      ]
    },
    {
      "cell_type": "markdown",
      "source": [
        "Our TensorBoard experiments are uploaded publically here: https://tensorboard.dev/experiment/reNBGyJTR8Sy8qU5OGuw4A/"
      ],
      "metadata": {
        "id": "AtXr8ZR39AKo"
      }
    },
    {
      "cell_type": "code",
      "source": [
        "# Check out what TensorBoard experiments you have\n",
        "!tensorboard dev list"
      ],
      "metadata": {
        "colab": {
          "base_uri": "https://localhost:8080/"
        },
        "id": "a0W7Wm6f-nF5",
        "outputId": "d6d4517a-36e0-402a-b5d3-7d8ffef95882"
      },
      "execution_count": 41,
      "outputs": [
        {
          "output_type": "stream",
          "name": "stdout",
          "text": [
            "https://tensorboard.dev/experiment/reNBGyJTR8Sy8qU5OGuw4A/\n",
            "\tName                 EfficientNetB0 vs ResNetV250 vs EfficientNetB7\n",
            "\tDescription          Compering three different TF Hub feature extraction model architectures using 10% of the training data.\n",
            "\tId                   reNBGyJTR8Sy8qU5OGuw4A\n",
            "\tCreated              2023-01-22 00:50:57 (9 minutes ago)\n",
            "\tUpdated              2023-01-22 00:51:13 (8 minutes ago)\n",
            "\tRuns                 12\n",
            "\tTags                 5\n",
            "\tScalars              180\n",
            "\tTensor bytes         0\n",
            "\tBinary object bytes  16613109\n",
            "Total: 1 experiment(s)\n"
          ]
        }
      ]
    },
    {
      "cell_type": "code",
      "source": [
        "# Delete an experiment\n",
        "# !tensorboard dev delete --experiment_id reNBGyJTR8Sy8qU5OGuw4A"
      ],
      "metadata": {
        "id": "bd_NukBc_VKf"
      },
      "execution_count": 42,
      "outputs": []
    },
    {
      "cell_type": "code",
      "source": [
        "# Confirm the deletion by re-checking what experiments you have left\n",
        "!tensorboard dev list"
      ],
      "metadata": {
        "colab": {
          "base_uri": "https://localhost:8080/"
        },
        "id": "dxNnE6f5_tfQ",
        "outputId": "c29c7818-7fd8-4aa4-ca21-ea073b3991f1"
      },
      "execution_count": 43,
      "outputs": [
        {
          "output_type": "stream",
          "name": "stdout",
          "text": [
            "https://tensorboard.dev/experiment/reNBGyJTR8Sy8qU5OGuw4A/\n",
            "\tName                 EfficientNetB0 vs ResNetV250 vs EfficientNetB7\n",
            "\tDescription          Compering three different TF Hub feature extraction model architectures using 10% of the training data.\n",
            "\tId                   reNBGyJTR8Sy8qU5OGuw4A\n",
            "\tCreated              2023-01-22 00:50:57 (11 minutes ago)\n",
            "\tUpdated              2023-01-22 00:51:13 (11 minutes ago)\n",
            "\tRuns                 12\n",
            "\tTags                 5\n",
            "\tScalars              180\n",
            "\tTensor bytes         0\n",
            "\tBinary object bytes  16613109\n",
            "Total: 1 experiment(s)\n"
          ]
        }
      ]
    },
    {
      "cell_type": "code",
      "source": [],
      "metadata": {
        "id": "dNp2qRrN_0rs"
      },
      "execution_count": null,
      "outputs": []
    }
  ]
}