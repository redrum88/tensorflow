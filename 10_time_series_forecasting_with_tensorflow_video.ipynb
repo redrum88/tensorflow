{
  "nbformat": 4,
  "nbformat_minor": 0,
  "metadata": {
    "colab": {
      "provenance": [],
      "toc_visible": true,
      "authorship_tag": "ABX9TyO/qmWDvw7gtfK4plGGvI6F",
      "include_colab_link": true
    },
    "kernelspec": {
      "name": "python3",
      "display_name": "Python 3"
    },
    "language_info": {
      "name": "python"
    }
  },
  "cells": [
    {
      "cell_type": "markdown",
      "metadata": {
        "id": "view-in-github",
        "colab_type": "text"
      },
      "source": [
        "<a href=\"https://colab.research.google.com/github/redrum88/tensorflow/blob/main/10_time_series_forecasting_with_tensorflow_video.ipynb\" target=\"_parent\"><img src=\"https://colab.research.google.com/assets/colab-badge.svg\" alt=\"Open In Colab\"/></a>"
      ]
    },
    {
      "cell_type": "markdown",
      "source": [
        "# Time series forecasting fundamentals with TensorFlow + Milestone Project 3: BitPredict 💰📈\n",
        "\n",
        "Let's write some TensorFlow code to predict the price of Bitcoin based on the historical price of Bitcoin.\n",
        "\n",
        "⚠️ **Note:** This is not financial advice.\n",
        "\n",
        "Links:\n",
        "* All resources: https://github.com/mrdbourke/tensorflow-deep-learning\n",
        "* Book version of actual code/text: https://dev.mrdbourke.com/tensorflow-deep-learning/10_time_series_forecasting_in_tensorflow/"
      ],
      "metadata": {
        "id": "ey-gL1ik3vdM"
      }
    },
    {
      "cell_type": "markdown",
      "source": [
        "## Get data"
      ],
      "metadata": {
        "id": "Vh9-NGJ1Loia"
      }
    },
    {
      "cell_type": "code",
      "source": [
        "!wget https://raw.githubusercontent.com/mrdbourke/tensorflow-deep-learning/main/extras/BTC_USD_2013-10-01_2021-05-18-CoinDesk.csv"
      ],
      "metadata": {
        "colab": {
          "base_uri": "https://localhost:8080/"
        },
        "id": "RVf7ux70MIyk",
        "outputId": "f61f6e1a-1f6f-4f72-94ba-2e1ecf27c8dc"
      },
      "execution_count": 1,
      "outputs": [
        {
          "output_type": "stream",
          "name": "stdout",
          "text": [
            "--2023-03-05 19:56:47--  https://raw.githubusercontent.com/mrdbourke/tensorflow-deep-learning/main/extras/BTC_USD_2013-10-01_2021-05-18-CoinDesk.csv\n",
            "Resolving raw.githubusercontent.com (raw.githubusercontent.com)... 185.199.108.133, 185.199.109.133, 185.199.110.133, ...\n",
            "Connecting to raw.githubusercontent.com (raw.githubusercontent.com)|185.199.108.133|:443... connected.\n",
            "HTTP request sent, awaiting response... 200 OK\n",
            "Length: 178509 (174K) [text/plain]\n",
            "Saving to: ‘BTC_USD_2013-10-01_2021-05-18-CoinDesk.csv’\n",
            "\n",
            "BTC_USD_2013-10-01_ 100%[===================>] 174.33K  --.-KB/s    in 0.03s   \n",
            "\n",
            "2023-03-05 19:56:47 (5.65 MB/s) - ‘BTC_USD_2013-10-01_2021-05-18-CoinDesk.csv’ saved [178509/178509]\n",
            "\n"
          ]
        }
      ]
    },
    {
      "cell_type": "markdown",
      "source": [
        "## Importing time series with pandas"
      ],
      "metadata": {
        "id": "Ku7JJi7vQehf"
      }
    },
    {
      "cell_type": "code",
      "source": [
        "# Import with pandas\n",
        "import pandas as pd\n",
        "# Let's read in our Bitcoin data and parse the dates\n",
        "df = pd.read_csv(\"/content/BTC_USD_2013-10-01_2021-05-18-CoinDesk.csv\",\n",
        "                 parse_dates=[\"Date\"],\n",
        "                 index_col=[\"Date\"])\n",
        "df.head()"
      ],
      "metadata": {
        "colab": {
          "base_uri": "https://localhost:8080/",
          "height": 238
        },
        "id": "gmH5iJVzQi5i",
        "outputId": "abc1e86d-c9da-476f-d759-c95f2d2b7079"
      },
      "execution_count": 2,
      "outputs": [
        {
          "output_type": "execute_result",
          "data": {
            "text/plain": [
              "           Currency  Closing Price (USD)  24h Open (USD)  24h High (USD)  \\\n",
              "Date                                                                       \n",
              "2013-10-01      BTC            123.65499       124.30466       124.75166   \n",
              "2013-10-02      BTC            125.45500       123.65499       125.75850   \n",
              "2013-10-03      BTC            108.58483       125.45500       125.66566   \n",
              "2013-10-04      BTC            118.67466       108.58483       118.67500   \n",
              "2013-10-05      BTC            121.33866       118.67466       121.93633   \n",
              "\n",
              "            24h Low (USD)  \n",
              "Date                       \n",
              "2013-10-01      122.56349  \n",
              "2013-10-02      123.63383  \n",
              "2013-10-03       83.32833  \n",
              "2013-10-04      107.05816  \n",
              "2013-10-05      118.00566  "
            ],
            "text/html": [
              "\n",
              "  <div id=\"df-674fe3de-c016-4d06-aa54-30fa06e12588\">\n",
              "    <div class=\"colab-df-container\">\n",
              "      <div>\n",
              "<style scoped>\n",
              "    .dataframe tbody tr th:only-of-type {\n",
              "        vertical-align: middle;\n",
              "    }\n",
              "\n",
              "    .dataframe tbody tr th {\n",
              "        vertical-align: top;\n",
              "    }\n",
              "\n",
              "    .dataframe thead th {\n",
              "        text-align: right;\n",
              "    }\n",
              "</style>\n",
              "<table border=\"1\" class=\"dataframe\">\n",
              "  <thead>\n",
              "    <tr style=\"text-align: right;\">\n",
              "      <th></th>\n",
              "      <th>Currency</th>\n",
              "      <th>Closing Price (USD)</th>\n",
              "      <th>24h Open (USD)</th>\n",
              "      <th>24h High (USD)</th>\n",
              "      <th>24h Low (USD)</th>\n",
              "    </tr>\n",
              "    <tr>\n",
              "      <th>Date</th>\n",
              "      <th></th>\n",
              "      <th></th>\n",
              "      <th></th>\n",
              "      <th></th>\n",
              "      <th></th>\n",
              "    </tr>\n",
              "  </thead>\n",
              "  <tbody>\n",
              "    <tr>\n",
              "      <th>2013-10-01</th>\n",
              "      <td>BTC</td>\n",
              "      <td>123.65499</td>\n",
              "      <td>124.30466</td>\n",
              "      <td>124.75166</td>\n",
              "      <td>122.56349</td>\n",
              "    </tr>\n",
              "    <tr>\n",
              "      <th>2013-10-02</th>\n",
              "      <td>BTC</td>\n",
              "      <td>125.45500</td>\n",
              "      <td>123.65499</td>\n",
              "      <td>125.75850</td>\n",
              "      <td>123.63383</td>\n",
              "    </tr>\n",
              "    <tr>\n",
              "      <th>2013-10-03</th>\n",
              "      <td>BTC</td>\n",
              "      <td>108.58483</td>\n",
              "      <td>125.45500</td>\n",
              "      <td>125.66566</td>\n",
              "      <td>83.32833</td>\n",
              "    </tr>\n",
              "    <tr>\n",
              "      <th>2013-10-04</th>\n",
              "      <td>BTC</td>\n",
              "      <td>118.67466</td>\n",
              "      <td>108.58483</td>\n",
              "      <td>118.67500</td>\n",
              "      <td>107.05816</td>\n",
              "    </tr>\n",
              "    <tr>\n",
              "      <th>2013-10-05</th>\n",
              "      <td>BTC</td>\n",
              "      <td>121.33866</td>\n",
              "      <td>118.67466</td>\n",
              "      <td>121.93633</td>\n",
              "      <td>118.00566</td>\n",
              "    </tr>\n",
              "  </tbody>\n",
              "</table>\n",
              "</div>\n",
              "      <button class=\"colab-df-convert\" onclick=\"convertToInteractive('df-674fe3de-c016-4d06-aa54-30fa06e12588')\"\n",
              "              title=\"Convert this dataframe to an interactive table.\"\n",
              "              style=\"display:none;\">\n",
              "        \n",
              "  <svg xmlns=\"http://www.w3.org/2000/svg\" height=\"24px\"viewBox=\"0 0 24 24\"\n",
              "       width=\"24px\">\n",
              "    <path d=\"M0 0h24v24H0V0z\" fill=\"none\"/>\n",
              "    <path d=\"M18.56 5.44l.94 2.06.94-2.06 2.06-.94-2.06-.94-.94-2.06-.94 2.06-2.06.94zm-11 1L8.5 8.5l.94-2.06 2.06-.94-2.06-.94L8.5 2.5l-.94 2.06-2.06.94zm10 10l.94 2.06.94-2.06 2.06-.94-2.06-.94-.94-2.06-.94 2.06-2.06.94z\"/><path d=\"M17.41 7.96l-1.37-1.37c-.4-.4-.92-.59-1.43-.59-.52 0-1.04.2-1.43.59L10.3 9.45l-7.72 7.72c-.78.78-.78 2.05 0 2.83L4 21.41c.39.39.9.59 1.41.59.51 0 1.02-.2 1.41-.59l7.78-7.78 2.81-2.81c.8-.78.8-2.07 0-2.86zM5.41 20L4 18.59l7.72-7.72 1.47 1.35L5.41 20z\"/>\n",
              "  </svg>\n",
              "      </button>\n",
              "      \n",
              "  <style>\n",
              "    .colab-df-container {\n",
              "      display:flex;\n",
              "      flex-wrap:wrap;\n",
              "      gap: 12px;\n",
              "    }\n",
              "\n",
              "    .colab-df-convert {\n",
              "      background-color: #E8F0FE;\n",
              "      border: none;\n",
              "      border-radius: 50%;\n",
              "      cursor: pointer;\n",
              "      display: none;\n",
              "      fill: #1967D2;\n",
              "      height: 32px;\n",
              "      padding: 0 0 0 0;\n",
              "      width: 32px;\n",
              "    }\n",
              "\n",
              "    .colab-df-convert:hover {\n",
              "      background-color: #E2EBFA;\n",
              "      box-shadow: 0px 1px 2px rgba(60, 64, 67, 0.3), 0px 1px 3px 1px rgba(60, 64, 67, 0.15);\n",
              "      fill: #174EA6;\n",
              "    }\n",
              "\n",
              "    [theme=dark] .colab-df-convert {\n",
              "      background-color: #3B4455;\n",
              "      fill: #D2E3FC;\n",
              "    }\n",
              "\n",
              "    [theme=dark] .colab-df-convert:hover {\n",
              "      background-color: #434B5C;\n",
              "      box-shadow: 0px 1px 3px 1px rgba(0, 0, 0, 0.15);\n",
              "      filter: drop-shadow(0px 1px 2px rgba(0, 0, 0, 0.3));\n",
              "      fill: #FFFFFF;\n",
              "    }\n",
              "  </style>\n",
              "\n",
              "      <script>\n",
              "        const buttonEl =\n",
              "          document.querySelector('#df-674fe3de-c016-4d06-aa54-30fa06e12588 button.colab-df-convert');\n",
              "        buttonEl.style.display =\n",
              "          google.colab.kernel.accessAllowed ? 'block' : 'none';\n",
              "\n",
              "        async function convertToInteractive(key) {\n",
              "          const element = document.querySelector('#df-674fe3de-c016-4d06-aa54-30fa06e12588');\n",
              "          const dataTable =\n",
              "            await google.colab.kernel.invokeFunction('convertToInteractive',\n",
              "                                                     [key], {});\n",
              "          if (!dataTable) return;\n",
              "\n",
              "          const docLinkHtml = 'Like what you see? Visit the ' +\n",
              "            '<a target=\"_blank\" href=https://colab.research.google.com/notebooks/data_table.ipynb>data table notebook</a>'\n",
              "            + ' to learn more about interactive tables.';\n",
              "          element.innerHTML = '';\n",
              "          dataTable['output_type'] = 'display_data';\n",
              "          await google.colab.output.renderOutput(dataTable, element);\n",
              "          const docLink = document.createElement('div');\n",
              "          docLink.innerHTML = docLinkHtml;\n",
              "          element.appendChild(docLink);\n",
              "        }\n",
              "      </script>\n",
              "    </div>\n",
              "  </div>\n",
              "  "
            ]
          },
          "metadata": {},
          "execution_count": 2
        }
      ]
    },
    {
      "cell_type": "code",
      "source": [
        "df.info()"
      ],
      "metadata": {
        "colab": {
          "base_uri": "https://localhost:8080/"
        },
        "id": "-YECFPH0RXuw",
        "outputId": "8cc7e58d-566c-489c-d40b-adec16417368"
      },
      "execution_count": 3,
      "outputs": [
        {
          "output_type": "stream",
          "name": "stdout",
          "text": [
            "<class 'pandas.core.frame.DataFrame'>\n",
            "DatetimeIndex: 2787 entries, 2013-10-01 to 2021-05-18\n",
            "Data columns (total 5 columns):\n",
            " #   Column               Non-Null Count  Dtype  \n",
            "---  ------               --------------  -----  \n",
            " 0   Currency             2787 non-null   object \n",
            " 1   Closing Price (USD)  2787 non-null   float64\n",
            " 2   24h Open (USD)       2787 non-null   float64\n",
            " 3   24h High (USD)       2787 non-null   float64\n",
            " 4   24h Low (USD)        2787 non-null   float64\n",
            "dtypes: float64(4), object(1)\n",
            "memory usage: 130.6+ KB\n"
          ]
        }
      ]
    },
    {
      "cell_type": "markdown",
      "source": [
        "We've collected the historical price of Bitcoin for the past 8 years but there's 2787 samples.\n",
        "\n",
        "Typically deep learning models usually like lots and lots and lots of samples.\n",
        "\n",
        "A smaller number of samples is something you'll often run into  with time series data problems. \n",
        "\n",
        "> 🔑 **Note:** The **seasonality** of time series dataset is referred as the number of samples per year. So for our Bitcoin data, it has a seasonality of daily or value of 365 because we collect one sample per day meaning we'll get 365 samples per year.\n",
        "\n"
      ],
      "metadata": {
        "id": "S-BegIE8RdkB"
      }
    },
    {
      "cell_type": "code",
      "source": [
        "# Only want closing price for each day\n",
        "bitcoin_prices = pd.DataFrame(df[\"Closing Price (USD)\"]).rename(columns={\"Closing Price (USD)\": \"Price\"})\n",
        "bitcoin_prices.head()"
      ],
      "metadata": {
        "colab": {
          "base_uri": "https://localhost:8080/",
          "height": 238
        },
        "id": "DQSLlynVWCjR",
        "outputId": "92e78e10-2318-4032-fef1-eb787a4701ac"
      },
      "execution_count": 4,
      "outputs": [
        {
          "output_type": "execute_result",
          "data": {
            "text/plain": [
              "                Price\n",
              "Date                 \n",
              "2013-10-01  123.65499\n",
              "2013-10-02  125.45500\n",
              "2013-10-03  108.58483\n",
              "2013-10-04  118.67466\n",
              "2013-10-05  121.33866"
            ],
            "text/html": [
              "\n",
              "  <div id=\"df-f4cf7c68-2be4-4eec-9e44-84ce5e45538d\">\n",
              "    <div class=\"colab-df-container\">\n",
              "      <div>\n",
              "<style scoped>\n",
              "    .dataframe tbody tr th:only-of-type {\n",
              "        vertical-align: middle;\n",
              "    }\n",
              "\n",
              "    .dataframe tbody tr th {\n",
              "        vertical-align: top;\n",
              "    }\n",
              "\n",
              "    .dataframe thead th {\n",
              "        text-align: right;\n",
              "    }\n",
              "</style>\n",
              "<table border=\"1\" class=\"dataframe\">\n",
              "  <thead>\n",
              "    <tr style=\"text-align: right;\">\n",
              "      <th></th>\n",
              "      <th>Price</th>\n",
              "    </tr>\n",
              "    <tr>\n",
              "      <th>Date</th>\n",
              "      <th></th>\n",
              "    </tr>\n",
              "  </thead>\n",
              "  <tbody>\n",
              "    <tr>\n",
              "      <th>2013-10-01</th>\n",
              "      <td>123.65499</td>\n",
              "    </tr>\n",
              "    <tr>\n",
              "      <th>2013-10-02</th>\n",
              "      <td>125.45500</td>\n",
              "    </tr>\n",
              "    <tr>\n",
              "      <th>2013-10-03</th>\n",
              "      <td>108.58483</td>\n",
              "    </tr>\n",
              "    <tr>\n",
              "      <th>2013-10-04</th>\n",
              "      <td>118.67466</td>\n",
              "    </tr>\n",
              "    <tr>\n",
              "      <th>2013-10-05</th>\n",
              "      <td>121.33866</td>\n",
              "    </tr>\n",
              "  </tbody>\n",
              "</table>\n",
              "</div>\n",
              "      <button class=\"colab-df-convert\" onclick=\"convertToInteractive('df-f4cf7c68-2be4-4eec-9e44-84ce5e45538d')\"\n",
              "              title=\"Convert this dataframe to an interactive table.\"\n",
              "              style=\"display:none;\">\n",
              "        \n",
              "  <svg xmlns=\"http://www.w3.org/2000/svg\" height=\"24px\"viewBox=\"0 0 24 24\"\n",
              "       width=\"24px\">\n",
              "    <path d=\"M0 0h24v24H0V0z\" fill=\"none\"/>\n",
              "    <path d=\"M18.56 5.44l.94 2.06.94-2.06 2.06-.94-2.06-.94-.94-2.06-.94 2.06-2.06.94zm-11 1L8.5 8.5l.94-2.06 2.06-.94-2.06-.94L8.5 2.5l-.94 2.06-2.06.94zm10 10l.94 2.06.94-2.06 2.06-.94-2.06-.94-.94-2.06-.94 2.06-2.06.94z\"/><path d=\"M17.41 7.96l-1.37-1.37c-.4-.4-.92-.59-1.43-.59-.52 0-1.04.2-1.43.59L10.3 9.45l-7.72 7.72c-.78.78-.78 2.05 0 2.83L4 21.41c.39.39.9.59 1.41.59.51 0 1.02-.2 1.41-.59l7.78-7.78 2.81-2.81c.8-.78.8-2.07 0-2.86zM5.41 20L4 18.59l7.72-7.72 1.47 1.35L5.41 20z\"/>\n",
              "  </svg>\n",
              "      </button>\n",
              "      \n",
              "  <style>\n",
              "    .colab-df-container {\n",
              "      display:flex;\n",
              "      flex-wrap:wrap;\n",
              "      gap: 12px;\n",
              "    }\n",
              "\n",
              "    .colab-df-convert {\n",
              "      background-color: #E8F0FE;\n",
              "      border: none;\n",
              "      border-radius: 50%;\n",
              "      cursor: pointer;\n",
              "      display: none;\n",
              "      fill: #1967D2;\n",
              "      height: 32px;\n",
              "      padding: 0 0 0 0;\n",
              "      width: 32px;\n",
              "    }\n",
              "\n",
              "    .colab-df-convert:hover {\n",
              "      background-color: #E2EBFA;\n",
              "      box-shadow: 0px 1px 2px rgba(60, 64, 67, 0.3), 0px 1px 3px 1px rgba(60, 64, 67, 0.15);\n",
              "      fill: #174EA6;\n",
              "    }\n",
              "\n",
              "    [theme=dark] .colab-df-convert {\n",
              "      background-color: #3B4455;\n",
              "      fill: #D2E3FC;\n",
              "    }\n",
              "\n",
              "    [theme=dark] .colab-df-convert:hover {\n",
              "      background-color: #434B5C;\n",
              "      box-shadow: 0px 1px 3px 1px rgba(0, 0, 0, 0.15);\n",
              "      filter: drop-shadow(0px 1px 2px rgba(0, 0, 0, 0.3));\n",
              "      fill: #FFFFFF;\n",
              "    }\n",
              "  </style>\n",
              "\n",
              "      <script>\n",
              "        const buttonEl =\n",
              "          document.querySelector('#df-f4cf7c68-2be4-4eec-9e44-84ce5e45538d button.colab-df-convert');\n",
              "        buttonEl.style.display =\n",
              "          google.colab.kernel.accessAllowed ? 'block' : 'none';\n",
              "\n",
              "        async function convertToInteractive(key) {\n",
              "          const element = document.querySelector('#df-f4cf7c68-2be4-4eec-9e44-84ce5e45538d');\n",
              "          const dataTable =\n",
              "            await google.colab.kernel.invokeFunction('convertToInteractive',\n",
              "                                                     [key], {});\n",
              "          if (!dataTable) return;\n",
              "\n",
              "          const docLinkHtml = 'Like what you see? Visit the ' +\n",
              "            '<a target=\"_blank\" href=https://colab.research.google.com/notebooks/data_table.ipynb>data table notebook</a>'\n",
              "            + ' to learn more about interactive tables.';\n",
              "          element.innerHTML = '';\n",
              "          dataTable['output_type'] = 'display_data';\n",
              "          await google.colab.output.renderOutput(dataTable, element);\n",
              "          const docLink = document.createElement('div');\n",
              "          docLink.innerHTML = docLinkHtml;\n",
              "          element.appendChild(docLink);\n",
              "        }\n",
              "      </script>\n",
              "    </div>\n",
              "  </div>\n",
              "  "
            ]
          },
          "metadata": {},
          "execution_count": 4
        }
      ]
    },
    {
      "cell_type": "code",
      "source": [
        "import matplotlib.pyplot as plt\n",
        "bitcoin_prices.plot(figsize=(10, 7))\n",
        "plt.ylabel(\"BTC Price\")\n",
        "plt.title(\"Price of Bitcoin from 1 Oct 2013 to 18 May 2021\", fontsize=16)\n",
        "plt.legend(fontsize=14);"
      ],
      "metadata": {
        "colab": {
          "base_uri": "https://localhost:8080/",
          "height": 460
        },
        "id": "PaEdsJDZYYi-",
        "outputId": "692539a9-1c30-4732-96a3-677b42dc0a10"
      },
      "execution_count": 5,
      "outputs": [
        {
          "output_type": "display_data",
          "data": {
            "text/plain": [
              "<Figure size 720x504 with 1 Axes>"
            ],
            "image/png": "[encoded data removed]"
          },
          "metadata": {
            "needs_background": "light"
          }
        }
      ]
    },
    {
      "cell_type": "markdown",
      "source": [
        "## Importing time series data with Python's CSV module"
      ],
      "metadata": {
        "id": "P27gftsAYpTr"
      }
    },
    {
      "cell_type": "code",
      "source": [
        "# Importing and formatting historical Bitcoin data with Python\n",
        "import csv\n",
        "from datetime import datetime\n",
        "timesteps = []\n",
        "btc_price = []\n",
        "with open(\"/content/BTC_USD_2013-10-01_2021-05-18-CoinDesk.csv\", \"r\") as f:\n",
        "  csv_reader = csv.reader(f, delimiter=\",\")\n",
        "  next(csv_reader) # skip first line (this gets rid of the column titles)\n",
        "  for line in csv_reader:\n",
        "    timesteps.append(datetime.strptime(line[1], \"%Y-%m-%d\")) # get the dates as dates (not strings)\n",
        "    btc_price.append(float(line[2])) # get the closing price as float\n",
        "\n",
        "# View first 10 of each\n",
        "timesteps[:10], btc_price[:10]"
      ],
      "metadata": {
        "colab": {
          "base_uri": "https://localhost:8080/"
        },
        "id": "fcN6upkkZivz",
        "outputId": "03fcc671-f9d7-44d8-b948-d3ce7c824593"
      },
      "execution_count": 6,
      "outputs": [
        {
          "output_type": "execute_result",
          "data": {
            "text/plain": [
              "([datetime.datetime(2013, 10, 1, 0, 0),\n",
              "  datetime.datetime(2013, 10, 2, 0, 0),\n",
              "  datetime.datetime(2013, 10, 3, 0, 0),\n",
              "  datetime.datetime(2013, 10, 4, 0, 0),\n",
              "  datetime.datetime(2013, 10, 5, 0, 0),\n",
              "  datetime.datetime(2013, 10, 6, 0, 0),\n",
              "  datetime.datetime(2013, 10, 7, 0, 0),\n",
              "  datetime.datetime(2013, 10, 8, 0, 0),\n",
              "  datetime.datetime(2013, 10, 9, 0, 0),\n",
              "  datetime.datetime(2013, 10, 10, 0, 0)],\n",
              " [123.65499,\n",
              "  125.455,\n",
              "  108.58483,\n",
              "  118.67466,\n",
              "  121.33866,\n",
              "  120.65533,\n",
              "  121.795,\n",
              "  123.033,\n",
              "  124.049,\n",
              "  125.96116])"
            ]
          },
          "metadata": {},
          "execution_count": 6
        }
      ]
    },
    {
      "cell_type": "code",
      "source": [
        "# Plot from CSV\n",
        "import matplotlib.pyplot as plt\n",
        "import numpy as np\n",
        "plt.figure(figsize=(10, 7))\n",
        "plt.plot(timesteps,\n",
        "         btc_price)\n",
        "plt.ylabel(\"BTC Price\")\n",
        "plt.title(\"Price of Bitcoin from 1 Oct 2013 to 18  May 2021\", fontsize=16)\n",
        "plt.xlabel(\"Date\");\n"
      ],
      "metadata": {
        "colab": {
          "base_uri": "https://localhost:8080/",
          "height": 460
        },
        "id": "oB6we76VVjzP",
        "outputId": "820fbaa0-9cc1-437e-8bbc-be19083d43bc"
      },
      "execution_count": 7,
      "outputs": [
        {
          "output_type": "display_data",
          "data": {
            "text/plain": [
              "<Figure size 720x504 with 1 Axes>"
            ],
            "image/png": "[encoded data removed]"
          },
          "metadata": {
            "needs_background": "light"
          }
        }
      ]
    },
    {
      "cell_type": "markdown",
      "source": [
        "## Format data part 1: Create train and test sets of our time series data"
      ],
      "metadata": {
        "id": "Sp-LSHJeZ8sb"
      }
    },
    {
      "cell_type": "markdown",
      "source": [
        "### Creating train and test sets with time series data (the wrong way)"
      ],
      "metadata": {
        "id": "ab3StFjojfDF"
      }
    },
    {
      "cell_type": "code",
      "source": [
        "# Get bitcoin data array\n",
        "timesteps = bitcoin_prices.index.to_numpy()\n",
        "prices = bitcoin_prices[\"Price\"].to_numpy()\n",
        "\n",
        "timesteps[:10], prices[:10]"
      ],
      "metadata": {
        "colab": {
          "base_uri": "https://localhost:8080/"
        },
        "id": "7EHIwEO53v2X",
        "outputId": "7e40aded-d89b-4ccc-b699-13c5075bb29a"
      },
      "execution_count": 8,
      "outputs": [
        {
          "output_type": "execute_result",
          "data": {
            "text/plain": [
              "(array(['2013-10-01T00:00:00.000000000', '2013-10-02T00:00:00.000000000',\n",
              "        '2013-10-03T00:00:00.000000000', '2013-10-04T00:00:00.000000000',\n",
              "        '2013-10-05T00:00:00.000000000', '2013-10-06T00:00:00.000000000',\n",
              "        '2013-10-07T00:00:00.000000000', '2013-10-08T00:00:00.000000000',\n",
              "        '2013-10-09T00:00:00.000000000', '2013-10-10T00:00:00.000000000'],\n",
              "       dtype='datetime64[ns]'),\n",
              " array([123.65499, 125.455  , 108.58483, 118.67466, 121.33866, 120.65533,\n",
              "        121.795  , 123.033  , 124.049  , 125.96116]))"
            ]
          },
          "metadata": {},
          "execution_count": 8
        }
      ]
    },
    {
      "cell_type": "code",
      "source": [
        "# Wrong way to make train/test sets for timeseries data\n",
        "from sklearn.model_selection import train_test_split\n",
        "X_train, X_test, y_train, y_test = train_test_split(timesteps,\n",
        "                                                    prices,\n",
        "                                                    test_size=0.2,\n",
        "                                                    random_state=42)\n",
        "\n",
        "X_train.shape, X_test.shape, y_train.shape, y_test.shape"
      ],
      "metadata": {
        "colab": {
          "base_uri": "https://localhost:8080/"
        },
        "id": "3evwJFp44OSM",
        "outputId": "53c0f1d3-2458-428c-bcb6-cdb740d84f4e"
      },
      "execution_count": 9,
      "outputs": [
        {
          "output_type": "execute_result",
          "data": {
            "text/plain": [
              "((2229,), (558,), (2229,), (558,))"
            ]
          },
          "metadata": {},
          "execution_count": 9
        }
      ]
    },
    {
      "cell_type": "code",
      "source": [
        "# Let's plot wrong train and test splits\n",
        "plt.figure(figsize=(10, 7))\n",
        "plt.scatter(X_train, y_train, s=5, label=\"Train data\")\n",
        "plt.scatter(X_test, y_test, s=5, label=\"Test data\")\n",
        "plt.xlabel(\"Date\")\n",
        "plt.ylabel(\"BTC Price\")\n",
        "plt.legend(fontsize=14)\n",
        "plt.show();"
      ],
      "metadata": {
        "colab": {
          "base_uri": "https://localhost:8080/",
          "height": 442
        },
        "id": "aUWYnN-p5Io7",
        "outputId": "c01763c7-d1fc-4918-b470-aa9afb62ccda"
      },
      "execution_count": 10,
      "outputs": [
        {
          "output_type": "display_data",
          "data": {
            "text/plain": [
              "<Figure size 720x504 with 1 Axes>"
            ],
            "image/png": "[encoded data removed]"
          },
          "metadata": {
            "needs_background": "light"
          }
        }
      ]
    },
    {
      "cell_type": "markdown",
      "source": [
        "### Create train & test sets for time series (the right way)\n"
      ],
      "metadata": {
        "id": "Bk9_ivJJ9yss"
      }
    },
    {
      "cell_type": "code",
      "source": [
        "# Create train and test splits the right way for time series data\n",
        "split_size = int(0.8 * len(prices)) # 80% train, 20% test\n",
        "\n",
        "# Create train data splits (everything before the split)\n",
        "X_train, y_train = timesteps[:split_size], prices[:split_size]\n",
        "\n",
        "# Create test data splits\n",
        "X_test, y_test = timesteps[split_size:], prices[split_size:]\n",
        "\n",
        "len(X_train), len(X_test), len(y_train), len(y_test)"
      ],
      "metadata": {
        "colab": {
          "base_uri": "https://localhost:8080/"
        },
        "id": "8NPn1MQ7Dakn",
        "outputId": "21c7fd28-938c-4f0a-e8f7-0ed775cbdb74"
      },
      "execution_count": 11,
      "outputs": [
        {
          "output_type": "execute_result",
          "data": {
            "text/plain": [
              "(2229, 558, 2229, 558)"
            ]
          },
          "metadata": {},
          "execution_count": 11
        }
      ]
    },
    {
      "cell_type": "code",
      "source": [
        "# Plot correctly made splits\n",
        "plt.figure(figsize=(10, 7))\n",
        "plt.scatter(X_train, y_train, s=5, label=\"Train data\")\n",
        "plt.scatter(X_test, y_test, s=5, label=\"Test data\")\n",
        "plt.xlabel(\"Date\")\n",
        "plt.ylabel(\"BTC Price\")\n",
        "plt.legend(fontsize=14)\n",
        "plt.show();"
      ],
      "metadata": {
        "colab": {
          "base_uri": "https://localhost:8080/",
          "height": 442
        },
        "id": "XOYDUY6kEz_Z",
        "outputId": "50bb092a-fc6f-43f6-d742-5f72f716a212"
      },
      "execution_count": 12,
      "outputs": [
        {
          "output_type": "display_data",
          "data": {
            "text/plain": [
              "<Figure size 720x504 with 1 Axes>"
            ],
            "image/png": "[encoded data removed]"
          },
          "metadata": {
            "needs_background": "light"
          }
        }
      ]
    },
    {
      "cell_type": "markdown",
      "source": [
        "## Create a plotting function\n",
        "\n",
        "Typing plotting code is tedious, let's functionize it."
      ],
      "metadata": {
        "id": "rLNYDI53FILe"
      }
    },
    {
      "cell_type": "code",
      "source": [
        "# Create a function to plot time series data\n",
        "def plot_time_series(timesteps, values, format=\".\", start=0, end=None, label=None):\n",
        "  \"\"\"\n",
        "  Plots timesteps (a series of points in time) against values (a series of values across timesteps).\n",
        "\n",
        "  Parameters\n",
        "  ----------\n",
        "  timesteps : array of timestep values\n",
        "  values : array of values across time\n",
        "  format : style of plot, default \".\"\n",
        "  start : where to start the plot (setting a value will index from start of timesteps & values)\n",
        "  end : where to end the plot (similar to start but for the end)\n",
        "  label : label to show on plot about values, default None\n",
        "  \"\"\"\n",
        "  # Plot the series\n",
        "  plt.plot(timesteps[start:end], values[start:end], format, label=label)\n",
        "  plt.xlabel(\"Time\")\n",
        "  plt.ylabel(\"BTC Price\")\n",
        "  if label:\n",
        "    plt.legend(fontsize=14) # make label bigger\n",
        "  plt.grid(True)"
      ],
      "metadata": {
        "id": "CQvE85GEMtSW"
      },
      "execution_count": 13,
      "outputs": []
    },
    {
      "cell_type": "code",
      "source": [
        "# Test out plotting function\n",
        "plt.figure(figsize=(10, 7))\n",
        "plot_time_series(timesteps=X_train, values=y_train, label=\"Train data\")\n",
        "plot_time_series(timesteps=X_test, values=y_test, label=\"Test Data\")"
      ],
      "metadata": {
        "colab": {
          "base_uri": "https://localhost:8080/",
          "height": 442
        },
        "id": "Wid1KY0uQ4tB",
        "outputId": "cceca346-c079-4be8-f2be-3754dea07199"
      },
      "execution_count": 14,
      "outputs": [
        {
          "output_type": "display_data",
          "data": {
            "text/plain": [
              "<Figure size 720x504 with 1 Axes>"
            ],
            "image/png": "[encoded data removed]"
          },
          "metadata": {
            "needs_background": "light"
          }
        }
      ]
    },
    {
      "cell_type": "markdown",
      "source": [
        "## Modelling Experiments\n",
        "\n",
        "We've got some Bitcoin historical data, to model it, let's run a series of modelling experiments and see which model performs best.\n",
        "\n",
        "Terms to be familiar with:\n",
        "* **Horizon** = number of timesteps into the future we're going to predict\n",
        "* **Window size** = number of timesteps we're going to use to predict horizon\n",
        "\n",
        "Modelling experiments we're running:\n",
        "* 0 Naive model (baseline)\n",
        "* 1 Dense model, horizon = 1, window = 7\n",
        "* 2 Same as 1, horizon = 1, window = 30\n",
        "* 3 Same as 1, horizon = 7, window = 30\n",
        "* 4 Conv1D\n",
        "* 5 LSTM\n",
        "* 6 Same as 1 (but with multivariate data)\n",
        "* 7 N-BEATs Algorithm\n",
        "* 8 Ensemble (multiple models optimized on different loss functions)\n",
        "* 9 Future prediction model (model to predict future values)\n",
        "* 10 Same as 1 (but with turkey 🦃 data introduced)\n"
      ],
      "metadata": {
        "id": "0Pike4moRWir"
      }
    },
    {
      "cell_type": "markdown",
      "source": [
        "## Model 0: Naive forecast (baseline)\n",
        "\n",
        "The formula looks like this:\n",
        "\n",
        "$$\\hat{y}_{t} = y_{t-1}$$\n",
        "\n",
        "In English:\n",
        "\n",
        "> The prediction at timestep t (y-hat) is equal to the value at timestep t-1 (previous timestep) - this is for a horizon of 1."
      ],
      "metadata": {
        "id": "X--1zYs-cDra"
      }
    },
    {
      "cell_type": "code",
      "source": [
        "# Create a naive forecast\n",
        "naive_forecast = y_test[:-1]\n",
        "\n",
        "naive_forecast[:10], naive_forecast[-10:]"
      ],
      "metadata": {
        "colab": {
          "base_uri": "https://localhost:8080/"
        },
        "id": "6QNIh1tnqHdO",
        "outputId": "e72b06db-52a8-4051-f9ce-d4ef789dd878"
      },
      "execution_count": 15,
      "outputs": [
        {
          "output_type": "execute_result",
          "data": {
            "text/plain": [
              "(array([9226.48582088, 8794.35864452, 8798.04205463, 9081.18687849,\n",
              "        8711.53433917, 8760.89271814, 8749.52059102, 8656.97092235,\n",
              "        8500.64355816, 8469.2608989 ]),\n",
              " array([57107.12067189, 58788.20967893, 58102.19142623, 55715.54665129,\n",
              "        56573.5554719 , 52147.82118698, 49764.1320816 , 50032.69313676,\n",
              "        47885.62525472, 45604.61575361]))"
            ]
          },
          "metadata": {},
          "execution_count": 15
        }
      ]
    },
    {
      "cell_type": "code",
      "source": [
        "# Plot naive forecast\n",
        "plt.figure(figsize=(10, 7))\n",
        "# plot_time_series(timesteps=X_train, values=y_train, label=\"Train data\")\n",
        "plot_time_series(timesteps=X_test, values=y_test, start=350, format=\"-\", label=\"Test data\")\n",
        "plot_time_series(timesteps=X_test[1:], values=naive_forecast, start=350, format=\"-\", label=\"Naive forecast\")"
      ],
      "metadata": {
        "colab": {
          "base_uri": "https://localhost:8080/",
          "height": 442
        },
        "id": "Cthk6Ppaw3oE",
        "outputId": "509fbe52-3a2e-42ce-d608-f5163bc57beb"
      },
      "execution_count": 16,
      "outputs": [
        {
          "output_type": "display_data",
          "data": {
            "text/plain": [
              "<Figure size 720x504 with 1 Axes>"
            ],
            "image/png": "[encoded data removed]"
          },
          "metadata": {
            "needs_background": "light"
          }
        }
      ]
    },
    {
      "cell_type": "markdown",
      "source": [
        "> ⚒️ **Exercise:** Spend 10 minutes reading the simple forecasts chapter of Forecasting: Principles in Practice. An have a search to find out why the naive forecast is hard to beat, does the term augoregressive come up?"
      ],
      "metadata": {
        "id": "GGJXM4vnx6sS"
      }
    },
    {
      "cell_type": "markdown",
      "source": [
        "from IPython.core.magic import error\n",
        "## Evaluating a time series model\n",
        "\n",
        "Let's take into some evaluation metrics for time series forecasting.\n",
        "\n",
        "What are we doing?\n",
        "\n",
        "We're predicting a number, so that mean we have a form of a regression problem.\n",
        "\n",
        "Because we're working on a regression problem, we'll need some regression-like metrics.\n",
        "\n",
        "A few common regression metrics (which can also be used for time series forecasting):\n",
        "* MAE - mean absolute error\n",
        "* MSE - mean squared error\n",
        "* RSME - root mean suare error\n",
        "* MAPE/sMAPE - (symmetric) mean absolute percentage error\n",
        "+ MASE - mean absolute scaled error\n",
        "\n",
        "For all of the above metrics, **lower is better**, for example, an MAE of 0 that is better than a MAE of 100.\n",
        "\n",
        "The main thing we're evaluating here is: how do our model's forecasts (y_pred) compare against the actual values (y_true or ground truth values)?"
      ],
      "metadata": {
        "id": "euDEMTJkzsSV"
      }
    },
    {
      "cell_type": "code",
      "source": [
        "import tensorflow as tf"
      ],
      "metadata": {
        "id": "r1Bmbj0GdZsv"
      },
      "execution_count": 17,
      "outputs": []
    },
    {
      "cell_type": "code",
      "source": [
        "# MASE implementation\n",
        "def mean_absolute_scaled_error(y_true, y_pred):\n",
        "  \"\"\"\n",
        "  Calculates the mean absolute scaled error (MASE) between true and predicted values.\n",
        "\n",
        "  The MASE measures the relative performance of a forecasting model compared to a naive (naïve2) forecast.\n",
        "  The MASE is a scaling factor that scales the mean absolute error (MAE) of the forecast to account for the scale\n",
        "  of the data and the forecast horizon. A MASE of 1 indicates that the forecasting model performs as well as a\n",
        "  naive forecast, while a MASE < 1 indicates that the model outperforms the naive forecast.\n",
        "\n",
        "  Parameters:\n",
        "      y_true (tf.Tensor): True values of the target variable.\n",
        "      y_pred (tf.Tensor): Predicted values of the target variable.\n",
        "\n",
        "  Returns:\n",
        "      A scalar value representing the MASE between y_true and y_pred.\n",
        "  \"\"\"\n",
        "  mae = tf.reduce_mean(tf.abs(y_true-y_pred))\n",
        "\n",
        "  # Find MAE of naive forecast (no seasonality)\n",
        "  mae_naive_no_season = tf.reduce_mean(tf.abs(y_true[1:] - y_true[:-1])) # our seasonality is 1 day, hence the shift of 1\n",
        "\n",
        "  return mae / mae_naive_no_season"
      ],
      "metadata": {
        "id": "GiK7WLsmdcJs"
      },
      "execution_count": 18,
      "outputs": []
    },
    {
      "cell_type": "code",
      "source": [
        "mean_absolute_scaled_error(y_true=y_test[1:], y_pred=naive_forecast).numpy()"
      ],
      "metadata": {
        "colab": {
          "base_uri": "https://localhost:8080/"
        },
        "id": "-84ZtuQHeTHM",
        "outputId": "9dd00bc9-2850-454a-d995-5ea32070b88d"
      },
      "execution_count": 19,
      "outputs": [
        {
          "output_type": "execute_result",
          "data": {
            "text/plain": [
              "0.9995699939182624"
            ]
          },
          "metadata": {},
          "execution_count": 19
        }
      ]
    },
    {
      "cell_type": "code",
      "source": [
        "# Create a function to evaluate model forecasts with various metrics\n",
        "def evaluate_preds(y_true, y_pred):\n",
        "  \"\"\"\n",
        "  Evaluates model predictions with various metrics.\n",
        "\n",
        "  Parameters:\n",
        "      y_true (tf.Tensor): True values of the target variable.\n",
        "      y_pred (tf.Tensor): Predicted values of the target variable.\n",
        "\n",
        "  Returns:\n",
        "      A dictionary of evaluation metrics, including:\n",
        "          - 'mae': mean absolute error\n",
        "          - 'mse': mean squared error\n",
        "          - 'rmse': root mean squared error\n",
        "          - 'mape': mean absolute percentage error\n",
        "          - 'mase': mean absolute scaled error\n",
        "  \"\"\"\n",
        "  # Make sure float32 datatype\n",
        "  y_true = tf.cast(y_true, dtype=tf.float32)\n",
        "  y_pred = tf.cast(y_pred, dtype=tf.float32)\n",
        "\n",
        "  # Calculate various evaluation metrics\n",
        "  mae = tf.keras.metrics.mean_absolute_error(y_true, y_pred)\n",
        "  mse = tf.keras.metrics.mean_squared_error(y_true, y_pred)\n",
        "  rmse = tf.sqrt(mse)\n",
        "  mape = tf.keras.metrics.mean_absolute_percentage_error(y_true, y_pred)\n",
        "  mase = mean_absolute_scaled_error(y_true, y_pred)\n",
        "\n",
        "  return {\"mae\": mae.numpy(),\n",
        "          \"mse\": mse.numpy(),\n",
        "          \"rmse\": rmse.numpy(),\n",
        "          \"mape\": mape.numpy(),\n",
        "          \"mase\": mase.numpy()}"
      ],
      "metadata": {
        "id": "VxmbSWoUeT6Y"
      },
      "execution_count": 20,
      "outputs": []
    },
    {
      "cell_type": "code",
      "source": [
        "naive_results = evaluate_preds(y_true=y_test[1:],\n",
        "                               y_pred=naive_forecast)\n",
        "naive_results"
      ],
      "metadata": {
        "colab": {
          "base_uri": "https://localhost:8080/"
        },
        "id": "DlsSuldHfOB7",
        "outputId": "27847c75-6701-4bce-b2d5-814e8f244f81"
      },
      "execution_count": 21,
      "outputs": [
        {
          "output_type": "execute_result",
          "data": {
            "text/plain": [
              "{'mae': 567.9802,\n",
              " 'mse': 1147547.0,\n",
              " 'rmse': 1071.2362,\n",
              " 'mape': 2.5165248,\n",
              " 'mase': 0.99957}"
            ]
          },
          "metadata": {},
          "execution_count": 21
        }
      ]
    },
    {
      "cell_type": "code",
      "source": [
        "naive_forecast[-10:]"
      ],
      "metadata": {
        "colab": {
          "base_uri": "https://localhost:8080/"
        },
        "id": "qaZfP409fU-v",
        "outputId": "236ee1d1-03f0-4e3d-9759-a24f6234e2f9"
      },
      "execution_count": 22,
      "outputs": [
        {
          "output_type": "execute_result",
          "data": {
            "text/plain": [
              "array([57107.12067189, 58788.20967893, 58102.19142623, 55715.54665129,\n",
              "       56573.5554719 , 52147.82118698, 49764.1320816 , 50032.69313676,\n",
              "       47885.62525472, 45604.61575361])"
            ]
          },
          "metadata": {},
          "execution_count": 22
        }
      ]
    },
    {
      "cell_type": "code",
      "source": [
        "tf.reduce_mean(y_test)"
      ],
      "metadata": {
        "colab": {
          "base_uri": "https://localhost:8080/"
        },
        "id": "P2pX3P_qnODM",
        "outputId": "135be836-0115-4e7e-e15c-42ced733dd8c"
      },
      "execution_count": 23,
      "outputs": [
        {
          "output_type": "execute_result",
          "data": {
            "text/plain": [
              "<tf.Tensor: shape=(), dtype=float64, numpy=20056.632963737226>"
            ]
          },
          "metadata": {},
          "execution_count": 23
        }
      ]
    },
    {
      "cell_type": "code",
      "source": [
        "tf.reduce_min(y_test), tf.reduce_max(y_test)"
      ],
      "metadata": {
        "colab": {
          "base_uri": "https://localhost:8080/"
        },
        "id": "sxSWxBzGnT3j",
        "outputId": "e289a4e1-e7b7-415c-a544-e968ccae65d3"
      },
      "execution_count": 24,
      "outputs": [
        {
          "output_type": "execute_result",
          "data": {
            "text/plain": [
              "(<tf.Tensor: shape=(), dtype=float64, numpy=4944.7023359837>,\n",
              " <tf.Tensor: shape=(), dtype=float64, numpy=63346.7890351052>)"
            ]
          },
          "metadata": {},
          "execution_count": 24
        }
      ]
    },
    {
      "cell_type": "markdown",
      "source": [
        "## Other models you can use for baselines and for actual forecasts\n",
        "\n",
        "In this notebook, we're focused on TensorFlow and deep learning models.\n",
        "\n",
        "However there are plenty of other styles of time series forecasting models you may want to experiment with: https://dev.mrdbourke.com/tensorflow-deep-learning/10_time_series_forecasting_in_tensorflow/#other-kinds-of-time-series-forecasting-models-which-can-be-used-for-baselines-and-actual-forecasts"
      ],
      "metadata": {
        "id": "pB2ExF5gnbY6"
      }
    },
    {
      "cell_type": "markdown",
      "source": [
        "## Format Data Part 2: Windowing our dataset\n",
        "\n",
        "Why do we window?\n",
        "\n",
        "We window our time series dataset to turn our data into a supervised learning problem.\n",
        "\n",
        "```\n",
        "Windowing for one week\n",
        "[0, 1, 2, 3, 4, 5, 6] -> [7]\n",
        "[1, 2, 3, 4, 5, 6, 7] -> [8]\n",
        "[2, 3, 4, 5, 6, 7, 8] -> [9]\n",
        "```"
      ],
      "metadata": {
        "id": "TBVu32eZpJu4"
      }
    },
    {
      "cell_type": "code",
      "source": [
        "len(y_train)"
      ],
      "metadata": {
        "colab": {
          "base_uri": "https://localhost:8080/"
        },
        "id": "p-cAZ0qzxlwu",
        "outputId": "e71d7809-01a4-46d3-fc79-a5600232cea1"
      },
      "execution_count": 25,
      "outputs": [
        {
          "output_type": "execute_result",
          "data": {
            "text/plain": [
              "2229"
            ]
          },
          "metadata": {},
          "execution_count": 25
        }
      ]
    },
    {
      "cell_type": "code",
      "source": [
        "# What we want to do with our Bitcoin data\n",
        "print(f\"We want to use: {btc_price[:7]} to predict this: {btc_price[7]}\")"
      ],
      "metadata": {
        "colab": {
          "base_uri": "https://localhost:8080/"
        },
        "id": "VFZIARSVxnQ0",
        "outputId": "88281f16-abb2-4e0f-c52b-6eb13e0dc6e8"
      },
      "execution_count": 26,
      "outputs": [
        {
          "output_type": "stream",
          "name": "stdout",
          "text": [
            "We want to use: [123.65499, 125.455, 108.58483, 118.67466, 121.33866, 120.65533, 121.795] to predict this: 123.033\n"
          ]
        }
      ]
    },
    {
      "cell_type": "code",
      "source": [
        "# Let's setup global variables for window and horizon size\n",
        "HORIZON = 1 # predict next 1 day\n",
        "WINDOW_SIZE = 7 # use past week of Bitcoin data to make the prediction\n"
      ],
      "metadata": {
        "id": "CRa4q4GOxv1a"
      },
      "execution_count": 27,
      "outputs": []
    },
    {
      "cell_type": "code",
      "source": [
        "# Create function to label windowed data\n",
        "def get_labelled_windows(x, horizon=HORIZON):\n",
        "  \"\"\"\n",
        "    Given a data matrix 'x', return a pair of matrices containing labelled and windowed segments of the data.\n",
        "\n",
        "    Parameters:\n",
        "        - x (ndarray): A 2-dimensional matrix of shape (T, D), where T is the number of timesteps and\n",
        "          D is the number of dimensions.\n",
        "        - horizon (int): The number of timesteps to include in the window.\n",
        "        \n",
        "    Returns:\n",
        "        - A tuple containing two 2-dimensional matrices of shape (T - horizon, horizon) and (T - horizon, 1),\n",
        "          respectively. The first matrix contains the windowed segments of the input data, and the second matrix\n",
        "          contains the labels that correspond to each window.\n",
        "  \"\"\"\n",
        "  return x[:, :-horizon], x[:, -horizon:]"
      ],
      "metadata": {
        "id": "Jqw3R-9xypF8"
      },
      "execution_count": 28,
      "outputs": []
    },
    {
      "cell_type": "code",
      "source": [
        "# Test out the window labelling function\n",
        "test_window, test_label = get_labelled_windows(tf.expand_dims(tf.range(8)+1, axis=0))\n",
        "print(f\"Window: {tf.squeeze(test_window).numpy()} -> Label: {tf.squeeze(test_label).numpy()}\")"
      ],
      "metadata": {
        "colab": {
          "base_uri": "https://localhost:8080/"
        },
        "id": "J0CR2LYw0Lwr",
        "outputId": "7e165f84-1504-4c9a-e71f-5a87cd207fd4"
      },
      "execution_count": 29,
      "outputs": [
        {
          "output_type": "stream",
          "name": "stdout",
          "text": [
            "Window: [1 2 3 4 5 6 7] -> Label: 8\n"
          ]
        }
      ]
    },
    {
      "cell_type": "markdown",
      "source": [
        "We've got a way to label our windowed data.\n",
        "\n",
        "However, this only works on a small scale.\n",
        "\n",
        "We need a way to do the above across our entire time series.\n",
        "\n",
        "We could do this with Python for loops, however, for large time series, that'd be quite slow.\n",
        "\n",
        "To speed things up, we'll leverage NumPy's array indexing.\n",
        "\n",
        "Our function will:\n",
        "1. Create a window step of specific window size (e.g. [0, 1, 2, 3, 5, 6])\n",
        "2. Use NumPy indexing to create a 2D array of multiple window steps, for example:\n",
        "```\n",
        "[[0, 1, 2, 3, 5, 6],\n",
        "[1, 2, 3, 5, 6, 7],\n",
        "[2, 3, 5, 6, 7, 8]]\n",
        "```\n",
        "3. Uses the 2D array of multiple window steps (from 2.) to index on a target series (e.g. the historical price of Bitcoin)\n",
        "4. Uses our `get_labelled_windows()` function we created above to turn the window steps into windows with a specified horizon."
      ],
      "metadata": {
        "id": "so_KmcbB0wAX"
      }
    },
    {
      "cell_type": "code",
      "source": [
        "import numpy as np\n",
        "# Create function to view NumPy arrays as windows\n",
        "def make_windows(x, window_size=WINDOW_SIZE, horizon=HORIZON):\n",
        "  \"\"\"\n",
        "  Creates windowed data from a target time series.\n",
        "\n",
        "  Parameters:\n",
        "      - x (ndarray): A 1-dimensional array containing the target time series.\n",
        "      - window_size (int): The size of the window to use to create the data (default: WINDOW_SIZE).\n",
        "      - horizon (int): The number of timesteps into the future to predict (default: HORIZON).\n",
        "\n",
        "  Returns:\n",
        "      - A tuple containing two 2-dimensional arrays of shape (N, window_size) and (N, horizon),\n",
        "        respectively. The first array contains the windowed segments of the input data, and the\n",
        "        second array contains the labels that correspond to each window.\n",
        "\n",
        "  Example usage:\n",
        "  ```python\n",
        "  # Load some example data\n",
        "  target_series = np.loadtxt('target_series.txt')\n",
        "\n",
        "  # Create windowed data with a window size of 30 and a horizon of 1\n",
        "  X, y = make_windows(target_series, window_size=30, horizon=1)\n",
        "  ```\n",
        "  \"\"\"\n",
        "  # 1. Create a window of specific window_size (add the horizon on the end for labelling later)\n",
        "  window_step = np.expand_dims(np.arange(window_size+horizon), axis=0)\n",
        "\n",
        "  # 2. Create a 2D array of multiple window steps (minus 1 to account for 0 indexing)\n",
        "  window_indexes = window_step + np.expand_dims(np.arange(len(x)-(window_size+horizon-1)), axis=0).T # create 2D array of windows of size window_size\n",
        "\n",
        "  # 3. Index on the target array (a time series) with 2D araay of multiple window steps\n",
        "  windowed_array = x[window_indexes]\n",
        "  \n",
        "  # 4. Get the labelled windows\n",
        "  windows, labels = get_labelled_windows(windowed_array, horizon=horizon)\n",
        "  return windows, labels"
      ],
      "metadata": {
        "id": "2F062Gh-97-C"
      },
      "execution_count": 30,
      "outputs": []
    },
    {
      "cell_type": "code",
      "source": [
        "full_windows, full_labels = make_windows(prices)\n",
        "len(full_windows), len(full_labels)"
      ],
      "metadata": {
        "colab": {
          "base_uri": "https://localhost:8080/"
        },
        "id": "WxOeeyTYBspY",
        "outputId": "a42eac63-8b4c-45cf-b8e9-2e1ebbf1c04c"
      },
      "execution_count": 31,
      "outputs": [
        {
          "output_type": "execute_result",
          "data": {
            "text/plain": [
              "(2780, 2780)"
            ]
          },
          "metadata": {},
          "execution_count": 31
        }
      ]
    },
    {
      "cell_type": "code",
      "source": [
        "# View the first 3 windows/labels\n",
        "for i in range(3):\n",
        "  print(f\"Window: {full_windows[i]} -> Label: {full_labels[i]}\")"
      ],
      "metadata": {
        "colab": {
          "base_uri": "https://localhost:8080/"
        },
        "id": "92QJWYirGVG0",
        "outputId": "0532753e-824a-4939-f84f-a03ae8616cd0"
      },
      "execution_count": 32,
      "outputs": [
        {
          "output_type": "stream",
          "name": "stdout",
          "text": [
            "Window: [123.65499 125.455   108.58483 118.67466 121.33866 120.65533 121.795  ] -> Label: [123.033]\n",
            "Window: [125.455   108.58483 118.67466 121.33866 120.65533 121.795   123.033  ] -> Label: [124.049]\n",
            "Window: [108.58483 118.67466 121.33866 120.65533 121.795   123.033   124.049  ] -> Label: [125.96116]\n"
          ]
        }
      ]
    },
    {
      "cell_type": "code",
      "source": [
        "# View the last 3 windows/labels\n",
        "for i in range(3):\n",
        "  print(f\"Window: {full_windows[i-3]} -> Label: {full_labels[i-3]}\")"
      ],
      "metadata": {
        "colab": {
          "base_uri": "https://localhost:8080/"
        },
        "id": "9v8bNbqtJhvI",
        "outputId": "a50610a2-46a1-4d96-9e56-e90ba3839de8"
      },
      "execution_count": 33,
      "outputs": [
        {
          "output_type": "stream",
          "name": "stdout",
          "text": [
            "Window: [58788.20967893 58102.19142623 55715.54665129 56573.5554719\n",
            " 52147.82118698 49764.1320816  50032.69313676] -> Label: [47885.62525472]\n",
            "Window: [58102.19142623 55715.54665129 56573.5554719  52147.82118698\n",
            " 49764.1320816  50032.69313676 47885.62525472] -> Label: [45604.61575361]\n",
            "Window: [55715.54665129 56573.5554719  52147.82118698 49764.1320816\n",
            " 50032.69313676 47885.62525472 45604.61575361] -> Label: [43144.47129086]\n"
          ]
        }
      ]
    },
    {
      "cell_type": "markdown",
      "source": [
        "> 🔑 **Note:** There's a function which does similar to the above in tf.keras.preprocessing, an extension could be to try and replicate what we've done using the premade function: https://www.tensorflow.org/api_docs/python/tf/keras/utils/timeseries_dataset_from_array"
      ],
      "metadata": {
        "id": "JxWTSIQKKED4"
      }
    },
    {
      "cell_type": "markdown",
      "source": [
        "## Turning windows into training and test sets"
      ],
      "metadata": {
        "id": "VyvWz1CBLOpG"
      }
    },
    {
      "cell_type": "code",
      "source": [
        "# Make the train/test splits\n",
        "def make_train_test_splits(windows, labels, test_split=0.2):\n",
        "  \"\"\"\n",
        "  Splits matching pairs of windows and labels into train and test splits.\n",
        "\n",
        "  Parameters:\n",
        "       - windows (ndarray): A 2-dimensional matrix of shape (N, W), where N is the number of windows\n",
        "        and W is the window size.\n",
        "      - labels (ndarray): A 2-dimensional matrix of shape (N, H), where N is the number of windows\n",
        "        and H is the horizon (i.e. the number of timesteps to predict into the future).\n",
        "      - test_split (float): The proportion of data to allocate for the test split. Defaults to 0.2.\n",
        "\n",
        "  Returns:\n",
        "      - A tuple containing four 2-dimensional matrices: (train_windows, test_windows, train_labels, test_labels).\n",
        "        The training windows and labels are the first two elements of the tuple and represent the training split of\n",
        "        the input data, while the test windows and labels are the last two elements of the tuple and represent the\n",
        "        test split of the input data.\n",
        "  \"\"\"\n",
        "  split_size = int(len(windows) * (1-test_split)) # this will default to 80% train/20% test\n",
        "  train_windows = windows[:split_size]\n",
        "  train_labels = labels[:split_size]\n",
        "  test_windows = windows[split_size:]\n",
        "  test_labels = labels[split_size:]\n",
        "  return train_windows, test_windows, train_labels, test_labels"
      ],
      "metadata": {
        "id": "xhRQTlarLpOs"
      },
      "execution_count": 34,
      "outputs": []
    },
    {
      "cell_type": "code",
      "source": [
        "# Create train and test windows\n",
        "train_windows, test_windows, train_labels, test_labels = make_train_test_splits(full_windows, full_labels)\n",
        "len(train_windows), len(test_windows), len(train_labels), len(test_labels)"
      ],
      "metadata": {
        "colab": {
          "base_uri": "https://localhost:8080/"
        },
        "id": "UgTBvM9XNacj",
        "outputId": "c9af1abd-7491-48d3-e31c-59501a6dfeec"
      },
      "execution_count": 35,
      "outputs": [
        {
          "output_type": "execute_result",
          "data": {
            "text/plain": [
              "(2224, 556, 2224, 556)"
            ]
          },
          "metadata": {},
          "execution_count": 35
        }
      ]
    },
    {
      "cell_type": "code",
      "source": [
        "train_windows[:5], train_labels[:5]"
      ],
      "metadata": {
        "colab": {
          "base_uri": "https://localhost:8080/"
        },
        "id": "qXq__4NYOXeJ",
        "outputId": "220cb4a4-b9f6-4102-8f48-cd8e58e715c5"
      },
      "execution_count": 36,
      "outputs": [
        {
          "output_type": "execute_result",
          "data": {
            "text/plain": [
              "(array([[123.65499, 125.455  , 108.58483, 118.67466, 121.33866, 120.65533,\n",
              "         121.795  ],\n",
              "        [125.455  , 108.58483, 118.67466, 121.33866, 120.65533, 121.795  ,\n",
              "         123.033  ],\n",
              "        [108.58483, 118.67466, 121.33866, 120.65533, 121.795  , 123.033  ,\n",
              "         124.049  ],\n",
              "        [118.67466, 121.33866, 120.65533, 121.795  , 123.033  , 124.049  ,\n",
              "         125.96116],\n",
              "        [121.33866, 120.65533, 121.795  , 123.033  , 124.049  , 125.96116,\n",
              "         125.27966]]), array([[123.033  ],\n",
              "        [124.049  ],\n",
              "        [125.96116],\n",
              "        [125.27966],\n",
              "        [125.9275 ]]))"
            ]
          },
          "metadata": {},
          "execution_count": 36
        }
      ]
    },
    {
      "cell_type": "code",
      "source": [
        "test_windows[:5], test_labels[:5]"
      ],
      "metadata": {
        "colab": {
          "base_uri": "https://localhost:8080/"
        },
        "id": "1DAPlz4XOnG9",
        "outputId": "49a55d2a-688b-4f03-f884-a5620a549022"
      },
      "execution_count": 37,
      "outputs": [
        {
          "output_type": "execute_result",
          "data": {
            "text/plain": [
              "(array([[9290.89660239, 9202.41545055, 9369.62808116, 9326.59962378,\n",
              "         9335.75240233, 9226.48582088, 8794.35864452],\n",
              "        [9202.41545055, 9369.62808116, 9326.59962378, 9335.75240233,\n",
              "         9226.48582088, 8794.35864452, 8798.04205463],\n",
              "        [9369.62808116, 9326.59962378, 9335.75240233, 9226.48582088,\n",
              "         8794.35864452, 8798.04205463, 9081.18687849],\n",
              "        [9326.59962378, 9335.75240233, 9226.48582088, 8794.35864452,\n",
              "         8798.04205463, 9081.18687849, 8711.53433917],\n",
              "        [9335.75240233, 9226.48582088, 8794.35864452, 8798.04205463,\n",
              "         9081.18687849, 8711.53433917, 8760.89271814]]),\n",
              " array([[8798.04205463],\n",
              "        [9081.18687849],\n",
              "        [8711.53433917],\n",
              "        [8760.89271814],\n",
              "        [8749.52059102]]))"
            ]
          },
          "metadata": {},
          "execution_count": 37
        }
      ]
    },
    {
      "cell_type": "code",
      "source": [
        "# Check to see if same (accounting for horizon and window size)\n",
        "np.array_equal(np.squeeze(train_labels[:-HORIZON-1]), y_train[WINDOW_SIZE:])"
      ],
      "metadata": {
        "colab": {
          "base_uri": "https://localhost:8080/"
        },
        "id": "UO_tDzYUO-14",
        "outputId": "012f39cd-ffba-4f71-f4f5-76289878b85d"
      },
      "execution_count": 38,
      "outputs": [
        {
          "output_type": "execute_result",
          "data": {
            "text/plain": [
              "True"
            ]
          },
          "metadata": {},
          "execution_count": 38
        }
      ]
    },
    {
      "cell_type": "markdown",
      "source": [
        "## Make a modelling checkpoint callback\n",
        "\n",
        "Because our model's performance will fluctuate from experiment to experiment, we're going to write a model checkpoint so we can compare apples to apples.\n",
        "\n",
        "More specifically, we want to compare each of our model's best performances against the other model's best performances.\n",
        "\n",
        "For example if our model performs the best on epoch 55 (but we're training for 100 epochs), we want to load and evaluate the model saved on epoch 55.\n",
        "\n",
        "We can create a modelling checkpoint callback using the following: https://www.tensorflow.org/api_docs/python/tf/keras/callbacks/ModelCheckpoint"
      ],
      "metadata": {
        "id": "BU5MSqBhPeLw"
      }
    },
    {
      "cell_type": "code",
      "source": [
        "import os\n",
        "\n",
        "# Create a function to implement a modelCheckpoint callback with a specific filename\n",
        "def create_model_checkpoint(model_name, save_path=\"model_experiments\"):\n",
        "  \"\"\"\n",
        "  Creates a Keras callback to save the best version of a trained model during training.\n",
        "\n",
        "  Args:\n",
        "      model_name (str): A string with the name of the model. This will be used as the prefix of the checkpoint file.\n",
        "      save_path (str): A string with the directory path where the checkpoint file will be saved. Defaults to \"model_experiments\".\n",
        "\n",
        "  Returns:\n",
        "      A Keras `ModelCheckpoint` callback instance with the specified settings.\n",
        "  \"\"\"\n",
        "  return tf.keras.callbacks.ModelCheckpoint(filepath=os.path.join(save_path, model_name),\n",
        "                                            verbose=0, # only output a limited amount of text\n",
        "                                            save_best_only=True)\n"
      ],
      "metadata": {
        "id": "zRm63C4eZCOL"
      },
      "execution_count": 41,
      "outputs": []
    },
    {
      "cell_type": "markdown",
      "source": [
        "## Model 1: Dense model (window = 7, horizon = 1)\n",
        "\n",
        "Our first deep model is going to be a simple dense model:\n",
        "* A single dense layer with 128 hidden units and ReLU\n",
        "* An output layer with linear activation (no activation)\n",
        "* Adam optimizer and MAE loss function\n",
        "* Batch size of 128 (previously we've used 32)\n",
        "* 100 epochs\n",
        "\n",
        "Why these values?\n",
        "\n",
        "I picked them out of experimentation.\n",
        "\n",
        "* *Hyperparameters* = values a machine learning practitioner can adjust themselves\n",
        "* **Parameters** = values a model learns on its own\n"
      ],
      "metadata": {
        "id": "vGjMFmb5cp3M"
      }
    },
    {
      "cell_type": "code",
      "source": [
        "import tensorflow as tf\n",
        "from tensorflow.keras import layers\n",
        "\n",
        "# Set random seed\n",
        "tf.random.set_seed(42)\n",
        "\n",
        "# 1. Construct model\n",
        "model_1 = tf.keras.Sequential([\n",
        "    layers.Dense(128, activation=\"relu\"),\n",
        "    layers.Dense(HORIZON, activation=\"linear\")\n",
        "], name=\"model_1_dense\")\n",
        "\n",
        "# 2. Compile the model\n",
        "model_1.compile(loss=\"mae\",\n",
        "                optimizer=tf.keras.optimizers.Adam(),\n",
        "                metrics=[\"mae\", \"mse\"])\n",
        "\n",
        "# 3. Fit the model\n",
        "model_1_history = model_1.fit(train_windows, train_labels,\n",
        "                              epochs=100,\n",
        "                              verbose=1,\n",
        "                              batch_size=128,\n",
        "                              validation_data=(test_windows, test_labels),\n",
        "                              callbacks=[create_model_checkpoint(model_name=model_1.name)])"
      ],
      "metadata": {
        "colab": {
          "base_uri": "https://localhost:8080/"
        },
        "id": "c3kB4enwhnQ4",
        "outputId": "37630249-9366-4dc8-80f1-db119c4ec1a4"
      },
      "execution_count": 43,
      "outputs": [
        {
          "output_type": "stream",
          "name": "stdout",
          "text": [
            "Epoch 1/100\n",
            " 1/18 [>.............................] - ETA: 30s - loss: 3247.8237 - mae: 3247.8237 - mse: 21819680.0000"
          ]
        },
        {
          "output_type": "stream",
          "name": "stderr",
          "text": [
            "WARNING:absl:Found untraced functions such as _update_step_xla while saving (showing 1 of 1). These functions will not be directly callable after loading.\n"
          ]
        },
        {
          "output_type": "stream",
          "name": "stdout",
          "text": [
            "\b\b\b\b\b\b\b\b\b\b\b\b\b\b\b\b\b\b\b\b\b\b\b\b\b\b\b\b\b\b\b\b\b\b\b\b\b\b\b\b\b\b\b\b\b\b\b\b\b\b\b\b\b\b\b\b\b\b\b\b\b\b\b\b\b\b\b\b\b\b\b\b\b\b\b\b\b\b\b\b\b\b\b\b\b\b\b\b\b\b\b\b\b\b\b\b\b\b\b\b\b\b\b\b\b\r18/18 [==============================] - 4s 105ms/step - loss: 1189.2716 - mae: 1189.2716 - mse: 5345527.0000 - val_loss: 3291.5518 - val_mae: 3291.5518 - val_mse: 25103850.0000\n",
            "Epoch 2/100\n",
            "16/18 [=========================>....] - ETA: 0s - loss: 344.2067 - mae: 344.2067 - mse: 518796.0938 "
          ]
        },
        {
          "output_type": "stream",
          "name": "stderr",
          "text": [
            "WARNING:absl:Found untraced functions such as _update_step_xla while saving (showing 1 of 1). These functions will not be directly callable after loading.\n"
          ]
        },
        {
          "output_type": "stream",
          "name": "stdout",
          "text": [
            "\b\b\b\b\b\b\b\b\b\b\b\b\b\b\b\b\b\b\b\b\b\b\b\b\b\b\b\b\b\b\b\b\b\b\b\b\b\b\b\b\b\b\b\b\b\b\b\b\b\b\b\b\b\b\b\b\b\b\b\b\b\b\b\b\b\b\b\b\b\b\b\b\b\b\b\b\b\b\b\b\b\b\b\b\b\b\b\b\b\b\b\b\b\b\b\b\b\b\b\b\r18/18 [==============================] - 1s 65ms/step - loss: 329.5973 - mae: 329.5973 - mse: 487761.3125 - val_loss: 1320.5126 - val_mae: 1320.5126 - val_mse: 5728681.0000\n",
            "Epoch 3/100\n",
            "17/18 [===========================>..] - ETA: 0s - loss: 239.9896 - mae: 239.9896 - mse: 274160.5312"
          ]
        },
        {
          "output_type": "stream",
          "name": "stderr",
          "text": [
            "WARNING:absl:Found untraced functions such as _update_step_xla while saving (showing 1 of 1). These functions will not be directly callable after loading.\n"
          ]
        },
        {
          "output_type": "stream",
          "name": "stdout",
          "text": [
            "\b\b\b\b\b\b\b\b\b\b\b\b\b\b\b\b\b\b\b\b\b\b\b\b\b\b\b\b\b\b\b\b\b\b\b\b\b\b\b\b\b\b\b\b\b\b\b\b\b\b\b\b\b\b\b\b\b\b\b\b\b\b\b\b\b\b\b\b\b\b\b\b\b\b\b\b\b\b\b\b\b\b\b\b\b\b\b\b\b\b\b\b\b\b\b\b\b\b\b\b\r18/18 [==============================] - 1s 52ms/step - loss: 237.9724 - mae: 237.9724 - mse: 272649.8125 - val_loss: 1232.2482 - val_mae: 1232.2482 - val_mse: 4914648.5000\n",
            "Epoch 4/100\n",
            " 1/18 [>.............................] - ETA: 0s - loss: 286.6248 - mae: 286.6248 - mse: 446256.6875"
          ]
        },
        {
          "output_type": "stream",
          "name": "stderr",
          "text": [
            "WARNING:absl:Found untraced functions such as _update_step_xla while saving (showing 1 of 1). These functions will not be directly callable after loading.\n"
          ]
        },
        {
          "output_type": "stream",
          "name": "stdout",
          "text": [
            "\b\b\b\b\b\b\b\b\b\b\b\b\b\b\b\b\b\b\b\b\b\b\b\b\b\b\b\b\b\b\b\b\b\b\b\b\b\b\b\b\b\b\b\b\b\b\b\b\b\b\b\b\b\b\b\b\b\b\b\b\b\b\b\b\b\b\b\b\b\b\b\b\b\b\b\b\b\b\b\b\b\b\b\b\b\b\b\b\b\b\b\b\b\b\b\b\b\b\b\b\r18/18 [==============================] - 1s 42ms/step - loss: 219.4880 - mae: 219.4880 - mse: 250847.3594 - val_loss: 1177.4250 - val_mae: 1177.4250 - val_mse: 4484575.0000\n",
            "Epoch 5/100\n",
            " 1/18 [>.............................] - ETA: 0s - loss: 213.0901 - mae: 213.0901 - mse: 172145.5469"
          ]
        },
        {
          "output_type": "stream",
          "name": "stderr",
          "text": [
            "WARNING:absl:Found untraced functions such as _update_step_xla while saving (showing 1 of 1). These functions will not be directly callable after loading.\n"
          ]
        },
        {
          "output_type": "stream",
          "name": "stdout",
          "text": [
            "\b\b\b\b\b\b\b\b\b\b\b\b\b\b\b\b\b\b\b\b\b\b\b\b\b\b\b\b\b\b\b\b\b\b\b\b\b\b\b\b\b\b\b\b\b\b\b\b\b\b\b\b\b\b\b\b\b\b\b\b\b\b\b\b\b\b\b\b\b\b\b\b\b\b\b\b\b\b\b\b\b\b\b\b\b\b\b\b\b\b\b\b\b\b\b\b\b\b\b\b\r18/18 [==============================] - 1s 40ms/step - loss: 209.7873 - mae: 209.7873 - mse: 231072.8594 - val_loss: 1138.7471 - val_mae: 1138.7471 - val_mse: 4151524.2500\n",
            "Epoch 6/100\n",
            " 1/18 [>.............................] - ETA: 0s - loss: 152.8224 - mae: 152.8224 - mse: 87454.2969"
          ]
        },
        {
          "output_type": "stream",
          "name": "stderr",
          "text": [
            "WARNING:absl:Found untraced functions such as _update_step_xla while saving (showing 1 of 1). These functions will not be directly callable after loading.\n"
          ]
        },
        {
          "output_type": "stream",
          "name": "stdout",
          "text": [
            "\b\b\b\b\b\b\b\b\b\b\b\b\b\b\b\b\b\b\b\b\b\b\b\b\b\b\b\b\b\b\b\b\b\b\b\b\b\b\b\b\b\b\b\b\b\b\b\b\b\b\b\b\b\b\b\b\b\b\b\b\b\b\b\b\b\b\b\b\b\b\b\b\b\b\b\b\b\b\b\b\b\b\b\b\b\b\b\b\b\b\b\b\b\b\b\b\b\b\b\r18/18 [==============================] - 1s 40ms/step - loss: 202.7322 - mae: 202.7322 - mse: 211770.8750 - val_loss: 1082.2885 - val_mae: 1082.2885 - val_mse: 3822749.2500\n",
            "Epoch 7/100\n",
            " 1/18 [>.............................] - ETA: 0s - loss: 239.4568 - mae: 239.4568 - mse: 424662.4062"
          ]
        },
        {
          "output_type": "stream",
          "name": "stderr",
          "text": [
            "WARNING:absl:Found untraced functions such as _update_step_xla while saving (showing 1 of 1). These functions will not be directly callable after loading.\n"
          ]
        },
        {
          "output_type": "stream",
          "name": "stdout",
          "text": [
            "\b\b\b\b\b\b\b\b\b\b\b\b\b\b\b\b\b\b\b\b\b\b\b\b\b\b\b\b\b\b\b\b\b\b\b\b\b\b\b\b\b\b\b\b\b\b\b\b\b\b\b\b\b\b\b\b\b\b\b\b\b\b\b\b\b\b\b\b\b\b\b\b\b\b\b\b\b\b\b\b\b\b\b\b\b\b\b\b\b\b\b\b\b\b\b\b\b\b\b\b\r18/18 [==============================] - 1s 40ms/step - loss: 189.0273 - mae: 189.0273 - mse: 191126.4844 - val_loss: 1038.7316 - val_mae: 1038.7316 - val_mse: 3477270.2500\n",
            "Epoch 8/100\n",
            " 1/18 [>.............................] - ETA: 0s - loss: 157.5296 - mae: 157.5296 - mse: 100592.9219"
          ]
        },
        {
          "output_type": "stream",
          "name": "stderr",
          "text": [
            "WARNING:absl:Found untraced functions such as _update_step_xla while saving (showing 1 of 1). These functions will not be directly callable after loading.\n"
          ]
        },
        {
          "output_type": "stream",
          "name": "stdout",
          "text": [
            "\b\b\b\b\b\b\b\b\b\b\b\b\b\b\b\b\b\b\b\b\b\b\b\b\b\b\b\b\b\b\b\b\b\b\b\b\b\b\b\b\b\b\b\b\b\b\b\b\b\b\b\b\b\b\b\b\b\b\b\b\b\b\b\b\b\b\b\b\b\b\b\b\b\b\b\b\b\b\b\b\b\b\b\b\b\b\b\b\b\b\b\b\b\b\b\b\b\b\b\b\r18/18 [==============================] - 1s 41ms/step - loss: 179.7745 - mae: 179.7745 - mse: 176449.0469 - val_loss: 989.3378 - val_mae: 989.3378 - val_mse: 3256246.7500\n",
            "Epoch 9/100\n",
            "16/18 [=========================>....] - ETA: 0s - loss: 183.5338 - mae: 183.5338 - mse: 178606.7500"
          ]
        },
        {
          "output_type": "stream",
          "name": "stderr",
          "text": [
            "WARNING:absl:Found untraced functions such as _update_step_xla while saving (showing 1 of 1). These functions will not be directly callable after loading.\n"
          ]
        },
        {
          "output_type": "stream",
          "name": "stdout",
          "text": [
            "\b\b\b\b\b\b\b\b\b\b\b\b\b\b\b\b\b\b\b\b\b\b\b\b\b\b\b\b\b\b\b\b\b\b\b\b\b\b\b\b\b\b\b\b\b\b\b\b\b\b\b\b\b\b\b\b\b\b\b\b\b\b\b\b\b\b\b\b\b\b\b\b\b\b\b\b\b\b\b\b\b\b\b\b\b\b\b\b\b\b\b\b\b\b\b\b\b\b\b\b\r18/18 [==============================] - 2s 107ms/step - loss: 179.5905 - mae: 179.5905 - mse: 170815.6719 - val_loss: 959.8507 - val_mae: 959.8507 - val_mse: 3037437.0000\n",
            "Epoch 10/100\n",
            "11/18 [=================>............] - ETA: 0s - loss: 167.9001 - mae: 167.9001 - mse: 147322.5781"
          ]
        },
        {
          "output_type": "stream",
          "name": "stderr",
          "text": [
            "WARNING:absl:Found untraced functions such as _update_step_xla while saving (showing 1 of 1). These functions will not be directly callable after loading.\n"
          ]
        },
        {
          "output_type": "stream",
          "name": "stdout",
          "text": [
            "\b\b\b\b\b\b\b\b\b\b\b\b\b\b\b\b\b\b\b\b\b\b\b\b\b\b\b\b\b\b\b\b\b\b\b\b\b\b\b\b\b\b\b\b\b\b\b\b\b\b\b\b\b\b\b\b\b\b\b\b\b\b\b\b\b\b\b\b\b\b\b\b\b\b\b\b\b\b\b\b\b\b\b\b\b\b\b\b\b\b\b\b\b\b\b\b\b\b\b\b\r18/18 [==============================] - 1s 86ms/step - loss: 174.2341 - mae: 174.2341 - mse: 164280.0312 - val_loss: 928.7177 - val_mae: 928.7177 - val_mse: 2853403.0000\n",
            "Epoch 11/100\n",
            "18/18 [==============================] - 0s 4ms/step - loss: 170.1767 - mae: 170.1767 - mse: 152621.5312 - val_loss: 974.9651 - val_mae: 974.9651 - val_mse: 2859423.2500\n",
            "Epoch 12/100\n",
            "18/18 [==============================] - 0s 4ms/step - loss: 164.2447 - mae: 164.2447 - mse: 145093.9219 - val_loss: 951.5860 - val_mae: 951.5860 - val_mse: 2720296.5000\n",
            "Epoch 13/100\n",
            "18/18 [==============================] - 0s 4ms/step - loss: 160.7574 - mae: 160.7574 - mse: 141481.5469 - val_loss: 934.5651 - val_mae: 934.5651 - val_mse: 2614790.7500\n",
            "Epoch 14/100\n",
            "18/18 [==============================] - 0s 5ms/step - loss: 154.6970 - mae: 154.6970 - mse: 130922.8047 - val_loss: 972.2634 - val_mae: 972.2634 - val_mse: 2692806.2500\n",
            "Epoch 15/100\n",
            " 1/18 [>.............................] - ETA: 0s - loss: 173.8768 - mae: 173.8768 - mse: 113806.5781"
          ]
        },
        {
          "output_type": "stream",
          "name": "stderr",
          "text": [
            "WARNING:absl:Found untraced functions such as _update_step_xla while saving (showing 1 of 1). These functions will not be directly callable after loading.\n"
          ]
        },
        {
          "output_type": "stream",
          "name": "stdout",
          "text": [
            "\b\b\b\b\b\b\b\b\b\b\b\b\b\b\b\b\b\b\b\b\b\b\b\b\b\b\b\b\b\b\b\b\b\b\b\b\b\b\b\b\b\b\b\b\b\b\b\b\b\b\b\b\b\b\b\b\b\b\b\b\b\b\b\b\b\b\b\b\b\b\b\b\b\b\b\b\b\b\b\b\b\b\b\b\b\b\b\b\b\b\b\b\b\b\b\b\b\b\b\b\r18/18 [==============================] - 1s 39ms/step - loss: 153.1106 - mae: 153.1106 - mse: 129959.7969 - val_loss: 849.6540 - val_mae: 849.6540 - val_mse: 2266861.0000\n",
            "Epoch 16/100\n",
            "18/18 [==============================] - 0s 5ms/step - loss: 146.2889 - mae: 146.2889 - mse: 118630.2500 - val_loss: 872.3514 - val_mae: 872.3514 - val_mse: 2288473.7500\n",
            "Epoch 17/100\n",
            "18/18 [==============================] - 0s 6ms/step - loss: 144.3301 - mae: 144.3301 - mse: 114945.6797 - val_loss: 858.4627 - val_mae: 858.4627 - val_mse: 2214719.5000\n",
            "Epoch 18/100\n",
            " 1/18 [>.............................] - ETA: 0s - loss: 162.9285 - mae: 162.9285 - mse: 128664.1406"
          ]
        },
        {
          "output_type": "stream",
          "name": "stderr",
          "text": [
            "WARNING:absl:Found untraced functions such as _update_step_xla while saving (showing 1 of 1). These functions will not be directly callable after loading.\n"
          ]
        },
        {
          "output_type": "stream",
          "name": "stdout",
          "text": [
            "\b\b\b\b\b\b\b\b\b\b\b\b\b\b\b\b\b\b\b\b\b\b\b\b\b\b\b\b\b\b\b\b\b\b\b\b\b\b\b\b\b\b\b\b\b\b\b\b\b\b\b\b\b\b\b\b\b\b\b\b\b\b\b\b\b\b\b\b\b\b\b\b\b\b\b\b\b\b\b\b\b\b\b\b\b\b\b\b\b\b\b\b\b\b\b\b\b\b\b\b\r18/18 [==============================] - 1s 39ms/step - loss: 144.4832 - mae: 144.4832 - mse: 114843.8203 - val_loss: 799.5633 - val_mae: 799.5633 - val_mse: 2014547.6250\n",
            "Epoch 19/100\n",
            " 1/18 [>.............................] - ETA: 0s - loss: 85.1799 - mae: 85.1799 - mse: 38999.9844"
          ]
        },
        {
          "output_type": "stream",
          "name": "stderr",
          "text": [
            "WARNING:absl:Found untraced functions such as _update_step_xla while saving (showing 1 of 1). These functions will not be directly callable after loading.\n"
          ]
        },
        {
          "output_type": "stream",
          "name": "stdout",
          "text": [
            "\b\b\b\b\b\b\b\b\b\b\b\b\b\b\b\b\b\b\b\b\b\b\b\b\b\b\b\b\b\b\b\b\b\b\b\b\b\b\b\b\b\b\b\b\b\b\b\b\b\b\b\b\b\b\b\b\b\b\b\b\b\b\b\b\b\b\b\b\b\b\b\b\b\b\b\b\b\b\b\b\b\b\b\b\b\b\b\b\b\b\b\b\b\b\b\b\b\r18/18 [==============================] - 1s 59ms/step - loss: 137.7170 - mae: 137.7170 - mse: 107054.2891 - val_loss: 772.8139 - val_mae: 772.8139 - val_mse: 1912122.3750\n",
            "Epoch 20/100\n",
            "17/18 [===========================>..] - ETA: 0s - loss: 134.8163 - mae: 134.8163 - mse: 104243.0703"
          ]
        },
        {
          "output_type": "stream",
          "name": "stderr",
          "text": [
            "WARNING:absl:Found untraced functions such as _update_step_xla while saving (showing 1 of 1). These functions will not be directly callable after loading.\n"
          ]
        },
        {
          "output_type": "stream",
          "name": "stdout",
          "text": [
            "\b\b\b\b\b\b\b\b\b\b\b\b\b\b\b\b\b\b\b\b\b\b\b\b\b\b\b\b\b\b\b\b\b\b\b\b\b\b\b\b\b\b\b\b\b\b\b\b\b\b\b\b\b\b\b\b\b\b\b\b\b\b\b\b\b\b\b\b\b\b\b\b\b\b\b\b\b\b\b\b\b\b\b\b\b\b\b\b\b\b\b\b\b\b\b\b\b\b\b\b\r18/18 [==============================] - 1s 62ms/step - loss: 134.9305 - mae: 134.9305 - mse: 103524.6094 - val_loss: 740.8766 - val_mae: 740.8766 - val_mse: 1872943.3750\n",
            "Epoch 21/100\n",
            "17/18 [===========================>..] - ETA: 0s - loss: 137.1516 - mae: 137.1516 - mse: 102117.2031"
          ]
        },
        {
          "output_type": "stream",
          "name": "stderr",
          "text": [
            "WARNING:absl:Found untraced functions such as _update_step_xla while saving (showing 1 of 1). These functions will not be directly callable after loading.\n"
          ]
        },
        {
          "output_type": "stream",
          "name": "stdout",
          "text": [
            "\b\b\b\b\b\b\b\b\b\b\b\b\b\b\b\b\b\b\b\b\b\b\b\b\b\b\b\b\b\b\b\b\b\b\b\b\b\b\b\b\b\b\b\b\b\b\b\b\b\b\b\b\b\b\b\b\b\b\b\b\b\b\b\b\b\b\b\b\b\b\b\b\b\b\b\b\b\b\b\b\b\b\b\b\b\b\b\b\b\b\b\b\b\b\b\b\b\b\b\b\r18/18 [==============================] - 1s 61ms/step - loss: 137.9967 - mae: 137.9967 - mse: 106843.7344 - val_loss: 723.0039 - val_mae: 723.0039 - val_mse: 1754063.7500\n",
            "Epoch 22/100\n",
            "18/18 [==============================] - 0s 7ms/step - loss: 131.9548 - mae: 131.9548 - mse: 98771.0234 - val_loss: 730.4868 - val_mae: 730.4868 - val_mse: 1727950.3750\n",
            "Epoch 23/100\n",
            " 1/18 [>.............................] - ETA: 0s - loss: 127.9728 - mae: 127.9728 - mse: 75363.7656"
          ]
        },
        {
          "output_type": "stream",
          "name": "stderr",
          "text": [
            "WARNING:absl:Found untraced functions such as _update_step_xla while saving (showing 1 of 1). These functions will not be directly callable after loading.\n"
          ]
        },
        {
          "output_type": "stream",
          "name": "stdout",
          "text": [
            "\b\b\b\b\b\b\b\b\b\b\b\b\b\b\b\b\b\b\b\b\b\b\b\b\b\b\b\b\b\b\b\b\b\b\b\b\b\b\b\b\b\b\b\b\b\b\b\b\b\b\b\b\b\b\b\b\b\b\b\b\b\b\b\b\b\b\b\b\b\b\b\b\b\b\b\b\b\b\b\b\b\b\b\b\b\b\b\b\b\b\b\b\b\b\b\b\b\b\b\r18/18 [==============================] - 1s 43ms/step - loss: 134.1638 - mae: 134.1638 - mse: 99419.8906 - val_loss: 720.5453 - val_mae: 720.5453 - val_mse: 1677637.5000\n",
            "Epoch 24/100\n",
            " 1/18 [>.............................] - ETA: 0s - loss: 136.6626 - mae: 136.6626 - mse: 83576.3984"
          ]
        },
        {
          "output_type": "stream",
          "name": "stderr",
          "text": [
            "WARNING:absl:Found untraced functions such as _update_step_xla while saving (showing 1 of 1). These functions will not be directly callable after loading.\n"
          ]
        },
        {
          "output_type": "stream",
          "name": "stdout",
          "text": [
            "\b\b\b\b\b\b\b\b\b\b\b\b\b\b\b\b\b\b\b\b\b\b\b\b\b\b\b\b\b\b\b\b\b\b\b\b\b\b\b\b\b\b\b\b\b\b\b\b\b\b\b\b\b\b\b\b\b\b\b\b\b\b\b\b\b\b\b\b\b\b\b\b\b\b\b\b\b\b\b\b\b\b\b\b\b\b\b\b\b\b\b\b\b\b\b\b\b\b\b\r18/18 [==============================] - 1s 40ms/step - loss: 127.3959 - mae: 127.3959 - mse: 92576.2422 - val_loss: 691.3855 - val_mae: 691.3855 - val_mse: 1649016.0000\n",
            "Epoch 25/100\n",
            " 1/18 [>.............................] - ETA: 0s - loss: 131.9348 - mae: 131.9348 - mse: 67696.3203"
          ]
        },
        {
          "output_type": "stream",
          "name": "stderr",
          "text": [
            "WARNING:absl:Found untraced functions such as _update_step_xla while saving (showing 1 of 1). These functions will not be directly callable after loading.\n"
          ]
        },
        {
          "output_type": "stream",
          "name": "stdout",
          "text": [
            "\b\b\b\b\b\b\b\b\b\b\b\b\b\b\b\b\b\b\b\b\b\b\b\b\b\b\b\b\b\b\b\b\b\b\b\b\b\b\b\b\b\b\b\b\b\b\b\b\b\b\b\b\b\b\b\b\b\b\b\b\b\b\b\b\b\b\b\b\b\b\b\b\b\b\b\b\b\b\b\b\b\b\b\b\b\b\b\b\b\b\b\b\b\b\b\b\b\b\b\r18/18 [==============================] - 1s 41ms/step - loss: 127.8351 - mae: 127.8351 - mse: 90235.8906 - val_loss: 677.1636 - val_mae: 677.1636 - val_mse: 1546597.0000\n",
            "Epoch 26/100\n",
            " 1/18 [>.............................] - ETA: 0s - loss: 119.4765 - mae: 119.4765 - mse: 66439.7109"
          ]
        },
        {
          "output_type": "stream",
          "name": "stderr",
          "text": [
            "WARNING:absl:Found untraced functions such as _update_step_xla while saving (showing 1 of 1). These functions will not be directly callable after loading.\n"
          ]
        },
        {
          "output_type": "stream",
          "name": "stdout",
          "text": [
            "\b\b\b\b\b\b\b\b\b\b\b\b\b\b\b\b\b\b\b\b\b\b\b\b\b\b\b\b\b\b\b\b\b\b\b\b\b\b\b\b\b\b\b\b\b\b\b\b\b\b\b\b\b\b\b\b\b\b\b\b\b\b\b\b\b\b\b\b\b\b\b\b\b\b\b\b\b\b\b\b\b\b\b\b\b\b\b\b\b\b\b\b\b\b\b\b\b\b\b\r18/18 [==============================] - 1s 42ms/step - loss: 123.2853 - mae: 123.2853 - mse: 87655.1875 - val_loss: 663.9356 - val_mae: 663.9356 - val_mse: 1515505.7500\n",
            "Epoch 27/100\n",
            "18/18 [==============================] - 0s 5ms/step - loss: 121.4927 - mae: 121.4927 - mse: 86740.0469 - val_loss: 675.9123 - val_mae: 675.9123 - val_mse: 1574355.6250\n",
            "Epoch 28/100\n",
            " 1/18 [>.............................] - ETA: 0s - loss: 119.7441 - mae: 119.7441 - mse: 70968.2266"
          ]
        },
        {
          "output_type": "stream",
          "name": "stderr",
          "text": [
            "WARNING:absl:Found untraced functions such as _update_step_xla while saving (showing 1 of 1). These functions will not be directly callable after loading.\n"
          ]
        },
        {
          "output_type": "stream",
          "name": "stdout",
          "text": [
            "\b\b\b\b\b\b\b\b\b\b\b\b\b\b\b\b\b\b\b\b\b\b\b\b\b\b\b\b\b\b\b\b\b\b\b\b\b\b\b\b\b\b\b\b\b\b\b\b\b\b\b\b\b\b\b\b\b\b\b\b\b\b\b\b\b\b\b\b\b\b\b\b\b\b\b\b\b\b\b\b\b\b\b\b\b\b\b\b\b\b\b\b\b\b\b\b\b\b\b\r18/18 [==============================] - 1s 40ms/step - loss: 120.5325 - mae: 120.5325 - mse: 83652.5234 - val_loss: 648.8304 - val_mae: 648.8304 - val_mse: 1441671.1250\n",
            "Epoch 29/100\n",
            " 1/18 [>.............................] - ETA: 0s - loss: 114.1638 - mae: 114.1638 - mse: 93143.6953"
          ]
        },
        {
          "output_type": "stream",
          "name": "stderr",
          "text": [
            "WARNING:absl:Found untraced functions such as _update_step_xla while saving (showing 1 of 1). These functions will not be directly callable after loading.\n"
          ]
        },
        {
          "output_type": "stream",
          "name": "stdout",
          "text": [
            "\b\b\b\b\b\b\b\b\b\b\b\b\b\b\b\b\b\b\b\b\b\b\b\b\b\b\b\b\b\b\b\b\b\b\b\b\b\b\b\b\b\b\b\b\b\b\b\b\b\b\b\b\b\b\b\b\b\b\b\b\b\b\b\b\b\b\b\b\b\b\b\b\b\b\b\b\b\b\b\b\b\b\b\b\b\b\b\b\b\b\b\b\b\b\b\b\b\b\b\r18/18 [==============================] - 1s 41ms/step - loss: 119.2451 - mae: 119.2451 - mse: 82298.8516 - val_loss: 648.7433 - val_mae: 648.7433 - val_mse: 1428901.1250\n",
            "Epoch 30/100\n",
            " 1/18 [>.............................] - ETA: 0s - loss: 134.4949 - mae: 134.4949 - mse: 94308.1719"
          ]
        },
        {
          "output_type": "stream",
          "name": "stderr",
          "text": [
            "WARNING:absl:Found untraced functions such as _update_step_xla while saving (showing 1 of 1). These functions will not be directly callable after loading.\n"
          ]
        },
        {
          "output_type": "stream",
          "name": "stdout",
          "text": [
            "\b\b\b\b\b\b\b\b\b\b\b\b\b\b\b\b\b\b\b\b\b\b\b\b\b\b\b\b\b\b\b\b\b\b\b\b\b\b\b\b\b\b\b\b\b\b\b\b\b\b\b\b\b\b\b\b\b\b\b\b\b\b\b\b\b\b\b\b\b\b\b\b\b\b\b\b\b\b\b\b\b\b\b\b\b\b\b\b\b\b\b\b\b\b\b\b\b\b\b\r18/18 [==============================] - 1s 41ms/step - loss: 127.0114 - mae: 127.0114 - mse: 87061.2031 - val_loss: 634.8497 - val_mae: 634.8497 - val_mse: 1406284.3750\n",
            "Epoch 31/100\n",
            "18/18 [==============================] - 0s 4ms/step - loss: 116.3137 - mae: 116.3137 - mse: 79484.0469 - val_loss: 647.0029 - val_mae: 647.0029 - val_mse: 1408816.2500\n",
            "Epoch 32/100\n",
            " 1/18 [>.............................] - ETA: 0s - loss: 115.2035 - mae: 115.2035 - mse: 78653.4297"
          ]
        },
        {
          "output_type": "stream",
          "name": "stderr",
          "text": [
            "WARNING:absl:Found untraced functions such as _update_step_xla while saving (showing 1 of 1). These functions will not be directly callable after loading.\n"
          ]
        },
        {
          "output_type": "stream",
          "name": "stdout",
          "text": [
            "\b\b\b\b\b\b\b\b\b\b\b\b\b\b\b\b\b\b\b\b\b\b\b\b\b\b\b\b\b\b\b\b\b\b\b\b\b\b\b\b\b\b\b\b\b\b\b\b\b\b\b\b\b\b\b\b\b\b\b\b\b\b\b\b\b\b\b\b\b\b\b\b\b\b\b\b\b\b\b\b\b\b\b\b\b\b\b\b\b\b\b\b\b\b\b\b\b\b\b\r18/18 [==============================] - 1s 40ms/step - loss: 116.1040 - mae: 116.1040 - mse: 81316.6250 - val_loss: 626.9219 - val_mae: 626.9219 - val_mse: 1360852.7500\n",
            "Epoch 33/100\n",
            "18/18 [==============================] - 0s 5ms/step - loss: 115.6004 - mae: 115.6004 - mse: 79329.6797 - val_loss: 677.5261 - val_mae: 677.5261 - val_mse: 1473582.2500\n",
            "Epoch 34/100\n",
            " 1/18 [>.............................] - ETA: 0s - loss: 142.1562 - mae: 142.1562 - mse: 122117.8359"
          ]
        },
        {
          "output_type": "stream",
          "name": "stderr",
          "text": [
            "WARNING:absl:Found untraced functions such as _update_step_xla while saving (showing 1 of 1). These functions will not be directly callable after loading.\n"
          ]
        },
        {
          "output_type": "stream",
          "name": "stdout",
          "text": [
            "\b\b\b\b\b\b\b\b\b\b\b\b\b\b\b\b\b\b\b\b\b\b\b\b\b\b\b\b\b\b\b\b\b\b\b\b\b\b\b\b\b\b\b\b\b\b\b\b\b\b\b\b\b\b\b\b\b\b\b\b\b\b\b\b\b\b\b\b\b\b\b\b\b\b\b\b\b\b\b\b\b\b\b\b\b\b\b\b\b\b\b\b\b\b\b\b\b\b\b\b\r18/18 [==============================] - 1s 38ms/step - loss: 117.1043 - mae: 117.1043 - mse: 81120.2266 - val_loss: 623.2674 - val_mae: 623.2674 - val_mse: 1359747.6250\n",
            "Epoch 35/100\n",
            "18/18 [==============================] - 0s 5ms/step - loss: 113.5001 - mae: 113.5001 - mse: 78291.5391 - val_loss: 647.9254 - val_mae: 647.9254 - val_mse: 1429863.3750\n",
            "Epoch 36/100\n",
            "18/18 [==============================] - 0s 5ms/step - loss: 116.8628 - mae: 116.8628 - mse: 80136.2734 - val_loss: 632.9235 - val_mae: 632.9235 - val_mse: 1381661.5000\n",
            "Epoch 37/100\n",
            " 1/18 [>.............................] - ETA: 0s - loss: 138.3682 - mae: 138.3682 - mse: 129391.6484"
          ]
        },
        {
          "output_type": "stream",
          "name": "stderr",
          "text": [
            "WARNING:absl:Found untraced functions such as _update_step_xla while saving (showing 1 of 1). These functions will not be directly callable after loading.\n"
          ]
        },
        {
          "output_type": "stream",
          "name": "stdout",
          "text": [
            "\b\b\b\b\b\b\b\b\b\b\b\b\b\b\b\b\b\b\b\b\b\b\b\b\b\b\b\b\b\b\b\b\b\b\b\b\b\b\b\b\b\b\b\b\b\b\b\b\b\b\b\b\b\b\b\b\b\b\b\b\b\b\b\b\b\b\b\b\b\b\b\b\b\b\b\b\b\b\b\b\b\b\b\b\b\b\b\b\b\b\b\b\b\b\b\b\b\b\b\b\r18/18 [==============================] - 1s 39ms/step - loss: 116.2475 - mae: 116.2475 - mse: 79985.0391 - val_loss: 614.7488 - val_mae: 614.7488 - val_mse: 1309995.0000\n",
            "Epoch 38/100\n",
            " 1/18 [>.............................] - ETA: 0s - loss: 103.4757 - mae: 103.4757 - mse: 64927.0742"
          ]
        },
        {
          "output_type": "stream",
          "name": "stderr",
          "text": [
            "WARNING:absl:Found untraced functions such as _update_step_xla while saving (showing 1 of 1). These functions will not be directly callable after loading.\n"
          ]
        },
        {
          "output_type": "stream",
          "name": "stdout",
          "text": [
            "\b\b\b\b\b\b\b\b\b\b\b\b\b\b\b\b\b\b\b\b\b\b\b\b\b\b\b\b\b\b\b\b\b\b\b\b\b\b\b\b\b\b\b\b\b\b\b\b\b\b\b\b\b\b\b\b\b\b\b\b\b\b\b\b\b\b\b\b\b\b\b\b\b\b\b\b\b\b\b\b\b\b\b\b\b\b\b\b\b\b\b\b\b\b\b\b\b\b\b\r18/18 [==============================] - 1s 40ms/step - loss: 114.5621 - mae: 114.5621 - mse: 77988.8359 - val_loss: 604.6984 - val_mae: 604.6984 - val_mse: 1296567.2500\n",
            "Epoch 39/100\n",
            " 1/18 [>.............................] - ETA: 0s - loss: 128.0358 - mae: 128.0358 - mse: 117285.5938"
          ]
        },
        {
          "output_type": "stream",
          "name": "stderr",
          "text": [
            "WARNING:absl:Found untraced functions such as _update_step_xla while saving (showing 1 of 1). These functions will not be directly callable after loading.\n"
          ]
        },
        {
          "output_type": "stream",
          "name": "stdout",
          "text": [
            "\b\b\b\b\b\b\b\b\b\b\b\b\b\b\b\b\b\b\b\b\b\b\b\b\b\b\b\b\b\b\b\b\b\b\b\b\b\b\b\b\b\b\b\b\b\b\b\b\b\b\b\b\b\b\b\b\b\b\b\b\b\b\b\b\b\b\b\b\b\b\b\b\b\b\b\b\b\b\b\b\b\b\b\b\b\b\b\b\b\b\b\b\b\b\b\b\b\b\b\b\r18/18 [==============================] - 1s 41ms/step - loss: 112.7246 - mae: 112.7246 - mse: 77368.8359 - val_loss: 602.3508 - val_mae: 602.3508 - val_mse: 1278856.8750\n",
            "Epoch 40/100\n",
            "18/18 [==============================] - 0s 4ms/step - loss: 110.6125 - mae: 110.6125 - mse: 73848.6875 - val_loss: 602.7994 - val_mae: 602.7994 - val_mse: 1287841.0000\n",
            "Epoch 41/100\n",
            " 1/18 [>.............................] - ETA: 0s - loss: 107.4068 - mae: 107.4068 - mse: 55112.5078"
          ]
        },
        {
          "output_type": "stream",
          "name": "stderr",
          "text": [
            "WARNING:absl:Found untraced functions such as _update_step_xla while saving (showing 1 of 1). These functions will not be directly callable after loading.\n"
          ]
        },
        {
          "output_type": "stream",
          "name": "stdout",
          "text": [
            "\b\b\b\b\b\b\b\b\b\b\b\b\b\b\b\b\b\b\b\b\b\b\b\b\b\b\b\b\b\b\b\b\b\b\b\b\b\b\b\b\b\b\b\b\b\b\b\b\b\b\b\b\b\b\b\b\b\b\b\b\b\b\b\b\b\b\b\b\b\b\b\b\b\b\b\b\b\b\b\b\b\b\b\b\b\b\b\b\b\b\b\b\b\b\b\b\b\b\b\r18/18 [==============================] - 1s 39ms/step - loss: 110.8409 - mae: 110.8409 - mse: 73469.5312 - val_loss: 601.7784 - val_mae: 601.7784 - val_mse: 1271741.1250\n",
            "Epoch 42/100\n",
            "18/18 [==============================] - 0s 4ms/step - loss: 115.5128 - mae: 115.5128 - mse: 78754.9453 - val_loss: 706.2006 - val_mae: 706.2006 - val_mse: 1514794.2500\n",
            "Epoch 43/100\n",
            "18/18 [==============================] - 0s 4ms/step - loss: 115.7823 - mae: 115.7823 - mse: 73640.9531 - val_loss: 670.3644 - val_mae: 670.3644 - val_mse: 1457020.7500\n",
            "Epoch 44/100\n",
            "18/18 [==============================] - 0s 6ms/step - loss: 114.7140 - mae: 114.7140 - mse: 75276.0938 - val_loss: 613.8134 - val_mae: 613.8134 - val_mse: 1287914.2500\n",
            "Epoch 45/100\n",
            " 1/18 [>.............................] - ETA: 0s - loss: 87.4023 - mae: 87.4023 - mse: 36244.6406"
          ]
        },
        {
          "output_type": "stream",
          "name": "stderr",
          "text": [
            "WARNING:absl:Found untraced functions such as _update_step_xla while saving (showing 1 of 1). These functions will not be directly callable after loading.\n"
          ]
        },
        {
          "output_type": "stream",
          "name": "stdout",
          "text": [
            "\b\b\b\b\b\b\b\b\b\b\b\b\b\b\b\b\b\b\b\b\b\b\b\b\b\b\b\b\b\b\b\b\b\b\b\b\b\b\b\b\b\b\b\b\b\b\b\b\b\b\b\b\b\b\b\b\b\b\b\b\b\b\b\b\b\b\b\b\b\b\b\b\b\b\b\b\b\b\b\b\b\b\b\b\b\b\b\b\b\b\b\b\b\b\b\b\b\r18/18 [==============================] - 1s 75ms/step - loss: 114.5516 - mae: 114.5516 - mse: 74126.4453 - val_loss: 591.5181 - val_mae: 591.5181 - val_mse: 1253106.6250\n",
            "Epoch 46/100\n",
            "18/18 [==============================] - 0s 7ms/step - loss: 111.4154 - mae: 111.4154 - mse: 72565.8281 - val_loss: 604.7859 - val_mae: 604.7859 - val_mse: 1265848.1250\n",
            "Epoch 47/100\n",
            "18/18 [==============================] - 0s 7ms/step - loss: 110.9716 - mae: 110.9716 - mse: 73745.1797 - val_loss: 625.8583 - val_mae: 625.8583 - val_mse: 1305248.2500\n",
            "Epoch 48/100\n",
            "15/18 [========================>.....] - ETA: 0s - loss: 109.1641 - mae: 109.1641 - mse: 75978.2188"
          ]
        },
        {
          "output_type": "stream",
          "name": "stderr",
          "text": [
            "WARNING:absl:Found untraced functions such as _update_step_xla while saving (showing 1 of 1). These functions will not be directly callable after loading.\n"
          ]
        },
        {
          "output_type": "stream",
          "name": "stdout",
          "text": [
            "\b\b\b\b\b\b\b\b\b\b\b\b\b\b\b\b\b\b\b\b\b\b\b\b\b\b\b\b\b\b\b\b\b\b\b\b\b\b\b\b\b\b\b\b\b\b\b\b\b\b\b\b\b\b\b\b\b\b\b\b\b\b\b\b\b\b\b\b\b\b\b\b\b\b\b\b\b\b\b\b\b\b\b\b\b\b\b\b\b\b\b\b\b\b\b\b\b\b\b\r18/18 [==============================] - 1s 63ms/step - loss: 108.6730 - mae: 108.6730 - mse: 72008.5312 - val_loss: 588.2798 - val_mae: 588.2798 - val_mse: 1230872.5000\n",
            "Epoch 49/100\n",
            "18/18 [==============================] - 0s 7ms/step - loss: 111.4833 - mae: 111.4833 - mse: 74154.3125 - val_loss: 691.1303 - val_mae: 691.1303 - val_mse: 1455092.1250\n",
            "Epoch 50/100\n",
            "18/18 [==============================] - 0s 4ms/step - loss: 117.5397 - mae: 117.5397 - mse: 77270.1875 - val_loss: 762.1852 - val_mae: 762.1852 - val_mse: 1730900.1250\n",
            "Epoch 51/100\n",
            "18/18 [==============================] - 0s 4ms/step - loss: 117.9241 - mae: 117.9241 - mse: 76686.1328 - val_loss: 616.5956 - val_mae: 616.5956 - val_mse: 1277475.0000\n",
            "Epoch 52/100\n",
            "18/18 [==============================] - 0s 4ms/step - loss: 113.7689 - mae: 113.7689 - mse: 74914.3047 - val_loss: 591.5269 - val_mae: 591.5269 - val_mse: 1243505.6250\n",
            "Epoch 53/100\n",
            " 1/18 [>.............................] - ETA: 0s - loss: 62.3677 - mae: 62.3677 - mse: 24064.6914"
          ]
        },
        {
          "output_type": "stream",
          "name": "stderr",
          "text": [
            "WARNING:absl:Found untraced functions such as _update_step_xla while saving (showing 1 of 1). These functions will not be directly callable after loading.\n"
          ]
        },
        {
          "output_type": "stream",
          "name": "stdout",
          "text": [
            "\b\b\b\b\b\b\b\b\b\b\b\b\b\b\b\b\b\b\b\b\b\b\b\b\b\b\b\b\b\b\b\b\b\b\b\b\b\b\b\b\b\b\b\b\b\b\b\b\b\b\b\b\b\b\b\b\b\b\b\b\b\b\b\b\b\b\b\b\b\b\b\b\b\b\b\b\b\b\b\b\b\b\b\b\b\b\b\b\b\b\b\b\b\b\b\b\b\r18/18 [==============================] - 1s 39ms/step - loss: 112.2504 - mae: 112.2504 - mse: 72836.9141 - val_loss: 579.2282 - val_mae: 579.2282 - val_mse: 1209185.7500\n",
            "Epoch 54/100\n",
            " 1/18 [>.............................] - ETA: 0s - loss: 98.9035 - mae: 98.9035 - mse: 73327.8750"
          ]
        },
        {
          "output_type": "stream",
          "name": "stderr",
          "text": [
            "WARNING:absl:Found untraced functions such as _update_step_xla while saving (showing 1 of 1). These functions will not be directly callable after loading.\n"
          ]
        },
        {
          "output_type": "stream",
          "name": "stdout",
          "text": [
            "\b\b\b\b\b\b\b\b\b\b\b\b\b\b\b\b\b\b\b\b\b\b\b\b\b\b\b\b\b\b\b\b\b\b\b\b\b\b\b\b\b\b\b\b\b\b\b\b\b\b\b\b\b\b\b\b\b\b\b\b\b\b\b\b\b\b\b\b\b\b\b\b\b\b\b\b\b\b\b\b\b\b\b\b\b\b\b\b\b\b\b\b\b\b\b\b\b\r18/18 [==============================] - 1s 39ms/step - loss: 108.2648 - mae: 108.2648 - mse: 71162.3203 - val_loss: 578.8654 - val_mae: 578.8654 - val_mse: 1207838.2500\n",
            "Epoch 55/100\n",
            "18/18 [==============================] - 0s 4ms/step - loss: 111.7256 - mae: 111.7256 - mse: 73907.0625 - val_loss: 646.8540 - val_mae: 646.8540 - val_mse: 1337186.1250\n",
            "Epoch 56/100\n",
            "18/18 [==============================] - 0s 4ms/step - loss: 117.2947 - mae: 117.2947 - mse: 75747.7031 - val_loss: 884.8024 - val_mae: 884.8024 - val_mse: 2172056.5000\n",
            "Epoch 57/100\n",
            "18/18 [==============================] - 0s 5ms/step - loss: 140.3645 - mae: 140.3645 - mse: 94345.8125 - val_loss: 791.7639 - val_mae: 791.7639 - val_mse: 1824788.6250\n",
            "Epoch 58/100\n",
            "18/18 [==============================] - 0s 5ms/step - loss: 120.3299 - mae: 120.3299 - mse: 75135.4141 - val_loss: 615.7631 - val_mae: 615.7631 - val_mse: 1270346.1250\n",
            "Epoch 59/100\n",
            "18/18 [==============================] - 0s 5ms/step - loss: 110.2322 - mae: 110.2322 - mse: 71724.6406 - val_loss: 621.7882 - val_mae: 621.7882 - val_mse: 1307091.0000\n",
            "Epoch 60/100\n",
            "18/18 [==============================] - 0s 4ms/step - loss: 110.3888 - mae: 110.3888 - mse: 73374.1641 - val_loss: 584.4535 - val_mae: 584.4535 - val_mse: 1210523.1250\n",
            "Epoch 61/100\n",
            "18/18 [==============================] - 0s 5ms/step - loss: 106.7636 - mae: 106.7636 - mse: 69775.4844 - val_loss: 594.5367 - val_mae: 594.5367 - val_mse: 1226425.0000\n",
            "Epoch 62/100\n",
            "18/18 [==============================] - 0s 5ms/step - loss: 108.9166 - mae: 108.9166 - mse: 71119.1641 - val_loss: 637.4968 - val_mae: 637.4968 - val_mse: 1343846.6250\n",
            "Epoch 63/100\n",
            "18/18 [==============================] - 0s 4ms/step - loss: 114.3712 - mae: 114.3712 - mse: 74307.3750 - val_loss: 672.5952 - val_mae: 672.5952 - val_mse: 1393391.2500\n",
            "Epoch 64/100\n",
            " 1/18 [>.............................] - ETA: 0s - loss: 93.9827 - mae: 93.9827 - mse: 34725.9141"
          ]
        },
        {
          "output_type": "stream",
          "name": "stderr",
          "text": [
            "WARNING:absl:Found untraced functions such as _update_step_xla while saving (showing 1 of 1). These functions will not be directly callable after loading.\n"
          ]
        },
        {
          "output_type": "stream",
          "name": "stdout",
          "text": [
            "\b\b\b\b\b\b\b\b\b\b\b\b\b\b\b\b\b\b\b\b\b\b\b\b\b\b\b\b\b\b\b\b\b\b\b\b\b\b\b\b\b\b\b\b\b\b\b\b\b\b\b\b\b\b\b\b\b\b\b\b\b\b\b\b\b\b\b\b\b\b\b\b\b\b\b\b\b\b\b\b\b\b\b\b\b\b\b\b\b\b\b\b\b\b\b\b\b\r18/18 [==============================] - 1s 38ms/step - loss: 111.8130 - mae: 111.8130 - mse: 72222.4219 - val_loss: 576.2165 - val_mae: 576.2165 - val_mse: 1193802.8750\n",
            "Epoch 65/100\n",
            " 1/18 [>.............................] - ETA: 0s - loss: 126.2507 - mae: 126.2507 - mse: 161703.5156"
          ]
        },
        {
          "output_type": "stream",
          "name": "stderr",
          "text": [
            "WARNING:absl:Found untraced functions such as _update_step_xla while saving (showing 1 of 1). These functions will not be directly callable after loading.\n"
          ]
        },
        {
          "output_type": "stream",
          "name": "stdout",
          "text": [
            "\b\b\b\b\b\b\b\b\b\b\b\b\b\b\b\b\b\b\b\b\b\b\b\b\b\b\b\b\b\b\b\b\b\b\b\b\b\b\b\b\b\b\b\b\b\b\b\b\b\b\b\b\b\b\b\b\b\b\b\b\b\b\b\b\b\b\b\b\b\b\b\b\b\b\b\b\b\b\b\b\b\b\b\b\b\b\b\b\b\b\b\b\b\b\b\b\b\b\b\b\r18/18 [==============================] - 1s 38ms/step - loss: 107.6588 - mae: 107.6588 - mse: 70589.9062 - val_loss: 574.0098 - val_mae: 574.0098 - val_mse: 1188608.2500\n",
            "Epoch 66/100\n",
            "18/18 [==============================] - 0s 4ms/step - loss: 106.4802 - mae: 106.4802 - mse: 69832.2266 - val_loss: 586.5112 - val_mae: 586.5112 - val_mse: 1206746.8750\n",
            "Epoch 67/100\n",
            "18/18 [==============================] - 0s 5ms/step - loss: 106.9793 - mae: 106.9793 - mse: 69563.7422 - val_loss: 667.9978 - val_mae: 667.9978 - val_mse: 1416924.6250\n",
            "Epoch 68/100\n",
            "18/18 [==============================] - 0s 5ms/step - loss: 106.1814 - mae: 106.1814 - mse: 68206.0000 - val_loss: 579.7787 - val_mae: 579.7787 - val_mse: 1194510.8750\n",
            "Epoch 69/100\n",
            "18/18 [==============================] - 0s 4ms/step - loss: 115.2066 - mae: 115.2066 - mse: 72240.7344 - val_loss: 698.3292 - val_mae: 698.3292 - val_mse: 1456219.8750\n",
            "Epoch 70/100\n",
            "18/18 [==============================] - 0s 4ms/step - loss: 120.6911 - mae: 120.6911 - mse: 75922.3047 - val_loss: 602.2924 - val_mae: 602.2924 - val_mse: 1257165.3750\n",
            "Epoch 71/100\n",
            "18/18 [==============================] - 0s 5ms/step - loss: 106.6131 - mae: 106.6131 - mse: 68970.4766 - val_loss: 577.0099 - val_mae: 577.0099 - val_mse: 1189778.0000\n",
            "Epoch 72/100\n",
            "18/18 [==============================] - 0s 5ms/step - loss: 112.2721 - mae: 112.2721 - mse: 71448.3047 - val_loss: 581.2981 - val_mae: 581.2981 - val_mse: 1196087.7500\n",
            "Epoch 73/100\n",
            "18/18 [==============================] - 0s 5ms/step - loss: 111.4439 - mae: 111.4439 - mse: 71042.5859 - val_loss: 582.8528 - val_mae: 582.8528 - val_mse: 1209729.3750\n",
            "Epoch 74/100\n",
            "18/18 [==============================] - 0s 4ms/step - loss: 108.3411 - mae: 108.3411 - mse: 70314.2188 - val_loss: 584.3281 - val_mae: 584.3281 - val_mse: 1212695.6250\n",
            "Epoch 75/100\n",
            "18/18 [==============================] - 0s 5ms/step - loss: 110.4264 - mae: 110.4264 - mse: 70236.1172 - val_loss: 585.3026 - val_mae: 585.3026 - val_mse: 1199648.0000\n",
            "Epoch 76/100\n",
            " 1/18 [>.............................] - ETA: 0s - loss: 76.6033 - mae: 76.6033 - mse: 23778.7656"
          ]
        },
        {
          "output_type": "stream",
          "name": "stderr",
          "text": [
            "WARNING:absl:Found untraced functions such as _update_step_xla while saving (showing 1 of 1). These functions will not be directly callable after loading.\n"
          ]
        },
        {
          "output_type": "stream",
          "name": "stdout",
          "text": [
            "\b\b\b\b\b\b\b\b\b\b\b\b\b\b\b\b\b\b\b\b\b\b\b\b\b\b\b\b\b\b\b\b\b\b\b\b\b\b\b\b\b\b\b\b\b\b\b\b\b\b\b\b\b\b\b\b\b\b\b\b\b\b\b\b\b\b\b\b\b\b\b\b\b\b\b\b\b\b\b\b\b\b\b\b\b\b\b\b\b\b\b\b\b\b\b\b\b\r18/18 [==============================] - 1s 42ms/step - loss: 109.3191 - mae: 109.3191 - mse: 70871.9922 - val_loss: 572.6452 - val_mae: 572.6452 - val_mse: 1183173.2500\n",
            "Epoch 77/100\n",
            "18/18 [==============================] - 0s 5ms/step - loss: 104.7646 - mae: 104.7646 - mse: 67179.3906 - val_loss: 576.0690 - val_mae: 576.0690 - val_mse: 1184616.7500\n",
            "Epoch 78/100\n",
            "18/18 [==============================] - 0s 5ms/step - loss: 106.9025 - mae: 106.9025 - mse: 67372.4062 - val_loss: 574.6985 - val_mae: 574.6985 - val_mse: 1186972.5000\n",
            "Epoch 79/100\n",
            "18/18 [==============================] - 0s 5ms/step - loss: 105.8348 - mae: 105.8348 - mse: 68284.9531 - val_loss: 594.8235 - val_mae: 594.8235 - val_mse: 1234256.6250\n",
            "Epoch 80/100\n",
            "18/18 [==============================] - 0s 4ms/step - loss: 107.9687 - mae: 107.9687 - mse: 70953.3438 - val_loss: 612.4475 - val_mae: 612.4475 - val_mse: 1251472.2500\n",
            "Epoch 81/100\n",
            "18/18 [==============================] - 0s 5ms/step - loss: 107.3197 - mae: 107.3197 - mse: 69659.2969 - val_loss: 578.7258 - val_mae: 578.7258 - val_mse: 1186860.8750\n",
            "Epoch 82/100\n",
            "18/18 [==============================] - 0s 5ms/step - loss: 115.5479 - mae: 115.5479 - mse: 75537.5078 - val_loss: 611.2098 - val_mae: 611.2098 - val_mse: 1248365.5000\n",
            "Epoch 83/100\n",
            "18/18 [==============================] - 0s 4ms/step - loss: 116.9627 - mae: 116.9627 - mse: 75222.1250 - val_loss: 682.5388 - val_mae: 682.5388 - val_mse: 1446615.0000\n",
            "Epoch 84/100\n",
            "18/18 [==============================] - 0s 4ms/step - loss: 113.8944 - mae: 113.8944 - mse: 72811.0859 - val_loss: 586.1938 - val_mae: 586.1938 - val_mse: 1214482.8750\n",
            "Epoch 85/100\n",
            "18/18 [==============================] - 0s 4ms/step - loss: 106.8380 - mae: 106.8380 - mse: 68569.4062 - val_loss: 584.2803 - val_mae: 584.2803 - val_mse: 1196213.5000\n",
            "Epoch 86/100\n",
            "18/18 [==============================] - 0s 5ms/step - loss: 106.0932 - mae: 106.0932 - mse: 67615.0625 - val_loss: 574.7092 - val_mae: 574.7092 - val_mse: 1181342.8750\n",
            "Epoch 87/100\n",
            "18/18 [==============================] - 0s 4ms/step - loss: 106.7129 - mae: 106.7129 - mse: 67173.6641 - val_loss: 606.5751 - val_mae: 606.5751 - val_mse: 1258280.0000\n",
            "Epoch 88/100\n",
            "18/18 [==============================] - 0s 5ms/step - loss: 108.2831 - mae: 108.2831 - mse: 70026.1250 - val_loss: 588.9341 - val_mae: 588.9341 - val_mse: 1218860.7500\n",
            "Epoch 89/100\n",
            "18/18 [==============================] - 0s 4ms/step - loss: 105.6406 - mae: 105.6406 - mse: 67622.8672 - val_loss: 630.5164 - val_mae: 630.5164 - val_mse: 1291129.1250\n",
            "Epoch 90/100\n",
            "18/18 [==============================] - 0s 4ms/step - loss: 110.3776 - mae: 110.3776 - mse: 66976.0234 - val_loss: 590.1763 - val_mae: 590.1763 - val_mse: 1206652.5000\n",
            "Epoch 91/100\n",
            " 1/18 [>.............................] - ETA: 0s - loss: 85.8580 - mae: 85.8580 - mse: 27005.1211"
          ]
        },
        {
          "output_type": "stream",
          "name": "stderr",
          "text": [
            "WARNING:absl:Found untraced functions such as _update_step_xla while saving (showing 1 of 1). These functions will not be directly callable after loading.\n"
          ]
        },
        {
          "output_type": "stream",
          "name": "stdout",
          "text": [
            "\b\b\b\b\b\b\b\b\b\b\b\b\b\b\b\b\b\b\b\b\b\b\b\b\b\b\b\b\b\b\b\b\b\b\b\b\b\b\b\b\b\b\b\b\b\b\b\b\b\b\b\b\b\b\b\b\b\b\b\b\b\b\b\b\b\b\b\b\b\b\b\b\b\b\b\b\b\b\b\b\b\b\b\b\b\b\b\b\b\b\b\b\b\b\b\b\b\r18/18 [==============================] - 1s 40ms/step - loss: 110.3179 - mae: 110.3179 - mse: 70264.2578 - val_loss: 569.9069 - val_mae: 569.9069 - val_mse: 1172535.0000\n",
            "Epoch 92/100\n",
            "18/18 [==============================] - 0s 4ms/step - loss: 108.9809 - mae: 108.9809 - mse: 70476.3359 - val_loss: 628.4996 - val_mae: 628.4996 - val_mse: 1305331.1250\n",
            "Epoch 93/100\n",
            "18/18 [==============================] - 0s 5ms/step - loss: 118.2038 - mae: 118.2038 - mse: 73785.0156 - val_loss: 593.9261 - val_mae: 593.9261 - val_mse: 1229852.5000\n",
            "Epoch 94/100\n",
            "18/18 [==============================] - 0s 5ms/step - loss: 113.8334 - mae: 113.8334 - mse: 73465.9766 - val_loss: 575.3953 - val_mae: 575.3953 - val_mse: 1179414.5000\n",
            "Epoch 95/100\n",
            "18/18 [==============================] - 0s 5ms/step - loss: 105.6894 - mae: 105.6894 - mse: 67031.9922 - val_loss: 573.1057 - val_mae: 573.1057 - val_mse: 1177660.1250\n",
            "Epoch 96/100\n",
            "18/18 [==============================] - 0s 4ms/step - loss: 104.7997 - mae: 104.7997 - mse: 67262.5625 - val_loss: 572.3018 - val_mae: 572.3018 - val_mse: 1176955.1250\n",
            "Epoch 97/100\n",
            "18/18 [==============================] - 0s 4ms/step - loss: 104.5590 - mae: 104.5590 - mse: 66986.7188 - val_loss: 574.0031 - val_mae: 574.0031 - val_mse: 1178097.0000\n",
            "Epoch 98/100\n",
            "18/18 [==============================] - 0s 5ms/step - loss: 104.7339 - mae: 104.7339 - mse: 68048.0625 - val_loss: 576.7811 - val_mae: 576.7811 - val_mse: 1187575.8750\n",
            "Epoch 99/100\n",
            "18/18 [==============================] - 0s 5ms/step - loss: 107.1679 - mae: 107.1679 - mse: 69405.8203 - val_loss: 571.1453 - val_mae: 571.1453 - val_mse: 1170501.1250\n",
            "Epoch 100/100\n",
            "18/18 [==============================] - 0s 4ms/step - loss: 112.4945 - mae: 112.4945 - mse: 69369.3906 - val_loss: 601.3474 - val_mae: 601.3474 - val_mse: 1225737.1250\n"
          ]
        }
      ]
    },
    {
      "cell_type": "code",
      "source": [
        "naive_results"
      ],
      "metadata": {
        "colab": {
          "base_uri": "https://localhost:8080/"
        },
        "id": "3AqANjAFjzfO",
        "outputId": "3204a9b6-5fea-4f4e-9d69-25082160b2ef"
      },
      "execution_count": 44,
      "outputs": [
        {
          "output_type": "execute_result",
          "data": {
            "text/plain": [
              "{'mae': 567.9802,\n",
              " 'mse': 1147547.0,\n",
              " 'rmse': 1071.2362,\n",
              " 'mape': 2.5165248,\n",
              " 'mase': 0.99957}"
            ]
          },
          "metadata": {},
          "execution_count": 44
        }
      ]
    },
    {
      "cell_type": "code",
      "source": [
        "# Evaluate model on test data\n",
        "model_1.evaluate(test_windows, test_labels)"
      ],
      "metadata": {
        "colab": {
          "base_uri": "https://localhost:8080/"
        },
        "id": "7ZxXvMGjkRSf",
        "outputId": "c3fbc932-a70a-45a7-d75c-ea524b82d69e"
      },
      "execution_count": 45,
      "outputs": [
        {
          "output_type": "stream",
          "name": "stdout",
          "text": [
            "18/18 [==============================] - 0s 2ms/step - loss: 601.3474 - mae: 601.3474 - mse: 1225737.2500\n"
          ]
        },
        {
          "output_type": "execute_result",
          "data": {
            "text/plain": [
              "[601.3473510742188, 601.3473510742188, 1225737.25]"
            ]
          },
          "metadata": {},
          "execution_count": 45
        }
      ]
    },
    {
      "cell_type": "code",
      "source": [
        "# Loading in saved best performing model_1 and evaluate it on test data\n",
        "model_1 = tf.keras.models.load_model(\"model_experiments/model_1_dense/\")\n",
        "model_1.evaluate(test_windows, test_labels)"
      ],
      "metadata": {
        "colab": {
          "base_uri": "https://localhost:8080/"
        },
        "id": "AuBsyUEDkyAD",
        "outputId": "c501987e-a44c-4c39-fe78-3626b5bfbc5b"
      },
      "execution_count": 46,
      "outputs": [
        {
          "output_type": "stream",
          "name": "stdout",
          "text": [
            "18/18 [==============================] - 0s 4ms/step - loss: 569.9069 - mae: 569.9069 - mse: 1172534.8750\n"
          ]
        },
        {
          "output_type": "execute_result",
          "data": {
            "text/plain": [
              "[569.9068603515625, 569.9068603515625, 1172534.875]"
            ]
          },
          "metadata": {},
          "execution_count": 46
        }
      ]
    },
    {
      "cell_type": "markdown",
      "source": [
        "## Make forecasts with a model (on the test dataset)\n",
        "\n",
        "To make \"forecasts\" on the test dataset (note: these won't be actual forecasts, they're only pseudo forecasts because actual forecasts are into the future), let's write a function to:\n",
        "\n",
        "1. Take in a train model\n",
        "2. Takes in some input data (same kind of data the model was trained on)\n",
        "3. Passes the input data to the model's `predict()` method\n",
        "4. Returns the predictions\n",
        "\n",
        "\n"
      ],
      "metadata": {
        "id": "SHUh2ttrlPs6"
      }
    },
    {
      "cell_type": "code",
      "source": [
        "def make_preds(model, input_data):\n",
        "  \"\"\"\n",
        "  Generates a prediction (forecast) for the given `input_data` using the `model`.\n",
        "\n",
        "  Args:\n",
        "      model (object): A trained machine learning model capable of making predictions.\n",
        "      input_data (object): Input data in the format expected by the `model`.\n",
        "\n",
        "  Returns:\n",
        "      The forecast generated by the `model` for the given `input_data`, as a one-dimensional tensor.\n",
        "  \"\"\"\n",
        "  forecast = model.predict(input_data)\n",
        "  return tf.squeeze(forecast)"
      ],
      "metadata": {
        "id": "g1wsZodHmlKI"
      },
      "execution_count": 47,
      "outputs": []
    },
    {
      "cell_type": "code",
      "source": [
        "# Make predictions using model_1 on the test dataset and view results\n",
        "model_1_preds = make_preds(model_1, test_windows)\n",
        "len(model_1_preds), model_1_preds[:10]"
      ],
      "metadata": {
        "colab": {
          "base_uri": "https://localhost:8080/"
        },
        "id": "m8Rh_0Urn5p6",
        "outputId": "f9a50712-2510-4497-a2ca-284fe7d81684"
      },
      "execution_count": 48,
      "outputs": [
        {
          "output_type": "stream",
          "name": "stdout",
          "text": [
            "18/18 [==============================] - 0s 3ms/step\n"
          ]
        },
        {
          "output_type": "execute_result",
          "data": {
            "text/plain": [
              "(556, <tf.Tensor: shape=(10,), dtype=float32, numpy=\n",
              " array([8838.344, 8763.318, 9044.616, 8754.872, 8709.919, 8755.529,\n",
              "        8671.987, 8502.191, 8455.076, 8527.007], dtype=float32)>)"
            ]
          },
          "metadata": {},
          "execution_count": 48
        }
      ]
    },
    {
      "cell_type": "code",
      "source": [
        "test_labels[:10]"
      ],
      "metadata": {
        "colab": {
          "base_uri": "https://localhost:8080/"
        },
        "id": "eM0ZnNCloc-N",
        "outputId": "f50c6084-a5f0-4964-efae-dae9ae754651"
      },
      "execution_count": 49,
      "outputs": [
        {
          "output_type": "execute_result",
          "data": {
            "text/plain": [
              "array([[8798.04205463],\n",
              "       [9081.18687849],\n",
              "       [8711.53433917],\n",
              "       [8760.89271814],\n",
              "       [8749.52059102],\n",
              "       [8656.97092235],\n",
              "       [8500.64355816],\n",
              "       [8469.2608989 ],\n",
              "       [8537.33965197],\n",
              "       [8205.80636599]])"
            ]
          },
          "metadata": {},
          "execution_count": 49
        }
      ]
    },
    {
      "cell_type": "code",
      "source": [
        "# Evaluate preds\n",
        "model_1_results = evaluate_preds(tf.squeeze(test_labels), model_1_preds)\n",
        "model_1_results"
      ],
      "metadata": {
        "colab": {
          "base_uri": "https://localhost:8080/"
        },
        "id": "-RTSfpA-oiE5",
        "outputId": "e253fadb-3c5d-4802-acee-da5beac07557"
      },
      "execution_count": 53,
      "outputs": [
        {
          "output_type": "execute_result",
          "data": {
            "text/plain": [
              "{'mae': 569.9069,\n",
              " 'mse': 1172535.0,\n",
              " 'rmse': 1082.8365,\n",
              " 'mape': 2.5592942,\n",
              " 'mase': 1.0011686}"
            ]
          },
          "metadata": {},
          "execution_count": 53
        }
      ]
    },
    {
      "cell_type": "code",
      "source": [
        "naive_results"
      ],
      "metadata": {
        "colab": {
          "base_uri": "https://localhost:8080/"
        },
        "id": "0fNFPKIIo0B4",
        "outputId": "5007bafb-63d4-4018-aa98-d91101937bd7"
      },
      "execution_count": 54,
      "outputs": [
        {
          "output_type": "execute_result",
          "data": {
            "text/plain": [
              "{'mae': 567.9802,\n",
              " 'mse': 1147547.0,\n",
              " 'rmse': 1071.2362,\n",
              " 'mape': 2.5165248,\n",
              " 'mase': 0.99957}"
            ]
          },
          "metadata": {},
          "execution_count": 54
        }
      ]
    },
    {
      "cell_type": "code",
      "source": [
        "# Let's plot our model 1 predictions\n",
        "offset = 450\n",
        "plt.figure(figsize=(10, 7))\n",
        "# Account for the test_window offset and index into test_labels to ensure correct plotting\n",
        "plot_time_series(timesteps=X_test[-len(test_windows):], values=test_labels[:, 0], start=offset, label=\"Test Data\")\n",
        "\n",
        "plot_time_series(timesteps=X_test[-len(test_windows):],\n",
        "                 values=model_1_preds,\n",
        "                 start=offset,\n",
        "                 format=\"-\",\n",
        "                 label=\"Model_1_preds\")"
      ],
      "metadata": {
        "colab": {
          "base_uri": "https://localhost:8080/",
          "height": 442
        },
        "id": "tki5_fpKo79D",
        "outputId": "91adb01a-b668-4c35-8b99-6b851cbececa"
      },
      "execution_count": 57,
      "outputs": [
        {
          "output_type": "display_data",
          "data": {
            "text/plain": [
              "<Figure size 720x504 with 1 Axes>"
            ],
            "image/png": "[encoded data removed]"
          },
          "metadata": {
            "needs_background": "light"
          }
        }
      ]
    },
    {
      "cell_type": "markdown",
      "source": [
        "## Model 2: Dense (window = 30, horizon = 1)"
      ],
      "metadata": {
        "id": "j5mIroMeqQIl"
      }
    },
    {
      "cell_type": "code",
      "source": [
        "HORIZON = 1\n",
        "WINDOW_SIZE = 30\n"
      ],
      "metadata": {
        "id": "TL35D8VYthRe"
      },
      "execution_count": 58,
      "outputs": []
    },
    {
      "cell_type": "code",
      "source": [
        "# Make window data with appropriate horizon and window sizes\n",
        "full_windows, full_labels = make_windows(prices, window_size=WINDOW_SIZE, horizon=HORIZON)\n",
        "len(full_windows), len(full_labels)"
      ],
      "metadata": {
        "colab": {
          "base_uri": "https://localhost:8080/"
        },
        "id": "Cgy1wgz2yykP",
        "outputId": "cf683d45-26c2-40a3-ff3c-d50831094c03"
      },
      "execution_count": 60,
      "outputs": [
        {
          "output_type": "execute_result",
          "data": {
            "text/plain": [
              "(2757, 2757)"
            ]
          },
          "metadata": {},
          "execution_count": 60
        }
      ]
    },
    {
      "cell_type": "code",
      "source": [
        "# Make train and test windows\n",
        "train_windows, test_windows, train_labels, test_labels = make_train_test_splits(windows=full_windows,\n",
        "                                                                                labels=full_labels,\n",
        "                                                                                test_split=0.2)\n",
        "len(train_windows), len(train_labels), len(test_windows), len(test_labels)"
      ],
      "metadata": {
        "colab": {
          "base_uri": "https://localhost:8080/"
        },
        "id": "nPTOTyScy3_K",
        "outputId": "57e5fd10-94d7-488b-8dc7-571b37d6369a"
      },
      "execution_count": 61,
      "outputs": [
        {
          "output_type": "execute_result",
          "data": {
            "text/plain": [
              "(2205, 2205, 552, 552)"
            ]
          },
          "metadata": {},
          "execution_count": 61
        }
      ]
    },
    {
      "cell_type": "code",
      "source": [
        "tf.random.set_seed(42)\n",
        "\n",
        "# Create a model\n",
        "model_2 = tf.keras.Sequential([\n",
        "    layers.Dense(128, activation=\"relu\"),\n",
        "    layers.Dense(HORIZON)\n",
        "], name=\"model_2_dense\")\n",
        "\n",
        "# Compile\n",
        "model_2.compile(loss=\"mae\",\n",
        "                optimizer=tf.keras.optimizers.Adam(),\n",
        "                metrics=[\"mae\", \"mse\"])\n",
        "\n",
        "# Fit the model\n",
        "model_2_history = model_2.fit(train_windows, train_labels,\n",
        "                              batch_size=128,\n",
        "                              epochs=100,\n",
        "                              verbose=1,\n",
        "                              validation_data=(test_windows, test_labels),\n",
        "                              callbacks=[create_model_checkpoint(\"model_2_dense\")])"
      ],
      "metadata": {
        "colab": {
          "base_uri": "https://localhost:8080/"
        },
        "id": "TZTnuZe8ztO7",
        "outputId": "6d7d80db-d3c6-40b1-e5f7-a3bb8ad0bf10"
      },
      "execution_count": 64,
      "outputs": [
        {
          "output_type": "stream",
          "name": "stderr",
          "text": [
            "WARNING:absl:Found untraced functions such as _update_step_xla while saving (showing 1 of 1). These functions will not be directly callable after loading.\n",
            "WARNING:absl:Found untraced functions such as _update_step_xla while saving (showing 1 of 1). These functions will not be directly callable after loading.\n",
            "WARNING:absl:Found untraced functions such as _update_step_xla while saving (showing 1 of 1). These functions will not be directly callable after loading.\n",
            "WARNING:absl:Found untraced functions such as _update_step_xla while saving (showing 1 of 1). These functions will not be directly callable after loading.\n",
            "WARNING:absl:Found untraced functions such as _update_step_xla while saving (showing 1 of 1). These functions will not be directly callable after loading.\n",
            "WARNING:absl:Found untraced functions such as _update_step_xla while saving (showing 1 of 1). These functions will not be directly callable after loading.\n",
            "WARNING:absl:Found untraced functions such as _update_step_xla while saving (showing 1 of 1). These functions will not be directly callable after loading.\n",
            "WARNING:absl:Found untraced functions such as _update_step_xla while saving (showing 1 of 1). These functions will not be directly callable after loading.\n",
            "WARNING:absl:Found untraced functions such as _update_step_xla while saving (showing 1 of 1). These functions will not be directly callable after loading.\n",
            "WARNING:absl:Found untraced functions such as _update_step_xla while saving (showing 1 of 1). These functions will not be directly callable after loading.\n",
            "WARNING:absl:Found untraced functions such as _update_step_xla while saving (showing 1 of 1). These functions will not be directly callable after loading.\n",
            "WARNING:absl:Found untraced functions such as _update_step_xla while saving (showing 1 of 1). These functions will not be directly callable after loading.\n",
            "WARNING:absl:Found untraced functions such as _update_step_xla while saving (showing 1 of 1). These functions will not be directly callable after loading.\n",
            "WARNING:absl:Found untraced functions such as _update_step_xla while saving (showing 1 of 1). These functions will not be directly callable after loading.\n",
            "WARNING:absl:Found untraced functions such as _update_step_xla while saving (showing 1 of 1). These functions will not be directly callable after loading.\n",
            "WARNING:absl:Found untraced functions such as _update_step_xla while saving (showing 1 of 1). These functions will not be directly callable after loading.\n",
            "WARNING:absl:Found untraced functions such as _update_step_xla while saving (showing 1 of 1). These functions will not be directly callable after loading.\n",
            "WARNING:absl:Found untraced functions such as _update_step_xla while saving (showing 1 of 1). These functions will not be directly callable after loading.\n",
            "WARNING:absl:Found untraced functions such as _update_step_xla while saving (showing 1 of 1). These functions will not be directly callable after loading.\n",
            "WARNING:absl:Found untraced functions such as _update_step_xla while saving (showing 1 of 1). These functions will not be directly callable after loading.\n",
            "WARNING:absl:Found untraced functions such as _update_step_xla while saving (showing 1 of 1). These functions will not be directly callable after loading.\n",
            "WARNING:absl:Found untraced functions such as _update_step_xla while saving (showing 1 of 1). These functions will not be directly callable after loading.\n",
            "WARNING:absl:Found untraced functions such as _update_step_xla while saving (showing 1 of 1). These functions will not be directly callable after loading.\n",
            "WARNING:absl:Found untraced functions such as _update_step_xla while saving (showing 1 of 1). These functions will not be directly callable after loading.\n",
            "WARNING:absl:Found untraced functions such as _update_step_xla while saving (showing 1 of 1). These functions will not be directly callable after loading.\n",
            "WARNING:absl:Found untraced functions such as _update_step_xla while saving (showing 1 of 1). These functions will not be directly callable after loading.\n"
          ]
        }
      ]
    },
    {
      "cell_type": "code",
      "source": [
        "# Evaluate model 2 on test data\n",
        "model_2.evaluate(test_windows, test_labels)"
      ],
      "metadata": {
        "colab": {
          "base_uri": "https://localhost:8080/"
        },
        "id": "mGFC9Mg71ZdX",
        "outputId": "e997691a-c2f9-4890-fcc7-3add58459f0b"
      },
      "execution_count": 65,
      "outputs": [
        {
          "output_type": "stream",
          "name": "stdout",
          "text": [
            "18/18 [==============================] - 0s 5ms/step - loss: 826.9055 - mae: 826.9055 - mse: 1961867.6250\n"
          ]
        },
        {
          "output_type": "execute_result",
          "data": {
            "text/plain": [
              "[826.905517578125, 826.905517578125, 1961867.625]"
            ]
          },
          "metadata": {},
          "execution_count": 65
        }
      ]
    },
    {
      "cell_type": "code",
      "source": [
        "# Load in the best performing model and evaluate \n",
        "model_2 = tf.keras.models.load_model(\"model_experiments/model_2_dense/\")\n",
        "model_2.evaluate(test_windows, test_labels)"
      ],
      "metadata": {
        "colab": {
          "base_uri": "https://localhost:8080/"
        },
        "id": "K9DSxa8T4g6e",
        "outputId": "0723a556-9a83-452e-dced-b3a6c26fb82b"
      },
      "execution_count": 72,
      "outputs": [
        {
          "output_type": "stream",
          "name": "stdout",
          "text": [
            "18/18 [==============================] - 0s 2ms/step - loss: 603.9243 - mae: 603.9243 - mse: 1258424.7500\n"
          ]
        },
        {
          "output_type": "execute_result",
          "data": {
            "text/plain": [
              "[603.9242553710938, 603.9242553710938, 1258424.75]"
            ]
          },
          "metadata": {},
          "execution_count": 72
        }
      ]
    },
    {
      "cell_type": "code",
      "source": [
        "# get forecast predictions\n",
        "model_2_preds = make_preds(model_2,\n",
        "                           input_data=test_windows)"
      ],
      "metadata": {
        "colab": {
          "base_uri": "https://localhost:8080/"
        },
        "id": "VnTwYtoY4yae",
        "outputId": "41dfc657-78c0-4a6b-ca91-8fce767f52e4"
      },
      "execution_count": 73,
      "outputs": [
        {
          "output_type": "stream",
          "name": "stdout",
          "text": [
            "18/18 [==============================] - 0s 2ms/step\n"
          ]
        }
      ]
    },
    {
      "cell_type": "code",
      "source": [
        "# Evaluate results for model 2 predictions\n",
        "model_2_results = evaluate_preds(tf.squeeze(test_labels), model_2_preds)\n",
        "model_2_results"
      ],
      "metadata": {
        "colab": {
          "base_uri": "https://localhost:8080/"
        },
        "id": "avKUIm4J5ebz",
        "outputId": "a678088d-f280-4308-8e15-df0059844b17"
      },
      "execution_count": 74,
      "outputs": [
        {
          "output_type": "execute_result",
          "data": {
            "text/plain": [
              "{'mae': 603.92426,\n",
              " 'mse': 1258424.6,\n",
              " 'rmse': 1121.7953,\n",
              " 'mape': 2.7289286,\n",
              " 'mase': 1.0556654}"
            ]
          },
          "metadata": {},
          "execution_count": 74
        }
      ]
    },
    {
      "cell_type": "code",
      "source": [
        "model_1_results"
      ],
      "metadata": {
        "colab": {
          "base_uri": "https://localhost:8080/"
        },
        "id": "X-t8fDzQ5vR8",
        "outputId": "2dabd8c4-730b-4cc1-e49c-3d704ee00774"
      },
      "execution_count": 75,
      "outputs": [
        {
          "output_type": "execute_result",
          "data": {
            "text/plain": [
              "{'mae': 569.9069,\n",
              " 'mse': 1172535.0,\n",
              " 'rmse': 1082.8365,\n",
              " 'mape': 2.5592942,\n",
              " 'mase': 1.0011686}"
            ]
          },
          "metadata": {},
          "execution_count": 75
        }
      ]
    },
    {
      "cell_type": "code",
      "source": [
        "offset = 300\n",
        "plt.figure(figsize=(10, 7))\n",
        "# Account for test_window offset when plotting\n",
        "plot_time_series(timesteps=X_test[-len(test_windows):], values=test_labels[:, 0], start=offset, label=\"Test Data\")\n",
        "plot_time_series(timesteps=X_test[-len(test_windows):], values=model_2_preds, start=offset, format=\"-\", label=\"model_2_preds\")"
      ],
      "metadata": {
        "colab": {
          "base_uri": "https://localhost:8080/",
          "height": 442
        },
        "id": "rP2xrdpi5_vl",
        "outputId": "acff2e5b-5a46-4167-fab1-28fe675128f7"
      },
      "execution_count": 76,
      "outputs": [
        {
          "output_type": "display_data",
          "data": {
            "text/plain": [
              "<Figure size 720x504 with 1 Axes>"
            ],
            "image/png": "[encoded data removed]"
          },
          "metadata": {
            "needs_background": "light"
          }
        }
      ]
    },
    {
      "cell_type": "markdown",
      "source": [
        "## Model 3: Dense (window = 30, horizon = 7)\n"
      ],
      "metadata": {
        "id": "vqCgMv4j7BWM"
      }
    },
    {
      "cell_type": "code",
      "source": [
        "HORIZON = 7\n",
        "WINDOW_SIZE = 30\n",
        "\n",
        "full_windows, full_labels = make_windows(prices,\n",
        "                                         window_size=WINDOW_SIZE,\n",
        "                                         horizon=HORIZON)\n",
        "len(full_windows), len(full_labels)"
      ],
      "metadata": {
        "colab": {
          "base_uri": "https://localhost:8080/"
        },
        "id": "OFHHxkF97xeY",
        "outputId": "5aa1b789-14f4-4352-c7ea-d7d01799ecb4"
      },
      "execution_count": 77,
      "outputs": [
        {
          "output_type": "execute_result",
          "data": {
            "text/plain": [
              "(2751, 2751)"
            ]
          },
          "metadata": {},
          "execution_count": 77
        }
      ]
    },
    {
      "cell_type": "code",
      "source": [
        "train_windows, test_windows, train_labels, test_labels = make_train_test_splits(windows=full_labels,\n",
        "                                                                                labels=full_labels,\n",
        "                                                                                test_split=0.2)"
      ],
      "metadata": {
        "id": "8GiyVeV08ZfO"
      },
      "execution_count": 78,
      "outputs": []
    },
    {
      "cell_type": "code",
      "source": [
        "tf.random.set_seed(42)\n",
        "\n",
        "# Create model\n",
        "model_3 = tf.keras.Sequential([\n",
        "    layers.Dense(128, activation=\"relu\"),\n",
        "    layers.Dense(HORIZON)\n",
        "], name=\"model_3_dense\")\n",
        "\n",
        "# Compile\n",
        "model_3.compile(loss=\"mae\",\n",
        "                optimizer=tf.keras.optimizers.Adam(),\n",
        "                metrics=[\"mae\", \"mse\"])\n",
        "\n",
        "# Fit the model\n",
        "model_3_history = model_3.fit(train_windows, train_labels,\n",
        "                              batch_size=128,\n",
        "                              epochs=100,\n",
        "                              verbose=1,\n",
        "                              validation_data=(test_windows, test_labels),\n",
        "                              callbacks=[create_model_checkpoint(\"model_3_dense\")])"
      ],
      "metadata": {
        "colab": {
          "base_uri": "https://localhost:8080/"
        },
        "id": "ZOditAbQ8s1O",
        "outputId": "219eed75-d801-4736-a856-4f673ce93322"
      },
      "execution_count": 79,
      "outputs": [
        {
          "output_type": "stream",
          "name": "stdout",
          "text": [
            "Epoch 1/100\n",
            " 1/18 [>.............................] - ETA: 19s - loss: 3146.8816 - mae: 3146.8816 - mse: 29490312.0000"
          ]
        },
        {
          "output_type": "stream",
          "name": "stderr",
          "text": [
            "WARNING:absl:Found untraced functions such as _update_step_xla while saving (showing 1 of 1). These functions will not be directly callable after loading.\n"
          ]
        },
        {
          "output_type": "stream",
          "name": "stdout",
          "text": [
            "\b\b\b\b\b\b\b\b\b\b\b\b\b\b\b\b\b\b\b\b\b\b\b\b\b\b\b\b\b\b\b\b\b\b\b\b\b\b\b\b\b\b\b\b\b\b\b\b\b\b\b\b\b\b\b\b\b\b\b\b\b\b\b\b\b\b\b\b\b\b\b\b\b\b\b\b\b\b\b\b\b\b\b\b\b\b\b\b\b\b\b\b\b\b\b\b\b\b\b\b\b\b\b\b\b\r18/18 [==============================] - 2s 46ms/step - loss: 2074.5752 - mae: 2074.5752 - mse: 14905154.0000 - val_loss: 7100.4185 - val_mae: 7100.4185 - val_mse: 168087904.0000\n",
            "Epoch 2/100\n",
            " 1/18 [>.............................] - ETA: 0s - loss: 1045.0427 - mae: 1045.0427 - mse: 5013499.0000"
          ]
        },
        {
          "output_type": "stream",
          "name": "stderr",
          "text": [
            "WARNING:absl:Found untraced functions such as _update_step_xla while saving (showing 1 of 1). These functions will not be directly callable after loading.\n"
          ]
        },
        {
          "output_type": "stream",
          "name": "stdout",
          "text": [
            "\b\b\b\b\b\b\b\b\b\b\b\b\b\b\b\b\b\b\b\b\b\b\b\b\b\b\b\b\b\b\b\b\b\b\b\b\b\b\b\b\b\b\b\b\b\b\b\b\b\b\b\b\b\b\b\b\b\b\b\b\b\b\b\b\b\b\b\b\b\b\b\b\b\b\b\b\b\b\b\b\b\b\b\b\b\b\b\b\b\b\b\b\b\b\b\b\b\b\b\b\b\b\b\r18/18 [==============================] - 1s 36ms/step - loss: 718.2632 - mae: 718.2632 - mse: 2721930.0000 - val_loss: 1911.9415 - val_mae: 1911.9415 - val_mse: 17610888.0000\n",
            "Epoch 3/100\n",
            " 1/18 [>.............................] - ETA: 0s - loss: 294.6559 - mae: 294.6559 - mse: 498127.8125"
          ]
        },
        {
          "output_type": "stream",
          "name": "stderr",
          "text": [
            "WARNING:absl:Found untraced functions such as _update_step_xla while saving (showing 1 of 1). These functions will not be directly callable after loading.\n"
          ]
        },
        {
          "output_type": "stream",
          "name": "stdout",
          "text": [
            "\b\b\b\b\b\b\b\b\b\b\b\b\b\b\b\b\b\b\b\b\b\b\b\b\b\b\b\b\b\b\b\b\b\b\b\b\b\b\b\b\b\b\b\b\b\b\b\b\b\b\b\b\b\b\b\b\b\b\b\b\b\b\b\b\b\b\b\b\b\b\b\b\b\b\b\b\b\b\b\b\b\b\b\b\b\b\b\b\b\b\b\b\b\b\b\b\b\b\b\b\r18/18 [==============================] - 1s 36ms/step - loss: 212.4536 - mae: 212.4536 - mse: 243016.3125 - val_loss: 997.9363 - val_mae: 997.9363 - val_mse: 2952597.2500\n",
            "Epoch 4/100\n",
            " 1/18 [>.............................] - ETA: 0s - loss: 185.9896 - mae: 185.9896 - mse: 144846.3125"
          ]
        },
        {
          "output_type": "stream",
          "name": "stderr",
          "text": [
            "WARNING:absl:Found untraced functions such as _update_step_xla while saving (showing 1 of 1). These functions will not be directly callable after loading.\n"
          ]
        },
        {
          "output_type": "stream",
          "name": "stdout",
          "text": [
            "\b\b\b\b\b\b\b\b\b\b\b\b\b\b\b\b\b\b\b\b\b\b\b\b\b\b\b\b\b\b\b\b\b\b\b\b\b\b\b\b\b\b\b\b\b\b\b\b\b\b\b\b\b\b\b\b\b\b\b\b\b\b\b\b\b\b\b\b\b\b\b\b\b\b\b\b\b\b\b\b\b\b\b\b\b\b\b\b\b\b\b\b\b\b\b\b\b\b\b\b\r18/18 [==============================] - 1s 36ms/step - loss: 133.9339 - mae: 133.9339 - mse: 90113.8672 - val_loss: 635.9581 - val_mae: 635.9581 - val_mse: 1320937.8750\n",
            "Epoch 5/100\n",
            " 1/18 [>.............................] - ETA: 0s - loss: 147.9946 - mae: 147.9946 - mse: 115966.0781"
          ]
        },
        {
          "output_type": "stream",
          "name": "stderr",
          "text": [
            "WARNING:absl:Found untraced functions such as _update_step_xla while saving (showing 1 of 1). These functions will not be directly callable after loading.\n"
          ]
        },
        {
          "output_type": "stream",
          "name": "stdout",
          "text": [
            "\b\b\b\b\b\b\b\b\b\b\b\b\b\b\b\b\b\b\b\b\b\b\b\b\b\b\b\b\b\b\b\b\b\b\b\b\b\b\b\b\b\b\b\b\b\b\b\b\b\b\b\b\b\b\b\b\b\b\b\b\b\b\b\b\b\b\b\b\b\b\b\b\b\b\b\b\b\b\b\b\b\b\b\b\b\b\b\b\b\b\b\b\b\b\b\b\b\b\b\b\r18/18 [==============================] - 1s 60ms/step - loss: 112.3212 - mae: 112.3212 - mse: 68980.2500 - val_loss: 595.1911 - val_mae: 595.1911 - val_mse: 1184911.7500\n",
            "Epoch 6/100\n",
            " 1/18 [>.............................] - ETA: 0s - loss: 97.4374 - mae: 97.4374 - mse: 42591.2891"
          ]
        },
        {
          "output_type": "stream",
          "name": "stderr",
          "text": [
            "WARNING:absl:Found untraced functions such as _update_step_xla while saving (showing 1 of 1). These functions will not be directly callable after loading.\n"
          ]
        },
        {
          "output_type": "stream",
          "name": "stdout",
          "text": [
            "\b\b\b\b\b\b\b\b\b\b\b\b\b\b\b\b\b\b\b\b\b\b\b\b\b\b\b\b\b\b\b\b\b\b\b\b\b\b\b\b\b\b\b\b\b\b\b\b\b\b\b\b\b\b\b\b\b\b\b\b\b\b\b\b\b\b\b\b\b\b\b\b\b\b\b\b\b\b\b\b\b\b\b\b\b\b\b\b\b\b\b\b\b\b\b\b\b\r18/18 [==============================] - 1s 38ms/step - loss: 106.3013 - mae: 106.3013 - mse: 62315.7148 - val_loss: 549.4089 - val_mae: 549.4089 - val_mse: 1017650.4375\n",
            "Epoch 7/100\n",
            " 1/18 [>.............................] - ETA: 0s - loss: 99.5970 - mae: 99.5970 - mse: 61943.0273"
          ]
        },
        {
          "output_type": "stream",
          "name": "stderr",
          "text": [
            "WARNING:absl:Found untraced functions such as _update_step_xla while saving (showing 1 of 1). These functions will not be directly callable after loading.\n"
          ]
        },
        {
          "output_type": "stream",
          "name": "stdout",
          "text": [
            "\b\b\b\b\b\b\b\b\b\b\b\b\b\b\b\b\b\b\b\b\b\b\b\b\b\b\b\b\b\b\b\b\b\b\b\b\b\b\b\b\b\b\b\b\b\b\b\b\b\b\b\b\b\b\b\b\b\b\b\b\b\b\b\b\b\b\b\b\b\b\b\b\b\b\b\b\b\b\b\b\b\b\b\b\b\b\b\b\b\b\b\b\b\b\b\b\b\r18/18 [==============================] - 1s 39ms/step - loss: 100.8831 - mae: 100.8831 - mse: 56661.1836 - val_loss: 534.5317 - val_mae: 534.5317 - val_mse: 941078.5000\n",
            "Epoch 8/100\n",
            " 1/18 [>.............................] - ETA: 0s - loss: 96.4114 - mae: 96.4114 - mse: 41580.5039"
          ]
        },
        {
          "output_type": "stream",
          "name": "stderr",
          "text": [
            "WARNING:absl:Found untraced functions such as _update_step_xla while saving (showing 1 of 1). These functions will not be directly callable after loading.\n"
          ]
        },
        {
          "output_type": "stream",
          "name": "stdout",
          "text": [
            "\b\b\b\b\b\b\b\b\b\b\b\b\b\b\b\b\b\b\b\b\b\b\b\b\b\b\b\b\b\b\b\b\b\b\b\b\b\b\b\b\b\b\b\b\b\b\b\b\b\b\b\b\b\b\b\b\b\b\b\b\b\b\b\b\b\b\b\b\b\b\b\b\b\b\b\b\b\b\b\b\b\b\b\b\b\b\b\b\b\b\b\b\b\b\b\b\b\r18/18 [==============================] - 1s 37ms/step - loss: 97.5519 - mae: 97.5519 - mse: 53163.2031 - val_loss: 525.7647 - val_mae: 525.7647 - val_mse: 904330.5000\n",
            "Epoch 9/100\n",
            " 1/18 [>.............................] - ETA: 0s - loss: 117.6904 - mae: 117.6904 - mse: 56958.8594"
          ]
        },
        {
          "output_type": "stream",
          "name": "stderr",
          "text": [
            "WARNING:absl:Found untraced functions such as _update_step_xla while saving (showing 1 of 1). These functions will not be directly callable after loading.\n"
          ]
        },
        {
          "output_type": "stream",
          "name": "stdout",
          "text": [
            "\b\b\b\b\b\b\b\b\b\b\b\b\b\b\b\b\b\b\b\b\b\b\b\b\b\b\b\b\b\b\b\b\b\b\b\b\b\b\b\b\b\b\b\b\b\b\b\b\b\b\b\b\b\b\b\b\b\b\b\b\b\b\b\b\b\b\b\b\b\b\b\b\b\b\b\b\b\b\b\b\b\b\b\b\b\b\b\b\b\b\b\b\b\b\b\b\b\b\b\r18/18 [==============================] - 1s 56ms/step - loss: 95.4381 - mae: 95.4381 - mse: 49859.0938 - val_loss: 490.5791 - val_mae: 490.5791 - val_mse: 802919.2500\n",
            "Epoch 10/100\n",
            "14/18 [======================>.......] - ETA: 0s - loss: 90.5170 - mae: 90.5170 - mse: 44287.7734"
          ]
        },
        {
          "output_type": "stream",
          "name": "stderr",
          "text": [
            "WARNING:absl:Found untraced functions such as _update_step_xla while saving (showing 1 of 1). These functions will not be directly callable after loading.\n"
          ]
        },
        {
          "output_type": "stream",
          "name": "stdout",
          "text": [
            "\b\b\b\b\b\b\b\b\b\b\b\b\b\b\b\b\b\b\b\b\b\b\b\b\b\b\b\b\b\b\b\b\b\b\b\b\b\b\b\b\b\b\b\b\b\b\b\b\b\b\b\b\b\b\b\b\b\b\b\b\b\b\b\b\b\b\b\b\b\b\b\b\b\b\b\b\b\b\b\b\b\b\b\b\b\b\b\b\b\b\b\b\b\b\b\b\b\r18/18 [==============================] - 1s 63ms/step - loss: 90.6836 - mae: 90.6836 - mse: 45723.3672 - val_loss: 477.4565 - val_mae: 477.4565 - val_mse: 755636.8125\n",
            "Epoch 11/100\n",
            " 1/18 [>.............................] - ETA: 0s - loss: 90.5097 - mae: 90.5097 - mse: 54508.0000"
          ]
        },
        {
          "output_type": "stream",
          "name": "stderr",
          "text": [
            "WARNING:absl:Found untraced functions such as _update_step_xla while saving (showing 1 of 1). These functions will not be directly callable after loading.\n"
          ]
        },
        {
          "output_type": "stream",
          "name": "stdout",
          "text": [
            "\b\b\b\b\b\b\b\b\b\b\b\b\b\b\b\b\b\b\b\b\b\b\b\b\b\b\b\b\b\b\b\b\b\b\b\b\b\b\b\b\b\b\b\b\b\b\b\b\b\b\b\b\b\b\b\b\b\b\b\b\b\b\b\b\b\b\b\b\b\b\b\b\b\b\b\b\b\b\b\b\b\b\b\b\b\b\b\b\b\b\b\b\b\b\b\b\b\r18/18 [==============================] - 1s 48ms/step - loss: 88.7252 - mae: 88.7252 - mse: 43591.4844 - val_loss: 453.5097 - val_mae: 453.5097 - val_mse: 681913.6250\n",
            "Epoch 12/100\n",
            "18/18 [==============================] - 0s 4ms/step - loss: 84.3198 - mae: 84.3198 - mse: 39903.1055 - val_loss: 471.0647 - val_mae: 471.0647 - val_mse: 711707.0000\n",
            "Epoch 13/100\n",
            " 1/18 [>.............................] - ETA: 0s - loss: 80.1522 - mae: 80.1522 - mse: 32399.6738"
          ]
        },
        {
          "output_type": "stream",
          "name": "stderr",
          "text": [
            "WARNING:absl:Found untraced functions such as _update_step_xla while saving (showing 1 of 1). These functions will not be directly callable after loading.\n"
          ]
        },
        {
          "output_type": "stream",
          "name": "stdout",
          "text": [
            "\b\b\b\b\b\b\b\b\b\b\b\b\b\b\b\b\b\b\b\b\b\b\b\b\b\b\b\b\b\b\b\b\b\b\b\b\b\b\b\b\b\b\b\b\b\b\b\b\b\b\b\b\b\b\b\b\b\b\b\b\b\b\b\b\b\b\b\b\b\b\b\b\b\b\b\b\b\b\b\b\b\b\b\b\b\b\b\b\b\b\b\b\b\b\b\b\b\r18/18 [==============================] - 1s 37ms/step - loss: 81.3893 - mae: 81.3893 - mse: 37397.3750 - val_loss: 422.9555 - val_mae: 422.9555 - val_mse: 587769.3750\n",
            "Epoch 14/100\n",
            " 1/18 [>.............................] - ETA: 0s - loss: 79.4546 - mae: 79.4546 - mse: 28033.3613"
          ]
        },
        {
          "output_type": "stream",
          "name": "stderr",
          "text": [
            "WARNING:absl:Found untraced functions such as _update_step_xla while saving (showing 1 of 1). These functions will not be directly callable after loading.\n"
          ]
        },
        {
          "output_type": "stream",
          "name": "stdout",
          "text": [
            "\b\b\b\b\b\b\b\b\b\b\b\b\b\b\b\b\b\b\b\b\b\b\b\b\b\b\b\b\b\b\b\b\b\b\b\b\b\b\b\b\b\b\b\b\b\b\b\b\b\b\b\b\b\b\b\b\b\b\b\b\b\b\b\b\b\b\b\b\b\b\b\b\b\b\b\b\b\b\b\b\b\b\b\b\b\b\b\b\b\b\b\b\b\b\b\b\b\r18/18 [==============================] - 1s 37ms/step - loss: 76.9708 - mae: 76.9708 - mse: 33939.1836 - val_loss: 399.5770 - val_mae: 399.5770 - val_mse: 528519.2500\n",
            "Epoch 15/100\n",
            " 1/18 [>.............................] - ETA: 0s - loss: 75.4579 - mae: 75.4579 - mse: 29171.9062"
          ]
        },
        {
          "output_type": "stream",
          "name": "stderr",
          "text": [
            "WARNING:absl:Found untraced functions such as _update_step_xla while saving (showing 1 of 1). These functions will not be directly callable after loading.\n"
          ]
        },
        {
          "output_type": "stream",
          "name": "stdout",
          "text": [
            "\b\b\b\b\b\b\b\b\b\b\b\b\b\b\b\b\b\b\b\b\b\b\b\b\b\b\b\b\b\b\b\b\b\b\b\b\b\b\b\b\b\b\b\b\b\b\b\b\b\b\b\b\b\b\b\b\b\b\b\b\b\b\b\b\b\b\b\b\b\b\b\b\b\b\b\b\b\b\b\b\b\b\b\b\b\b\b\b\b\b\b\b\b\b\b\b\b\r18/18 [==============================] - 1s 37ms/step - loss: 73.8647 - mae: 73.8647 - mse: 31492.5820 - val_loss: 377.3602 - val_mae: 377.3602 - val_mse: 474742.6250\n",
            "Epoch 16/100\n",
            " 1/18 [>.............................] - ETA: 0s - loss: 63.8014 - mae: 63.8014 - mse: 18084.1758"
          ]
        },
        {
          "output_type": "stream",
          "name": "stderr",
          "text": [
            "WARNING:absl:Found untraced functions such as _update_step_xla while saving (showing 1 of 1). These functions will not be directly callable after loading.\n"
          ]
        },
        {
          "output_type": "stream",
          "name": "stdout",
          "text": [
            "\b\b\b\b\b\b\b\b\b\b\b\b\b\b\b\b\b\b\b\b\b\b\b\b\b\b\b\b\b\b\b\b\b\b\b\b\b\b\b\b\b\b\b\b\b\b\b\b\b\b\b\b\b\b\b\b\b\b\b\b\b\b\b\b\b\b\b\b\b\b\b\b\b\b\b\b\b\b\b\b\b\b\b\b\b\b\b\b\b\b\b\b\b\b\b\b\b\r18/18 [==============================] - 1s 35ms/step - loss: 71.7745 - mae: 71.7745 - mse: 29850.5176 - val_loss: 363.4330 - val_mae: 363.4330 - val_mse: 448416.0312\n",
            "Epoch 17/100\n",
            " 1/18 [>.............................] - ETA: 0s - loss: 81.8453 - mae: 81.8453 - mse: 49809.0547"
          ]
        },
        {
          "output_type": "stream",
          "name": "stderr",
          "text": [
            "WARNING:absl:Found untraced functions such as _update_step_xla while saving (showing 1 of 1). These functions will not be directly callable after loading.\n"
          ]
        },
        {
          "output_type": "stream",
          "name": "stdout",
          "text": [
            "\b\b\b\b\b\b\b\b\b\b\b\b\b\b\b\b\b\b\b\b\b\b\b\b\b\b\b\b\b\b\b\b\b\b\b\b\b\b\b\b\b\b\b\b\b\b\b\b\b\b\b\b\b\b\b\b\b\b\b\b\b\b\b\b\b\b\b\b\b\b\b\b\b\b\b\b\b\b\b\b\b\b\b\b\b\b\b\b\b\b\b\b\b\b\b\b\b\r18/18 [==============================] - 1s 36ms/step - loss: 68.7160 - mae: 68.7160 - mse: 27682.7246 - val_loss: 362.4814 - val_mae: 362.4814 - val_mse: 437349.3750\n",
            "Epoch 18/100\n",
            " 1/18 [>.............................] - ETA: 0s - loss: 63.8810 - mae: 63.8810 - mse: 21209.7930"
          ]
        },
        {
          "output_type": "stream",
          "name": "stderr",
          "text": [
            "WARNING:absl:Found untraced functions such as _update_step_xla while saving (showing 1 of 1). These functions will not be directly callable after loading.\n"
          ]
        },
        {
          "output_type": "stream",
          "name": "stdout",
          "text": [
            "\b\b\b\b\b\b\b\b\b\b\b\b\b\b\b\b\b\b\b\b\b\b\b\b\b\b\b\b\b\b\b\b\b\b\b\b\b\b\b\b\b\b\b\b\b\b\b\b\b\b\b\b\b\b\b\b\b\b\b\b\b\b\b\b\b\b\b\b\b\b\b\b\b\b\b\b\b\b\b\b\b\b\b\b\b\b\b\b\b\b\b\b\b\b\b\b\b\r18/18 [==============================] - 1s 36ms/step - loss: 66.5302 - mae: 66.5302 - mse: 25826.6445 - val_loss: 337.0794 - val_mae: 337.0794 - val_mse: 385680.5625\n",
            "Epoch 19/100\n",
            " 1/18 [>.............................] - ETA: 0s - loss: 64.5017 - mae: 64.5017 - mse: 23550.4512"
          ]
        },
        {
          "output_type": "stream",
          "name": "stderr",
          "text": [
            "WARNING:absl:Found untraced functions such as _update_step_xla while saving (showing 1 of 1). These functions will not be directly callable after loading.\n"
          ]
        },
        {
          "output_type": "stream",
          "name": "stdout",
          "text": [
            "\b\b\b\b\b\b\b\b\b\b\b\b\b\b\b\b\b\b\b\b\b\b\b\b\b\b\b\b\b\b\b\b\b\b\b\b\b\b\b\b\b\b\b\b\b\b\b\b\b\b\b\b\b\b\b\b\b\b\b\b\b\b\b\b\b\b\b\b\b\b\b\b\b\b\b\b\b\b\b\b\b\b\b\b\b\b\b\b\b\b\b\b\b\b\b\b\b\r18/18 [==============================] - 1s 36ms/step - loss: 64.3218 - mae: 64.3218 - mse: 24437.9199 - val_loss: 331.8745 - val_mae: 331.8745 - val_mse: 366865.5312\n",
            "Epoch 20/100\n",
            " 1/18 [>.............................] - ETA: 0s - loss: 64.8305 - mae: 64.8305 - mse: 24752.3594"
          ]
        },
        {
          "output_type": "stream",
          "name": "stderr",
          "text": [
            "WARNING:absl:Found untraced functions such as _update_step_xla while saving (showing 1 of 1). These functions will not be directly callable after loading.\n"
          ]
        },
        {
          "output_type": "stream",
          "name": "stdout",
          "text": [
            "\b\b\b\b\b\b\b\b\b\b\b\b\b\b\b\b\b\b\b\b\b\b\b\b\b\b\b\b\b\b\b\b\b\b\b\b\b\b\b\b\b\b\b\b\b\b\b\b\b\b\b\b\b\b\b\b\b\b\b\b\b\b\b\b\b\b\b\b\b\b\b\b\b\b\b\b\b\b\b\b\b\b\b\b\b\b\b\b\b\b\b\b\b\b\b\b\b\r18/18 [==============================] - 1s 36ms/step - loss: 62.8047 - mae: 62.8047 - mse: 23386.4707 - val_loss: 321.9178 - val_mae: 321.9178 - val_mse: 350970.8125\n",
            "Epoch 21/100\n",
            "18/18 [==============================] - 0s 4ms/step - loss: 61.2522 - mae: 61.2522 - mse: 22045.9980 - val_loss: 336.1548 - val_mae: 336.1548 - val_mse: 382209.8438\n",
            "Epoch 22/100\n",
            " 1/18 [>.............................] - ETA: 0s - loss: 71.8439 - mae: 71.8439 - mse: 25681.3438"
          ]
        },
        {
          "output_type": "stream",
          "name": "stderr",
          "text": [
            "WARNING:absl:Found untraced functions such as _update_step_xla while saving (showing 1 of 1). These functions will not be directly callable after loading.\n"
          ]
        },
        {
          "output_type": "stream",
          "name": "stdout",
          "text": [
            "\b\b\b\b\b\b\b\b\b\b\b\b\b\b\b\b\b\b\b\b\b\b\b\b\b\b\b\b\b\b\b\b\b\b\b\b\b\b\b\b\b\b\b\b\b\b\b\b\b\b\b\b\b\b\b\b\b\b\b\b\b\b\b\b\b\b\b\b\b\b\b\b\b\b\b\b\b\b\b\b\b\b\b\b\b\b\b\b\b\b\b\b\b\b\b\b\b\r18/18 [==============================] - 1s 35ms/step - loss: 60.7357 - mae: 60.7357 - mse: 21555.2715 - val_loss: 320.2686 - val_mae: 320.2686 - val_mse: 331607.2812\n",
            "Epoch 23/100\n",
            " 1/18 [>.............................] - ETA: 0s - loss: 65.7558 - mae: 65.7558 - mse: 30047.2246"
          ]
        },
        {
          "output_type": "stream",
          "name": "stderr",
          "text": [
            "WARNING:absl:Found untraced functions such as _update_step_xla while saving (showing 1 of 1). These functions will not be directly callable after loading.\n"
          ]
        },
        {
          "output_type": "stream",
          "name": "stdout",
          "text": [
            "\b\b\b\b\b\b\b\b\b\b\b\b\b\b\b\b\b\b\b\b\b\b\b\b\b\b\b\b\b\b\b\b\b\b\b\b\b\b\b\b\b\b\b\b\b\b\b\b\b\b\b\b\b\b\b\b\b\b\b\b\b\b\b\b\b\b\b\b\b\b\b\b\b\b\b\b\b\b\b\b\b\b\b\b\b\b\b\b\b\b\b\b\b\b\b\b\b\r18/18 [==============================] - 1s 57ms/step - loss: 59.9197 - mae: 59.9197 - mse: 20599.4629 - val_loss: 312.6279 - val_mae: 312.6279 - val_mse: 325109.5000\n",
            "Epoch 24/100\n",
            " 1/18 [>.............................] - ETA: 0s - loss: 68.4336 - mae: 68.4336 - mse: 24663.4512"
          ]
        },
        {
          "output_type": "stream",
          "name": "stderr",
          "text": [
            "WARNING:absl:Found untraced functions such as _update_step_xla while saving (showing 1 of 1). These functions will not be directly callable after loading.\n"
          ]
        },
        {
          "output_type": "stream",
          "name": "stdout",
          "text": [
            "\b\b\b\b\b\b\b\b\b\b\b\b\b\b\b\b\b\b\b\b\b\b\b\b\b\b\b\b\b\b\b\b\b\b\b\b\b\b\b\b\b\b\b\b\b\b\b\b\b\b\b\b\b\b\b\b\b\b\b\b\b\b\b\b\b\b\b\b\b\b\b\b\b\b\b\b\b\b\b\b\b\b\b\b\b\b\b\b\b\b\b\b\b\b\b\b\b\r18/18 [==============================] - 1s 39ms/step - loss: 59.0607 - mae: 59.0607 - mse: 20078.6250 - val_loss: 293.2528 - val_mae: 293.2528 - val_mse: 289259.5625\n",
            "Epoch 25/100\n",
            "18/18 [==============================] - 0s 4ms/step - loss: 56.3106 - mae: 56.3106 - mse: 18430.8535 - val_loss: 305.0257 - val_mae: 305.0257 - val_mse: 303118.9062\n",
            "Epoch 26/100\n",
            "18/18 [==============================] - 0s 4ms/step - loss: 55.6213 - mae: 55.6213 - mse: 17756.3223 - val_loss: 293.8445 - val_mae: 293.8445 - val_mse: 286217.6875\n",
            "Epoch 27/100\n",
            " 1/18 [>.............................] - ETA: 0s - loss: 53.9078 - mae: 53.9078 - mse: 15437.8281"
          ]
        },
        {
          "output_type": "stream",
          "name": "stderr",
          "text": [
            "WARNING:absl:Found untraced functions such as _update_step_xla while saving (showing 1 of 1). These functions will not be directly callable after loading.\n"
          ]
        },
        {
          "output_type": "stream",
          "name": "stdout",
          "text": [
            "\b\b\b\b\b\b\b\b\b\b\b\b\b\b\b\b\b\b\b\b\b\b\b\b\b\b\b\b\b\b\b\b\b\b\b\b\b\b\b\b\b\b\b\b\b\b\b\b\b\b\b\b\b\b\b\b\b\b\b\b\b\b\b\b\b\b\b\b\b\b\b\b\b\b\b\b\b\b\b\b\b\b\b\b\b\b\b\b\b\b\b\b\b\b\b\b\b\r18/18 [==============================] - 1s 39ms/step - loss: 53.9513 - mae: 53.9513 - mse: 17217.7754 - val_loss: 282.1064 - val_mae: 282.1064 - val_mse: 262862.4375\n",
            "Epoch 28/100\n",
            "18/18 [==============================] - 0s 5ms/step - loss: 53.1132 - mae: 53.1132 - mse: 16460.3125 - val_loss: 295.4037 - val_mae: 295.4037 - val_mse: 283739.3125\n",
            "Epoch 29/100\n",
            " 1/18 [>.............................] - ETA: 0s - loss: 60.6432 - mae: 60.6432 - mse: 22881.2852"
          ]
        },
        {
          "output_type": "stream",
          "name": "stderr",
          "text": [
            "WARNING:absl:Found untraced functions such as _update_step_xla while saving (showing 1 of 1). These functions will not be directly callable after loading.\n"
          ]
        },
        {
          "output_type": "stream",
          "name": "stdout",
          "text": [
            "\b\b\b\b\b\b\b\b\b\b\b\b\b\b\b\b\b\b\b\b\b\b\b\b\b\b\b\b\b\b\b\b\b\b\b\b\b\b\b\b\b\b\b\b\b\b\b\b\b\b\b\b\b\b\b\b\b\b\b\b\b\b\b\b\b\b\b\b\b\b\b\b\b\b\b\b\b\b\b\b\b\b\b\b\b\b\b\b\b\b\b\b\b\b\b\b\b\r18/18 [==============================] - 1s 39ms/step - loss: 51.9237 - mae: 51.9237 - mse: 16053.9834 - val_loss: 275.6910 - val_mae: 275.6910 - val_mse: 247948.1094\n",
            "Epoch 30/100\n",
            "18/18 [==============================] - 0s 5ms/step - loss: 51.5097 - mae: 51.5097 - mse: 15172.7451 - val_loss: 282.6424 - val_mae: 282.6424 - val_mse: 251475.5781\n",
            "Epoch 31/100\n",
            " 1/18 [>.............................] - ETA: 0s - loss: 41.6341 - mae: 41.6341 - mse: 9670.3994"
          ]
        },
        {
          "output_type": "stream",
          "name": "stderr",
          "text": [
            "WARNING:absl:Found untraced functions such as _update_step_xla while saving (showing 1 of 1). These functions will not be directly callable after loading.\n"
          ]
        },
        {
          "output_type": "stream",
          "name": "stdout",
          "text": [
            "\b\b\b\b\b\b\b\b\b\b\b\b\b\b\b\b\b\b\b\b\b\b\b\b\b\b\b\b\b\b\b\b\b\b\b\b\b\b\b\b\b\b\b\b\b\b\b\b\b\b\b\b\b\b\b\b\b\b\b\b\b\b\b\b\b\b\b\b\b\b\b\b\b\b\b\b\b\b\b\b\b\b\b\b\b\b\b\b\b\b\b\b\b\b\b\b\r18/18 [==============================] - 1s 40ms/step - loss: 49.9799 - mae: 49.9799 - mse: 14372.6826 - val_loss: 265.0744 - val_mae: 265.0744 - val_mse: 230991.5781\n",
            "Epoch 32/100\n",
            " 1/18 [>.............................] - ETA: 0s - loss: 51.2217 - mae: 51.2217 - mse: 12027.9932"
          ]
        },
        {
          "output_type": "stream",
          "name": "stderr",
          "text": [
            "WARNING:absl:Found untraced functions such as _update_step_xla while saving (showing 1 of 1). These functions will not be directly callable after loading.\n"
          ]
        },
        {
          "output_type": "stream",
          "name": "stdout",
          "text": [
            "\b\b\b\b\b\b\b\b\b\b\b\b\b\b\b\b\b\b\b\b\b\b\b\b\b\b\b\b\b\b\b\b\b\b\b\b\b\b\b\b\b\b\b\b\b\b\b\b\b\b\b\b\b\b\b\b\b\b\b\b\b\b\b\b\b\b\b\b\b\b\b\b\b\b\b\b\b\b\b\b\b\b\b\b\b\b\b\b\b\b\b\b\b\b\b\b\b\r18/18 [==============================] - 1s 57ms/step - loss: 49.0751 - mae: 49.0751 - mse: 14012.3701 - val_loss: 255.4722 - val_mae: 255.4722 - val_mse: 219116.0156\n",
            "Epoch 33/100\n",
            "17/18 [===========================>..] - ETA: 0s - loss: 48.1911 - mae: 48.1911 - mse: 13693.5107"
          ]
        },
        {
          "output_type": "stream",
          "name": "stderr",
          "text": [
            "WARNING:absl:Found untraced functions such as _update_step_xla while saving (showing 1 of 1). These functions will not be directly callable after loading.\n"
          ]
        },
        {
          "output_type": "stream",
          "name": "stdout",
          "text": [
            "\b\b\b\b\b\b\b\b\b\b\b\b\b\b\b\b\b\b\b\b\b\b\b\b\b\b\b\b\b\b\b\b\b\b\b\b\b\b\b\b\b\b\b\b\b\b\b\b\b\b\b\b\b\b\b\b\b\b\b\b\b\b\b\b\b\b\b\b\b\b\b\b\b\b\b\b\b\b\b\b\b\b\b\b\b\b\b\b\b\b\b\b\b\b\b\b\b\r18/18 [==============================] - 1s 60ms/step - loss: 47.9400 - mae: 47.9400 - mse: 13603.1416 - val_loss: 253.2759 - val_mae: 253.2759 - val_mse: 211818.9688\n",
            "Epoch 34/100\n",
            "17/18 [===========================>..] - ETA: 0s - loss: 46.6666 - mae: 46.6666 - mse: 12678.2227"
          ]
        },
        {
          "output_type": "stream",
          "name": "stderr",
          "text": [
            "WARNING:absl:Found untraced functions such as _update_step_xla while saving (showing 1 of 1). These functions will not be directly callable after loading.\n"
          ]
        },
        {
          "output_type": "stream",
          "name": "stdout",
          "text": [
            "\b\b\b\b\b\b\b\b\b\b\b\b\b\b\b\b\b\b\b\b\b\b\b\b\b\b\b\b\b\b\b\b\b\b\b\b\b\b\b\b\b\b\b\b\b\b\b\b\b\b\b\b\b\b\b\b\b\b\b\b\b\b\b\b\b\b\b\b\b\b\b\b\b\b\b\b\b\b\b\b\b\b\b\b\b\b\b\b\b\b\b\b\b\b\b\b\b\r18/18 [==============================] - 1s 41ms/step - loss: 46.9256 - mae: 46.9256 - mse: 12758.0674 - val_loss: 252.6991 - val_mae: 252.6991 - val_mse: 205936.8125\n",
            "Epoch 35/100\n",
            " 1/18 [>.............................] - ETA: 0s - loss: 41.7819 - mae: 41.7819 - mse: 8018.6777"
          ]
        },
        {
          "output_type": "stream",
          "name": "stderr",
          "text": [
            "WARNING:absl:Found untraced functions such as _update_step_xla while saving (showing 1 of 1). These functions will not be directly callable after loading.\n"
          ]
        },
        {
          "output_type": "stream",
          "name": "stdout",
          "text": [
            "\b\b\b\b\b\b\b\b\b\b\b\b\b\b\b\b\b\b\b\b\b\b\b\b\b\b\b\b\b\b\b\b\b\b\b\b\b\b\b\b\b\b\b\b\b\b\b\b\b\b\b\b\b\b\b\b\b\b\b\b\b\b\b\b\b\b\b\b\b\b\b\b\b\b\b\b\b\b\b\b\b\b\b\b\b\b\b\b\b\b\b\b\b\b\b\b\r18/18 [==============================] - 1s 37ms/step - loss: 45.4698 - mae: 45.4698 - mse: 12146.6289 - val_loss: 246.7719 - val_mae: 246.7719 - val_mse: 197961.3125\n",
            "Epoch 36/100\n",
            "18/18 [==============================] - 0s 4ms/step - loss: 44.5250 - mae: 44.5250 - mse: 11679.5518 - val_loss: 276.5967 - val_mae: 276.5967 - val_mse: 232029.0156\n",
            "Epoch 37/100\n",
            "18/18 [==============================] - 0s 4ms/step - loss: 46.7060 - mae: 46.7060 - mse: 11819.7109 - val_loss: 261.9720 - val_mae: 261.9720 - val_mse: 209166.0156\n",
            "Epoch 38/100\n",
            " 1/18 [>.............................] - ETA: 0s - loss: 47.3676 - mae: 47.3676 - mse: 11333.4648"
          ]
        },
        {
          "output_type": "stream",
          "name": "stderr",
          "text": [
            "WARNING:absl:Found untraced functions such as _update_step_xla while saving (showing 1 of 1). These functions will not be directly callable after loading.\n"
          ]
        },
        {
          "output_type": "stream",
          "name": "stdout",
          "text": [
            "\b\b\b\b\b\b\b\b\b\b\b\b\b\b\b\b\b\b\b\b\b\b\b\b\b\b\b\b\b\b\b\b\b\b\b\b\b\b\b\b\b\b\b\b\b\b\b\b\b\b\b\b\b\b\b\b\b\b\b\b\b\b\b\b\b\b\b\b\b\b\b\b\b\b\b\b\b\b\b\b\b\b\b\b\b\b\b\b\b\b\b\b\b\b\b\b\b\r18/18 [==============================] - 1s 37ms/step - loss: 43.8062 - mae: 43.8062 - mse: 11037.4932 - val_loss: 232.5051 - val_mae: 232.5051 - val_mse: 171478.9062\n",
            "Epoch 39/100\n",
            " 1/18 [>.............................] - ETA: 0s - loss: 29.0535 - mae: 29.0535 - mse: 4946.4253"
          ]
        },
        {
          "output_type": "stream",
          "name": "stderr",
          "text": [
            "WARNING:absl:Found untraced functions such as _update_step_xla while saving (showing 1 of 1). These functions will not be directly callable after loading.\n"
          ]
        },
        {
          "output_type": "stream",
          "name": "stdout",
          "text": [
            "\b\b\b\b\b\b\b\b\b\b\b\b\b\b\b\b\b\b\b\b\b\b\b\b\b\b\b\b\b\b\b\b\b\b\b\b\b\b\b\b\b\b\b\b\b\b\b\b\b\b\b\b\b\b\b\b\b\b\b\b\b\b\b\b\b\b\b\b\b\b\b\b\b\b\b\b\b\b\b\b\b\b\b\b\b\b\b\b\b\b\b\b\b\b\b\b\r18/18 [==============================] - 1s 37ms/step - loss: 41.8721 - mae: 41.8721 - mse: 10247.0605 - val_loss: 223.1914 - val_mae: 223.1914 - val_mse: 159958.7188\n",
            "Epoch 40/100\n",
            " 1/18 [>.............................] - ETA: 0s - loss: 29.7607 - mae: 29.7607 - mse: 4093.5073"
          ]
        },
        {
          "output_type": "stream",
          "name": "stderr",
          "text": [
            "WARNING:absl:Found untraced functions such as _update_step_xla while saving (showing 1 of 1). These functions will not be directly callable after loading.\n"
          ]
        },
        {
          "output_type": "stream",
          "name": "stdout",
          "text": [
            "\b\b\b\b\b\b\b\b\b\b\b\b\b\b\b\b\b\b\b\b\b\b\b\b\b\b\b\b\b\b\b\b\b\b\b\b\b\b\b\b\b\b\b\b\b\b\b\b\b\b\b\b\b\b\b\b\b\b\b\b\b\b\b\b\b\b\b\b\b\b\b\b\b\b\b\b\b\b\b\b\b\b\b\b\b\b\b\b\b\b\b\b\b\b\b\b\r18/18 [==============================] - 1s 37ms/step - loss: 40.4721 - mae: 40.4721 - mse: 9671.5410 - val_loss: 218.4362 - val_mae: 218.4362 - val_mse: 157198.2031\n",
            "Epoch 41/100\n",
            " 1/18 [>.............................] - ETA: 0s - loss: 37.3172 - mae: 37.3172 - mse: 6562.4844"
          ]
        },
        {
          "output_type": "stream",
          "name": "stderr",
          "text": [
            "WARNING:absl:Found untraced functions such as _update_step_xla while saving (showing 1 of 1). These functions will not be directly callable after loading.\n"
          ]
        },
        {
          "output_type": "stream",
          "name": "stdout",
          "text": [
            "\b\b\b\b\b\b\b\b\b\b\b\b\b\b\b\b\b\b\b\b\b\b\b\b\b\b\b\b\b\b\b\b\b\b\b\b\b\b\b\b\b\b\b\b\b\b\b\b\b\b\b\b\b\b\b\b\b\b\b\b\b\b\b\b\b\b\b\b\b\b\b\b\b\b\b\b\b\b\b\b\b\b\b\b\b\b\b\b\b\b\b\b\b\b\b\b\r18/18 [==============================] - 1s 36ms/step - loss: 40.4222 - mae: 40.4222 - mse: 9436.6367 - val_loss: 209.4689 - val_mae: 209.4689 - val_mse: 142884.2031\n",
            "Epoch 42/100\n",
            "18/18 [==============================] - 0s 4ms/step - loss: 38.8775 - mae: 38.8775 - mse: 8863.9385 - val_loss: 214.7237 - val_mae: 214.7237 - val_mse: 150800.2188\n",
            "Epoch 43/100\n",
            "18/18 [==============================] - 0s 5ms/step - loss: 38.9320 - mae: 38.9320 - mse: 8826.2207 - val_loss: 223.0122 - val_mae: 223.0122 - val_mse: 151827.3906\n",
            "Epoch 44/100\n",
            "18/18 [==============================] - 0s 4ms/step - loss: 40.0605 - mae: 40.0605 - mse: 8674.6953 - val_loss: 211.5277 - val_mae: 211.5277 - val_mse: 144034.9062\n",
            "Epoch 45/100\n",
            " 1/18 [>.............................] - ETA: 0s - loss: 42.1940 - mae: 42.1940 - mse: 10538.1875"
          ]
        },
        {
          "output_type": "stream",
          "name": "stderr",
          "text": [
            "WARNING:absl:Found untraced functions such as _update_step_xla while saving (showing 1 of 1). These functions will not be directly callable after loading.\n"
          ]
        },
        {
          "output_type": "stream",
          "name": "stdout",
          "text": [
            "\b\b\b\b\b\b\b\b\b\b\b\b\b\b\b\b\b\b\b\b\b\b\b\b\b\b\b\b\b\b\b\b\b\b\b\b\b\b\b\b\b\b\b\b\b\b\b\b\b\b\b\b\b\b\b\b\b\b\b\b\b\b\b\b\b\b\b\b\b\b\b\b\b\b\b\b\b\b\b\b\b\b\b\b\b\b\b\b\b\b\b\b\b\b\b\b\b\r18/18 [==============================] - 1s 35ms/step - loss: 38.5971 - mae: 38.5971 - mse: 8181.3008 - val_loss: 194.2032 - val_mae: 194.2032 - val_mse: 126386.5234\n",
            "Epoch 46/100\n",
            "18/18 [==============================] - 0s 5ms/step - loss: 36.0938 - mae: 36.0938 - mse: 7577.9404 - val_loss: 205.8520 - val_mae: 205.8520 - val_mse: 129491.8359\n",
            "Epoch 47/100\n",
            " 1/18 [>.............................] - ETA: 0s - loss: 33.8060 - mae: 33.8060 - mse: 6175.9307"
          ]
        },
        {
          "output_type": "stream",
          "name": "stderr",
          "text": [
            "WARNING:absl:Found untraced functions such as _update_step_xla while saving (showing 1 of 1). These functions will not be directly callable after loading.\n"
          ]
        },
        {
          "output_type": "stream",
          "name": "stdout",
          "text": [
            "\b\b\b\b\b\b\b\b\b\b\b\b\b\b\b\b\b\b\b\b\b\b\b\b\b\b\b\b\b\b\b\b\b\b\b\b\b\b\b\b\b\b\b\b\b\b\b\b\b\b\b\b\b\b\b\b\b\b\b\b\b\b\b\b\b\b\b\b\b\b\b\b\b\b\b\b\b\b\b\b\b\b\b\b\b\b\b\b\b\b\b\b\b\b\b\b\r18/18 [==============================] - 1s 37ms/step - loss: 35.6837 - mae: 35.6837 - mse: 7333.2642 - val_loss: 183.5819 - val_mae: 183.5819 - val_mse: 110385.2812\n",
            "Epoch 48/100\n",
            "18/18 [==============================] - 0s 4ms/step - loss: 34.6240 - mae: 34.6240 - mse: 7024.2446 - val_loss: 187.1794 - val_mae: 187.1794 - val_mse: 123210.8047\n",
            "Epoch 49/100\n",
            "18/18 [==============================] - 0s 5ms/step - loss: 34.9448 - mae: 34.9448 - mse: 7092.4453 - val_loss: 231.1401 - val_mae: 231.1401 - val_mse: 176653.9219\n",
            "Epoch 50/100\n",
            " 1/18 [>.............................] - ETA: 0s - loss: 42.5431 - mae: 42.5431 - mse: 9903.4258"
          ]
        },
        {
          "output_type": "stream",
          "name": "stderr",
          "text": [
            "WARNING:absl:Found untraced functions such as _update_step_xla while saving (showing 1 of 1). These functions will not be directly callable after loading.\n"
          ]
        },
        {
          "output_type": "stream",
          "name": "stdout",
          "text": [
            "\b\b\b\b\b\b\b\b\b\b\b\b\b\b\b\b\b\b\b\b\b\b\b\b\b\b\b\b\b\b\b\b\b\b\b\b\b\b\b\b\b\b\b\b\b\b\b\b\b\b\b\b\b\b\b\b\b\b\b\b\b\b\b\b\b\b\b\b\b\b\b\b\b\b\b\b\b\b\b\b\b\b\b\b\b\b\b\b\b\b\b\b\b\b\b\b\r18/18 [==============================] - 1s 40ms/step - loss: 37.2484 - mae: 37.2484 - mse: 7757.7998 - val_loss: 177.6469 - val_mae: 177.6469 - val_mse: 102301.5469\n",
            "Epoch 51/100\n",
            " 1/18 [>.............................] - ETA: 0s - loss: 34.6988 - mae: 34.6988 - mse: 6380.6445"
          ]
        },
        {
          "output_type": "stream",
          "name": "stderr",
          "text": [
            "WARNING:absl:Found untraced functions such as _update_step_xla while saving (showing 1 of 1). These functions will not be directly callable after loading.\n"
          ]
        },
        {
          "output_type": "stream",
          "name": "stdout",
          "text": [
            "\b\b\b\b\b\b\b\b\b\b\b\b\b\b\b\b\b\b\b\b\b\b\b\b\b\b\b\b\b\b\b\b\b\b\b\b\b\b\b\b\b\b\b\b\b\b\b\b\b\b\b\b\b\b\b\b\b\b\b\b\b\b\b\b\b\b\b\b\b\b\b\b\b\b\b\b\b\b\b\b\b\b\b\b\b\b\b\b\b\b\b\b\b\b\b\b\r18/18 [==============================] - 1s 38ms/step - loss: 33.5178 - mae: 33.5178 - mse: 6406.4600 - val_loss: 172.3289 - val_mae: 172.3289 - val_mse: 96937.4141\n",
            "Epoch 52/100\n",
            "18/18 [==============================] - 0s 5ms/step - loss: 31.5670 - mae: 31.5670 - mse: 5889.7378 - val_loss: 181.7878 - val_mae: 181.7878 - val_mse: 101615.3750\n",
            "Epoch 53/100\n",
            "18/18 [==============================] - 0s 5ms/step - loss: 35.3654 - mae: 35.3654 - mse: 6535.8823 - val_loss: 172.8501 - val_mae: 172.8501 - val_mse: 97605.7578\n",
            "Epoch 54/100\n",
            " 1/18 [>.............................] - ETA: 0s - loss: 36.7243 - mae: 36.7243 - mse: 6170.4580"
          ]
        },
        {
          "output_type": "stream",
          "name": "stderr",
          "text": [
            "WARNING:absl:Found untraced functions such as _update_step_xla while saving (showing 1 of 1). These functions will not be directly callable after loading.\n"
          ]
        },
        {
          "output_type": "stream",
          "name": "stdout",
          "text": [
            "\b\b\b\b\b\b\b\b\b\b\b\b\b\b\b\b\b\b\b\b\b\b\b\b\b\b\b\b\b\b\b\b\b\b\b\b\b\b\b\b\b\b\b\b\b\b\b\b\b\b\b\b\b\b\b\b\b\b\b\b\b\b\b\b\b\b\b\b\b\b\b\b\b\b\b\b\b\b\b\b\b\b\b\b\b\b\b\b\b\b\b\b\b\b\b\b\r18/18 [==============================] - 1s 60ms/step - loss: 33.4551 - mae: 33.4551 - mse: 5930.7793 - val_loss: 171.6639 - val_mae: 171.6639 - val_mse: 97067.1016\n",
            "Epoch 55/100\n",
            " 1/18 [>.............................] - ETA: 0s - loss: 37.0658 - mae: 37.0658 - mse: 5933.5190"
          ]
        },
        {
          "output_type": "stream",
          "name": "stderr",
          "text": [
            "WARNING:absl:Found untraced functions such as _update_step_xla while saving (showing 1 of 1). These functions will not be directly callable after loading.\n"
          ]
        },
        {
          "output_type": "stream",
          "name": "stdout",
          "text": [
            "\b\b\b\b\b\b\b\b\b\b\b\b\b\b\b\b\b\b\b\b\b\b\b\b\b\b\b\b\b\b\b\b\b\b\b\b\b\b\b\b\b\b\b\b\b\b\b\b\b\b\b\b\b\b\b\b\b\b\b\b\b\b\b\b\b\b\b\b\b\b\b\b\b\b\b\b\b\b\b\b\b\b\b\b\b\b\b\b\b\b\b\b\b\b\b\b\r18/18 [==============================] - 1s 37ms/step - loss: 31.1733 - mae: 31.1733 - mse: 5630.3633 - val_loss: 171.4915 - val_mae: 171.4915 - val_mse: 94628.0391\n",
            "Epoch 56/100\n",
            "18/18 [==============================] - 0s 5ms/step - loss: 30.5483 - mae: 30.5483 - mse: 5222.9702 - val_loss: 181.9270 - val_mae: 181.9270 - val_mse: 98475.2812\n",
            "Epoch 57/100\n",
            " 1/18 [>.............................] - ETA: 0s - loss: 32.5136 - mae: 32.5136 - mse: 4770.9561"
          ]
        },
        {
          "output_type": "stream",
          "name": "stderr",
          "text": [
            "WARNING:absl:Found untraced functions such as _update_step_xla while saving (showing 1 of 1). These functions will not be directly callable after loading.\n"
          ]
        },
        {
          "output_type": "stream",
          "name": "stdout",
          "text": [
            "\b\b\b\b\b\b\b\b\b\b\b\b\b\b\b\b\b\b\b\b\b\b\b\b\b\b\b\b\b\b\b\b\b\b\b\b\b\b\b\b\b\b\b\b\b\b\b\b\b\b\b\b\b\b\b\b\b\b\b\b\b\b\b\b\b\b\b\b\b\b\b\b\b\b\b\b\b\b\b\b\b\b\b\b\b\b\b\b\b\b\b\b\b\b\b\b\r18/18 [==============================] - 1s 37ms/step - loss: 29.8667 - mae: 29.8667 - mse: 4986.4229 - val_loss: 160.6020 - val_mae: 160.6020 - val_mse: 86800.5938\n",
            "Epoch 58/100\n",
            " 1/18 [>.............................] - ETA: 0s - loss: 28.8832 - mae: 28.8832 - mse: 5139.4209"
          ]
        },
        {
          "output_type": "stream",
          "name": "stderr",
          "text": [
            "WARNING:absl:Found untraced functions such as _update_step_xla while saving (showing 1 of 1). These functions will not be directly callable after loading.\n"
          ]
        },
        {
          "output_type": "stream",
          "name": "stdout",
          "text": [
            "\b\b\b\b\b\b\b\b\b\b\b\b\b\b\b\b\b\b\b\b\b\b\b\b\b\b\b\b\b\b\b\b\b\b\b\b\b\b\b\b\b\b\b\b\b\b\b\b\b\b\b\b\b\b\b\b\b\b\b\b\b\b\b\b\b\b\b\b\b\b\b\b\b\b\b\b\b\b\b\b\b\b\b\b\b\b\b\b\b\b\b\b\b\b\b\b\r18/18 [==============================] - 1s 45ms/step - loss: 28.6592 - mae: 28.6592 - mse: 4749.4883 - val_loss: 160.1854 - val_mae: 160.1854 - val_mse: 83018.6172\n",
            "Epoch 59/100\n",
            "18/18 [==============================] - ETA: 0s - loss: 28.2469 - mae: 28.2469 - mse: 4553.1572"
          ]
        },
        {
          "output_type": "stream",
          "name": "stderr",
          "text": [
            "WARNING:absl:Found untraced functions such as _update_step_xla while saving (showing 1 of 1). These functions will not be directly callable after loading.\n"
          ]
        },
        {
          "output_type": "stream",
          "name": "stdout",
          "text": [
            "\b\b\b\b\b\b\b\b\b\b\b\b\b\b\b\b\b\b\b\b\b\b\b\b\b\b\b\b\b\b\b\b\b\b\b\b\b\b\b\b\b\b\b\b\b\b\b\b\b\b\b\b\b\b\b\b\b\b\b\b\b\b\b\b\b\b\b\b\b\b\b\b\b\b\b\b\b\b\b\b\b\b\b\b\b\b\b\b\b\b\b\b\b\b\b\b\r18/18 [==============================] - 1s 57ms/step - loss: 28.2469 - mae: 28.2469 - mse: 4553.1572 - val_loss: 160.0468 - val_mae: 160.0468 - val_mse: 83558.2656\n",
            "Epoch 60/100\n",
            "18/18 [==============================] - ETA: 0s - loss: 27.6567 - mae: 27.6567 - mse: 4360.5000"
          ]
        },
        {
          "output_type": "stream",
          "name": "stderr",
          "text": [
            "WARNING:absl:Found untraced functions such as _update_step_xla while saving (showing 1 of 1). These functions will not be directly callable after loading.\n"
          ]
        },
        {
          "output_type": "stream",
          "name": "stdout",
          "text": [
            "\b\b\b\b\b\b\b\b\b\b\b\b\b\b\b\b\b\b\b\b\b\b\b\b\b\b\b\b\b\b\b\b\b\b\b\b\b\b\b\b\b\b\b\b\b\b\b\b\b\b\b\b\b\b\b\b\b\b\b\b\b\b\b\b\b\b\b\b\b\b\b\b\b\b\b\b\b\b\b\b\b\b\b\b\b\b\b\b\b\b\b\b\b\b\b\b\r18/18 [==============================] - 1s 58ms/step - loss: 27.6567 - mae: 27.6567 - mse: 4360.5000 - val_loss: 159.6303 - val_mae: 159.6303 - val_mse: 80212.1406\n",
            "Epoch 61/100\n",
            "18/18 [==============================] - 0s 4ms/step - loss: 26.2867 - mae: 26.2867 - mse: 4068.8691 - val_loss: 163.8651 - val_mae: 163.8651 - val_mse: 82483.8047\n",
            "Epoch 62/100\n",
            "18/18 [==============================] - 0s 4ms/step - loss: 28.3570 - mae: 28.3570 - mse: 4253.0522 - val_loss: 169.8698 - val_mae: 169.8698 - val_mse: 88837.4453\n",
            "Epoch 63/100\n",
            " 1/18 [>.............................] - ETA: 0s - loss: 32.4226 - mae: 32.4226 - mse: 6442.8555"
          ]
        },
        {
          "output_type": "stream",
          "name": "stderr",
          "text": [
            "WARNING:absl:Found untraced functions such as _update_step_xla while saving (showing 1 of 1). These functions will not be directly callable after loading.\n"
          ]
        },
        {
          "output_type": "stream",
          "name": "stdout",
          "text": [
            "\b\b\b\b\b\b\b\b\b\b\b\b\b\b\b\b\b\b\b\b\b\b\b\b\b\b\b\b\b\b\b\b\b\b\b\b\b\b\b\b\b\b\b\b\b\b\b\b\b\b\b\b\b\b\b\b\b\b\b\b\b\b\b\b\b\b\b\b\b\b\b\b\b\b\b\b\b\b\b\b\b\b\b\b\b\b\b\b\b\b\b\b\b\b\b\b\r18/18 [==============================] - 1s 37ms/step - loss: 28.3477 - mae: 28.3477 - mse: 4256.3311 - val_loss: 149.1936 - val_mae: 149.1936 - val_mse: 68628.0547\n",
            "Epoch 64/100\n",
            " 1/18 [>.............................] - ETA: 0s - loss: 32.1778 - mae: 32.1778 - mse: 5486.3135"
          ]
        },
        {
          "output_type": "stream",
          "name": "stderr",
          "text": [
            "WARNING:absl:Found untraced functions such as _update_step_xla while saving (showing 1 of 1). These functions will not be directly callable after loading.\n"
          ]
        },
        {
          "output_type": "stream",
          "name": "stdout",
          "text": [
            "\b\b\b\b\b\b\b\b\b\b\b\b\b\b\b\b\b\b\b\b\b\b\b\b\b\b\b\b\b\b\b\b\b\b\b\b\b\b\b\b\b\b\b\b\b\b\b\b\b\b\b\b\b\b\b\b\b\b\b\b\b\b\b\b\b\b\b\b\b\b\b\b\b\b\b\b\b\b\b\b\b\b\b\b\b\b\b\b\b\b\b\b\b\b\b\b\r18/18 [==============================] - 1s 38ms/step - loss: 25.1665 - mae: 25.1665 - mse: 3662.1555 - val_loss: 133.0005 - val_mae: 133.0005 - val_mse: 57679.8594\n",
            "Epoch 65/100\n",
            "18/18 [==============================] - 0s 5ms/step - loss: 25.2068 - mae: 25.2068 - mse: 3546.5955 - val_loss: 154.6075 - val_mae: 154.6075 - val_mse: 74676.3750\n",
            "Epoch 66/100\n",
            " 1/18 [>.............................] - ETA: 0s - loss: 21.4525 - mae: 21.4525 - mse: 2546.9375"
          ]
        },
        {
          "output_type": "stream",
          "name": "stderr",
          "text": [
            "WARNING:absl:Found untraced functions such as _update_step_xla while saving (showing 1 of 1). These functions will not be directly callable after loading.\n"
          ]
        },
        {
          "output_type": "stream",
          "name": "stdout",
          "text": [
            "\b\b\b\b\b\b\b\b\b\b\b\b\b\b\b\b\b\b\b\b\b\b\b\b\b\b\b\b\b\b\b\b\b\b\b\b\b\b\b\b\b\b\b\b\b\b\b\b\b\b\b\b\b\b\b\b\b\b\b\b\b\b\b\b\b\b\b\b\b\b\b\b\b\b\b\b\b\b\b\b\b\b\b\b\b\b\b\b\b\b\b\b\b\b\b\b\r18/18 [==============================] - 1s 37ms/step - loss: 24.1891 - mae: 24.1891 - mse: 3369.1165 - val_loss: 128.4550 - val_mae: 128.4550 - val_mse: 56739.4414\n",
            "Epoch 67/100\n",
            " 1/18 [>.............................] - ETA: 0s - loss: 26.4969 - mae: 26.4969 - mse: 3109.1216"
          ]
        },
        {
          "output_type": "stream",
          "name": "stderr",
          "text": [
            "WARNING:absl:Found untraced functions such as _update_step_xla while saving (showing 1 of 1). These functions will not be directly callable after loading.\n"
          ]
        },
        {
          "output_type": "stream",
          "name": "stdout",
          "text": [
            "\b\b\b\b\b\b\b\b\b\b\b\b\b\b\b\b\b\b\b\b\b\b\b\b\b\b\b\b\b\b\b\b\b\b\b\b\b\b\b\b\b\b\b\b\b\b\b\b\b\b\b\b\b\b\b\b\b\b\b\b\b\b\b\b\b\b\b\b\b\b\b\b\b\b\b\b\b\b\b\b\b\b\b\b\b\b\b\b\b\b\b\b\b\b\b\b\r18/18 [==============================] - 1s 37ms/step - loss: 22.7485 - mae: 22.7485 - mse: 3136.7166 - val_loss: 120.3391 - val_mae: 120.3391 - val_mse: 47339.4844\n",
            "Epoch 68/100\n",
            "18/18 [==============================] - 0s 5ms/step - loss: 21.6993 - mae: 21.6993 - mse: 2903.1045 - val_loss: 150.7059 - val_mae: 150.7059 - val_mse: 67197.7812\n",
            "Epoch 69/100\n",
            "18/18 [==============================] - 0s 4ms/step - loss: 24.8466 - mae: 24.8466 - mse: 3221.6130 - val_loss: 136.5099 - val_mae: 136.5099 - val_mse: 60090.0469\n",
            "Epoch 70/100\n",
            "18/18 [==============================] - 0s 4ms/step - loss: 23.3441 - mae: 23.3441 - mse: 3010.1724 - val_loss: 154.7918 - val_mae: 154.7918 - val_mse: 63052.2695\n",
            "Epoch 71/100\n",
            "18/18 [==============================] - 0s 4ms/step - loss: 23.8421 - mae: 23.8421 - mse: 2871.9199 - val_loss: 161.5686 - val_mae: 161.5686 - val_mse: 68030.7812\n",
            "Epoch 72/100\n",
            " 1/18 [>.............................] - ETA: 0s - loss: 32.2977 - mae: 32.2977 - mse: 5431.0068"
          ]
        },
        {
          "output_type": "stream",
          "name": "stderr",
          "text": [
            "WARNING:absl:Found untraced functions such as _update_step_xla while saving (showing 1 of 1). These functions will not be directly callable after loading.\n"
          ]
        },
        {
          "output_type": "stream",
          "name": "stdout",
          "text": [
            "\b\b\b\b\b\b\b\b\b\b\b\b\b\b\b\b\b\b\b\b\b\b\b\b\b\b\b\b\b\b\b\b\b\b\b\b\b\b\b\b\b\b\b\b\b\b\b\b\b\b\b\b\b\b\b\b\b\b\b\b\b\b\b\b\b\b\b\b\b\b\b\b\b\b\b\b\b\b\b\b\b\b\b\b\b\b\b\b\b\b\b\b\b\b\b\b\r18/18 [==============================] - 1s 37ms/step - loss: 23.4069 - mae: 23.4069 - mse: 2783.4788 - val_loss: 118.4458 - val_mae: 118.4458 - val_mse: 44281.0898\n",
            "Epoch 73/100\n",
            "18/18 [==============================] - 0s 4ms/step - loss: 23.8723 - mae: 23.8723 - mse: 2780.6433 - val_loss: 165.0036 - val_mae: 165.0036 - val_mse: 70464.0156\n",
            "Epoch 74/100\n",
            "18/18 [==============================] - 0s 5ms/step - loss: 26.2163 - mae: 26.2163 - mse: 3157.4954 - val_loss: 124.8399 - val_mae: 124.8399 - val_mse: 47150.6133\n",
            "Epoch 75/100\n",
            "18/18 [==============================] - 0s 5ms/step - loss: 19.6057 - mae: 19.6057 - mse: 2132.5620 - val_loss: 153.3711 - val_mae: 153.3711 - val_mse: 63441.6250\n",
            "Epoch 76/100\n",
            "18/18 [==============================] - 0s 5ms/step - loss: 25.1032 - mae: 25.1032 - mse: 2889.3564 - val_loss: 203.4496 - val_mae: 203.4496 - val_mse: 104192.6172\n",
            "Epoch 77/100\n",
            "18/18 [==============================] - 0s 5ms/step - loss: 31.5440 - mae: 31.5440 - mse: 4542.6885 - val_loss: 124.9274 - val_mae: 124.9274 - val_mse: 46302.2773\n",
            "Epoch 78/100\n",
            " 1/18 [>.............................] - ETA: 0s - loss: 22.0825 - mae: 22.0825 - mse: 2267.9187"
          ]
        },
        {
          "output_type": "stream",
          "name": "stderr",
          "text": [
            "WARNING:absl:Found untraced functions such as _update_step_xla while saving (showing 1 of 1). These functions will not be directly callable after loading.\n"
          ]
        },
        {
          "output_type": "stream",
          "name": "stdout",
          "text": [
            "\b\b\b\b\b\b\b\b\b\b\b\b\b\b\b\b\b\b\b\b\b\b\b\b\b\b\b\b\b\b\b\b\b\b\b\b\b\b\b\b\b\b\b\b\b\b\b\b\b\b\b\b\b\b\b\b\b\b\b\b\b\b\b\b\b\b\b\b\b\b\b\b\b\b\b\b\b\b\b\b\b\b\b\b\b\b\b\b\b\b\b\b\b\b\b\b\r18/18 [==============================] - 1s 37ms/step - loss: 20.1110 - mae: 20.1110 - mse: 2045.0327 - val_loss: 110.1318 - val_mae: 110.1318 - val_mse: 34329.6914\n",
            "Epoch 79/100\n",
            "18/18 [==============================] - 0s 5ms/step - loss: 18.5529 - mae: 18.5529 - mse: 1812.2358 - val_loss: 121.2583 - val_mae: 121.2583 - val_mse: 44803.0859\n",
            "Epoch 80/100\n",
            " 1/18 [>.............................] - ETA: 0s - loss: 21.8538 - mae: 21.8538 - mse: 2334.8455"
          ]
        },
        {
          "output_type": "stream",
          "name": "stderr",
          "text": [
            "WARNING:absl:Found untraced functions such as _update_step_xla while saving (showing 1 of 1). These functions will not be directly callable after loading.\n"
          ]
        },
        {
          "output_type": "stream",
          "name": "stdout",
          "text": [
            "\b\b\b\b\b\b\b\b\b\b\b\b\b\b\b\b\b\b\b\b\b\b\b\b\b\b\b\b\b\b\b\b\b\b\b\b\b\b\b\b\b\b\b\b\b\b\b\b\b\b\b\b\b\b\b\b\b\b\b\b\b\b\b\b\b\b\b\b\b\b\b\b\b\b\b\b\b\b\b\b\b\b\b\b\b\b\b\b\b\b\b\b\b\b\b\b\r18/18 [==============================] - 1s 35ms/step - loss: 21.1741 - mae: 21.1741 - mse: 2278.1555 - val_loss: 109.2445 - val_mae: 109.2445 - val_mse: 39083.3867\n",
            "Epoch 81/100\n",
            "18/18 [==============================] - 0s 5ms/step - loss: 18.9638 - mae: 18.9638 - mse: 1858.3289 - val_loss: 151.5178 - val_mae: 151.5178 - val_mse: 64322.8477\n",
            "Epoch 82/100\n",
            " 1/18 [>.............................] - ETA: 0s - loss: 22.2696 - mae: 22.2696 - mse: 1856.0614"
          ]
        },
        {
          "output_type": "stream",
          "name": "stderr",
          "text": [
            "WARNING:absl:Found untraced functions such as _update_step_xla while saving (showing 1 of 1). These functions will not be directly callable after loading.\n"
          ]
        },
        {
          "output_type": "stream",
          "name": "stdout",
          "text": [
            "\b\b\b\b\b\b\b\b\b\b\b\b\b\b\b\b\b\b\b\b\b\b\b\b\b\b\b\b\b\b\b\b\b\b\b\b\b\b\b\b\b\b\b\b\b\b\b\b\b\b\b\b\b\b\b\b\b\b\b\b\b\b\b\b\b\b\b\b\b\b\b\b\b\b\b\b\b\b\b\b\b\b\b\b\b\b\b\b\b\b\b\b\b\b\b\b\r18/18 [==============================] - 1s 35ms/step - loss: 18.9558 - mae: 18.9558 - mse: 1766.5470 - val_loss: 101.4438 - val_mae: 101.4438 - val_mse: 29829.4883\n",
            "Epoch 83/100\n",
            "18/18 [==============================] - 0s 4ms/step - loss: 18.1225 - mae: 18.1225 - mse: 1666.9293 - val_loss: 105.5212 - val_mae: 105.5212 - val_mse: 36340.2461\n",
            "Epoch 84/100\n",
            " 1/18 [>.............................] - ETA: 0s - loss: 21.1557 - mae: 21.1557 - mse: 2316.1177"
          ]
        },
        {
          "output_type": "stream",
          "name": "stderr",
          "text": [
            "WARNING:absl:Found untraced functions such as _update_step_xla while saving (showing 1 of 1). These functions will not be directly callable after loading.\n"
          ]
        },
        {
          "output_type": "stream",
          "name": "stdout",
          "text": [
            "\b\b\b\b\b\b\b\b\b\b\b\b\b\b\b\b\b\b\b\b\b\b\b\b\b\b\b\b\b\b\b\b\b\b\b\b\b\b\b\b\b\b\b\b\b\b\b\b\b\b\b\b\b\b\b\b\b\b\b\b\b\b\b\b\b\b\b\b\b\b\b\b\b\b\b\b\b\b\b\b\b\b\b\b\b\b\b\b\b\b\b\b\b\b\b\b\r18/18 [==============================] - 1s 37ms/step - loss: 17.0325 - mae: 17.0325 - mse: 1551.6281 - val_loss: 95.0941 - val_mae: 95.0941 - val_mse: 27745.5273\n",
            "Epoch 85/100\n",
            "18/18 [==============================] - 0s 4ms/step - loss: 18.3552 - mae: 18.3552 - mse: 1601.2268 - val_loss: 98.3415 - val_mae: 98.3415 - val_mse: 28020.0762\n",
            "Epoch 86/100\n",
            "18/18 [==============================] - 0s 4ms/step - loss: 18.0315 - mae: 18.0315 - mse: 1557.8939 - val_loss: 127.2953 - val_mae: 127.2953 - val_mse: 41209.0117\n",
            "Epoch 87/100\n",
            " 1/18 [>.............................] - ETA: 0s - loss: 23.3724 - mae: 23.3724 - mse: 2415.5122"
          ]
        },
        {
          "output_type": "stream",
          "name": "stderr",
          "text": [
            "WARNING:absl:Found untraced functions such as _update_step_xla while saving (showing 1 of 1). These functions will not be directly callable after loading.\n"
          ]
        },
        {
          "output_type": "stream",
          "name": "stdout",
          "text": [
            "\b\b\b\b\b\b\b\b\b\b\b\b\b\b\b\b\b\b\b\b\b\b\b\b\b\b\b\b\b\b\b\b\b\b\b\b\b\b\b\b\b\b\b\b\b\b\b\b\b\b\b\b\b\b\b\b\b\b\b\b\b\b\b\b\b\b\b\b\b\b\b\b\b\b\b\b\b\b\b\b\b\b\b\b\b\b\b\b\b\b\b\b\b\b\b\b\r18/18 [==============================] - 1s 59ms/step - loss: 17.4220 - mae: 17.4220 - mse: 1500.2761 - val_loss: 89.4080 - val_mae: 89.4080 - val_mse: 31577.3867\n",
            "Epoch 88/100\n",
            "18/18 [==============================] - 0s 4ms/step - loss: 18.9401 - mae: 18.9401 - mse: 1816.7423 - val_loss: 151.0289 - val_mae: 151.0289 - val_mse: 57241.2070\n",
            "Epoch 89/100\n",
            "18/18 [==============================] - 0s 4ms/step - loss: 20.7605 - mae: 20.7605 - mse: 1872.2686 - val_loss: 184.2711 - val_mae: 184.2711 - val_mse: 84072.8906\n",
            "Epoch 90/100\n",
            "18/18 [==============================] - 0s 4ms/step - loss: 24.9922 - mae: 24.9922 - mse: 2378.3420 - val_loss: 138.6633 - val_mae: 138.6633 - val_mse: 60270.7578\n",
            "Epoch 91/100\n",
            "18/18 [==============================] - 0s 5ms/step - loss: 20.9510 - mae: 20.9510 - mse: 1933.9307 - val_loss: 99.0564 - val_mae: 99.0564 - val_mse: 30229.9668\n",
            "Epoch 92/100\n",
            "18/18 [==============================] - 0s 4ms/step - loss: 18.2291 - mae: 18.2291 - mse: 1535.6311 - val_loss: 120.4377 - val_mae: 120.4377 - val_mse: 45936.3828\n",
            "Epoch 93/100\n",
            "18/18 [==============================] - 0s 4ms/step - loss: 22.9283 - mae: 22.9283 - mse: 2559.6340 - val_loss: 185.7832 - val_mae: 185.7832 - val_mse: 98912.4219\n",
            "Epoch 94/100\n",
            "18/18 [==============================] - 0s 4ms/step - loss: 25.2414 - mae: 25.2414 - mse: 2745.5273 - val_loss: 163.5910 - val_mae: 163.5910 - val_mse: 84912.2891\n",
            "Epoch 95/100\n",
            "18/18 [==============================] - 0s 4ms/step - loss: 17.7352 - mae: 17.7352 - mse: 1593.7408 - val_loss: 106.8336 - val_mae: 106.8336 - val_mse: 28690.3730\n",
            "Epoch 96/100\n",
            "18/18 [==============================] - 0s 5ms/step - loss: 17.2208 - mae: 17.2208 - mse: 1196.8665 - val_loss: 107.6110 - val_mae: 107.6110 - val_mse: 32190.8203\n",
            "Epoch 97/100\n",
            " 1/18 [>.............................] - ETA: 0s - loss: 20.7961 - mae: 20.7961 - mse: 1628.4587"
          ]
        },
        {
          "output_type": "stream",
          "name": "stderr",
          "text": [
            "WARNING:absl:Found untraced functions such as _update_step_xla while saving (showing 1 of 1). These functions will not be directly callable after loading.\n"
          ]
        },
        {
          "output_type": "stream",
          "name": "stdout",
          "text": [
            "\b\b\b\b\b\b\b\b\b\b\b\b\b\b\b\b\b\b\b\b\b\b\b\b\b\b\b\b\b\b\b\b\b\b\b\b\b\b\b\b\b\b\b\b\b\b\b\b\b\b\b\b\b\b\b\b\b\b\b\b\b\b\b\b\b\b\b\b\b\b\b\b\b\b\b\b\b\b\b\b\b\b\b\b\b\b\b\b\b\b\b\b\b\b\b\b\r18/18 [==============================] - 1s 38ms/step - loss: 16.3531 - mae: 16.3531 - mse: 1165.6241 - val_loss: 87.4756 - val_mae: 87.4756 - val_mse: 19251.7383\n",
            "Epoch 98/100\n",
            "18/18 [==============================] - 0s 5ms/step - loss: 17.8570 - mae: 17.8570 - mse: 1349.9993 - val_loss: 139.1391 - val_mae: 139.1391 - val_mse: 48124.8086\n",
            "Epoch 99/100\n",
            "18/18 [==============================] - 0s 4ms/step - loss: 15.4418 - mae: 15.4418 - mse: 990.4788 - val_loss: 112.7544 - val_mae: 112.7544 - val_mse: 32211.7207\n",
            "Epoch 100/100\n",
            "18/18 [==============================] - 0s 4ms/step - loss: 14.3288 - mae: 14.3288 - mse: 897.0007 - val_loss: 93.1307 - val_mae: 93.1307 - val_mse: 23987.8594\n"
          ]
        }
      ]
    },
    {
      "cell_type": "code",
      "source": [
        "# Evaluate model 3\n",
        "model_3.evaluate(test_windows, test_labels)"
      ],
      "metadata": {
        "colab": {
          "base_uri": "https://localhost:8080/"
        },
        "id": "O4j9VpBu-RG0",
        "outputId": "0ce94022-9dba-4e8a-b16a-6d05599a405b"
      },
      "execution_count": 80,
      "outputs": [
        {
          "output_type": "stream",
          "name": "stdout",
          "text": [
            "18/18 [==============================] - 0s 5ms/step - loss: 93.1307 - mae: 93.1307 - mse: 23987.8594\n"
          ]
        },
        {
          "output_type": "execute_result",
          "data": {
            "text/plain": [
              "[93.13067626953125, 93.13067626953125, 23987.859375]"
            ]
          },
          "metadata": {},
          "execution_count": 80
        }
      ]
    },
    {
      "cell_type": "code",
      "source": [
        "# Load best version of model_3\n",
        "model_3 = tf.keras.models.load_model(\"model_experiments/model_3_dense/\")\n",
        "model_3.evaluate(test_windows, test_labels)"
      ],
      "metadata": {
        "colab": {
          "base_uri": "https://localhost:8080/"
        },
        "id": "Ez1Oa65G-x1H",
        "outputId": "39c4248e-b760-4977-ae2f-65b675a0ebb0"
      },
      "execution_count": 81,
      "outputs": [
        {
          "output_type": "stream",
          "name": "stdout",
          "text": [
            "18/18 [==============================] - 0s 5ms/step - loss: 87.4756 - mae: 87.4756 - mse: 19251.7363\n"
          ]
        },
        {
          "output_type": "execute_result",
          "data": {
            "text/plain": [
              "[87.47561645507812, 87.47561645507812, 19251.736328125]"
            ]
          },
          "metadata": {},
          "execution_count": 81
        }
      ]
    },
    {
      "cell_type": "code",
      "source": [
        "# Make predictions \n",
        "model_3_preds = make_preds(model_3, test_windows)\n",
        "model_3_preds[:3]"
      ],
      "metadata": {
        "colab": {
          "base_uri": "https://localhost:8080/"
        },
        "id": "4kyyooKR_Pty",
        "outputId": "ce0401c3-2197-4f1c-ef32-4c3657124fc3"
      },
      "execution_count": 82,
      "outputs": [
        {
          "output_type": "stream",
          "name": "stdout",
          "text": [
            "18/18 [==============================] - 1s 10ms/step\n"
          ]
        },
        {
          "output_type": "execute_result",
          "data": {
            "text/plain": [
              "<tf.Tensor: shape=(3, 7), dtype=float32, numpy=\n",
              "array([[8761.414 , 8841.681 , 9037.295 , 8760.772 , 8726.961 , 8721.984 ,\n",
              "        8593.731 ],\n",
              "       [8760.771 , 9068.737 , 8750.524 , 8772.633 , 8725.097 , 8609.362 ,\n",
              "        8446.251 ],\n",
              "       [9028.8545, 8759.786 , 8791.573 , 8749.157 , 8627.723 , 8474.114 ,\n",
              "        8406.122 ]], dtype=float32)>"
            ]
          },
          "metadata": {},
          "execution_count": 82
        }
      ]
    },
    {
      "cell_type": "code",
      "source": [
        "# Evaluate model_3 results\n",
        "model_3_results = evaluate_preds(tf.squeeze(test_labels), model_3_preds)\n",
        "model_3_results"
      ],
      "metadata": {
        "colab": {
          "base_uri": "https://localhost:8080/"
        },
        "id": "9KiX05C8_jfI",
        "outputId": "04e99b5c-f738-48b1-efb9-2c295c41df71"
      },
      "execution_count": 83,
      "outputs": [
        {
          "output_type": "execute_result",
          "data": {
            "text/plain": [
              "{'mae': array([ 42.05999 ,  32.410713,  35.791992,  29.321987,  29.05071 ,\n",
              "         33.262066,  35.340473,  32.736187,  29.655344,  35.39725 ,\n",
              "         28.662598,  26.507185,  38.55064 ,  35.888603,  30.696707,\n",
              "         36.64774 ,  34.160854,  38.36014 ,  30.728445,  31.635464,\n",
              "         23.771902,  28.770786,  26.884487,  27.032854,  28.502651,\n",
              "         28.769531,  26.106028,  25.024414,  26.941128,  25.182966,\n",
              "         27.681223,  27.884487,  27.307129,  26.65862 ,  35.17027 ,\n",
              "         26.100515,  37.95396 ,  55.483257,  44.025322,  29.066057,\n",
              "         33.252373,  24.994768,  24.223145,  26.955915,  26.24986 ,\n",
              "         24.786062,  26.47461 ,  28.037527,  25.919363,  25.112722,\n",
              "         26.386858,  27.70438 ,  32.274136,  32.07889 ,  27.569265,\n",
              "         27.413923,  31.839495,  32.035786,  24.069336,  35.30329 ,\n",
              "         34.39858 ,  37.21519 ,  23.41769 ,  35.96847 ,  41.959126,\n",
              "         32.244976,  34.848003,  33.53111 ,  32.78404 ,  34.19894 ,\n",
              "         31.529018,  35.79297 ,  28.519392,  32.557198,  31.374722,\n",
              "         32.856865,  32.041992,  35.47977 ,  31.527761,  32.88714 ,\n",
              "         31.79855 ,  35.602398,  31.61384 ,  35.7387  ,  30.319754,\n",
              "         35.38128 ,  45.146904,  37.797993,  30.339006,  38.943916,\n",
              "         37.018974,  46.92355 ,  38.983818,  43.554546,  39.8298  ,\n",
              "         39.57422 ,  50.753906,  38.1084  ,  45.165318,  54.134346,\n",
              "         51.73828 ,  35.44559 ,  43.502373,  38.188057,  41.278877,\n",
              "         38.222797,  26.268276,  38.69294 ,  36.372906,  40.337055,\n",
              "         27.874722,  33.200195,  42.177315,  35.785156,  30.2553  ,\n",
              "         42.919014,  35.513603,  24.253418,  36.893974,  50.879253,\n",
              "         77.619835, 107.20166 , 110.74658 ,  81.74477 ,  92.91134 ,\n",
              "         32.69071 ,  55.193916,  48.66748 ,  46.20438 ,  48.38616 ,\n",
              "         52.77497 ,  22.657576,  34.4405  ,  36.089775,  35.09173 ,\n",
              "         26.68164 ,  22.906738,  29.33252 ,  24.219866,  27.476423,\n",
              "         46.910015,  31.523996,  24.270508,  31.697683,  33.718052,\n",
              "         21.363281,  31.668736,  36.083916,  35.108955,  26.028948,\n",
              "         26.359724,  31.470005,  27.463589,  38.677387,  33.325474,\n",
              "         22.290318,  33.083076,  37.55078 ,  35.186733,  25.242466,\n",
              "         24.385115,  29.066824,  25.537249,  33.40939 ,  34.584194,\n",
              "         32.86628 ,  24.23291 ,  40.297783,  29.338797,  42.780552,\n",
              "         52.847378,  45.704033,  32.774204,  32.614815,  30.70145 ,\n",
              "         29.741909,  33.23089 ,  38.73605 ,  44.86579 ,  35.036133,\n",
              "         24.339146,  41.72196 ,  33.31529 ,  49.718052,  42.71568 ,\n",
              "         38.26367 ,  46.308735,  35.932476,  46.582867,  34.910156,\n",
              "         32.77358 ,  30.26144 ,  35.6988  ,  36.549946,  39.822964,\n",
              "         30.902622,  29.57115 ,  33.040596,  38.822544,  43.078266,\n",
              "         54.316685,  46.05999 ,  63.260185,  63.825752,  66.46973 ,\n",
              "         44.3644  ,  51.52902 ,  35.91504 ,  33.358257,  37.4375  ,\n",
              "         34.236748,  39.350445,  37.985073,  49.364956,  39.893276,\n",
              "         42.580914,  31.888533,  35.090263,  35.561943,  32.94629 ,\n",
              "         31.55971 ,  34.425083,  34.572124,  36.993023,  41.036274,\n",
              "         33.21289 ,  33.3185  ,  34.106167,  34.6935  ,  32.33524 ,\n",
              "         34.8464  ,  35.15918 ,  32.926758,  31.878347,  32.578266,\n",
              "         32.403877,  33.546597,  33.91992 ,  36.624023,  37.103096,\n",
              "         33.8125  ,  38.699078,  30.368723,  36.331753,  33.14188 ,\n",
              "         33.371235,  32.841377,  32.780132,  32.268414,  33.635044,\n",
              "         34.277344,  31.721262,  33.435825,  35.11872 ,  35.970703,\n",
              "         31.69573 ,  45.266323,  32.802036,  49.38309 ,  70.68806 ,\n",
              "         70.214005,  40.278877,  46.333843,  43.845703,  56.111187,\n",
              "         60.890347,  42.50279 ,  48.955776,  44.69266 ,  41.897182,\n",
              "         43.55413 ,  40.282368,  46.8238  ,  43.63672 ,  53.568916,\n",
              "         43.006416,  52.139927,  41.21554 ,  38.33524 ,  46.69643 ,\n",
              "         53.24233 ,  48.446568,  40.592773,  50.67983 ,  45.43192 ,\n",
              "         40.78669 ,  46.979633,  41.121094,  47.768833,  40.038643,\n",
              "         44.947964,  40.8637  ,  44.279438,  38.859234,  45.33538 ,\n",
              "         47.357563,  41.96275 ,  41.04548 ,  48.290318,  44.3923  ,\n",
              "         42.217773,  50.84096 ,  45.964565,  36.67648 ,  41.154297,\n",
              "         36.197544,  34.578682,  41.41811 ,  42.77553 ,  42.680664,\n",
              "         36.06264 ,  38.29255 ,  38.334126,  41.774555,  35.737026,\n",
              "         38.65848 ,  41.700893,  45.433174,  46.17648 ,  41.919643,\n",
              "         33.427593,  39.17355 ,  38.873325,  38.370953,  36.82645 ,\n",
              "         38.49191 ,  37.441547,  39.194893,  40.953125,  38.204937,\n",
              "         38.74428 ,  38.550083,  43.8291  ,  42.11286 ,  39.675224,\n",
              "         45.91546 ,  41.2673  ,  45.228794,  38.37751 ,  45.33747 ,\n",
              "         40.858677,  38.986607,  51.972515,  44.50544 ,  55.01646 ,\n",
              "         66.02246 ,  55.430805,  51.45145 ,  47.455914,  45.112583,\n",
              "         51.74749 ,  67.744835,  67.802734,  49.239258,  56.847378,\n",
              "         49.129326,  50.109516,  48.316128,  50.92536 ,  60.050922,\n",
              "         74.92718 ,  53.888252,  78.52204 ,  72.97698 ,  67.363   ,\n",
              "         50.932476,  64.42452 ,  61.759907,  53.05971 ,  57.859932,\n",
              "         57.060688,  77.061806,  72.382256,  61.410015,  64.60407 ,\n",
              "         72.416855,  70.5413  ,  55.737724,  69.30357 ,  78.56445 ,\n",
              "         61.706196,  84.638954,  69.04743 , 112.6476  ,  82.45982 ,\n",
              "         81.186386,  91.62584 ,  68.03683 ,  82.460655,  82.82171 ,\n",
              "         68.33956 ,  78.24358 ,  63.95815 ,  65.45508 ,  66.72628 ,\n",
              "         65.10128 ,  69.64425 ,  83.74079 ,  86.17857 ,  57.396484,\n",
              "         83.03962 ,  98.46484 , 104.35491 , 106.03683 ,  75.95927 ,\n",
              "         89.4707  ,  77.65095 ,  89.430244,  89.22963 ,  81.30134 ,\n",
              "        106.76786 , 120.0346  , 125.11635 ,  80.77483 , 108.56557 ,\n",
              "        127.88867 , 109.2154  , 131.19002 , 180.54826 , 122.20982 ,\n",
              "        219.65291 , 192.78098 , 173.72182 , 147.90625 , 148.49219 ,\n",
              "        125.84933 , 100.10156 , 187.97043 , 175.19308 , 278.69644 ,\n",
              "        163.99498 , 165.66183 , 127.33984 , 170.98381 , 143.77957 ,\n",
              "        201.65904 , 137.11412 , 242.50809 , 279.3976  , 190.65569 ,\n",
              "        130.62473 , 182.15736 , 106.27846 , 179.81584 , 206.08455 ,\n",
              "        173.23885 , 110.83343 , 143.6635  , 130.05078 , 182.63783 ,\n",
              "        139.38113 , 144.61328 , 243.74721 , 238.71484 , 301.66965 ,\n",
              "        284.13895 , 222.6875  , 259.43527 , 177.96986 , 193.99219 ,\n",
              "        207.67522 , 209.80357 , 215.77791 , 201.79576 , 289.55582 ,\n",
              "        321.49387 , 294.7405  , 292.59933 , 201.5106  , 188.7009  ,\n",
              "        289.47543 , 265.07925 , 293.4453  , 281.19418 , 246.38615 ,\n",
              "        322.33203 , 337.32867 , 345.31137 , 248.0692  , 299.2137  ,\n",
              "        188.7539  , 212.46428 , 176.30692 , 204.85045 , 202.77902 ,\n",
              "        218.56529 , 179.41629 , 238.49498 , 276.16797 , 199.8125  ,\n",
              "        270.87054 , 230.625   , 326.20926 , 230.22488 , 197.5759  ,\n",
              "        230.22266 , 186.44643 , 254.92522 , 229.79297 , 216.47824 ,\n",
              "        186.13002 , 260.      , 233.81082 , 253.26228 , 206.59877 ,\n",
              "        225.15178 , 195.41797 , 206.88393 , 200.29465 , 213.08594 ,\n",
              "        221.34598 , 233.39342 , 181.35881 , 220.87166 , 243.25111 ,\n",
              "        231.9615  , 209.62668 , 198.0586  , 243.00279 , 291.38394 ,\n",
              "        264.87555 , 205.46484 , 227.84933 , 187.04799 , 234.02623 ,\n",
              "        227.75334 , 296.98215 , 206.84319 , 167.65625 , 281.31863 ,\n",
              "        235.28125 , 284.84988 , 324.04297 , 280.2009  , 186.39844 ,\n",
              "        246.1942  , 306.63226 , 224.69252 , 286.5223  , 254.01897 ,\n",
              "        337.1328  , 313.11273 , 261.49496 , 205.976   , 246.18861 ,\n",
              "        181.08203 , 236.99275 , 265.26285 , 253.68582 , 205.46931 ,\n",
              "        298.32645 ], dtype=float32),\n",
              " 'mse': array([  1892.7631 ,   1289.1115 ,   1650.5817 ,   1107.5703 ,\n",
              "          1135.5374 ,   1307.7852 ,   1469.0922 ,   1198.5381 ,\n",
              "          1096.7858 ,   1540.161  ,    938.001  ,   1104.7458 ,\n",
              "          1789.9456 ,   1656.5319 ,   1347.1956 ,   1767.6144 ,\n",
              "          1717.5836 ,   1617.6332 ,   1264.7832 ,   1202.7852 ,\n",
              "           789.2062 ,   1063.1981 ,    943.06995,    921.6564 ,\n",
              "          1063.3411 ,   1050.4763 ,    860.03204,    819.87494,\n",
              "           875.4189 ,    802.6222 ,    961.3538 ,    942.8023 ,\n",
              "           944.5741 ,    848.4643 ,   1576.1233 ,   1266.8381 ,\n",
              "          2179.9001 ,   5131.832  ,   2397.3022 ,   1091.6    ,\n",
              "          1306.1682 ,    831.8463 ,    782.57825,    927.8177 ,\n",
              "           881.6134 ,    786.9767 ,    870.49304,    935.91516,\n",
              "           866.0367 ,    790.6295 ,   1033.8977 ,    960.3521 ,\n",
              "          1178.0741 ,   1465.8516 ,   1198.5431 ,    967.1162 ,\n",
              "          1297.7953 ,   1512.9988 ,    849.5374 ,   1585.1458 ,\n",
              "          1606.9529 ,   2030.3223 ,    983.3721 ,   1473.4524 ,\n",
              "          2322.2786 ,   1520.6521 ,   1509.0695 ,   1505.0974 ,\n",
              "          1423.8019 ,   1336.4792 ,   1321.0231 ,   1693.2169 ,\n",
              "          1099.1028 ,   1415.3268 ,   1334.1357 ,   1423.0675 ,\n",
              "          1292.8024 ,   1629.8473 ,   1309.7838 ,   1373.1478 ,\n",
              "          1357.199  ,   1433.683  ,   1283.5762 ,   1825.3145 ,\n",
              "          1311.7689 ,   1671.2236 ,   2460.4077 ,   1930.4135 ,\n",
              "          1432.7076 ,   2159.6064 ,   1744.8655 ,   2373.9836 ,\n",
              "          2291.6401 ,   2346.8257 ,   2047.1927 ,   2088.9749 ,\n",
              "          3108.8894 ,   2396.7566 ,   2786.1956 ,   4108.4673 ,\n",
              "          3037.7915 ,   1496.7949 ,   2193.6062 ,   1685.9475 ,\n",
              "          2155.7612 ,   1949.8151 ,   1097.6187 ,   1623.0105 ,\n",
              "          1844.3329 ,   2267.352  ,   1162.1768 ,   1425.8312 ,\n",
              "          2238.9272 ,   1499.6517 ,   1288.8535 ,   2333.1086 ,\n",
              "          1589.3563 ,    900.31824,   1600.1055 ,   5319.317  ,\n",
              "         10416.284  ,  19772.297  ,  19104.965  ,   9743.227  ,\n",
              "          9824.088  ,   1441.9933 ,   3407.798  ,   3266.3394 ,\n",
              "          2579.4846 ,   3420.6018 ,   3181.327  ,    735.7475 ,\n",
              "          1302.9287 ,   1881.7224 ,   1480.7762 ,    929.4569 ,\n",
              "           650.10016,   1183.1885 ,    781.40875,   1187.1174 ,\n",
              "          3144.1907 ,   1262.4973 ,    826.7569 ,   1165.697  ,\n",
              "          1395.4885 ,    827.65094,   1363.0323 ,   1789.1222 ,\n",
              "          1280.8167 ,    880.4029 ,    959.59906,   1187.849  ,\n",
              "           995.29535,   1658.3739 ,   1388.4824 ,    861.5011 ,\n",
              "          1467.6868 ,   2033.4509 ,   1323.0143 ,    848.3651 ,\n",
              "           930.53864,   1184.5619 ,   1006.5558 ,   1350.7952 ,\n",
              "          1387.2097 ,   1228.0586 ,    806.68884,   2083.4993 ,\n",
              "          1409.8683 ,   2330.323  ,   4217.1914 ,   2438.44   ,\n",
              "          1330.6776 ,   1358.7834 ,   1397.2926 ,   1275.1553 ,\n",
              "          1413.8787 ,   1803.113  ,   2426.7268 ,   1668.3303 ,\n",
              "           991.34686,   2392.9436 ,   1532.4271 ,   2755.7922 ,\n",
              "          2420.8113 ,   1791.1718 ,   2610.0593 ,   1487.2522 ,\n",
              "          2417.7512 ,   1514.9564 ,   1410.1193 ,   1254.2214 ,\n",
              "          1474.9531 ,   1783.3152 ,   1895.6376 ,   1394.637  ,\n",
              "          1212.8752 ,   1376.6049 ,   1920.489  ,   2178.0234 ,\n",
              "          3491.687  ,   3533.6157 ,   4761.0757 ,   6003.484  ,\n",
              "          5424.357  ,   2154.6384 ,   3056.7363 ,   1537.8688 ,\n",
              "          1414.4834 ,   1732.6467 ,   1770.0349 ,   2141.684  ,\n",
              "          1838.9773 ,   2758.6763 ,   2209.975  ,   2305.7065 ,\n",
              "          1332.012  ,   1515.2218 ,   1579.7057 ,   1404.8556 ,\n",
              "          1285.5746 ,   1720.2131 ,   1593.8058 ,   1668.6477 ,\n",
              "          2136.6724 ,   1585.1364 ,   1408.234  ,   1474.5251 ,\n",
              "          1564.3027 ,   1318.5764 ,   1507.2758 ,   1544.1074 ,\n",
              "          1395.1077 ,   1342.2493 ,   1357.583  ,   1359.9001 ,\n",
              "          1453.574  ,   1613.2623 ,   1765.0504 ,   1805.2249 ,\n",
              "          1530.2982 ,   1717.9395 ,   1268.6088 ,   1611.959  ,\n",
              "          1384.9564 ,   1371.8529 ,   1337.8015 ,   1346.9014 ,\n",
              "          1300.1022 ,   1390.7748 ,   1509.6691 ,   1298.2897 ,\n",
              "          1417.3722 ,   1588.4221 ,   1648.6024 ,   1340.8909 ,\n",
              "          2799.0881 ,   2368.0627 ,   3573.0234 ,   7220.103  ,\n",
              "          6172.524  ,   1976.3898 ,   2645.9631 ,   2612.0957 ,\n",
              "          3675.612  ,   4878.5522 ,   2393.7668 ,   2924.9875 ,\n",
              "          2675.7812 ,   2376.7039 ,   2379.8198 ,   2482.8562 ,\n",
              "          3080.5898 ,   2438.857  ,   3094.5984 ,   2548.8323 ,\n",
              "          3209.5056 ,   2554.334  ,   2373.0564 ,   2692.0066 ,\n",
              "          3556.4177 ,   2628.3767 ,   2450.9875 ,   3078.303  ,\n",
              "          2682.1934 ,   2403.024  ,   2799.3982 ,   2222.082  ,\n",
              "          2787.51   ,   2296.9001 ,   2648.6597 ,   2240.1975 ,\n",
              "          2583.386  ,   2410.6125 ,   2369.8105 ,   2842.5989 ,\n",
              "          2059.7014 ,   2687.1912 ,   2932.1086 ,   2284.1968 ,\n",
              "          2561.5437 ,   2918.7427 ,   2364.9133 ,   1980.7615 ,\n",
              "          2178.8972 ,   1864.871  ,   1643.5096 ,   2108.5513 ,\n",
              "          2365.6501 ,   2304.3264 ,   1707.5466 ,   1833.6172 ,\n",
              "          1817.6444 ,   2276.1638 ,   1740.3395 ,   2335.7163 ,\n",
              "          2214.0278 ,   2416.5386 ,   2788.1848 ,   2428.8206 ,\n",
              "          1582.6299 ,   1867.661  ,   1948.111  ,   1873.2542 ,\n",
              "          1707.2333 ,   1868.051  ,   1749.5588 ,   1870.42   ,\n",
              "          2042.2179 ,   1945.8822 ,   1829.459  ,   1899.1975 ,\n",
              "          2333.2234 ,   2398.0881 ,   2194.7058 ,   2535.7825 ,\n",
              "          2316.5383 ,   2323.1287 ,   1967.0898 ,   2557.3286 ,\n",
              "          2287.5222 ,   1957.0798 ,   3642.0237 ,   2843.0703 ,\n",
              "          3485.209  ,   5765.9688 ,   3643.8652 ,   3334.7344 ,\n",
              "          3209.201  ,   3188.39   ,   3836.217  ,   5661.1357 ,\n",
              "          5376.143  ,   3027.272  ,   3900.0598 ,   3244.3027 ,\n",
              "          3192.853  ,   3972.5793 ,   3676.0002 ,   4251.48   ,\n",
              "          7982.5303 ,   4331.45   ,   9888.962  ,   7633.9663 ,\n",
              "          6243.1626 ,   3601.9883 ,   5081.156  ,   4713.2104 ,\n",
              "          4447.2476 ,   4222.032  ,   4416.8623 ,   7122.777  ,\n",
              "          6983.927  ,   4660.8013 ,   5500.4897 ,   6535.702  ,\n",
              "          6947.73   ,   4938.7866 ,   6428.1753 ,   8615.853  ,\n",
              "          6392.8716 ,   9737.917  ,   7237.0464 ,  14781.068  ,\n",
              "          9071.274  ,   8769.667  ,   8760.006  ,   6040.096  ,\n",
              "          7889.105  ,   7567.3994 ,   6630.6963 ,   7674.858  ,\n",
              "          5256.939  ,   5440.5654 ,   6101.917  ,   5714.638  ,\n",
              "          6361.1104 ,   8541.04   ,  10879.094  ,   5278.6323 ,\n",
              "          8083.3896 ,  13189.92   ,  12587.01   ,  13250.174  ,\n",
              "          8204.674  ,   9360.49   ,   9013.752  ,  10729.502  ,\n",
              "         12203.731  ,   9752.048  ,  13467.799  ,  16695.78   ,\n",
              "         19703.129  ,  10323.768  ,  15102.603  ,  23714.066  ,\n",
              "         15787.958  ,  21837.594  ,  43612.875  ,  22544.188  ,\n",
              "         78058.836  ,  49315.34   ,  40828.883  ,  31202.     ,\n",
              "         29228.326  ,  25589.51   ,  20875.11   ,  47300.637  ,\n",
              "         39344.098  ,  92394.984  ,  34018.95   ,  35901.41   ,\n",
              "         20905.795  ,  34007.14   ,  29069.184  ,  47790.555  ,\n",
              "         29481.018  ,  96642.805  , 128053.9    ,  56575.652  ,\n",
              "         21015.691  ,  40453.05   ,  16258.599  ,  39486.918  ,\n",
              "         59474.383  ,  44256.438  ,  17910.236  ,  27438.66   ,\n",
              "         23106.342  ,  39721.68   ,  29560.201  ,  29671.623  ,\n",
              "         85578.484  ,  68052.375  , 117814.27   , 127206.305  ,\n",
              "         77711.62   , 101009.54   ,  51857.883  ,  50494.668  ,\n",
              "         59195.355  ,  62437.742  ,  52074.277  ,  67309.02   ,\n",
              "        108981.7    , 123521.93   , 121616.32   ,  87170.21   ,\n",
              "         71655.54   ,  53186.086  , 115716.13   , 113541.05   ,\n",
              "         99620.77   ,  95820.516  ,  86489.56   , 119516.625  ,\n",
              "        163146.4    , 137148.28   ,  78735.74   , 108210.695  ,\n",
              "         45091.285  ,  70369.63   ,  44110.93   ,  52362.168  ,\n",
              "         53162.637  ,  72165.48   ,  49064.723  ,  70644.61   ,\n",
              "        105407.33   ,  69446.29   ,  99149.43   ,  71108.695  ,\n",
              "        118642.37   ,  60054.535  ,  55883.926  ,  70493.37   ,\n",
              "         51514.27   ,  77985.086  ,  78661.33   ,  65692.38   ,\n",
              "         47953.105  ,  91828.81   ,  65205.543  ,  72738.95   ,\n",
              "         62610.855  ,  67234.98   ,  49561.742  ,  54534.633  ,\n",
              "         52910.07   ,  54612.66   ,  62303.715  ,  75467.82   ,\n",
              "         47204.21   ,  62565.07   ,  74157.125  ,  67890.07   ,\n",
              "         63643.836  ,  58717.02   ,  75208.086  , 107475.734  ,\n",
              "         80336.125  ,  60000.254  ,  69232.02   ,  49591.543  ,\n",
              "         60410.445  ,  67333.5    ,  99544.164  ,  52020.527  ,\n",
              "         40815.594  ,  94501.02   ,  68054.89   ,  89541.555  ,\n",
              "        151388.11   , 123594.29   ,  49321.49   ,  75158.625  ,\n",
              "        127358.15   ,  77013.68   , 113816.39   ,  90819.914  ,\n",
              "        143169.45   , 138199.86   ,  92897.38   ,  53292.723  ,\n",
              "         79639.74   ,  63280.934  ,  72673.02   ,  97385.98   ,\n",
              "         68328.805  ,  46892.098  , 104779.19   ], dtype=float32),\n",
              " 'rmse': array([ 43.505898,  35.904198,  40.62735 ,  33.280178,  33.697735,\n",
              "         36.16331 ,  38.32874 ,  34.619907,  33.117756,  39.244884,\n",
              "         30.626802,  33.237717,  42.307747,  40.700516,  36.704163,\n",
              "         42.043007,  41.44374 ,  40.21981 ,  35.56379 ,  34.681194,\n",
              "         28.092813,  32.60672 ,  30.709444,  30.358793,  32.60891 ,\n",
              "         32.411053,  29.326303,  28.63346 ,  29.587479,  28.330587,\n",
              "         31.005707,  30.705086,  30.733925,  29.12841 ,  39.70042 ,\n",
              "         35.59267 ,  46.6894  ,  71.6368  ,  48.962254,  33.03937 ,\n",
              "         36.14095 ,  28.841745,  27.9746  ,  30.4601  ,  29.691975,\n",
              "         28.053104,  29.50412 ,  30.592731,  29.428501,  28.118135,\n",
              "         32.15428 ,  30.989548,  34.323086,  38.28644 ,  34.61998 ,\n",
              "         31.098492,  36.024925,  38.897285,  29.146826,  39.81389 ,\n",
              "         40.08682 ,  45.059097,  31.358765,  38.385574,  48.190025,\n",
              "         38.99554 ,  38.846745,  38.795586,  37.7333  ,  36.557888,\n",
              "         36.345882,  41.148716,  33.152718,  37.62083 ,  36.52582 ,\n",
              "         37.723568,  35.955563,  40.37137 ,  36.190937,  37.05601 ,\n",
              "         36.840183,  37.864006,  35.82703 ,  42.723698,  36.21835 ,\n",
              "         40.880604,  49.602497,  43.93647 ,  37.851124,  46.471565,\n",
              "         41.771587,  48.72354 ,  47.87108 ,  48.444046,  45.245914,\n",
              "         45.705303,  55.757416,  48.95668 ,  52.784424,  64.09733 ,\n",
              "         55.116165,  38.688435,  46.83595 ,  41.06029 ,  46.430176,\n",
              "         44.15671 ,  33.13033 ,  40.286606,  42.945698,  47.616722,\n",
              "         34.090714,  37.76018 ,  47.317303,  38.725338,  35.900604,\n",
              "         48.302265,  39.866734,  30.005304,  40.00132 ,  72.93365 ,\n",
              "        102.060196, 140.614   , 138.2207  ,  98.70779 ,  99.11654 ,\n",
              "         37.973587,  58.37635 ,  57.151897,  50.788628,  58.485912,\n",
              "         56.40325 ,  27.124666,  36.096104,  43.378826,  38.480854,\n",
              "         30.486996,  25.497063,  34.397507,  27.95369 ,  34.45457 ,\n",
              "         56.073082,  35.53164 ,  28.75338 ,  34.142307,  37.35624 ,\n",
              "         28.768923,  36.91927 ,  42.298016,  35.788498,  29.671583,\n",
              "         30.977396,  34.465187,  31.548302,  40.723137,  37.262344,\n",
              "         29.35134 ,  38.310402,  45.0938  ,  36.373264,  29.126707,\n",
              "         30.504732,  34.417465,  31.726263,  36.753166,  37.245266,\n",
              "         35.043667,  28.402267,  45.645363,  37.548214,  48.27342 ,\n",
              "         64.9399  ,  49.38056 ,  36.478455,  36.86168 ,  37.38038 ,\n",
              "         35.709316,  37.601578,  42.463078,  49.261818,  40.8452  ,\n",
              "         31.48566 ,  48.917725,  39.14623 ,  52.49564 ,  49.20174 ,\n",
              "         42.32224 ,  51.08874 ,  38.564907,  49.170635,  38.92244 ,\n",
              "         37.551556,  35.41499 ,  38.405117,  42.229317,  43.53892 ,\n",
              "         37.344837,  34.82636 ,  37.102627,  43.823383,  46.6693  ,\n",
              "         59.0905  ,  59.444225,  69.00055 ,  77.482155,  73.65023 ,\n",
              "         46.418083,  55.287758,  39.21567 ,  37.60962 ,  41.625072,\n",
              "         42.07178 ,  46.27833 ,  42.883297,  52.5231  ,  47.010372,\n",
              "         48.017773,  36.49674 ,  38.92585 ,  39.74551 ,  37.481403,\n",
              "         35.85491 ,  41.475452,  39.922497,  40.849083,  46.22415 ,\n",
              "         39.81377 ,  37.526443,  38.399548,  39.551266,  36.312206,\n",
              "         38.82365 ,  39.29513 ,  37.35114 ,  36.63672 ,  36.845394,\n",
              "         36.876823,  38.125767,  40.165436,  42.012505,  42.487938,\n",
              "         39.119026,  41.448032,  35.617535,  40.149208,  37.215004,\n",
              "         37.038532,  36.57597 ,  36.700153,  36.05693 ,  37.293095,\n",
              "         38.85446 ,  36.031788,  37.648003,  39.855015,  40.602985,\n",
              "         36.618176,  52.90641 ,  48.662746,  59.774773,  84.97119 ,\n",
              "         78.565414,  44.456604,  51.438927,  51.108665,  60.626827,\n",
              "         69.846634,  48.926136,  54.083153,  51.727955,  48.75145 ,\n",
              "         48.783398,  49.828266,  55.503063,  49.384785,  55.629116,\n",
              "         50.485962,  56.6525  ,  50.54042 ,  48.714027,  51.884552,\n",
              "         59.635708,  51.267696,  49.50745 ,  55.482456,  51.789898,\n",
              "         49.02065 ,  52.90934 ,  47.138966,  52.796875,  47.925987,\n",
              "         51.46513 ,  47.330727,  50.82702 ,  49.09799 ,  48.6807  ,\n",
              "         53.31603 ,  45.383934,  51.838123,  54.14895 ,  47.79327 ,\n",
              "         50.611694,  54.02539 ,  48.630375,  44.505745,  46.678658,\n",
              "         43.18415 ,  40.540222,  45.918964,  48.63795 ,  48.0034  ,\n",
              "         41.32247 ,  42.820755,  42.633842,  47.70916 ,  41.717377,\n",
              "         48.32925 ,  47.053455,  49.158302,  52.803265,  49.283066,\n",
              "         39.78228 ,  43.216442,  44.13741 ,  43.281105,  41.31868 ,\n",
              "         43.220955,  41.82773 ,  43.248352,  45.190907,  44.112156,\n",
              "         42.772175,  43.579784,  48.30345 ,  48.97028 ,  46.847687,\n",
              "         50.356552,  48.130432,  48.198845,  44.351887,  50.570038,\n",
              "         47.82805 ,  44.238895,  60.349182,  53.32045 ,  59.03566 ,\n",
              "         75.933975,  60.364437,  57.747158,  56.64981 ,  56.465828,\n",
              "         61.937202,  75.24052 ,  73.32219 ,  55.02065 ,  62.45046 ,\n",
              "         56.958782,  56.505337,  63.0284  ,  60.630028,  65.20338 ,\n",
              "         89.34501 ,  65.81375 ,  99.44326 ,  87.372574,  79.01369 ,\n",
              "         60.016567,  71.28223 ,  68.652824,  66.68768 ,  64.977165,\n",
              "         66.45948 ,  84.396545,  83.56989 ,  68.27006 ,  74.16528 ,\n",
              "         80.84369 ,  83.35304 ,  70.276505,  80.1759  ,  92.82162 ,\n",
              "         79.95544 ,  98.680885,  85.07083 , 121.577415,  95.24324 ,\n",
              "         93.6465  ,  93.5949  ,  77.718056,  88.82063 ,  86.9908  ,\n",
              "         81.429085,  87.60627 ,  72.50475 ,  73.760185,  78.11477 ,\n",
              "         75.59522 ,  79.75657 ,  92.41775 , 104.302895,  72.6542  ,\n",
              "         89.90768 , 114.847374, 112.19184 , 115.1094  ,  90.57965 ,\n",
              "         96.749626,  94.94078 , 103.58331 , 110.4705  ,  98.75246 ,\n",
              "        116.05084 , 129.21214 , 140.36783 , 101.60594 , 122.89265 ,\n",
              "        153.99373 , 125.65014 , 147.77548 , 208.83696 , 150.14722 ,\n",
              "        279.3901  , 222.07057 , 202.06158 , 176.64088 , 170.96294 ,\n",
              "        159.96721 , 144.48221 , 217.48709 , 198.35347 , 303.96542 ,\n",
              "        184.44226 , 189.47667 , 144.58836 , 184.41025 , 170.49687 ,\n",
              "        218.6105  , 171.70038 , 310.87427 , 357.8462  , 237.85637 ,\n",
              "        144.9679  , 201.12944 , 127.50921 , 198.71315 , 243.8737  ,\n",
              "        210.37215 , 133.82913 , 165.6462  , 152.0077  , 199.30298 ,\n",
              "        171.9308  , 172.25453 , 292.538   , 260.8685  , 343.24084 ,\n",
              "        356.65994 , 278.76804 , 317.81998 , 227.72327 , 224.71019 ,\n",
              "        243.30095 , 249.87546 , 228.19789 , 259.43982 , 330.12378 ,\n",
              "        351.45688 , 348.73532 , 295.24603 , 267.68552 , 230.6211  ,\n",
              "        340.17075 , 336.95853 , 315.6276  , 309.5489  , 294.09106 ,\n",
              "        345.71176 , 403.91385 , 370.33536 , 280.5989  , 328.95395 ,\n",
              "        212.34709 , 265.27277 , 210.02602 , 228.82782 , 230.57024 ,\n",
              "        268.63632 , 221.50558 , 265.79053 , 324.66495 , 263.52664 ,\n",
              "        314.88004 , 266.66214 , 344.445   , 245.06027 , 236.39781 ,\n",
              "        265.50586 , 226.96754 , 279.2581  , 280.46628 , 256.30527 ,\n",
              "        218.98198 , 303.03268 , 255.35376 , 269.7016  , 250.22162 ,\n",
              "        259.2971  , 222.62466 , 233.52652 , 230.0219  , 233.69351 ,\n",
              "        249.60712 , 274.71408 , 217.2653  , 250.13011 , 272.31805 ,\n",
              "        260.55722 , 252.2773  , 242.31595 , 274.24094 , 327.83493 ,\n",
              "        283.43628 , 244.9495  , 263.11978 , 222.69159 , 245.78537 ,\n",
              "        259.487   , 315.5062  , 228.0801  , 202.0287  , 307.4102  ,\n",
              "        260.87332 , 299.23495 , 389.08624 , 351.55978 , 222.08441 ,\n",
              "        274.15073 , 356.87274 , 277.5134  , 337.36685 , 301.36343 ,\n",
              "        378.37738 , 371.7524  , 304.7907  , 230.85217 , 282.20514 ,\n",
              "        251.55702 , 269.57935 , 312.06726 , 261.3978  , 216.54584 ,\n",
              "        323.69614 ], dtype=float32),\n",
              " 'mape': array([0.47880992, 0.37303433, 0.41142172, 0.34084994, 0.34145123,\n",
              "        0.39478013, 0.4231264 , 0.40216786, 0.37694007, 0.44826525,\n",
              "        0.37864867, 0.35811564, 0.5210164 , 0.48935288, 0.42064846,\n",
              "        0.49712485, 0.46243364, 0.5187766 , 0.41731015, 0.4260209 ,\n",
              "        0.3244016 , 0.38624358, 0.3617996 , 0.36454538, 0.38438743,\n",
              "        0.38983074, 0.355142  , 0.34114003, 0.3677852 , 0.3447341 ,\n",
              "        0.38072696, 0.38736388, 0.3840745 , 0.3830467 , 0.49385503,\n",
              "        0.36093295, 0.5432511 , 0.7948879 , 0.62645996, 0.4038185 ,\n",
              "        0.45954427, 0.34767506, 0.33674076, 0.37321135, 0.3626808 ,\n",
              "        0.34087244, 0.36406985, 0.38755766, 0.3594406 , 0.3509375 ,\n",
              "        0.3633993 , 0.38059342, 0.4472713 , 0.44068167, 0.3712664 ,\n",
              "        0.35794404, 0.41553104, 0.41509154, 0.30563736, 0.4415136 ,\n",
              "        0.4289089 , 0.4532073 , 0.27682292, 0.42589056, 0.49704602,\n",
              "        0.37826434, 0.3993162 , 0.38396445, 0.3747891 , 0.39265925,\n",
              "        0.36481985, 0.41473815, 0.33541578, 0.38161135, 0.36366785,\n",
              "        0.3772927 , 0.36323464, 0.39856896, 0.3477518 , 0.35793278,\n",
              "        0.3441361 , 0.3820333 , 0.34009367, 0.3774022 , 0.3191949 ,\n",
              "        0.37108108, 0.47386295, 0.39193746, 0.30950356, 0.39094734,\n",
              "        0.36875212, 0.46554628, 0.38542506, 0.43054032, 0.39485195,\n",
              "        0.3949911 , 0.5018436 , 0.37854618, 0.45604074, 0.553324  ,\n",
              "        0.5292872 , 0.3622262 , 0.44318256, 0.3963814 , 0.43656182,\n",
              "        0.40868893, 0.28891027, 0.4281978 , 0.41014835, 0.45226133,\n",
              "        0.31673875, 0.37903056, 0.48017102, 0.4046109 , 0.33967298,\n",
              "        0.48797494, 0.41585335, 0.2905211 , 0.44253477, 0.6294748 ,\n",
              "        1.0443804 , 1.5006269 , 1.6834031 , 1.2490402 , 1.5904384 ,\n",
              "        0.60267514, 1.0111022 , 0.88682073, 0.83076525, 0.8554826 ,\n",
              "        0.8882021 , 0.35672176, 0.54472715, 0.57278347, 0.55230314,\n",
              "        0.40793508, 0.3601659 , 0.4498976 , 0.37134847, 0.43431404,\n",
              "        0.7391156 , 0.49435312, 0.36554232, 0.47585598, 0.49246916,\n",
              "        0.3044803 , 0.44900045, 0.51111144, 0.49697235, 0.36982208,\n",
              "        0.36970478, 0.44762582, 0.3930365 , 0.55652016, 0.4787345 ,\n",
              "        0.31714743, 0.47087908, 0.5365155 , 0.5045024 , 0.36243153,\n",
              "        0.34450668, 0.4056803 , 0.34932443, 0.46096087, 0.47656795,\n",
              "        0.44134036, 0.31883365, 0.5064681 , 0.3572248 , 0.52234656,\n",
              "        0.64274156, 0.5435604 , 0.37354216, 0.36758402, 0.3400346 ,\n",
              "        0.32032466, 0.35182685, 0.41217884, 0.48341653, 0.38265687,\n",
              "        0.26862198, 0.45199016, 0.356915  , 0.53927666, 0.4702261 ,\n",
              "        0.41519287, 0.48632497, 0.37468535, 0.48605922, 0.3703396 ,\n",
              "        0.34808683, 0.32181382, 0.38452238, 0.39708573, 0.43664986,\n",
              "        0.3405728 , 0.32115275, 0.35676745, 0.41921908, 0.4650685 ,\n",
              "        0.566521  , 0.4724904 , 0.65446484, 0.6599888 , 0.68236864,\n",
              "        0.4554432 , 0.5272798 , 0.37045366, 0.3425198 , 0.38264462,\n",
              "        0.3541156 , 0.40706113, 0.3941611 , 0.5180058 , 0.42198324,\n",
              "        0.44849664, 0.33861127, 0.37194163, 0.3788738 , 0.35131598,\n",
              "        0.33686355, 0.36267346, 0.36381924, 0.39247715, 0.43964064,\n",
              "        0.35793638, 0.36097983, 0.36740753, 0.37418997, 0.35239032,\n",
              "        0.37964693, 0.3848762 , 0.3613384 , 0.34945917, 0.35742724,\n",
              "        0.35321954, 0.36480385, 0.3668559 , 0.39676827, 0.40213215,\n",
              "        0.36708915, 0.41720602, 0.32833096, 0.39088476, 0.35885897,\n",
              "        0.36233434, 0.35690027, 0.35605872, 0.35089922, 0.36592498,\n",
              "        0.37090644, 0.3409384 , 0.35647333, 0.3737971 , 0.38028818,\n",
              "        0.32996565, 0.44858745, 0.31099975, 0.47082523, 0.6763072 ,\n",
              "        0.6501049 , 0.36010197, 0.40987158, 0.38819385, 0.4954686 ,\n",
              "        0.5327263 , 0.36923283, 0.42413756, 0.38967246, 0.36407864,\n",
              "        0.37320948, 0.34596664, 0.40102628, 0.37415344, 0.45938987,\n",
              "        0.36807176, 0.44505647, 0.34642687, 0.31914973, 0.3914453 ,\n",
              "        0.44773817, 0.40830258, 0.34521338, 0.42724976, 0.3860657 ,\n",
              "        0.3508275 , 0.40436754, 0.35769898, 0.4145984 , 0.34829322,\n",
              "        0.38938156, 0.3547937 , 0.38085818, 0.33463633, 0.39797765,\n",
              "        0.42122197, 0.38177088, 0.38472563, 0.4480274 , 0.42337716,\n",
              "        0.4096878 , 0.49410447, 0.44879377, 0.3568494 , 0.39973414,\n",
              "        0.34766182, 0.32823098, 0.3895378 , 0.4008256 , 0.39850426,\n",
              "        0.33339274, 0.351903  , 0.3545746 , 0.38721177, 0.33646455,\n",
              "        0.36153862, 0.38931656, 0.42743725, 0.43712318, 0.3949701 ,\n",
              "        0.31284034, 0.3644455 , 0.36284158, 0.35922068, 0.34550777,\n",
              "        0.36008662, 0.3501263 , 0.36767623, 0.38520756, 0.35747615,\n",
              "        0.35944477, 0.35211533, 0.39877403, 0.37791327, 0.3531266 ,\n",
              "        0.4060429 , 0.36357215, 0.39640847, 0.3368513 , 0.39530662,\n",
              "        0.35471302, 0.33524486, 0.4325482 , 0.3624415 , 0.44516638,\n",
              "        0.53446496, 0.4412684 , 0.39756182, 0.3578971 , 0.33874586,\n",
              "        0.38898325, 0.5096158 , 0.5042398 , 0.36279076, 0.4175662 ,\n",
              "        0.36123246, 0.3633413 , 0.3366772 , 0.3475452 , 0.41029373,\n",
              "        0.51425683, 0.36457592, 0.516424  , 0.47728592, 0.43501976,\n",
              "        0.3222391 , 0.40757725, 0.39175037, 0.32849434, 0.3491523 ,\n",
              "        0.3361572 , 0.45604035, 0.42333752, 0.34630245, 0.35608783,\n",
              "        0.39810437, 0.38183385, 0.29905635, 0.3766124 , 0.43450123,\n",
              "        0.3396234 , 0.47212207, 0.37774432, 0.6208749 , 0.45142165,\n",
              "        0.43894187, 0.48680097, 0.35808593, 0.43044585, 0.43401128,\n",
              "        0.36038277, 0.41345474, 0.34234354, 0.35244545, 0.355291  ,\n",
              "        0.34535065, 0.37009946, 0.4457138 , 0.44305763, 0.27846262,\n",
              "        0.39517778, 0.46688825, 0.4840149 , 0.46624178, 0.33165586,\n",
              "        0.38514692, 0.33223474, 0.37555018, 0.36636457, 0.32455823,\n",
              "        0.42621502, 0.47605202, 0.47382346, 0.29238492, 0.3881347 ,\n",
              "        0.44681057, 0.36799818, 0.4273638 , 0.58035576, 0.38147575,\n",
              "        0.6446546 , 0.55220246, 0.48481408, 0.39819047, 0.4003245 ,\n",
              "        0.33830404, 0.26203233, 0.5067262 , 0.47098616, 0.7733799 ,\n",
              "        0.46027294, 0.4503862 , 0.34814408, 0.4680963 , 0.41032204,\n",
              "        0.58708715, 0.4046848 , 0.74157083, 0.85987586, 0.5926271 ,\n",
              "        0.4085552 , 0.56024903, 0.3203073 , 0.55030894, 0.63429254,\n",
              "        0.53290874, 0.3244714 , 0.41254628, 0.363833  , 0.5165356 ,\n",
              "        0.38453484, 0.38141346, 0.60804284, 0.588213  , 0.7330204 ,\n",
              "        0.6858268 , 0.52443415, 0.5590126 , 0.38034874, 0.4100311 ,\n",
              "        0.43369612, 0.42965895, 0.43590805, 0.39001548, 0.5612317 ,\n",
              "        0.6081049 , 0.5501195 , 0.55027777, 0.3869438 , 0.3605882 ,\n",
              "        0.581962  , 0.5393749 , 0.6037529 , 0.5931156 , 0.5167339 ,\n",
              "        0.67527986, 0.70837915, 0.71928835, 0.5130342 , 0.6066977 ,\n",
              "        0.3787693 , 0.4168825 , 0.3378031 , 0.38435173, 0.37428108,\n",
              "        0.39374554, 0.31081715, 0.41152287, 0.48009712, 0.34609786,\n",
              "        0.46694154, 0.39625108, 0.56201744, 0.3994572 , 0.3469293 ,\n",
              "        0.40332106, 0.33440185, 0.46394715, 0.418207  , 0.39220908,\n",
              "        0.34025943, 0.4746226 , 0.42319527, 0.4480694 , 0.36155894,\n",
              "        0.39191902, 0.3381253 , 0.35501432, 0.3419138 , 0.3651506 ,\n",
              "        0.3823292 , 0.40235826, 0.3136532 , 0.37977818, 0.41614488,\n",
              "        0.39599192, 0.3498782 , 0.32540098, 0.39589795, 0.4755949 ,\n",
              "        0.43271837, 0.34128767, 0.37952378, 0.3166177 , 0.40497178,\n",
              "        0.40629074, 0.535615  , 0.38658872, 0.32566243, 0.53534865,\n",
              "        0.44521955, 0.5492591 , 0.6300383 , 0.5343318 , 0.33665815,\n",
              "        0.4439985 , 0.553337  , 0.40862906, 0.5071532 , 0.4466468 ,\n",
              "        0.59925556, 0.5583858 , 0.46287528, 0.36289293, 0.43197027,\n",
              "        0.3245352 , 0.43517187, 0.48749256, 0.48011577, 0.41233882,\n",
              "        0.6035917 ], dtype=float32),\n",
              " 'mase': 0.15565796}"
            ]
          },
          "metadata": {},
          "execution_count": 83
        }
      ]
    },
    {
      "cell_type": "markdown",
      "source": [
        "## Make our evaluation function work for larger horizons\n"
      ],
      "metadata": {
        "id": "GK17VlCgANNX"
      }
    },
    {
      "cell_type": "code",
      "source": [
        "# Create a function to evaluate model forecasts with various metrics\n",
        "def evaluate_preds(y_true, y_pred):\n",
        "  \"\"\"\n",
        "  Evaluates model predictions with various metrics.\n",
        "\n",
        "  Parameters:\n",
        "      y_true (tf.Tensor): True values of the target variable.\n",
        "      y_pred (tf.Tensor): Predicted values of the target variable.\n",
        "\n",
        "  Returns:\n",
        "      A dictionary of evaluation metrics, including:\n",
        "          - 'mae': mean absolute error\n",
        "          - 'mse': mean squared error\n",
        "          - 'rmse': root mean squared error\n",
        "          - 'mape': mean absolute percentage error\n",
        "          - 'mase': mean absolute scaled error\n",
        "  \"\"\"\n",
        "  # Make sure float32 datatype\n",
        "  y_true = tf.cast(y_true, dtype=tf.float32)\n",
        "  y_pred = tf.cast(y_pred, dtype=tf.float32)\n",
        "\n",
        "  # Calculate various evaluation metrics\n",
        "  mae = tf.keras.metrics.mean_absolute_error(y_true, y_pred)\n",
        "  mse = tf.keras.metrics.mean_squared_error(y_true, y_pred)\n",
        "  rmse = tf.sqrt(mse)\n",
        "  mape = tf.keras.metrics.mean_absolute_percentage_error(y_true, y_pred)\n",
        "  mase = mean_absolute_scaled_error(y_true, y_pred)\n",
        "\n",
        "  # Account for different sized metrics (for longer horizons, we want to reduce metrics to a single value)\n",
        "  if mae.ndim > 0:\n",
        "    mae = tf.reduce_mean(mae)\n",
        "    mse = tf.reduce_mean(mse)\n",
        "    rmse = tf.reduce_mean(rmse)\n",
        "    mape = tf.reduce_mean(mape)\n",
        "    mase = tf.reduce_mean(mase)\n",
        "\n",
        "  return {\"mae\": mae.numpy(),\n",
        "          \"mse\": mse.numpy(),\n",
        "          \"rmse\": rmse.numpy(),\n",
        "          \"mape\": mape.numpy(),\n",
        "          \"mase\": mase.numpy()}"
      ],
      "metadata": {
        "id": "IC0lF9SWBg1T"
      },
      "execution_count": 84,
      "outputs": []
    },
    {
      "cell_type": "code",
      "source": [
        "# Get model_3 results\n",
        "model_3_results = evaluate_preds(tf.squeeze(test_labels), model_3_preds)\n",
        "model_3_results"
      ],
      "metadata": {
        "colab": {
          "base_uri": "https://localhost:8080/"
        },
        "id": "0wWI0hIsDW-f",
        "outputId": "9cf9bda4-4060-4d20-870b-1b860d7a7cdb"
      },
      "execution_count": 87,
      "outputs": [
        {
          "output_type": "execute_result",
          "data": {
            "text/plain": [
              "{'mae': 87.47562,\n",
              " 'mse': 19251.734,\n",
              " 'rmse': 100.87801,\n",
              " 'mape': 0.43268153,\n",
              " 'mase': 0.15565796}"
            ]
          },
          "metadata": {},
          "execution_count": 87
        }
      ]
    },
    {
      "cell_type": "code",
      "source": [
        "model_2_results"
      ],
      "metadata": {
        "colab": {
          "base_uri": "https://localhost:8080/"
        },
        "id": "dFCRSea4DjHu",
        "outputId": "bee45464-4fe3-4002-dacc-67ed11a52b0f"
      },
      "execution_count": 86,
      "outputs": [
        {
          "output_type": "execute_result",
          "data": {
            "text/plain": [
              "{'mae': 603.92426,\n",
              " 'mse': 1258424.6,\n",
              " 'rmse': 1121.7953,\n",
              " 'mape': 2.7289286,\n",
              " 'mase': 1.0556654}"
            ]
          },
          "metadata": {},
          "execution_count": 86
        }
      ]
    },
    {
      "cell_type": "code",
      "source": [
        "offset = 300\n",
        "plt.figure(figsize=(10, 7))\n",
        "plot_time_series(timesteps=X_test[-len(test_windows):], values=test_labels[:, 0], format=\"-\", start=offset, label=\"Test Data\")\n",
        "plot_time_series(timesteps=X_test[-len(test_windows):], values=model_3_preds, start=offset, label=\"model_3_preds\")"
      ],
      "metadata": {
        "colab": {
          "base_uri": "https://localhost:8080/",
          "height": 442
        },
        "id": "9vnjT26aDmTs",
        "outputId": "83c4d834-ec6b-42bd-b9ea-6c37ab493697"
      },
      "execution_count": 89,
      "outputs": [
        {
          "output_type": "display_data",
          "data": {
            "text/plain": [
              "<Figure size 720x504 with 1 Axes>"
            ],
            "image/png": "[encoded data removed]"
          },
          "metadata": {
            "needs_background": "light"
          }
        }
      ]
    },
    {
      "cell_type": "code",
      "source": [
        "offset = 300\n",
        "plt.figure(figsize=(10, 7))\n",
        "plot_time_series(timesteps=X_test[-len(test_windows):], values=test_labels[:, 0], start=offset, label=\"Test Data\")\n",
        "plot_time_series(timesteps=X_test[-len(test_windows):], values=tf.reduce_mean(model_3_preds, axis=1), format=\"-\", start=offset, label=\"model_3_preds\")"
      ],
      "metadata": {
        "colab": {
          "base_uri": "https://localhost:8080/",
          "height": 442
        },
        "id": "axjhMFUaFIdZ",
        "outputId": "17ae3ded-620b-4eb8-f9ea-9a01253c16bd"
      },
      "execution_count": 92,
      "outputs": [
        {
          "output_type": "display_data",
          "data": {
            "text/plain": [
              "<Figure size 720x504 with 1 Axes>"
            ],
            "image/png": "[encoded data removed]"
          },
          "metadata": {
            "needs_background": "light"
          }
        }
      ]
    },
    {
      "cell_type": "code",
      "source": [],
      "metadata": {
        "id": "8cZNc9MOIAow"
      },
      "execution_count": null,
      "outputs": []
    }
  ]
}