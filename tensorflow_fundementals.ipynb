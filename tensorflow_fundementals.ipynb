{
  "nbformat": 4,
  "nbformat_minor": 0,
  "metadata": {
    "colab": {
      "provenance": [],
      "authorship_tag": "ABX9TyOaewoH3I3OKse4D0treYgb",
      "include_colab_link": true
    },
    "kernelspec": {
      "name": "python3",
      "display_name": "Python 3"
    },
    "language_info": {
      "name": "python"
    }
  },
  "cells": [
    {
      "cell_type": "markdown",
      "metadata": {
        "id": "view-in-github",
        "colab_type": "text"
      },
      "source": [
        "<a href=\"https://colab.research.google.com/github/redrum88/tensorflow/blob/main/tensorflow_fundementals.ipynb\" target=\"_parent\"><img src=\"https://colab.research.google.com/assets/colab-badge.svg\" alt=\"Open In Colab\"/></a>"
      ]
    },
    {
      "cell_type": "markdown",
      "source": [
        "# 00. Getting started with TensorFlow: A guide to the fundamentals"
      ],
      "metadata": {
        "id": "YRELZUz1HzUX"
      }
    },
    {
      "cell_type": "code",
      "source": [],
      "metadata": {
        "id": "CWOWs_izIRSt"
      },
      "execution_count": null,
      "outputs": []
    }
  ]
}